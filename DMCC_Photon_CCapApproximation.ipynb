{
 "cells": [
  {
   "cell_type": "markdown",
   "metadata": {},
   "source": [
    "# CCap Approximation Notebook"
   ]
  },
  {
   "cell_type": "markdown",
   "metadata": {},
   "source": [
    "## Initialize the Notebook"
   ]
  },
  {
   "cell_type": "code",
   "execution_count": 1,
   "metadata": {
    "ExecuteTime": {
     "end_time": "2018-03-26T22:41:05.290867Z",
     "start_time": "2018-03-26T22:41:04.637045Z"
    }
   },
   "outputs": [
    {
     "name": "stdout",
     "output_type": "stream",
     "text": [
      "Complete\n"
     ]
    }
   ],
   "source": [
    "import io, os, sys, types\n",
    "\n",
    "from IPython import get_ipython\n",
    "from nbformat import read\n",
    "from IPython.core.interactiveshell import InteractiveShell\n",
    "\n",
    "def find_notebook(fullname, path=None):\n",
    "    \"\"\"find a notebook, given its fully qualified name and an optional path\n",
    "\n",
    "    This turns \"foo.bar\" into \"foo/bar.ipynb\"\n",
    "    and tries turning \"Foo_Bar\" into \"Foo Bar\" if Foo_Bar\n",
    "    does not exist.\n",
    "    \"\"\"\n",
    "    name = fullname.rsplit('.', 1)[-1]\n",
    "    if not path:\n",
    "        path = ['']\n",
    "    for d in path:\n",
    "        nb_path = os.path.join(d, name + \".ipynb\")\n",
    "        if os.path.isfile(nb_path):\n",
    "            return nb_path\n",
    "        # let import Notebook_Name find \"Notebook Name.ipynb\"\n",
    "        nb_path = nb_path.replace(\"_\", \" \")\n",
    "        if os.path.isfile(nb_path):\n",
    "            return nb_path\n",
    "        \n",
    "class NotebookLoader(object):\n",
    "    \"\"\"Module Loader for Jupyter Notebooks\"\"\"\n",
    "    def __init__(self, path=None):\n",
    "        self.shell = InteractiveShell.instance()\n",
    "        self.path = path\n",
    "\n",
    "    def load_module(self, fullname):\n",
    "        \"\"\"import a notebook as a module\"\"\"\n",
    "        path = find_notebook(fullname, self.path)\n",
    "\n",
    "        print (\"importing Jupyter notebook from %s\" % path)\n",
    "\n",
    "        # load the notebook object\n",
    "        with io.open(path, 'r', encoding='utf-8') as f:\n",
    "            nb = read(f, 4)\n",
    "\n",
    "\n",
    "        # create the module and add it to sys.modules\n",
    "        # if name in sys.modules:\n",
    "        #    return sys.modules[name]\n",
    "        mod = types.ModuleType(fullname)\n",
    "        mod.__file__ = path\n",
    "        mod.__loader__ = self\n",
    "        mod.__dict__['get_ipython'] = get_ipython\n",
    "        sys.modules[fullname] = mod\n",
    "\n",
    "        # extra work to ensure that magics that would affect the user_ns\n",
    "        # actually affect the notebook module's ns\n",
    "        save_user_ns = self.shell.user_ns\n",
    "        self.shell.user_ns = mod.__dict__\n",
    "\n",
    "        try:\n",
    "            for cell in nb.cells:\n",
    "                if cell.cell_type == 'code':\n",
    "                    # transform the input to executable Python\n",
    "                    code = self.shell.input_transformer_manager.transform_cell(cell.source)\n",
    "                    # run the code in themodule\n",
    "                    exec(code, mod.__dict__)\n",
    "        finally:\n",
    "            self.shell.user_ns = save_user_ns\n",
    "        return mod\n",
    "\n",
    "    \n",
    "class NotebookFinder(object):\n",
    "    \"\"\"Module finder that locates Jupyter Notebooks\"\"\"\n",
    "    def __init__(self):\n",
    "        self.loaders = {}\n",
    "\n",
    "    def find_module(self, fullname, path=None):\n",
    "        nb_path = find_notebook(fullname, path)\n",
    "        if not nb_path:\n",
    "            return\n",
    "\n",
    "        key = path\n",
    "        if path:\n",
    "            # lists aren't hashable\n",
    "            key = os.path.sep.join(path)\n",
    "\n",
    "        if key not in self.loaders:\n",
    "            self.loaders[key] = NotebookLoader(path)\n",
    "        return self.loaders[key]\n",
    "\n",
    "    \n",
    "sys.meta_path.append(NotebookFinder())\n",
    "\n",
    "\n",
    "print ('Complete')"
   ]
  },
  {
   "cell_type": "code",
   "execution_count": 2,
   "metadata": {
    "ExecuteTime": {
     "end_time": "2018-03-26T22:41:37.910325Z",
     "start_time": "2018-03-26T22:41:06.978668Z"
    }
   },
   "outputs": [
    {
     "name": "stdout",
     "output_type": "stream",
     "text": [
      "importing Jupyter notebook from MasterFunctions_CaptureApproximation.ipynb\n",
      "importing Jupyter notebook from MasterFunctions_ModelData.ipynb\n",
      "------ MasterFunctions_ModelData Imported ------\n",
      "importing Jupyter notebook from MasterFunctions_Capture.ipynb\n",
      "------ MasterFunctions_Capture Loaded ------\n",
      "------ MasterFunctions_CaptureApproximation Loaded ------\n",
      "All notebooks imported\n"
     ]
    }
   ],
   "source": [
    "from MasterFunctions_CaptureApproximation import *\n",
    "\n",
    "print ('All notebooks imported')"
   ]
  },
  {
   "cell_type": "markdown",
   "metadata": {
    "collapsed": true
   },
   "source": [
    "-----------------"
   ]
  },
  {
   "cell_type": "markdown",
   "metadata": {},
   "source": [
    "# Capture Rate Function Tests"
   ]
  },
  {
   "cell_type": "markdown",
   "metadata": {},
   "source": [
    "## Helm Form Factor: $|F_N(E_R)|^2$"
   ]
  },
  {
   "cell_type": "markdown",
   "metadata": {},
   "source": [
    "The Helm Form Factor is given by:\n",
    "\\begin{equation}\n",
    "\\left| F_N(E_R) \\right| ^2 = e^{[-E_R/E_N]} \n",
    "\\end{equation}(see eqn (10) of arXiv: 1509.07525v2)\n",
    "\n",
    "where $E_N \\equiv \\frac{0.114 }{ A_{N}^{5/3}} \\space GeV$ is the characteristic energy of a nucleus with atomic number $A_N$\n",
    "\n",
    "This factor accounts for the effective size of a target nucleus in a DM -- nucleus when an incoming DM particle scatters of a nucleus inside the earth.\n",
    "\n",
    "To good approximation, since the recoil energy is of order $\\mathcal{O}(10^{-6})$ GeV, we take the form factor to be unity."
   ]
  },
  {
   "cell_type": "markdown",
   "metadata": {},
   "source": [
    "## Writing the Energy integral as a dimensionless quantity"
   ]
  },
  {
   "cell_type": "markdown",
   "metadata": {},
   "source": [
    "We seek to write the recoil integral as a dimensionless quantity:\n",
    "\n",
    "\\begin{align}\n",
    "\\int^{E_{max}}_{E_{min}} \\frac{d\\sigma_N}{dE_R} \\Theta(\\Delta E_R) \\ dE_R &= 8\\pi \\alpha \\alpha_X Z_N^2 \\varepsilon^2 \\int^{E_{max}}_{E_{min}} \\frac{m_N}{ (2m_N E_R + m_A^2)^2 } |F_N (E_R)|^2  \\Theta(\\Delta E_R) dE_R \\\\\n",
    "&= [Prefactors] \\int^{E_{max}}_{E_{min}} \\frac{m_N}{ (2m_N E_R + m_A^2)^2 } \\Theta(\\Delta E_R) dE_R \\nonumber \\\\\n",
    "&= [Prefactors] \\frac{1}{m_X^2} \\int^{E_{max}}_{E_{min}} \\frac{m_N/m_X}{ \\left(2\\frac{m_N}{m_X}\\frac{E_R}{m_X} + (\\frac{m_A}{m_X})^2 \\right)^2 } \\Theta(\\Delta E_R) d(\\frac{E_R}{m_X}) \\nonumber  \\\\\n",
    "&= \\frac{1}{m_X^2} \\int^{\\xi_{max}}_{\\xi_{min}} [Prefactors]\\frac{m_N/m_X}{ \\left(2\\frac{m_N}{m_X}\\xi_R + (\\frac{m_A}{m_X})^2 \\right)^2 } \\Theta(\\Delta \\xi_R) d\\xi_R \\nonumber  \\\\\n",
    "& = \\frac{1}{m_X^2} \\int^{\\xi_{max}}_{\\xi_{min}} \\frac{d\\sigma_N'}{d\\xi_R} d\\xi_R\n",
    "\\end{align}\n",
    "\n",
    "so that the dimensionless cross seciton becomes:\n",
    "\\begin{equation}\n",
    "\\frac{d \\sigma_N'}{d\\xi_R} = 8\\pi \\alpha \\alpha_X Z_N^2 \\varepsilon^2 \n",
    "\\frac{m_N/m_X}{ \\left(2\\frac{m_N}{m_X} \\xi_R + (\\frac{m_A}{m_X})^2 \\right)^2 } \\Theta(\\Delta \\xi_R) |F_N|^2 \n",
    "\\end{equation}\n",
    "\n",
    "\n",
    "In the $2\\frac{m_N}{m_X}\\xi_R << \\left(\\frac{m_A}{m_X}\\right)^2$ limit, we can approximate this as:\n",
    "\n",
    "\\begin{equation} \n",
    "\\frac{d \\sigma_N'}{d\\xi_R} = 8\\pi \\alpha \\alpha_X Z_N^2 \\varepsilon^2 \\frac{m_N}{m_X} \\left(\\frac{m_X}{m_A}\\right)^4\n",
    "\\end{equation}\n",
    "where we have set the form factor equal to unity since the characteristic energy of a nucleus $E_N$ is much larger than the recoil energy $E_R$.\n",
    "\n",
    "We can now see that \\ref{c-sec} is now completely independent of all integration variables $r$, $u$ and $\\xi_R$, so we pull the entire thing out of all the integrations.\n",
    "\n",
    "##### Factors Removed (crossSection):  $8\\pi \\epsilon^2 \\alpha_X \\alpha m_N Z_N^2$\n",
    "##### Factors Removed (crossSectionApprox): $\\frac{d\\sigma'}{d\\xi_R}$"
   ]
  },
  {
   "cell_type": "code",
   "execution_count": 3,
   "metadata": {
    "ExecuteTime": {
     "end_time": "2018-03-25T21:44:01.583555Z",
     "start_time": "2018-03-25T21:44:01.571558Z"
    }
   },
   "outputs": [
    {
     "name": "stdout",
     "output_type": "stream",
     "text": [
      "Actual: 0.9816691909580978\n",
      "Approx: 1\n",
      "Complete\n"
     ]
    }
   ],
   "source": [
    "a1 = photonCrossSection('Fe56', 1, 0.0000025)\n",
    "b1 = photonCrossSectionApprox('Fe56', 0.0000025)\n",
    "\n",
    "\n",
    "print ('Actual: {0}'.format(a1))\n",
    "print ('Approx: {0}'.format(b1))\n",
    "\n",
    "print ('Complete')"
   ]
  },
  {
   "cell_type": "markdown",
   "metadata": {},
   "source": [
    "## Incident Dark Matter Velocity Distribution (eqn17)"
   ]
  },
  {
   "cell_type": "markdown",
   "metadata": {},
   "source": [
    "In the following cell we calculate the normalization constant $N_0$ for the incident dark matter velocity distribution:\n",
    "\n",
    "\\begin{equation} \n",
    "\\frac{1}{N_0} = \\int_{0}^{V_{gal}/c} f(u) \\ du = \\text{tempA} \n",
    "\\end{equation}\n",
    "\n",
    "where $u$ is a naturalized velocity and $f(u)$ is the incident DM velocity distribution which we take to be Maxwell-Boltzmann in shape:\n",
    "\n",
    "\\begin{equation} \\text{DMVelDist} = f(u) =  N_0 \\left[ exp \\left ( \n",
    "\\frac{v^2_{gal}-u^2}{ku^2_0}\\right) -1 \\right] ^k\n",
    "\\Theta(v_{gal} - u)\n",
    "\\end{equation}\n",
    "\n",
    "Typical values for $v_{gal}$ (km/s), $u_0$ (km/s), and $k$ respectively lie between:\n",
    "\n",
    "\\begin{equation}\n",
    "220<u_0<270 \\qquad 450<v_{gal}<650 \\qquad 1.5<k<3.5 \n",
    "\\end{equation}\n",
    "\n",
    "For computations, we take $u_0 = 245\\times 10^6$ cm/s, $v_{gal} = 550\\times10^6$ cm/s and $k = 2.5$\n",
    "\n",
    "-----------------------\n",
    "However, since u_max is much smaller than v_gal, we can take a good approximation to be:\n",
    "$$\n",
    "f(u) =  N_0 \\left[ exp \\left ( \n",
    "\\frac{v^2_{gal}}{ku^2_0}\\right) -1 \\right] ^k\n",
    "\\Theta(v_{gal} - u)\n",
    "$$\n",
    "\n",
    "Normalization Check\n"
   ]
  },
  {
   "cell_type": "code",
   "execution_count": 4,
   "metadata": {
    "ExecuteTime": {
     "end_time": "2018-03-25T21:44:03.911129Z",
     "start_time": "2018-03-25T21:44:03.903154Z"
    }
   },
   "outputs": [
    {
     "name": "stdout",
     "output_type": "stream",
     "text": [
      "Full Normalization  : 4347914.767372669\n",
      "Full Test Value     : 469268105.0099762\n",
      "Approximation Value : 469268105.0099762\n",
      "Complete\n"
     ]
    }
   ],
   "source": [
    "print ('Full Normalization  : {0}'.format(Normalization()))\n",
    "print ('Full Test Value     : {0}'.format(DMVelDist(2e-5)))\n",
    "print ('Approximation Value : {0}'.format(DMVelDist(2e-5)))\n",
    "\n",
    "print ('Complete')"
   ]
  },
  {
   "cell_type": "markdown",
   "metadata": {
    "heading_collapsed": true
   },
   "source": [
    "## Modified Dark Matter Velocity Distribution (eqn16)"
   ]
  },
  {
   "cell_type": "markdown",
   "metadata": {
    "hidden": true
   },
   "source": [
    "The modified distribution $ f_{\\oplus}$ is the annular and angular averaged dark matter distribution in the rest frame of Earth given by:\n",
    "\n",
    "\\begin{align}\n",
    "\\text{ModDMVelDist} &= f_{\\oplus}(u) = \\\\\n",
    "&\\frac{1}{4} \\int_{-1}^{1}\\int_{-1}^{1} dcos\\theta \\, dcos\\phi \\space\n",
    "   f \\left[ \\left( u^2 (V_{\\odot} + V_{\\oplus}cos\\phi)^2 + 2u(V_{\\odot} + V_{\\oplus} cos\\phi) cos\\theta \\right) ^{1/2} \\right]\n",
    "  \\end{align}"
   ]
  },
  {
   "cell_type": "markdown",
   "metadata": {
    "hidden": true
   },
   "source": [
    "### Graphing and Interpolating the Modified DM Velocity Distribution"
   ]
  },
  {
   "cell_type": "code",
   "execution_count": 5,
   "metadata": {
    "ExecuteTime": {
     "end_time": "2018-03-25T21:44:10.144543Z",
     "start_time": "2018-03-25T21:44:07.785270Z"
    },
    "hidden": true
   },
   "outputs": [
    {
     "name": "stdout",
     "output_type": "stream",
     "text": [
      "Complete\n"
     ]
    }
   ],
   "source": [
    "velRange = np.linspace(0, V_gal, 200)\n",
    "\n",
    "ModDMVect = []\n",
    "DMVect = []\n",
    "ApproxVect = []\n",
    "IntVect = []\n",
    "for vel in velRange:\n",
    "    ModDMVect.append(ModDMVelDist(vel))\n",
    "    ApproxVect.append(ModDMVelDist(0))\n",
    "    \n",
    "print ('Complete')"
   ]
  },
  {
   "cell_type": "markdown",
   "metadata": {
    "hidden": true
   },
   "source": [
    "#### Plot the various DM Velocity distributions"
   ]
  },
  {
   "cell_type": "code",
   "execution_count": 6,
   "metadata": {
    "ExecuteTime": {
     "end_time": "2018-03-25T21:44:25.097227Z",
     "start_time": "2018-03-25T21:44:24.401410Z"
    },
    "hidden": true
   },
   "outputs": [
    {
     "name": "stdout",
     "output_type": "stream",
     "text": [
      "Complete\n"
     ]
    },
    {
     "data": {
      "image/png": "[encoded data removed]",
      "text/plain": [
       "<matplotlib.figure.Figure at 0x1a36ed177b8>"
      ]
     },
     "metadata": {},
     "output_type": "display_data"
    },
    {
     "data": {
      "image/png": "[encoded data removed]",
      "text/plain": [
       "<matplotlib.figure.Figure at 0x1a37219eac8>"
      ]
     },
     "metadata": {},
     "output_type": "display_data"
    }
   ],
   "source": [
    "dmVelPlotRange = np.linspace(0,V_gal,6)\n",
    "\n",
    "fig0 = plt.figure(figsize = (7,5))\n",
    "ax0 = fig0.add_subplot(111)\n",
    "ax0.set_xticks(dmVelPlotRange)\n",
    "\n",
    "line1, = plt.plot(velRange,ModDMVect, label = 'Annular/Angular Average')\n",
    "line2, = plt.plot(velRange, ApproxVect, label = 'Maxwell-Boltzmann')\n",
    "\n",
    "plt.xlabel('u',fontsize = 13)\n",
    "plt.ylabel('f(u)',fontsize = 13)\n",
    "plt.legend([line1,line2],\\\n",
    "           ['Asymptotic Distribution','Approximation'],\\\n",
    "           loc = 'upper right',\\\n",
    "           fontsize = 13)\n",
    "plt.suptitle('Dark Matter Velocity Distribution and Approximation',fontsize = 14)\n",
    "plt.grid()\n",
    "\n",
    "\n",
    "\n",
    "testElement = 'Fe56'\n",
    "uInt = photonEminEmaxIntersectionApprox(testElement,1000.)\n",
    "uIntPlus = uInt + 2.0*uInt\n",
    "plt1_xlabel = np.linspace(0,uIntPlus,6)\n",
    "fig1 = plt.figure(figsize = (7,5))\n",
    "ax1 = fig1.add_subplot(111)\n",
    "ax1.set_xticks(plt1_xlabel)\n",
    "line1, = plt.plot(velRange,ModDMVect)\n",
    "line2, = plt.plot(velRange, ApproxVect)\n",
    "line3 = plt.axvline(x = uInt, color = 'green')\n",
    "plt.xlabel('u',fontsize = 13)\n",
    "plt.ylabel('f(u)',fontsize = 13)\n",
    "\n",
    "plt.grid()\n",
    "plt.legend([line1, line2, line3],\\\n",
    "           ['Asymptotic Distribution', 'Approximation', '$u_{max}$ for Fe56'],\\\n",
    "           loc='lower right',\\\n",
    "           fontsize = 13)\n",
    "\n",
    "plt.suptitle('Dark Matter Velocity Distribution and Approximation',fontsize = 14)\n",
    "plt.title('Zoomed Region')\n",
    "\n",
    "plt.axis([-0.000001,uIntPlus,1.75e8,1.85e8])\n",
    "\n",
    "print ('Complete')"
   ]
  },
  {
   "cell_type": "code",
   "execution_count": 89,
   "metadata": {
    "hidden": true
   },
   "outputs": [
    {
     "name": "stdout",
     "output_type": "stream",
     "text": [
      "Plot1 Filename: f_uUnzoomed\n",
      "Plot2 Filename: f_uZoomed\n",
      "Complete\n"
     ]
    }
   ],
   "source": [
    "fileName0 = input('Plot1 Filename: ')\n",
    "fileName1 = input('Plot2 Filename: ')\n",
    "fig0.savefig(approxPath(fileName0), dpi = 700)\n",
    "fig1.savefig(approxPath(fileName1), dpi = 700)\n",
    "\n",
    "print ('Complete')"
   ]
  },
  {
   "cell_type": "markdown",
   "metadata": {},
   "source": [
    "## Emin and Emax Initialization (eqn13)"
   ]
  },
  {
   "cell_type": "markdown",
   "metadata": {},
   "source": [
    "In the following cell, we initialize the Emin and Emax functions where\n",
    "\\begin{equation} \n",
    "E_{Min} = \\frac{1}{2} m_X u^2 \\qquad E_{Max} = 2 \\frac{\\mu^2}{m_N} (u^2 + v_{\\oplus}^2)\n",
    "\\end{equation}\n",
    "\n",
    "In dimensionless quantities, these look like:\n",
    "\\begin{equation}\n",
    "\\xi_{Min} = \\frac{1}{2}u^2 \\qquad \\xi_{Max} = 2 \\frac{\\mu^2}{m_Nm_X} (u^2 + v_{\\oplus}^2)\n",
    "\\end{equation}\n",
    "\n",
    "To make further progress, we must approximate the escape velocity $v_{\\oplus}$"
   ]
  },
  {
   "cell_type": "markdown",
   "metadata": {},
   "source": [
    "## Approximating the Escape Velocity"
   ]
  },
  {
   "cell_type": "markdown",
   "metadata": {},
   "source": [
    "We plot the escape velocity $v_{\\oplus}$ over the entire radius of the earth and notice that it is mostly linear. We take the escape velocity approximation value as the average of the maximum and minimum escape velocities. The true average accounting for a different escape velocity at each radius is also plotted for comparison."
   ]
  },
  {
   "cell_type": "code",
   "execution_count": 7,
   "metadata": {
    "ExecuteTime": {
     "end_time": "2018-03-25T21:44:39.794502Z",
     "start_time": "2018-03-25T21:44:39.771444Z"
    }
   },
   "outputs": [
    {
     "name": "stdout",
     "output_type": "stream",
     "text": [
      "True Escape Velocity Squared Average : 2.062559437067813e-09\n",
      "Escape Velocity Squared Approximation: 1.9458714042912083e-09\n",
      "Complete\n"
     ]
    }
   ],
   "source": [
    "escVel2Max = max(escVel2List)\n",
    "escVel2Min = min(escVel2List)\n",
    "\n",
    "counter = 0\n",
    "tempSum = 0\n",
    "for i in range(0,len(escVel2List)):\n",
    "    tempSum += (escVel2List[i])\n",
    "    counter += 1\n",
    "    \n",
    "escVel2Approx = 1/2 * (escVel2Max + escVel2Min)\n",
    "escVel2Avg = tempSum/len(escVel2List)\n",
    "\n",
    "ApproxVect = []\n",
    "AvgVect = []\n",
    "for i in range(0,len(escVel2List)):\n",
    "    ApproxVect.append(escVel2Approx)\n",
    "    AvgVect.append(escVel2Avg)\n",
    "\n",
    "print ('True Escape Velocity Squared Average : {0}'.format(escVel2Avg))\n",
    "print ('Escape Velocity Squared Approximation: {0}'.format(escVel2Approx))\n",
    "\n",
    "print ('Complete')"
   ]
  },
  {
   "cell_type": "markdown",
   "metadata": {},
   "source": [
    "## Plot the Approximation and Average Escape Velocities"
   ]
  },
  {
   "cell_type": "code",
   "execution_count": 8,
   "metadata": {
    "ExecuteTime": {
     "end_time": "2018-03-25T21:44:45.852777Z",
     "start_time": "2018-03-25T21:44:45.591119Z"
    }
   },
   "outputs": [
    {
     "data": {
      "image/png": "[encoded data removed]",
      "text/plain": [
       "<matplotlib.figure.Figure at 0x1a37252f780>"
      ]
     },
     "metadata": {},
     "output_type": "display_data"
    }
   ],
   "source": [
    "fig2 = plt.figure(figsize = (7,5))\n",
    "ax2 = fig2.add_subplot(111)\n",
    "line1, = plt.plot(radiusList,escVel2List)\n",
    "line2, = plt.plot(radiusList,ApproxVect)\n",
    "line3, = plt.plot(radiusList,AvgVect)\n",
    "plt.legend([line1,line2,line3],['Escape Velocity','Approximation','Average'],loc='upper right', fontsize = 13)\n",
    "plt.suptitle('Escape Velocity Squared vs Radius of Earth', fontsize = 14)\n",
    "plt.xlabel('Radius $[cm]$', fontsize = 13)\n",
    "plt.ylabel('Escape Velocity Squared', fontsize = 13)\n",
    "plt.grid()\n"
   ]
  },
  {
   "cell_type": "code",
   "execution_count": 92,
   "metadata": {},
   "outputs": [
    {
     "name": "stdout",
     "output_type": "stream",
     "text": [
      "Filename: EscVel\n",
      "Complete\n"
     ]
    }
   ],
   "source": [
    "fileName2 = input('Filename: ')\n",
    "fig2.savefig(photonApproxPath(fileName2), dpi = 700)\n",
    "\n",
    "print ('Complete')"
   ]
  },
  {
   "cell_type": "markdown",
   "metadata": {},
   "source": [
    "## Calculating the Capture Integral"
   ]
  },
  {
   "cell_type": "markdown",
   "metadata": {},
   "source": [
    "In the following cell, we calculate the velocity and recoil energy integrals:\n",
    "\n",
    "\\begin{equation}\n",
    "\\text{IntDuDErApprox} = \\text{IntDuDErApprox} = \\int_{0}^{uInt} du\\space u \\, f(u) \\int_{\\xi_{min}}^{\\xi_{Max}} d\\xi_R\n",
    "\\end{equation}\n",
    "\n",
    "with dimension: $[\\text{IntDuDEr}] = \\frac{1}{GeV^3}$\n",
    "\n",
    "where\n",
    "\n",
    "\\begin{equation}\n",
    "u_{int}^2 = \\frac{2\\mu_N^2}{m_N} \\frac{1}{ \\left( \\frac{1}{2m_X} - \\frac{2\\mu_N^2}{m_N} \\right)  } v_{\\oplus}^2 \n",
    "\\end{equation}\n",
    "\n",
    "Normally, one would integrate $u$ from $0$ to $\\infty$. Python however returns zero upon integrating to infinity. This is because the kinematics encoded in $\\Theta(\\Delta E_R)$ requires that we integrate over only kinematically allowed recoil energies. This region of allowed recoil energies is so narrow and so close to the origin though, that Python never chooses a sample point within that region, and so it 'looks' as if the integral is vanishing. See Appendix A for further discussion of the calculation of this integral.\n",
    "\n",
    "##### Factors Removed (IntDuDEr):  $(4\\pi)(8\\pi \\epsilon^2 \\alpha_X \\alpha m_N Z_N^2)$\n",
    "##### Factors Removed (IntDuDErApprox): $(4\\pi)\\frac{d\\sigma_N}{d\\xi_R}$"
   ]
  },
  {
   "cell_type": "code",
   "execution_count": 3,
   "metadata": {
    "ExecuteTime": {
     "end_time": "2018-03-25T21:52:00.928270Z",
     "start_time": "2018-03-25T21:52:00.864001Z"
    }
   },
   "outputs": [
    {
     "name": "stdout",
     "output_type": "stream",
     "text": [
      "Calculation  : 4.514839091244321e-09\n",
      "Approximation: 4.491486630674143e-12\n",
      "Complete\n"
     ]
    }
   ],
   "source": [
    "print ('Calculation  : {0}'.format(photonIntDuDEr('Fe56', 1000., 1 ,245)))\n",
    "print ('Approximation: {0}'.format(photonIntDuDErApprox('Fe56', 1000., 245)))\n",
    "\n",
    "print ('Complete')"
   ]
  },
  {
   "cell_type": "markdown",
   "metadata": {},
   "source": [
    "## Sum over Radii"
   ]
  },
  {
   "cell_type": "markdown",
   "metadata": {},
   "source": [
    "\n",
    "In the following cell, we calculate the \"integral\" over the radius of earth:\n",
    "\n",
    "\\begin{equation}\n",
    "\\int^{R_{earth}}_{0} dr\\space 4\\pi r^2 n_N(r) \\int_{0}^{uInt} du\\space 4\\pi u f(u) \\int_{E_{min}}^{E_{Max}} dE_R \\space \\frac{d \\sigma_N}{dE_R} \\Theta(\\Delta E) \n",
    "\\end{equation}\n",
    "\n",
    "where we rename the velocity and recoil energy integrals to their respective python function $IntDuDEr$:\n",
    "\n",
    "$$ \\int^{R_{earth}}_{0} dr\\space 4\\pi r^2 n_N(r) \\space IntDuDEr  $$\n",
    "\n",
    "with dimension $ \\frac{1}{GeV^2}$\n",
    "\n",
    "However, instead of calculating this as an integral as stated, we discretize the integral and use the thin-shell approximation:\n",
    "\n",
    "$$ \\frac{4}{3}\\pi (r +\\Delta r)^3 - \\frac{4}{3}\\pi r^3 = 4 \\pi r^2 \\Delta r$$\n",
    "\n",
    "which yields the discrete summation:\n",
    "\n",
    "$$ \\text{SumOverR} = \\Sigma_{i} r_i^2 n_N(r) \\Delta r_i \\space \\text{IntDuDEr} $$\n",
    "\n",
    "where the variables $r_i$, $n_N(r)$, and $\\Delta r_i$ are given by:\n",
    "$$ r_i = radiusList[i] \\qquad n_N(r) = numDensityList(element)[i] \\qquad \\Delta r_i = deltaRList[i] $$\n",
    "\n",
    "It is important to note, $i$ is a pure summation index and all physical quantites depending on i are taken from the respective lists.\n",
    " \n",
    "For future use:\n",
    "$$\n",
    "\\text{SumOverRApprox} = \\Sigma_i r_i^2 n_N(r) \\Delta r_i \\text{IntDuDErApprox}\n",
    "$$\n",
    "\n",
    "##### Removed Factors: $(4\\pi)(4\\pi)(8\\pi \\epsilon^2 \\alpha_X \\alpha m_N Z_N^2)$\n",
    "##### Removed Factors (Approx): $(4\\pi)(4\\pi)\\frac{d\\sigma_N'}{d\\xi_R}$"
   ]
  },
  {
   "cell_type": "markdown",
   "metadata": {},
   "source": [
    "## Determining the Critical radius that separates the core and mantle"
   ]
  },
  {
   "cell_type": "markdown",
   "metadata": {},
   "source": [
    "We take the critical radius separating the core and mantle to be $R_{Crit} = 3.48\\times10^8$ cm which corresponds to index $i = 270$"
   ]
  },
  {
   "cell_type": "code",
   "execution_count": 4,
   "metadata": {
    "ExecuteTime": {
     "end_time": "2018-03-25T21:52:10.711468Z",
     "start_time": "2018-03-25T21:52:10.704095Z"
    }
   },
   "outputs": [
    {
     "name": "stdout",
     "output_type": "stream",
     "text": [
      "348000000.0\n"
     ]
    }
   ],
   "source": [
    "print (RCrit)"
   ]
  },
  {
   "cell_type": "markdown",
   "metadata": {},
   "source": [
    "## Approximating the Number Density"
   ]
  },
  {
   "cell_type": "markdown",
   "metadata": {},
   "source": [
    "We plot the number density of Iron and see that there is a very sharp cutoff between the crust and core density where the core density is an order of magnitude larger than the mantle magnitude. To account for this, we split the radius integral into an integral over the core and over the mantle, taking the density to be the average density over these two regions regions."
   ]
  },
  {
   "cell_type": "code",
   "execution_count": 5,
   "metadata": {
    "ExecuteTime": {
     "end_time": "2018-03-25T21:52:14.236844Z",
     "start_time": "2018-03-25T21:52:13.602927Z"
    }
   },
   "outputs": [
    {
     "data": {
      "image/png": "[encoded data removed]",
      "text/plain": [
       "<matplotlib.figure.Figure at 0x1dc17980a90>"
      ]
     },
     "metadata": {},
     "output_type": "display_data"
    }
   ],
   "source": [
    "plt.plot(range1, numDensityList('Fe56'),'.')\n",
    "plt.suptitle('Number Density of {0}'.format('Fe56'))\n",
    "plt.xlabel('Radius Index')\n",
    "plt.ylabel(r'Number Density $[cm^{-3}]$')\n",
    "plt.grid()\n",
    "plt.show()"
   ]
  },
  {
   "cell_type": "markdown",
   "metadata": {},
   "source": [
    "### Get Average Densities over Core and Mante\n"
   ]
  },
  {
   "cell_type": "markdown",
   "metadata": {},
   "source": [
    "We calculate the average densities over the core and mantle."
   ]
  },
  {
   "cell_type": "code",
   "execution_count": 6,
   "metadata": {
    "ExecuteTime": {
     "end_time": "2018-03-25T21:52:19.531529Z",
     "start_time": "2018-03-25T21:52:17.203469Z"
    }
   },
   "outputs": [
    {
     "name": "stdout",
     "output_type": "stream",
     "text": [
      "Separating radius: 637100000\n",
      "Average Number Density of Fe56 in core:   1.0761460185446085e+23\n",
      "Average Number Density of Fe56 in mantle: 3.1149583080098785e+21\n",
      "Complete\n"
     ]
    }
   ],
   "source": [
    "numDenElement = 'Fe56'\n",
    "\n",
    "tempSumCore = 0\n",
    "coreCounter = 1\n",
    "tempSumMantle = 0\n",
    "mantleCounter = 1\n",
    "\n",
    "for i in range(0,len(radiusList)):\n",
    "    if (0 <= i <= 270):\n",
    "        tempSumCore += numDensityList(numDenElement)[i]\n",
    "        coreCounter += 1\n",
    "    elif(270 < i <= len(radiusList)):\n",
    "        tempSumMantle += numDensityList(numDenElement)[i]\n",
    "        mantleCounter += 1\n",
    "    \n",
    "coreAvg = tempSumCore/coreCounter\n",
    "mantleAvg = tempSumMantle/mantleCounter\n",
    "\n",
    "\n",
    "print ('Separating radius: {0}'.format(max(radiusList)))\n",
    "print ('Average Number Density of {0} in core:   {1}'.format(numDenElement,coreAvg))\n",
    "print ('Average Number Density of {0} in mantle: {1}'.format(numDenElement,mantleAvg))\n",
    "\n",
    "print ('Complete')"
   ]
  },
  {
   "cell_type": "markdown",
   "metadata": {},
   "source": [
    "### Plot Number Density Averages"
   ]
  },
  {
   "cell_type": "code",
   "execution_count": 7,
   "metadata": {
    "ExecuteTime": {
     "end_time": "2018-03-25T21:52:24.635743Z",
     "start_time": "2018-03-25T21:52:24.185399Z"
    }
   },
   "outputs": [
    {
     "name": "stdout",
     "output_type": "stream",
     "text": [
      "Complete\n"
     ]
    },
    {
     "data": {
      "image/png": "[encoded data removed]",
      "text/plain": [
       "<matplotlib.figure.Figure at 0x1dc17e57e80>"
      ]
     },
     "metadata": {},
     "output_type": "display_data"
    }
   ],
   "source": [
    "coreVect = []\n",
    "mantleVect = []\n",
    "for r in range(0,len(radiusList)):\n",
    "    coreVect.append(coreAvg)\n",
    "    mantleVect.append(mantleAvg)\n",
    "\n",
    "\n",
    "fig3 = plt.figure(figsize = (7,5))\n",
    "line1, = plt.plot(radiusList,numDensityList(numDenElement),'.')\n",
    "line2, = plt.plot(radiusList,coreVect)\n",
    "line3, = plt.plot(radiusList,mantleVect)\n",
    "plt.legend([line1,line2,line3],['Original Density Distribution','Core Average','Mantle Average'],loc='upper right')\n",
    "plt.xlabel('Radius $[cm]$')\n",
    "plt.ylabel('Number Density $[cm^{-3}]$')\n",
    "plt.suptitle('Number Density vs Radius for {0}'.format(numDenElement))\n",
    "plt.grid()\n",
    "\n",
    "print ('Complete')"
   ]
  },
  {
   "cell_type": "markdown",
   "metadata": {},
   "source": [
    "#### Save Figure"
   ]
  },
  {
   "cell_type": "code",
   "execution_count": 98,
   "metadata": {},
   "outputs": [
    {
     "name": "stdout",
     "output_type": "stream",
     "text": [
      "Number Density filename: NumDensityIron\n",
      "Complete\n"
     ]
    }
   ],
   "source": [
    "fileName3 = input('Number Density filename: ')\n",
    "fig3.savefig(photonApproxPath(fileName3), dpi = 700)\n",
    "\n",
    "print ('Complete')"
   ]
  },
  {
   "cell_type": "markdown",
   "metadata": {},
   "source": [
    "## Radius Integral"
   ]
  },
  {
   "cell_type": "markdown",
   "metadata": {},
   "source": [
    "We can now calculate the earth integral assuming a full radial dependence in the number density"
   ]
  },
  {
   "cell_type": "code",
   "execution_count": 8,
   "metadata": {
    "ExecuteTime": {
     "end_time": "2018-03-25T21:53:04.097281Z",
     "start_time": "2018-03-25T21:52:29.601912Z"
    }
   },
   "outputs": [
    {
     "name": "stdout",
     "output_type": "stream",
     "text": [
      "Actual       : 7.647109309917228e+39\n",
      "Approximation: 8.587819330597926e+36\n",
      "Complete\n"
     ]
    }
   ],
   "source": [
    "print ('Actual       : {0}'.format(photonSumOverR('Fe56', 1000, 1)))\n",
    "print ('Approximation: {0}'.format(photonSumOverRApprox('Fe56', 1000)))\n",
    "\n",
    "print ('Complete')"
   ]
  },
  {
   "cell_type": "markdown",
   "metadata": {},
   "source": [
    "## Single Element Capture Rate: $C^N_{cap}$"
   ]
  },
  {
   "cell_type": "markdown",
   "metadata": {},
   "source": [
    "The final step is to tack on all of the removed factors and calculate the full capture rate:\n",
    "\n",
    "\\begin{align} \n",
    "\\text{fullCap} &= \\left[(4\\pi)(4\\pi)(8\\pi \\epsilon^2 \\alpha_X \\alpha m_N Z_N^2)\\right] n_X \\text{sumOverR} \\\\\n",
    "&= \\left[2(4\\pi)^3(\\epsilon^2 \\alpha_X \\alpha m_N Z_N^2)\\right] n_X \\text{sumOverR}\n",
    "\\end{align}\n",
    "\n",
    "where $[n_X] = \\frac{1}{cm^3}$ and $[sumOverR] = \\frac{1}{GeV^2}$, so $[fullCap] = \\frac{1}{cm^3 GeV^2}$\n",
    "\n",
    "We manually multiply by the following conversions:\n",
    "$$ \\frac{cm \\cdot GeV}{5.06\\times10^{13}} =  1 \\qquad \\text{and} \\qquad \\frac{1.52\\times10^{24}}{GeV\\cdot s} = 1$$\n",
    "\n",
    "For future reference:\n",
    "$$ \\text{fullCapApprox} = n_X (4\\pi)^2 \\frac{1}{m_X^2}  \\left( 8\\pi \\alpha \\alpha_X \\epsilon^2  Z_N^2  \\frac{m_N m_X^3}{m_A^4} \\right) \\text{sumOverRApprox} $$ "
   ]
  },
  {
   "cell_type": "code",
   "execution_count": 9,
   "metadata": {
    "ExecuteTime": {
     "end_time": "2018-03-25T21:56:58.928628Z",
     "start_time": "2018-03-25T21:54:00.366042Z"
    },
    "scrolled": true
   },
   "outputs": [
    {
     "name": "stdout",
     "output_type": "stream",
     "text": [
      "Complete\n"
     ]
    }
   ],
   "source": [
    "# CCapFlip[(n), alphaX, epsilon, m_X, m_A]\n",
    "# These are the values from ArXiV: 1509.07525v2 Flip Earth paper\n",
    "CCapFlip0 = {# CCapFlip[(n), alphaX = 0.035, epsilon = 10e-8, m_X = 1000, m_A = 1]\n",
    "    'O16': 4.03e5,\n",
    "    'Si28': 2.24e6,\n",
    "    'Mg24': 1.05e6,\n",
    "    'Fe56': 9.43e7,\n",
    "    'Ca40': 9.06e5,\n",
    "    'P31': 2.04e4,\n",
    "    'S32': 2.41e5,\n",
    "    'Ni58': 7.10e6,\n",
    "    'Al27': 1.62e5,\n",
    "    'Cr52': 8.98e5 \n",
    "}\n",
    "\n",
    "\n",
    "a1 = photonSingleElementCap      ('Fe56', 100., 1,     10**-9, 1./137, 0.035)\n",
    "a2 = photonSingleElementCapApprox('Fe56', 100., 1,     10**-9, 1./137, 0.035)\n",
    "b1 = photonSingleElementCap      ('Fe56', 1000., 0.01, 10**-8, 1./137, 0.035)\n",
    "b2 = photonSingleElementCapApprox('Fe56', 1000., 0.01, 10**-8, 1./137, 0.035)\n",
    "c1 = photonSingleElementCap      ('Fe56', 1000., 0.1,  10**-8, 1./137, 0.035)\n",
    "c2 = photonSingleElementCapApprox('Fe56', 1000., 0.1,  10**-8, 1./137, 0.035)\n",
    "d1 = photonSingleElementCap      ('Fe56', 1000., 1,    10**-8, 1./137, 0.035)\n",
    "d2 = photonSingleElementCapApprox('Fe56', 1000., 1,    10**-8, 1./137, 0.035)\n",
    "e1 = photonSingleElementCap      ('Fe56', 1000., 10,   10**-8, 1./137, 0.035)\n",
    "e2 = photonSingleElementCapApprox('Fe56', 1000., 10,   10**-8, 1./137, 0.035)\n",
    "\n",
    "\n",
    "print ('Complete')"
   ]
  },
  {
   "cell_type": "markdown",
   "metadata": {},
   "source": [
    "## Single Element Capture Sanity Checks"
   ]
  },
  {
   "cell_type": "code",
   "execution_count": 10,
   "metadata": {
    "ExecuteTime": {
     "end_time": "2018-03-25T21:57:11.844507Z",
     "start_time": "2018-03-25T21:57:11.815502Z"
    },
    "scrolled": true
   },
   "outputs": [
    {
     "name": "stdout",
     "output_type": "stream",
     "text": [
      "m_A = 1, Epsilon = e-9 :\n",
      "    Full:   182755776.67014328 \n",
      "    Approx: 206577598.15492582\n",
      "m_A = 0.01, Epsilon = e-8 :\n",
      "    Full:   7225820899359793.0 \n",
      "    Approx: 1.088596003317198e+16\n",
      "m_A = 0.1, Epsilon = e-8 :\n",
      "    Full:   966229114112.2552 \n",
      "    Approx: 1088596003317.198\n",
      "m_A = 1, Epsilon = e-8 :\n",
      "    Full:   96935116.02002965 \n",
      "    Approx: 108859600.33171982\n",
      "m_A = 10, Epsilon = e-8 :\n",
      "    Full:   9693.824675572641 \n",
      "    Approx: 10885.960033171983\n",
      "Complete\n"
     ]
    }
   ],
   "source": [
    "print ('m_A = {0}, Epsilon = {1} :\\n    Full:   {2} \\n    Approx: {3}'.format(1,'e-9',a1,a2))\n",
    "print ('m_A = {0}, Epsilon = {1} :\\n    Full:   {2} \\n    Approx: {3}'.format(0.01,'e-8',b1,b2))\n",
    "print ('m_A = {0}, Epsilon = {1} :\\n    Full:   {2} \\n    Approx: {3}'.format(0.1,'e-8',c1,c2))\n",
    "print ('m_A = {0}, Epsilon = {1} :\\n    Full:   {2} \\n    Approx: {3}'.format(1,'e-8',d1,d2))\n",
    "print ('m_A = {0}, Epsilon = {1} :\\n    Full:   {2} \\n    Approx: {3}'.format(10,'e-8',e1,e2))\n",
    "\n",
    "print ('Complete')"
   ]
  },
  {
   "cell_type": "code",
   "execution_count": 14,
   "metadata": {
    "ExecuteTime": {
     "end_time": "2018-03-25T21:57:49.003115Z",
     "start_time": "2018-03-25T21:57:48.985571Z"
    }
   },
   "outputs": [
    {
     "name": "stdout",
     "output_type": "stream",
     "text": [
      "0.130347844095\n",
      "0.506536099467\n",
      "0.126643761213\n",
      "0.123015113627\n",
      "0.122978844522\n",
      "Difference Between published result and Approximation: 0.15439661009246888 %\n",
      "Complete\n"
     ]
    }
   ],
   "source": [
    "print (difference(a1,a2))\n",
    "print (difference(b1,b2))\n",
    "print (difference(c1,c2))\n",
    "print (difference(d1,d2))\n",
    "print (difference(e1,e2))\n",
    "print ('Difference Between published result and Approximation: {0} %'\\\n",
    "       .format(difference(CCapFlip0['Fe56'],d2)))\n",
    "\n",
    "print ('Complete')"
   ]
  },
  {
   "cell_type": "code",
   "execution_count": 15,
   "metadata": {
    "ExecuteTime": {
     "end_time": "2018-03-25T22:05:40.708566Z",
     "start_time": "2018-03-25T22:05:40.699038Z"
    }
   },
   "outputs": [
    {
     "name": "stdout",
     "output_type": "stream",
     "text": [
      "107320400.0\n",
      "Complete\n"
     ]
    }
   ],
   "source": [
    "FlipSum = 0\n",
    "for element in CCapFlip0:\n",
    "    FlipSum += CCapFlip0[element]\n",
    "\n",
    "print (FlipSum)\n",
    "print ('Complete')"
   ]
  },
  {
   "cell_type": "markdown",
   "metadata": {},
   "source": [
    "## Total Capture Rate:"
   ]
  },
  {
   "cell_type": "markdown",
   "metadata": {},
   "source": [
    "Finally, we arrive at the full capture rate. \n",
    "\n",
    "CCap gives the total capture rate for dark matter mass $m_X$ in GeV, mediator mass $m_A$ in GeV, kinetic mixing parameter $\\epsilon$, and $\\alpha = \\frac{1}{137}$"
   ]
  },
  {
   "cell_type": "code",
   "execution_count": 16,
   "metadata": {
    "ExecuteTime": {
     "end_time": "2018-03-25T22:24:58.465389Z",
     "start_time": "2018-03-25T22:05:44.059520Z"
    }
   },
   "outputs": [
    {
     "ename": "KeyboardInterrupt",
     "evalue": "",
     "output_type": "error",
     "traceback": [
      "\u001b[1;31m---------------------------------------------------------------------------\u001b[0m",
      "\u001b[1;31mKeyboardInterrupt\u001b[0m                         Traceback (most recent call last)",
      "\u001b[1;32m<ipython-input-16-3d29485ab6cd>\u001b[0m in \u001b[0;36m<module>\u001b[1;34m()\u001b[0m\n\u001b[0;32m      5\u001b[0m \u001b[0mc1\u001b[0m \u001b[1;33m=\u001b[0m \u001b[0mphotonCCap\u001b[0m      \u001b[1;33m(\u001b[0m\u001b[1;36m1000.\u001b[0m\u001b[1;33m,\u001b[0m \u001b[1;36m1\u001b[0m\u001b[1;33m,\u001b[0m    \u001b[1;36m10\u001b[0m\u001b[1;33m**\u001b[0m\u001b[1;33m-\u001b[0m\u001b[1;36m8\u001b[0m\u001b[1;33m,\u001b[0m \u001b[1;36m1.\u001b[0m\u001b[1;33m/\u001b[0m\u001b[1;36m137\u001b[0m\u001b[1;33m,\u001b[0m \u001b[0malphaTherm\u001b[0m\u001b[1;33m(\u001b[0m\u001b[1;36m1000\u001b[0m\u001b[1;33m,\u001b[0m \u001b[1;36m1\u001b[0m\u001b[1;33m)\u001b[0m\u001b[1;33m)\u001b[0m\u001b[1;33m\u001b[0m\u001b[0m\n\u001b[0;32m      6\u001b[0m \u001b[0mc2\u001b[0m \u001b[1;33m=\u001b[0m \u001b[0mphotonCCapApprox\u001b[0m\u001b[1;33m(\u001b[0m\u001b[1;36m1000.\u001b[0m\u001b[1;33m,\u001b[0m \u001b[1;36m1\u001b[0m\u001b[1;33m,\u001b[0m    \u001b[1;36m10\u001b[0m\u001b[1;33m**\u001b[0m\u001b[1;33m-\u001b[0m\u001b[1;36m8\u001b[0m\u001b[1;33m,\u001b[0m \u001b[1;36m1.\u001b[0m\u001b[1;33m/\u001b[0m\u001b[1;36m137\u001b[0m\u001b[1;33m,\u001b[0m \u001b[0malphaTherm\u001b[0m\u001b[1;33m(\u001b[0m\u001b[1;36m1000\u001b[0m\u001b[1;33m,\u001b[0m \u001b[1;36m1\u001b[0m\u001b[1;33m)\u001b[0m\u001b[1;33m)\u001b[0m\u001b[1;33m\u001b[0m\u001b[0m\n\u001b[1;32m----> 7\u001b[1;33m \u001b[0md1\u001b[0m \u001b[1;33m=\u001b[0m \u001b[0mphotonCCap\u001b[0m      \u001b[1;33m(\u001b[0m\u001b[1;36m1000.\u001b[0m\u001b[1;33m,\u001b[0m \u001b[1;36m10\u001b[0m\u001b[1;33m,\u001b[0m   \u001b[1;36m10\u001b[0m\u001b[1;33m**\u001b[0m\u001b[1;33m-\u001b[0m\u001b[1;36m8\u001b[0m\u001b[1;33m,\u001b[0m \u001b[1;36m1.\u001b[0m\u001b[1;33m/\u001b[0m\u001b[1;36m137\u001b[0m\u001b[1;33m,\u001b[0m \u001b[0malphaTherm\u001b[0m\u001b[1;33m(\u001b[0m\u001b[1;36m1000\u001b[0m\u001b[1;33m,\u001b[0m \u001b[1;36m10\u001b[0m\u001b[1;33m)\u001b[0m\u001b[1;33m)\u001b[0m\u001b[1;33m\u001b[0m\u001b[0m\n\u001b[0m\u001b[0;32m      8\u001b[0m \u001b[0md2\u001b[0m \u001b[1;33m=\u001b[0m \u001b[0mphotonCCapApprox\u001b[0m\u001b[1;33m(\u001b[0m\u001b[1;36m1000.\u001b[0m\u001b[1;33m,\u001b[0m \u001b[1;36m10\u001b[0m\u001b[1;33m,\u001b[0m   \u001b[1;36m10\u001b[0m\u001b[1;33m**\u001b[0m\u001b[1;33m-\u001b[0m\u001b[1;36m8\u001b[0m\u001b[1;33m,\u001b[0m \u001b[1;36m1.\u001b[0m\u001b[1;33m/\u001b[0m\u001b[1;36m137\u001b[0m\u001b[1;33m,\u001b[0m \u001b[0malphaTherm\u001b[0m\u001b[1;33m(\u001b[0m\u001b[1;36m1000\u001b[0m\u001b[1;33m,\u001b[0m \u001b[1;36m10\u001b[0m\u001b[1;33m)\u001b[0m\u001b[1;33m)\u001b[0m\u001b[1;33m\u001b[0m\u001b[0m\n\u001b[0;32m      9\u001b[0m \u001b[1;33m\u001b[0m\u001b[0m\n",
      "\u001b[1;32m~\\Google Drive\\Research\\DM Capture\\Code\\MasterFunctions_Capture.ipynb\u001b[0m in \u001b[0;36mphotonCCap\u001b[1;34m(m_X, m_A, epsilon, alpha, alpha_X)\u001b[0m\n",
      "\u001b[1;32m~\\Google Drive\\Research\\DM Capture\\Code\\MasterFunctions_Capture.ipynb\u001b[0m in \u001b[0;36mphotonSingleElementCap\u001b[1;34m(element, m_X, m_phi, epsilon, alpha, alpha_X)\u001b[0m\n",
      "\u001b[1;32m~\\Google Drive\\Research\\DM Capture\\Code\\MasterFunctions_Capture.ipynb\u001b[0m in \u001b[0;36mphotonSumOverR\u001b[1;34m(element, m_X, m_A)\u001b[0m\n",
      "\u001b[1;32m~\\Google Drive\\Research\\DM Capture\\Code\\MasterFunctions_Capture.ipynb\u001b[0m in \u001b[0;36mphotonIntDuDEr\u001b[1;34m(element, m_X, m_A, rIndex)\u001b[0m\n",
      "\u001b[1;32m~\\Anaconda3\\lib\\site-packages\\scipy\\integrate\\quadpack.py\u001b[0m in \u001b[0;36mdblquad\u001b[1;34m(func, a, b, gfun, hfun, args, epsabs, epsrel)\u001b[0m\n\u001b[0;32m    504\u001b[0m         \u001b[1;32mreturn\u001b[0m \u001b[1;33m[\u001b[0m\u001b[0mgfun\u001b[0m\u001b[1;33m(\u001b[0m\u001b[0margs\u001b[0m\u001b[1;33m[\u001b[0m\u001b[1;36m0\u001b[0m\u001b[1;33m]\u001b[0m\u001b[1;33m)\u001b[0m\u001b[1;33m,\u001b[0m \u001b[0mhfun\u001b[0m\u001b[1;33m(\u001b[0m\u001b[0margs\u001b[0m\u001b[1;33m[\u001b[0m\u001b[1;36m0\u001b[0m\u001b[1;33m]\u001b[0m\u001b[1;33m)\u001b[0m\u001b[1;33m]\u001b[0m\u001b[1;33m\u001b[0m\u001b[0m\n\u001b[0;32m    505\u001b[0m     return nquad(func, [temp_ranges, [a, b]], args=args, \n\u001b[1;32m--> 506\u001b[1;33m             opts={\"epsabs\": epsabs, \"epsrel\": epsrel})\n\u001b[0m\u001b[0;32m    507\u001b[0m \u001b[1;33m\u001b[0m\u001b[0m\n\u001b[0;32m    508\u001b[0m \u001b[1;33m\u001b[0m\u001b[0m\n",
      "\u001b[1;32m~\\Anaconda3\\lib\\site-packages\\scipy\\integrate\\quadpack.py\u001b[0m in \u001b[0;36mnquad\u001b[1;34m(func, ranges, args, opts, full_output)\u001b[0m\n\u001b[0;32m    712\u001b[0m     \u001b[1;32melse\u001b[0m\u001b[1;33m:\u001b[0m\u001b[1;33m\u001b[0m\u001b[0m\n\u001b[0;32m    713\u001b[0m         \u001b[0mopts\u001b[0m \u001b[1;33m=\u001b[0m \u001b[1;33m[\u001b[0m\u001b[0mopt\u001b[0m \u001b[1;32mif\u001b[0m \u001b[0mcallable\u001b[0m\u001b[1;33m(\u001b[0m\u001b[0mopt\u001b[0m\u001b[1;33m)\u001b[0m \u001b[1;32melse\u001b[0m \u001b[0m_OptFunc\u001b[0m\u001b[1;33m(\u001b[0m\u001b[0mopt\u001b[0m\u001b[1;33m)\u001b[0m \u001b[1;32mfor\u001b[0m \u001b[0mopt\u001b[0m \u001b[1;32min\u001b[0m \u001b[0mopts\u001b[0m\u001b[1;33m]\u001b[0m\u001b[1;33m\u001b[0m\u001b[0m\n\u001b[1;32m--> 714\u001b[1;33m     \u001b[1;32mreturn\u001b[0m \u001b[0m_NQuad\u001b[0m\u001b[1;33m(\u001b[0m\u001b[0mfunc\u001b[0m\u001b[1;33m,\u001b[0m \u001b[0mranges\u001b[0m\u001b[1;33m,\u001b[0m \u001b[0mopts\u001b[0m\u001b[1;33m,\u001b[0m \u001b[0mfull_output\u001b[0m\u001b[1;33m)\u001b[0m\u001b[1;33m.\u001b[0m\u001b[0mintegrate\u001b[0m\u001b[1;33m(\u001b[0m\u001b[1;33m*\u001b[0m\u001b[0margs\u001b[0m\u001b[1;33m)\u001b[0m\u001b[1;33m\u001b[0m\u001b[0m\n\u001b[0m\u001b[0;32m    715\u001b[0m \u001b[1;33m\u001b[0m\u001b[0m\n\u001b[0;32m    716\u001b[0m \u001b[1;33m\u001b[0m\u001b[0m\n",
      "\u001b[1;32m~\\Anaconda3\\lib\\site-packages\\scipy\\integrate\\quadpack.py\u001b[0m in \u001b[0;36mintegrate\u001b[1;34m(self, *args, **kwargs)\u001b[0m\n\u001b[0;32m    767\u001b[0m             \u001b[0mf\u001b[0m \u001b[1;33m=\u001b[0m \u001b[0mpartial\u001b[0m\u001b[1;33m(\u001b[0m\u001b[0mself\u001b[0m\u001b[1;33m.\u001b[0m\u001b[0mintegrate\u001b[0m\u001b[1;33m,\u001b[0m \u001b[0mdepth\u001b[0m\u001b[1;33m=\u001b[0m\u001b[0mdepth\u001b[0m\u001b[1;33m+\u001b[0m\u001b[1;36m1\u001b[0m\u001b[1;33m)\u001b[0m\u001b[1;33m\u001b[0m\u001b[0m\n\u001b[0;32m    768\u001b[0m         quad_r = quad(f, low, high, args=args, full_output=self.full_output,\n\u001b[1;32m--> 769\u001b[1;33m                       **opt)\n\u001b[0m\u001b[0;32m    770\u001b[0m         \u001b[0mvalue\u001b[0m \u001b[1;33m=\u001b[0m \u001b[0mquad_r\u001b[0m\u001b[1;33m[\u001b[0m\u001b[1;36m0\u001b[0m\u001b[1;33m]\u001b[0m\u001b[1;33m\u001b[0m\u001b[0m\n\u001b[0;32m    771\u001b[0m         \u001b[0mabserr\u001b[0m \u001b[1;33m=\u001b[0m \u001b[0mquad_r\u001b[0m\u001b[1;33m[\u001b[0m\u001b[1;36m1\u001b[0m\u001b[1;33m]\u001b[0m\u001b[1;33m\u001b[0m\u001b[0m\n",
      "\u001b[1;32m~\\Anaconda3\\lib\\site-packages\\scipy\\integrate\\quadpack.py\u001b[0m in \u001b[0;36mquad\u001b[1;34m(func, a, b, args, full_output, epsabs, epsrel, limit, points, weight, wvar, wopts, maxp1, limlst)\u001b[0m\n\u001b[0;32m    321\u001b[0m     \u001b[1;32mif\u001b[0m \u001b[1;33m(\u001b[0m\u001b[0mweight\u001b[0m \u001b[1;32mis\u001b[0m \u001b[1;32mNone\u001b[0m\u001b[1;33m)\u001b[0m\u001b[1;33m:\u001b[0m\u001b[1;33m\u001b[0m\u001b[0m\n\u001b[0;32m    322\u001b[0m         retval = _quad(func, a, b, args, full_output, epsabs, epsrel, limit,\n\u001b[1;32m--> 323\u001b[1;33m                        points)\n\u001b[0m\u001b[0;32m    324\u001b[0m     \u001b[1;32melse\u001b[0m\u001b[1;33m:\u001b[0m\u001b[1;33m\u001b[0m\u001b[0m\n\u001b[0;32m    325\u001b[0m         retval = _quad_weight(func, a, b, args, full_output, epsabs, epsrel,\n",
      "\u001b[1;32m~\\Anaconda3\\lib\\site-packages\\scipy\\integrate\\quadpack.py\u001b[0m in \u001b[0;36m_quad\u001b[1;34m(func, a, b, args, full_output, epsabs, epsrel, limit, points)\u001b[0m\n\u001b[0;32m    386\u001b[0m     \u001b[1;32mif\u001b[0m \u001b[0mpoints\u001b[0m \u001b[1;32mis\u001b[0m \u001b[1;32mNone\u001b[0m\u001b[1;33m:\u001b[0m\u001b[1;33m\u001b[0m\u001b[0m\n\u001b[0;32m    387\u001b[0m         \u001b[1;32mif\u001b[0m \u001b[0minfbounds\u001b[0m \u001b[1;33m==\u001b[0m \u001b[1;36m0\u001b[0m\u001b[1;33m:\u001b[0m\u001b[1;33m\u001b[0m\u001b[0m\n\u001b[1;32m--> 388\u001b[1;33m             \u001b[1;32mreturn\u001b[0m \u001b[0m_quadpack\u001b[0m\u001b[1;33m.\u001b[0m\u001b[0m_qagse\u001b[0m\u001b[1;33m(\u001b[0m\u001b[0mfunc\u001b[0m\u001b[1;33m,\u001b[0m\u001b[0ma\u001b[0m\u001b[1;33m,\u001b[0m\u001b[0mb\u001b[0m\u001b[1;33m,\u001b[0m\u001b[0margs\u001b[0m\u001b[1;33m,\u001b[0m\u001b[0mfull_output\u001b[0m\u001b[1;33m,\u001b[0m\u001b[0mepsabs\u001b[0m\u001b[1;33m,\u001b[0m\u001b[0mepsrel\u001b[0m\u001b[1;33m,\u001b[0m\u001b[0mlimit\u001b[0m\u001b[1;33m)\u001b[0m\u001b[1;33m\u001b[0m\u001b[0m\n\u001b[0m\u001b[0;32m    389\u001b[0m         \u001b[1;32melse\u001b[0m\u001b[1;33m:\u001b[0m\u001b[1;33m\u001b[0m\u001b[0m\n\u001b[0;32m    390\u001b[0m             \u001b[1;32mreturn\u001b[0m \u001b[0m_quadpack\u001b[0m\u001b[1;33m.\u001b[0m\u001b[0m_qagie\u001b[0m\u001b[1;33m(\u001b[0m\u001b[0mfunc\u001b[0m\u001b[1;33m,\u001b[0m\u001b[0mbound\u001b[0m\u001b[1;33m,\u001b[0m\u001b[0minfbounds\u001b[0m\u001b[1;33m,\u001b[0m\u001b[0margs\u001b[0m\u001b[1;33m,\u001b[0m\u001b[0mfull_output\u001b[0m\u001b[1;33m,\u001b[0m\u001b[0mepsabs\u001b[0m\u001b[1;33m,\u001b[0m\u001b[0mepsrel\u001b[0m\u001b[1;33m,\u001b[0m\u001b[0mlimit\u001b[0m\u001b[1;33m)\u001b[0m\u001b[1;33m\u001b[0m\u001b[0m\n",
      "\u001b[1;32m~\\Anaconda3\\lib\\site-packages\\scipy\\integrate\\quadpack.py\u001b[0m in \u001b[0;36mintegrate\u001b[1;34m(self, *args, **kwargs)\u001b[0m\n\u001b[0;32m    767\u001b[0m             \u001b[0mf\u001b[0m \u001b[1;33m=\u001b[0m \u001b[0mpartial\u001b[0m\u001b[1;33m(\u001b[0m\u001b[0mself\u001b[0m\u001b[1;33m.\u001b[0m\u001b[0mintegrate\u001b[0m\u001b[1;33m,\u001b[0m \u001b[0mdepth\u001b[0m\u001b[1;33m=\u001b[0m\u001b[0mdepth\u001b[0m\u001b[1;33m+\u001b[0m\u001b[1;36m1\u001b[0m\u001b[1;33m)\u001b[0m\u001b[1;33m\u001b[0m\u001b[0m\n\u001b[0;32m    768\u001b[0m         quad_r = quad(f, low, high, args=args, full_output=self.full_output,\n\u001b[1;32m--> 769\u001b[1;33m                       **opt)\n\u001b[0m\u001b[0;32m    770\u001b[0m         \u001b[0mvalue\u001b[0m \u001b[1;33m=\u001b[0m \u001b[0mquad_r\u001b[0m\u001b[1;33m[\u001b[0m\u001b[1;36m0\u001b[0m\u001b[1;33m]\u001b[0m\u001b[1;33m\u001b[0m\u001b[0m\n\u001b[0;32m    771\u001b[0m         \u001b[0mabserr\u001b[0m \u001b[1;33m=\u001b[0m \u001b[0mquad_r\u001b[0m\u001b[1;33m[\u001b[0m\u001b[1;36m1\u001b[0m\u001b[1;33m]\u001b[0m\u001b[1;33m\u001b[0m\u001b[0m\n",
      "\u001b[1;32m~\\Anaconda3\\lib\\site-packages\\scipy\\integrate\\quadpack.py\u001b[0m in \u001b[0;36mquad\u001b[1;34m(func, a, b, args, full_output, epsabs, epsrel, limit, points, weight, wvar, wopts, maxp1, limlst)\u001b[0m\n\u001b[0;32m    321\u001b[0m     \u001b[1;32mif\u001b[0m \u001b[1;33m(\u001b[0m\u001b[0mweight\u001b[0m \u001b[1;32mis\u001b[0m \u001b[1;32mNone\u001b[0m\u001b[1;33m)\u001b[0m\u001b[1;33m:\u001b[0m\u001b[1;33m\u001b[0m\u001b[0m\n\u001b[0;32m    322\u001b[0m         retval = _quad(func, a, b, args, full_output, epsabs, epsrel, limit,\n\u001b[1;32m--> 323\u001b[1;33m                        points)\n\u001b[0m\u001b[0;32m    324\u001b[0m     \u001b[1;32melse\u001b[0m\u001b[1;33m:\u001b[0m\u001b[1;33m\u001b[0m\u001b[0m\n\u001b[0;32m    325\u001b[0m         retval = _quad_weight(func, a, b, args, full_output, epsabs, epsrel,\n",
      "\u001b[1;32m~\\Anaconda3\\lib\\site-packages\\scipy\\integrate\\quadpack.py\u001b[0m in \u001b[0;36m_quad\u001b[1;34m(func, a, b, args, full_output, epsabs, epsrel, limit, points)\u001b[0m\n\u001b[0;32m    386\u001b[0m     \u001b[1;32mif\u001b[0m \u001b[0mpoints\u001b[0m \u001b[1;32mis\u001b[0m \u001b[1;32mNone\u001b[0m\u001b[1;33m:\u001b[0m\u001b[1;33m\u001b[0m\u001b[0m\n\u001b[0;32m    387\u001b[0m         \u001b[1;32mif\u001b[0m \u001b[0minfbounds\u001b[0m \u001b[1;33m==\u001b[0m \u001b[1;36m0\u001b[0m\u001b[1;33m:\u001b[0m\u001b[1;33m\u001b[0m\u001b[0m\n\u001b[1;32m--> 388\u001b[1;33m             \u001b[1;32mreturn\u001b[0m \u001b[0m_quadpack\u001b[0m\u001b[1;33m.\u001b[0m\u001b[0m_qagse\u001b[0m\u001b[1;33m(\u001b[0m\u001b[0mfunc\u001b[0m\u001b[1;33m,\u001b[0m\u001b[0ma\u001b[0m\u001b[1;33m,\u001b[0m\u001b[0mb\u001b[0m\u001b[1;33m,\u001b[0m\u001b[0margs\u001b[0m\u001b[1;33m,\u001b[0m\u001b[0mfull_output\u001b[0m\u001b[1;33m,\u001b[0m\u001b[0mepsabs\u001b[0m\u001b[1;33m,\u001b[0m\u001b[0mepsrel\u001b[0m\u001b[1;33m,\u001b[0m\u001b[0mlimit\u001b[0m\u001b[1;33m)\u001b[0m\u001b[1;33m\u001b[0m\u001b[0m\n\u001b[0m\u001b[0;32m    389\u001b[0m         \u001b[1;32melse\u001b[0m\u001b[1;33m:\u001b[0m\u001b[1;33m\u001b[0m\u001b[0m\n\u001b[0;32m    390\u001b[0m             \u001b[1;32mreturn\u001b[0m \u001b[0m_quadpack\u001b[0m\u001b[1;33m.\u001b[0m\u001b[0m_qagie\u001b[0m\u001b[1;33m(\u001b[0m\u001b[0mfunc\u001b[0m\u001b[1;33m,\u001b[0m\u001b[0mbound\u001b[0m\u001b[1;33m,\u001b[0m\u001b[0minfbounds\u001b[0m\u001b[1;33m,\u001b[0m\u001b[0margs\u001b[0m\u001b[1;33m,\u001b[0m\u001b[0mfull_output\u001b[0m\u001b[1;33m,\u001b[0m\u001b[0mepsabs\u001b[0m\u001b[1;33m,\u001b[0m\u001b[0mepsrel\u001b[0m\u001b[1;33m,\u001b[0m\u001b[0mlimit\u001b[0m\u001b[1;33m)\u001b[0m\u001b[1;33m\u001b[0m\u001b[0m\n",
      "\u001b[1;32m~\\Google Drive\\Research\\DM Capture\\Code\\MasterFunctions_Capture.ipynb\u001b[0m in \u001b[0;36mintegrand\u001b[1;34m(E, u)\u001b[0m\n",
      "\u001b[1;32m~\\Anaconda3\\lib\\site-packages\\scipy\\interpolate\\polyint.py\u001b[0m in \u001b[0;36m__call__\u001b[1;34m(self, x)\u001b[0m\n\u001b[0;32m     77\u001b[0m         \"\"\"\n\u001b[0;32m     78\u001b[0m         \u001b[0mx\u001b[0m\u001b[1;33m,\u001b[0m \u001b[0mx_shape\u001b[0m \u001b[1;33m=\u001b[0m \u001b[0mself\u001b[0m\u001b[1;33m.\u001b[0m\u001b[0m_prepare_x\u001b[0m\u001b[1;33m(\u001b[0m\u001b[0mx\u001b[0m\u001b[1;33m)\u001b[0m\u001b[1;33m\u001b[0m\u001b[0m\n\u001b[1;32m---> 79\u001b[1;33m         \u001b[0my\u001b[0m \u001b[1;33m=\u001b[0m \u001b[0mself\u001b[0m\u001b[1;33m.\u001b[0m\u001b[0m_evaluate\u001b[0m\u001b[1;33m(\u001b[0m\u001b[0mx\u001b[0m\u001b[1;33m)\u001b[0m\u001b[1;33m\u001b[0m\u001b[0m\n\u001b[0m\u001b[0;32m     80\u001b[0m         \u001b[1;32mreturn\u001b[0m \u001b[0mself\u001b[0m\u001b[1;33m.\u001b[0m\u001b[0m_finish_y\u001b[0m\u001b[1;33m(\u001b[0m\u001b[0my\u001b[0m\u001b[1;33m,\u001b[0m \u001b[0mx_shape\u001b[0m\u001b[1;33m)\u001b[0m\u001b[1;33m\u001b[0m\u001b[0m\n\u001b[0;32m     81\u001b[0m \u001b[1;33m\u001b[0m\u001b[0m\n",
      "\u001b[1;32m~\\Anaconda3\\lib\\site-packages\\scipy\\interpolate\\interpolate.py\u001b[0m in \u001b[0;36m_evaluate\u001b[1;34m(self, x_new)\u001b[0m\n\u001b[0;32m    606\u001b[0m         \u001b[1;31m#    The behavior is set by the bounds_error variable.\u001b[0m\u001b[1;33m\u001b[0m\u001b[1;33m\u001b[0m\u001b[0m\n\u001b[0;32m    607\u001b[0m         \u001b[0mx_new\u001b[0m \u001b[1;33m=\u001b[0m \u001b[0masarray\u001b[0m\u001b[1;33m(\u001b[0m\u001b[0mx_new\u001b[0m\u001b[1;33m)\u001b[0m\u001b[1;33m\u001b[0m\u001b[0m\n\u001b[1;32m--> 608\u001b[1;33m         \u001b[0my_new\u001b[0m \u001b[1;33m=\u001b[0m \u001b[0mself\u001b[0m\u001b[1;33m.\u001b[0m\u001b[0m_call\u001b[0m\u001b[1;33m(\u001b[0m\u001b[0mself\u001b[0m\u001b[1;33m,\u001b[0m \u001b[0mx_new\u001b[0m\u001b[1;33m)\u001b[0m\u001b[1;33m\u001b[0m\u001b[0m\n\u001b[0m\u001b[0;32m    609\u001b[0m         \u001b[1;32mif\u001b[0m \u001b[1;32mnot\u001b[0m \u001b[0mself\u001b[0m\u001b[1;33m.\u001b[0m\u001b[0m_extrapolate\u001b[0m\u001b[1;33m:\u001b[0m\u001b[1;33m\u001b[0m\u001b[0m\n\u001b[0;32m    610\u001b[0m             \u001b[0mbelow_bounds\u001b[0m\u001b[1;33m,\u001b[0m \u001b[0mabove_bounds\u001b[0m \u001b[1;33m=\u001b[0m \u001b[0mself\u001b[0m\u001b[1;33m.\u001b[0m\u001b[0m_check_bounds\u001b[0m\u001b[1;33m(\u001b[0m\u001b[0mx_new\u001b[0m\u001b[1;33m)\u001b[0m\u001b[1;33m\u001b[0m\u001b[0m\n",
      "\u001b[1;32m~\\Anaconda3\\lib\\site-packages\\scipy\\interpolate\\interpolate.py\u001b[0m in \u001b[0;36m_call_linear_np\u001b[1;34m(self, x_new)\u001b[0m\n\u001b[0;32m    545\u001b[0m     \u001b[1;32mdef\u001b[0m \u001b[0m_call_linear_np\u001b[0m\u001b[1;33m(\u001b[0m\u001b[0mself\u001b[0m\u001b[1;33m,\u001b[0m \u001b[0mx_new\u001b[0m\u001b[1;33m)\u001b[0m\u001b[1;33m:\u001b[0m\u001b[1;33m\u001b[0m\u001b[0m\n\u001b[0;32m    546\u001b[0m         \u001b[1;31m# Note that out-of-bounds values are taken care of in self._evaluate\u001b[0m\u001b[1;33m\u001b[0m\u001b[1;33m\u001b[0m\u001b[0m\n\u001b[1;32m--> 547\u001b[1;33m         \u001b[1;32mreturn\u001b[0m \u001b[0mnp\u001b[0m\u001b[1;33m.\u001b[0m\u001b[0minterp\u001b[0m\u001b[1;33m(\u001b[0m\u001b[0mx_new\u001b[0m\u001b[1;33m,\u001b[0m \u001b[0mself\u001b[0m\u001b[1;33m.\u001b[0m\u001b[0mx\u001b[0m\u001b[1;33m,\u001b[0m \u001b[0mself\u001b[0m\u001b[1;33m.\u001b[0m\u001b[0my\u001b[0m\u001b[1;33m)\u001b[0m\u001b[1;33m\u001b[0m\u001b[0m\n\u001b[0m\u001b[0;32m    548\u001b[0m \u001b[1;33m\u001b[0m\u001b[0m\n\u001b[0;32m    549\u001b[0m     \u001b[1;32mdef\u001b[0m \u001b[0m_call_linear\u001b[0m\u001b[1;33m(\u001b[0m\u001b[0mself\u001b[0m\u001b[1;33m,\u001b[0m \u001b[0mx_new\u001b[0m\u001b[1;33m)\u001b[0m\u001b[1;33m:\u001b[0m\u001b[1;33m\u001b[0m\u001b[0m\n",
      "\u001b[1;32m~\\Anaconda3\\lib\\site-packages\\numpy\\lib\\function_base.py\u001b[0m in \u001b[0;36minterp\u001b[1;34m(x, xp, fp, left, right, period)\u001b[0m\n\u001b[0;32m   2037\u001b[0m             \u001b[1;32mreturn\u001b[0m \u001b[0minterp_func\u001b[0m\u001b[1;33m(\u001b[0m\u001b[1;33m[\u001b[0m\u001b[0mx\u001b[0m\u001b[1;33m]\u001b[0m\u001b[1;33m,\u001b[0m \u001b[0mxp\u001b[0m\u001b[1;33m,\u001b[0m \u001b[0mfp\u001b[0m\u001b[1;33m,\u001b[0m \u001b[0mleft\u001b[0m\u001b[1;33m,\u001b[0m \u001b[0mright\u001b[0m\u001b[1;33m)\u001b[0m\u001b[1;33m.\u001b[0m\u001b[0mitem\u001b[0m\u001b[1;33m(\u001b[0m\u001b[1;33m)\u001b[0m\u001b[1;33m\u001b[0m\u001b[0m\n\u001b[0;32m   2038\u001b[0m         \u001b[1;32melse\u001b[0m\u001b[1;33m:\u001b[0m\u001b[1;33m\u001b[0m\u001b[0m\n\u001b[1;32m-> 2039\u001b[1;33m             \u001b[1;32mreturn\u001b[0m \u001b[0minterp_func\u001b[0m\u001b[1;33m(\u001b[0m\u001b[0mx\u001b[0m\u001b[1;33m,\u001b[0m \u001b[0mxp\u001b[0m\u001b[1;33m,\u001b[0m \u001b[0mfp\u001b[0m\u001b[1;33m,\u001b[0m \u001b[0mleft\u001b[0m\u001b[1;33m,\u001b[0m \u001b[0mright\u001b[0m\u001b[1;33m)\u001b[0m\u001b[1;33m\u001b[0m\u001b[0m\n\u001b[0m\u001b[0;32m   2040\u001b[0m     \u001b[1;32melse\u001b[0m\u001b[1;33m:\u001b[0m\u001b[1;33m\u001b[0m\u001b[0m\n\u001b[0;32m   2041\u001b[0m         \u001b[1;32mif\u001b[0m \u001b[0mperiod\u001b[0m \u001b[1;33m==\u001b[0m \u001b[1;36m0\u001b[0m\u001b[1;33m:\u001b[0m\u001b[1;33m\u001b[0m\u001b[0m\n",
      "\u001b[1;31mKeyboardInterrupt\u001b[0m: "
     ]
    }
   ],
   "source": [
    "a1 = photonCCap      (1000., 0.01, 10**-8, 1./137, alphaTherm(1000, 0.01))\n",
    "a2 = photonCCapApprox(1000., 0.01, 10**-8, 1./137, alphaTherm(1000, 0.01))\n",
    "b1 = photonCCap      (1000., 0.1,  10**-8, 1./137, alphaTherm(1000, 0.1))\n",
    "b2 = photonCCapApprox(1000., 0.1,  10**-8, 1./137, alphaTherm(1000, 0.1))\n",
    "c1 = photonCCap      (1000., 1,    10**-8, 1./137, alphaTherm(1000, 1))\n",
    "c2 = photonCCapApprox(1000., 1,    10**-8, 1./137, alphaTherm(1000, 1))\n",
    "d1 = photonCCap      (1000., 10,   10**-8, 1./137, alphaTherm(1000, 10))\n",
    "d2 = photonCCapApprox(1000., 10,   10**-8, 1./137, alphaTherm(1000, 10))\n",
    "\n",
    "print ('Complete')"
   ]
  },
  {
   "cell_type": "markdown",
   "metadata": {},
   "source": [
    "## Total Capture Rate Sanity Checks"
   ]
  },
  {
   "cell_type": "code",
   "execution_count": 25,
   "metadata": {},
   "outputs": [
    {
     "name": "stdout",
     "output_type": "stream",
     "text": [
      "107320400.0\n",
      "Complete\n"
     ]
    }
   ],
   "source": [
    "tempSumFlip = 0\n",
    "for element in CCapFlip0:\n",
    "    tempSumFlip += CCapFlip0[element]\n",
    "    \n",
    "print (tempSumFlip)\n",
    "print ('Complete')"
   ]
  },
  {
   "cell_type": "code",
   "execution_count": 26,
   "metadata": {},
   "outputs": [
    {
     "name": "stdout",
     "output_type": "stream",
     "text": [
      "m_A = 0.01 \n",
      "    Full:   1.0399647369612558e+16 \n",
      "    Approx: 9.657711050536685e+16\n",
      "m_A = 0.1 \n",
      "    Full:   1376241486631.7102 \n",
      "    Approx: 9657711074439.52\n",
      "m_A = 1 \n",
      "    Full:   138054859.78674296 \n",
      "    Approx: 965771346.4725723\n",
      "m_A = 10 \n",
      "    Full:   13806.259589016736 \n",
      "    Approx: 96579.52520236454\n",
      "Complete\n"
     ]
    }
   ],
   "source": [
    "print ('m_A = {0} \\n    Full:   {1} \\n    Approx: {2}'.format(0.01,a1,a2))\n",
    "print ('m_A = {0} \\n    Full:   {1} \\n    Approx: {2}'.format(0.1,b1,b2))\n",
    "print ('m_A = {0} \\n    Full:   {1} \\n    Approx: {2}'.format(1,c1,c2))\n",
    "print ('m_A = {0} \\n    Full:   {1} \\n    Approx: {2}'.format(10,d1,d2))\n",
    "\n",
    "print ('Complete')"
   ]
  },
  {
   "cell_type": "code",
   "execution_count": 27,
   "metadata": {},
   "outputs": [
    {
     "name": "stdout",
     "output_type": "stream",
     "text": [
      "828.657550328\n",
      "601.74538177\n",
      "599.556211179\n",
      "599.534327742\n",
      "Complete\n"
     ]
    }
   ],
   "source": [
    "print (difference(a1,a2))\n",
    "print (difference(b1,b2))\n",
    "print (difference(c1,c2))\n",
    "# print (difference(tempSumFlip,c2))\n",
    "print (difference(d1,d2))\n",
    "\n",
    "print ('Complete')"
   ]
  },
  {
   "cell_type": "markdown",
   "metadata": {
    "collapsed": true
   },
   "source": [
    "-------------"
   ]
  },
  {
   "cell_type": "markdown",
   "metadata": {
    "collapsed": true
   },
   "source": [
    "# Appendix"
   ]
  },
  {
   "cell_type": "markdown",
   "metadata": {
    "collapsed": true
   },
   "source": [
    "## A: Python Integration Analysis for the capture integrand"
   ]
  },
  {
   "cell_type": "markdown",
   "metadata": {},
   "source": [
    "If we try to calculate the capture integral directly in natural units, integrating $u$ from $0$ to $v_{gal}$ and $E_R$ from $E_{min}$ to $E_{max}$, we find that the integral returns zero. The differential cross section $\\frac{d \\sigma_N}{dE_R}$ (eqn09) never vanishes unless one of the model parameters is zero, the incident DM velocity $f(u)$ is never zero for the integraion region over $u$, so the only time the integrand vanishes is at $u=0$, the lower limit of integration. Clearly, there is something more subtle that we need to explore.\n",
    "\n",
    "To simplify the problem, we choose $m_X = 1$ GeV, and calculate values of Silicon (Si28). We completely remove the integrand and begin by plotting the integration bounds $E_{min}$ and $E_{max}$ in red and blue respectively. The valid region of integration from the heaviside function in eqn (1) is thus above the red curve and below the blue curve."
   ]
  },
  {
   "cell_type": "markdown",
   "metadata": {
    "collapsed": true
   },
   "source": [
    "## B: Calculating the Intersection Point of $E_{max}$ and $E_{min}$ in $u-E_R$ space"
   ]
  },
  {
   "cell_type": "code",
   "execution_count": 3,
   "metadata": {
    "ExecuteTime": {
     "end_time": "2018-03-26T22:41:46.992431Z",
     "start_time": "2018-03-26T22:41:46.794299Z"
    }
   },
   "outputs": [
    {
     "name": "stdout",
     "output_type": "stream",
     "text": [
      "Complete\n"
     ]
    }
   ],
   "source": [
    "#EscVelDictionary =  {  0 < u < vGal/c  |  0 < u < 0.00005 }  (for better resolution)\n",
    "               #key: { [emin] , [emax]  , [emin] , [emax]  }\n",
    "\n",
    "EscVelDictionary = { \n",
    "    'O16' : ([],[],[],[]),\n",
    "    'Si28': ([],[],[],[]),\n",
    "    'Mg24': ([],[],[],[]),\n",
    "    'Fe56': ([],[],[],[]),\n",
    "    'Ca40': ([],[],[],[]),\n",
    "    'P31' : ([],[],[],[]),\n",
    "    'S32' : ([],[],[],[]),\n",
    "    'Ni58': ([],[],[],[]),\n",
    "    'Al27': ([],[],[],[]),\n",
    "    'Cr52': ([],[],[],[]),\n",
    "}\n",
    "\n",
    "##############################\n",
    "# Change the plotting parameters\n",
    "#############################\n",
    "plotElement = 'Fe56'\n",
    "plotm_X = 1000\n",
    "plotrIndex = 490 # Escape Velocity at the surface of the earth\n",
    "\n",
    "\n",
    "#############\n",
    "# Determine Plot Region\n",
    "###############\n",
    "plotuInt = EminEmaxIntersection(plotElement, plotm_X, plotrIndex)\n",
    "plotuIntPlus = plotuInt*(1.3)\n",
    "plotE_RPlus = eMin(plotuIntPlus, plotm_X)\n",
    "\n",
    "# Original and \"Zoomed\" plot ranges\n",
    "pltrange0 = np.linspace(0,(V_gal),200)\n",
    "pltrange1 = np.linspace(0,plotuIntPlus,200)\n",
    "\n",
    "\n",
    "# Populate Plot vectors\n",
    "for element in EscVelDictionary:\n",
    "    for u in pltrange0:\n",
    "        plotEmin0 = eMin(u, plotm_X)\n",
    "        plotEmax0 = eMax(plotElement, plotm_X, plotrIndex, u)\n",
    "#         plotEmin0 = xiMin(u, plotm_X)\n",
    "#         plotEmax0 = xiMax(plotElement, plotm_X, plotrIndex, u)\n",
    "\n",
    "        EscVelDictionary[element][0].append(plotEmin0)\n",
    "        EscVelDictionary[element][1].append(plotEmax0)\n",
    "        \n",
    "for element in EscVelDictionary:\n",
    "    for u in pltrange1:\n",
    "        plotEmin1 = eMin(u, plotm_X)\n",
    "        plotEmax1 = eMax(element, plotm_X, plotrIndex, u)\n",
    "#         plotEmin1 = xiMin(u, plotm_X)\n",
    "#         plotEmax1 = xiMax(element, plotm_X, plotrIndex, u)\n",
    "\n",
    "        EscVelDictionary[element][2].append(plotEmin1)\n",
    "        EscVelDictionary[element][3].append(plotEmax1)\n",
    "        \n",
    "\n",
    "print ('Complete')"
   ]
  },
  {
   "cell_type": "markdown",
   "metadata": {
    "collapsed": true
   },
   "source": [
    "Recalling that the valid region of integration is *above* the blue curve and *below* the orange curve, it doesn't appear that there is **any** nonzero region looking at figure 1. Therefor, there must be some region very close to the origin where these two functions yield a nonzero integrand. We investigate further by zooming into the origin, as shown in figure 2."
   ]
  },
  {
   "cell_type": "markdown",
   "metadata": {
    "collapsed": true
   },
   "source": [
    "We can see that only for $u$ between $0$ and $\\approx \\mathcal{O}(10^{-5})$ is the $E_{max}$ actually above $E_{min}$, which means that in the integration limits as stated above, the integrand vanishes for nearly the entire region due to the Heaviside function. \n",
    "\n",
    "To make matters worse, the Python intetegrator  never chooses $u$ values between $0$ and $\\approx 0.00002$, giving the illusion that the integral is zero even though it isn't.\n",
    "\n",
    "The solution is:\n",
    "    - Solve for the intersection point of Emin and Emax, named \"uInt\"\n",
    "    - Integrate u from 0 to uInt\n",
    "    - Integrate E_R from eMin(u) to eMax(u)\n",
    "\n",
    "The values of $E_{min}$ and $E_{max}$ both depend on $u$, so the natural solution is for each $u$ value, \"zoom in\" to the region where the integrand is nonvanishing and calculate the integral in that region. This is acomplished by calculating the $u$ value at the intersection point $E_{min} = E_{max}$.\n",
    "\n",
    "Substituting $ w^2 = u^2 + v_{\\oplus}^2$ gives:\n",
    "\n",
    "$$ \\frac{1}{2}m_X u_{int}^2 = \\frac{2\\mu_N^2}{m_N}(u_{int}^2 + v_{\\oplus}^2) $$\n",
    "\n",
    "solving for the intersection point $u_{int}$ yields:\n",
    "\n",
    "$$ u_{int}^2 = \\frac{2\\mu_N^2}{m_N} \\frac{1}{ \\left( \\frac{1}{2m_X} - \\frac{2\\mu_N^2}{m_N} \\right)  } v_{\\oplus}^2 $$\n",
    "\n",
    "In the function definition, I have made the substitutions:\n",
    "$$ A = \\frac{1}{2}m_X \\ \\text{and} \\ B = 2 \\frac{\\mu_N^2}{m_N}$$\n",
    "\n",
    "yielding: \n",
    "$$ \\text{uInt} = \\sqrt{ \\frac{B}{A-B}}\\,v_{\\oplus} $$\n",
    "The actual coded function is:\n",
    "\n",
    "$$ IntDuDEr = \\int_{0}^{uInt} du \\, u f(u) \\int_{E_{min}}^{E_{Max}} dE_R \\, \\frac{d \\sigma_N}{dE_R}  $$\n",
    "\n",
    "\n",
    "where $\\Theta(\\Delta E)$ is accounted for in the limits of the $u$ integration."
   ]
  },
  {
   "cell_type": "code",
   "execution_count": 14,
   "metadata": {
    "ExecuteTime": {
     "end_time": "2018-03-26T22:48:05.254821Z",
     "start_time": "2018-03-26T22:48:03.541643Z"
    }
   },
   "outputs": [
    {
     "name": "stdout",
     "output_type": "stream",
     "text": [
      "Complete\n"
     ]
    },
    {
     "data": {
      "image/png": "[encoded data removed]",
      "text/plain": [
       "<matplotlib.figure.Figure at 0x21a115ff0b8>"
      ]
     },
     "metadata": {},
     "output_type": "display_data"
    },
    {
     "data": {
      "image/png": "[encoded data removed]",
      "text/plain": [
       "<matplotlib.figure.Figure at 0x21a1167d860>"
      ]
     },
     "metadata": {},
     "output_type": "display_data"
    }
   ],
   "source": [
    "###############\n",
    "# Define labels, lines, and colors\n",
    "###################\n",
    "\n",
    "plt1xLabel = np.linspace(0,V_gal,5)\n",
    "plt2xLabel = np.linspace(0,plotuIntPlus,5)\n",
    "\n",
    "line0 = np.asarray(EscVelDictionary[plotElement][0])\n",
    "line1 = np.asarray(EscVelDictionary[plotElement][1])\n",
    "\n",
    "line2 = np.asarray(EscVelDictionary[plotElement][2])\n",
    "line3 = np.asarray(EscVelDictionary[plotElement][3])\n",
    "\n",
    "myRed = '#E0BEC0'\n",
    "myGreen = '#BCDDC2'\n",
    "\n",
    "\n",
    "################################\n",
    "# Plots\n",
    "################################\n",
    "\n",
    "# Plot 1\n",
    "# This produces the full plot region of the limits of integration\n",
    "fig4 = plt.figure(figsize = (7,5))\n",
    "ax4 = fig4.add_subplot(111)\n",
    "plt.ticklabel_format(style='sci', axis='both', scilimits=(min(line0),max(line0)))\n",
    "ax4.fill_between(pltrange0, line0, line1, where = line0>line1, facecolor = myRed)\n",
    "ax4.fill_between(pltrange0, line0, line1, where = line0<line1, facecolor = myGreen)\n",
    "ax4.set_xticks(plt1xLabel)\n",
    "line0plot, = plt.plot(pltrange0,line0, label = 'eMin')\n",
    "line1plot, = plt.plot(pltrange0,line1, label = 'eMax')\n",
    "plt.legend([line1plot,line0plot],[r'$E_{R,max}$', r'$E_{R,min}$'], fontsize = 13)\n",
    "plt.xlabel('Velocity: $u$', fontsize = 13)\n",
    "plt.ylabel(r'Recoil Energy: $E_R$ [GeV]', fontsize = 13)\n",
    "plt.title('$m_X$ = {0} GeV'.format(plotm_X), loc = 'right', fontsize = 14)\n",
    "plt.suptitle(r'$\\xi_R$ vs. $u$ for {0}'.format(plotElement), fontsize = 16)\n",
    "plt.grid()\n",
    "\n",
    "\n",
    "# Plot 2\n",
    "# This produces the \"zoomed-in\" version which actually contributes to the integral\n",
    "fig5 = plt.figure(figsize = (7,5))\n",
    "ax5 = fig5.add_subplot(111)\n",
    "plt.ticklabel_format(style='sci', axis='both', scilimits=(min(line2),max(line2)))\n",
    "ax5.fill_between(pltrange1, line2, line3, where=line3>line2, facecolor = myGreen)\n",
    "ax5.fill_between(pltrange1, line2, line3, where=line3<line2, facecolor = myRed)\n",
    "ax5.set_xticks(plt2xLabel)\n",
    "line2plot, = plt.plot(pltrange1, line2, label = 'eMin')\n",
    "line3plot, = plt.plot(pltrange1, line3, label = 'eMax')\n",
    "line6plot  = plt.axhline(y= eMin(plotuInt, plotm_X), xmax = plotuInt/max(pltrange1), color = 'g', linestyle = ':')\n",
    "line7plot  = plt.axvline(x=plotuInt, ymax = (eMin(plotuInt,plotm_X)/plotE_RPlus), color = 'r', linestyle = ':')\n",
    "plt.xlabel('Velocity: $u$', fontsize = 13)\n",
    "plt.ylabel(r'Recoil Energy: $E_R$ [GeV]', fontsize = 13)\n",
    "plt.legend([line3plot,line2plot,line7plot,line6plot],[r'$E_{R,max}$',r'$E_{R,min}$', r'Maximum Velocity', r'Maximum Energy'], fontsize = 13)\n",
    "plt.title('$m_X$ = {0} GeV, Zoomed'.format(plotm_X), fontsize = 14, loc = 'right')\n",
    "plt.suptitle(r'$\\xi_R$ vs. $u$ for {0}'.format(plotElement), fontsize = 16)\n",
    "plt.axis([0, plotuIntPlus, 0, plotE_RPlus])\n",
    "# plt.axis([0,max(pltrange1), 0, max(EscVelDictionary[plotElement][2])])\n",
    "plt.grid()\n",
    "\n",
    "print ('Complete')"
   ]
  },
  {
   "cell_type": "code",
   "execution_count": 8,
   "metadata": {
    "ExecuteTime": {
     "end_time": "2018-03-26T22:45:58.485279Z",
     "start_time": "2018-03-26T22:45:43.300026Z"
    }
   },
   "outputs": [
    {
     "name": "stdout",
     "output_type": "stream",
     "text": [
      "Filename1: ERIron.png\n",
      "Filename2: ERIronZoom.png\n",
      "Complete\n"
     ]
    }
   ],
   "source": [
    "fileName4 = input('Filename1: ')\n",
    "fileName5 = input('Filename2: ')\n",
    "fig4.savefig(photonApproxPath(fileName4), dpi = 700)\n",
    "fig5.savefig(photonApproxPath(fileName5), dpi = 700)\n",
    "\n",
    "print ('Complete')"
   ]
  },
  {
   "cell_type": "markdown",
   "metadata": {},
   "source": [
    "### Testing the Intersection Function\n",
    "\n",
    "We calculate the intersection for an given element in the previous cell and then zoom into the region near the intersection"
   ]
  },
  {
   "cell_type": "code",
   "execution_count": 34,
   "metadata": {
    "ExecuteTime": {
     "end_time": "2018-03-26T19:24:55.248491Z",
     "start_time": "2018-03-26T19:24:54.658904Z"
    }
   },
   "outputs": [
    {
     "name": "stdout",
     "output_type": "stream",
     "text": [
      "Intersection (u, E_R) = (1.8073763652112098e-05, 1.633304662762042e-07)\n",
      "Complete\n"
     ]
    },
    {
     "data": {
      "image/png": "[encoded data removed]",
      "text/plain": [
       "<matplotlib.figure.Figure at 0x2bb38a36198>"
      ]
     },
     "metadata": {},
     "output_type": "display_data"
    }
   ],
   "source": [
    "plotXmin = plotuInt - plotuInt*(0.1)\n",
    "plotXmax = plotuInt + plotuInt*(0.1)\n",
    "\n",
    "plotYmin = eMin(plotuInt, plotm_X) - (0.1)*eMin(plotuInt, plotm_X)\n",
    "plotYmax = eMin(plotuInt, plotm_X) + (0.1)*eMin(plotuInt, plotm_X)\n",
    "\n",
    "plt6xLabel = np.linspace(plotXmin, plotXmax, 6)\n",
    "\n",
    "\n",
    "fig6 = plt.figure(figsize = (7,5))\n",
    "ax6 = fig6.add_subplot(111)\n",
    "plt.ticklabel_format(style='sci', axis='both', scilimits=(plotXmin ,plotXmax))\n",
    "ax6.set_xticks(plt6xLabel)\n",
    "line4 = np.asarray(EscVelDictionary[plotElement][2])\n",
    "line5 = np.asarray(EscVelDictionary[plotElement][3])\n",
    "ax6.fill_between(pltrange1, line4, line5, where=line5>line4, facecolor = myGreen)\n",
    "ax6.fill_between(pltrange1, line4, line5, where=line5<line4, facecolor = myRed)\n",
    "line4plot, = plt.plot(pltrange1, line4, label = 'eMin')\n",
    "line5plot, = plt.plot(pltrange1, line5, label = 'eMax')\n",
    "line6plot  = plt.axhline(y= eMin(plotuInt, plotm_X), xmax = 0.5,color = 'g', linestyle = ':')\n",
    "line7plot  = plt.axvline(x=plotuInt, ymax = 0.5, color = 'r', linestyle = ':')\n",
    "plt.xlabel('Velocity: u', fontsize = 13)\n",
    "plt.ylabel('$E_R$ $[GeV]$', fontsize = 13)\n",
    "plt.legend([line4plot,line5plot,line6plot,line7plot],\\\n",
    "           ['$E_{Min}$','$E_{Max}$','Intersection Energy','Intersection Velocity'],\\\n",
    "           loc = 'upper left')\n",
    "plt.suptitle('Intersection Sanity Check for {0}'.format(plotElement), fontsize = 16)\n",
    "plt.title('$m_X$ = {0}'.format(plotm_X), fontsize = 14, loc = 'right')\n",
    "plt.grid()\n",
    "plt.axis([plotXmin, plotXmax, plotYmin, plotYmax])\n",
    "\n",
    "print ('Intersection (u, E_R) = ({0}, {1})'.format(plotuInt, eMin(plotuInt, plotm_X)))\n",
    "print ('Complete')"
   ]
  },
  {
   "cell_type": "code",
   "execution_count": 35,
   "metadata": {
    "ExecuteTime": {
     "end_time": "2018-03-26T19:24:59.601179Z",
     "start_time": "2018-03-26T19:24:59.594137Z"
    }
   },
   "outputs": [
    {
     "name": "stdout",
     "output_type": "stream",
     "text": [
      "1.82930122229e-05\n"
     ]
    }
   ],
   "source": [
    "print (eMin(plotuInt, plotm_X)*56*2)"
   ]
  },
  {
   "cell_type": "code",
   "execution_count": null,
   "metadata": {
    "collapsed": true
   },
   "outputs": [],
   "source": []
  }
 ],
 "metadata": {
  "kernelspec": {
   "display_name": "Python 3",
   "language": "python",
   "name": "python3"
  },
  "language_info": {
   "codemirror_mode": {
    "name": "ipython",
    "version": 3
   },
   "file_extension": ".py",
   "mimetype": "text/x-python",
   "name": "python",
   "nbconvert_exporter": "python",
   "pygments_lexer": "ipython3",
   "version": "3.6.2"
  },
  "latex_envs": {
   "LaTeX_envs_menu_present": true,
   "autocomplete": true,
   "bibliofile": "biblio.bib",
   "cite_by": "apalike",
   "current_citInitial": 1,
   "eqLabelWithNumbers": true,
   "eqNumInitial": 1,
   "hotkeys": {
    "equation": "Ctrl-E",
    "itemize": "Ctrl-I"
   },
   "labels_anchors": false,
   "latex_user_defs": false,
   "report_style_numbering": false,
   "user_envs_cfg": false
  }
 },
 "nbformat": 4,
 "nbformat_minor": 2
}
