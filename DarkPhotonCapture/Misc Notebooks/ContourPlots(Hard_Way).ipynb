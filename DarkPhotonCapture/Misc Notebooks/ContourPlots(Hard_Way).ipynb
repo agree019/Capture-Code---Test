{
 "cells": [
  {
   "cell_type": "markdown",
   "metadata": {
    "collapsed": true
   },
   "source": [
    "------------\n",
    "# Generate Contour Data Files\n"
   ]
  },
  {
   "cell_type": "markdown",
   "metadata": {
    "collapsed": true
   },
   "source": [
    "## Initialize the Arrays and associated dataFrame objects\n",
    "mARange and epsilonRange specify the range of parameter values we want to scan over\n",
    "https://docs.scipy.org/doc/numpy/reference/generated/numpy.logspace.htmlm"
   ]
  },
  {
   "cell_type": "code",
   "execution_count": null,
   "metadata": {
    "collapsed": true
   },
   "outputs": [],
   "source": [
    "#########################################\n",
    "# Define parameter space Ranges\n",
    "#########################################\n",
    "# Linear Spacing\n",
    "# mALinRange = np.linspace(0.01, 10.0, 20)\n",
    "# epsilonLinRange = np.linspace(10**-10, 10**-5, 20)\n",
    "\n",
    "# Logarithmic Spacing\n",
    "mALogRange = np.logspace(-2, 1, 100, base = 10)\n",
    "epsilonLogRange = np.logspace(-10, -5, 100, base = 10)\n",
    "\n",
    "\n",
    "#########################################\n",
    "# Initialize Master Arrays\n",
    "#########################################\n",
    "masterLinArray = []\n",
    "masterLogArray = []\n",
    "\n",
    "\n",
    "#########################################\n",
    "# Populate the Master Arrays with the column headers and 'None' Cells\n",
    "#########################################\n",
    "\n",
    "# counter = 0\n",
    "# for epsilonTemp in epsilonLinRange:\n",
    "#     for mATemp in mALinRange:\n",
    "#         masterLinArray.append([counter,epsilonTemp,mATemp,'None'])\n",
    "#         counter += 1\n",
    "\n",
    "counter = 0\n",
    "for mATemp2 in mALogRange:\n",
    "    for epsilonTemp2 in epsilonLogRange:\n",
    "        masterLogArray.append([counter, ' ', mATemp2, epsilonTemp2,'None','None','None','None','None','None','None'])\n",
    "        counter += 1\n",
    "\n",
    "        \n",
    "#########################################\n",
    "# Create a PANDAS DataFrame from the Master Arrays\n",
    "#########################################\n",
    "\n",
    "# masterLinDataFrame = pd.DataFrame(data = masterLinArray, columns=['Counter', 'mA', 'Epsilon', 'Tau_TauCross'])\n",
    "masterLogDataFrame = pd.DataFrame(data = masterLogArray, \\\n",
    "    columns=['Counter', 'mX', 'mA', 'Epsilon',\\\n",
    "             'Capture',\\\n",
    "             'SigmaV','SommerfeldAvg','Annihilation', 'AnnihilationSomm',\\\n",
    "             'Tau_TauCross', 'Tau_TauCrossSomm'])\n",
    "\n",
    "print ('Complete')"
   ]
  },
  {
   "cell_type": "markdown",
   "metadata": {},
   "source": [
    "## Write the blank dataframe to an external .csv file\n",
    "\n",
    "TO DO: search directory for file, if found, raise flag."
   ]
  },
  {
   "cell_type": "code",
   "execution_count": null,
   "metadata": {
    "collapsed": true
   },
   "outputs": [],
   "source": [
    "# LinFilename = input('LinFilename: ')\n",
    "# index = LinFilename.find('.')\n",
    "# LinFilenamecopy = LinFilename[:index] + '_copy' + LinFilename[index:]\n",
    "\n",
    "LogFilename = input('LogFilename: ')\n",
    "writeFile = contourPath(LogFilename)\n",
    "\n",
    "index = LogFilename.find('.')\n",
    "LogFilenamecopy = LogFilename[:index] + '_copy' + LogFilename[index:]\n",
    "\n",
    "# masterLinDataFrame.to_csv(LinFilename, index=False)\n",
    "masterLogDataFrame.to_csv(writeFile, index=False)\n",
    "\n",
    "\n",
    "print ('Complete')"
   ]
  },
  {
   "cell_type": "markdown",
   "metadata": {},
   "source": [
    "## Define Contour File $m_X$ value"
   ]
  },
  {
   "cell_type": "code",
   "execution_count": null,
   "metadata": {
    "collapsed": true
   },
   "outputs": [],
   "source": [
    "filename = input('File Name: ')\n",
    "writeFile = contourPath(filename)\n",
    "index = filename.find('.')\n",
    "filenamecopy = filename[:index] + '_copy' + filename[index:]\n",
    "\n",
    "dataFrame = pd.read_csv(writeFile , sep = ',')\n",
    "\n",
    "m_XValue = float(input('m_X: '))\n",
    "\n",
    "dataFrame.set_value(0, 'mX', m_XValue)\n",
    "dataFrame.to_csv(writeFile, index=False)\n",
    "\n",
    "print ('Complete')"
   ]
  },
  {
   "cell_type": "markdown",
   "metadata": {},
   "source": [
    "------------\n",
    "## Contour File Sanity Check\n",
    "Sanity Check\n",
    "\n",
    "This cell serves as a sanity check to ensure that the .csv file contains what you expect it to\n",
    "\n",
    "Current working file:\n",
    "    - 100GeVHuge.csv\n"
   ]
  },
  {
   "cell_type": "code",
   "execution_count": null,
   "metadata": {
    "collapsed": true
   },
   "outputs": [],
   "source": [
    "filename = input('Filename: ')\n",
    "writeFile = contourPath(filename)\n",
    "index = filename.find('.')\n",
    "filenamecopy = filename[:index] + '_copy' + filename[index:]\n",
    "writeFileCopy = contourPath(filenamecopy)\n",
    "\n",
    "print (pd.read_csv(writeFile, sep = ','))\n",
    "print ('Complete')"
   ]
  },
  {
   "cell_type": "markdown",
   "metadata": {
    "collapsed": true
   },
   "source": [
    "## Read In CCap file and create interpolation\n",
    "\n",
    "Working CCapFile:\n",
    "    - 100GevCCap2500.csv"
   ]
  },
  {
   "cell_type": "code",
   "execution_count": null,
   "metadata": {
    "collapsed": true
   },
   "outputs": [],
   "source": [
    "CCapDataFile = input('CCap File:')\n",
    "readFile = CCapPath(CCapDataFile)\n",
    "rawData = pd.read_csv(readFile)\n",
    "\n",
    "xMin = min(rawData['mA'])\n",
    "xMax = max(rawData['mA'])\n",
    "yMin = min(rawData['Epsilon'])\n",
    "yMax = max(rawData['Epsilon'])\n",
    "\n",
    "\n",
    "xData = np.transpose([rawData['mA']])\n",
    "yData = np.transpose([rawData['Epsilon']])\n",
    "CCapData = np.transpose([rawData['Capture']])\n",
    "\n",
    "\n",
    "xData1 = xData.squeeze()\n",
    "yData1 = yData.squeeze()\n",
    "CCapData1 = np.transpose([rawData['Capture']]).squeeze()\n",
    "\n",
    "CCapInterp = interpolate.LinearNDInterpolator((xData1,yData1),CCapData1)\n",
    "\n",
    "print ('Complete')"
   ]
  },
  {
   "cell_type": "markdown",
   "metadata": {},
   "source": [
    "## Read-in, Calculate, and Overwrite csv\n",
    "\n",
    "The following cell:\n",
    "\n",
    "1). Reads in the working dataframe from the previous cell\n",
    "\n",
    "2). Calculates Values\n",
    "\n",
    "3). Appends the calculated values to their spot in the dataframe\n",
    "\n",
    "4). Overwrites the now updated .csv"
   ]
  },
  {
   "cell_type": "code",
   "execution_count": null,
   "metadata": {
    "collapsed": true
   },
   "outputs": [],
   "source": [
    "print (filename)\n",
    "writeFile = contourPath(filename)\n",
    "dataIn = pd.read_csv(writeFile, sep = ',')\n",
    "dataIn.to_csv(writeFileCopy, sep = ',')\n",
    "\n",
    "#########################################\n",
    "# Define loop range\n",
    "#########################################\n",
    "loopRange = range(0,len(dataIn['Counter']))\n",
    "\n",
    "finishedCounter = 1\n",
    "for index in loopRange:\n",
    "    # Scan down 'Capture' column, start calculating at first non-calculated value\n",
    "    testValue = dataIn.loc[index, 'Capture']\n",
    "    if (testValue == 'None'):\n",
    "        \n",
    "        #########################################\n",
    "        # Initialize Parameters\n",
    "        #########################################\n",
    "        m_X = float(dataIn.loc[0,'mX'])\n",
    "        m_ATemp = float(dataIn.loc[index, 'mA'])\n",
    "        epsilonTemp = float(dataIn.loc[index, 'Epsilon'])\n",
    "        alpha = 1./137\n",
    "                        \n",
    "        \n",
    "        ##########################        Calculations       #########################\n",
    "\n",
    "        # alpha_X                       : alphaTherm(m_X,m_ATemp)\n",
    "        # Capture Rate                  : CCap(m_X, m_ATemp, epsilonTemp, 1./137)\n",
    "        # Tree Level Cross Section      : sigmaVtree(m_X , m_ATemp, alpha_X)\n",
    "        # Thermally Averaged Sommerfeld : thermAvgSommerfeld(m_X, m_ATemp, alpha_X)\n",
    "        # Annihilation (no Somm)        : CAnnCalc(m_X, m_ATemp, sigmaVtree)\n",
    "        # AnnihilationSomm (Somm)       : CAnnCalcSomm(m_X, m_ATemp, sigmaVtree, thermAvgSomm)\n",
    "        # Tau (no Somm)                 : tau(capture, annihilation)\n",
    "        # TauSomm (Somm)                : tau(capture, annihilationSomm)\n",
    "        # Tau/TauCross (no Somm)        : Tau/tauCross\n",
    "        # TauSomm/TauCross (Somm)       : TauSomm/tauCross\n",
    "\n",
    "#         tauCross = yr2s(4.5e9) #sec\n",
    "        #########################################\n",
    "        # index = 0 Full Calculation\n",
    "        #########################################\n",
    "        if (index == 0):\n",
    "            alpha_X = alphaTherm(m_X, m_ATemp)\n",
    "            capture = CCapInterp(m_ATemp,epsilonTemp)\n",
    "#             capture = CCap(m_X, m_ATemp, epsilonTemp, 1./137) # alpha_x definied by alphaTherm()\n",
    "            sigmaV = sigmaVtree(m_X , m_ATemp, alpha_X)\n",
    "            sommAvg = thermAvgSommerfeld(m_X, m_ATemp, alpha_X)\n",
    "            annihilation = CAnnCalc(m_X, m_ATemp, sigmaV)\n",
    "            annihilationSomm = CAnnSommCalc(m_X, m_ATemp, sigmaV, sommAvg)\n",
    "\n",
    "            Tau = tau(capture,annihilation)\n",
    "            TauSomm = tau(capture,annihilationSomm)\n",
    "\n",
    "            TauTauCross = Tau/tauCross\n",
    "            TauTauCrossSomm = TauSomm/tauCross\n",
    "\n",
    "            dataIn.set_value(index, 'Capture', capture)\n",
    "            dataIn.set_value(index, 'SigmaV', sigmaV)\n",
    "            dataIn.set_value(index, 'SommerfeldAvg', sommAvg)\n",
    "            dataIn.set_value(index, 'Annihilation', annihilation)\n",
    "            dataIn.set_value(index, 'AnnihilationSomm', annihilationSomm)\n",
    "            dataIn.set_value(index, 'Tau_TauCross', TauTauCross)\n",
    "            dataIn.set_value(index, 'Tau_TauCrossSomm', TauTauCrossSomm)\n",
    "            \n",
    "            \n",
    "        #########################################\n",
    "        # m_A not unique -> Minimal Calculation\n",
    "        #########################################\n",
    "        elif(m_ATemp == float(dataIn.loc[index-1, 'mA'])):\n",
    "#           Store previous data\n",
    "            sigmaVPrev = float(dataIn.loc[index-1,'SigmaV'])\n",
    "            sommAvgPrev = float(dataIn.loc[index-1,'SommerfeldAvg'])\n",
    "            annihilationPrev = float(dataIn.loc[index-1,'Annihilation'])\n",
    "            annihilationSommPrev = float(dataIn.loc[index-1,'AnnihilationSomm'])\n",
    "#           Update Current data\n",
    "            capture = CCapInterp(m_ATemp,epsilonTemp)\n",
    "#             capture = CCap(m_X, m_ATemp, epsilonTemp, 1./137)\n",
    "            sigmaV = sigmaVPrev\n",
    "            sommAvg = sommAvgPrev\n",
    "            annihilation = annihilationPrev\n",
    "            annihilationSomm = annihilationSommPrev\n",
    "            \n",
    "            Tau = tau(capture,annihilation)\n",
    "            TauSomm = tau(capture,annihilationSomm)\n",
    "\n",
    "            TauTauCross = Tau/tauCross\n",
    "            TauTauCrossSomm = TauSomm/tauCross\n",
    "            \n",
    "            #########################################\n",
    "            # Overwrite current index in data file\n",
    "            #########################################\n",
    "            dataIn.set_value(index, 'Capture', capture)\n",
    "            dataIn.set_value(index, 'SigmaV', sigmaV)\n",
    "            dataIn.set_value(index, 'SommerfeldAvg', sommAvg)\n",
    "            dataIn.set_value(index, 'Annihilation', annihilation)\n",
    "            dataIn.set_value(index, 'AnnihilationSomm', annihilationSomm)\n",
    "            dataIn.set_value(index, 'Tau_TauCross', TauTauCross)\n",
    "            dataIn.set_value(index, 'Tau_TauCrossSomm', TauTauCrossSomm)\n",
    "            \n",
    "        #########################################\n",
    "        # m_A unique -> Full Calculations\n",
    "        #########################################\n",
    "        elif(m_ATemp != float(dataIn.loc[index-1,'mA'])):\n",
    "            alpha_X = alphaTherm(m_X, m_ATemp)\n",
    "            capture = CCapInterp(m_ATemp,epsilonTemp)\n",
    "#             capture = CCap(m_X, m_ATemp, epsilonTemp, 1./137) # alpha_x definied by alphaTherm()\n",
    "            sigmaV = sigmaVtree(m_X, m_ATemp, alpha_X)\n",
    "            sommAvg = thermAvgSommerfeld(m_X, m_ATemp, alpha_X)\n",
    "            annihilation = CAnnCalc(m_X, m_ATemp, sigmaV)\n",
    "            annihilationSomm = CAnnSommCalc(m_X, m_ATemp, sigmaV, sommAvg)\n",
    "\n",
    "            Tau = tau(capture,annihilation)\n",
    "            TauSomm = tau(capture,annihilationSomm)\n",
    "\n",
    "            TauTauCross = Tau/tauCross\n",
    "            TauTauCrossSomm = TauSomm/tauCross\n",
    "            \n",
    "            #########################################\n",
    "            # Overwrite current index in data file\n",
    "            #########################################\n",
    "            dataIn.set_value(index, 'Capture', capture)\n",
    "            dataIn.set_value(index, 'SigmaV', sigmaV)\n",
    "            dataIn.set_value(index, 'SommerfeldAvg', sommAvg)\n",
    "            dataIn.set_value(index, 'Annihilation', annihilation)\n",
    "            dataIn.set_value(index, 'AnnihilationSomm', annihilationSomm)\n",
    "            dataIn.set_value(index, 'Tau_TauCross', TauTauCross)\n",
    "            dataIn.set_value(index, 'Tau_TauCrossSomm', TauTauCrossSomm)\n",
    "        \n",
    "        ##########################      End Calculations     #########################\n",
    "\n",
    "        \n",
    "        #########################################\n",
    "        # Overwrite csv File\n",
    "        #########################################\n",
    "        dataIn.to_csv(writeFile, sep=',',index=False)        \n",
    "        finishedCounter+=1\n",
    "#         print 'Calculations for index: {0}, (m_A, Epsilon) = ({1},{2}) recorded'.format(index, m_ATemp, epsilonTemp)\n",
    "        if (index % 10 == 0):\n",
    "            print ('Calculations for index: {0} recorded'.format(index))\n",
    "#             print ('Calculations for index: {0}, (m_A, Epsilon) = ({1},{2}) recorded'.format(index, m_ATemp, epsilonTemp))\n",
    "        \n",
    "    elif (testValue != 'None'):\n",
    "        finishedCounter += 1\n",
    "        continue\n",
    "    \n",
    "    if (finishedCounter == len(dataIn['Counter'])):\n",
    "        print ('All Calculations Complete')\n",
    "        break\n",
    "        \n",
    "        \n",
    "dataIn.to_csv(writeFileCopy, sep=',',index=False)\n",
    "    \n",
    "print ('Complete')"
   ]
  },
  {
   "cell_type": "markdown",
   "metadata": {},
   "source": [
    "### Manual Overwrite just for good measure"
   ]
  },
  {
   "cell_type": "code",
   "execution_count": null,
   "metadata": {
    "collapsed": true
   },
   "outputs": [],
   "source": [
    "print (filename)\n",
    "writeFile = contourPath(filename)\n",
    "writeFileCopy = contourPath(filenamecopy)\n",
    "dataIn.to_csv(writeFile, sep=',',index=False)\n",
    "dataIn.to_csv(writeFileCopy, sep=',',index=False)\n",
    "\n",
    "print ('Complete')"
   ]
  },
  {
   "cell_type": "code",
   "execution_count": null,
   "metadata": {
    "collapsed": true
   },
   "outputs": [],
   "source": []
  },
  {
   "cell_type": "code",
   "execution_count": null,
   "metadata": {
    "collapsed": true
   },
   "outputs": [],
   "source": []
  },
  {
   "cell_type": "code",
   "execution_count": null,
   "metadata": {
    "collapsed": true
   },
   "outputs": [],
   "source": []
  },
  {
   "cell_type": "code",
   "execution_count": null,
   "metadata": {
    "collapsed": true
   },
   "outputs": [],
   "source": []
  },
  {
   "cell_type": "code",
   "execution_count": null,
   "metadata": {
    "collapsed": true
   },
   "outputs": [],
   "source": []
  },
  {
   "cell_type": "code",
   "execution_count": null,
   "metadata": {
    "collapsed": true
   },
   "outputs": [],
   "source": []
  }
 ],
 "metadata": {
  "kernelspec": {
   "display_name": "Python 3",
   "language": "python",
   "name": "python3"
  },
  "language_info": {
   "codemirror_mode": {
    "name": "ipython",
    "version": 3
   },
   "file_extension": ".py",
   "mimetype": "text/x-python",
   "name": "python",
   "nbconvert_exporter": "python",
   "pygments_lexer": "ipython3",
   "version": "3.6.0"
  }
 },
 "nbformat": 4,
 "nbformat_minor": 2
}
