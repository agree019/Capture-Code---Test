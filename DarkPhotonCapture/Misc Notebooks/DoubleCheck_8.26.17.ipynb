{
 "cells": [
  {
   "cell_type": "markdown",
   "metadata": {},
   "source": [
    "## Number Double check (8/26/17)"
   ]
  },
  {
   "cell_type": "code",
   "execution_count": 1,
   "metadata": {},
   "outputs": [
    {
     "name": "stdout",
     "output_type": "stream",
     "text": [
      "Complete\n"
     ]
    }
   ],
   "source": [
    "import io, os, sys, types\n",
    "\n",
    "from IPython import get_ipython\n",
    "from nbformat import read\n",
    "from IPython.core.interactiveshell import InteractiveShell\n",
    "\n",
    "def find_notebook(fullname, path=None):\n",
    "    \"\"\"find a notebook, given its fully qualified name and an optional path\n",
    "\n",
    "    This turns \"foo.bar\" into \"foo/bar.ipynb\"\n",
    "    and tries turning \"Foo_Bar\" into \"Foo Bar\" if Foo_Bar\n",
    "    does not exist.\n",
    "    \"\"\"\n",
    "    name = fullname.rsplit('.', 1)[-1]\n",
    "    if not path:\n",
    "        path = ['']\n",
    "    for d in path:\n",
    "        nb_path = os.path.join(d, name + \".ipynb\")\n",
    "        if os.path.isfile(nb_path):\n",
    "            return nb_path\n",
    "        # let import Notebook_Name find \"Notebook Name.ipynb\"\n",
    "        nb_path = nb_path.replace(\"_\", \" \")\n",
    "        if os.path.isfile(nb_path):\n",
    "            return nb_path\n",
    "        \n",
    "class NotebookLoader(object):\n",
    "    \"\"\"Module Loader for Jupyter Notebooks\"\"\"\n",
    "    def __init__(self, path=None):\n",
    "        self.shell = InteractiveShell.instance()\n",
    "        self.path = path\n",
    "\n",
    "    def load_module(self, fullname):\n",
    "        \"\"\"import a notebook as a module\"\"\"\n",
    "        path = find_notebook(fullname, self.path)\n",
    "\n",
    "        print (\"importing Jupyter notebook from %s\" % path)\n",
    "\n",
    "        # load the notebook object\n",
    "        with io.open(path, 'r', encoding='utf-8') as f:\n",
    "            nb = read(f, 4)\n",
    "\n",
    "\n",
    "        # create the module and add it to sys.modules\n",
    "        # if name in sys.modules:\n",
    "        #    return sys.modules[name]\n",
    "        mod = types.ModuleType(fullname)\n",
    "        mod.__file__ = path\n",
    "        mod.__loader__ = self\n",
    "        mod.__dict__['get_ipython'] = get_ipython\n",
    "        sys.modules[fullname] = mod\n",
    "\n",
    "        # extra work to ensure that magics that would affect the user_ns\n",
    "        # actually affect the notebook module's ns\n",
    "        save_user_ns = self.shell.user_ns\n",
    "        self.shell.user_ns = mod.__dict__\n",
    "\n",
    "        try:\n",
    "            for cell in nb.cells:\n",
    "                if cell.cell_type == 'code':\n",
    "                    # transform the input to executable Python\n",
    "                    code = self.shell.input_transformer_manager.transform_cell(cell.source)\n",
    "                    # run the code in themodule\n",
    "                    exec(code, mod.__dict__)\n",
    "        finally:\n",
    "            self.shell.user_ns = save_user_ns\n",
    "        return mod\n",
    "\n",
    "    \n",
    "class NotebookFinder(object):\n",
    "    \"\"\"Module finder that locates Jupyter Notebooks\"\"\"\n",
    "    def __init__(self):\n",
    "        self.loaders = {}\n",
    "\n",
    "    def find_module(self, fullname, path=None):\n",
    "        nb_path = find_notebook(fullname, path)\n",
    "        if not nb_path:\n",
    "            return\n",
    "\n",
    "        key = path\n",
    "        if path:\n",
    "            # lists aren't hashable\n",
    "            key = os.path.sep.join(path)\n",
    "\n",
    "        if key not in self.loaders:\n",
    "            self.loaders[key] = NotebookLoader(path)\n",
    "        return self.loaders[key]\n",
    "\n",
    "    \n",
    "sys.meta_path.append(NotebookFinder())\n",
    "\n",
    "\n",
    "print ('Complete')"
   ]
  },
  {
   "cell_type": "code",
   "execution_count": 2,
   "metadata": {},
   "outputs": [
    {
     "name": "stdout",
     "output_type": "stream",
     "text": [
      "importing Jupyter notebook from Masterfunctions_SignalRates.ipynb\n",
      "importing Jupyter notebook from MasterFunctions_Capture.ipynb\n",
      "importing Jupyter notebook from MasterFunctions_ModelData.ipynb\n",
      "------ MasterFunctions_ModelData Imported ------\n",
      "------ MasterFunctions_Capture Loaded ------\n",
      "importing Jupyter notebook from MasterFunctions_Annihilation.ipynb\n",
      "------ MasterFunctions_Annihilation Loaded ------\n",
      "------ MasterFunctions_EventRates Imported ------\n",
      "All Notebooks Imported\n"
     ]
    }
   ],
   "source": [
    "from Masterfunctions_SignalRates import *\n",
    "\n",
    "print ('All Notebooks Imported')"
   ]
  },
  {
   "cell_type": "markdown",
   "metadata": {},
   "source": [
    "Define the following parameters:\n",
    "\\begin{enumerate}\n",
    "\\item $m_X = 1000$ GeV\n",
    "\\item $m_A=1.0$ GeV\n",
    "\\item $\\varepsilon = 10^{-8}$\n",
    "\\item $\\alpha = 1/137$\n",
    "\\item $\\alpha_X = \\alpha_{Th}$\n",
    "\\item BR = 1\n",
    "\\end{enumerate}"
   ]
  },
  {
   "cell_type": "code",
   "execution_count": 3,
   "metadata": {},
   "outputs": [
    {
     "name": "stdout",
     "output_type": "stream",
     "text": [
      "We define the following:\n",
      "m_X     = 1000.0 Gev\n",
      "m_A     = 1.0 GeV\n",
      "Epsilon = 10^{-8}\n",
      "alpha   = 1/137\n",
      "alpha_X = alpha_{Th} = 0.0345505918929\n"
     ]
    }
   ],
   "source": [
    "print ('We define the following:')\n",
    "print ('m_X     = 1000.0 Gev')\n",
    "print ('m_A     = 1.0 GeV')\n",
    "print ('Epsilon = 10^{-8}')\n",
    "print ('alpha   = 1/137')\n",
    "print ('alpha_X = alpha_{Th} = 0.0345505918929')"
   ]
  },
  {
   "cell_type": "code",
   "execution_count": 4,
   "metadata": {},
   "outputs": [
    {
     "name": "stdout",
     "output_type": "stream",
     "text": [
      "Complete\n"
     ]
    }
   ],
   "source": [
    "testm_X = 1000.\n",
    "testm_A = 1.\n",
    "testEpsilon = 10**-8\n",
    "testAlpha = 1./137\n",
    "testAlpha_X = alphaTherm(testm_X,testm_A)\n",
    "testBR = 1.\n",
    "\n",
    "print ('Complete')"
   ]
  },
  {
   "cell_type": "markdown",
   "metadata": {},
   "source": [
    "Calculate the following\n",
    "\\begin{enumerate}\n",
    "\\item CCap Iron\n",
    "\\item CCap Total\n",
    "\\item ThermAvgSommerfeld\n",
    "\\item CAnn\n",
    "\\item Decay Length\n",
    "\\end{enumerate}"
   ]
  },
  {
   "cell_type": "code",
   "execution_count": 5,
   "metadata": {},
   "outputs": [
    {
     "name": "stdout",
     "output_type": "stream",
     "text": [
      "Complete\n"
     ]
    }
   ],
   "source": [
    "#################\n",
    "# Capture\n",
    "#################\n",
    "\n",
    "CCapAdam0 = {\n",
    "    'O16' : 0,\n",
    "    'Si28': 0,\n",
    "    'Mg24': 0,\n",
    "    'Fe56': 0,\n",
    "    'Ca40': 0,\n",
    "    'P31' : 0,\n",
    "    'S32' : 0,\n",
    "    'Al27': 0,\n",
    "    'Cr52': 0 \n",
    "}\n",
    "\n",
    "tempSum = 0\n",
    "for element in elementList:\n",
    "    CCapAdam0[element] = singleElementCap(element, testm_X, testm_A, testEpsilon, testAlpha, testAlpha_X)\n",
    "    tempSum += CCapAdam0[element]\n",
    "    \n",
    "\n",
    "capIron = CCapAdam0['Fe56']\n",
    "capTotal = tempSum\n",
    "\n",
    "#################\n",
    "# Annihilation\n",
    "#################\n",
    "SigmaVTree = sigmaVtree(testm_X ,testm_A, testAlpha_X)\n",
    "Sommerfeld = thermAvgSommerfeld(testm_X, testm_A, testAlpha_X)\n",
    "\n",
    "cann = CAnnCalc(testm_X, testm_A, testAlpha_X, SigmaVTree)\n",
    "cannSomm = CAnnSommCalc(testm_X, testm_A, testAlpha_X, SigmaVTree, Sommerfeld)\n",
    "\n",
    "#################\n",
    "# EQ Time\n",
    "#################\n",
    "Tau = tau(capTotal, cann)\n",
    "TauSomm = tau(capTotal, cannSomm)\n",
    "\n",
    "\n",
    "#################\n",
    "# Decay Length\n",
    "#################\n",
    "DecayLength = decayLength(testm_X, testm_A, testEpsilon, testBR)\n",
    "\n",
    "print ('Complete')"
   ]
  },
  {
   "cell_type": "code",
   "execution_count": 6,
   "metadata": {},
   "outputs": [
    {
     "name": "stdout",
     "output_type": "stream",
     "text": [
      "--------------\n",
      "CCap Iron  : 121117517.03176607 [sec^-1]\n",
      "CCap Total : 138044519.52916643 [sec^-1]\n",
      "\n",
      "Therm Avg Sommerfeld : 222.07693939153845\n",
      "CAnn (no Somm)       : 7.474936906482988e-49 [sec^-1]\n",
      "CAnn (Somm)          : 1.6600111103365965e-46 [sec^-1]\n",
      "\n",
      "Tau (no Sommerfeld) : 9.844341016146682e+19 [sec]\n",
      "Tau (Sommerfeld)    : 6.605944457989461e+18 [sec]\n",
      "\n",
      "Decay Length (BR = 1) : 84700000.0 [cm]\n",
      "--------------\n"
     ]
    }
   ],
   "source": [
    "print ('--------------')\n",
    "print ('CCap Iron  : {0} [sec^-1]'.format(capIron))\n",
    "print ('CCap Total : {0} [sec^-1]'.format(capTotal))\n",
    "print ()\n",
    "print ('Therm Avg Sommerfeld : {0}'.format(Sommerfeld))\n",
    "print ('CAnn (no Somm)       : {0} [sec^-1]'.format(cann))\n",
    "print ('CAnn (Somm)          : {0} [sec^-1]'.format(cannSomm))\n",
    "print ()\n",
    "print ('Tau (no Sommerfeld) : {0} [sec]'.format(Tau))\n",
    "print ('Tau (Sommerfeld)    : {0} [sec]'.format(TauSomm))\n",
    "print ()\n",
    "print ('Decay Length (BR = 1) : {0} [cm]'.format(DecayLength))\n",
    "print ('--------------')\n"
   ]
  },
  {
   "cell_type": "code",
   "execution_count": null,
   "metadata": {
    "collapsed": true
   },
   "outputs": [],
   "source": []
  }
 ],
 "metadata": {
  "kernelspec": {
   "display_name": "Python 3",
   "language": "python",
   "name": "python3"
  },
  "language_info": {
   "codemirror_mode": {
    "name": "ipython",
    "version": 3
   },
   "file_extension": ".py",
   "mimetype": "text/x-python",
   "name": "python",
   "nbconvert_exporter": "python",
   "pygments_lexer": "ipython3",
   "version": "3.6.2"
  },
  "latex_envs": {
   "LaTeX_envs_menu_present": true,
   "autocomplete": false,
   "bibliofile": "biblio.bib",
   "cite_by": "apalike",
   "current_citInitial": 1,
   "eqLabelWithNumbers": true,
   "eqNumInitial": 1,
   "hotkeys": {
    "equation": "Ctrl-E",
    "itemize": "Ctrl-I"
   },
   "labels_anchors": false,
   "latex_user_defs": false,
   "report_style_numbering": false,
   "user_envs_cfg": false
  }
 },
 "nbformat": 4,
 "nbformat_minor": 2
}
