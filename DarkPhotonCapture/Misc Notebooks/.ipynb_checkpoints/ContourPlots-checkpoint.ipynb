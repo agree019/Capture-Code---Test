{
 "cells": [
  {
   "cell_type": "markdown",
   "metadata": {},
   "source": [
    "# Contour Plot (Fig. 2.2)\n",
    "\n",
    "Problem: Python doesn't like it when I pass a meshgrid object into a function to be integrated over. However, I can create two arrays which simulate the meshgrid and loop over them and python is happy.\n",
    "\n",
    "The next thing I have to do is figure out how to create a contour plot from 3 arrays:\n",
    "https://docs.scipy.org/doc/scipy-0.18.1/reference/generated/scipy.interpolate.griddata.html\n",
    "- Array X,Y data\n",
    "- Loop over X,Y creating an array of Z (CCap) data of dimension (X x Y)\n",
    "- We now have 3 arrays of X, Y, and Z data\n",
    "\n",
    "\n",
    "- points = np.column_stack((x,y)): These are the data points (x and y arrays) that we know\n",
    "- values = CCap(): This is the function evaulated at those data points\n",
    "- ZGrid = interpolate.griddata(points, values, (gridX, gridY), method='cubic')\n",
    "\n"
   ]
  },
  {
   "cell_type": "markdown",
   "metadata": {
    "collapsed": true
   },
   "source": [
    "## Notebook Initialize"
   ]
  },
  {
   "cell_type": "code",
   "execution_count": 1,
   "metadata": {},
   "outputs": [
    {
     "name": "stdout",
     "output_type": "stream",
     "text": [
      "Complete\n"
     ]
    }
   ],
   "source": [
    "import numpy as np\n",
    "import scipy as sp\n",
    "import pandas as pd\n",
    "\n",
    "import matplotlib.pyplot as plt\n",
    "%matplotlib inline\n",
    "\n",
    "print ('Complete')"
   ]
  },
  {
   "cell_type": "markdown",
   "metadata": {},
   "source": [
    "---------"
   ]
  },
  {
   "cell_type": "markdown",
   "metadata": {},
   "source": [
    "# Contour Plots"
   ]
  },
  {
   "cell_type": "markdown",
   "metadata": {},
   "source": [
    "The following cell defines a function, contourPlot(), which takes in a given data file and returns a contour plot of $\\frac{\\tau}{\\tau_{\\oplus}}$. "
   ]
  },
  {
   "cell_type": "markdown",
   "metadata": {
    "collapsed": true
   },
   "source": [
    "## Using Meshgrid and matplotlib\n",
    "http://www.python-course.eu/matplotlib_contour_plot.php\n",
    "\n",
    "http://stackoverflow.com/questions/22459131/how-to-assign-a-value-from-an-array-to-an-x-y-point\n",
    "\n",
    "TO DO: implement reading in from external folder on google drive \n",
    "\n",
    "://localhost/path/to/table.csv"
   ]
  },
  {
   "cell_type": "markdown",
   "metadata": {},
   "source": [
    "The following cell defines two functions for plotting in linear and logarithmic scales\n",
    "\n",
    "They both accept the data file, and the data to be plotted as their arguments"
   ]
  },
  {
   "cell_type": "code",
   "execution_count": 2,
   "metadata": {},
   "outputs": [
    {
     "name": "stdout",
     "output_type": "stream",
     "text": [
      "Complete\n"
     ]
    }
   ],
   "source": [
    "def ContourPlot(dataFile, contourData):\n",
    "    rawData = pd.read_csv(dataFile)\n",
    "    \n",
    "    #Pull out min / max values\n",
    "    xMin = min(rawData['mA'])\n",
    "    xMax = max(rawData['mA'])\n",
    "    yMin = min(rawData['Epsilon'])\n",
    "    yMax = max(rawData['Epsilon'])\n",
    "    \n",
    "    # Define the dimension of the grid. \n",
    "    # For an n x n grid, this will pull out the number \"n\"\n",
    "    gridDim = len(np.unique(rawData['mA']))\n",
    "\n",
    "    #########################################\n",
    "    # Create a square n x n grid\n",
    "    #########################################\n",
    "    \n",
    "    # Linear Spacing\n",
    "    xLinRange = np.linspace(xMin, xMax, gridDim)\n",
    "    yLinRange = np.linspace(yMin, yMax, gridDim)\n",
    "    \n",
    "    # Logarithmic Spacing\n",
    "    xLogRange = np.logspace(xMin, xMax, gridDim, base = 10)\n",
    "    yLogRange = np.logspace(yMin, yMax, gridDim, base = 10)\n",
    "    \n",
    "    # Meshgrids\n",
    "    XXLin,YYLin = np.meshgrid(xLinRange, yLinRange)\n",
    "    XXLog,YYLog = np.meshgrid(xLogRange, yLogRange)\n",
    "\n",
    "    # Read in and reshape the Contour data.\n",
    "    # This reads it in as a single column of data,\n",
    "    # but we need to cast it as 2D, nxn array to fit the grid\n",
    "    # Grid Dimension defined by gridDim\n",
    "    z = [rawData[contourData]]\n",
    "    ZZ = np.reshape(z, (len(xLinRange), len(yLinRange)))\n",
    "    \n",
    "\n",
    "    # Plotting \n",
    "    CP = plt.contour((XXLin), (YYLin), np.log10(ZZ.transpose()), levels = [-4,-2,0,2,4,6])\n",
    "#     CP = plt.contour((XXLin), (YYLin), np.log10(ZZ.transpose()), levels = [1,2])\n",
    "\n",
    "\n",
    "#     CP = plt.contour((XXLin), (YYLin), np.log10(ZZ.transpose()))\n",
    "\n",
    "#     CP = plt.contour(XXLog, YYLog, ZZ)\n",
    "#     plt.axis([xMin,xMax,yMin,yMax])\n",
    "    plt.xlabel('mA [GeV]')\n",
    "    plt.ylabel('Epsilon')\n",
    "    plt.clabel(CP, inline=1, fontsize=10)\n",
    "    plt.colorbar()\n",
    "    return CP\n",
    "\n",
    "print ('Complete')"
   ]
  },
  {
   "cell_type": "markdown",
   "metadata": {},
   "source": [
    "## Plot!\n",
    "\n",
    "    - contourData  =  Tau_TauCross  ,  Tau_TauCrossSomm     "
   ]
  },
  {
   "cell_type": "code",
   "execution_count": 15,
   "metadata": {
    "scrolled": true
   },
   "outputs": [
    {
     "data": {
      "text/plain": [
       "<matplotlib.contour.QuadContourSet at 0x1e70196e748>"
      ]
     },
     "execution_count": 15,
     "metadata": {},
     "output_type": "execute_result"
    },
    {
     "data": {
      "image/png": "[encoded data removed]",
      "text/plain": [
       "<matplotlib.figure.Figure at 0x1e7018ef828>"
      ]
     },
     "metadata": {},
     "output_type": "display_data"
    }
   ],
   "source": [
    "\n",
    "# contourPlot('100GevSomm900.csv','Tau_TauCross')\n",
    "ContourPlot('100GevMaster900.csv','Tau_TauCrossSomm')"
   ]
  },
  {
   "cell_type": "code",
   "execution_count": 165,
   "metadata": {},
   "outputs": [
    {
     "name": "stdout",
     "output_type": "stream",
     "text": [
      "Complete\n"
     ]
    }
   ],
   "source": [
    "rawData = pd.read_csv('100GevSomm900.csv')\n",
    "looprange = range(0,len(rawData['Counter']))\n",
    "\n",
    "mAVector = []\n",
    "epsilonVector = []\n",
    "\n",
    "TauLow = 100.\n",
    "TauHigh = 1000.\n",
    "#############\n",
    "# TauLow = 10.\n",
    "# TauHigh = 50.\n",
    "# Slope = 1.4773641119412082e-06\n",
    "#\n",
    "\n",
    "for i in looprange:\n",
    "    testvalue = rawData.loc[i,'Tau_TauCross']\n",
    "#     print (testvalue)\n",
    "    if ( TauLow <= testvalue <= TauHigh):\n",
    "        mA = rawData.loc[i,'mA']\n",
    "        epsilon = rawData.loc[i,'Epsilon']\n",
    "        mAVector.append(mA)\n",
    "        epsilonVector.append(epsilon)\n",
    "        \n",
    "print ('Complete')"
   ]
  },
  {
   "cell_type": "markdown",
   "metadata": {},
   "source": [
    "## Pull Slope of the Contours\n",
    "\n",
    "#### Problem:\n",
    "These plots take a very long time to generate and they don't resolve well. We need a way to make the calculations more efficient.\n",
    "\n",
    "#### Solution:\n",
    "Ignore the fact that we have a contour plot for a second. In the $(m_{A}, \\varepsilon)$ plane, when there is no Sommerfeld enhancement, the slope of each line is constant. Straight lines are really easy to graph, so it would be great if we could determine the slope of the lines in the $(m_{A}, \\varepsilon)$ plane. \n",
    "\n",
    "We argue that $\\tau$ depends on $m_A$ and $\\varepsilon$ only through $C_{Cap}$as follows:\n",
    "$$ \\tau = \\frac{1}{\\sqrt{C_{Cap}C_{Ann}}} \\approx \\frac{1}{\\sqrt{C_{Cap}}} \\quad \\text{with} \\quad \n",
    "C_{Cap} \\approx \\frac{m_A^2}{\\varepsilon} so $$\n",
    "$$ \\tau \\approx \\frac{\\varepsilon}{m_A^2} $$\n",
    "\n",
    "We solve this for $\\varepsilon$ and see:\n",
    "$$ \\log(\\varepsilon) = 2\\log(m_A) + \\log(\\tau)  $$\n",
    "\n",
    "so the slope of the $\\frac{\\tau}{\\tau_{\\oplus}}$ contours is identically 2.\n",
    "\n",
    "\n",
    "-----------------\n",
    "https://python4mpia.github.io/fitting_data/least-squares-fitting.html"
   ]
  },
  {
   "cell_type": "code",
   "execution_count": 166,
   "metadata": {},
   "outputs": [
    {
     "name": "stdout",
     "output_type": "stream",
     "text": [
      "LinregressResult(slope=2.9410303514744378e-07, intercept=-1.959405579101386e-07, rvalue=0.80007757316237793, pvalue=2.0543686491788954e-30, stderr=1.941551534247803e-08)\n",
      "Complete\n"
     ]
    },
    {
     "data": {
      "image/png": "[encoded data removed]",
      "text/plain": [
       "<matplotlib.figure.Figure at 0x18fc81e99e8>"
      ]
     },
     "metadata": {},
     "output_type": "display_data"
    }
   ],
   "source": [
    "from scipy import stats\n",
    "\n",
    "def FitFunction(x,a,b):\n",
    "    return a*x+b\n",
    "\n",
    "def LinPlot(xData,yData):\n",
    "    xMin = min(xData)\n",
    "    xMax = max(xData)\n",
    "    yMin = min(yData)\n",
    "    yMax = max(yData)\n",
    "    \n",
    "    \n",
    "    plot = plt.scatter(np.log10(xData),np.log10(yData))\n",
    "#     plt.axis([xMin,xMax,yMin,yMax])\n",
    "    plt.axis([np.log10(xMin),np.log10(xMax),np.log10(yMin),np.log10(yMax)])\n",
    "\n",
    "#     plt.xlabel('log(mA)')\n",
    "#     plt.ylabel('log(Epsilon)')\n",
    "#     plt.title('Tau between 10 - 100')\n",
    "    return plot\n",
    "\n",
    "LinPlot(mAVector,epsilonVector)\n",
    "\n",
    "stats = stats.linregress(mAVector, epsilonVector)\n",
    "\n",
    "print (stats)\n",
    "\n",
    "\n",
    "\n",
    "print ('Complete')"
   ]
  },
  {
   "cell_type": "code",
   "execution_count": null,
   "metadata": {
    "collapsed": true
   },
   "outputs": [],
   "source": []
  },
  {
   "cell_type": "code",
   "execution_count": null,
   "metadata": {
    "collapsed": true
   },
   "outputs": [],
   "source": []
  }
 ],
 "metadata": {
  "anaconda-cloud": {},
  "kernelspec": {
   "display_name": "Python 3",
   "language": "python",
   "name": "python3"
  },
  "language_info": {
   "codemirror_mode": {
    "name": "ipython",
    "version": 3
   },
   "file_extension": ".py",
   "mimetype": "text/x-python",
   "name": "python",
   "nbconvert_exporter": "python",
   "pygments_lexer": "ipython3",
   "version": "3.6.0"
  }
 },
 "nbformat": 4,
 "nbformat_minor": 1
}
