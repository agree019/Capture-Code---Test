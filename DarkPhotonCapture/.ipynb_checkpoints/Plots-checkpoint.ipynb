{
 "cells": [
  {
   "cell_type": "markdown",
   "metadata": {},
   "source": [
    "# Contour Plot (Fig. 2.2)\n",
    "\n",
    "Problem: Python doesn't like it when I pass a meshgrid object into a function to be integrated over. However, I can create two arrays which simulate the meshgrid and loop over them and python is happy.\n",
    "\n",
    "The next thing I have to do is figure out how to create a contour plot from 3 arrays:\n",
    "https://docs.scipy.org/doc/scipy-0.18.1/reference/generated/scipy.interpolate.griddata.html\n",
    "- Array X,Y data\n",
    "- Loop over X,Y creating an array of Z (CCap) data of dimension (X x Y)\n",
    "- We now have 3 arrays of X, Y, and Z data\n",
    "\n",
    "\n",
    "- points = np.column_stack((x,y)): These are the data points (x and y arrays) that we know\n",
    "- values = CCap(): This is the function evaulated at those data points\n",
    "- ZGrid = interpolate.griddata(points, values, (gridX, gridY), method='cubic')\n",
    "\n"
   ]
  },
  {
   "cell_type": "markdown",
   "metadata": {
    "collapsed": true
   },
   "source": [
    "## Notebook Initialize"
   ]
  },
  {
   "cell_type": "code",
   "execution_count": 1,
   "metadata": {
    "collapsed": false
   },
   "outputs": [
    {
     "name": "stdout",
     "output_type": "stream",
     "text": [
      "Complete\n"
     ]
    }
   ],
   "source": [
    "import numpy as np\n",
    "import scipy as sp\n",
    "import pandas as pd\n",
    "from scipy import interpolate\n",
    "import time\n",
    "import random\n",
    "\n",
    "import scipy.integrate as integrate\n",
    "import matplotlib.pyplot as plt\n",
    "%matplotlib inline\n",
    "\n",
    "import plotly\n",
    "plotly.tools.set_credentials_file(username='agree019', api_key='w4so9FMIsoMxU3gfC49A')\n",
    "\n",
    "import plotly.plotly as py\n",
    "from plotly.graph_objs import *\n",
    "\n",
    "\n",
    "print 'Complete'"
   ]
  },
  {
   "cell_type": "code",
   "execution_count": 2,
   "metadata": {
    "collapsed": false
   },
   "outputs": [
    {
     "name": "stdout",
     "output_type": "stream",
     "text": [
      "Complete\n"
     ]
    }
   ],
   "source": [
    "# mAVector = []\n",
    "# epsilonVector = []\n",
    "\n",
    "def test(a,b):\n",
    "    def integrand(a):\n",
    "        return a +b\n",
    "    return integrate.quad(integrand,0,1)\n",
    "\n",
    "# for value in mARange:\n",
    "#     mAVector.append(value)\n",
    "    \n",
    "# for value in epsilonRange:\n",
    "#     epsilonVector.append(value)\n",
    "    \n",
    "    \n",
    "# for i in mARange:\n",
    "#     for j in epsilonRange:\n",
    "#         print i,j, fullCap('O16',100., i, j, 1./137, 0.035)\n",
    "    \n",
    "\n",
    "\n",
    "    \n",
    "# mAVar,epsilonVar = np.meshgrid(mAVector,epsilonVector)\n",
    "\n",
    "# print fullCap('O16', 100., 1, 10**-8, 1./137, 0.035)\n",
    "# zVar = fullCap('O16', 100., mAVar, epsilonVar, 1./137, 0.035)\n",
    "# zVar = test(mAVar,epsilonVar)\n",
    "\n",
    "# plt.figure()\n",
    "# cp = plt.contour(mAVar,epsilonVar,zVar)\n",
    "print 'Complete'"
   ]
  },
  {
   "cell_type": "markdown",
   "metadata": {
    "collapsed": true
   },
   "source": [
    "### Attempt at Fig2. using Plotly\n",
    "\n",
    "#### Minimal Working Example (MWE)89"
   ]
  },
  {
   "cell_type": "code",
   "execution_count": 4,
   "metadata": {
    "collapsed": false
   },
   "outputs": [
    {
     "name": "stdout",
     "output_type": "stream",
     "text": [
      "Complete\n"
     ]
    }
   ],
   "source": [
    "# Attemp using plotly\n",
    "zDictionary = {\n",
    "    'z0': [],\n",
    "    'z1': [],\n",
    "    'z2': [],\n",
    "    'z3': [],\n",
    "    'z4': [],\n",
    "    'z5': [],\n",
    "    'z6': [],\n",
    "    'z7': [],\n",
    "    'z8': [],\n",
    "    'z9': []\n",
    "}\n",
    "\n",
    "\n",
    "def testfunction(x):\n",
    "    return x*random.random()\n",
    "\n",
    "for key in zDictionary:\n",
    "    for i in range(0,20):\n",
    "        zDictionary[key].append(testfunction(i))\n",
    "        \n",
    "print 'Complete'"
   ]
  },
  {
   "cell_type": "markdown",
   "metadata": {},
   "source": [
    "#### Plot the \"data\""
   ]
  },
  {
   "cell_type": "code",
   "execution_count": 5,
   "metadata": {
    "collapsed": false
   },
   "outputs": [
    {
     "data": {
      "text/html": [
       "<iframe id=\"igraph\" scrolling=\"no\" style=\"border:none;\" seamless=\"seamless\" src=\"https://plot.ly/~agree019/40.embed\" height=\"525px\" width=\"100%\"></iframe>"
      ],
      "text/plain": [
       "<plotly.tools.PlotlyDisplay object>"
      ]
     },
     "execution_count": 5,
     "metadata": {},
     "output_type": "execute_result"
    }
   ],
   "source": [
    "\n",
    "data = Data([\n",
    "    Contour(\n",
    "        z=[\n",
    "        zDictionary['z0'],\n",
    "        zDictionary['z1'],\n",
    "        zDictionary['z2'],\n",
    "        zDictionary['z3'],\n",
    "        zDictionary['z4'],\n",
    "        zDictionary['z5'],\n",
    "          zDictionary['z6'],\n",
    "          zDictionary['z7'],\n",
    "          zDictionary['z8'],\n",
    "          zDictionary['z9']]\n",
    "    )\n",
    "])\n",
    "\n",
    "py.iplot(data)\n"
   ]
  },
  {
   "cell_type": "code",
   "execution_count": null,
   "metadata": {
    "collapsed": true
   },
   "outputs": [],
   "source": []
  },
  {
   "cell_type": "markdown",
   "metadata": {},
   "source": [
    "---------"
   ]
  },
  {
   "cell_type": "markdown",
   "metadata": {},
   "source": [
    "# Contour Plots"
   ]
  },
  {
   "cell_type": "markdown",
   "metadata": {
    "collapsed": false
   },
   "source": [
    "The following cell defines a function, contourPlot(), which takes in a given data file and returns a contour plot of $\\frac{\\tau}{\\tau_{\\oplus}}$. "
   ]
  },
  {
   "cell_type": "markdown",
   "metadata": {
    "collapsed": true
   },
   "source": [
    "### Using Meshgrid and matplotlib\n",
    "http://www.python-course.eu/matplotlib_contour_plot.php\n",
    "\n",
    "http://stackoverflow.com/questions/22459131/how-to-assign-a-value-from-an-array-to-an-x-y-point\n",
    "\n",
    "TO DO: implement reading in fromm external folder on google drive \n",
    "\n",
    "://localhost/path/to/table.csv"
   ]
  },
  {
   "cell_type": "code",
   "execution_count": 3,
   "metadata": {
    "collapsed": false
   },
   "outputs": [
    {
     "name": "stdout",
     "output_type": "stream",
     "text": [
      "Complete\n"
     ]
    }
   ],
   "source": [
    "def contourPlot(dataFile):\n",
    "    rawData = pd.read_csv(dataFile)\n",
    "    \n",
    "    #Pull out min / max values\n",
    "    xMin = min(rawData['mA'])\n",
    "    xMax = max(rawData['mA'])\n",
    "    yMin = min(rawData['Epsilon'])\n",
    "    yMax = max(rawData['Epsilon'])\n",
    "    \n",
    "    \n",
    "    # Define the dimension of the grid. \n",
    "    # For an n x n grid, this will pull out the number \"n\"\n",
    "    gridDim = len(np.unique(rawData['mA']))\n",
    "\n",
    "    \n",
    "    # Create a square n x n grid\n",
    "    xRange = np.linspace(xMin,xMax,gridDim)\n",
    "    yRange = np.linspace(yMin, yMax,gridDim)\n",
    "    XX,YY = np.meshgrid(xRange,yRange)\n",
    "\n",
    "\n",
    "    # Read in and reshape the Contour data\n",
    "    # This reads it in as a single column of data, but we need to cast it as 2D, 10X10 array to fit the grid\n",
    "    z = [rawData['Tau_TauCross']]\n",
    "    ZZ = np.reshape(z,(len(xRange),len(yRange)))\n",
    "\n",
    "    \n",
    "    CP = plt.contour(XX, YY, Z2)\n",
    "    plt.axis([xMin,xMax,yMin,yMax])\n",
    "    \n",
    "    return CP\n",
    "\n",
    "print 'Complete'"
   ]
  },
  {
   "cell_type": "code",
   "execution_count": null,
   "metadata": {
    "collapsed": true
   },
   "outputs": [],
   "source": []
  },
  {
   "cell_type": "code",
   "execution_count": null,
   "metadata": {
    "collapsed": true
   },
   "outputs": [],
   "source": []
  },
  {
   "cell_type": "code",
   "execution_count": null,
   "metadata": {
    "collapsed": true
   },
   "outputs": [],
   "source": []
  },
  {
   "cell_type": "code",
   "execution_count": null,
   "metadata": {
    "collapsed": true
   },
   "outputs": [],
   "source": []
  }
 ],
 "metadata": {
  "anaconda-cloud": {},
  "kernelspec": {
   "display_name": "Python [Root]",
   "language": "python",
   "name": "Python [Root]"
  },
  "language_info": {
   "codemirror_mode": {
    "name": "ipython",
    "version": 2
   },
   "file_extension": ".py",
   "mimetype": "text/x-python",
   "name": "python",
   "nbconvert_exporter": "python",
   "pygments_lexer": "ipython2",
   "version": "2.7.12"
  }
 },
 "nbformat": 4,
 "nbformat_minor": 0
}
