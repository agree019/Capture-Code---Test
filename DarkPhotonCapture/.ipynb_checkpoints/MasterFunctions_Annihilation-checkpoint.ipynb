{
 "cells": [
  {
   "cell_type": "markdown",
   "metadata": {},
   "source": [
    "# Master Functions - Annihilation Rate\n",
    "\n",
    "This notebook contains all definitions of annihilation rate calculations"
   ]
  },
  {
   "cell_type": "code",
   "execution_count": 8,
   "metadata": {
    "ExecuteTime": {
     "end_time": "2017-09-11T21:39:11.091164Z",
     "start_time": "2017-09-11T21:39:10.425392Z"
    },
    "collapsed": true
   },
   "outputs": [],
   "source": [
    "import io, os, sys, types\n",
    "\n",
    "from IPython import get_ipython\n",
    "from nbformat import read\n",
    "from IPython.core.interactiveshell import InteractiveShell\n",
    "\n",
    "def find_notebook(fullname, path=None):\n",
    "    \"\"\"find a notebook, given its fully qualified name and an optional path\n",
    "\n",
    "    This turns \"foo.bar\" into \"foo/bar.ipynb\"\n",
    "    and tries turning \"Foo_Bar\" into \"Foo Bar\" if Foo_Bar\n",
    "    does not exist.\n",
    "    \"\"\"\n",
    "    name = fullname.rsplit('.', 1)[-1]\n",
    "    if not path:\n",
    "        path = ['']\n",
    "    for d in path:\n",
    "        nb_path = os.path.join(d, name + \".ipynb\")\n",
    "        if os.path.isfile(nb_path):\n",
    "            return nb_path\n",
    "        # let import Notebook_Name find \"Notebook Name.ipynb\"\n",
    "        nb_path = nb_path.replace(\"_\", \" \")\n",
    "        if os.path.isfile(nb_path):\n",
    "            return nb_path\n",
    "        \n",
    "class NotebookLoader(object):\n",
    "    \"\"\"Module Loader for Jupyter Notebooks\"\"\"\n",
    "    def __init__(self, path=None):\n",
    "        self.shell = InteractiveShell.instance()\n",
    "        self.path = path\n",
    "\n",
    "    def load_module(self, fullname):\n",
    "        \"\"\"import a notebook as a module\"\"\"\n",
    "        path = find_notebook(fullname, self.path)\n",
    "\n",
    "        print (\"importing Jupyter notebook from %s\" % path)\n",
    "\n",
    "        # load the notebook object\n",
    "        with io.open(path, 'r', encoding='utf-8') as f:\n",
    "            nb = read(f, 4)\n",
    "\n",
    "\n",
    "        # create the module and add it to sys.modules\n",
    "        # if name in sys.modules:\n",
    "        #    return sys.modules[name]\n",
    "        mod = types.ModuleType(fullname)\n",
    "        mod.__file__ = path\n",
    "        mod.__loader__ = self\n",
    "        mod.__dict__['get_ipython'] = get_ipython\n",
    "        sys.modules[fullname] = mod\n",
    "\n",
    "        # extra work to ensure that magics that would affect the user_ns\n",
    "        # actually affect the notebook module's ns\n",
    "        save_user_ns = self.shell.user_ns\n",
    "        self.shell.user_ns = mod.__dict__\n",
    "\n",
    "        try:\n",
    "            for cell in nb.cells:\n",
    "                if cell.cell_type == 'code':\n",
    "                    # transform the input to executable Python\n",
    "                    code = self.shell.input_transformer_manager.transform_cell(cell.source)\n",
    "                    # run the code in themodule\n",
    "                    exec(code, mod.__dict__)\n",
    "        finally:\n",
    "            self.shell.user_ns = save_user_ns\n",
    "        return mod\n",
    "\n",
    "    \n",
    "class NotebookFinder(object):\n",
    "    \"\"\"Module finder that locates Jupyter Notebooks\"\"\"\n",
    "    def __init__(self):\n",
    "        self.loaders = {}\n",
    "\n",
    "    def find_module(self, fullname, path=None):\n",
    "        nb_path = find_notebook(fullname, path)\n",
    "        if not nb_path:\n",
    "            return\n",
    "\n",
    "        key = path\n",
    "        if path:\n",
    "            # lists aren't hashable\n",
    "            key = os.path.sep.join(path)\n",
    "\n",
    "        if key not in self.loaders:\n",
    "            self.loaders[key] = NotebookLoader(path)\n",
    "        return self.loaders[key]\n",
    "    \n",
    "sys.meta_path.append(NotebookFinder())\n"
   ]
  },
  {
   "cell_type": "code",
   "execution_count": 9,
   "metadata": {
    "ExecuteTime": {
     "end_time": "2017-09-11T21:39:13.066604Z",
     "start_time": "2017-09-11T21:39:11.364072Z"
    }
   },
   "outputs": [
    {
     "name": "stdout",
     "output_type": "stream",
     "text": [
      "importing Jupyter notebook from MasterFunctions_ModelData.ipynb\n",
      "------ MasterFunctions_ModelData Imported ------\n"
     ]
    }
   ],
   "source": [
    "from MasterFunctions_ModelData import *"
   ]
  },
  {
   "cell_type": "markdown",
   "metadata": {},
   "source": [
    "-------------------"
   ]
  },
  {
   "cell_type": "markdown",
   "metadata": {},
   "source": [
    "# Annihilation Functions"
   ]
  },
  {
   "cell_type": "markdown",
   "metadata": {},
   "source": [
    "## V0 function"
   ]
  },
  {
   "cell_type": "code",
   "execution_count": 10,
   "metadata": {
    "ExecuteTime": {
     "end_time": "2017-09-11T21:39:14.892173Z",
     "start_time": "2017-09-11T21:39:14.884152Z"
    },
    "collapsed": true
   },
   "outputs": [],
   "source": [
    "def v0func(m_X):\n",
    "    ''' DocString'''\n",
    "    return np.sqrt(2*TCross/m_X)\n"
   ]
  },
  {
   "cell_type": "markdown",
   "metadata": {},
   "source": [
    "## SigmaVTree"
   ]
  },
  {
   "cell_type": "code",
   "execution_count": 11,
   "metadata": {
    "ExecuteTime": {
     "end_time": "2017-09-11T21:39:15.266110Z",
     "start_time": "2017-09-11T21:39:15.254078Z"
    },
    "collapsed": true
   },
   "outputs": [],
   "source": [
    "def sigmaVtree(m_X, m_A, alpha_X): \n",
    "    '''sigmaVtree(m_X, m_A, alpha_X) returns the cross sections times velocity at the tree level for\n",
    "    an annihilation mediated by a dark photon'''\n",
    "    numerator = (1 - (m_A/m_X)**2)**1.5\n",
    "    denominator = ( 1 - 0.5 * (m_A/m_X)**2 )**2\n",
    "    prefactor = np.pi*(alpha_X/m_X)**2\n",
    "    \n",
    "    function = prefactor*numerator/denominator\n",
    "    return function\n"
   ]
  },
  {
   "cell_type": "markdown",
   "metadata": {},
   "source": [
    "## Sommerfeld"
   ]
  },
  {
   "cell_type": "code",
   "execution_count": 12,
   "metadata": {
    "ExecuteTime": {
     "end_time": "2017-09-11T21:39:15.563130Z",
     "start_time": "2017-09-11T21:39:15.546086Z"
    },
    "collapsed": true
   },
   "outputs": [],
   "source": [
    "def sommerfeld(v, m_X, m_A, alpha_X):\n",
    "    a = v / (2*alpha_X)\n",
    "    c = 6*alpha_X*m_X/(np.pi**2*m_A)\n",
    "    \n",
    "    # Kludge: Absolute value the argument of the square root inside Cos(...)\n",
    "    function = np.pi/a * np.sinh(2*np.pi*a*c) / \\\n",
    "        ( np.cosh(2*np.pi*a*c) - np.cos(2*np.pi*np.abs(np.sqrt(np.abs(c-(a*c)**2)) ) ) )\n",
    "    return function\n"
   ]
  },
  {
   "cell_type": "markdown",
   "metadata": {},
   "source": [
    "## Thermal Average Sommerfeld"
   ]
  },
  {
   "cell_type": "code",
   "execution_count": 13,
   "metadata": {
    "ExecuteTime": {
     "end_time": "2017-09-11T21:39:15.857679Z",
     "start_time": "2017-09-11T21:39:15.833615Z"
    },
    "collapsed": true
   },
   "outputs": [],
   "source": [
    "def thermAvgSommerfeld(m_X, m_A, alpha_X):\n",
    "    v0 = v0func(m_X)\n",
    "    \n",
    "    def integrand(v):\n",
    "        # We perform d^3v in spherical velocity space.\n",
    "        # d^3v = v^2 dv * d(Omega)\n",
    "        prefactor = 4*np.pi/(2*np.pi*v0**2)**(1.5)\n",
    "        function = prefactor * v**2 * np.exp(-0.5*(v/v0)**2) * sommerfeld(v, m_X, m_A, alpha_X)\n",
    "        return function\n",
    "    \n",
    "    lowV = 0\n",
    "    # Python doesn't like it when you integrate to infinity, so we integrate out to 10 standard deviations\n",
    "    highV = 10*(v0func(m_X))\n",
    "\n",
    "    integral = integrate.quad(integrand, lowV, highV)[0]\n",
    "    return integral\n"
   ]
  },
  {
   "cell_type": "markdown",
   "metadata": {},
   "source": [
    "## Thermal average Cross section"
   ]
  },
  {
   "cell_type": "code",
   "execution_count": 14,
   "metadata": {
    "ExecuteTime": {
     "end_time": "2017-09-11T21:39:16.162433Z",
     "start_time": "2017-09-11T21:39:16.155915Z"
    },
    "collapsed": true
   },
   "outputs": [],
   "source": [
    "def thermAvgCrossSectionV(m_X, m_A, alpha_X):\n",
    "    function = sigmaVtree(m_X , m_A, alpha_X) * thermAvgSommerfeld(m_X , m_A, alpha_X)\n",
    "    return function\n"
   ]
  },
  {
   "cell_type": "markdown",
   "metadata": {},
   "source": [
    "## Annihilation Rates used in calculations"
   ]
  },
  {
   "cell_type": "code",
   "execution_count": 20,
   "metadata": {
    "ExecuteTime": {
     "end_time": "2017-09-11T21:40:08.425125Z",
     "start_time": "2017-09-11T21:40:08.409087Z"
    },
    "collapsed": true
   },
   "outputs": [],
   "source": [
    "def CAnnCalc(m_X, m_A, sigmaVTree, thermAvgSomm = 1):\n",
    "    prefactor = (Gnat * m_X * rhoCross/ (3 * TCross) )**(3./2)\n",
    "    conversion = (1.52e24) # GeV -> Sec^-1\n",
    "    function = conversion * prefactor * sigmaVTree * thermAvgSomm\n",
    "    return function\n"
   ]
  },
  {
   "cell_type": "markdown",
   "metadata": {},
   "source": [
    "## $\\varepsilon(m_A)$ Function"
   ]
  },
  {
   "cell_type": "code",
   "execution_count": 1,
   "metadata": {
    "ExecuteTime": {
     "end_time": "2017-09-22T21:43:54.116264Z",
     "start_time": "2017-09-22T21:43:54.100264Z"
    },
    "collapsed": true
   },
   "outputs": [],
   "source": [
    "def EpsilonFuncMA(m_A, alpha_X, Cann, Sommerfeld, kappa0, contourLevel):\n",
    "    '''\n",
    "    EpsilonFuncMA(m_A, alpha_X, Cann, Sommerfeld, kappa0, contourLevel) returns the value of Epsilon\n",
    "    given those parameters. This equation is the result of the small recoil energy approximation which\n",
    "    allows us to write the Capture rate as a simple analytic funciton of m_A and epsilon.\n",
    "    \n",
    "    Note: The 10^2 contour is denoted as contourLevel = 2\n",
    "    '''\n",
    "    function = 2 * np.log10(m_A) - (0.5)*np.log10(Cann * Sommerfeld) \\\n",
    "                - contourLevel - np.log10(tauCross) - (0.5)*np.log10(alpha_X*kappa0)\n",
    "    return function"
   ]
  },
  {
   "cell_type": "code",
   "execution_count": 34,
   "metadata": {},
   "outputs": [
    {
     "name": "stdout",
     "output_type": "stream",
     "text": [
      "------ MasterFunctions_Annihilation Loaded ------\n"
     ]
    }
   ],
   "source": [
    "print ('------ MasterFunctions_Annihilation Loaded ------')"
   ]
  }
 ],
 "metadata": {
  "kernelspec": {
   "display_name": "Python 3",
   "language": "python",
   "name": "python3"
  },
  "language_info": {
   "codemirror_mode": {
    "name": "ipython",
    "version": 3
   },
   "file_extension": ".py",
   "mimetype": "text/x-python",
   "name": "python",
   "nbconvert_exporter": "python",
   "pygments_lexer": "ipython3",
   "version": "3.6.2"
  },
  "latex_envs": {
   "LaTeX_envs_menu_present": true,
   "autocomplete": true,
   "bibliofile": "biblio.bib",
   "cite_by": "apalike",
   "current_citInitial": 1,
   "eqLabelWithNumbers": true,
   "eqNumInitial": 1,
   "hotkeys": {
    "equation": "Ctrl-E",
    "itemize": "Ctrl-I"
   },
   "labels_anchors": false,
   "latex_user_defs": false,
   "report_style_numbering": false,
   "user_envs_cfg": false
  }
 },
 "nbformat": 4,
 "nbformat_minor": 2
}
