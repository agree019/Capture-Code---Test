{
 "cells": [
  {
   "cell_type": "markdown",
   "metadata": {},
   "source": [
    "# Capture Code Debug Notebook\n",
    "\n",
    "This notebook serves as a debug workspace so I can keep the other notebooks clean.\n",
    "All function definitions and capture code preamble is loaded into this workbook to replicate a test space."
   ]
  },
  {
   "cell_type": "markdown",
   "metadata": {},
   "source": [
    "## Initialize the Notebook"
   ]
  },
  {
   "cell_type": "code",
   "execution_count": 4,
   "metadata": {},
   "outputs": [
    {
     "name": "stdout",
     "output_type": "stream",
     "text": [
      "Complete\n"
     ]
    }
   ],
   "source": [
    "import numpy as np\n",
    "import scipy as sp\n",
    "import pandas\n",
    "from scipy import interpolate\n",
    "import time\n",
    "import csv\n",
    "\n",
    "import scipy.integrate as integrate\n",
    "import matplotlib.pyplot as plt\n",
    "%matplotlib inline\n",
    "\n",
    "import timeit as T\n",
    "\n",
    "\n",
    "print ('Complete')"
   ]
  },
  {
   "cell_type": "markdown",
   "metadata": {},
   "source": [
    "## Importing Earth Density Data (PREM500)\n",
    "The raw data from PREM500 has been converted into MKS units, however, the table where that data came from [51] gives the radius in $km$ and density in $kg/cm^3$"
   ]
  },
  {
   "cell_type": "code",
   "execution_count": 6,
   "metadata": {},
   "outputs": [
    {
     "name": "stdout",
     "output_type": "stream",
     "text": [
      "Complete\n"
     ]
    }
   ],
   "source": [
    "# Radius is column 1, Density is column 2\n",
    "# Radius in meters: verified by REF [51] Table 1 pg. 312\n",
    "# Density in Kg/m^3, verified by REF [51] Table 1 pg. 312\n",
    "\n",
    "# This section grabs the data and converts it to MKS units\n",
    "data = pandas.read_csv('PREM500.csv', sep = ',')\n",
    "radiusTemp1 = data[[0]]  # Radius in Meters\n",
    "densityTemp1 = data[[1]] # Density in kg/m^3\n",
    "\n",
    "\n",
    "# The interpolation function doesn't like these objects, so they need to be massaged into 1-D numpy arrays\n",
    "radiusListBadUnits = np.asarray(radiusTemp1).squeeze()\n",
    "densityListBadUnits = np.asarray(densityTemp1).squeeze()\n",
    "\n",
    "print ('Complete')"
   ]
  },
  {
   "cell_type": "markdown",
   "metadata": {},
   "source": [
    "### A Note on Units:\n",
    "The variable radiusListBadUnits has units of Meters\n",
    "\n",
    "The variable densityListBadUnits has units of kg/m^3\n",
    "\n",
    "The following cell converts the length of both to cm."
   ]
  },
  {
   "cell_type": "code",
   "execution_count": 7,
   "metadata": {},
   "outputs": [
    {
     "name": "stdout",
     "output_type": "stream",
     "text": [
      "Complete\n"
     ]
    }
   ],
   "source": [
    "radiusList = radiusListBadUnits * 100\n",
    "densityList = densityListBadUnits * (100)**-3 * 1000\n",
    "\n",
    "print ('Complete')"
   ]
  },
  {
   "cell_type": "raw",
   "metadata": {},
   "source": []
  },
  {
   "cell_type": "code",
   "execution_count": null,
   "metadata": {
    "collapsed": true
   },
   "outputs": [],
   "source": []
  },
  {
   "cell_type": "markdown",
   "metadata": {},
   "source": [
    "### Shell Thickness Check"
   ]
  },
  {
   "cell_type": "code",
   "execution_count": 9,
   "metadata": {},
   "outputs": [
    {
     "data": {
      "image/png": "[encoded data removed]",
      "text/plain": [
       "<matplotlib.figure.Figure at 0x12fb0e703c8>"
      ]
     },
     "metadata": {},
     "output_type": "display_data"
    },
    {
     "name": "stdout",
     "output_type": "stream",
     "text": [
      "Complete\n"
     ]
    }
   ],
   "source": [
    "radius2 = radiusList[0:len(radiusList)-1]\n",
    "s = [0]\n",
    "for i in radius2:\n",
    "    s.append(i)\n",
    "\n",
    "deltaRList = radiusList[0:len(radiusList)] - s[0:len(s)]\n",
    "\n",
    "xRange = range(0,len(radiusList))\n",
    "\n",
    "plt.plot(xRange,deltaRList,'.')\n",
    "plt.title('Shell Thickness vs Radius Index')\n",
    "plt.xlabel('Radius Index')\n",
    "plt.ylabel('Shell Thickness (cm)')\n",
    "plt.axis([0,491,1.275e6,1.289e6])\n",
    "plt.show()\n",
    "\n",
    "print ('Complete')"
   ]
  },
  {
   "cell_type": "markdown",
   "metadata": {},
   "source": [
    "### Shell Density Check"
   ]
  },
  {
   "cell_type": "code",
   "execution_count": 10,
   "metadata": {},
   "outputs": [
    {
     "data": {
      "image/png": "[encoded data removed]",
      "text/plain": [
       "<matplotlib.figure.Figure at 0x12fb0e52160>"
      ]
     },
     "metadata": {},
     "output_type": "display_data"
    },
    {
     "name": "stdout",
     "output_type": "stream",
     "text": [
      "Complete\n"
     ]
    }
   ],
   "source": [
    "plt.plot(xRange,densityListBadUnits,'.')\n",
    "plt.xlabel('Radius Index')\n",
    "plt.ylabel('Density (kg/m^3)')\n",
    "plt.title('Density vs Radius Index')\n",
    "plt.show()\n",
    "print ('Complete')"
   ]
  },
  {
   "cell_type": "markdown",
   "metadata": {},
   "source": [
    "### Enclosed Mass Check"
   ]
  },
  {
   "cell_type": "code",
   "execution_count": 12,
   "metadata": {
    "scrolled": false
   },
   "outputs": [
    {
     "name": "stdout",
     "output_type": "stream",
     "text": [
      "Enclosed mass = 5.990577490724785e+27 g\n",
      "Complete\n"
     ]
    }
   ],
   "source": [
    "mass = 0\n",
    "for i in xRange:\n",
    "    mass = mass + 4. * np.pi * radiusList[i]**2 * densityList[i] * deltaRList[i]\n",
    "print ('Enclosed mass = {0} g'.format(mass))\n",
    "print ('Complete')\n"
   ]
  },
  {
   "cell_type": "markdown",
   "metadata": {},
   "source": [
    "### Shell Mass\n",
    "Given a radius *index*, shellMass returns the mass of the shell at that radius index"
   ]
  },
  {
   "cell_type": "code",
   "execution_count": 13,
   "metadata": {
    "scrolled": true
   },
   "outputs": [
    {
     "data": {
      "image/png": "[encoded data removed]",
      "text/plain": [
       "<matplotlib.figure.Figure at 0x12fb12e2400>"
      ]
     },
     "metadata": {},
     "output_type": "display_data"
    },
    {
     "name": "stdout",
     "output_type": "stream",
     "text": [
      "Complete\n"
     ]
    }
   ],
   "source": [
    "shellMassList = []\n",
    "\n",
    "for i in xRange:\n",
    "    shellMassList.append(4 * np.pi * radiusList[i]**2 * densityList[i] * deltaRList[i])\n",
    "\n",
    "plt.plot(xRange,shellMassList,'.')\n",
    "plt.title('Shell Mass vs. Radius Index')\n",
    "plt.xlabel('Radius Index')\n",
    "plt.ylabel('Enclosed Mass (g)')\n",
    "\n",
    "plt.show()\n",
    "\n",
    "print ('Complete')"
   ]
  },
  {
   "cell_type": "markdown",
   "metadata": {},
   "source": [
    "### Enclosed Mass at Each Radius\n",
    "\n",
    "Give enclosedMass the *index* of the radius, and it returns the mass enclosed up to that radius.\n",
    "\n",
    "This is a list, not an interpolated function, so it only works for valid radii."
   ]
  },
  {
   "cell_type": "code",
   "execution_count": 14,
   "metadata": {
    "scrolled": false
   },
   "outputs": [
    {
     "data": {
      "image/png": "[encoded data removed]",
      "text/plain": [
       "<matplotlib.figure.Figure at 0x12fb1407240>"
      ]
     },
     "metadata": {},
     "output_type": "display_data"
    },
    {
     "name": "stdout",
     "output_type": "stream",
     "text": [
      "Complete\n"
     ]
    }
   ],
   "source": [
    "# This is with a radius list and a shellMass list\n",
    "enclosedMassList = []\n",
    "tempSum = 0\n",
    "for i in shellMassList:\n",
    "    tempSum = tempSum + i\n",
    "    enclosedMassList.append(tempSum)\n",
    "    \n",
    "plt.plot(xRange,enclosedMassList,'.')\n",
    "plt.title('Enclosed Mass vs Radius Index')\n",
    "plt.xlabel('Radius Index')\n",
    "plt.ylabel('Enclosed Mass (g)')\n",
    "# plt.axis([0,550,0,6.5e24])\n",
    "plt.show()\n",
    "\n",
    "# print enclosedMassList[0:4]\n",
    "\n",
    "print ('Complete')"
   ]
  },
  {
   "cell_type": "markdown",
   "metadata": {},
   "source": [
    "## Conversions and Atomic Definitions\n",
    "\n",
    "In the following cell, we initialize usefull unit conversions and dictionaries storing various atomic information."
   ]
  },
  {
   "cell_type": "code",
   "execution_count": 15,
   "metadata": {},
   "outputs": [
    {
     "name": "stdout",
     "output_type": "stream",
     "text": [
      "Complete\n"
     ]
    }
   ],
   "source": [
    "################################################################################\n",
    "# Conversions\n",
    "################################################################################\n",
    "\n",
    "def amu2Gev(par1):\n",
    "#     return 0.9314941 * par1 # GeV\n",
    "    return 0.938272 * par1 # Taken directly from Flip notebook\n",
    "\n",
    "def amu2g(par1):\n",
    "    return 1.66053892*10**-24 * par1 # g\n",
    "\n",
    "def GeV2s(par1):\n",
    "    return 1.52*10**24 * par1 # s^-1\n",
    "\n",
    "def s2GeV(par1):\n",
    "    return 1.52*10**24 * par1 # GeV^-1\n",
    "\n",
    "def GeV2cm(par1):\n",
    "    return 5.06*10**13 * par1 # cm^-1\n",
    "\n",
    "def cm2GeV(par1):\n",
    "    return 5.06*10**13 * par1 # GeV^-1\n",
    "\n",
    "def KeltoGeV(par1):\n",
    "    return 8.62*10**-14 * par1 # GeV\n",
    "\n",
    "def s2yr(par1):\n",
    "    return 3.16888*10**-8 * par1 # Yr\n",
    "\n",
    "def ev2Gev(par1):\n",
    "    return par1 * 10**6 # GeV\n",
    "\n",
    "def eV2kg(par1):\n",
    "    return 1.782661845* 10**-36 * par1 # kg\n",
    "\n",
    "def g2Gev(par1):\n",
    "    return 5.609588845*10**32 * par1 #GeV\n",
    "\n",
    "\n",
    "################################################################################\n",
    "# Atomic Dictionary Definitions\n",
    "################################################################################\n",
    "\n",
    "elementList = [\n",
    "    'O16' ,\n",
    "    'Si28',\n",
    "    'Mg24',\n",
    "    'Fe56',\n",
    "    'Ca40',\n",
    "    'P31' ,\n",
    "#     'Na11',\n",
    "    'S32' ,\n",
    "    'Ni58',\n",
    "    'Al27',\n",
    "    'Cr52',\n",
    "]\n",
    "\n",
    "atomicNumbers = {\n",
    "    'H1': 1.,\n",
    "    'He4': 4.,\n",
    "    'He3': 3.,\n",
    "    'Na11': 23.,\n",
    "    'C12': 12.,\n",
    "    'C13':13.,\n",
    "    'N14':14.,\n",
    "    'N15':15.,\n",
    "    'O16':16.,\n",
    "    'O17':17. ,\n",
    "    'O18':18.,\n",
    "    'Ne20':20.,\n",
    "    'Na23':23.,\n",
    "    'Mg24':24., # 78%\n",
    "    'Al27':27.,\n",
    "    'Si28':28.,\n",
    "    'P31':30.,\n",
    "    'S32':32.,\n",
    "    'Cl35':35., # 75%\n",
    "    'Ar40':40.,\n",
    "    'K39':39.,\n",
    "    'Ca40':40.,\n",
    "    'Sc45':45.,\n",
    "    'Ti48':48., # 74%\n",
    "    'V51':51.,\n",
    "    'Cr52':52., # 83%\n",
    "    'Mn55':55.,\n",
    "    'Fe56':56.,\n",
    "    'Co59':59.,\n",
    "    'Ni58':59., # 58%\n",
    "}\n",
    "\n",
    "nProtons = { # This is Z_N\n",
    "    'H1':1.,\n",
    "    'He3':2.,\n",
    "    'He4':2.,\n",
    "    'He3':2.,\n",
    "    'Na11': 11.,\n",
    "    'C12':6.,\n",
    "    'C13':6.,\n",
    "    'N14':7.,\n",
    "    'N15':7.,\n",
    "    'O16':8.,\n",
    "    'O17':8.,\n",
    "    'O18':8.,\n",
    "    'Ne20':10.,\n",
    "    'Na23':11.,\n",
    "    'Mg24':12., # 78%\n",
    "    'Al27':13.,\n",
    "    'Si28':14.,\n",
    "    'P31':15.,\n",
    "    'S32':16.,\n",
    "    'Cl35':17., # 75%\n",
    "    'Ar40':18.,\n",
    "    'K39':19.,\n",
    "    'Ca40':20.,\n",
    "    'Sc45':21.,\n",
    "    'Ti48':22., # 74%\n",
    "    'V51':23.,\n",
    "    'Cr52':24., # 83%\n",
    "    'Mn55':25.,\n",
    "    'Fe56':26.,\n",
    "    'Co59':27.,\n",
    "    'Ni58':28., # 58%\n",
    "}\n",
    "\n",
    "# Mass Fraction Dictionary\n",
    "coreMassFrac = {\n",
    "    'Na11': 0.0,\n",
    "    'O16' : 0.0,\n",
    "    'Mg24': 0.0,\n",
    "    'Al27': 0.0,\n",
    "    'Si28': 0.06,\n",
    "    'P31' : 0.002,\n",
    "    'S32' : 0.019,\n",
    "    'Ca40': 0.0,\n",
    "    'Cr52': 0.009,\n",
    "    'Fe56': 0.855,\n",
    "    'Ni58': 0.052,\n",
    "}\n",
    "\n",
    "mantleMassFrac = {\n",
    "    'Na11': 0.0027,\n",
    "    'O16' : 0.440,\n",
    "    'Mg24': 0.228,\n",
    "    'Al27': 0.0235,\n",
    "    'Si28': 0.210,\n",
    "    'P31' : 0.00009,\n",
    "    'S32' : 0.00025,\n",
    "    'Ca40': 0.0253,\n",
    "    'Cr52': 0.0026,\n",
    "    'Fe56': 0.0626,\n",
    "    'Ni58': 0.00196,\n",
    "}\n",
    "print ('Complete')"
   ]
  },
  {
   "cell_type": "markdown",
   "metadata": {},
   "source": [
    "## Model Parameters and Constants\n",
    "\n",
    "In this cell, we initialize all model parameters as global variables."
   ]
  },
  {
   "cell_type": "code",
   "execution_count": 16,
   "metadata": {},
   "outputs": [
    {
     "name": "stdout",
     "output_type": "stream",
     "text": [
      "Complete\n"
     ]
    }
   ],
   "source": [
    "################################################################################\n",
    "# Constants\n",
    "################################################################################\n",
    "global c\n",
    "global G\n",
    "global M_E\n",
    "global R_earth\n",
    "global V_dot\n",
    "global V_cross\n",
    "global V_gal\n",
    "global u_0\n",
    "global k\n",
    "global n_X\n",
    "global mf\n",
    "\n",
    "c = 3.0*10**10 # cm/s\n",
    "G = 6.674e-11 * 100**3 *(1000)**-1 # cm^3/g s \n",
    "# M_E = 5.972e27 # g\n",
    "# R_earth = 6.37e6 # m\n",
    "V_dot = 220.0*10**5 # cm/s\n",
    "V_cross = 298.0*10**5 # cm/s\n",
    "V_gal = 550.0*10**5 # cm/s\n",
    "u_0 = 245.0*10**5 # cm/s\n",
    "k = 2.5\n",
    "\n",
    "print ('Complete')"
   ]
  },
  {
   "cell_type": "markdown",
   "metadata": {},
   "source": [
    "## Escape Velocity: $v_{\\oplus}(r)$\n",
    "\n",
    "The escape velocity in natural units is given by:\n",
    "$$ V_{esc}^2 = \\frac{2G}{c^2} \\left[ \\int_{0}^{R_{earth}} \\frac{M_{enc}(s)}{s^2} \\, ds + \\frac{M_{total}}{R_{earth}} \\right] $$\n",
    "\n",
    "However, we are given discretized data, so we convert the integral into a discrete sum over the radius of earth:\n",
    "$$ V_{esc}^2 = \\frac{2G}{c^2} \\left[ \\sum_i \\frac{M_{enc}(s)}{s^2} \\, \\Delta R + \n",
    "\\frac{M_{total}}{R_{earth}} \\right] $$\n",
    "\n",
    "where $M_{enc}(s)$ is the mass enclosed at radius $s$ and $\\Delta R$ is the change in radius going from the previous radius  to the current radius $\\Delta R =$ r[i] - r[i-1].\n",
    "\n",
    "The accumulate function acts just like the \"Accumulate\" in mathematica. It adds up whatever the summand is starting at \"index\" and sums over the length of the radius index.\n",
    "\n",
    "\n",
    "Escape Velocities are stored in the list: escVel2List\n",
    "\n",
    "Note: The value from escVel2List[1] is assigned to the first slot of escVel2List to work around a 'nan' escape velocity at r=0"
   ]
  },
  {
   "cell_type": "code",
   "execution_count": 17,
   "metadata": {},
   "outputs": [
    {
     "data": {
      "image/png": "[encoded data removed]",
      "text/plain": [
       "<matplotlib.figure.Figure at 0x12fb1419390>"
      ]
     },
     "metadata": {},
     "output_type": "display_data"
    },
    {
     "name": "stdout",
     "output_type": "stream",
     "text": [
      "Complete\n"
     ]
    }
   ],
   "source": [
    "def accumulate(index):\n",
    "    factor = 2.*G/c**2\n",
    "    constant = max(enclosedMassList) / max(radiusList)\n",
    "    \n",
    "    tempSum = 0    \n",
    "    for i in range(index,len(radiusList)-1):\n",
    "        summand = enclosedMassList[i] * deltaRList[i] / (radiusList[i])**2\n",
    "        tempSum += summand\n",
    "        \n",
    "    return factor*(tempSum + constant)\n",
    "\n",
    "escVel2List = []\n",
    "for i in xRange:\n",
    "    escVel2List.append(accumulate(i))\n",
    "#     escVel2List.append(escVel(i))\n",
    "# escVel2List[0] = escVel2List[1] # \n",
    "    \n",
    "    \n",
    "    \n",
    "plt.plot(xRange,escVel2List)\n",
    "plt.xlabel('Radius Index')\n",
    "plt.ylabel('Escape Velocity (cm/s)')\n",
    "plt.title('Escape Velocity Squared vs. Radius Index')\n",
    "plt.show()          \n",
    "    \n",
    "# plt.plot(radiusList,escVel2List,'.')\n",
    "# plt.xlabel('Radius (m)')\n",
    "# plt.ylabel('Escape Velocity (m/s)')\n",
    "# plt.title('Escape Velocity vs. Radius')\n",
    "# plt.show()\n",
    "\n",
    "\n",
    "# print escVel2List[0:4]\n",
    "\n",
    "print ('Complete')\n"
   ]
  },
  {
   "cell_type": "markdown",
   "metadata": {},
   "source": [
    "## Number Densities"
   ]
  },
  {
   "cell_type": "code",
   "execution_count": 18,
   "metadata": {},
   "outputs": [
    {
     "data": {
      "image/png": "[encoded data removed]",
      "text/plain": [
       "<matplotlib.figure.Figure at 0x12fb14302b0>"
      ]
     },
     "metadata": {},
     "output_type": "display_data"
    },
    {
     "data": {
      "image/png": "[encoded data removed]",
      "text/plain": [
       "<matplotlib.figure.Figure at 0x12fb1380ac8>"
      ]
     },
     "metadata": {},
     "output_type": "display_data"
    },
    {
     "name": "stdout",
     "output_type": "stream",
     "text": [
      "Complete\n"
     ]
    }
   ],
   "source": [
    "range1 = range(0,len(radiusList))\n",
    "mf = 0\n",
    "\n",
    "def numDensityList(element):\n",
    "    numDensityList = []\n",
    "    for i in range1:\n",
    "        if radiusList[i] < 348000000:\n",
    "            mf = coreMassFrac[element]\n",
    "        elif radiusList[i] >= 348000000:\n",
    "            mf = mantleMassFrac[element]\n",
    "        elif radiusList[i] > 348000000:\n",
    "            mf = 0\n",
    "\n",
    "        n_i = mf *  densityList[i] /(amu2Gev(atomicNumbers[element])) * 6.02e23\n",
    "        numDensityList.append(n_i)\n",
    "        \n",
    "    return numDensityList\n",
    "\n",
    "\n",
    "plt.plot(range1, numDensityList('Cr52'),'.')\n",
    "plt.title('Number Density of Cr52')\n",
    "plt.xlabel('Radius Index')\n",
    "plt.ylabel('Number Density (cm^-3)')\n",
    "plt.show()\n",
    "plt.plot(range1, numDensityList('Ca40'),'.')\n",
    "plt.title('Number Density of O16')\n",
    "plt.xlabel('Radius Index')\n",
    "plt.ylabel('Number Density (cm^-3)')\n",
    "plt.show()\n",
    "\n",
    "# print numDensityList('O16')\n",
    "print ('Complete')"
   ]
  },
  {
   "cell_type": "markdown",
   "metadata": {},
   "source": [
    "## List Interpolations\n",
    "\n",
    "At the present moment, I have the following lists:\n",
    "    - radius (radius)\n",
    "    - density (density)\n",
    "    - shell thickness (deltaR)\n",
    "    - shell mass (shellMass)\n",
    "    - enclosed mass (enclosedMass)\n",
    "    - escape velocity squared (escVel)\n",
    "    - number density of a *single* element (numDensityList)\n",
    "\n",
    "I need to interpolate the following lists into functions:\n",
    "    - density\n",
    "    - enclosed mass\n",
    "    - escape velocity squared"
   ]
  },
  {
   "cell_type": "code",
   "execution_count": 19,
   "metadata": {},
   "outputs": [
    {
     "name": "stdout",
     "output_type": "stream",
     "text": [
      "Complete\n"
     ]
    }
   ],
   "source": [
    "# densityInterp = interpolate.interp1d(radiusList,densityList,kind='linear') #kg/cm^3\n",
    "enclosedMassInterp = interpolate.interp1d(radiusList,enclosedMassList,kind='linear') # kg\n",
    "escVel2Interp = interpolate.interp1d(radiusList,escVel2List,kind='linear') # 1/c\n",
    "densityInterp = interpolate.interp1d(radiusList,densityList,kind='linear') # kg/cm^3\n",
    "\n",
    "# densityInterp = interpolate.interp1d(s,densityList,kind='linear') #kg/m^3\n",
    "# enclosedMassInterp = interpolate.interp1d(s,enclosedMassList,kind='linear')\n",
    "# escVel2Interp = interpolate.interp1d(s,escVel2List,kind='linear')\n",
    "\n",
    "print ('Complete')"
   ]
  },
  {
   "cell_type": "markdown",
   "metadata": {},
   "source": [
    "### Escape Velocity Interpolation Check\n",
    "Note: Over the entire interpolation range, the interpolation is good, but depending on where you zoom in on the graph, it will look off."
   ]
  },
  {
   "cell_type": "code",
   "execution_count": 20,
   "metadata": {},
   "outputs": [
    {
     "data": {
      "image/png": "[encoded data removed]",
      "text/plain": [
       "<matplotlib.figure.Figure at 0x12fb1583e48>"
      ]
     },
     "metadata": {},
     "output_type": "display_data"
    },
    {
     "name": "stdout",
     "output_type": "stream",
     "text": [
      "Complete\n"
     ]
    }
   ],
   "source": [
    "alist = range(0,40)\n",
    "tempEsc = []\n",
    "for i in alist:\n",
    "    tempEsc.append(escVel2List[i])\n",
    "    \n",
    "plt.plot(alist,tempEsc,'b.',alist,escVel2Interp(radiusList[alist]),'g-')\n",
    "plt.xlabel('Radius Index')\n",
    "plt.ylabel('Escape Velocity (c^-1)')\n",
    "plt.title('Escape Velocity vs Radius Index')\n",
    "plt.text(2.5,2.490e-9,'List Values: Blue Dots')\n",
    "plt.text(2.5,2.488e-9,'Interpolation: Green Line')\n",
    "plt.show()\n",
    "print ('Complete')"
   ]
  },
  {
   "cell_type": "markdown",
   "metadata": {},
   "source": [
    "# Capture Rate\n",
    "\n",
    "Our final goal is to calculate:\n",
    "\n",
    "$$ C^N_{cap} = n_X \\, c^N_{cap,red} $$\n",
    "\n",
    "where  $C^N_{cap,red}$ is the product of three integrals over the radius of earth $r$, the incident DM velocity $u$, and the DM recoil energy $E_R$. \n",
    "The reduced capture rate $c^N_{cap,red}$ is given by:\n",
    "\n",
    "$$\n",
    "c^N_{cap,red} = \n",
    "\\int_{0}^{R_{\\oplus}}dr \\, 4 \\pi r^2 n_N(r) \n",
    "\\int_{0}^{V_{gal}/c} du \\, 4 \\pi u^2 f(u) \\frac{u^2 + v_{\\oplus}^2(r)}{u}\n",
    "\\int_{E_{min}}^{E_{max}} \\, dE_R \\frac{d\\sigma_N}{dE_R} \\Theta (\\Delta E)\n",
    "$$\n",
    "\n",
    "where finally, $ \\frac{d\\sigma_N}{dE_R} $ is given by:\n",
    "\n",
    "$$ \\frac{d\\sigma_N}{dE_R} \\approx \n",
    "8 \\pi \\epsilon^2 \\, \\alpha_X \\, \\alpha \\, Z_N^2 \\, \\frac{m_N}{(u^2 + v_{\\oplus})^2(2m_NE_R + m_{A\\prime}^2)^2} \\left | F_N \\right| ^2$$\n",
    "\n",
    "\n",
    "A summary of all the functions used will be provided at the end of this section."
   ]
  },
  {
   "cell_type": "markdown",
   "metadata": {},
   "source": [
    "#### Motivation\n",
    "The motivation for the following calculations is to reduce the actual computation as much as possible by multiplying by all constant factors at the end of the calculation.\n",
    "\n",
    "Factors that are pulled out of calculations will be acounted for in a running total for the length of this section under the heading:\n",
    "\n",
    "##### Factors Removed"
   ]
  },
  {
   "cell_type": "markdown",
   "metadata": {},
   "source": [
    "## Helm Form Factor: $|F_N(E_R)|^2$\n",
    "The Helm Form Factor is given by:\n",
    "$$ \\left| F_N(E_R) \\right| ^2 = e^{[-E_R/E_N]} $$ (see eqn (10) of arXiv: 1509.07525v2)\n",
    "\n",
    "where $E_N \\equiv \\frac{0.114 }{ A_{N}^{5/3}} \\space GeV$ is the characteristic energy of a nucleus with atomic number $A_N$\n",
    "\n",
    "This factor accounts for the effective size of a target nucleus in a DM -- nucleus when an incoming DM particle scatters of a nucleus inside the earth."
   ]
  },
  {
   "cell_type": "code",
   "execution_count": 21,
   "metadata": {},
   "outputs": [
    {
     "name": "stdout",
     "output_type": "stream",
     "text": [
      "Complete\n"
     ]
    }
   ],
   "source": [
    "def formFactor2(element, E):\n",
    "    mn = amu2Gev(atomicNumbers[element])\n",
    "    E_N = 0.114/((atomicNumbers[element])**(5./3))\n",
    "    FN2 = np.exp(-E/E_N)\n",
    "    return FN2\n",
    "\n",
    "print ('Complete')"
   ]
  },
  {
   "cell_type": "markdown",
   "metadata": {},
   "source": [
    "## Cross Section Integrand: $ \\frac{d\\sigma _N}{dE_R} $ (eqn9) arXiv: 1509.07525v2\n",
    "\n",
    "The following cell modifies the cross section integrand given by:\n",
    "$$ \\text{eqn09Guts}  = \\frac{m_N}{(2m_N E_R + m_A\\prime ^2)^2} \\left| F_N \\right|^2  $$\n",
    "\n",
    "with dimension : $[\\text{eqn09Guts}] = \\frac{1}{GeV^3}$\n",
    "\n",
    "##### Factors Removed:  $8\\pi \\epsilon^2 \\alpha_X \\alpha Z_N^2$"
   ]
  },
  {
   "cell_type": "code",
   "execution_count": 22,
   "metadata": {},
   "outputs": [
    {
     "name": "stdout",
     "output_type": "stream",
     "text": [
      "Complete\n"
     ]
    }
   ],
   "source": [
    "def eqn09Guts(element, m_A, E):\n",
    "    mn = amu2Gev(atomicNumbers[element])\n",
    "    function = (mn * formFactor2(element,E) ) / ((2*mn*E + m_A**2)**2)\n",
    "    return function\n",
    "\n",
    "print ('Complete')"
   ]
  },
  {
   "cell_type": "markdown",
   "metadata": {},
   "source": [
    "## Incident Dark Matter Velocity Distribution (eqn17)\n",
    "In the following cell we calculate the normalization constant $N_0$ for the incident dark matter velocity distribution:\n",
    "\n",
    "$$ \\frac{1}{N_0} = \\int_{0}^{V_{gal}/c} f(u) \\ du = \\text{tempA}$$\n",
    "where $u$ is a naturalized velocity and $f(u)$ is the incident DM velocity distribution which we take to be Maxwell-Boltzmann in shape:\n",
    "\n",
    "$$ \\text{DMVelDist} = f(u) =  N_0 \\left[ exp \\left ( \n",
    "\\frac{v^2_{gal}-u^2}{ku^2_0}\\right) -1 \\right] ^k\n",
    "\\Theta(v_{gal} - u) $$\n",
    "\n",
    "Typical values for $v_{gal}$ (km/s), $u_0$ (km/s), and $k$ respectively lie between:\n",
    "\n",
    "$$ 220<u_0<270 \\qquad 450<v_{gal}<650 \\qquad 1.5<k<3.5 $$\n",
    "\n",
    "For computations, we take $u_0 = 245\\times 10^6$ cm/s, $v_{gal} = 550\\times10^6$ cm/s and $k = 2.5$\n"
   ]
  },
  {
   "cell_type": "code",
   "execution_count": 23,
   "metadata": {},
   "outputs": [
    {
     "name": "stdout",
     "output_type": "stream",
     "text": [
      "Complete\n"
     ]
    }
   ],
   "source": [
    "# u is now a naturalized velocity\n",
    "def DMVelDistNormalization(u):\n",
    "# The if-else structure accounts for the Heaviside function\n",
    "    if ((V_gal/c) - u < 0):\n",
    "        temp = 0.\n",
    "        \n",
    "    elif ( ((V_gal/c) - (u)) >= 0):\n",
    "        numerator = ((V_gal/c)**2 - (u)**2)\n",
    "        denominator = (k * (u_0/c)**2)\n",
    "        arg = ( numerator / denominator)    \n",
    "        temp = 4*np.pi*(u)**2 * (np.expm1(arg))** k\n",
    "    return temp\n",
    "\n",
    "\n",
    "tempA = integrate.quad(DMVelDistNormalization,0,V_gal/c)[0]\n",
    "N_0 = 1./tempA\n",
    "\n",
    "def DMVelDist(u, N_1 = N_0):\n",
    "# The if-else structure accounts for the Heaviside function\n",
    "# N_1 is the normalization \n",
    "    if ((V_gal/c - u) < 0):\n",
    "        temp = 0\n",
    "        \n",
    "    elif ((V_gal/c - u) >= 0):\n",
    "        numerator = ((V_gal/c)**2 - (u)**2)\n",
    "        denominator = (k * (u_0/c)**2)\n",
    "        arg = ( numerator / denominator)    \n",
    "        temp = N_1 * (np.expm1(arg) ) ** k\n",
    "    return temp\n",
    "\n",
    "print ('Complete')"
   ]
  },
  {
   "cell_type": "code",
   "execution_count": null,
   "metadata": {
    "collapsed": true
   },
   "outputs": [],
   "source": []
  },
  {
   "cell_type": "markdown",
   "metadata": {},
   "source": [
    "## Modified Dark Matter Velocity Distribution (eqn16)\n",
    "\n",
    "The modified distribution $ f_{\\oplus}$ is the annular and angular averaged dark matter distribution in the rest frame of Earth given by:\n",
    "\n",
    "$$ \\text{ModDMVelDist} = f_{\\oplus}(u) = \\frac{1}{4} \\int_{-1}^{1}\\int_{-1}^{1} dcos\\theta \\, dcos\\phi \\space\n",
    "   f \\left[ \\left( u^2 (V_{\\odot} + V_{\\oplus}cos\\phi)^2 + 2u(V_{\\odot} + V_{\\oplus} cos\\phi) cos\\theta \\right) ^{1/2} \\right] $$"
   ]
  },
  {
   "cell_type": "code",
   "execution_count": 25,
   "metadata": {},
   "outputs": [
    {
     "name": "stdout",
     "output_type": "stream",
     "text": [
      "Complete\n"
     ]
    }
   ],
   "source": [
    "def ModDMVelDist(u):\n",
    "    def integrand(x, y): #x = cos(theta), y = cos(phi)\n",
    "        return 0.25 * DMVelDist( ( u**2 + ((V_dot/c) + (V_cross/c) * y)**2 + 2 * u * ((V_dot/c) + (V_cross/c) * y) *x)** 0.5  )\n",
    "\n",
    "    return integrate.dblquad(integrand, -1, 1, lambda y: -1, lambda y: 1)[0]\n",
    "\n",
    "\n",
    "print ('Complete')"
   ]
  },
  {
   "cell_type": "markdown",
   "metadata": {},
   "source": [
    "### Graphing and Interpolating the Modified DM Velocity Distribution\n",
    "\n",
    "#### Graph"
   ]
  },
  {
   "cell_type": "code",
   "execution_count": 27,
   "metadata": {},
   "outputs": [
    {
     "name": "stdout",
     "output_type": "stream",
     "text": [
      "Complete\n"
     ]
    },
    {
     "data": {
      "image/png": "[encoded data removed]",
      "text/plain": [
       "<matplotlib.figure.Figure at 0x12fb26d59e8>"
      ]
     },
     "metadata": {},
     "output_type": "display_data"
    }
   ],
   "source": [
    "velRange = np.linspace(0,V_gal/c,200)\n",
    "\n",
    "ModDMVect = []\n",
    "for vel in velRange:\n",
    "    ModDMVect.append(ModDMVelDist(vel))\n",
    "    \n",
    "plt.plot(velRange,ModDMVect,'.')\n",
    "\n",
    "\n",
    "print ('Complete')"
   ]
  },
  {
   "cell_type": "markdown",
   "metadata": {},
   "source": [
    "#### Interpolate"
   ]
  },
  {
   "cell_type": "code",
   "execution_count": 28,
   "metadata": {},
   "outputs": [
    {
     "name": "stdout",
     "output_type": "stream",
     "text": [
      "Complete\n"
     ]
    },
    {
     "data": {
      "image/png": "[encoded data removed]",
      "text/plain": [
       "<matplotlib.figure.Figure at 0x12fb2658198>"
      ]
     },
     "metadata": {},
     "output_type": "display_data"
    }
   ],
   "source": [
    "# Interpolate this list\n",
    "DMVect = []\n",
    "ModDMVelInterp = interpolate.interp1d(velRange,ModDMVect,kind='linear')\n",
    "\n",
    "for vel in velRange:\n",
    "    DMVect.append(ModDMVelInterp(vel))\n",
    "    \n",
    "\n",
    "plt.plot(velRange,DMVect,'green', velRange, ModDMVect, 'b.')\n",
    "plt.axis([0.,0.0002,2.0e8,2.16e8])\n",
    "plt.xlabel('Incident Velocity')\n",
    "plt.ylabel(\"f'(u)\")\n",
    "plt.title('Modified DM Velocity Interpolation Check')\n",
    "plt.text(0.000025,2.08e8,'Blue Dots: List Values')\n",
    "plt.text(0.000025,2.06e8,'Green Line: Interpolation')\n",
    "print ('Complete')"
   ]
  },
  {
   "cell_type": "markdown",
   "metadata": {},
   "source": [
    "### Emin and Emax Initialization (eqn13)\n",
    "In the following cell, we initialize the Emin and Emax functions where\n",
    "$$ E_{Min} = \\frac{1}{2} m_X u^2 \\qquad E_{Max} = 2 \\frac{\\mu^2}{m_N} (u^2 + v_{\\oplus}^2)$$  "
   ]
  },
  {
   "cell_type": "code",
   "execution_count": 29,
   "metadata": {},
   "outputs": [
    {
     "name": "stdout",
     "output_type": "stream",
     "text": [
      "Complete\n"
     ]
    }
   ],
   "source": [
    "def eMin(u, m_X):\n",
    "    function = (0.5) * m_X * u**2\n",
    "    assert (function >=0), '(u, m_X): (%e,%e) result in a negative eMin' % (u, m_X)\n",
    "    return function\n",
    "\n",
    "def eMax(element, m_X, rIndex, u):\n",
    "    mn = amu2Gev(atomicNumbers[element])\n",
    "    mu = mn*m_X / (mn + m_X)\n",
    "    vCross2 = escVel2List[rIndex]\n",
    "    function = 2*mu**2 *(u**2 + vCross2)/mn\n",
    "    assert (function >= 0), '(element, m_X, rIndex, u): (%s, %e, %i, %e) result in negative eMax' %(element, m_X, rIndex, u)\n",
    "    return function\n",
    "\n",
    "print ('Complete')"
   ]
  },
  {
   "cell_type": "markdown",
   "metadata": {},
   "source": [
    "## Calculating the Capture Integral\n",
    "In the following cell, we calculate the velocity and recoil energy integrals:\n",
    "\n",
    "$$ \\text{IntDuDEr} = \\int_{0}^{uInt} du\\space u \\, f(u) \\int_{E_{min}}^{E_{Max}} dE_R \\space \\frac{d \\sigma_N}{dE_R} \\Theta(\\Delta E) $$ \n",
    "\n",
    "with dimension: $[ \\text{IntDuDEr}] = \\frac{1}{GeV^2}$\n",
    "\n",
    "where $$ u_{int}^2 = \\frac{2\\mu_N^2}{m_N} \\frac{1}{ \\left( \\frac{1}{2m_X} - \\frac{2\\mu_N^2}{m_N} \\right)  } v_{\\oplus}^2 $$\n",
    "\n",
    "See Appendix A for a discussion of calculating this integral.\n",
    "\n",
    "##### Factors Removed:  $(4\\pi)(8\\pi \\epsilon^2 \\alpha_X \\alpha Z_N^2)$"
   ]
  },
  {
   "cell_type": "code",
   "execution_count": 30,
   "metadata": {},
   "outputs": [
    {
     "name": "stdout",
     "output_type": "stream",
     "text": [
      "Complete\n"
     ]
    }
   ],
   "source": [
    "def IntDuDEr(element, m_X, m_A, rIndex):\n",
    "    mn = amu2Gev(atomicNumbers[element])\n",
    "    mu = (mn*m_X)/(mn+m_X)\n",
    "    vCross2 = escVel2List[rIndex]\n",
    "    \n",
    "    def integrand(E,u):\n",
    "#         fu = DMVelDist(u)\n",
    "        fu = ModDMVelInterp(u)\n",
    "\n",
    "        inte = eqn09Guts(element, m_A, E) * u * fu\n",
    "#         inte = eqn09Guts(E, m_A, element) * u\n",
    "\n",
    "#         assert (inte >= 0), '(E,u): (%e,%e) result in a negative integrand' % (E,u)\n",
    "        return inte\n",
    "    \n",
    "    # Calculate the intersection uInt of eMin and eMax given a specific rIndex\n",
    "    A = 1/2. * m_X\n",
    "    B = 2. * mu**2 / mn\n",
    "    uInt = np.sqrt( ( B * vCross2) / (A-B) )\n",
    "    \n",
    "    uLow = 0\n",
    "    uHigh = uInt\n",
    "    eLow = lambda u: eMin(u, m_X)\n",
    "    eHigh = lambda u: eMax(element, m_X, rIndex, u)\n",
    "    integral = integrate.dblquad(integrand, uLow, uHigh, eLow, eHigh)[0]\n",
    "    return integral\n",
    "\n",
    "# print IntDuDEr('O16',100., 10 ,20)\n",
    "\n",
    "print ('Complete')"
   ]
  },
  {
   "cell_type": "markdown",
   "metadata": {
    "collapsed": true
   },
   "source": [
    "## Sum over radii\n",
    "In the following cell, we calculate the \"integral\" over the radius of earth:\n",
    "\n",
    "$$ \\int^{R_{earth}}_{0} dr\\space 4\\pi r^2 n_N(r) \\int_{0}^{uInt} du\\space 4\\pi u f(u) \\int_{E_{min}}^{E_{Max}} dE_R \\space \\frac{d \\sigma_N}{dE_R} \\Theta(\\Delta E) $$\n",
    "\n",
    "where we rename the velocity and recoil energy integrals to their respective python function $IntDuDEr$:\n",
    "\n",
    "$$ \\int^{R_{earth}}_{0} dr\\space 4\\pi r^2 n_N(r) \\space IntDuDEr  $$\n",
    "\n",
    "with dimension $ \\frac{m^3}{GeV^2}$\n",
    "\n",
    "However, instead of calculating this as an integral as stated, we discretize the integral and use the thin-shell approximation:\n",
    "\n",
    "$$ \\frac{4}{3}\\pi (r +\\Delta r)^3 - \\frac{4}{3}\\pi r^3 = 4 \\pi r^2 \\Delta r$$\n",
    "\n",
    "which yields the discrete summation:\n",
    "\n",
    "$$ SumOverR = \\Sigma_{i} 4 \\pi r_i^2 n_N(r) \\Delta r_i \\space IntDuDEr $$\n",
    "\n",
    "where the variables $r_i$, $n_N(r)$, and $\\Delta r_i$ are given by:\n",
    "$$ r_i = radiusList[i] \\qquad n_N(r) = numDensityList(element)[i] \\qquad \\Delta r_i = deltaRList[i] $$\n",
    "\n",
    "It is important to note, $i$ is a pure summation index and all physical quantites depending on i are taken from the respective lists.\n",
    " \n",
    "One could interpolate the radius, number density, and escape velocity lists into functions and perform an actual integration, [reasons why that isn't worthwhile to do]\n",
    "\n",
    "Note: the functions SumR and SumR1 are the exact same as in Flip's notebook for a double check. SumR doesn't include the number densities though, and SumR1 does.\n",
    "\n",
    "##### Removed Factors: $(4\\pi)(4\\pi)(8\\pi \\epsilon^2 \\alpha_X \\alpha Z_N^2)$"
   ]
  },
  {
   "cell_type": "code",
   "execution_count": 31,
   "metadata": {},
   "outputs": [
    {
     "name": "stdout",
     "output_type": "stream",
     "text": [
      "Complete\n"
     ]
    }
   ],
   "source": [
    "# I sum over the indicies and call the appropriate dictionaries at each index\n",
    "\n",
    "# def SumR(element, m_X, m_A):\n",
    "#     rSum = 0\n",
    "#     for i in range(0,len(radiusList)):\n",
    "#         r = radiusList[i]\n",
    "#         deltaR = deltaRList[i]\n",
    "\n",
    "#         summand = r**2 * IntDuDEr(element, m_X, m_A, i)*deltaR\n",
    "#         rSum = rSum + summand\n",
    "#     return rSum\n",
    "\n",
    "# def SumR1(element, m_X, m_A):\n",
    "#     rSum = 0\n",
    "#     for i in range(0,len(radiusList)):\n",
    "#         r = radiusList[i]\n",
    "#         deltaR = deltaRList[i]\n",
    "#         n_N = numDensityList(element)[i]\n",
    "        \n",
    "#         summand = r**2 * n_N *IntDuDEr(element, m_X, m_A, i)*deltaR\n",
    "#         rSum += summand\n",
    "#     return rSum\n",
    "\n",
    "def SumOverR(element, m_X, m_A):\n",
    "    tempSum = 0\n",
    "    for i in range(0,len(radiusList)):\n",
    "        r = radiusList[i]\n",
    "        deltaR = deltaRList[i]\n",
    "        n_N = numDensityList(element)[i]\n",
    "#         summand = r**2*IntDuDEr(element, m_X, m_A, i)*deltaR\n",
    "        summand = n_N *r**2*IntDuDEr(element, m_X, m_A, i)*deltaR\n",
    "        tempSum += summand\n",
    "    return tempSum\n",
    "\n",
    "print ('Complete')"
   ]
  },
  {
   "cell_type": "markdown",
   "metadata": {
    "collapsed": true
   },
   "source": [
    "## Renaming\n",
    "Here, we simply rename SumR to CapRed"
   ]
  },
  {
   "cell_type": "code",
   "execution_count": 55,
   "metadata": {
    "collapsed": true
   },
   "outputs": [],
   "source": [
    "# def CCapRed(element, m_X, m_A):\n",
    "#     return SumR(element, m_X, m_A)\n",
    "\n",
    "# def CCapRed1(element, m_X, m_A):\n",
    "#     return SumR1(element, m_X, m_A)\n",
    "\n",
    "# print 'Complete'"
   ]
  },
  {
   "cell_type": "markdown",
   "metadata": {
    "collapsed": true
   },
   "source": [
    "## Full Capture Rate: $C^N_{cap}$\n",
    "The final step is to tack on all of the removed factors and calculate the full capture rate:\n",
    "\n",
    "$$ \\text{fullCap} = \\left[(4\\pi)(4\\pi)(8\\pi \\epsilon^2 \\alpha_X \\alpha Z_N^2)\\right] n_X \\text{sumOverR} $$\n",
    "\n",
    "where $[n_X] = \\frac{1}{cm^3}$ and $[sumOverR] = \\frac{1}{GeV^2}$, so $[totalCap] = \\frac{1}{cm^3 GeV^2}$\n",
    "\n",
    "We manually multiply by the following conversions:\n",
    "$$ \\frac{cm \\cdot GeV}{5.06\\times10^{13}} =  1 \\qquad \\text{and} \\qquad \\frac{1.52\\times10^{24}}{GeV\\cdot s} = 1$$\n"
   ]
  },
  {
   "cell_type": "code",
   "execution_count": 32,
   "metadata": {},
   "outputs": [
    {
     "name": "stdout",
     "output_type": "stream",
     "text": [
      "Complete\n"
     ]
    }
   ],
   "source": [
    "# def CCap(element, m_X, m_A, epsilon, alpha, alpha_X):\n",
    "#     n_X = 0.3/m_X # 1/cm^3\n",
    "#     Z_N = nProtons[element]\n",
    "    \n",
    "#     conversion = (5.06e13)**-3*(1.52e24)\n",
    "#     prefactor = 2 * n_X* (4*np.pi)**3 * epsilon**2 * alpha_X *alpha * Z_N**2 * conversion\n",
    "#     return prefactor * CCapRed(element, m_X, m_A) \n",
    "\n",
    "\n",
    "# def CCap1(element, m_X, m_A, epsilon, alpha, alpha_X):\n",
    "#     n_X = 0.3/m_X # 1/cm^3\n",
    "#     Z_N = nProtons[element]\n",
    "\n",
    "#     conversion = (5.06e13)**-3*(1.52e24)\n",
    "#     prefactor = 2 * n_X* (4*np.pi)**3 * epsilon**2 * alpha_X *alpha * Z_N**2 * conversion\n",
    "\n",
    "#     return  n_X * prefactor * CCapRed1(element, m_X, m_A)\n",
    "\n",
    "def fullCap(element, m_X, m_A, epsilon, alpha, alpha_X):\n",
    "    Z_N = nProtons[element]\n",
    "    n_X = 0.3/m_X\n",
    "    \n",
    "    conversion = (5.06e13)**-3*(1.52e24)\n",
    "    prefactor = 2*(4*np.pi)**3*epsilon**2*alpha_X*alpha*Z_N**2 *conversion\n",
    "    \n",
    "    return n_X * prefactor * SumOverR(element, m_X, m_A)\n",
    "\n",
    "# CCapFlip[(n), alphaX, epsilon, m_X, m_A]\n",
    "# These are the values from ArXiV: 1509.07525v2 Flip Earth paper\n",
    "CCapFlip0 = {# CCapFlip[(n), alphaX = 0.035, epsilon = 10e-8, m_X = 1000, m_A = 1]\n",
    "    'O16': 4.03e5,\n",
    "    'Si28': 2.24e6,\n",
    "    'Mg24': 1.05e6,\n",
    "    'Fe56': 9.43e7,\n",
    "    'Ca40': 9.06e5,\n",
    "    'P31': 2.04e4,\n",
    "    'S32': 2.41e5,\n",
    "    'Ni58': 7.10e6,\n",
    "    'Al27': 1.62e5,\n",
    "    'Cr52': 8.98e5 \n",
    "}\n",
    "\n",
    "print ('Complete')"
   ]
  },
  {
   "cell_type": "markdown",
   "metadata": {},
   "source": [
    "## Capture Rates"
   ]
  },
  {
   "cell_type": "code",
   "execution_count": 34,
   "metadata": {},
   "outputs": [
    {
     "name": "stdout",
     "output_type": "stream",
     "text": [
      "541933.349841\n",
      "Complete\n"
     ]
    }
   ],
   "source": [
    "# for element in elementList:\n",
    "#     print 'C_N: %s = %e' % (element, fullCap(element, 1000., 1., 10.0**-8, 1./137, 0.035))\n",
    "\n",
    "print (fullCap('O16', 1000., 1., 10.0**-8, 1./137, 0.035))\n",
    "    \n",
    "print ('Complete')"
   ]
  },
  {
   "cell_type": "markdown",
   "metadata": {
    "collapsed": true
   },
   "source": [
    "## Error Calculations based on Table I in ArXiV: 1509.07525v2\n",
    "TO DO: Go through Jordan's Notebook and see what he did and compare it with what I did."
   ]
  },
  {
   "cell_type": "code",
   "execution_count": 33,
   "metadata": {},
   "outputs": [
    {
     "name": "stdout",
     "output_type": "stream",
     "text": [
      "139837576.17\n",
      "Complete\n"
     ]
    }
   ],
   "source": [
    "CCapAdam0 = {}\n",
    "# CCap(element, m_X, m_A, epsilon, alpha, alpha_X)\n",
    "tempCap = 0\n",
    "for element in elementList:\n",
    "    CCapAdam0[element] = fullCap(element, 1000., 1., 1e-8, 1./137, 0.035)\n",
    "    tempCap += CCapAdam0[element]\n",
    "    \n",
    "print tempCap    \n",
    "    \n",
    "print 'Complete'"
   ]
  },
  {
   "cell_type": "code",
   "execution_count": 56,
   "metadata": {},
   "outputs": [
    {
     "name": "stdout",
     "output_type": "stream",
     "text": [
      "Percent error on CCapAdam5[O16]: 3.447478e+01\n",
      "Percent error on CCapAdam5[Si28]: 3.389069e+01\n",
      "Percent error on CCapAdam5[Mg24]: 3.546016e+01\n",
      "Percent error on CCapAdam5[Fe56]: 3.010680e+01\n",
      "Percent error on CCapAdam5[Ca40]: 3.461569e+01\n",
      "Percent error on CCapAdam5[P31]: 2.977928e+01\n",
      "Percent error on CCapAdam5[S32]: 3.017061e+01\n",
      "Percent error on CCapAdam5[Ni58]: 2.999220e+01\n",
      "Percent error on CCapAdam5[Al27]: 3.444542e+01\n",
      "Percent error on CCapAdam5[Cr52]: 3.100180e+01\n",
      "Complete\n"
     ]
    }
   ],
   "source": [
    "for element in elementList:\n",
    "    print 'Percent error on CCapAdam5[%s]: %e' % (element, \\\n",
    "            (CCapAdam0[element] - CCapFlip0[element])*100/CCapFlip0[element])\n",
    "\n",
    "print 'Complete'"
   ]
  },
  {
   "cell_type": "markdown",
   "metadata": {},
   "source": [
    "## Total Capture Rate:"
   ]
  },
  {
   "cell_type": "code",
   "execution_count": 133,
   "metadata": {},
   "outputs": [
    {
     "name": "stdout",
     "output_type": "stream",
     "text": [
      "139837576.17\n",
      "Complete\n"
     ]
    }
   ],
   "source": [
    "def CCap(m_X, m_A, epsilon, alpha, alpha_X):\n",
    "    totalCap = 0\n",
    "    for element in elementList:\n",
    "        totalCap += fullCap(element, m_X, m_A, epsilon, alpha, alpha_X)\n",
    "    return totalCap\n",
    "\n",
    "print CCap(1000., 1., 1e-8, 1./137, 0.035)\n",
    "\n",
    "print 'Complete'"
   ]
  },
  {
   "cell_type": "markdown",
   "metadata": {},
   "source": [
    "## Output to an External Text File"
   ]
  },
  {
   "cell_type": "code",
   "execution_count": 54,
   "metadata": {},
   "outputs": [
    {
     "name": "stdout",
     "output_type": "stream",
     "text": [
      "Complete\n"
     ]
    }
   ],
   "source": [
    "mARange = np.linspace(0.01,10,5)\n",
    "epsilonRange = np.linspace(10**-10, 10**-5,5)\n",
    "\n",
    "print 'Complete'"
   ]
  },
  {
   "cell_type": "code",
   "execution_count": 59,
   "metadata": {
    "collapsed": true
   },
   "outputs": [],
   "source": [
    "\n",
    "# with open('[Test1].csv', 'wb') as csvfile:\n",
    "#     writer = csv.writer(csvfile, delimiter = ',')\n",
    "\n",
    "#     for mATemp in mARange:\n",
    "#         for epsilonTemp in epsilonRange:\n",
    "#             value = CCap(100., mATemp, epsilonTemp, 1./137, 0.035)\n",
    "            \n",
    "#             writethis = [mATemp, epsilonTemp, value]\n",
    "#             writer.writerow(writethis)\n",
    "            \n",
    "# print 'Complete'"
   ]
  },
  {
   "cell_type": "markdown",
   "metadata": {},
   "source": [
    "### Contour Plot (Fig. 2.2)\n",
    "\n",
    "Problem: Python doesn't like it when I pass a meshgrid object into a function to be integrated over. However, I can create two arrays which simulate the meshgrid and loop over them and python is happy.\n",
    "\n",
    "The next thing I have to do is figure out how to create a contour plot from 3 arrays:\n",
    "https://docs.scipy.org/doc/scipy-0.18.1/reference/generated/scipy.interpolate.griddata.html\n",
    "- Array X,Y data\n",
    "- Loop over X,Y creating an array of Z (CCap) data of dimension (X x Y)\n",
    "- We now have 3 arrays of X, Y, and Z data\n",
    "\n",
    "\n",
    "- points = np.column_stack((x,y)): These are the data points (x and y arrays) that we know\n",
    "- values = CCap(): This is the function evaulated at those data points\n",
    "- ZGrid = interpolate.griddata(points, values, (gridX, gridY), method='cubic')\n",
    "\n"
   ]
  },
  {
   "cell_type": "code",
   "execution_count": 60,
   "metadata": {},
   "outputs": [
    {
     "name": "stdout",
     "output_type": "stream",
     "text": [
      "Complete\n"
     ]
    }
   ],
   "source": [
    "# mAVector = []\n",
    "# epsilonVector = []\n",
    "\n",
    "def test(a,b):\n",
    "    def integrand(a):\n",
    "        return a +b\n",
    "    return integrate.quad(integrand,0,1)\n",
    "\n",
    "# for value in mARange:\n",
    "#     mAVector.append(value)\n",
    "    \n",
    "# for value in epsilonRange:\n",
    "#     epsilonVector.append(value)\n",
    "    \n",
    "    \n",
    "# for i in mARange:\n",
    "#     for j in epsilonRange:\n",
    "#         print i,j, fullCap('O16',100., i, j, 1./137, 0.035)\n",
    "    \n",
    "\n",
    "\n",
    "    \n",
    "# mAVar,epsilonVar = np.meshgrid(mAVector,epsilonVector)\n",
    "\n",
    "# print fullCap('O16', 100., 1, 10**-8, 1./137, 0.035)\n",
    "# zVar = fullCap('O16', 100., mAVar, epsilonVar, 1./137, 0.035)\n",
    "# zVar = test(mAVar,epsilonVar)\n",
    "\n",
    "# plt.figure()\n",
    "# cp = plt.contour(mAVar,epsilonVar,zVar)\n",
    "print 'Complete'"
   ]
  },
  {
   "cell_type": "markdown",
   "metadata": {},
   "source": [
    "### Attempt at Fig2. using Plotly"
   ]
  },
  {
   "cell_type": "markdown",
   "metadata": {},
   "source": [
    "#### Minimal Working Example"
   ]
  },
  {
   "cell_type": "code",
   "execution_count": 61,
   "metadata": {},
   "outputs": [
    {
     "name": "stdout",
     "output_type": "stream",
     "text": [
      "Complete\n"
     ]
    }
   ],
   "source": [
    "# Attemp using plotly\n",
    "import plotly\n",
    "plotly.tools.set_credentials_file(username='agree019', api_key='w4so9FMIsoMxU3gfC49A')\n",
    "\n",
    "import plotly.plotly as py\n",
    "from plotly.graph_objs import *\n",
    "\n",
    "\n",
    "import random\n",
    "\n",
    "zDictionary = {\n",
    "    'z0': [],\n",
    "    'z1': [],\n",
    "    'z2': [],\n",
    "    'z3': [],\n",
    "    'z4': [],\n",
    "    'z5': [],\n",
    "    'z6': [],\n",
    "    'z7': [],\n",
    "    'z8': [],\n",
    "    'z9': []\n",
    "}\n",
    "\n",
    "\n",
    "def testfunction(x):\n",
    "    return x*random.random()\n",
    "\n",
    "for key in zDictionary:\n",
    "    for i in range(0,20):\n",
    "        zDictionary[key].append(testfunction(i))\n",
    "        \n",
    "print 'Complete'"
   ]
  },
  {
   "cell_type": "markdown",
   "metadata": {},
   "source": [
    "#### Plot the \"data\""
   ]
  },
  {
   "cell_type": "code",
   "execution_count": 62,
   "metadata": {},
   "outputs": [
    {
     "data": {
      "text/html": [
       "<iframe id=\"igraph\" scrolling=\"no\" style=\"border:none;\" seamless=\"seamless\" src=\"https://plot.ly/~agree019/10.embed\" height=\"525px\" width=\"100%\"></iframe>"
      ],
      "text/plain": [
       "<plotly.tools.PlotlyDisplay object>"
      ]
     },
     "execution_count": 62,
     "metadata": {},
     "output_type": "execute_result"
    }
   ],
   "source": [
    "\n",
    "data = Data([\n",
    "    Contour(\n",
    "        z=[\n",
    "        zDictionary['z0'],\n",
    "        zDictionary['z1'],\n",
    "        zDictionary['z2'],\n",
    "        zDictionary['z3'],\n",
    "        zDictionary['z4'],\n",
    "        zDictionary['z5'],\n",
    "          zDictionary['z6'],\n",
    "          zDictionary['z7'],\n",
    "          zDictionary['z8'],\n",
    "          zDictionary['z9']]\n",
    "    )\n",
    "])\n",
    "\n",
    "py.iplot(data)\n"
   ]
  },
  {
   "cell_type": "code",
   "execution_count": null,
   "metadata": {
    "collapsed": true
   },
   "outputs": [],
   "source": []
  },
  {
   "cell_type": "code",
   "execution_count": null,
   "metadata": {
    "collapsed": true
   },
   "outputs": [],
   "source": []
  },
  {
   "cell_type": "code",
   "execution_count": null,
   "metadata": {
    "collapsed": true
   },
   "outputs": [],
   "source": []
  },
  {
   "cell_type": "markdown",
   "metadata": {
    "collapsed": true
   },
   "source": [
    "----------"
   ]
  },
  {
   "cell_type": "markdown",
   "metadata": {},
   "source": [
    "# Annihilation Rate\n",
    "\n",
    "Recall the solution to the differential equation:\n",
    "$$ \\frac{dN_X}{dt} = C_{cap} - N_X^2 C_{ann} $$\n",
    "is given by:\n",
    "$$ \\Gamma_{ann} = \\frac{1}{2} C_{cap}\\tanh^2\\frac{\\tau_{\\oplus}}{\\tau} = \\frac{1}{2}C_{ann}N_X^2$$\n",
    "\n",
    "So we need an expression for $C_{ann}$\n"
   ]
  },
  {
   "cell_type": "markdown",
   "metadata": {
    "collapsed": true
   },
   "source": [
    "### Annihilation Rate: $C_{ann}$\n",
    "From Equation 22, $C_{ann}$ is given by:\n",
    "$$ C_{ann} = \\langle \\sigma_{ann}v \\rangle \\left[ \\frac{G_Nm_X\\rho_{\\oplus}}{3T_{\\oplus}} \\right] $$\n",
    "\n",
    "with $\\rho_{\\oplus} \\approx 13 \\frac{g}{cm^3}$ and $T_{\\oplus} \\approx 5700K$\n",
    "\n",
    "Further explanation...."
   ]
  },
  {
   "cell_type": "markdown",
   "metadata": {
    "collapsed": true
   },
   "source": [
    "#### Thermally Averaged Cross Section: $\\langle \\sigma_{ann}v \\rangle$\n",
    "\n",
    "$$ \\langle \\sigma_{ann}v \\rangle = (\\sigma_{ann}v)_{tree} \\langle S_S \\rangle $$\n",
    "\n",
    "where:\n",
    "\n",
    "$$ (\\sigma_{ann}v)_{tree} = \\frac{\\pi \\alpha_X^2 [1-m_{A'}^2/m_X^2]^{3/2} }{m_X^2 [1-m_{A'}^2/(2m_X^2)]^2} $$\n",
    "\n",
    "and the Sommerfeld enhancement $S_S$ is given by:\n",
    "$$ S_S = \\frac{\\pi}{a} \\frac{\\sinh(2\\pi ac)}{\\cosh(2\\pi ac) - \\cos(2\\pi \\sqrt{c-(ac)^2}) } $$\n",
    "\n",
    "Thermal Average Sommerfeld:\n",
    "$$ \\langle S_S \\rangle = \\int \\frac{d^3 v}{(2\\pi v_0^2)^{3/2}} e^{-\\frac{1}{2}v^2/v_0^2} S_S $$\n",
    "\n",
    "where $ a= \\frac{v}{2\\alpha_X} $ and $c=6\\alpha_X \\frac{m_X}{\\pi^2m_{A'}}$\n",
    "\n",
    "$ v_0 = \\sqrt{2T_{\\oplus}m_X} $"
   ]
  },
  {
   "cell_type": "code",
   "execution_count": 101,
   "metadata": {},
   "outputs": [
    {
     "name": "stdout",
     "output_type": "stream",
     "text": [
      "TreeCross: 3.84845100065e-09\n",
      "Sommerfeld: 21.3578949374\n",
      "ThermAvgSommer: 5.44540792332e-05\n",
      "ThermAvgCross: 2.09563855714e-15\n",
      "AnnihilationRate: 1.39079913336e-19\n",
      "Complete\n"
     ]
    }
   ],
   "source": [
    "rhoCross = 13. # g/cm^3\n",
    "Tcross = 5700 # K\n",
    "\n",
    "def treeCrossSectionV(m_X , m_A, alpha_X):\n",
    "    function = np.pi*alpha_X**2 * (1- (m_A/m_X)**2 )**(3/2) / (m_X**2 *(1- 0.5*(m_A/m_X)**2))\n",
    "    return function\n",
    "\n",
    "def sommerfeld(v, m_X, m_A, alpha_X):\n",
    "    a = v/(2*alpha_X)\n",
    "    c = 6*alpha_X*m_X/(np.pi**2*m_A)\n",
    "\n",
    "    function = np.pi/a * np.sinh(2*np.pi*a*c) / \\\n",
    "        (np.cosh(2*np.pi*a*c) - np.cos(2*np.pi*np.sqrt(c-(a*c)**2) ) ) \n",
    "    return function\n",
    "    \n",
    "def thermAvgSommerfeld(m_X, m_A, alpha_X):\n",
    "    v0 = np.sqrt(2*Tcross/m_X)\n",
    "    \n",
    "    def integrand(v):\n",
    "        function = np.exp(-0.5*(v/v0)**2) * sommerfeld(v, m_X, m_A, alpha_X)\n",
    "        return function\n",
    "    \n",
    "    lowV = 0\n",
    "    highV = V_gal/c\n",
    "    \n",
    "    integralNoConstants = integrate.quad(integrand,lowV,highV)\n",
    "    \n",
    "    fullIntegral = integralNoConstants * 1/(2*np.pi*v0**2)**(1.5)\n",
    "    return fullIntegral[0]\n",
    "               \n",
    "def thermAvgCrossSectionV(m_X, m_A, alpha_X):\n",
    "    function = treeCrossSectionV(m_X , m_A, alpha_X) * thermAvgSommerfeld(m_X , m_A, alpha_X)\n",
    "    return function\n",
    "\n",
    "\n",
    "def CAnn(m_X, m_A, alpha, alpha_X):\n",
    "    function = treeCrossSectionV(m_X, m_A, alpha_X) * (G*m_X*rhoCross/(3*Tcross) )**(3./2)\n",
    "#     function = thermAvgCrossSectionV(m_X, m_A, alpha_X) * (G*m_X*rhoCross/(3*Tcross) )**(3./2)\n",
    "    return function\n",
    "\n",
    "\n",
    "print 'TreeCross:', treeCrossSectionV(1000,1,0.035)\n",
    "print 'Sommerfeld:', sommerfeld(0.0000002,1000,1,0.0035)\n",
    "print 'ThermAvgSommer:', thermAvgSommerfeld(1000,1,0.0035)    \n",
    "print 'ThermAvgCross:', thermAvgCrossSectionV(1000,1,0.0035)    \n",
    "print 'AnnihilationRate:', CAnn(100., 1, 1./137, 0.035)\n",
    "\n",
    "print 'Complete'"
   ]
  },
  {
   "cell_type": "markdown",
   "metadata": {},
   "source": [
    "## Attempt at Fig. 2\n",
    "\n",
    "This uses Plotly because matplotlib is being annoying"
   ]
  },
  {
   "cell_type": "code",
   "execution_count": 124,
   "metadata": {},
   "outputs": [
    {
     "name": "stdout",
     "output_type": "stream",
     "text": [
      "[]\n",
      "Complete\n"
     ]
    }
   ],
   "source": [
    "mARange = np.linspace(0.01,10,10)\n",
    "epsilonRange = np.linspace(10**-10, 10**-5,10)\n",
    "\n",
    "CCapDictionary = {\n",
    "    '0': [],\n",
    "    '1': [],\n",
    "    '2': [],\n",
    "    '3': [],\n",
    "    '4': []\n",
    "#     '5': [],\n",
    "#     '6': [],\n",
    "#     '7': [],\n",
    "#     '8': [],\n",
    "#     '9': []\n",
    "}\n",
    "\n",
    "CAnnDictionary = {\n",
    "    '0': [],\n",
    "    '1': [],\n",
    "    '2': [],\n",
    "    '3': [],\n",
    "    '4': []\n",
    "#     '5': [],\n",
    "#     '6': [],\n",
    "#     '7': [],\n",
    "#     '8': [],\n",
    "#     '9': []\n",
    "}\n",
    "# testVector = []\n",
    "\n",
    "# for key in CCapDictionary:\n",
    "# # This loop structure loops over mA for each Epsilon.\n",
    "# # Epsilon is the 'column' and mA is the 'row' \n",
    "#     for epsilonTemp in epsilonRange:\n",
    "#         for mATemp in mARange:\n",
    "#             string = \"%e,%e\" % (epsilonTemp,mATemp)\n",
    "#             CCapDictionary[key].append(string)\n",
    "#             CCapDictionary[key].append(CCap(1000.,mATemp,epsilonTemp,1./137,0.035))\n",
    "    \n",
    "\n",
    "# epsilon loop\n",
    "# create main vector (which changes)\n",
    "# ma loop\n",
    "# append values to that vector\n",
    "\n",
    "\n",
    "    \n",
    "    \n",
    "# tauArray = []\n",
    "# for epsilonTemp in epsilonRange:\n",
    "#     #create new Tau array\n",
    "#     exec('tau%i = []' % tauCounter)\n",
    "#     for mATemp in mARange:\n",
    "#         #append values to Tau array\n",
    "# #         Capture = CCap(100., mATemp, epsilonTemp, 1./137, 0.035)\n",
    "# #         Annihilation = CAnn(100. mATemp, 1./137, 0.035)\n",
    "# #         tauValue = 1./np.sqrt(Capture*Annihilation)\n",
    "#         tau.append(tauCounter))\n",
    "#         tauCounter += 1\n",
    "    \n",
    "    \n",
    "    \n",
    "    \n",
    "##########################################    \n",
    "# THIS IS THE STUFF TO RUN\n",
    "##########################################\n",
    "# for mATemp in mARange:  \n",
    "#     CCapDictionary['0'].append(CCap(100.,mATemp,1.0e-10,1./137,0.035))\n",
    "#     CCapDictionary['1'].append(CCap(100.,mATemp,2.500075e-06,1./137,0.035))\n",
    "#     CCapDictionary['2'].append(CCap(100.,mATemp,5.000050e-06,1./137,0.035))\n",
    "#     CCapDictionary['3'].append(CCap(100.,mATemp,7.500025e-06,1./137,0.035))\n",
    "#     CCapDictionary['4'].append(CCap(100.,mATemp,1.000000e-05,1./137,0.035))\n",
    "\n",
    "#     CAnnDictionary['0'].append(CAnn(100.,mATemp,1./137,0.035))\n",
    "#     CAnnDictionary['1'].append(CAnn(100.,mATemp,1./137,0.035))\n",
    "#     CAnnDictionary['2'].append(CAnn(100.,mATemp,1./137,0.035))\n",
    "#     CAnnDictionary['3'].append(CAnn(100.,mATemp,1./137,0.035))\n",
    "#     CAnnDictionary['4'].append(CAnn(100.,mATemp,1./137,0.035))\n",
    "\n",
    "\n",
    "\n",
    "print 'Complete'"
   ]
  },
  {
   "cell_type": "markdown",
   "metadata": {},
   "source": [
    "### Initialize and Populate the TauDicionary\n",
    "\n",
    "TO DO:\n",
    "- Write the loop index and tau value to an external file **during** the loop process\n",
    "- Read in the loop value I left off at previously and continue the loop "
   ]
  },
  {
   "cell_type": "code",
   "execution_count": null,
   "metadata": {
    "collapsed": true
   },
   "outputs": [],
   "source": [
    "# Opens [Index,Tau] in append+read mode. Places cursor at the end of the file\n",
    "rawData = open('[Index,Tau].csv', 'a+') "
   ]
  },
  {
   "cell_type": "code",
   "execution_count": 135,
   "metadata": {},
   "outputs": [
    {
     "name": "stdout",
     "output_type": "stream",
     "text": [
      "{1: [0.01, 1.1200000000000001, 2.23, 3.3399999999999999, 4.4500000000000002, 5.5600000000000005, 6.6699999999999999, 7.7800000000000002, 8.8900000000000006, 10.0], 2: [0.01, 1.1200000000000001, 2.23, 3.3399999999999999, 4.4500000000000002, 5.5600000000000005, 6.6699999999999999, 7.7800000000000002, 8.8900000000000006, 10.0], 3: [0.01, 1.1200000000000001, 2.23, 3.3399999999999999, 4.4500000000000002, 5.5600000000000005, 6.6699999999999999, 7.7800000000000002, 8.8900000000000006, 10.0], 4: [0.01, 1.1200000000000001, 2.23, 3.3399999999999999, 4.4500000000000002, 5.5600000000000005, 6.6699999999999999, 7.7800000000000002, 8.8900000000000006, 10.0], 5: [0.01, 1.1200000000000001, 2.23, 3.3399999999999999, 4.4500000000000002, 5.5600000000000005, 6.6699999999999999, 7.7800000000000002, 8.8900000000000006, 10.0], 6: [0.01, 1.1200000000000001, 2.23, 3.3399999999999999, 4.4500000000000002, 5.5600000000000005, 6.6699999999999999, 7.7800000000000002, 8.8900000000000006, 10.0], 7: [0.01, 1.1200000000000001, 2.23, 3.3399999999999999, 4.4500000000000002, 5.5600000000000005, 6.6699999999999999, 7.7800000000000002, 8.8900000000000006, 10.0], 8: [0.01, 1.1200000000000001, 2.23, 3.3399999999999999, 4.4500000000000002, 5.5600000000000005, 6.6699999999999999, 7.7800000000000002, 8.8900000000000006, 10.0], 9: [0.01, 1.1200000000000001, 2.23, 3.3399999999999999, 4.4500000000000002, 5.5600000000000005, 6.6699999999999999, 7.7800000000000002, 8.8900000000000006, 10.0], 10: [0.01, 1.1200000000000001, 2.23, 3.3399999999999999, 4.4500000000000002, 5.5600000000000005, 6.6699999999999999, 7.7800000000000002, 8.8900000000000006, 10.0]}\n"
     ]
    }
   ],
   "source": [
    "\n",
    "epsilonCounter = 1\n",
    "TauDictionary = {}\n",
    "for epsilonTemp in epsilonRange:\n",
    "    TauDictionary.setdefault(epsilonCounter,[])\n",
    "    epsilonCounter += 1\n",
    "    for mATemp in mARange:\n",
    "#         Capture = CCap(100.,mATemp,epsilonTemp,1./137,0.035)\n",
    "#         Annihilation = CAnn(100.,mATemp,1./137,0.035)\n",
    "#         tauValue = 1./np.sqrt(Capture*Annihilation)\n",
    "        tauValue = mATemp\n",
    "        TauDictionary[epsilonCounter-1].append(tauValue)\n",
    "    \n",
    "        \n",
    "print TauDictionary"
   ]
  },
  {
   "cell_type": "markdown",
   "metadata": {},
   "source": [
    "### Write to External Files"
   ]
  },
  {
   "cell_type": "code",
   "execution_count": 86,
   "metadata": {},
   "outputs": [
    {
     "name": "stdout",
     "output_type": "stream",
     "text": [
      "Complete\n"
     ]
    }
   ],
   "source": [
    "with open('[CCap2].csv', 'wb') as csvfile:\n",
    "    writer = csv.writer(csvfile, delimiter = ',')\n",
    "    for key in CCapDictionary:\n",
    "        writer.writerow(CCapDictionary[key])\n",
    "            \n",
    "with open('[CAnn2].csv', 'wb') as csvfile:\n",
    "    writer = csv.writer(csvfile, delimiter = ',')\n",
    "    for key in CAnnDictionary:\n",
    "        writer.writerow(CAnnDictionary[key])\n",
    "            \n",
    "print 'Complete'"
   ]
  },
  {
   "cell_type": "markdown",
   "metadata": {},
   "source": [
    "#### Initialize the Tau Dictionary"
   ]
  },
  {
   "cell_type": "code",
   "execution_count": 98,
   "metadata": {},
   "outputs": [
    {
     "name": "stdout",
     "output_type": "stream",
     "text": [
      "Complete\n"
     ]
    }
   ],
   "source": [
    "TauDictionary = {\n",
    "    '0': [],\n",
    "    '1': [],\n",
    "    '2': [],\n",
    "    '3': [],\n",
    "    '4': [],\n",
    "}\n",
    "\n",
    "def tauCalculation(CCap,Cann):\n",
    "    return 1/(np.sqrt(CCap*Cann))\n",
    "\n",
    "print 'Complete'"
   ]
  },
  {
   "cell_type": "code",
   "execution_count": null,
   "metadata": {
    "collapsed": true
   },
   "outputs": [],
   "source": [
    "#### Populate the Tau Dictionary"
   ]
  },
  {
   "cell_type": "code",
   "execution_count": null,
   "metadata": {
    "collapsed": true
   },
   "outputs": [],
   "source": [
    "for key in CCapDictionary:\n",
    "    for index in range(0,len(CCapDictionary[key])):\n",
    "        CCap = CCapDictionary[key][index]\n",
    "        CAnn = CAnnDictionary[key][index]\n",
    "        value = tauCalculation(CCap,CAnn)\n",
    "        TauDictionary[key].append(value)\n",
    "        \n",
    "print 'Complete'"
   ]
  },
  {
   "cell_type": "markdown",
   "metadata": {},
   "source": [
    "### Plot "
   ]
  },
  {
   "cell_type": "code",
   "execution_count": 100,
   "metadata": {},
   "outputs": [
    {
     "data": {
      "text/html": [
       "<iframe id=\"igraph\" scrolling=\"no\" style=\"border:none;\" seamless=\"seamless\" src=\"https://plot.ly/~agree019/12.embed\" height=\"525px\" width=\"100%\"></iframe>"
      ],
      "text/plain": [
       "<plotly.tools.PlotlyDisplay object>"
      ]
     },
     "execution_count": 100,
     "metadata": {},
     "output_type": "execute_result"
    }
   ],
   "source": [
    "contourData = Data([\n",
    "    Contour(\n",
    "        z=[\n",
    "        TauDictionary['0'],\n",
    "        TauDictionary['1'],\n",
    "        TauDictionary['2'],\n",
    "        TauDictionary['3'],\n",
    "        TauDictionary['4'],\n",
    "        ]\n",
    "    )\n",
    "])\n",
    "\n",
    "py.iplot(contourData)"
   ]
  },
  {
   "cell_type": "code",
   "execution_count": null,
   "metadata": {
    "collapsed": true
   },
   "outputs": [],
   "source": []
  },
  {
   "cell_type": "code",
   "execution_count": null,
   "metadata": {
    "collapsed": true
   },
   "outputs": [],
   "source": []
  },
  {
   "cell_type": "code",
   "execution_count": null,
   "metadata": {
    "collapsed": true
   },
   "outputs": [],
   "source": []
  },
  {
   "cell_type": "markdown",
   "metadata": {
    "collapsed": true
   },
   "source": [
    "------------"
   ]
  },
  {
   "cell_type": "markdown",
   "metadata": {},
   "source": [
    "## Python Function Summary: (TO DO)\n",
    "This is a list of all the functions, input parameters, and return values in this notebook."
   ]
  },
  {
   "cell_type": "markdown",
   "metadata": {},
   "source": [
    "**accumulate(index)**: accululates the summand (see function definition) from 'index' to the final index of the radiusList\n",
    "\n",
    "**numDensityList(element)[index]**: returns the number density of 'element' at 'index'\n",
    "\n",
    "**formFactor2(E, element)**: returns the form factor squared of 'element' with recoil energy 'E'\n",
    "\n",
    "**eqn09Guts(E, m_A, element)**: returns $\\frac{m_N}{2m_N E_R + m_A\\prime ^2} \\text{formFactor2}$ for 'element' and recoil energy 'E'\n",
    "\n",
    "**DMVelDistNormalization(u)**: returns the reciprocal of the normalization $N_0$\n",
    "\n",
    "**DmVelDist(u, N_0 = N_01)**: returns the fraction of DM partiles with incident velocity 'u' in the Galactic Frame \n",
    "\n",
    "**ModDMVelDist(u)**: returns the fraction of DM particles with incident velocity 'u' in the Earth Frame\n",
    "\n",
    "**eMin(u, m_X)**: returns $ E_{Min} = \\frac{1}{2} m_X u^2 $\n",
    "\n",
    "**emax(u, rIndex, m_X, element)**: returns $E_{Max} = 2 m_N m_X^2 \\frac{(u^2 + v_{\\oplus}^2)}{(m_N + m_X)^2}$\n",
    "\n",
    "**IntDuDEr(rIndex, m_X, m_A, element)**: returns $ \\int_{0}^{uInt} \\, \\int_{eMin}^{eMax} \\, \\text{u(eqn09Guts)(DMVelDist)} \\, dE_R \\, du $\n",
    "\n",
    "**SumOverR(m_X, m_A, element)**: returns $\\Sigma_i \\, n_N(r) \\, r^2 \\, \\text{IntDuDEr} \\, \\Delta r $\n",
    "\n",
    "**totalCap(m_X, m_A, epsilon, alpha, alpha_X, element)**: returns the total capture rate of 'element' $\\left[(4\\pi)(4\\pi)(8\\pi \\epsilon^2 \\alpha_X \\alpha Z_N^2)\\right] \\, n_X \\, \\text{SumOverR} $\n",
    "\n"
   ]
  },
  {
   "cell_type": "markdown",
   "metadata": {},
   "source": [
    "-----------"
   ]
  },
  {
   "cell_type": "markdown",
   "metadata": {
    "collapsed": true
   },
   "source": [
    "# Appendix"
   ]
  },
  {
   "cell_type": "markdown",
   "metadata": {
    "collapsed": true
   },
   "source": [
    "## A: Python Integration Analysis for the capture integrand\n",
    "If we try to calculate the capture integral directly in natural units, integrating $u$ from $0$ to $v_{gal}/c$ and $E_R$ from $E_{min}$ to $E_{max}$, we find that the integral returns zero. The differential cross section $\\frac{d \\sigma_N}{dE_R}$ (eqn09) never vanishes unless one of the model parameters is zero, the incident DM velocity $f(u)$ is never zero for the integraion region over $u$, so the only time the integrand vanishes is at $u=0$, the lower limit of integration. Clearly, there is something more subtle that we need to explore.\n",
    "\n",
    "To simplify the problem, we choose $m_X = 1$ GeV, and calculate values of Silicon (Si28). We completely remove the integrand and begin by plotting the integration bounds $E_{min}$ and $E_{max}$ in red and blue respectively. The valid region of integration from the heaviside function in eqn (1) is thus above the red curve and below the blue curve."
   ]
  },
  {
   "cell_type": "code",
   "execution_count": null,
   "metadata": {
    "collapsed": true
   },
   "outputs": [],
   "source": [
    "vMax = escVel2List[0]\n",
    "mn2 = amu2Gev(atomicNumbers['Si28'])\n",
    "array1 = []\n",
    "array2 = []\n",
    "array3 = []\n",
    "array4 = []\n",
    "pltrange0 = np.linspace(0,(V_gal/c),100)\n",
    "pltrange1 = np.linspace(0,0.00005,100)\n",
    "\n",
    "# populate array1 and array2\n",
    "for i in pltrange0:\n",
    "    emin = (1*i**2)/2\n",
    "    emax = 2*mn2*1**2*(i**2+vMax)/(mn2+1)**2\n",
    "    eLim = 2*mn2*1**2*(1+vMax)/(mn2+1)**2\n",
    "    \n",
    "    array1.append(emin)\n",
    "    array2.append(emax)\n",
    "    \n",
    "# populate array3 and array4\n",
    "for i in pltrange1:\n",
    "    emin = (1*i**2)/2\n",
    "    emax = 2*mn2*1**2*(i**2+vMax)/(mn2+1)**2\n",
    "    eLim = 2*mn2*1**2*(1+vMax)/(mn2+1)**2\n",
    "    \n",
    "    array3.append(emin)\n",
    "    array4.append(emax)\n",
    "    \n",
    "print 'complete'"
   ]
  },
  {
   "cell_type": "code",
   "execution_count": null,
   "metadata": {
    "collapsed": true
   },
   "outputs": [],
   "source": [
    "# Plot 1\n",
    "plt.figure(1)\n",
    "plt.plot(pltrange0,array1,'red')\n",
    "plt.plot(pltrange0,array2,'blue')\n",
    "plt.xlabel('Naturalized Velocity: u')\n",
    "plt.ylabel('E_R (GeV)')\n",
    "plt.title('Plot over the entire integration limits')\n",
    "plt.text(0.00025,1.45e-6,'Red: Emin')\n",
    "plt.text(0.00025,1.25e-6,'Blue: Emax')\n",
    "plt.grid()\n",
    "\n",
    "# Plot too\n",
    "plt.figure(2)\n",
    "plt.plot(pltrange1,array3,'red')\n",
    "plt.plot(pltrange1,array4,'blue')\n",
    "plt.xlabel('Naturalized Velocity: u')\n",
    "plt.ylabel('E_R (GeV)')\n",
    "plt.title('Zoom into the origin')\n",
    "plt.axis([0,0.000025,0,2.5e-10])\n",
    "plt.text(1.5e-5,0.75e-10,'Red: Emin')\n",
    "plt.text(1.5e-5,0.5e-10,'Blue: Emax')\n",
    "plt.grid()\n",
    "print 'Complete'"
   ]
  },
  {
   "cell_type": "markdown",
   "metadata": {
    "collapsed": true
   },
   "source": [
    "Recalling that the valid region of integration is *above* the red curve and *below* the blue curve, it doesn't appear that there is **any** nonzero region. Therefor, there must be some region very close to the origin where these two functions yield a nonzero integrand. We investigate further by zooming into the origin, as shown in figure (2)."
   ]
  },
  {
   "cell_type": "markdown",
   "metadata": {
    "collapsed": true
   },
   "source": [
    "We can see that only for $u$ between $0$ and $\\approx 0.00002$ is the $E_{max}$ actually above $E_{min}$, which means that in the integration limits as stated above, the integrand vanishes for nearly the entire region due to the Heaviside function. To make matters worse, the Python intetegrator  never chooses $u$ values between $0$ and $\\approx 0.00002$, giving the illusion that the integral is zero even though it isn't.\n",
    "\n",
    "The solution is:\n",
    "    - Solve for the intersection point of Emin and Emax, name it \"uInt\"\n",
    "    - Integrate u from 0 to uInt\n",
    "    - Integrate E_R from eMin(u) to eMax(u)\n",
    "\n",
    "The values of $E_{min}$ and $E_{max}$ both depend on $u$, so the natural solution is for each $u$ value, \"zoom in\" to the region where the integrand is nonvanishing and calculate the integral in that region. This is acomplished by calculating the $u$ value at the intersection point $E_{min} = E_{max}$. Substituting $ w^2 = u^2 + v_{\\oplus}^2$ gives:\n",
    "\n",
    "$$ \\frac{1}{2}m_X u^2 = \\frac{2\\mu_N^2}{m_N}(u^2 + v_{\\oplus}^2) $$\n",
    "\n",
    "solving for the intersection point $u_{int}$ yields:\n",
    "\n",
    "$$ u_{int}^2 = \\frac{2\\mu_N^2}{m_N} \\frac{1}{ \\left( \\frac{1}{2m_X} - \\frac{2\\mu_N^2}{m_N} \\right)  } v_{\\oplus}^2 $$\n",
    "\n",
    "In the function definition, I have made the substitutions:\n",
    "$$ A = \\frac{1}{2}m_X \\qquad \\text{and} \\qquad B = 2 \\frac{\\mu_N^2}{m_N}$$\n",
    "\n",
    "yielding: \n",
    "$$ \\text{uInt} = \\sqrt{ \\frac{B}{A-B}}\\,v_{\\oplus} $$\n",
    "The actual coded function is:\n",
    "\n",
    "$$ IntDuDEr = \\int_{0}^{uInt} du \\, u f(u) \\int_{E_{min}}^{E_{Max}} dE_R \\, \\frac{d \\sigma_N}{dE_R}  $$\n",
    "\n",
    "\n",
    "where $\\Theta(\\Delta E)$ is accounted for in the limits of the $u$ integration.\n",
    "\n",
    "One could obtain more accuracy by using the modified velocity distrubution given by:\n",
    "\n",
    "$$ f_{\\oplus}(u) = \\frac{1}{4} \\int\\int_{-1}^{1} dcos\\theta \\space dcos\\phi \\space\n",
    "   f \\left[ \\left( u^2 (V_{\\odot} + V_{\\oplus}cos\\phi)^2 + 2u(V_{\\odot} + V_{\\oplus} cos\\phi) cos\\theta \\right) ^{1/2} \\right] $$\n",
    "   \n",
    "which is coded into the Python function: ModDMVelDist"
   ]
  },
  {
   "cell_type": "markdown",
   "metadata": {
    "collapsed": true
   },
   "source": [
    "-----------"
   ]
  }
 ],
 "metadata": {
  "anaconda-cloud": {},
  "kernelspec": {
   "display_name": "Python 3",
   "language": "python",
   "name": "python3"
  },
  "language_info": {
   "codemirror_mode": {
    "name": "ipython",
    "version": 3
   },
   "file_extension": ".py",
   "mimetype": "text/x-python",
   "name": "python",
   "nbconvert_exporter": "python",
   "pygments_lexer": "ipython3",
   "version": "3.6.0"
  },
  "latex_envs": {
   "LaTeX_envs_menu_present": true,
   "autocomplete": true,
   "bibliofile": "biblio.bib",
   "cite_by": "apalike",
   "current_citInitial": 1,
   "eqLabelWithNumbers": true,
   "eqNumInitial": 1,
   "hotkeys": {
    "equation": "Ctrl-E",
    "itemize": "Ctrl-I"
   },
   "labels_anchors": false,
   "latex_user_defs": false,
   "report_style_numbering": false,
   "user_envs_cfg": false
  }
 },
 "nbformat": 4,
 "nbformat_minor": 1
}
