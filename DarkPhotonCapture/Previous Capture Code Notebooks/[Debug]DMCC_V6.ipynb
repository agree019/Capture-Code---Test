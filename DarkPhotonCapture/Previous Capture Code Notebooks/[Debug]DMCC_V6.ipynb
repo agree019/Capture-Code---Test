{
 "cells": [
  {
   "cell_type": "markdown",
   "metadata": {},
   "source": [
    "# Capture Code Debug Notebook\n",
    "\n",
    "This notebook serves as a debug workspace so I can keep the other notebooks clean.\n",
    "All function definitions and capture code preamble is loaded into this workbook to replicate a test space."
   ]
  },
  {
   "cell_type": "markdown",
   "metadata": {},
   "source": [
    "## Initialize the Notebook"
   ]
  },
  {
   "cell_type": "code",
   "execution_count": 1,
   "metadata": {},
   "outputs": [
    {
     "name": "stdout",
     "output_type": "stream",
     "text": [
      "Complete\n"
     ]
    }
   ],
   "source": [
    "import numpy as np\n",
    "import scipy as sp\n",
    "import pandas as pd\n",
    "from scipy import interpolate\n",
    "import time\n",
    "\n",
    "\n",
    "import scipy.integrate as integrate\n",
    "import matplotlib.pyplot as plt\n",
    "%matplotlib inline\n",
    "\n",
    "print ('Complete')"
   ]
  },
  {
   "cell_type": "markdown",
   "metadata": {},
   "source": [
    "## Importing Earth Density Data (PREM500)\n",
    "The raw data from PREM500 has been converted into MKS units, however, the table where that data came from [51] gives the radius in $km$ and density in $kg/cm^3$"
   ]
  },
  {
   "cell_type": "code",
   "execution_count": 2,
   "metadata": {},
   "outputs": [
    {
     "name": "stdout",
     "output_type": "stream",
     "text": [
      "Complete\n"
     ]
    }
   ],
   "source": [
    "# Radius is column 1, Density is column 2\n",
    "# Radius in meters: verified by REF [51] Table 1 pg. 312\n",
    "# Density in Kg/m^3, verified by REF [51] Table 1 pg. 312\n",
    "\n",
    "# This section grabs the data and converts it to MKS units\n",
    "data = pd.read_csv('PREM500.csv', sep = ',')\n",
    "radiusTemp1 = data[[0]]  # Radius in Meters\n",
    "densityTemp1 = data[[1]] # Density in kg/m^3\n",
    "\n",
    "\n",
    "# The interpolation function doesn't like these objects, so they need to be massaged into 1-D numpy arrays\n",
    "radiusListBadUnits = np.asarray(radiusTemp1).squeeze()\n",
    "densityListBadUnits = np.asarray(densityTemp1).squeeze()\n",
    "\n",
    "print ('Complete')"
   ]
  },
  {
   "cell_type": "markdown",
   "metadata": {},
   "source": [
    "### A Note on Units:\n",
    "The variable radiusListBadUnits has units of Meters\n",
    "\n",
    "The variable densityListBadUnits has units of kg/m^3\n",
    "\n",
    "The following cell converts the length of both to cm."
   ]
  },
  {
   "cell_type": "code",
   "execution_count": 3,
   "metadata": {},
   "outputs": [
    {
     "name": "stdout",
     "output_type": "stream",
     "text": [
      "Complete\n"
     ]
    }
   ],
   "source": [
    "radiusList = radiusListBadUnits * 100 # cm\n",
    "densityList = densityListBadUnits * (100)**-3 * 1000 # g/cm^3\n",
    "\n",
    "print ('Complete')"
   ]
  },
  {
   "cell_type": "markdown",
   "metadata": {},
   "source": [
    "### Shell Thickness Check"
   ]
  },
  {
   "cell_type": "code",
   "execution_count": 4,
   "metadata": {},
   "outputs": [
    {
     "data": {
      "image/png": "[encoded data removed]",
      "text/plain": [
       "<matplotlib.figure.Figure at 0x26292e39ac8>"
      ]
     },
     "metadata": {},
     "output_type": "display_data"
    },
    {
     "name": "stdout",
     "output_type": "stream",
     "text": [
      "Complete\n"
     ]
    }
   ],
   "source": [
    "radius2 = radiusList[0:len(radiusList)-1]\n",
    "s = [0]\n",
    "for i in radius2:\n",
    "    s.append(i)\n",
    "\n",
    "deltaRList = radiusList[0:len(radiusList)] - s[0:len(s)]\n",
    "\n",
    "xRange = range(0,len(radiusList))\n",
    "\n",
    "plt.plot(xRange,deltaRList,'.')\n",
    "plt.title('Shell Thickness vs Radius Index')\n",
    "plt.xlabel('Radius Index')\n",
    "plt.ylabel('Shell Thickness (cm)')\n",
    "plt.axis([0,491,1.275e6,1.289e6])\n",
    "plt.show()\n",
    "\n",
    "print ('Complete')"
   ]
  },
  {
   "cell_type": "markdown",
   "metadata": {},
   "source": [
    "### Shell Density Check"
   ]
  },
  {
   "cell_type": "code",
   "execution_count": 5,
   "metadata": {},
   "outputs": [
    {
     "data": {
      "image/png": "[encoded data removed]",
      "text/plain": [
       "<matplotlib.figure.Figure at 0x26293237860>"
      ]
     },
     "metadata": {},
     "output_type": "display_data"
    },
    {
     "name": "stdout",
     "output_type": "stream",
     "text": [
      "Complete\n"
     ]
    }
   ],
   "source": [
    "plt.plot(xRange,densityListBadUnits,'.')\n",
    "plt.xlabel('Radius Index')\n",
    "plt.ylabel('Density (kg/m^3)')\n",
    "plt.title('Density vs Radius Index')\n",
    "plt.show()\n",
    "print ('Complete')"
   ]
  },
  {
   "cell_type": "markdown",
   "metadata": {},
   "source": [
    "### Enclosed Mass Check"
   ]
  },
  {
   "cell_type": "code",
   "execution_count": 6,
   "metadata": {
    "scrolled": false
   },
   "outputs": [
    {
     "name": "stdout",
     "output_type": "stream",
     "text": [
      "Enclosed mass = 5.990577490724785e+27 g\n",
      "Complete\n"
     ]
    }
   ],
   "source": [
    "mass = 0.\n",
    "for i in xRange:\n",
    "    mass = mass + 4. * np.pi * radiusList[i]**2 * densityList[i] * deltaRList[i]\n",
    "print ('Enclosed mass = {0} g'.format(mass))\n",
    "print ('Complete')"
   ]
  },
  {
   "cell_type": "markdown",
   "metadata": {},
   "source": [
    "### Shell Mass\n",
    "Given a radius *index*, shellMass returns the mass of the shell at that radius index"
   ]
  },
  {
   "cell_type": "code",
   "execution_count": 7,
   "metadata": {
    "scrolled": true
   },
   "outputs": [
    {
     "data": {
      "image/png": "[encoded data removed]",
      "text/plain": [
       "<matplotlib.figure.Figure at 0x26292e67828>"
      ]
     },
     "metadata": {},
     "output_type": "display_data"
    },
    {
     "name": "stdout",
     "output_type": "stream",
     "text": [
      "Complete\n"
     ]
    }
   ],
   "source": [
    "shellMassList = []\n",
    "\n",
    "for i in xRange:\n",
    "    shellMassList.append(4 * np.pi * radiusList[i]**2 * densityList[i] * deltaRList[i])\n",
    "\n",
    "plt.plot(xRange,shellMassList,'.')\n",
    "plt.title('Shell Mass vs. Radius Index')\n",
    "plt.xlabel('Radius Index')\n",
    "plt.ylabel('Enclosed Mass (g)')\n",
    "\n",
    "plt.show()\n",
    "\n",
    "# print shellMassList[0:4]\n",
    "print ('Complete')"
   ]
  },
  {
   "cell_type": "markdown",
   "metadata": {},
   "source": [
    "### Enclosed Mass at Each Radius\n",
    "\n",
    "Give enclosedMass the *index* of the radius, and it returns the mass enclosed up to that radius.\n",
    "\n",
    "This is a list, not an interpolated function, so it only works for valid radii."
   ]
  },
  {
   "cell_type": "code",
   "execution_count": 8,
   "metadata": {
    "scrolled": false
   },
   "outputs": [
    {
     "data": {
      "image/png": "[encoded data removed]",
      "text/plain": [
       "<matplotlib.figure.Figure at 0x2629339c630>"
      ]
     },
     "metadata": {},
     "output_type": "display_data"
    },
    {
     "name": "stdout",
     "output_type": "stream",
     "text": [
      "Complete\n"
     ]
    }
   ],
   "source": [
    "# This is with a radius list and a shellMass list\n",
    "enclosedMassList = []\n",
    "tempSum = 0\n",
    "for i in shellMassList:\n",
    "    tempSum = tempSum + i\n",
    "    enclosedMassList.append(tempSum)\n",
    "    \n",
    "plt.plot(xRange,enclosedMassList,'.')\n",
    "plt.title('Enclosed Mass vs Radius Index')\n",
    "plt.xlabel('Radius Index')\n",
    "plt.ylabel('Enclosed Mass (g)')\n",
    "# plt.axis([0,550,0,6.5e24])\n",
    "plt.show()\n",
    "\n",
    "# print enclosedMassList[0:4]\n",
    "\n",
    "print ('Complete')"
   ]
  },
  {
   "cell_type": "markdown",
   "metadata": {},
   "source": [
    "## Conversions and Atomic Definitions\n",
    "\n",
    "In the following cell, we initialize usefull unit conversions and dictionaries storing various atomic information."
   ]
  },
  {
   "cell_type": "code",
   "execution_count": 9,
   "metadata": {},
   "outputs": [
    {
     "name": "stdout",
     "output_type": "stream",
     "text": [
      "Complete\n"
     ]
    }
   ],
   "source": [
    "################################################################################\n",
    "# Conversions\n",
    "################################################################################\n",
    "\n",
    "def Gev2Tev(par1):\n",
    "    return par1*10**-3\n",
    "\n",
    "def amu2Gev(par1):\n",
    "#     return 0.9314941 * par1 # GeV\n",
    "    return 0.938272 * par1 # Taken directly from Flip notebook\n",
    "\n",
    "def amu2g(par1):\n",
    "    return 1.66053892e-24 * par1 # g\n",
    "\n",
    "def GeV2s(par1):\n",
    "    return 1.52e24 * par1 # s^-1\n",
    "\n",
    "def s2GeV(par1):\n",
    "#     return 1.52*10**24 * par1 # GeV^-1\n",
    "    return (6.58e-25)**-1 * par1 # GeV^-1\n",
    "\n",
    "def GeV2cm(par1):\n",
    "    return 5.06*10**13 * par1 # cm^-1\n",
    "\n",
    "def cm2GeV(par1):\n",
    "#     return 5.06*10**13 * par1 # GeV^-1\n",
    "    return (0.197e-13)**-1 * par1 # GeV^-1\n",
    "\n",
    "def KeltoGeV(par1):\n",
    "    return 8.62*10**-14 * par1 # GeV\n",
    "\n",
    "def yr2s(par1):\n",
    "    return (3.16888*10**-8)**-1 * par1 # s\n",
    "\n",
    "def ev2Gev(par1):\n",
    "    return par1 * 10**6 # GeV\n",
    "\n",
    "def eV2kg(par1):\n",
    "    return 1.782661845* 10**-36 * par1 # kg\n",
    "\n",
    "def g2Gev(par1):\n",
    "#     return 5.609588845*10**32 * par1 #GeV\n",
    "    return (1.8e-24)**-1 * par1 #GeV\n",
    "\n",
    "################################################################################\n",
    "# Atomic Dictionary Definitions\n",
    "################################################################################\n",
    "\n",
    "elementList = [\n",
    "    'O16' ,\n",
    "    'Si28',\n",
    "    'Mg24',\n",
    "    'Fe56',\n",
    "    'Ca40',\n",
    "    'P31' ,\n",
    "#     'Na11',\n",
    "    'S32' ,\n",
    "    'Ni58',\n",
    "    'Al27',\n",
    "    'Cr52',\n",
    "]\n",
    "\n",
    "# From http://www.chem.ualberta.ca/~massspec/atomic_mass_abund.pdf\n",
    "isotopicMasses = {\n",
    "    'O16': 15.994915 ,\n",
    "    'Si28': 27.976927,\n",
    "    'Mg24': 23.985042,\n",
    "    'Fe56': 55.934942,\n",
    "    'Ca40': 39.962591,\n",
    "    'P31': 30.973762,\n",
    "#     'Na11',\n",
    "    'S32': 31.972071 ,\n",
    "    'Ni58': 57.935348,\n",
    "    'Al27': 26.981538,\n",
    "    'Cr52': 51.940512,\n",
    "}\n",
    "\n",
    "\n",
    "atomicNumbers = {\n",
    "    'H1': 1.,\n",
    "    'He4': 4.,\n",
    "    'He3': 3.,\n",
    "    'Na11': 23.,\n",
    "    'C12': 12.,\n",
    "    'C13':13.,\n",
    "    'N14':14.,\n",
    "    'N15':15.,\n",
    "    'O16':16.,\n",
    "    'O17':17. ,\n",
    "    'O18':18.,\n",
    "    'Ne20':20.,\n",
    "    'Na23':23.,\n",
    "    'Mg24':24., # 78%\n",
    "    'Al27':27.,\n",
    "    'Si28':28.,\n",
    "    'P31':30.,\n",
    "    'S32':32.,\n",
    "    'Cl35':35., # 75%\n",
    "    'Ar40':40.,\n",
    "    'K39':39.,\n",
    "    'Ca40':40.,\n",
    "    'Sc45':45.,\n",
    "    'Ti48':48., # 74%\n",
    "    'V51':51.,\n",
    "    'Cr52':52., # 83%\n",
    "    'Mn55':55.,\n",
    "    'Fe56':56.,\n",
    "    'Co59':59.,\n",
    "    'Ni58':59., # 58%\n",
    "}\n",
    "\n",
    "nProtons = { # This is Z_N\n",
    "    'H1':1.,\n",
    "    'He3':2.,\n",
    "    'He4':2.,\n",
    "    'He3':2.,\n",
    "    'Na11': 11.,\n",
    "    'C12':6.,\n",
    "    'C13':6.,\n",
    "    'N14':7.,\n",
    "    'N15':7.,\n",
    "    'O16':8.,\n",
    "    'O17':8.,\n",
    "    'O18':8.,\n",
    "    'Ne20':10.,\n",
    "    'Na23':11.,\n",
    "    'Mg24':12., # 78%\n",
    "    'Al27':13.,\n",
    "    'Si28':14.,\n",
    "    'P31':15.,\n",
    "    'S32':16.,\n",
    "    'Cl35':17., # 75%\n",
    "    'Ar40':18.,\n",
    "    'K39':19.,\n",
    "    'Ca40':20.,\n",
    "    'Sc45':21.,\n",
    "    'Ti48':22., # 74%\n",
    "    'V51':23.,\n",
    "    'Cr52':24., # 83%\n",
    "    'Mn55':25.,\n",
    "    'Fe56':26.,\n",
    "    'Co59':27.,\n",
    "    'Ni58':28., # 58%\n",
    "}\n",
    "\n",
    "# Mass Fraction Dictionary\n",
    "coreMassFrac = {\n",
    "    'Na11': 0.0,\n",
    "    'O16' : 0.0,\n",
    "    'Mg24': 0.0,\n",
    "    'Al27': 0.0,\n",
    "    'Si28': 0.06,\n",
    "    'P31' : 0.002,\n",
    "    'S32' : 0.019,\n",
    "    'Ca40': 0.0,\n",
    "    'Cr52': 0.009,\n",
    "    'Fe56': 0.855,\n",
    "    'Ni58': 0.052,\n",
    "}\n",
    "\n",
    "mantleMassFrac = {\n",
    "    'Na11': 0.0027,\n",
    "    'O16' : 0.440,\n",
    "    'Mg24': 0.228,\n",
    "    'Al27': 0.0235,\n",
    "    'Si28': 0.210,\n",
    "    'P31' : 0.00009,\n",
    "    'S32' : 0.00025,\n",
    "    'Ca40': 0.0253,\n",
    "    'Cr52': 0.0026,\n",
    "    'Fe56': 0.0626,\n",
    "    'Ni58': 0.00196,\n",
    "}\n",
    "print ('Complete')"
   ]
  },
  {
   "cell_type": "markdown",
   "metadata": {},
   "source": [
    "## Model Parameters and Constants\n",
    "\n",
    "In this cell, we initialize all model parameters as global variables."
   ]
  },
  {
   "cell_type": "code",
   "execution_count": 11,
   "metadata": {},
   "outputs": [
    {
     "name": "stdout",
     "output_type": "stream",
     "text": [
      "Complete\n"
     ]
    }
   ],
   "source": [
    "################################################################################\n",
    "# Constants\n",
    "################################################################################\n",
    "global c\n",
    "global G\n",
    "global M_E\n",
    "global R_earth\n",
    "global V_dot\n",
    "global V_cross\n",
    "global V_gal\n",
    "global u_0\n",
    "global k\n",
    "global n_X\n",
    "global mf\n",
    "\n",
    "c = 3.0*10**10 # cm/s\n",
    "G = 6.674e-11 * 100**3 *(1000)**-1 # cm^3/g s \n",
    "# M_E = 5.972e27 # g\n",
    "# R_earth = 6.37e6 # m\n",
    "V_dot = 220.0*10**5 # cm/s\n",
    "V_cross = 298.0*10**5 # cm/s\n",
    "V_gal = 550.0*10**5 # cm/s\n",
    "u_0 = 245.0*10**5 # cm/s\n",
    "k = 2.5\n",
    "\n",
    "print ('Complete')"
   ]
  },
  {
   "cell_type": "markdown",
   "metadata": {},
   "source": [
    "## Escape Velocity: $v_{\\oplus}(r)$\n",
    "\n",
    "The escape velocity in natural units is given by:\n",
    "$$ V_{esc}^2 = \\frac{2G}{c^2} \\left[ \\int_{0}^{R_{earth}} \\frac{M_{enc}(s)}{s^2} \\, ds + \\frac{M_{total}}{R_{earth}} \\right] $$\n",
    "\n",
    "However, we are given discretized data, so we convert the integral into a discrete sum over the radius of earth:\n",
    "$$ V_{esc}^2 = \\frac{2G}{c^2} \\left[ \\sum_i \\frac{M_{enc}(s)}{s^2} \\, \\Delta R + \n",
    "\\frac{M_{total}}{R_{earth}} \\right] $$\n",
    "\n",
    "where $M_{enc}(s)$ is the mass enclosed at radius $s$ and $\\Delta R$ is the change in radius going from the previous radius  to the current radius $\\Delta R =$ r[i] - r[i-1].\n",
    "\n",
    "The accumulate function acts just like the \"Accumulate\" in mathematica. It adds up whatever the summand is starting at \"index\" and sums over the length of the radius index.\n",
    "\n",
    "\n",
    "Escape Velocities are stored in the list: escVel2List\n",
    "\n",
    "Note: The value from escVel2List[1] is assigned to the first slot of escVel2List to work around a 'nan' escape velocity at r=0"
   ]
  },
  {
   "cell_type": "code",
   "execution_count": 13,
   "metadata": {},
   "outputs": [
    {
     "data": {
      "image/png": "[encoded data removed]",
      "text/plain": [
       "<matplotlib.figure.Figure at 0x262933a1c50>"
      ]
     },
     "metadata": {},
     "output_type": "display_data"
    },
    {
     "name": "stdout",
     "output_type": "stream",
     "text": [
      "Complete\n"
     ]
    }
   ],
   "source": [
    "def accumulate(index):\n",
    "    factor = 2.*G/c**2\n",
    "    constant = max(enclosedMassList) / max(radiusList)\n",
    "    \n",
    "    tempSum = 0    \n",
    "    for i in range(index,len(radiusList)-1):\n",
    "        summand = enclosedMassList[i] * deltaRList[i] / (radiusList[i])**2\n",
    "        tempSum += summand\n",
    "        \n",
    "    return factor*(tempSum + constant)\n",
    "\n",
    "escVel2List = []\n",
    "for i in xRange:\n",
    "    escVel2List.append(accumulate(i))\n",
    "\n",
    "    \n",
    "    \n",
    "# print (escVel2List[245])\n",
    "    \n",
    "plt.plot(xRange,escVel2List)\n",
    "plt.xlabel('Radius Index')\n",
    "plt.ylabel('Escape Velocity (cm/s)')\n",
    "plt.title('Escape Velocity Squared vs. Radius Index')\n",
    "plt.show()          \n",
    "    \n",
    "# plt.plot(radiusList,escVel2List,'.')\n",
    "# plt.xlabel('Radius (m)')\n",
    "# plt.ylabel('Escape Velocity (m/s)')\n",
    "# plt.title('Escape Velocity vs. Radius')\n",
    "# plt.show()\n",
    "\n",
    "\n",
    "# print escVel2List[0:4]\n",
    "\n",
    "print ('Complete')"
   ]
  },
  {
   "cell_type": "markdown",
   "metadata": {},
   "source": [
    "## Number Densities"
   ]
  },
  {
   "cell_type": "code",
   "execution_count": 14,
   "metadata": {},
   "outputs": [
    {
     "data": {
      "image/png": "[encoded data removed]",
      "text/plain": [
       "<matplotlib.figure.Figure at 0x262934fd358>"
      ]
     },
     "metadata": {},
     "output_type": "display_data"
    },
    {
     "data": {
      "image/png": "[encoded data removed]",
      "text/plain": [
       "<matplotlib.figure.Figure at 0x262934fd278>"
      ]
     },
     "metadata": {},
     "output_type": "display_data"
    },
    {
     "name": "stdout",
     "output_type": "stream",
     "text": [
      "Complete\n"
     ]
    }
   ],
   "source": [
    "range1 = range(0,len(radiusList))\n",
    "mf = 0\n",
    "\n",
    "def numDensityList(element):\n",
    "    numDensityList = []\n",
    "    for i in range1:\n",
    "        if radiusList[i] < 348000000:\n",
    "            mf = coreMassFrac[element]\n",
    "        elif radiusList[i] >= 348000000:\n",
    "            mf = mantleMassFrac[element]\n",
    "        elif radiusList[i] > 348000000:\n",
    "            mf = 0\n",
    "\n",
    "#         n_i = mf *  densityList[i] /(amu2Gev(atomicNumbers[element])) * 6.02e23\n",
    "        n_i = mf *  densityList[i] / (isotopicMasses[element]) * 6.02e23\n",
    "\n",
    "        numDensityList.append(n_i)\n",
    "        \n",
    "    return numDensityList\n",
    "\n",
    "\n",
    "plt.plot(range1, numDensityList('Fe56'),'.')\n",
    "plt.title('Number Density of Cr52')\n",
    "plt.xlabel('Radius Index')\n",
    "plt.ylabel('Number Density (cm^-3)')\n",
    "plt.show()\n",
    "plt.plot(range1, numDensityList('Ca40'),'.')\n",
    "plt.title('Number Density of O16')\n",
    "plt.xlabel('Radius Index')\n",
    "plt.ylabel('Number Density (cm^-3)')\n",
    "plt.show()\n",
    "\n",
    "# print numDensityList('O16')\n",
    "print ('Complete')"
   ]
  },
  {
   "cell_type": "markdown",
   "metadata": {},
   "source": [
    "## List Interpolations\n",
    "\n",
    "At the present moment, I have the following lists:\n",
    "    - radius (radius)\n",
    "    - density (density)\n",
    "    - shell thickness (deltaR)\n",
    "    - shell mass (shellMass)\n",
    "    - enclosed mass (enclosedMass)\n",
    "    - escape velocity squared (escVel)\n",
    "    - number density of a *single* element (numDensityList)\n",
    "\n",
    "I need to interpolate the following lists into functions:\n",
    "    - density\n",
    "    - enclosed mass\n",
    "    - escape velocity squared"
   ]
  },
  {
   "cell_type": "code",
   "execution_count": 15,
   "metadata": {},
   "outputs": [
    {
     "name": "stdout",
     "output_type": "stream",
     "text": [
      "Complete\n"
     ]
    }
   ],
   "source": [
    "# densityInterp = interpolate.interp1d(radiusList,densityList,kind='linear') #kg/cm^3\n",
    "enclosedMassInterp = interpolate.interp1d(radiusList,enclosedMassList,kind='linear') # kg\n",
    "escVel2Interp = interpolate.interp1d(radiusList,escVel2List,kind='linear') # 1/c\n",
    "densityInterp = interpolate.interp1d(radiusList,densityList,kind='linear') # kg/cm^3\n",
    "\n",
    "# densityInterp = interpolate.interp1d(s,densityList,kind='linear') #kg/m^3\n",
    "# enclosedMassInterp = interpolate.interp1d(s,enclosedMassList,kind='linear')\n",
    "# escVel2Interp = interpolate.interp1d(s,escVel2List,kind='linear')\n",
    "\n",
    "print ('Complete')"
   ]
  },
  {
   "cell_type": "markdown",
   "metadata": {},
   "source": [
    "### Escape Velocity Interpolation Check\n",
    "Note: Over the entire interpolation range, the interpolation is good, but depending on where you zoom in on the graph, it will look off."
   ]
  },
  {
   "cell_type": "code",
   "execution_count": 16,
   "metadata": {},
   "outputs": [
    {
     "data": {
      "image/png": "[encoded data removed]",
      "text/plain": [
       "<matplotlib.figure.Figure at 0x262944dc9e8>"
      ]
     },
     "metadata": {},
     "output_type": "display_data"
    },
    {
     "name": "stdout",
     "output_type": "stream",
     "text": [
      "Complete\n"
     ]
    }
   ],
   "source": [
    "alist = range(0,40)\n",
    "tempEsc = []\n",
    "for i in alist:\n",
    "    tempEsc.append(escVel2List[i])\n",
    "    \n",
    "plt.plot(alist,tempEsc,'b.',alist,escVel2Interp(radiusList[alist]),'g-')\n",
    "plt.xlabel('Radius Index')\n",
    "plt.ylabel('Escape Velocity (c^-1)')\n",
    "plt.title('Escape Velocity vs Radius Index')\n",
    "plt.text(2.5,2.490e-9,'List Values: Blue Dots')\n",
    "plt.text(2.5,2.488e-9,'Interpolation: Green Line')\n",
    "plt.show()\n",
    "print ('Complete')"
   ]
  },
  {
   "cell_type": "markdown",
   "metadata": {
    "collapsed": true
   },
   "source": [
    "-----------"
   ]
  },
  {
   "cell_type": "markdown",
   "metadata": {},
   "source": [
    "# Capture Rate\n",
    "\n",
    "Our final goal is to calculate:\n",
    "\n",
    "$$ C_{cap} = \\sum_n C^N_{cap} = \\sum_n n_X \\, c^N_{cap,red} $$\n",
    "\n",
    "where  $C^N_{cap,red}$ is the product of three integrals over the radius of earth $r$, the incident DM velocity $u$, and the DM recoil energy $E_R$. \n",
    "The reduced capture rate $c^N_{cap,red}$ is given by:\n",
    "\n",
    "$$\n",
    "c^N_{cap,red} = \n",
    "\\int_{0}^{R_{\\oplus}}dr \\, 4 \\pi r^2 n_N(r) \n",
    "\\int_{0}^{V_{gal}/c} du \\, 4 \\pi u^2 f(u) \\frac{u^2 + v_{\\oplus}^2(r)}{u}\n",
    "\\int_{E_{min}}^{E_{max}} \\, dE_R \\frac{d\\sigma_N}{dE_R} \\Theta (\\Delta E)\n",
    "$$\n",
    "\n",
    "where finally, $ \\frac{d\\sigma_N}{dE_R} $ is given by:\n",
    "\n",
    "$$ \\frac{d\\sigma_N}{dE_R} \\approx \n",
    "8 \\pi \\epsilon^2 \\, \\alpha_X \\, \\alpha \\, Z_N^2 \\, \\frac{m_N}{(u^2 + v_{\\oplus})^2(2m_NE_R + m_{A}^2)^2} \\left | F_N \\right| ^2$$"
   ]
  },
  {
   "cell_type": "markdown",
   "metadata": {},
   "source": [
    "### Motivation\n",
    "The motivation for the following calculations is to reduce the actual computation as much as possible by multiplying by all constant factors at the end of the calculation.\n",
    "\n",
    "Factors that are pulled out of calculations will be acounted for in a running total for the length of this section under the heading:\n",
    "\n",
    "##### Factors Removed"
   ]
  },
  {
   "cell_type": "markdown",
   "metadata": {},
   "source": [
    "## Helm Form Factor: $|F_N(E_R)|^2$\n",
    "The Helm Form Factor is given by:\n",
    "$$ \\left| F_N(E_R) \\right| ^2 = e^{[-E_R/E_N]} $$ (see eqn (10) of arXiv: 1509.07525v2)\n",
    "\n",
    "where $E_N \\equiv \\frac{0.114 }{ A_{N}^{5/3}} \\space GeV$ is the characteristic energy of a nucleus with atomic number $A_N$\n",
    "\n",
    "This factor accounts for the effective size of a target nucleus in a DM -- nucleus when an incoming DM particle scatters of a nucleus inside the earth."
   ]
  },
  {
   "cell_type": "code",
   "execution_count": 17,
   "metadata": {},
   "outputs": [
    {
     "name": "stdout",
     "output_type": "stream",
     "text": [
      "Complete\n"
     ]
    }
   ],
   "source": [
    "def formFactor2(element, E):\n",
    "#     mn = amu2Gev(atomicNumbers[element])\n",
    "    E_N = 0.114/((atomicNumbers[element])**(5./3))\n",
    "    FN2 = np.exp(-E/E_N)\n",
    "    return FN2\n",
    "\n",
    "print ('Complete')"
   ]
  },
  {
   "cell_type": "markdown",
   "metadata": {},
   "source": [
    "## Cross Section Integrand: $ \\frac{d\\sigma _N}{dE_R} $\n",
    "\n",
    "The following cell modifies the cross section integrand given by:\n",
    "$$ \\text{eqn09Guts}  = \\frac{m_N}{(2m_N E_R + m_{A} ^2)^2} \\left| F_N \\right|^2  $$\n",
    "\n",
    "with dimension : $[\\text{crossSection}] = \\frac{1}{GeV^3}$\n",
    "\n",
    "For future use:\n",
    "$$ \\text{crossSectionApprox} = \\left| F_N \\right|^2 $$\n",
    "\n",
    "##### Factors Removed (crossSection):  $8\\pi \\epsilon^2 \\alpha_X \\alpha Z_N^2$\n",
    "##### Factors Removed (crossSectionApprox): $8\\pi \\alpha_X \\alpha \\frac{\\epsilon^2}{m_A^4} m_N Z_N^2$"
   ]
  },
  {
   "cell_type": "code",
   "execution_count": 86,
   "metadata": {},
   "outputs": [
    {
     "name": "stdout",
     "output_type": "stream",
     "text": [
      "Complete\n"
     ]
    }
   ],
   "source": [
    "def crossSection(element, m_A, E): # returns 1/GeV^3\n",
    "    mn = amu2Gev(atomicNumbers[element])\n",
    "    fN = formFactor2(element,E)\n",
    "    function = (mn * fN ) / ((2*mn*E + m_A**2)**2)\n",
    "    return function\n",
    "\n",
    "def crossSectionApprox(element, E):\n",
    "#     mn = amu2Gev(atomicNumbers[element])\n",
    "#     function = (mn * formFactor2(element,E) ) / (m_A**4)\n",
    "    fN = formFactor2(element,E)\n",
    "    function = fN\n",
    "    return function\n",
    "\n",
    "def crossSectionTest(element, E):\n",
    "    mN = amu2Gev(atomicNumbers[element])\n",
    "    fN = formFactor2(element,E)\n",
    "    function = mN * fN\n",
    "    return function\n",
    "\n",
    "# a1 = crossSection('Ni58', 0.01, 0.0000025)\n",
    "# b1 = crossSectionApprox('Ni58', 0.0000025)\n",
    "# b2 = crossSectionTest('Ni58', 0.0000025)\n",
    "\n",
    "# print ('Actual     : {0}'.format(a1))\n",
    "# print ('Hard Approx: {0}'.format(b1))\n",
    "# print ('Soft Approx: {0}'.format(b2))\n",
    "\n",
    "# print (a1-b2)\n",
    "\n",
    "print ('Complete')"
   ]
  },
  {
   "cell_type": "markdown",
   "metadata": {},
   "source": [
    "## Incident Dark Matter Velocity Distribution (eqn17)\n",
    "In the following cell we calculate the normalization constant $N_0$ for the incident dark matter velocity distribution:\n",
    "\n",
    "\\begin{equation} \\frac{1}{N_0} = \\int_{0}^{V_{gal}/c} f(u) \\ du = \\text{tempA} \\end{equation}\n",
    "where $u$ is a naturalized velocity and $f(u)$ is the incident DM velocity distribution which we take to be Maxwell-Boltzmann in shape:\n",
    "\n",
    "$$ \\text{DMVelDist} = f(u) =  N_0 \\left[ exp \\left ( \n",
    "\\frac{v^2_{gal}-u^2}{ku^2_0}\\right) -1 \\right] ^k\n",
    "\\Theta(v_{gal} - u) $$\n",
    "\n",
    "Typical values for $v_{gal}$ (km/s), $u_0$ (km/s), and $k$ respectively lie between:\n",
    "\n",
    "$$ 220<u_0<270 \\qquad 450<v_{gal}<650 \\qquad 1.5<k<3.5 $$\n",
    "\n",
    "For computations, we take $u_0 = 245\\times 10^6$ cm/s, $v_{gal} = 550\\times10^6$ cm/s and $k = 2.5$\n"
   ]
  },
  {
   "cell_type": "code",
   "execution_count": 87,
   "metadata": {},
   "outputs": [
    {
     "name": "stdout",
     "output_type": "stream",
     "text": [
      "Complete\n"
     ]
    }
   ],
   "source": [
    "# u is now a naturalized velocity\n",
    "def DMVelDistNormalization(u):\n",
    "# The if-else structure accounts for the Heaviside function\n",
    "    if ((V_gal/c) - u < 0):\n",
    "        temp = 0.\n",
    "        \n",
    "    elif ( ((V_gal/c) - (u)) >= 0):\n",
    "        numerator = ((V_gal/c)**2 - (u)**2)\n",
    "        denominator = (k * (u_0/c)**2)\n",
    "        arg = ( numerator / denominator)    \n",
    "        temp = 4*np.pi*(u)**2 * (np.expm1(arg))** k\n",
    "    return temp\n",
    "\n",
    "tempA = integrate.quad(DMVelDistNormalization, 0, V_gal/c)[0]\n",
    "N_0 = 1./tempA\n",
    "# print (DMVelDistNormalization(0))\n",
    "\n",
    "def DMVelDist(u, N_1 = N_0): \n",
    "# f(u) has stuff/u^2 so in the \"volume\" jacobian, the u^2s cancel\n",
    "# The if-else structure accounts for the Heaviside function\n",
    "# N_1 is the normalization \n",
    "    if ((V_gal/c - u) < 0):\n",
    "        temp = 0\n",
    "        \n",
    "    elif ((V_gal/c - u) >= 0):\n",
    "        numerator = ((V_gal/c)**2 - (u)**2)\n",
    "        denominator = (k * (u_0/c)**2)\n",
    "        arg = ( numerator / denominator)\n",
    "        temp = N_1 * (np.expm1(arg) ) ** k\n",
    "#         temp = N_1 * 4*np.pi*(u)**2  * (np.expm1(arg) ) ** k\n",
    "    return temp\n",
    "\n",
    "# print (DMVelDist(10**-5))\n",
    "\n",
    "print ('Complete')"
   ]
  },
  {
   "cell_type": "markdown",
   "metadata": {},
   "source": [
    "## Modified Dark Matter Velocity Distribution (eqn16)\n",
    "\n",
    "The modified distribution $ f_{\\oplus}$ is the annular and angular averaged dark matter distribution in the rest frame of Earth given by:\n",
    "\n",
    "\\begin{align}\n",
    "\\text{ModDMVelDist} &= f_{\\oplus}(u) = \\\\\n",
    "&\\frac{1}{4} \\int_{-1}^{1}\\int_{-1}^{1} dcos\\theta \\, dcos\\phi \\space\n",
    "   f \\left[ \\left( u^2 (V_{\\odot} + V_{\\oplus}cos\\phi)^2 + 2u(V_{\\odot} + V_{\\oplus} cos\\phi) cos\\theta \\right) ^{1/2} \\right]\n",
    "  \\end{align}"
   ]
  },
  {
   "cell_type": "code",
   "execution_count": 88,
   "metadata": {},
   "outputs": [
    {
     "name": "stdout",
     "output_type": "stream",
     "text": [
      "Complete\n"
     ]
    }
   ],
   "source": [
    "def ModDMVelDist(u):\n",
    "    def integrand(x, y): #x = cos(theta), y = cos(phi)\n",
    "        return 0.25 * DMVelDist( ( u**2 + ((V_dot/c) + (V_cross/c) * y)**2 \\\n",
    "                                  + 2 * u * ((V_dot/c) + (V_cross/c) * y) *x)** 0.5  )\n",
    "\n",
    "    return integrate.dblquad(integrand, -1, 1, lambda y: -1, lambda y: 1)[0]\n",
    "\n",
    "\n",
    "print ('Complete')"
   ]
  },
  {
   "cell_type": "markdown",
   "metadata": {},
   "source": [
    "### Graphing and Interpolating the Modified DM Velocity Distribution\n",
    "\n",
    "#### Graph"
   ]
  },
  {
   "cell_type": "code",
   "execution_count": 89,
   "metadata": {},
   "outputs": [
    {
     "name": "stdout",
     "output_type": "stream",
     "text": [
      "Complete\n"
     ]
    },
    {
     "data": {
      "image/png": "[encoded data removed]",
      "text/plain": [
       "<matplotlib.figure.Figure at 0x2629340c860>"
      ]
     },
     "metadata": {},
     "output_type": "display_data"
    }
   ],
   "source": [
    "velRange = np.linspace(0,V_gal/c,200)\n",
    "\n",
    "ModDMVect = []\n",
    "for vel in velRange:\n",
    "    ModDMVect.append(ModDMVelDist(vel))\n",
    "    \n",
    "plt.plot(velRange,ModDMVect,'.')\n",
    "\n",
    "\n",
    "print ('Complete')"
   ]
  },
  {
   "cell_type": "markdown",
   "metadata": {},
   "source": [
    "#### Interpolate"
   ]
  },
  {
   "cell_type": "code",
   "execution_count": 29,
   "metadata": {},
   "outputs": [
    {
     "name": "stdout",
     "output_type": "stream",
     "text": [
      "Complete\n"
     ]
    },
    {
     "data": {
      "image/png": "[encoded data removed]",
      "text/plain": [
       "<matplotlib.figure.Figure at 0x2629468f518>"
      ]
     },
     "metadata": {},
     "output_type": "display_data"
    }
   ],
   "source": [
    "# Interpolate this list\n",
    "DMVect = []\n",
    "ModDMVelInterp = interpolate.interp1d(velRange,ModDMVect,kind='linear')\n",
    "\n",
    "for vel in velRange:\n",
    "    DMVect.append(ModDMVelInterp(vel))\n",
    "\n",
    "    \n",
    "plt.plot(velRange,DMVect,'green', velRange, ModDMVect, 'b.')\n",
    "plt.axis([0.,0.0002,2.0e8,2.16e8])\n",
    "plt.xlabel('Incident Velocity')\n",
    "plt.ylabel(\"f'(u)\")\n",
    "plt.title('Modified DM Velocity Interpolation Check')\n",
    "plt.text(0.000025,2.08e8,'Blue Dots: List Values')\n",
    "plt.text(0.000025,2.06e8,'Green Line: Interpolation')\n",
    "print ('Complete')"
   ]
  },
  {
   "cell_type": "markdown",
   "metadata": {},
   "source": [
    "### Emin and Emax Initialization (eqn13)\n",
    "In the following cell, we initialize the Emin and Emax functions where\n",
    "$$ E_{Min} = \\frac{1}{2} m_X u^2 \\qquad E_{Max} = 2 \\frac{\\mu^2}{m_N} (u^2 + v_{\\oplus}^2)$$  "
   ]
  },
  {
   "cell_type": "code",
   "execution_count": 30,
   "metadata": {},
   "outputs": [
    {
     "name": "stdout",
     "output_type": "stream",
     "text": [
      "Complete\n"
     ]
    }
   ],
   "source": [
    "def eMin(u, m_X):\n",
    "    function = (0.5) * m_X * u**2\n",
    "    assert (function >=0), '(u, m_X): (%e,%e) result in a negative eMin' % (u, m_X)\n",
    "    return function\n",
    "\n",
    "def eMax(element, m_X, rIndex, u):\n",
    "    mn = amu2Gev(atomicNumbers[element])\n",
    "    mu = mn*m_X / (mn + m_X)\n",
    "    vCross2 = escVel2List[rIndex]\n",
    "    function = 2*mu**2 *(u**2 + vCross2)/mn\n",
    "    assert (function >= 0), '(element, m_X, rIndex, u): (%s, %e, %i, %e) result in negative eMax' %(element, m_X, rIndex, u)\n",
    "    return function\n",
    "\n",
    "print ('Complete')"
   ]
  },
  {
   "cell_type": "markdown",
   "metadata": {},
   "source": [
    "## Calculating the Capture Integral\n",
    "In the following cell, we calculate the velocity and recoil energy integrals:\n",
    "\n",
    "$$ \\text{IntDuDEr} = \\int_{0}^{uInt} du\\space u \\, f(u) \\int_{E_{min}}^{E_{Max}} dE_R \\space \\frac{d \\sigma_N}{dE_R}  $$ \n",
    "\n",
    "with dimension: $[ \\text{IntDuDEr}] = \\frac{1}{GeV^3}$\n",
    "\n",
    "where $$ u_{int}^2 = \\frac{2\\mu_N^2}{m_N} \\frac{1}{ \\left( \\frac{1}{2m_X} - \\frac{2\\mu_N^2}{m_N} \\right)  } v_{\\oplus}^2 $$\n",
    "\n",
    "See Appendix A for a discussion of calculating this integral.\n",
    "\n",
    "For future reference:\n",
    "$$ \\text{IntDuDErApprox} = \\int_{0}^{uInt} du\\space u \\, f(u) \\int_{E_{min}}^{E_{Max}} dE_R \\space |F_N|^2  $$ \n",
    "\n",
    "##### Factors Removed (IntDuDEr):  $(4\\pi)(8\\pi \\epsilon^2 \\alpha_X \\alpha Z_N^2)$\n",
    "##### Factors Removed (IntDuDErApprox): $(4\\pi)(8\\pi \\alpha_X \\alpha \\frac{\\epsilon^2}{m_A^4} m_N Z_N^2)$"
   ]
  },
  {
   "cell_type": "code",
   "execution_count": 32,
   "metadata": {},
   "outputs": [
    {
     "name": "stdout",
     "output_type": "stream",
     "text": [
      "Complete\n"
     ]
    }
   ],
   "source": [
    "def EminEmaxIntersection(element, m_X, rIndex):\n",
    "    mn = amu2Gev(atomicNumbers[element])\n",
    "    mu = (mn*m_X)/(mn+m_X)\n",
    "    vCross2 = escVel2List[rIndex]\n",
    "    # Calculate the intersection uInt of eMin and eMax given a specific rIndex\n",
    "    A = 1/2. * m_X\n",
    "    B = 2. * mu**2 / mn\n",
    "    uInt = np.sqrt( ( B * vCross2) / (A-B) )\n",
    "    \n",
    "    return uInt\n",
    "\n",
    "# a = EminEmaxIntersection('Fe56',100,245)\n",
    "# print (a/2)\n",
    "\n",
    "def IntDuDEr(element, m_X, m_A, rIndex):\n",
    "    mn = amu2Gev(atomicNumbers[element])\n",
    "    mu = (mn*m_X)/(mn+m_X)\n",
    "    vCross2 = escVel2List[rIndex]\n",
    "    \n",
    "    def integrand(E,u):\n",
    "#         fu = DMVelDist(u)\n",
    "        fu = ModDMVelInterp(u)\n",
    "\n",
    "        integrand = crossSection(element, m_A, E) * u * fu\n",
    "#         inte = crossSection(E, m_A, element) * u\n",
    "\n",
    "#         assert (inte >= 0), '(E,u): (%e,%e) result in a negative integrand' % (E,u)\n",
    "        return integrand\n",
    "    \n",
    "    # Calculate the intersection uInt of eMin and eMax given a specific rIndex\n",
    "    uInt = EminEmaxIntersection(element,m_X,rIndex)\n",
    "    \n",
    "    uLow = 0\n",
    "    uHigh = uInt\n",
    "    eLow = lambda u: eMin(u, m_X)\n",
    "    eHigh = lambda u: eMax(element, m_X, rIndex, u)\n",
    "    integral = integrate.dblquad(integrand, uLow, uHigh, eLow, eHigh)[0]\n",
    "    return integral\n",
    "\n",
    "\n",
    "def IntDuDErApprox(element, m_X, rIndex):\n",
    "    mn = amu2Gev(atomicNumbers[element])\n",
    "    mu = (mn*m_X)/(mn+m_X)\n",
    "    vCross2 = escVel2List[rIndex]\n",
    "    \n",
    "    def integrand(E,u):\n",
    "        fu = ModDMVelInterp(u)\n",
    "        integrand = crossSectionApprox(element, E) * u * fu\n",
    "        \n",
    "#         assert (inte >= 0), '(E,u): (%e,%e) result in a negative integrand' % (E,u)\n",
    "        return integrand\n",
    "    \n",
    "    uInt = EminEmaxIntersection(element,m_X,rIndex)\n",
    "    \n",
    "    uLow = 0\n",
    "    uHigh = uInt\n",
    "    eLow = lambda u: eMin(u, m_X)\n",
    "    eHigh = lambda u: eMax(element, m_X, rIndex, u)\n",
    "    integral = integrate.dblquad(integrand, uLow, uHigh, eLow, eHigh)[0]\n",
    "    return integral\n",
    "\n",
    "def IntDuDErApproxTest(element, m_X, rIndex):\n",
    "    mn = amu2Gev(atomicNumbers[element])\n",
    "    mu = (mn*m_X)/(mn+m_X)\n",
    "    vCross2 = escVel2List[rIndex]\n",
    "    \n",
    "    def integrand(E,u):\n",
    "        fu = ModDMVelInterp(u)\n",
    "#         integrand = crossSectionApprox(element, E) * u * fu\n",
    "        integrand = crossSectionTest(element, E) * u * fu\n",
    "#         assert (inte >= 0), '(E,u): (%e,%e) result in a negative integrand' % (E,u)\n",
    "        return integrand\n",
    "    \n",
    "    uInt = EminEmaxIntersection(element,m_X,rIndex)\n",
    "    \n",
    "    uLow = 0\n",
    "    uHigh = uInt\n",
    "    eLow = lambda u: eMin(u, m_X)\n",
    "    eHigh = lambda u: eMax(element, m_X, rIndex, u)\n",
    "    integral = integrate.dblquad(integrand, uLow, uHigh, eLow, eHigh)[0]\n",
    "    return integral\n",
    "\n",
    "\n",
    "# print (IntDuDEr('Ni58', 1000., 10 ,20))\n",
    "# print (IntDuDErApprox('Ni58', 1000., 20))\n",
    "# print (IntDuDErApproxTest('Ni58', 1000., 20))\n",
    "print ('Complete')"
   ]
  },
  {
   "cell_type": "markdown",
   "metadata": {},
   "source": [
    "### Average DM Velocity at the surface of earth"
   ]
  },
  {
   "cell_type": "code",
   "execution_count": 33,
   "metadata": {},
   "outputs": [
    {
     "name": "stdout",
     "output_type": "stream",
     "text": [
      "7.292844986557817e-07\n"
     ]
    }
   ],
   "source": [
    "def AVGDM(element,m_X, rIndex):\n",
    "    mn = amu2Gev(atomicNumbers[element])\n",
    "    mu = (mn*m_X)/(mn+m_X)\n",
    "    vCross2 = escVel2List[rIndex]\n",
    "    \n",
    "    def integrand(u):\n",
    "        fu = ModDMVelInterp(u)\n",
    "\n",
    "        inte = u**2* fu\n",
    "\n",
    "#         assert (inte >= 0), '(E,u): (%e,%e) result in a negative integrand' % (E,u)\n",
    "        return inte\n",
    "    \n",
    "    # Calculate the intersection uInt of eMin and eMax given a specific rIndex\n",
    "    A = 1/2. * m_X\n",
    "    B = 2. * mu**2 / mn\n",
    "    uInt = np.sqrt( ( B * vCross2) / (A-B) )\n",
    "    \n",
    "    uLow = 0\n",
    "    uHigh = uInt\n",
    "    integral = integrate.quad(integrand, uLow, uHigh)[0]\n",
    "    return integral\n",
    "\n",
    "tempsum = 0\n",
    "counter = 0\n",
    "for element in elementList:\n",
    "    tempsum += AVGDM(element,500,490)\n",
    "    counter += 1\n",
    "print (tempsum/counter)"
   ]
  },
  {
   "cell_type": "markdown",
   "metadata": {
    "collapsed": true
   },
   "source": [
    "## Sum over radii\n",
    "In the following cell, we calculate the \"integral\" over the radius of earth:\n",
    "\n",
    "$$ \\int^{R_{earth}}_{0} dr\\space 4\\pi r^2 n_N(r) \\int_{0}^{uInt} du\\space 4\\pi u f(u) \\int_{E_{min}}^{E_{Max}} dE_R \\space \\frac{d \\sigma_N}{dE_R} \\Theta(\\Delta E) $$\n",
    "\n",
    "where we rename the velocity and recoil energy integrals to their respective python function $IntDuDEr$:\n",
    "\n",
    "$$ \\int^{R_{earth}}_{0} dr\\space 4\\pi r^2 n_N(r) \\space IntDuDEr  $$\n",
    "\n",
    "with dimension $ \\frac{1}{GeV^2}$\n",
    "\n",
    "However, instead of calculating this as an integral as stated, we discretize the integral and use the thin-shell approximation:\n",
    "\n",
    "$$ \\frac{4}{3}\\pi (r +\\Delta r)^3 - \\frac{4}{3}\\pi r^3 = 4 \\pi r^2 \\Delta r$$\n",
    "\n",
    "which yields the discrete summation:\n",
    "\n",
    "$$ \\text{SumOverR} = \\Sigma_{i} r_i^2 n_N(r) \\Delta r_i \\space \\text{IntDuDEr} $$\n",
    "\n",
    "where the variables $r_i$, $n_N(r)$, and $\\Delta r_i$ are given by:\n",
    "$$ r_i = radiusList[i] \\qquad n_N(r) = numDensityList(element)[i] \\qquad \\Delta r_i = deltaRList[i] $$\n",
    "\n",
    "It is important to note, $i$ is a pure summation index and all physical quantites depending on i are taken from the respective lists.\n",
    " \n",
    "For future use:\n",
    "$$\n",
    "\\text{SumOverRApprox} = \\Sigma_i r_i^2 n_N(r) \\Delta r_i \\text{IntDuDErApprox}\n",
    "$$\n",
    "\n",
    "##### Removed Factors: $(4\\pi)(4\\pi)(8\\pi \\epsilon^2 \\alpha_X \\alpha Z_N^2)$\n",
    "##### Removed Factors (Approx): $(4\\pi)(4\\pi)(8\\pi \\alpha_X \\alpha \\frac{\\epsilon^2}{m_A^4} m_N Z_N^2)$"
   ]
  },
  {
   "cell_type": "code",
   "execution_count": 38,
   "metadata": {
    "collapsed": true
   },
   "outputs": [
    {
     "ename": "KeyboardInterrupt",
     "evalue": "",
     "output_type": "error",
     "traceback": [
      "\u001b[1;31m---------------------------------------------------------------------------\u001b[0m",
      "\u001b[1;31mKeyboardInterrupt\u001b[0m                         Traceback (most recent call last)",
      "\u001b[1;32m<ipython-input-38-cd1b7e2abe04>\u001b[0m in \u001b[0;36m<module>\u001b[1;34m()\u001b[0m\n\u001b[0;32m     20\u001b[0m     \u001b[1;32mreturn\u001b[0m \u001b[0mtempSum\u001b[0m\u001b[1;33m\u001b[0m\u001b[0m\n\u001b[0;32m     21\u001b[0m \u001b[1;33m\u001b[0m\u001b[0m\n\u001b[1;32m---> 22\u001b[1;33m \u001b[0mprint\u001b[0m \u001b[1;33m(\u001b[0m\u001b[0mSumOverR\u001b[0m\u001b[1;33m(\u001b[0m\u001b[1;34m'Fe56'\u001b[0m\u001b[1;33m,\u001b[0m \u001b[1;36m1000\u001b[0m\u001b[1;33m,\u001b[0m \u001b[1;36m1\u001b[0m\u001b[1;33m)\u001b[0m\u001b[1;33m)\u001b[0m\u001b[1;33m\u001b[0m\u001b[0m\n\u001b[0m\u001b[0;32m     23\u001b[0m \u001b[0mprint\u001b[0m \u001b[1;33m(\u001b[0m\u001b[0mSumOverRApprox\u001b[0m\u001b[1;33m(\u001b[0m\u001b[1;34m'Fe56'\u001b[0m\u001b[1;33m,\u001b[0m \u001b[1;36m1000\u001b[0m\u001b[1;33m)\u001b[0m\u001b[1;33m)\u001b[0m\u001b[1;33m\u001b[0m\u001b[0m\n\u001b[0;32m     24\u001b[0m \u001b[1;33m\u001b[0m\u001b[0m\n",
      "\u001b[1;32m<ipython-input-38-cd1b7e2abe04>\u001b[0m in \u001b[0;36mSumOverR\u001b[1;34m(element, m_X, m_A)\u001b[0m\n\u001b[0;32m      5\u001b[0m         \u001b[0mdeltaR\u001b[0m \u001b[1;33m=\u001b[0m \u001b[0mdeltaRList\u001b[0m\u001b[1;33m[\u001b[0m\u001b[0mi\u001b[0m\u001b[1;33m]\u001b[0m\u001b[1;33m\u001b[0m\u001b[0m\n\u001b[0;32m      6\u001b[0m         \u001b[0mn_N\u001b[0m \u001b[1;33m=\u001b[0m \u001b[0mnumDensityList\u001b[0m\u001b[1;33m(\u001b[0m\u001b[0melement\u001b[0m\u001b[1;33m)\u001b[0m\u001b[1;33m[\u001b[0m\u001b[0mi\u001b[0m\u001b[1;33m]\u001b[0m\u001b[1;33m\u001b[0m\u001b[0m\n\u001b[1;32m----> 7\u001b[1;33m         \u001b[0msummand\u001b[0m \u001b[1;33m=\u001b[0m \u001b[0mn_N\u001b[0m \u001b[1;33m*\u001b[0m \u001b[0mr\u001b[0m\u001b[1;33m**\u001b[0m\u001b[1;36m2\u001b[0m \u001b[1;33m*\u001b[0m \u001b[0mIntDuDEr\u001b[0m\u001b[1;33m(\u001b[0m\u001b[0melement\u001b[0m\u001b[1;33m,\u001b[0m \u001b[0mm_X\u001b[0m\u001b[1;33m,\u001b[0m \u001b[0mm_A\u001b[0m\u001b[1;33m,\u001b[0m \u001b[0mi\u001b[0m\u001b[1;33m)\u001b[0m \u001b[1;33m*\u001b[0m \u001b[0mdeltaR\u001b[0m\u001b[1;33m\u001b[0m\u001b[0m\n\u001b[0m\u001b[0;32m      8\u001b[0m         \u001b[0mtempSum\u001b[0m \u001b[1;33m+=\u001b[0m \u001b[0msummand\u001b[0m\u001b[1;33m\u001b[0m\u001b[0m\n\u001b[0;32m      9\u001b[0m     \u001b[1;32mreturn\u001b[0m \u001b[0mtempSum\u001b[0m\u001b[1;33m\u001b[0m\u001b[0m\n",
      "\u001b[1;32m<ipython-input-32-5eaecea2330a>\u001b[0m in \u001b[0;36mIntDuDEr\u001b[1;34m(element, m_X, m_A, rIndex)\u001b[0m\n\u001b[0;32m     35\u001b[0m     \u001b[0meLow\u001b[0m \u001b[1;33m=\u001b[0m \u001b[1;32mlambda\u001b[0m \u001b[0mu\u001b[0m\u001b[1;33m:\u001b[0m \u001b[0meMin\u001b[0m\u001b[1;33m(\u001b[0m\u001b[0mu\u001b[0m\u001b[1;33m,\u001b[0m \u001b[0mm_X\u001b[0m\u001b[1;33m)\u001b[0m\u001b[1;33m\u001b[0m\u001b[0m\n\u001b[0;32m     36\u001b[0m     \u001b[0meHigh\u001b[0m \u001b[1;33m=\u001b[0m \u001b[1;32mlambda\u001b[0m \u001b[0mu\u001b[0m\u001b[1;33m:\u001b[0m \u001b[0meMax\u001b[0m\u001b[1;33m(\u001b[0m\u001b[0melement\u001b[0m\u001b[1;33m,\u001b[0m \u001b[0mm_X\u001b[0m\u001b[1;33m,\u001b[0m \u001b[0mrIndex\u001b[0m\u001b[1;33m,\u001b[0m \u001b[0mu\u001b[0m\u001b[1;33m)\u001b[0m\u001b[1;33m\u001b[0m\u001b[0m\n\u001b[1;32m---> 37\u001b[1;33m     \u001b[0mintegral\u001b[0m \u001b[1;33m=\u001b[0m \u001b[0mintegrate\u001b[0m\u001b[1;33m.\u001b[0m\u001b[0mdblquad\u001b[0m\u001b[1;33m(\u001b[0m\u001b[0mintegrand\u001b[0m\u001b[1;33m,\u001b[0m \u001b[0muLow\u001b[0m\u001b[1;33m,\u001b[0m \u001b[0muHigh\u001b[0m\u001b[1;33m,\u001b[0m \u001b[0meLow\u001b[0m\u001b[1;33m,\u001b[0m \u001b[0meHigh\u001b[0m\u001b[1;33m)\u001b[0m\u001b[1;33m[\u001b[0m\u001b[1;36m0\u001b[0m\u001b[1;33m]\u001b[0m\u001b[1;33m\u001b[0m\u001b[0m\n\u001b[0m\u001b[0;32m     38\u001b[0m     \u001b[1;32mreturn\u001b[0m \u001b[0mintegral\u001b[0m\u001b[1;33m\u001b[0m\u001b[0m\n\u001b[0;32m     39\u001b[0m \u001b[1;33m\u001b[0m\u001b[0m\n",
      "\u001b[1;32mc:\\users\\adam green\\anaconda3\\lib\\site-packages\\scipy\\integrate\\quadpack.py\u001b[0m in \u001b[0;36mdblquad\u001b[1;34m(func, a, b, gfun, hfun, args, epsabs, epsrel)\u001b[0m\n\u001b[0;32m    495\u001b[0m     \u001b[1;32mdef\u001b[0m \u001b[0mtemp_ranges\u001b[0m\u001b[1;33m(\u001b[0m\u001b[1;33m*\u001b[0m\u001b[0margs\u001b[0m\u001b[1;33m)\u001b[0m\u001b[1;33m:\u001b[0m\u001b[1;33m\u001b[0m\u001b[0m\n\u001b[0;32m    496\u001b[0m         \u001b[1;32mreturn\u001b[0m \u001b[1;33m[\u001b[0m\u001b[0mgfun\u001b[0m\u001b[1;33m(\u001b[0m\u001b[0margs\u001b[0m\u001b[1;33m[\u001b[0m\u001b[1;36m0\u001b[0m\u001b[1;33m]\u001b[0m\u001b[1;33m)\u001b[0m\u001b[1;33m,\u001b[0m \u001b[0mhfun\u001b[0m\u001b[1;33m(\u001b[0m\u001b[0margs\u001b[0m\u001b[1;33m[\u001b[0m\u001b[1;36m0\u001b[0m\u001b[1;33m]\u001b[0m\u001b[1;33m)\u001b[0m\u001b[1;33m]\u001b[0m\u001b[1;33m\u001b[0m\u001b[0m\n\u001b[1;32m--> 497\u001b[1;33m     \u001b[1;32mreturn\u001b[0m \u001b[0mnquad\u001b[0m\u001b[1;33m(\u001b[0m\u001b[0mfunc\u001b[0m\u001b[1;33m,\u001b[0m \u001b[1;33m[\u001b[0m\u001b[0mtemp_ranges\u001b[0m\u001b[1;33m,\u001b[0m \u001b[1;33m[\u001b[0m\u001b[0ma\u001b[0m\u001b[1;33m,\u001b[0m \u001b[0mb\u001b[0m\u001b[1;33m]\u001b[0m\u001b[1;33m]\u001b[0m\u001b[1;33m,\u001b[0m \u001b[0margs\u001b[0m\u001b[1;33m=\u001b[0m\u001b[0margs\u001b[0m\u001b[1;33m)\u001b[0m\u001b[1;33m\u001b[0m\u001b[0m\n\u001b[0m\u001b[0;32m    498\u001b[0m \u001b[1;33m\u001b[0m\u001b[0m\n\u001b[0;32m    499\u001b[0m \u001b[1;33m\u001b[0m\u001b[0m\n",
      "\u001b[1;32mc:\\users\\adam green\\anaconda3\\lib\\site-packages\\scipy\\integrate\\quadpack.py\u001b[0m in \u001b[0;36mnquad\u001b[1;34m(func, ranges, args, opts, full_output)\u001b[0m\n\u001b[0;32m    705\u001b[0m     \u001b[1;32melse\u001b[0m\u001b[1;33m:\u001b[0m\u001b[1;33m\u001b[0m\u001b[0m\n\u001b[0;32m    706\u001b[0m         \u001b[0mopts\u001b[0m \u001b[1;33m=\u001b[0m \u001b[1;33m[\u001b[0m\u001b[0mopt\u001b[0m \u001b[1;32mif\u001b[0m \u001b[0mcallable\u001b[0m\u001b[1;33m(\u001b[0m\u001b[0mopt\u001b[0m\u001b[1;33m)\u001b[0m \u001b[1;32melse\u001b[0m \u001b[0m_OptFunc\u001b[0m\u001b[1;33m(\u001b[0m\u001b[0mopt\u001b[0m\u001b[1;33m)\u001b[0m \u001b[1;32mfor\u001b[0m \u001b[0mopt\u001b[0m \u001b[1;32min\u001b[0m \u001b[0mopts\u001b[0m\u001b[1;33m]\u001b[0m\u001b[1;33m\u001b[0m\u001b[0m\n\u001b[1;32m--> 707\u001b[1;33m     \u001b[1;32mreturn\u001b[0m \u001b[0m_NQuad\u001b[0m\u001b[1;33m(\u001b[0m\u001b[0mfunc\u001b[0m\u001b[1;33m,\u001b[0m \u001b[0mranges\u001b[0m\u001b[1;33m,\u001b[0m \u001b[0mopts\u001b[0m\u001b[1;33m,\u001b[0m \u001b[0mfull_output\u001b[0m\u001b[1;33m)\u001b[0m\u001b[1;33m.\u001b[0m\u001b[0mintegrate\u001b[0m\u001b[1;33m(\u001b[0m\u001b[1;33m*\u001b[0m\u001b[0margs\u001b[0m\u001b[1;33m)\u001b[0m\u001b[1;33m\u001b[0m\u001b[0m\n\u001b[0m\u001b[0;32m    708\u001b[0m \u001b[1;33m\u001b[0m\u001b[0m\n\u001b[0;32m    709\u001b[0m \u001b[1;33m\u001b[0m\u001b[0m\n",
      "\u001b[1;32mc:\\users\\adam green\\anaconda3\\lib\\site-packages\\scipy\\integrate\\quadpack.py\u001b[0m in \u001b[0;36mintegrate\u001b[1;34m(self, *args, **kwargs)\u001b[0m\n\u001b[0;32m    760\u001b[0m             \u001b[0mf\u001b[0m \u001b[1;33m=\u001b[0m \u001b[0mpartial\u001b[0m\u001b[1;33m(\u001b[0m\u001b[0mself\u001b[0m\u001b[1;33m.\u001b[0m\u001b[0mintegrate\u001b[0m\u001b[1;33m,\u001b[0m \u001b[0mdepth\u001b[0m\u001b[1;33m=\u001b[0m\u001b[0mdepth\u001b[0m\u001b[1;33m+\u001b[0m\u001b[1;36m1\u001b[0m\u001b[1;33m)\u001b[0m\u001b[1;33m\u001b[0m\u001b[0m\n\u001b[0;32m    761\u001b[0m         quad_r = quad(f, low, high, args=args, full_output=self.full_output,\n\u001b[1;32m--> 762\u001b[1;33m                       **opt)\n\u001b[0m\u001b[0;32m    763\u001b[0m         \u001b[0mvalue\u001b[0m \u001b[1;33m=\u001b[0m \u001b[0mquad_r\u001b[0m\u001b[1;33m[\u001b[0m\u001b[1;36m0\u001b[0m\u001b[1;33m]\u001b[0m\u001b[1;33m\u001b[0m\u001b[0m\n\u001b[0;32m    764\u001b[0m         \u001b[0mabserr\u001b[0m \u001b[1;33m=\u001b[0m \u001b[0mquad_r\u001b[0m\u001b[1;33m[\u001b[0m\u001b[1;36m1\u001b[0m\u001b[1;33m]\u001b[0m\u001b[1;33m\u001b[0m\u001b[0m\n",
      "\u001b[1;32mc:\\users\\adam green\\anaconda3\\lib\\site-packages\\scipy\\integrate\\quadpack.py\u001b[0m in \u001b[0;36mquad\u001b[1;34m(func, a, b, args, full_output, epsabs, epsrel, limit, points, weight, wvar, wopts, maxp1, limlst)\u001b[0m\n\u001b[0;32m    313\u001b[0m     \u001b[1;32mif\u001b[0m \u001b[1;33m(\u001b[0m\u001b[0mweight\u001b[0m \u001b[1;32mis\u001b[0m \u001b[1;32mNone\u001b[0m\u001b[1;33m)\u001b[0m\u001b[1;33m:\u001b[0m\u001b[1;33m\u001b[0m\u001b[0m\n\u001b[0;32m    314\u001b[0m         retval = _quad(func, a, b, args, full_output, epsabs, epsrel, limit,\n\u001b[1;32m--> 315\u001b[1;33m                        points)\n\u001b[0m\u001b[0;32m    316\u001b[0m     \u001b[1;32melse\u001b[0m\u001b[1;33m:\u001b[0m\u001b[1;33m\u001b[0m\u001b[0m\n\u001b[0;32m    317\u001b[0m         retval = _quad_weight(func, a, b, args, full_output, epsabs, epsrel,\n",
      "\u001b[1;32mc:\\users\\adam green\\anaconda3\\lib\\site-packages\\scipy\\integrate\\quadpack.py\u001b[0m in \u001b[0;36m_quad\u001b[1;34m(func, a, b, args, full_output, epsabs, epsrel, limit, points)\u001b[0m\n\u001b[0;32m    378\u001b[0m     \u001b[1;32mif\u001b[0m \u001b[0mpoints\u001b[0m \u001b[1;32mis\u001b[0m \u001b[1;32mNone\u001b[0m\u001b[1;33m:\u001b[0m\u001b[1;33m\u001b[0m\u001b[0m\n\u001b[0;32m    379\u001b[0m         \u001b[1;32mif\u001b[0m \u001b[0minfbounds\u001b[0m \u001b[1;33m==\u001b[0m \u001b[1;36m0\u001b[0m\u001b[1;33m:\u001b[0m\u001b[1;33m\u001b[0m\u001b[0m\n\u001b[1;32m--> 380\u001b[1;33m             \u001b[1;32mreturn\u001b[0m \u001b[0m_quadpack\u001b[0m\u001b[1;33m.\u001b[0m\u001b[0m_qagse\u001b[0m\u001b[1;33m(\u001b[0m\u001b[0mfunc\u001b[0m\u001b[1;33m,\u001b[0m\u001b[0ma\u001b[0m\u001b[1;33m,\u001b[0m\u001b[0mb\u001b[0m\u001b[1;33m,\u001b[0m\u001b[0margs\u001b[0m\u001b[1;33m,\u001b[0m\u001b[0mfull_output\u001b[0m\u001b[1;33m,\u001b[0m\u001b[0mepsabs\u001b[0m\u001b[1;33m,\u001b[0m\u001b[0mepsrel\u001b[0m\u001b[1;33m,\u001b[0m\u001b[0mlimit\u001b[0m\u001b[1;33m)\u001b[0m\u001b[1;33m\u001b[0m\u001b[0m\n\u001b[0m\u001b[0;32m    381\u001b[0m         \u001b[1;32melse\u001b[0m\u001b[1;33m:\u001b[0m\u001b[1;33m\u001b[0m\u001b[0m\n\u001b[0;32m    382\u001b[0m             \u001b[1;32mreturn\u001b[0m \u001b[0m_quadpack\u001b[0m\u001b[1;33m.\u001b[0m\u001b[0m_qagie\u001b[0m\u001b[1;33m(\u001b[0m\u001b[0mfunc\u001b[0m\u001b[1;33m,\u001b[0m\u001b[0mbound\u001b[0m\u001b[1;33m,\u001b[0m\u001b[0minfbounds\u001b[0m\u001b[1;33m,\u001b[0m\u001b[0margs\u001b[0m\u001b[1;33m,\u001b[0m\u001b[0mfull_output\u001b[0m\u001b[1;33m,\u001b[0m\u001b[0mepsabs\u001b[0m\u001b[1;33m,\u001b[0m\u001b[0mepsrel\u001b[0m\u001b[1;33m,\u001b[0m\u001b[0mlimit\u001b[0m\u001b[1;33m)\u001b[0m\u001b[1;33m\u001b[0m\u001b[0m\n",
      "\u001b[1;32mc:\\users\\adam green\\anaconda3\\lib\\site-packages\\scipy\\integrate\\quadpack.py\u001b[0m in \u001b[0;36mintegrate\u001b[1;34m(self, *args, **kwargs)\u001b[0m\n\u001b[0;32m    760\u001b[0m             \u001b[0mf\u001b[0m \u001b[1;33m=\u001b[0m \u001b[0mpartial\u001b[0m\u001b[1;33m(\u001b[0m\u001b[0mself\u001b[0m\u001b[1;33m.\u001b[0m\u001b[0mintegrate\u001b[0m\u001b[1;33m,\u001b[0m \u001b[0mdepth\u001b[0m\u001b[1;33m=\u001b[0m\u001b[0mdepth\u001b[0m\u001b[1;33m+\u001b[0m\u001b[1;36m1\u001b[0m\u001b[1;33m)\u001b[0m\u001b[1;33m\u001b[0m\u001b[0m\n\u001b[0;32m    761\u001b[0m         quad_r = quad(f, low, high, args=args, full_output=self.full_output,\n\u001b[1;32m--> 762\u001b[1;33m                       **opt)\n\u001b[0m\u001b[0;32m    763\u001b[0m         \u001b[0mvalue\u001b[0m \u001b[1;33m=\u001b[0m \u001b[0mquad_r\u001b[0m\u001b[1;33m[\u001b[0m\u001b[1;36m0\u001b[0m\u001b[1;33m]\u001b[0m\u001b[1;33m\u001b[0m\u001b[0m\n\u001b[0;32m    764\u001b[0m         \u001b[0mabserr\u001b[0m \u001b[1;33m=\u001b[0m \u001b[0mquad_r\u001b[0m\u001b[1;33m[\u001b[0m\u001b[1;36m1\u001b[0m\u001b[1;33m]\u001b[0m\u001b[1;33m\u001b[0m\u001b[0m\n",
      "\u001b[1;32mc:\\users\\adam green\\anaconda3\\lib\\site-packages\\scipy\\integrate\\quadpack.py\u001b[0m in \u001b[0;36mquad\u001b[1;34m(func, a, b, args, full_output, epsabs, epsrel, limit, points, weight, wvar, wopts, maxp1, limlst)\u001b[0m\n\u001b[0;32m    313\u001b[0m     \u001b[1;32mif\u001b[0m \u001b[1;33m(\u001b[0m\u001b[0mweight\u001b[0m \u001b[1;32mis\u001b[0m \u001b[1;32mNone\u001b[0m\u001b[1;33m)\u001b[0m\u001b[1;33m:\u001b[0m\u001b[1;33m\u001b[0m\u001b[0m\n\u001b[0;32m    314\u001b[0m         retval = _quad(func, a, b, args, full_output, epsabs, epsrel, limit,\n\u001b[1;32m--> 315\u001b[1;33m                        points)\n\u001b[0m\u001b[0;32m    316\u001b[0m     \u001b[1;32melse\u001b[0m\u001b[1;33m:\u001b[0m\u001b[1;33m\u001b[0m\u001b[0m\n\u001b[0;32m    317\u001b[0m         retval = _quad_weight(func, a, b, args, full_output, epsabs, epsrel,\n",
      "\u001b[1;32mc:\\users\\adam green\\anaconda3\\lib\\site-packages\\scipy\\integrate\\quadpack.py\u001b[0m in \u001b[0;36m_quad\u001b[1;34m(func, a, b, args, full_output, epsabs, epsrel, limit, points)\u001b[0m\n\u001b[0;32m    378\u001b[0m     \u001b[1;32mif\u001b[0m \u001b[0mpoints\u001b[0m \u001b[1;32mis\u001b[0m \u001b[1;32mNone\u001b[0m\u001b[1;33m:\u001b[0m\u001b[1;33m\u001b[0m\u001b[0m\n\u001b[0;32m    379\u001b[0m         \u001b[1;32mif\u001b[0m \u001b[0minfbounds\u001b[0m \u001b[1;33m==\u001b[0m \u001b[1;36m0\u001b[0m\u001b[1;33m:\u001b[0m\u001b[1;33m\u001b[0m\u001b[0m\n\u001b[1;32m--> 380\u001b[1;33m             \u001b[1;32mreturn\u001b[0m \u001b[0m_quadpack\u001b[0m\u001b[1;33m.\u001b[0m\u001b[0m_qagse\u001b[0m\u001b[1;33m(\u001b[0m\u001b[0mfunc\u001b[0m\u001b[1;33m,\u001b[0m\u001b[0ma\u001b[0m\u001b[1;33m,\u001b[0m\u001b[0mb\u001b[0m\u001b[1;33m,\u001b[0m\u001b[0margs\u001b[0m\u001b[1;33m,\u001b[0m\u001b[0mfull_output\u001b[0m\u001b[1;33m,\u001b[0m\u001b[0mepsabs\u001b[0m\u001b[1;33m,\u001b[0m\u001b[0mepsrel\u001b[0m\u001b[1;33m,\u001b[0m\u001b[0mlimit\u001b[0m\u001b[1;33m)\u001b[0m\u001b[1;33m\u001b[0m\u001b[0m\n\u001b[0m\u001b[0;32m    381\u001b[0m         \u001b[1;32melse\u001b[0m\u001b[1;33m:\u001b[0m\u001b[1;33m\u001b[0m\u001b[0m\n\u001b[0;32m    382\u001b[0m             \u001b[1;32mreturn\u001b[0m \u001b[0m_quadpack\u001b[0m\u001b[1;33m.\u001b[0m\u001b[0m_qagie\u001b[0m\u001b[1;33m(\u001b[0m\u001b[0mfunc\u001b[0m\u001b[1;33m,\u001b[0m\u001b[0mbound\u001b[0m\u001b[1;33m,\u001b[0m\u001b[0minfbounds\u001b[0m\u001b[1;33m,\u001b[0m\u001b[0margs\u001b[0m\u001b[1;33m,\u001b[0m\u001b[0mfull_output\u001b[0m\u001b[1;33m,\u001b[0m\u001b[0mepsabs\u001b[0m\u001b[1;33m,\u001b[0m\u001b[0mepsrel\u001b[0m\u001b[1;33m,\u001b[0m\u001b[0mlimit\u001b[0m\u001b[1;33m)\u001b[0m\u001b[1;33m\u001b[0m\u001b[0m\n",
      "\u001b[1;32m<ipython-input-32-5eaecea2330a>\u001b[0m in \u001b[0;36mintegrand\u001b[1;34m(E, u)\u001b[0m\n\u001b[0;32m     20\u001b[0m     \u001b[1;32mdef\u001b[0m \u001b[0mintegrand\u001b[0m\u001b[1;33m(\u001b[0m\u001b[0mE\u001b[0m\u001b[1;33m,\u001b[0m\u001b[0mu\u001b[0m\u001b[1;33m)\u001b[0m\u001b[1;33m:\u001b[0m\u001b[1;33m\u001b[0m\u001b[0m\n\u001b[0;32m     21\u001b[0m \u001b[1;31m#         fu = DMVelDist(u)\u001b[0m\u001b[1;33m\u001b[0m\u001b[1;33m\u001b[0m\u001b[0m\n\u001b[1;32m---> 22\u001b[1;33m         \u001b[0mfu\u001b[0m \u001b[1;33m=\u001b[0m \u001b[0mModDMVelInterp\u001b[0m\u001b[1;33m(\u001b[0m\u001b[0mu\u001b[0m\u001b[1;33m)\u001b[0m\u001b[1;33m\u001b[0m\u001b[0m\n\u001b[0m\u001b[0;32m     23\u001b[0m \u001b[1;33m\u001b[0m\u001b[0m\n\u001b[0;32m     24\u001b[0m         \u001b[0mintegrand\u001b[0m \u001b[1;33m=\u001b[0m \u001b[0mcrossSection\u001b[0m\u001b[1;33m(\u001b[0m\u001b[0melement\u001b[0m\u001b[1;33m,\u001b[0m \u001b[0mm_A\u001b[0m\u001b[1;33m,\u001b[0m \u001b[0mE\u001b[0m\u001b[1;33m)\u001b[0m \u001b[1;33m*\u001b[0m \u001b[0mu\u001b[0m \u001b[1;33m*\u001b[0m \u001b[0mfu\u001b[0m\u001b[1;33m\u001b[0m\u001b[0m\n",
      "\u001b[1;32mc:\\users\\adam green\\anaconda3\\lib\\site-packages\\scipy\\interpolate\\polyint.py\u001b[0m in \u001b[0;36m__call__\u001b[1;34m(self, x)\u001b[0m\n\u001b[0;32m     77\u001b[0m         \"\"\"\n\u001b[0;32m     78\u001b[0m         \u001b[0mx\u001b[0m\u001b[1;33m,\u001b[0m \u001b[0mx_shape\u001b[0m \u001b[1;33m=\u001b[0m \u001b[0mself\u001b[0m\u001b[1;33m.\u001b[0m\u001b[0m_prepare_x\u001b[0m\u001b[1;33m(\u001b[0m\u001b[0mx\u001b[0m\u001b[1;33m)\u001b[0m\u001b[1;33m\u001b[0m\u001b[0m\n\u001b[1;32m---> 79\u001b[1;33m         \u001b[0my\u001b[0m \u001b[1;33m=\u001b[0m \u001b[0mself\u001b[0m\u001b[1;33m.\u001b[0m\u001b[0m_evaluate\u001b[0m\u001b[1;33m(\u001b[0m\u001b[0mx\u001b[0m\u001b[1;33m)\u001b[0m\u001b[1;33m\u001b[0m\u001b[0m\n\u001b[0m\u001b[0;32m     80\u001b[0m         \u001b[1;32mreturn\u001b[0m \u001b[0mself\u001b[0m\u001b[1;33m.\u001b[0m\u001b[0m_finish_y\u001b[0m\u001b[1;33m(\u001b[0m\u001b[0my\u001b[0m\u001b[1;33m,\u001b[0m \u001b[0mx_shape\u001b[0m\u001b[1;33m)\u001b[0m\u001b[1;33m\u001b[0m\u001b[0m\n\u001b[0;32m     81\u001b[0m \u001b[1;33m\u001b[0m\u001b[0m\n",
      "\u001b[1;32mc:\\users\\adam green\\anaconda3\\lib\\site-packages\\scipy\\interpolate\\interpolate.py\u001b[0m in \u001b[0;36m_evaluate\u001b[1;34m(self, x_new)\u001b[0m\n\u001b[0;32m    584\u001b[0m         \u001b[1;31m#    The behavior is set by the bounds_error variable.\u001b[0m\u001b[1;33m\u001b[0m\u001b[1;33m\u001b[0m\u001b[0m\n\u001b[0;32m    585\u001b[0m         \u001b[0mx_new\u001b[0m \u001b[1;33m=\u001b[0m \u001b[0masarray\u001b[0m\u001b[1;33m(\u001b[0m\u001b[0mx_new\u001b[0m\u001b[1;33m)\u001b[0m\u001b[1;33m\u001b[0m\u001b[0m\n\u001b[1;32m--> 586\u001b[1;33m         \u001b[0my_new\u001b[0m \u001b[1;33m=\u001b[0m \u001b[0mself\u001b[0m\u001b[1;33m.\u001b[0m\u001b[0m_call\u001b[0m\u001b[1;33m(\u001b[0m\u001b[0mself\u001b[0m\u001b[1;33m,\u001b[0m \u001b[0mx_new\u001b[0m\u001b[1;33m)\u001b[0m\u001b[1;33m\u001b[0m\u001b[0m\n\u001b[0m\u001b[0;32m    587\u001b[0m         \u001b[1;32mif\u001b[0m \u001b[1;32mnot\u001b[0m \u001b[0mself\u001b[0m\u001b[1;33m.\u001b[0m\u001b[0m_extrapolate\u001b[0m\u001b[1;33m:\u001b[0m\u001b[1;33m\u001b[0m\u001b[0m\n\u001b[0;32m    588\u001b[0m             \u001b[0mbelow_bounds\u001b[0m\u001b[1;33m,\u001b[0m \u001b[0mabove_bounds\u001b[0m \u001b[1;33m=\u001b[0m \u001b[0mself\u001b[0m\u001b[1;33m.\u001b[0m\u001b[0m_check_bounds\u001b[0m\u001b[1;33m(\u001b[0m\u001b[0mx_new\u001b[0m\u001b[1;33m)\u001b[0m\u001b[1;33m\u001b[0m\u001b[0m\n",
      "\u001b[1;32mc:\\users\\adam green\\anaconda3\\lib\\site-packages\\scipy\\interpolate\\interpolate.py\u001b[0m in \u001b[0;36m_call_linear_np\u001b[1;34m(self, x_new)\u001b[0m\n\u001b[0;32m    528\u001b[0m     \u001b[1;32mdef\u001b[0m \u001b[0m_call_linear_np\u001b[0m\u001b[1;33m(\u001b[0m\u001b[0mself\u001b[0m\u001b[1;33m,\u001b[0m \u001b[0mx_new\u001b[0m\u001b[1;33m)\u001b[0m\u001b[1;33m:\u001b[0m\u001b[1;33m\u001b[0m\u001b[0m\n\u001b[0;32m    529\u001b[0m         \u001b[1;31m# Note that out-of-bounds values are taken care of in self._evaluate\u001b[0m\u001b[1;33m\u001b[0m\u001b[1;33m\u001b[0m\u001b[0m\n\u001b[1;32m--> 530\u001b[1;33m         \u001b[1;32mreturn\u001b[0m \u001b[0mnp\u001b[0m\u001b[1;33m.\u001b[0m\u001b[0minterp\u001b[0m\u001b[1;33m(\u001b[0m\u001b[0mx_new\u001b[0m\u001b[1;33m,\u001b[0m \u001b[0mself\u001b[0m\u001b[1;33m.\u001b[0m\u001b[0mx\u001b[0m\u001b[1;33m,\u001b[0m \u001b[0mself\u001b[0m\u001b[1;33m.\u001b[0m\u001b[0my\u001b[0m\u001b[1;33m)\u001b[0m\u001b[1;33m\u001b[0m\u001b[0m\n\u001b[0m\u001b[0;32m    531\u001b[0m \u001b[1;33m\u001b[0m\u001b[0m\n\u001b[0;32m    532\u001b[0m     \u001b[1;32mdef\u001b[0m \u001b[0m_call_linear\u001b[0m\u001b[1;33m(\u001b[0m\u001b[0mself\u001b[0m\u001b[1;33m,\u001b[0m \u001b[0mx_new\u001b[0m\u001b[1;33m)\u001b[0m\u001b[1;33m:\u001b[0m\u001b[1;33m\u001b[0m\u001b[0m\n",
      "\u001b[1;32mc:\\users\\adam green\\anaconda3\\lib\\site-packages\\numpy\\lib\\function_base.py\u001b[0m in \u001b[0;36minterp\u001b[1;34m(x, xp, fp, left, right, period)\u001b[0m\n\u001b[0;32m   1672\u001b[0m             \u001b[1;32mreturn\u001b[0m \u001b[0mcompiled_interp\u001b[0m\u001b[1;33m(\u001b[0m\u001b[1;33m[\u001b[0m\u001b[0mx\u001b[0m\u001b[1;33m]\u001b[0m\u001b[1;33m,\u001b[0m \u001b[0mxp\u001b[0m\u001b[1;33m,\u001b[0m \u001b[0mfp\u001b[0m\u001b[1;33m,\u001b[0m \u001b[0mleft\u001b[0m\u001b[1;33m,\u001b[0m \u001b[0mright\u001b[0m\u001b[1;33m)\u001b[0m\u001b[1;33m.\u001b[0m\u001b[0mitem\u001b[0m\u001b[1;33m(\u001b[0m\u001b[1;33m)\u001b[0m\u001b[1;33m\u001b[0m\u001b[0m\n\u001b[0;32m   1673\u001b[0m         \u001b[1;32melse\u001b[0m\u001b[1;33m:\u001b[0m\u001b[1;33m\u001b[0m\u001b[0m\n\u001b[1;32m-> 1674\u001b[1;33m             \u001b[1;32mreturn\u001b[0m \u001b[0mcompiled_interp\u001b[0m\u001b[1;33m(\u001b[0m\u001b[0mx\u001b[0m\u001b[1;33m,\u001b[0m \u001b[0mxp\u001b[0m\u001b[1;33m,\u001b[0m \u001b[0mfp\u001b[0m\u001b[1;33m,\u001b[0m \u001b[0mleft\u001b[0m\u001b[1;33m,\u001b[0m \u001b[0mright\u001b[0m\u001b[1;33m)\u001b[0m\u001b[1;33m\u001b[0m\u001b[0m\n\u001b[0m\u001b[0;32m   1675\u001b[0m     \u001b[1;32melse\u001b[0m\u001b[1;33m:\u001b[0m\u001b[1;33m\u001b[0m\u001b[0m\n\u001b[0;32m   1676\u001b[0m         \u001b[1;32mif\u001b[0m \u001b[0mperiod\u001b[0m \u001b[1;33m==\u001b[0m \u001b[1;36m0\u001b[0m\u001b[1;33m:\u001b[0m\u001b[1;33m\u001b[0m\u001b[0m\n",
      "\u001b[1;31mKeyboardInterrupt\u001b[0m: "
     ]
    }
   ],
   "source": [
    "def SumOverR(element, m_X, m_A):\n",
    "    tempSum = 0\n",
    "    for i in range(0,len(radiusList)):\n",
    "        r = radiusList[i]\n",
    "        deltaR = deltaRList[i]\n",
    "        n_N = numDensityList(element)[i]\n",
    "        summand = n_N * r**2 * IntDuDEr(element, m_X, m_A, i) * deltaR\n",
    "        tempSum += summand\n",
    "    return tempSum\n",
    "\n",
    "def SumOverRApprox(element, m_X):\n",
    "    tempSum = 0\n",
    "    for i in range(0,len(radiusList)):\n",
    "        r = radiusList[i]\n",
    "        deltaR = deltaRList[i]\n",
    "        n_N = numDensityList(element)[i]\n",
    "#         summand = n_N * r**2 * IntDuDErApprox(element, m_X, i) * deltaR\n",
    "        summand = n_N * r**2 * IntDuDErApproxTest(element, m_X, i) * deltaR\n",
    "        tempSum += summand\n",
    "    return tempSum\n",
    "\n",
    "# print (SumOverR('Fe56', 1000, 1))\n",
    "# print (SumOverRApprox('Fe56', 1000))\n",
    "\n",
    "print ('Complete')"
   ]
  },
  {
   "cell_type": "markdown",
   "metadata": {
    "collapsed": true
   },
   "source": [
    "## Full Capture Rate: $C^N_{cap}$\n",
    "The final step is to tack on all of the removed factors and calculate the full capture rate:\n",
    "\n",
    "\\begin{align} \n",
    "\\text{fullCap} &= \\left[(4\\pi)(4\\pi)(8\\pi \\epsilon^2 \\alpha_X \\alpha Z_N^2)\\right] n_X \\text{sumOverR} \\\\\n",
    "&= \\left[2(4\\pi)^3(\\epsilon^2 \\alpha_X \\alpha Z_N^2)\\right] n_X \\text{sumOverR}\n",
    "\\end{align}\n",
    "\n",
    "where $[n_X] = \\frac{1}{cm^3}$ and $[sumOverR] = \\frac{1}{GeV^2}$, so $[fullCap] = \\frac{1}{cm^3 GeV^2}$\n",
    "\n",
    "We manually multiply by the following conversions:\n",
    "$$ \\frac{cm \\cdot GeV}{5.06\\times10^{13}} =  1 \\qquad \\text{and} \\qquad \\frac{1.52\\times10^{24}}{GeV\\cdot s} = 1$$\n",
    "\n",
    "For future reference:\n",
    "$$ \\text{fullCapApprox} = 2(4\\pi)^3 \\left(\\frac{\\epsilon^2}{m_A^4}\\alpha_X \\alpha Z_N^2\\right) n_X \\text{sumOverRApprox} $$"
   ]
  },
  {
   "cell_type": "code",
   "execution_count": 92,
   "metadata": {},
   "outputs": [
    {
     "name": "stdout",
     "output_type": "stream",
     "text": [
      "Full m_A = 1: 216429772.2821883\n",
      "Approx m_A = 1: 216446734.30271104\n",
      "Complete\n"
     ]
    }
   ],
   "source": [
    "def fullCap(element, m_X, m_A, epsilon, alpha, alpha_X):\n",
    "    Z_N = nProtons[element]\n",
    "    n_X = 0.3/m_X\n",
    "    \n",
    "    conversion = (5.06e13)**-3 * (1.52e24)\n",
    "    prefactor = 2 * (4*np.pi)**3 * epsilon**2 * alpha_X * alpha * Z_N**2 * conversion\n",
    "    \n",
    "    return n_X * prefactor * SumOverR(element, m_X, m_A)\n",
    "\n",
    "# CCapFlip[(n), alphaX, epsilon, m_X, m_A]\n",
    "# These are the values from ArXiV: 1509.07525v2 Flip Earth paper\n",
    "CCapFlip0 = {# CCapFlip[(n), alphaX = 0.035, epsilon = 10e-8, m_X = 1000, m_A = 1]\n",
    "    'O16': 4.03e5,\n",
    "    'Si28': 2.24e6,\n",
    "    'Mg24': 1.05e6,\n",
    "    'Fe56': 9.43e7,\n",
    "    'Ca40': 9.06e5,\n",
    "    'P31': 2.04e4,\n",
    "    'S32': 2.41e5,\n",
    "    'Ni58': 7.10e6,\n",
    "    'Al27': 1.62e5,\n",
    "    'Cr52': 8.98e5 \n",
    "}\n",
    "\n",
    "def fullCapApprox(element, m_X, m_A, epsilon, alpha, alpha_X):\n",
    "    Z_N = nProtons[element]\n",
    "    n_X = 0.3/m_X\n",
    "    \n",
    "    conversion = (5.06e13)**-3 * (1.52e24)\n",
    "    # Only change is multiplied by m_A**-4 here instead of earlier\n",
    "    prefactor = 2 * (4*np.pi)**3 * epsilon**2 * m_A**(-4) * alpha_X * alpha * Z_N**2 * conversion\n",
    "\n",
    "    function =  n_X * prefactor * SumOverRApprox(element, m_X)\n",
    "    return function\n",
    "\n",
    "\n",
    "\n",
    "a1=fullCap('Fe56', 100., 1, 10**-9, 1./137, 0.035)\n",
    "a2=fullCapApprox('Fe56', 100., 1, 10**-9, 1./137, 0.035)\n",
    "# b1=fullCap('O16', 1000., .1, 10**-8, 1./137, 0.035)\n",
    "# b2=fullCapApprox('O16', 1000., 0.1, 10**-8, 1./137, 0.035)\n",
    "# c1=fullCap('O16', 1000., 1, 10**-8, 1./137, 0.035)\n",
    "# c2=fullCapApprox('O16', 1000., 1, 10**-8, 1./137, 0.035)\n",
    "# d1=fullCap('O16', 1000., 10, 10**-8, 1./137, 0.035)\n",
    "# d2=fullCapApprox('O16', 1000., 10, 10**-8, 1./137, 0.035)\n",
    "\n",
    "print ('Full m_A = {0}: {1}'.format(1,a1))\n",
    "print ('Approx m_A = {0}: {1}'.format(1,a2))\n",
    "# print ('--------------')\n",
    "# print ('Full m_A = {0}: {1}'.format(0.1,b1))\n",
    "# print ('Approx m_A = {0}: {1}'.format(0.1,b2))\n",
    "# print ('--------------')\n",
    "# print ('Full m_A = {0}: {1}'.format(1,c1))\n",
    "# print ('Approx m_A = {0}: {1}'.format(1,c2))\n",
    "# print ('--------------')\n",
    "# print ('Full m_A = {0}: {1}'.format(10,d1))\n",
    "# print ('Approx m_A = {0}: {1}'.format(10,d2))\n",
    "# print ('--------------')\n",
    "\n",
    "\n",
    "print ('Complete')"
   ]
  },
  {
   "cell_type": "code",
   "execution_count": null,
   "metadata": {},
   "outputs": [],
   "source": [
    "def percentDiff(arg1, arg2):\n",
    "    function = ((arg2-arg1)/arg1) * 100\n",
    "    return function\n",
    "\n",
    "print percentDiff()\n",
    "print (percentDiff(a1,a2))\n",
    "# print (percentDiff(b1,b2))\n",
    "# print (percentDiff(c1,c2))\n",
    "# print (percentDiff(d1,d2))\n",
    "\n",
    "print ('Complete')"
   ]
  },
  {
   "cell_type": "markdown",
   "metadata": {},
   "source": [
    "# Total Capture Rate:\n",
    "\n",
    "Finally, we arrive at the full capture rate. \n",
    "\n",
    "CCap gives the total capture rate for dark matter mass $m_X$ in GeV, mediator mass $m_A$ in GeV, kinetic mixing parameter $\\epsilon$, and $\\alpha = \\frac{1}{137}$"
   ]
  },
  {
   "cell_type": "code",
   "execution_count": 39,
   "metadata": {},
   "outputs": [
    {
     "name": "stdout",
     "output_type": "stream",
     "text": [
      "Complete\n"
     ]
    }
   ],
   "source": [
    "def alphaTherm(m_X, m_A):\n",
    "    function = 2* 2.2e-26 * (5.06e13)**3/ (1.52e24) * (m_X**2/np.pi) \\\n",
    "    * (1 - 0.5*(m_A/m_X)**2)**2 / ((1 - (m_A/m_X)**2)**(3./2))\n",
    "    return np.sqrt(function)\n",
    "\n",
    "def CCap(m_X, m_A, epsilon, alpha):\n",
    "    alpha_X = alphaTherm(m_X, m_A) \n",
    "    totalCap = 0\n",
    "    for element in elementList:\n",
    "        totalCap += fullCap(element, m_X, m_A, epsilon, alpha, alpha_X)\n",
    "    return totalCap\n",
    "\n",
    "def CCapApprox(m_X, m_A, epsilon, alpha):\n",
    "    alpha_X = alphaTherm(m_X, m_A)\n",
    "    totalCap = 0\n",
    "    for element in elementList:\n",
    "        totalCap += fullCapApprox(element, m_X, m_A, epsilon, alpha, alpha_X)\n",
    "    return totalCap\n",
    "\n",
    "\n",
    "# a1 = CCap(1000., 0.01, 10**-8, 1./137)\n",
    "# a2 = CCapApprox(1000., 0.01, 10**-8, 1./137)\n",
    "# b1 = CCap(1000., 0.1, 10**-8, 1./137)\n",
    "# b2 = CCapApprox(1000., 0.1, 10**-8, 1./137)\n",
    "# c1 = CCap(1000., 1, 10**-8, 1./137)\n",
    "# c2 = CCapApprox(1000., 1, 10**-8, 1./137)\n",
    "# d1 = CCap(1000., 10, 10**-8, 1./137)\n",
    "# d2 = CCapApprox(1000., 10, 10**-8, 1./137)\n",
    "\n",
    "# print ('m_A = {0} Full: {1} Approx: {2}'.format(0.01,a1,a2))\n",
    "# print ('m_A = {0} Full: {1} Approx: {2}'.format(0.1,b1,b2))\n",
    "# print ('m_A = {0} Full: {1} Approx: {2}'.format(1,c1,c2))\n",
    "# print ('m_A = {0} Full: {1} Approx: {2}'.format(10,d1,d2))\n",
    "\n",
    "print ('Complete')"
   ]
  },
  {
   "cell_type": "markdown",
   "metadata": {
    "collapsed": true
   },
   "source": [
    "----------"
   ]
  },
  {
   "cell_type": "code",
   "execution_count": null,
   "metadata": {},
   "outputs": [],
   "source": [
    "print (percentDiff(a1,a2))\n",
    "# print (percentDiff(b1,b2))\n",
    "# print (percentDiff(c1,c2))\n",
    "# print (percentDiff(d1,d2))"
   ]
  },
  {
   "cell_type": "markdown",
   "metadata": {},
   "source": [
    "# Annihilation Rate\n",
    "\n",
    "Recall the solution to the differential equation:\n",
    "$$ \\frac{dN_X}{dt} = C_{cap} - N_X^2 C_{ann} $$\n",
    "is given by:\n",
    "$$ \\Gamma_{ann} = \\frac{1}{2} C_{cap}\\tanh^2\\frac{\\tau_{\\oplus}}{\\tau} = \\frac{1}{2}C_{ann}N_X^2$$\n",
    "\n",
    "So we need an expression for $C_{ann}$\n"
   ]
  },
  {
   "cell_type": "markdown",
   "metadata": {
    "collapsed": true
   },
   "source": [
    "### Annihilation Rate: $C_{ann}$\n",
    "From Equation 22, $C_{ann}$ is given by:\n",
    "$$ C_{ann} = \\langle \\sigma_{ann}v \\rangle \\left[ \\frac{G_Nm_X\\rho_{\\oplus}}{3T_{\\oplus}} \\right] $$\n",
    "\n",
    "with $\\rho_{\\oplus} \\approx 13 \\frac{g}{cm^3}$ and $T_{\\oplus} \\approx 5700K$\n",
    "\n",
    "Further explanation...."
   ]
  },
  {
   "cell_type": "markdown",
   "metadata": {
    "collapsed": true
   },
   "source": [
    "## Thermally Averaged Cross Section: $\\langle \\sigma_{ann}v \\rangle$\n",
    "\n",
    "$$ \\langle \\sigma_{ann}v \\rangle = (\\sigma_{ann}v)_{tree} \\langle S_S \\rangle $$\n",
    "\n",
    "where:\n",
    "\n",
    "$$ (\\sigma_{ann}v)_{tree} = \\frac{\\pi \\alpha_X^2 [1-m_{A'}^2/m_X^2]^{3/2} }{m_X^2 [1-m_{A'}^2/(2m_X^2)]^2} $$\n",
    "\n",
    "and the Sommerfeld enhancement $S_S$ is given by:\n",
    "$$ S_S = \\frac{\\pi}{a} \\frac{\\sinh(2\\pi ac)}{\\cosh(2\\pi ac) - \\cos(2\\pi \\sqrt{c-(ac)^2}) } $$\n",
    "\n",
    "Thermal Average Sommerfeld:\n",
    "$$ \\langle S_S \\rangle = \\int \\frac{d^3 v}{(2\\pi v_0^2)^{3/2}} \\ e^{-\\frac{1}{2}v^2/v_0^2} \\ S_S $$\n",
    "\n",
    "where $ a= \\frac{v}{2\\alpha_X} $ and $c=6\\alpha_X \\frac{m_X}{\\pi^2m_{A'}}$\n",
    "\n",
    "$ v_0 = \\sqrt{2T_{\\oplus}m_X} $\n"
   ]
  },
  {
   "cell_type": "code",
   "execution_count": 69,
   "metadata": {},
   "outputs": [
    {
     "name": "stdout",
     "output_type": "stream",
     "text": [
      "4.137440183421645e-69\n"
     ]
    }
   ],
   "source": [
    "conversion = (Gnat * rhoCross/(3*Tcross))**(1.5)\n",
    "print (conversion)"
   ]
  },
  {
   "cell_type": "markdown",
   "metadata": {},
   "source": [
    "Check $G_N$ conversion again and again\n",
    "\n",
    "Annihilation Rate Checks with Flip to Less than 1%. Verified on 7/4/17"
   ]
  },
  {
   "cell_type": "code",
   "execution_count": 94,
   "metadata": {
    "scrolled": true
   },
   "outputs": [
    {
     "name": "stdout",
     "output_type": "stream",
     "text": [
      "1.55164500298e-74\n",
      "-46\n",
      "Complete\n"
     ]
    }
   ],
   "source": [
    "# Gnat = 1.01218e-14 # GeV^-3 flip claims its about 7**-39 GeV^-2\n",
    "Gnat = 6.7e-39\n",
    "\n",
    "# rhoCross = 13. # g/cm^3\n",
    "# rhoCross = 5.63934e-17 # GeV^4\n",
    "rhoCross = 5.67e-17\n",
    "\n",
    "# Tcross = 5700. # K -> GeV\n",
    "Tcross = 4.9134e-10 # GeV\n",
    "\n",
    "tauCross = yr2s(4.5e9)  #sec\n",
    "\n",
    "\n",
    "\n",
    "\n",
    "def v0func(m_X):\n",
    "    return np.sqrt(2*Tcross/m_X)\n",
    "\n",
    "# Eqn 24\n",
    "def sigmaVtree(m_X , m_A, alpha_X): \n",
    "    numerator = (1 - (m_A/m_X)**2)**1.5\n",
    "    denominator = ( 1-0.5*(m_A/m_X)**2)**2\n",
    "    prefactor = np.pi*(alpha_X/m_X)**2\n",
    "    \n",
    "    function = prefactor*numerator/denominator\n",
    "    return function\n",
    "\n",
    "# Eqn 25\n",
    "def sommerfeld(v, m_X, m_A, alpha_X):\n",
    "    a = v/(2*alpha_X)\n",
    "    c = 6*alpha_X*m_X/(np.pi**2*m_A)    \n",
    "\n",
    "#     print ('a: {0}, c: {1}'.format(a,c))\n",
    "        # This function doesn't work\n",
    "#     function = np.pi/a * np.sinh(2*np.pi*a*c) / \\\n",
    "#         (np.cosh(2*np.pi*a*c) - np.cos(2*np.pi*np.abs(np.sqrt(c-(a*c)**2) ) )) \n",
    "    \n",
    "    # The kludge is to absolute value the argument of the square root\n",
    "    function = np.pi/a * np.sinh(2*np.pi*a*c) / \\\n",
    "        (np.cosh(2*np.pi*a*c) - np.cos(2*np.pi*np.abs(np.sqrt(np.abs(c-(a*c)**2)) ) )) \n",
    "\n",
    "    return function\n",
    "\n",
    "    \n",
    "# Eqn 26\n",
    "def thermAvgSommerfeld(m_X, m_A, alpha_X):\n",
    "    alpha_X = alphaTherm(m_X, m_A)\n",
    "    v0 = v0func(m_X)    \n",
    "    \n",
    "    def integrand(v):\n",
    "        # We do d^3v in spherical in velocity space.\n",
    "        # d^3v = v^2 dv * d(Omega)\n",
    "        prefactor = 4*np.pi/(2*np.pi*v0**2)**(1.5)\n",
    "#         function = prefactor * v**2 * np.exp(-0.5*(v/v0)**2) * sommerfeld(v, m_X, m_A, alpha_X)\n",
    "#         function = prefactor * np.exp(-0.5*(v/v0)**2)\n",
    "        function = sommerfeld(v, m_X, m_A, alpha_X)\n",
    "        return function\n",
    "    \n",
    "    lowV = 0\n",
    "    # Python doesn't like it when you integrate to infinity, so we integrate out to 5 standard deviations\n",
    "    highV = 5*np.sqrt(v0func(m_X))\n",
    "\n",
    "    integral = integrate.quad(integrand, lowV, highV)\n",
    "    return integral[0]\n",
    "\n",
    "     \n",
    "# Eqn 23\n",
    "def thermAvgCrossSectionV(m_X, m_A):\n",
    "    alpha_X = alphaTherm(m_X, m_A)\n",
    "    function = sigmaVtree(m_X , m_A, alpha_X) * thermAvgSommerfeld(m_X , m_A, alpha_X)\n",
    "    return function\n",
    "\n",
    "\n",
    "def CAnn(m_X, m_A):\n",
    "    alpha_X = alphaTherm(m_X, m_A)\n",
    "    prefactor = (Gnat*m_X*rhoCross/(3*Tcross) )**(3./2)\n",
    "#     conversion = 1.52e24\n",
    "#     print ('Prefactor less m_X: {0}'.format(prefactor/m_X**(3/2)))\n",
    "    function = prefactor * sigmaVtree(m_X, m_A, alpha_X)\n",
    "#     print (sigmaVtree(m_X, m_A, alpha_X))\n",
    "    return function\n",
    "\n",
    "\n",
    "def CAnnSomm(m_X, m_A):\n",
    "    alpha_X = alphaTherm(m_X, m_A)\n",
    "    prefactor = (Gnat*m_X*rhoCross/(3*Tcross) )**(3./2)\n",
    "    conversion = (1.52e24)\n",
    "    function = prefactor * conversion * sigmaVtree(m_X, m_A, alpha_X) * thermAvgSommerfeld(m_X, m_A, alpha_X)\n",
    "    return function\n",
    "\n",
    "\n",
    "# Use this one in the actual calculations\n",
    "def CAnnCalc(m_X, m_A, sigmaVtree):\n",
    "    alpha_X = alphaTherm(m_X, m_A)\n",
    "    prefactor = (Gnat*m_X*rhoCross/(3*Tcross) )**(3./2)\n",
    "    conversion = (1.52e24)**-(1/2)\n",
    "    function = prefactor * conversion * sigmaVtree\n",
    "    return function\n",
    "\n",
    "\n",
    "def CAnnSommCalc(m_X, m_A, sigmaVtree, thermAvgSomm):\n",
    "    alpha_X = alphaTherm(m_X, m_A)\n",
    "    prefactor = (Gnat*m_X*rhoCross/(3*Tcross) )**(3./2)\n",
    "    conversion = (1.52e24)**-(1/2)\n",
    "    function = prefactor * conversion * sigmaVtree * thermAvgSomm\n",
    "    return function\n",
    "\n",
    "def tau(capture, annihilation):\n",
    "    function = 1./np.sqrt(capture*annihilation)\n",
    "    return function\n",
    "    \n",
    "# print ('Thermal Relic: {0}'.format(alphaTherm(100.,0.01))) # axth\n",
    "# print ('V0: {0}'.format(v0func(100.)) )# v0\n",
    "# print ('TreeCross: {0}'.format(sigmaVtree(100., 0.01, alphaTherm(100.,0.01))) )# sigmavTree\n",
    "# print ('Sommerfeld: {0}'.format(sommerfeld(v0func(100),100,0.01, alphaTherm(100,0.01)))) #Ss\n",
    "# print ('ThermAvgSommer: {0}'.format(thermAvgSommerfeld(100.,0.01, alphaTherm(100.,0.01)))) # Sav \n",
    "# print ('ThermAvgCross: {0}'.format(thermAvgCrossSectionV(100,0.01))) \n",
    "# print ('AnnihilationRate: {0}'.format(CAnnSomm(100., 0.01)))\n",
    "\n",
    "# print ('test: {0}: '.format(test(v0func(100),100.,0.01,)))\n",
    "# print ('thermAvgSommerfeld: {0}'.format(thermAvgSommerfeld(100,1,alphaTherm(100,1))))\n",
    "# print ('CAnnSomm: {0}'.format(CAnnSomm(100.,0.01)))\n",
    "# print ('CAnn: {0}'.format(CAnn(100.,0.01)))\n",
    "\n",
    "print (CAnn(100,0.1))\n",
    "\n",
    "# print (CAnn(1,0))\n",
    "# alpha_XTemp = alphaTherm(1000,1)\n",
    "# print (sigmaVtree(1000, 1, alpha_XTemp))\n",
    "# alpha_XT = alphaTherm(1000,0)\n",
    "# print (sigmaVtree(1000,0,alpha_XT))\n",
    "print ('Complete')"
   ]
  },
  {
   "cell_type": "markdown",
   "metadata": {},
   "source": [
    "for $\\epsilon = 2\\times10^{-9}$, $mA = 0.1 GeV$, $m_X = 100 GeV$, we should hit the $\\tau/\\tau_{\\oplus} = 10^2$ contour"
   ]
  },
  {
   "cell_type": "code",
   "execution_count": 95,
   "metadata": {},
   "outputs": [
    {
     "name": "stdout",
     "output_type": "stream",
     "text": [
      "954982835729.0\n",
      "1.55164500298e-74\n",
      "8.21497097781e+30\n"
     ]
    }
   ],
   "source": [
    "testCapture = CCap(100, 0.1, 2e-9, 1./137)\n",
    "testAnn = CAnn(100, 0.1)\n",
    "testTau = tau(testCapture,testAnn)\n",
    "print (testCapture)\n",
    "print(testAnn)\n",
    "print (testTau)"
   ]
  },
  {
   "cell_type": "code",
   "execution_count": 96,
   "metadata": {},
   "outputs": [
    {
     "name": "stdout",
     "output_type": "stream",
     "text": [
      "5.78494605159e+13\n"
     ]
    }
   ],
   "source": [
    "print (testTau/tauCross)"
   ]
  },
  {
   "cell_type": "markdown",
   "metadata": {},
   "source": [
    "------------\n",
    "# Generate contour data files\n",
    "\n"
   ]
  },
  {
   "cell_type": "markdown",
   "metadata": {},
   "source": [
    "## Define FilePath Functions\n",
    "These functions define the path of the data files to keep the main CCap folder organized"
   ]
  },
  {
   "cell_type": "code",
   "execution_count": 75,
   "metadata": {},
   "outputs": [
    {
     "name": "stdout",
     "output_type": "stream",
     "text": [
      "Complete\n"
     ]
    }
   ],
   "source": [
    "def CCapPath(file):\n",
    "    path = 'CCapData/' + file\n",
    "    return path\n",
    "\n",
    "def sommerfeldPath(file):\n",
    "    path = 'SommerfeldData/' + file\n",
    "    return path\n",
    "\n",
    "def contourPath(file):\n",
    "    path = 'ContourData/' + file\n",
    "    return path\n",
    "\n",
    "print ('Complete')"
   ]
  },
  {
   "cell_type": "markdown",
   "metadata": {},
   "source": [
    "## Initialize the Arrays and associated dataFrame objects\n",
    "mARange and epsilonRange specify the range of parameter values we want to scan over\n",
    "https://docs.scipy.org/doc/numpy/reference/generated/numpy.logspace.html"
   ]
  },
  {
   "cell_type": "code",
   "execution_count": null,
   "metadata": {},
   "outputs": [],
   "source": [
    "#########################################\n",
    "# Define parameter space Ranges\n",
    "#########################################\n",
    "# Linear Spacing\n",
    "# mALinRange = np.linspace(0.01, 10.0, 20)\n",
    "# epsilonLinRange = np.linspace(10**-10, 10**-5, 20)\n",
    "\n",
    "# Logarithmic Spacing\n",
    "mALogRange = np.logspace(-2, 1, 10, base = 10)\n",
    "epsilonLogRange = np.logspace(-10, -5, 10, base = 10)\n",
    "\n",
    "\n",
    "#########################################\n",
    "# Initialize Master Arrays\n",
    "#########################################\n",
    "masterLinArray = []\n",
    "masterLogArray = []\n",
    "\n",
    "\n",
    "#########################################\n",
    "# Populate the Master Arrays with the column headers and 'None' Cells\n",
    "#########################################\n",
    "\n",
    "# counter = 0\n",
    "# for epsilonTemp in epsilonLinRange:\n",
    "#     for mATemp in mALinRange:\n",
    "#         masterLinArray.append([counter,epsilonTemp,mATemp,'None'])\n",
    "#         counter += 1\n",
    "\n",
    "counter = 0\n",
    "for mATemp2 in mALogRange:\n",
    "    for epsilonTemp2 in epsilonLogRange:\n",
    "        masterLogArray.append([counter, ' ', mATemp2, epsilonTemp2,'None','None','None','None','None','None','None'])\n",
    "        counter += 1\n",
    "\n",
    "        \n",
    "#########################################\n",
    "# Create a PANDAS DataFrame from the Master Arrays\n",
    "#########################################\n",
    "\n",
    "# masterLinDataFrame = pd.DataFrame(data = masterLinArray, columns=['Counter', 'mA', 'Epsilon', 'Tau_TauCross'])\n",
    "masterLogDataFrame = pd.DataFrame(data = masterLogArray, \\\n",
    "    columns=['Counter', 'mX', 'mA', 'Epsilon',\\\n",
    "             'Capture',\\\n",
    "             'SigmaV','SommerfeldAvg','Annihilation', 'AnnihilationSomm',\\\n",
    "             'Tau_TauCross', 'Tau_TauCrossSomm'])\n",
    "\n",
    "print ('Complete')"
   ]
  },
  {
   "cell_type": "markdown",
   "metadata": {},
   "source": [
    "## Write the blank dataframe to an external .csv file\n",
    "\n",
    "TO DO: search directory for file, if found, raise flag."
   ]
  },
  {
   "cell_type": "code",
   "execution_count": null,
   "metadata": {},
   "outputs": [],
   "source": [
    "# LinFilename = input('LinFilename: ')\n",
    "# index = LinFilename.find('.')\n",
    "# LinFilenamecopy = LinFilename[:index] + '_copy' + LinFilename[index:]\n",
    "\n",
    "LogFilename = input('LogFilename: ')\n",
    "writeFile = contourPath(LogFilename)\n",
    "\n",
    "index = LogFilename.find('.')\n",
    "LogFilenamecopy = LogFilename[:index] + '_copy' + LogFilename[index:]\n",
    "\n",
    "# masterLinDataFrame.to_csv(LinFilename, index=False)\n",
    "masterLogDataFrame.to_csv(writeFile, index=False)\n",
    "\n",
    "\n",
    "print ('Complete')"
   ]
  },
  {
   "cell_type": "markdown",
   "metadata": {},
   "source": [
    "## Define Contour File $m_X$ value"
   ]
  },
  {
   "cell_type": "code",
   "execution_count": null,
   "metadata": {
    "collapsed": true
   },
   "outputs": [],
   "source": [
    "filename = input('File Name: ')\n",
    "writeFile = contourPath(filename)\n",
    "index = filename.find('.')\n",
    "filenamecopy = filename[:index] + '_copy' + filename[index:]\n",
    "\n",
    "dataFrame = pd.read_csv(writeFile , sep = ',')\n",
    "\n",
    "m_XValue = float(input('m_X: '))\n",
    "\n",
    "dataFrame.set_value(0, 'mX', m_XValue)\n",
    "dataFrame.to_csv(writeFile, index=False)\n",
    "\n",
    "print ('Complete')"
   ]
  },
  {
   "cell_type": "markdown",
   "metadata": {},
   "source": [
    "------------\n",
    "## Contour File Sanity Check\n",
    "Sanity Check\n",
    "\n",
    "This cell serves as a sanity check to ensure that the .csv file contains what you expect it to\n",
    "\n",
    "Current working file:\n",
    "    - 100GeVHuge.csv\n"
   ]
  },
  {
   "cell_type": "code",
   "execution_count": null,
   "metadata": {
    "collapsed": true
   },
   "outputs": [],
   "source": [
    "filename = input('Filename: ')\n",
    "writeFile = contourPath(filename)\n",
    "index = filename.find('.')\n",
    "filenamecopy = filename[:index] + '_copy' + filename[index:]\n",
    "writeFileCopy = contourPath(filenamecopy)\n",
    "\n",
    "print (pd.read_csv(writeFile, sep = ','))\n",
    "print ('Complete')"
   ]
  },
  {
   "cell_type": "markdown",
   "metadata": {},
   "source": [
    "## Read In CCap file and create interpolation\n",
    "\n",
    "Working CCapFile:\n",
    "    - 100GevCCap2500.csv"
   ]
  },
  {
   "cell_type": "code",
   "execution_count": null,
   "metadata": {
    "collapsed": true
   },
   "outputs": [],
   "source": [
    "CCapDataFile = input('CCap File:')\n",
    "readFile = CCapPath(CCapDataFile)\n",
    "rawData = pd.read_csv(readFile)\n",
    "# print (rawData)\n",
    "\n",
    "xMin = min(rawData['mA'])\n",
    "xMax = max(rawData['mA'])\n",
    "yMin = min(rawData['Epsilon'])\n",
    "yMax = max(rawData['Epsilon'])\n",
    "\n",
    "\n",
    "xData = np.transpose([rawData['mA']])\n",
    "yData = np.transpose([rawData['Epsilon']])\n",
    "CCapData = np.transpose([rawData['Capture']])\n",
    "\n",
    "\n",
    "xData1 = xData.squeeze()\n",
    "yData1 = yData.squeeze()\n",
    "CCapData1 = np.transpose([rawData['Capture']]).squeeze()\n",
    "\n",
    "CCapInterp = interpolate.LinearNDInterpolator((xData1,yData1),CCapData1)\n",
    "\n",
    "print ('Complete')"
   ]
  },
  {
   "cell_type": "markdown",
   "metadata": {},
   "source": [
    "## Read-in, Calculate, and Overwrite csv\n",
    "\n",
    "The following cell:\n",
    "\n",
    "1). Reads in the working dataframe from the previous cell\n",
    "\n",
    "2). Calculates Values\n",
    "\n",
    "3). Appends the calculated values to their spot in the dataframe\n",
    "\n",
    "4). Overwrites the now updated .csv"
   ]
  },
  {
   "cell_type": "code",
   "execution_count": null,
   "metadata": {
    "collapsed": true
   },
   "outputs": [],
   "source": [
    "print (filename)\n",
    "writeFile = contourPath(filename)\n",
    "dataIn = pd.read_csv(writeFile, sep = ',')\n",
    "dataIn.to_csv(writeFileCopy, sep = ',')\n",
    "\n",
    "#########################################\n",
    "# Define loop range\n",
    "#########################################\n",
    "loopRange = range(0,len(dataIn['Counter']))\n",
    "\n",
    "finishedCounter = 1\n",
    "for index in loopRange:\n",
    "    # Scan down 'Capture' column, start calculating at first non-calculated value\n",
    "    testValue = dataIn.loc[index, 'Capture']\n",
    "    if (testValue == 'None'):\n",
    "        \n",
    "        #########################################\n",
    "        # Initialize Parameters\n",
    "        #########################################\n",
    "        m_X = float(dataIn.loc[0,'mX'])\n",
    "        m_ATemp = float(dataIn.loc[index, 'mA'])\n",
    "        epsilonTemp = float(dataIn.loc[index, 'Epsilon'])\n",
    "        alpha = 1./137\n",
    "                        \n",
    "        \n",
    "        ##########################        Calculations       #########################\n",
    "\n",
    "        # alpha_X                       : alphaTherm(m_X,m_ATemp)\n",
    "        # Capture Rate                  : CCap(m_X, m_ATemp, epsilonTemp, 1./137)\n",
    "        # Tree Level Cross Section      : sigmaVtree(m_X , m_ATemp, alpha_X)\n",
    "        # Thermally Averaged Sommerfeld : thermAvgSommerfeld(m_X, m_ATemp, alpha_X)\n",
    "        # Annihilation (no Somm)        : CAnnCalc(m_X, m_ATemp, sigmaVtree)\n",
    "        # AnnihilationSomm (Somm)       : CAnnCalcSomm(m_X, m_ATemp, sigmaVtree, thermAvgSomm)\n",
    "        # Tau (no Somm)                 : tau(capture, annihilation)\n",
    "        # TauSomm (Somm)                : tau(capture, annihilationSomm)\n",
    "        # Tau/TauCross (no Somm)        : Tau/tauCross\n",
    "        # TauSomm/TauCross (Somm)       : TauSomm/tauCross\n",
    "\n",
    "        tauCross = yr2s(4.5e9) #sec\n",
    "        #########################################\n",
    "        # index = 0 Full Calculation\n",
    "        #########################################\n",
    "        if (index == 0):\n",
    "            alpha_X = alphaTherm(m_X, m_ATemp)\n",
    "            capture = CCapInterp(m_ATemp,epsilonTemp)\n",
    "#             capture = CCap(m_X, m_ATemp, epsilonTemp, 1./137) # alpha_x definied by alphaTherm()\n",
    "            sigmaV = sigmaVtree(m_X , m_ATemp, alpha_X)\n",
    "            sommAvg = thermAvgSommerfeld(m_X, m_ATemp, alpha_X)\n",
    "            annihilation = CAnnCalc(m_X, m_ATemp, sigmaV)\n",
    "            annihilationSomm = CAnnSommCalc(m_X, m_ATemp, sigmaV, sommAvg)\n",
    "\n",
    "            Tau = tau(capture,annihilation)\n",
    "            TauSomm = tau(capture,annihilationSomm)\n",
    "\n",
    "            TauTauCross = Tau/tauCross\n",
    "            TauTauCrossSomm = TauSomm/tauCross\n",
    "\n",
    "            dataIn.set_value(index, 'Capture', capture)\n",
    "            dataIn.set_value(index, 'SigmaV', sigmaV)\n",
    "            dataIn.set_value(index, 'SommerfeldAvg', sommAvg)\n",
    "            dataIn.set_value(index, 'Annihilation', annihilation)\n",
    "            dataIn.set_value(index, 'AnnihilationSomm', annihilationSomm)\n",
    "            dataIn.set_value(index, 'Tau_TauCross', TauTauCross)\n",
    "            dataIn.set_value(index, 'Tau_TauCrossSomm', TauTauCrossSomm)\n",
    "            \n",
    "            \n",
    "        #########################################\n",
    "        # m_A not unique -> Minimal Calculation\n",
    "        #########################################\n",
    "        elif(m_ATemp == float(dataIn.loc[index-1, 'mA'])):\n",
    "#           Store previous data\n",
    "            sigmaVPrev = float(dataIn.loc[index-1,'SigmaV'])\n",
    "            sommAvgPrev = float(dataIn.loc[index-1,'SommerfeldAvg'])\n",
    "            annihilationPrev = float(dataIn.loc[index-1,'Annihilation'])\n",
    "            annihilationSommPrev = float(dataIn.loc[index-1,'AnnihilationSomm'])\n",
    "#           Update Current data\n",
    "            capture = CCapInterp(m_ATemp,epsilonTemp)\n",
    "#             capture = CCap(m_X, m_ATemp, epsilonTemp, 1./137)\n",
    "            sigmaV = sigmaVPrev\n",
    "            sommAvg = sommAvgPrev\n",
    "            annihilation = annihilationPrev\n",
    "            annihilationSomm = annihilationSommPrev\n",
    "            \n",
    "            Tau = tau(capture,annihilation)\n",
    "            TauSomm = tau(capture,annihilationSomm)\n",
    "\n",
    "            TauTauCross = Tau/tauCross\n",
    "            TauTauCrossSomm = TauSomm/tauCross\n",
    "            \n",
    "            #########################################\n",
    "            # Overwrite current index in data file\n",
    "            #########################################\n",
    "            dataIn.set_value(index, 'Capture', capture)\n",
    "            dataIn.set_value(index, 'SigmaV', sigmaV)\n",
    "            dataIn.set_value(index, 'SommerfeldAvg', sommAvg)\n",
    "            dataIn.set_value(index, 'Annihilation', annihilation)\n",
    "            dataIn.set_value(index, 'AnnihilationSomm', annihilationSomm)\n",
    "            dataIn.set_value(index, 'Tau_TauCross', TauTauCross)\n",
    "            dataIn.set_value(index, 'Tau_TauCrossSomm', TauTauCrossSomm)\n",
    "            \n",
    "        #########################################\n",
    "        # m_A unique -> Full Calculations\n",
    "        #########################################\n",
    "        elif(m_ATemp != float(dataIn.loc[index-1,'mA'])):\n",
    "            alpha_X = alphaTherm(m_X, m_ATemp)\n",
    "            capture = CCapInterp(m_ATemp,epsilonTemp)\n",
    "#             capture = CCap(m_X, m_ATemp, epsilonTemp, 1./137) # alpha_x definied by alphaTherm()\n",
    "            sigmaV = sigmaVtree(m_X, m_ATemp, alpha_X)\n",
    "            sommAvg = thermAvgSommerfeld(m_X, m_ATemp, alpha_X)\n",
    "            annihilation = CAnnCalc(m_X, m_ATemp, sigmaV)\n",
    "            annihilationSomm = CAnnSommCalc(m_X, m_ATemp, sigmaV, sommAvg)\n",
    "\n",
    "            Tau = tau(capture,annihilation)\n",
    "            TauSomm = tau(capture,annihilationSomm)\n",
    "\n",
    "            TauTauCross = Tau/tauCross\n",
    "            TauTauCrossSomm = TauSomm/tauCross\n",
    "            \n",
    "            #########################################\n",
    "            # Overwrite current index in data file\n",
    "            #########################################\n",
    "            dataIn.set_value(index, 'Capture', capture)\n",
    "            dataIn.set_value(index, 'SigmaV', sigmaV)\n",
    "            dataIn.set_value(index, 'SommerfeldAvg', sommAvg)\n",
    "            dataIn.set_value(index, 'Annihilation', annihilation)\n",
    "            dataIn.set_value(index, 'AnnihilationSomm', annihilationSomm)\n",
    "            dataIn.set_value(index, 'Tau_TauCross', TauTauCross)\n",
    "            dataIn.set_value(index, 'Tau_TauCrossSomm', TauTauCrossSomm)\n",
    "        \n",
    "        ##########################      End Calculations     #########################\n",
    "\n",
    "        \n",
    "        #########################################\n",
    "        # Overwrite csv File\n",
    "        #########################################\n",
    "        dataIn.to_csv(writeFile, sep=',',index=False)        \n",
    "        finishedCounter+=1\n",
    "#         print 'Calculations for index: {0}, (m_A, Epsilon) = ({1},{2}) recorded'.format(index, m_ATemp, epsilonTemp)\n",
    "        if (index % 10 == 0):\n",
    "            print ('Calculations for index: {0} recorded'.format(index))\n",
    "#             print ('Calculations for index: {0}, (m_A, Epsilon) = ({1},{2}) recorded'.format(index, m_ATemp, epsilonTemp))\n",
    "        \n",
    "    elif (testValue != 'None'):\n",
    "        finishedCounter += 1\n",
    "        continue\n",
    "    \n",
    "    if (finishedCounter == len(dataIn['Counter'])):\n",
    "        print ('All Calculations Complete')\n",
    "        break\n",
    "        \n",
    "        \n",
    "dataIn.to_csv(writeFileCopy, sep=',',index=False)\n",
    "    \n",
    "print ('Complete')"
   ]
  },
  {
   "cell_type": "markdown",
   "metadata": {},
   "source": [
    "### Manual Overwrite just for good measure"
   ]
  },
  {
   "cell_type": "code",
   "execution_count": null,
   "metadata": {},
   "outputs": [],
   "source": [
    "print (filename)\n",
    "writeFile = contourPath(filename)\n",
    "writeFileCopy = contourPath(filenamecopy)\n",
    "dataIn.to_csv(writeFile, sep=',',index=False)\n",
    "dataIn.to_csv(writeFileCopy, sep=',',index=False)\n",
    "\n",
    "print ('Complete')"
   ]
  },
  {
   "cell_type": "code",
   "execution_count": null,
   "metadata": {
    "collapsed": true
   },
   "outputs": [],
   "source": []
  },
  {
   "cell_type": "code",
   "execution_count": null,
   "metadata": {
    "collapsed": true
   },
   "outputs": [],
   "source": []
  },
  {
   "cell_type": "code",
   "execution_count": null,
   "metadata": {
    "collapsed": true
   },
   "outputs": [],
   "source": []
  },
  {
   "cell_type": "code",
   "execution_count": null,
   "metadata": {
    "collapsed": true
   },
   "outputs": [],
   "source": []
  },
  {
   "cell_type": "markdown",
   "metadata": {},
   "source": [
    "-----------------"
   ]
  },
  {
   "cell_type": "markdown",
   "metadata": {
    "collapsed": true
   },
   "source": [
    "-------------------\n",
    "# Generating the Resonance Plots Quickly"
   ]
  },
  {
   "cell_type": "markdown",
   "metadata": {},
   "source": [
    "The typical way to generate contour plots is to define a grid in parameter space and evaluate $\\tau$ at every point on the grid. However, this is horribly inefficient. We can increase the efficiency by exploiting the fact that, without the Sommerfeld enhancement, the $\\frac{\\tau}{\\tau_{\\oplus}}$ contours are straight lines in parameter space. A new recipe to generate the $\\frac{\\tau}{\\tau_{\\oplus}}$ is to graph straight lines in parameter space, representing no Sommerfeld enhancement, and then \"turn on\" the Sommerfeld effect. \n",
    "\n",
    "This reduces the dimensinality of the data we are working with from two dimensional with matplotlib.contour() to one dimension via matplotlib.plot().\n",
    "\n",
    "We now seek:\n",
    "\n",
    "1). The slope of the $\\frac{\\tau}{\\tau_{\\oplus}}$ contours as a function of $m_A$ in $\\varepsilon$ - $m_A$ space\n",
    "\n",
    "2). The one-dimensional function $\\varepsilon (m_A)$ in $(\\varepsilon,m_A)$ space\n",
    "\n",
    "3). An expression which includes the Sommerfeld enhancement\n",
    "\n",
    "4). An expression which includes various $\\frac{\\tau}{\\tau_{\\oplus}}$ contour levels"
   ]
  },
  {
   "cell_type": "markdown",
   "metadata": {},
   "source": [
    "Look at max/min values for the DM velocity u given different elements and whatever else it depends on. \n",
    "\n",
    "Based on Appendix A we can make the approximation:\n",
    "$$ 2m_NE_R << m_A^2 $$ \n",
    "\n",
    "which lets us expand the differential cross section in the dimensionless parameter $\\delta = \\frac{2m_NE_R}{m_A^2}$:\n",
    "\\begin{align} \\frac{d\\sigma_N}{dE_R} &= 8\\pi \\epsilon^2 \\alpha_X \\alpha Z_N^2 \\frac{m_N}{(2m_N E_R + m_{A} ^2)^2} \\left| F_N \\right|^2  \\\\\n",
    "& = 8\\pi \\epsilon^2 \\alpha_X \\alpha Z_N^2 \\frac{m_N}{m_A^4} \\frac{1}{(1+\\delta)^2} \\left| F_N \\right|^2  \\\\\n",
    "& \\approx 8\\pi \\epsilon^2 \\alpha_X \\alpha Z_N^2 \\frac{m_N}{m_A^4} \\left[ 1 - 2\\delta + \\mathcal{O}(\\delta^2) \\right] \\left| F_N \\right|^2\n",
    "\\end{align} \n",
    "\n",
    "DO THIS: since delta $\\mathcal{O}(???)$, we take only the leading term in the expansion and can write:\n",
    "\n",
    "$$ \\frac{d\\sigma_N}{dE_R} = 8\\pi \\epsilon^2 \\alpha_X \\alpha Z_N^2 \\frac{m_N}{m_A^4} \\left| F_N \\right|^2 $$\n",
    "which is now independent of the recoil energy $E_R$.\n",
    "\n",
    "The other two integrals in the capture rate do not contain any $\\varepsilon$ or $m_A$ dependence, so in the $\\varepsilon - m_A$ plane, the capture rate looks like:\n",
    "\\begin{align}\n",
    "C_{Cap} &= \\sum_N n_X \\varepsilon^2 m_A^{-4} \\left[ \\int [...] dr \\ \\int [...] du \\ \\int [...] dE_R \\right] \\\\\n",
    "& = n_X \\varepsilon^2 m_A^{-4} \\kappa_0(m_X, \\alpha)\n",
    "\\end{align}\n",
    "\n",
    "where $[n_X m_A^4] = GeV^{-1}$\n",
    "\n",
    "where $\\kappa_0$ is a dimensionless number representing the rest of the capture rate given the $2m_NE_R << m_A$ approximation."
   ]
  },
  {
   "cell_type": "markdown",
   "metadata": {
    "collapsed": true
   },
   "source": [
    "We argue that $\\tau$ depends on $m_A$ and $\\varepsilon$ only through $C_{Cap}$ as follows:\n",
    "\n",
    "\\begin{equation} \n",
    "\\tau = \\frac{1}{\\sqrt{C_{Cap}C_{Ann}}} \n",
    "\\end{equation}\n",
    "\n",
    "where we have taken the first term in the $2m_NE_R << m_A^2$ approximation of the differential cross section:\n",
    "\n",
    "\\begin{equation}\n",
    "C_{Cap} \\approx \\varepsilon^2 m_A^{-4} \\kappa_0\n",
    "\\end{equation}\n",
    "\n",
    "\n",
    "so the equilibrium timescale simplifies to:\n",
    "$$ \\tau \\approx \\sqrt{\\frac{m_A^4}{\\varepsilon^2 \\kappa_0}} \\frac{1}{\\sqrt{C_{Ann}}} $$\n",
    "\n",
    "We can now write our one-dimensional $\\varepsilon(m_A)$ funciton as:\n",
    "\\begin{equation}\n",
    "    \\varepsilon = \\frac{m_A^2}{\\tau \\sqrt{\\kappa_0 C_{Ann}}}\n",
    "\\end{equation}"
   ]
  },
  {
   "cell_type": "markdown",
   "metadata": {},
   "source": [
    "To incorporate the sommerfeld enhancement, we write $C_{Ann}$ as:\n",
    "\\begin{align}\n",
    "C_{ann} &= \\left[ \\frac{G_Nm_X\\rho_{\\oplus}}{3T_{\\oplus}} \\right] \\langle \\sigma_{ann}v \\rangle \\\\\n",
    "&= \\mathrm{R}_0 (\\sigma_{ann}v)_{tree} \\langle S_S \\rangle\n",
    "\\end{align}\n",
    "where $\\mathrm{R}_0 = \\frac{G_N m_X\\rho_{\\oplus}}{3T_{\\oplus}}$ is the conversion.\n",
    "\n",
    "We can write our $\\varepsilon(m_A)$ function as:\n",
    "\n",
    "\\begin{align}\n",
    "\\varepsilon &= \\frac{m_A^2}{\\tau \\sqrt{\\kappa_0 C_{Ann}}} \\\\\n",
    "& = \\frac{m_A^2}{\\tau \\sqrt{\\kappa_0} \\sqrt{\\mathrm{R}_0 (\\sigma_{ann}v)_{tree} \\langle S_S \\rangle}} \\\\\n",
    "&= \\frac{m_A^2}{\\tau \\sqrt{\\kappa_0} \\sqrt{C_{0,Ann} \\langle S_S \\rangle}}\n",
    "\\end{align}\n",
    "\n",
    "where $C_{0,Ann}$ is the annihilation rate without Sommerfeld effects."
   ]
  },
  {
   "cell_type": "markdown",
   "metadata": {},
   "source": [
    "To incorporate the various contour lines, we note that we are plotting constant $\\frac{\\tau}{\\tau_{\\oplus}}$ contours, so we can write:\n",
    "\n",
    "$$ \\frac{\\tau}{\\tau_{\\oplus}} = l_0 $$ where $l_0$ is an arbitrary constant.\n",
    "\n",
    "Substituting $\\tau$ this into the $\\varepsilon(m_A)$ formula gives:\n",
    "\n",
    "\n",
    "\\begin{equation}\n",
    "   \\varepsilon = \\frac{m_A^2}{{l}_0 \\tau_{\\oplus} \\sqrt{\\kappa_0} \\sqrt{C_{0,Ann} \\langle S_S \\rangle}}\n",
    "\\end{equation}\n",
    "\n",
    "\n",
    "we $\\log$ both sides to give:\n",
    "\n",
    "\\begin{equation}\n",
    "\t\\log(\\varepsilon) = 2\\log(m_A) - \\frac{1}{2}\\log(C_{0,Ann} \\langle S_S \\rangle) - \\log(l_0) - \\log(\\tau_{\\oplus}) -\\frac{1}{2}\\log(\\kappa_0)\n",
    "\\end{equation}"
   ]
  },
  {
   "cell_type": "markdown",
   "metadata": {},
   "source": [
    "We are almost to our final goal of $\\varepsilon(m_A)$. We have the slope, now we just need a point in the $\\varepsilon - m_A$ plane."
   ]
  },
  {
   "cell_type": "markdown",
   "metadata": {
    "collapsed": true
   },
   "source": [
    "-----------------------"
   ]
  },
  {
   "cell_type": "markdown",
   "metadata": {},
   "source": [
    "The recipie now is to read in a data file containing a specific $m_X$ value and sommerfeld data and:\n",
    "\n",
    "1). Fix the $m_X$ value\n",
    "\n",
    "2). Calculate $\\kappa_0$\n",
    "\n",
    "3). Obtain a point in $\\varepsilon - m_A$ space\n",
    "\n",
    "4). Generate the plot arrays\n",
    "\n",
    "5). Plot"
   ]
  },
  {
   "cell_type": "markdown",
   "metadata": {
    "collapsed": true
   },
   "source": [
    "## Read In Sommerfeld Data, Fix $m_X$ and Interpolate\n",
    "\n",
    "Working Sommerfeld File:\n",
    "    - 10GeVSommerfeld.csv\n",
    "    - 100GeVSommerfeld.csv\n",
    "    - 500GeVSommerfeld.csv\n",
    "    - 1TeVSommerfeld.csv\n",
    "    - 5TeVSommerfeld.csv\n",
    "    - 10TeVSommerfeld.csv"
   ]
  },
  {
   "cell_type": "code",
   "execution_count": 76,
   "metadata": {},
   "outputs": [
    {
     "name": "stdout",
     "output_type": "stream",
     "text": [
      "Sommerfeld Data File: 100GeVSommerfeld.csv\n",
      "Compete\n"
     ]
    }
   ],
   "source": [
    "sommerfeldFile = input('Sommerfeld Data File: ')\n",
    "readFile = sommerfeldPath(sommerfeldFile)\n",
    "\n",
    "dataIn = pd.read_csv(readFile, sep = ',')\n",
    "\n",
    "Filem_X = float(dataIn.loc[0]['mX'])\n",
    "\n",
    "maList = dataIn['mA']\n",
    "sommerfeldList = dataIn['ThermAvgSommerfeld']\n",
    "SommerfeldInterp = interpolate.interp1d(maList,sommerfeldList)\n",
    "print ('Compete')"
   ]
  },
  {
   "cell_type": "markdown",
   "metadata": {},
   "source": [
    "## Calculating $\\kappa_0$ (tex up the actual equation)\n",
    "\n",
    "$$  \\text{kappa_0}(m_X,\\alpha) =(\\text{Conversion})\\sum_N (\\text{Prefactors}) (\\text{Integrals}) $$\n",
    "\n",
    "We should expect someting roughly $\\mathcal{O}(23)$"
   ]
  },
  {
   "cell_type": "code",
   "execution_count": 77,
   "metadata": {},
   "outputs": [
    {
     "name": "stdout",
     "output_type": "stream",
     "text": [
      "2.40596261643e+25\n",
      "Complete\n"
     ]
    }
   ],
   "source": [
    "def alphaThermApprox(m_X):\n",
    "    function = 2* 2.2e-26 * (5.06e13)**3/ (1.52e24) * (m_X**2/np.pi)\n",
    "    return np.sqrt(function)\n",
    "\n",
    "def kappa_0(m_X, alpha):\n",
    "    alpha_X = alphaThermApprox(m_X)\n",
    "    n_X = 0.3/m_X\n",
    "    tempSum = 0\n",
    "    for element in elementList:\n",
    "        Z_N = nProtons[element]\n",
    "\n",
    "        conversion = (5.06e13)**-3 * (1.52e24)\n",
    "        prefactor = 2 * (4*np.pi)**3 * alpha_X * alpha * Z_N**2 * conversion\n",
    "\n",
    "        function =  n_X * prefactor * SumOverRApprox(element, m_X)\n",
    "        tempSum += function\n",
    "        \n",
    "    return tempSum\n",
    "\n",
    "kappa0 = (kappa_0(Filem_X, 1./137))\n",
    "print (kappa0)\n",
    "\n",
    "print ('Complete')"
   ]
  },
  {
   "cell_type": "markdown",
   "metadata": {},
   "source": [
    "## Define a prelimary Epsilon Function\n",
    "\n",
    "The purpose of this function is purely to get a point in parameter space"
   ]
  },
  {
   "cell_type": "markdown",
   "metadata": {},
   "source": [
    "#### Get a Point in $\\varepsilon - m_A$ Parameter Space"
   ]
  },
  {
   "cell_type": "code",
   "execution_count": 78,
   "metadata": {},
   "outputs": [
    {
     "name": "stdout",
     "output_type": "stream",
     "text": [
      "10.5050535643\n",
      "Complete\n"
     ]
    }
   ],
   "source": [
    "def epsilonInPlane(m_X, m_A, contourLevel):\n",
    "    contourLevel = contourLevel\n",
    "    Alpha_X = alphaTherm(m_X, m_A)\n",
    "    SigmaVTree = sigmaVtree(m_X, m_A, Alpha_X)\n",
    "    Cann = CAnnCalc(m_X, m_A, SigmaVTree)\n",
    "    \n",
    "    function = 2 * np.log10(m_A) - (0.5)*np.log10(Cann) \\\n",
    "               - contourLevel - np.log10(tauCross) - (0.5)*np.log10(kappa0)\n",
    "    return function\n",
    "\n",
    "logEpsilon0 = epsilonInPlane(Filem_X, 0.05, 0)\n",
    "print (logEpsilon0)\n",
    "\n",
    "print ('Complete')"
   ]
  },
  {
   "cell_type": "markdown",
   "metadata": {},
   "source": [
    "## Define the $\\varepsilon (m_A)$ function:"
   ]
  },
  {
   "cell_type": "code",
   "execution_count": 79,
   "metadata": {},
   "outputs": [
    {
     "name": "stdout",
     "output_type": "stream",
     "text": [
      "Complete\n"
     ]
    }
   ],
   "source": [
    "# def logEpsilonFunctionMA(m_A, Cann, contourLevel):\n",
    "#     function = 2 * np.log10(m_A) - (0.5)*np.log10(Cann) \\\n",
    "#                - np.log10(tauCross) - contourLevel \n",
    "#     return function\n",
    "\n",
    "\n",
    "# def logEpsilonSommFunctionMA(m_A, Cann, contourLevel, sommerfeld):    \n",
    "#     function = 2 * np.log10(m_A) - (0.5)*np.log10(Cann * sommerfeld) \\\n",
    "#                - contourLevel - np.log10(tauCross) - (0.5)*np.log10(kappa0)\n",
    "#     return function\n",
    "\n",
    "def EpsilonFuncMA(m_A, Cann, contourLevel, sommerfeld):\n",
    "    function = 2 * np.log10(m_A) - (0.5)*np.log10(Cann * sommerfeld) \\\n",
    "                - contourLevel - np.log10(tauCross) - (0.5)*np.log10(kappa0) - logEpsilon0\n",
    "    return function\n",
    "print ('Complete')"
   ]
  },
  {
   "cell_type": "markdown",
   "metadata": {
    "collapsed": true
   },
   "source": [
    "## Populate Plot Arrays"
   ]
  },
  {
   "cell_type": "code",
   "execution_count": 80,
   "metadata": {},
   "outputs": [
    {
     "name": "stdout",
     "output_type": "stream",
     "text": [
      "Complete\n"
     ]
    }
   ],
   "source": [
    "maRange = np.logspace(-2,1,500,base = 10)\n",
    "looprange = range(0,len(maRange))\n",
    "\n",
    "\n",
    "ContourDictionary = {\n",
    "#     '-6': [],\n",
    "    '-4': [],\n",
    "    '-2': [],\n",
    "    '0': [],\n",
    "    '2': [],\n",
    "    '4': [],\n",
    "#     '6': [],\n",
    "}\n",
    "\n",
    "\n",
    "maArray = []\n",
    "\n",
    "for maTemp in maRange:\n",
    "    maArray.append(maTemp)\n",
    "\n",
    "for key in ContourDictionary:\n",
    "    contourline = float(key)\n",
    "    \n",
    "    for mATemp in maRange:\n",
    "        Alpha_X = alphaTherm(Filem_X, mATemp)\n",
    "        SigmaVTree = sigmaVtree(Filem_X, mATemp, Alpha_X)\n",
    "        Sommerfeld = SommerfeldInterp(mATemp)\n",
    "        Cann = CAnnCalc(Filem_X, mATemp, SigmaVTree)\n",
    "        Epsilon = EpsilonFuncMA(mATemp, Cann, contourline, 1)\n",
    "#         Epsilon = EpsilonFuncMA(mATemp, Cann, contourline, Sommerfeld)\n",
    "        ContourDictionary[key].append(Epsilon)\n",
    "    \n",
    "print ('Complete')"
   ]
  },
  {
   "cell_type": "markdown",
   "metadata": {},
   "source": [
    "## Plot"
   ]
  },
  {
   "cell_type": "markdown",
   "metadata": {},
   "source": [
    "### Define Color Dictionaries"
   ]
  },
  {
   "cell_type": "code",
   "execution_count": 81,
   "metadata": {},
   "outputs": [
    {
     "name": "stdout",
     "output_type": "stream",
     "text": [
      "Complete\n"
     ]
    }
   ],
   "source": [
    "colorDictionary1 = {\n",
    "    '-4': '#e5eec1',\n",
    "    '-2': '#a2d4ab',\n",
    "    '0': '#3eaca8',\n",
    "    '2': '#547a82',\n",
    "    '4': '#5a5050',\n",
    "}\n",
    "\n",
    "colorDictionary2 = {\n",
    "    '-4': '#c7c47e',\n",
    "    '-2': '#94ab72',\n",
    "    '0': '#428583',\n",
    "    '2': '#40379f',\n",
    "    '4': '#3d0b7e'\n",
    "}\n",
    "\n",
    "colorDictionary3 = {\n",
    "    '-4': '#f9b397',\n",
    "    '-2': '#f97886',\n",
    "    '0': '#c36882',\n",
    "    '2': '#6f5d7e',\n",
    "    '4': '#345978'\n",
    "}\n",
    "\n",
    "colorDictionary4 = {\n",
    "    '-4': '#f69393',\n",
    "    '-2': '#c67393',\n",
    "    '0': '#965393',\n",
    "    '2': '#663393',\n",
    "    '4': '#361393'\n",
    "}\n",
    "\n",
    "colorDictionary5 = {\n",
    "    '-4': '#f9e9dc',\n",
    "    '-2': '#f6dbc5',\n",
    "    '0': '#ecc8b0',\n",
    "    '2': '#5a91a1',\n",
    "    '4': '#364b56'\n",
    "}\n",
    "\n",
    "colorDictionary6 = {\n",
    "    '-4': '#a4e3a1',\n",
    "    '-2': '#86d6a4',\n",
    "    '0': '#6fc7b3',\n",
    "    '2': '#3fa8bf',\n",
    "    '4': '#227fa3'\n",
    "}\n",
    "\n",
    "colorDictionary7 = {\n",
    "    '-4': '#ff3232',\n",
    "    '-2': '#ff9932',\n",
    "    '0': '#ffff5a',\n",
    "    '2': '#adff5a',\n",
    "    '4': '#519be5'\n",
    "}\n",
    "\n",
    "colorDictionary8 = {\n",
    "    '-4': '#f4365c',\n",
    "    '-2': '#f4bd39',\n",
    "    '0': '#aeee64',\n",
    "    '2': '#91e7cb',\n",
    "    '4': '#937fd4'\n",
    "}\n",
    "\n",
    "colorDictionary9 = {\n",
    "    '-4': '#d4e7f4',\n",
    "    '-2': '#a7c6db',\n",
    "    '0': '#436f90',\n",
    "    '2': '#314c5c',\n",
    "    '4': '#0d2738'\n",
    "}\n",
    "\n",
    "colorDictionary10 = {\n",
    "    '-4': '#d4e7f4',\n",
    "    '-2': '#a7c6db',\n",
    "    '0': '#436f90',\n",
    "    '2': '#314c5c',\n",
    "    '4': '#0d2738'\n",
    "}\n",
    "\n",
    "print ('Complete')"
   ]
  },
  {
   "cell_type": "code",
   "execution_count": 82,
   "metadata": {},
   "outputs": [
    {
     "name": "stdout",
     "output_type": "stream",
     "text": [
      "Complete\n"
     ]
    },
    {
     "data": {
      "image/png": "[encoded data removed]",
      "text/plain": [
       "<matplotlib.figure.Figure at 0x262931ca518>"
      ]
     },
     "metadata": {},
     "output_type": "display_data"
    }
   ],
   "source": [
    "for key in ContourDictionary:\n",
    "    color = colorDictionary8[key]\n",
    "    plt.plot(np.log10(maArray), (ContourDictionary[key]), color, label = key)\n",
    "\n",
    "plt.legend(loc = 'lower right')\n",
    "plt.xlabel('log(mA)')\n",
    "plt.ylabel('log(Epsilon)')\n",
    "plt.suptitle('Constant Tau/TauCross Contours')\n",
    "plt.title('mX = {0} GeV'.format(Filem_X))\n",
    "plt.grid()\n",
    "# plt.axis([-2,1,-10,-5])\n",
    "\n",
    "print ('Complete')"
   ]
  },
  {
   "cell_type": "code",
   "execution_count": null,
   "metadata": {
    "collapsed": true
   },
   "outputs": [],
   "source": []
  },
  {
   "cell_type": "code",
   "execution_count": null,
   "metadata": {
    "collapsed": true
   },
   "outputs": [],
   "source": []
  },
  {
   "cell_type": "code",
   "execution_count": null,
   "metadata": {
    "collapsed": true
   },
   "outputs": [],
   "source": []
  },
  {
   "cell_type": "code",
   "execution_count": null,
   "metadata": {
    "collapsed": true
   },
   "outputs": [],
   "source": []
  },
  {
   "cell_type": "code",
   "execution_count": null,
   "metadata": {
    "collapsed": true
   },
   "outputs": [],
   "source": []
  },
  {
   "cell_type": "code",
   "execution_count": null,
   "metadata": {
    "collapsed": true
   },
   "outputs": [],
   "source": []
  },
  {
   "cell_type": "code",
   "execution_count": null,
   "metadata": {
    "collapsed": true
   },
   "outputs": [],
   "source": []
  },
  {
   "cell_type": "markdown",
   "metadata": {
    "collapsed": true
   },
   "source": [
    "------------"
   ]
  },
  {
   "cell_type": "markdown",
   "metadata": {},
   "source": [
    "## Python Function Summary: (TO DO)\n",
    "This is a list of all the functions, input parameters, and return values in this notebook."
   ]
  },
  {
   "cell_type": "markdown",
   "metadata": {},
   "source": [
    "**accumulate(index)**: accululates the summand (see function definition) from 'index' to the final index of the radiusList\n",
    "\n",
    "**numDensityList(element)[index]**: returns the number density of 'element' at 'index'\n",
    "\n",
    "**formFactor2(E, element)**: returns the form factor squared of 'element' with recoil energy 'E'\n",
    "\n",
    "**eqn09Guts(E, m_A, element)**: returns $\\frac{m_N}{2m_N E_R + m_A\\prime ^2} \\text{formFactor2}$ for 'element' and recoil energy 'E'\n",
    "\n",
    "**DMVelDistNormalization(u)**: returns the reciprocal of the normalization $N_0$\n",
    "\n",
    "**DmVelDist(u, N_0 = N_01)**: returns the fraction of DM partiles with incident velocity 'u' in the Galactic Frame \n",
    "\n",
    "**ModDMVelDist(u)**: returns the fraction of DM particles with incident velocity 'u' in the Earth Frame\n",
    "\n",
    "**eMin(u, m_X)**: returns $ E_{Min} = \\frac{1}{2} m_X u^2 $\n",
    "\n",
    "**emax(u, rIndex, m_X, element)**: returns $E_{Max} = 2 m_N m_X^2 \\frac{(u^2 + v_{\\oplus}^2)}{(m_N + m_X)^2}$\n",
    "\n",
    "**IntDuDEr(rIndex, m_X, m_A, element)**: returns $ \\int_{0}^{uInt} \\, \\int_{eMin}^{eMax} \\, \\text{u(eqn09Guts)(DMVelDist)} \\, dE_R \\, du $\n",
    "\n",
    "**SumOverR(m_X, m_A, element)**: returns $\\Sigma_i \\, n_N(r) \\, r^2 \\, \\text{IntDuDEr} \\, \\Delta r $\n",
    "\n",
    "**totalCap(m_X, m_A, epsilon, alpha, alpha_X, element)**: returns the total capture rate of 'element' $\\left[(4\\pi)(4\\pi)(8\\pi \\epsilon^2 \\alpha_X \\alpha Z_N^2)\\right] \\, n_X \\, \\text{SumOverR} $\n",
    "\n"
   ]
  },
  {
   "cell_type": "markdown",
   "metadata": {},
   "source": [
    "-----------"
   ]
  },
  {
   "cell_type": "markdown",
   "metadata": {
    "collapsed": true
   },
   "source": [
    "# Appendix"
   ]
  },
  {
   "cell_type": "markdown",
   "metadata": {
    "collapsed": true
   },
   "source": [
    "## A: Python Integration Analysis for the capture integrand\n",
    "If we try to calculate the capture integral directly in natural units, integrating $u$ from $0$ to $v_{gal}/c$ and $E_R$ from $E_{min}$ to $E_{max}$, we find that the integral returns zero. The differential cross section $\\frac{d \\sigma_N}{dE_R}$ (eqn09) never vanishes unless one of the model parameters is zero, the incident DM velocity $f(u)$ is never zero for the integraion region over $u$, so the only time the integrand vanishes is at $u=0$, the lower limit of integration. Clearly, there is something more subtle that we need to explore.\n",
    "\n",
    "To simplify the problem, we choose $m_X = 1$ GeV, and calculate values of Silicon (Si28). We completely remove the integrand and begin by plotting the integration bounds $E_{min}$ and $E_{max}$ in red and blue respectively. The valid region of integration from the heaviside function in eqn (1) is thus above the red curve and below the blue curve."
   ]
  },
  {
   "cell_type": "code",
   "execution_count": null,
   "metadata": {},
   "outputs": [],
   "source": [
    "\n",
    "#EscVelDictionary =  {  0 < u < vGal/c  |  0 < u < 0.00005 }  (for better resolution)\n",
    "               #key: { [emin] , [emax]  , [emin] , [emax]  }\n",
    "\n",
    "EscVelDictionary = { \n",
    "    'O16' : ([],[],[],[]),\n",
    "    'Si28': ([],[],[],[]),\n",
    "    'Mg24': ([],[],[],[]),\n",
    "    'Fe56': ([],[],[],[]),\n",
    "    'Ca40': ([],[],[],[]),\n",
    "    'P31' : ([],[],[],[]),\n",
    "    'S32' : ([],[],[],[]),\n",
    "    'Ni58': ([],[],[],[]),\n",
    "    'Al27': ([],[],[],[]),\n",
    "    'Cr52': ([],[],[],[]),\n",
    "}\n",
    "\n",
    "# Original and \"Zoomed\" plot ranges\n",
    "pltrange0 = np.linspace(0,(V_gal/c),100)\n",
    "pltrange1 = np.linspace(0,0.0002,100)\n",
    "m_XTest = 100\n",
    "\n",
    "for element in EscVelDictionary:\n",
    "    for u in pltrange0:\n",
    "        mn2 = amu2Gev(atomicNumbers[element])\n",
    "#         emin = (1*i**2)/2\n",
    "        emin = eMin(u, m_XTest)\n",
    "#         emax = 2*mn2*1**2*(i**2+vMax)/(mn2+1)**2\n",
    "        emax = eMax(element, m_XTest, 0, u)\n",
    "#         eLim = 2*mn2*1**2*(1+vMax)/(mn2+1)**2\n",
    "\n",
    "        EscVelDictionary[element][0].append(emin)\n",
    "        EscVelDictionary[element][1].append(emax)\n",
    "        \n",
    "for element in EscVelDictionary:\n",
    "    for u in pltrange1:\n",
    "        mn2 = amu2Gev(atomicNumbers[element])\n",
    "#         emin = (1*i**2)/2\n",
    "        emin = eMin(u, m_XTest)\n",
    "#         emax = 2*mn2*1**2*(i**2+vMax)/(mn2+1)**2\n",
    "        emax = eMax(element, m_XTest, 0, u)\n",
    "#         eLim = 2*mn2*1**2*(1+vMax)/(mn2+1)**2\n",
    "\n",
    "        EscVelDictionary[element][2].append(emin)\n",
    "        EscVelDictionary[element][3].append(emax)\n",
    "    \n",
    "print ('Complete')"
   ]
  },
  {
   "cell_type": "code",
   "execution_count": null,
   "metadata": {},
   "outputs": [],
   "source": [
    "plotElement = 'Ca40'\n",
    "\n",
    "# Plot 1\n",
    "plt.figure(1)\n",
    "line0, = plt.plot(pltrange0,EscVelDictionary[plotElement][0],'red', label = 'eMin')\n",
    "line1, = plt.plot(pltrange0,EscVelDictionary[plotElement][1],'blue', label = 'eMax')\n",
    "plt.legend([line0,line1],['eMin','eMax'])\n",
    "plt.xlabel('Naturalized Velocity: u')\n",
    "plt.ylabel('E_R (GeV)')\n",
    "plt.suptitle('Plot over the entire integration limits')\n",
    "plt.grid()\n",
    "\n",
    "# Plot 2\n",
    "plt.figure(2)\n",
    "line2, = plt.plot(pltrange1,EscVelDictionary[plotElement][2],'red', label = 'eMin')\n",
    "line3, = plt.plot(pltrange1,EscVelDictionary[plotElement][3],'blue', label = 'eMax')\n",
    "plt.xlabel('Naturalized Velocity: u')\n",
    "plt.ylabel('E_R (GeV)')\n",
    "plt.legend([line2,line3],['eMin','eMax'])\n",
    "plt.suptitle('Zoom into the origin')\n",
    "# plt.axis([0,4.8e-5,0,1.2e-7]) # O16\n",
    "# plt.axis([0.00016555,0.000168,1.384e-6,1.395e-6])\n",
    "plt.grid()\n",
    "print ('Complete')"
   ]
  },
  {
   "cell_type": "markdown",
   "metadata": {
    "collapsed": true
   },
   "source": [
    "Recalling that the valid region of integration is *above* the red curve and *below* the blue curve, it doesn't appear that there is **any** nonzero region looking at figure 1. Therefor, there must be some region very close to the origin where these two functions yield a nonzero integrand. We investigate further by zooming into the origin, as shown in figure 2."
   ]
  },
  {
   "cell_type": "markdown",
   "metadata": {
    "collapsed": true
   },
   "source": [
    "We can see that only for $u$ between $0$ and $\\approx \\mathcal{O}(10^{-5})$ is the $E_{max}$ actually above $E_{min}$, which means that in the integration limits as stated above, the integrand vanishes for nearly the entire region due to the Heaviside function. \n",
    "\n",
    "To make matters worse, the Python intetegrator  never chooses $u$ values between $0$ and $\\approx 0.00002$, giving the illusion that the integral is zero even though it isn't.\n",
    "\n",
    "The solution is:\n",
    "    - Solve for the intersection point of Emin and Emax, named \"uInt\"\n",
    "    - Integrate u from 0 to uInt\n",
    "    - Integrate E_R from eMin(u) to eMax(u)\n",
    "\n",
    "The values of $E_{min}$ and $E_{max}$ both depend on $u$, so the natural solution is for each $u$ value, \"zoom in\" to the region where the integrand is nonvanishing and calculate the integral in that region. This is acomplished by calculating the $u$ value at the intersection point $E_{min} = E_{max}$.\n",
    "\n",
    "Substituting $ w^2 = u^2 + v_{\\oplus}^2$ gives:\n",
    "\n",
    "$$ \\frac{1}{2}m_X u_{int}^2 = \\frac{2\\mu_N^2}{m_N}(u_{int}^2 + v_{\\oplus}^2) $$\n",
    "\n",
    "solving for the intersection point $u_{int}$ yields:\n",
    "\n",
    "$$ u_{int}^2 = \\frac{2\\mu_N^2}{m_N} \\frac{1}{ \\left( \\frac{1}{2m_X} - \\frac{2\\mu_N^2}{m_N} \\right)  } v_{\\oplus}^2 $$\n",
    "\n",
    "In the function definition, I have made the substitutions:\n",
    "$$ A = \\frac{1}{2}m_X \\qquad \\text{and} \\qquad B = 2 \\frac{\\mu_N^2}{m_N}$$\n",
    "\n",
    "yielding: \n",
    "$$ \\text{uInt} = \\sqrt{ \\frac{B}{A-B}}\\,v_{\\oplus} $$\n",
    "The actual coded function is:\n",
    "\n",
    "$$ IntDuDEr = \\int_{0}^{uInt} du \\, u f(u) \\int_{E_{min}}^{E_{Max}} dE_R \\, \\frac{d \\sigma_N}{dE_R}  $$\n",
    "\n",
    "\n",
    "where $\\Theta(\\Delta E)$ is accounted for in the limits of the $u$ integration."
   ]
  },
  {
   "cell_type": "markdown",
   "metadata": {},
   "source": [
    "### Defining the Intersection Function"
   ]
  },
  {
   "cell_type": "code",
   "execution_count": null,
   "metadata": {},
   "outputs": [],
   "source": [
    "plotElement2 = 'O16'\n",
    "\n",
    "def testIntersection(element, m_X, rIndex):\n",
    "    mn = amu2Gev(atomicNumbers[element])\n",
    "    mu = (mn*m_X)/(mn+m_X)\n",
    "    vCross2 = escVel2List[rIndex]\n",
    "    # Calculate the intersection uInt of eMin and eMax given a specific rIndex\n",
    "    A = 1/2. * m_X\n",
    "    B = 2. * mu**2 / mn\n",
    "    uInt = np.sqrt( ( B * vCross2) / (A-B) )\n",
    "    \n",
    "    return uInt\n",
    "\n",
    "uInt = testIntersection(plotElement2, m_XTest, 0)\n",
    "\n",
    "print ('uInt: {0}'.format(uInt))\n",
    "\n",
    "print ('Complete')"
   ]
  },
  {
   "cell_type": "markdown",
   "metadata": {},
   "source": [
    "### Testing the Intersection Function\n",
    "\n",
    "We calculate the intersection for an given element in the previous cell and then zoom into the region near the intersection"
   ]
  },
  {
   "cell_type": "code",
   "execution_count": null,
   "metadata": {},
   "outputs": [],
   "source": [
    "xmin = uInt - 0.000002\n",
    "xmax = uInt + 0.000002\n",
    "ymin = eMin(uInt,m_XTest) - 0.2e-7\n",
    "ymax = eMin(uInt,m_XTest) + 0.2e-7\n",
    "\n",
    "line2, = plt.plot(pltrange1,EscVelDictionary[plotElement2][2],'red', label = 'eMin')\n",
    "line3, = plt.plot(pltrange1,EscVelDictionary[plotElement2][3],'blue', label = 'eMax')\n",
    "plt.xlabel('Naturalized Velocity: u')\n",
    "plt.ylabel('E_R (GeV)')\n",
    "plt.legend([line2,line3],['eMin','eMax'])\n",
    "plt.suptitle('Intersection Sanity Check')\n",
    "plt.grid()\n",
    "plt.axis([xmin,xmax,ymin,ymax])\n",
    "\n",
    "print ('Intersection (u,E_R) = ({0}, {1})'.format(uInt,eMin(uInt,m_XTest)))\n",
    "print ('Complete')"
   ]
  },
  {
   "cell_type": "code",
   "execution_count": null,
   "metadata": {
    "collapsed": true
   },
   "outputs": [],
   "source": []
  }
 ],
 "metadata": {
  "anaconda-cloud": {},
  "kernelspec": {
   "display_name": "Python 3",
   "language": "python",
   "name": "python3"
  },
  "language_info": {
   "codemirror_mode": {
    "name": "ipython",
    "version": 3
   },
   "file_extension": ".py",
   "mimetype": "text/x-python",
   "name": "python",
   "nbconvert_exporter": "python",
   "pygments_lexer": "ipython3",
   "version": "3.6.0"
  }
 },
 "nbformat": 4,
 "nbformat_minor": 1
}
