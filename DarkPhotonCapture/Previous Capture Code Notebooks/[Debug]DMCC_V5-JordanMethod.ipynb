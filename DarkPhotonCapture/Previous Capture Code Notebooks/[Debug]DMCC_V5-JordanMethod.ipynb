{
 "cells": [
  {
   "cell_type": "markdown",
   "metadata": {},
   "source": [
    "# Debug Notebook\n",
    "\n",
    "This notebook serves as a debug workspace so I can keep the other notebooks clean.\n",
    "All function definitions and capture code preamble is loaded into this workbook to replicate a test space."
   ]
  },
  {
   "cell_type": "markdown",
   "metadata": {},
   "source": [
    "## Initialize the Notebook"
   ]
  },
  {
   "cell_type": "code",
   "execution_count": 1,
   "metadata": {
    "collapsed": false
   },
   "outputs": [
    {
     "name": "stdout",
     "output_type": "stream",
     "text": [
      "Complete\n"
     ]
    }
   ],
   "source": [
    "import numpy as np\n",
    "import scipy as sp\n",
    "import pandas\n",
    "from scipy import interpolate\n",
    "import time\n",
    "\n",
    "import scipy.integrate as integrate\n",
    "import matplotlib.pyplot as plt\n",
    "%matplotlib inline\n",
    "\n",
    "import timeit as T\n",
    "\n",
    "\n",
    "print 'Complete'"
   ]
  },
  {
   "cell_type": "markdown",
   "metadata": {},
   "source": [
    "## Importing Earth Density Data (PREM500)\n",
    "The raw data from PREM500 has been converted into MKS units, however, the table where that data came from [51] gives the radius in $km$ and density in $kg/cm^3$"
   ]
  },
  {
   "cell_type": "code",
   "execution_count": 2,
   "metadata": {
    "collapsed": false
   },
   "outputs": [
    {
     "name": "stdout",
     "output_type": "stream",
     "text": [
      "Complete\n"
     ]
    }
   ],
   "source": [
    "# Radius is column 1, Density is column 2\n",
    "# Radius in meters: verified by REF [51] Table 1 pg. 312\n",
    "# Density in Kg/m^3, verified by REF [51] Table 1 pg. 312\n",
    "\n",
    "# This section grabs the data and converts it to MKS units\n",
    "data = pandas.read_csv('PREM500.csv', sep = ',')\n",
    "radiusTemp1 = data[[0]]  # Radius in Meters\n",
    "densityTemp1 = data[[1]] # Density in kg/m^3\n",
    "\n",
    "\n",
    "# The interpolation function doesn't like these objects, so they need to be massaged into 1-D numpy arrays\n",
    "radiusListBadUnits = np.asarray(radiusTemp1).squeeze()\n",
    "densityListBadUnits = np.asarray(densityTemp1).squeeze()\n",
    "\n",
    "print 'Complete'"
   ]
  },
  {
   "cell_type": "markdown",
   "metadata": {},
   "source": [
    "### A Note on Units:\n",
    "The variable radiusListBadUnits has units of Meters\n",
    "\n",
    "The variable densityListBadUnits has units of kg/m^3\n",
    "\n",
    "The following cell converts the length of both to cm."
   ]
  },
  {
   "cell_type": "code",
   "execution_count": 3,
   "metadata": {
    "collapsed": false
   },
   "outputs": [
    {
     "name": "stdout",
     "output_type": "stream",
     "text": [
      "Complete\n"
     ]
    }
   ],
   "source": [
    "radiusList = radiusListBadUnits * 100\n",
    "densityList = densityListBadUnits * (100)**-3 * 1000\n",
    "\n",
    "print 'Complete'"
   ]
  },
  {
   "cell_type": "raw",
   "metadata": {},
   "source": []
  },
  {
   "cell_type": "code",
   "execution_count": null,
   "metadata": {
    "collapsed": true
   },
   "outputs": [],
   "source": []
  },
  {
   "cell_type": "markdown",
   "metadata": {},
   "source": [
    "### Shell Thickness Check"
   ]
  },
  {
   "cell_type": "code",
   "execution_count": 4,
   "metadata": {
    "collapsed": false
   },
   "outputs": [
    {
     "data": {
      "image/png": "[encoded data removed]",
      "text/plain": [
       "<matplotlib.figure.Figure at 0x9beb588>"
      ]
     },
     "metadata": {},
     "output_type": "display_data"
    },
    {
     "name": "stdout",
     "output_type": "stream",
     "text": [
      "Complete\n"
     ]
    }
   ],
   "source": [
    "radius2 = radiusList[0:len(radiusList)-1]\n",
    "s = [0]\n",
    "for i in radius2:\n",
    "    s.append(i)\n",
    "\n",
    "deltaRList = radiusList[0:len(radiusList)] - s[0:len(s)]\n",
    "\n",
    "xRange = range(0,len(radiusList))\n",
    "\n",
    "plt.plot(xRange,deltaRList,'.')\n",
    "plt.title('Shell Thickness vs Radius Index')\n",
    "plt.xlabel('Radius Index')\n",
    "plt.ylabel('Shell Thickness (cm)')\n",
    "plt.axis([0,491,1.275e6,1.289e6])\n",
    "plt.show()\n",
    "\n",
    "print 'Complete'"
   ]
  },
  {
   "cell_type": "markdown",
   "metadata": {},
   "source": [
    "### Shell Density Check"
   ]
  },
  {
   "cell_type": "code",
   "execution_count": 5,
   "metadata": {
    "collapsed": false
   },
   "outputs": [
    {
     "data": {
      "image/png": "[encoded data removed]",
      "text/plain": [
       "<matplotlib.figure.Figure at 0x9bd2c50>"
      ]
     },
     "metadata": {},
     "output_type": "display_data"
    },
    {
     "name": "stdout",
     "output_type": "stream",
     "text": [
      "Complete\n"
     ]
    }
   ],
   "source": [
    "plt.plot(xRange,densityListBadUnits,'.')\n",
    "plt.xlabel('Radius Index')\n",
    "plt.ylabel('Density (kg/m^3)')\n",
    "plt.title('Density vs Radius Index')\n",
    "plt.show()\n",
    "print 'Complete'"
   ]
  },
  {
   "cell_type": "markdown",
   "metadata": {},
   "source": [
    "### Enclosed Mass Check"
   ]
  },
  {
   "cell_type": "code",
   "execution_count": 6,
   "metadata": {
    "collapsed": false,
    "scrolled": false
   },
   "outputs": [
    {
     "name": "stdout",
     "output_type": "stream",
     "text": [
      "Enclosed mass = 5.990577e+27 g\n",
      "Complete\n"
     ]
    }
   ],
   "source": [
    "mass = 0\n",
    "for i in xRange:\n",
    "    mass = mass + 4. * np.pi * radiusList[i]**2 * densityList[i] * deltaRList[i]\n",
    "print 'Enclosed mass = %e g' % mass\n",
    "\n",
    "print 'Complete'"
   ]
  },
  {
   "cell_type": "markdown",
   "metadata": {},
   "source": [
    "### Shell Mass\n",
    "Given a radius *index*, shellMass returns the mass of the shell at that radius index"
   ]
  },
  {
   "cell_type": "code",
   "execution_count": 7,
   "metadata": {
    "collapsed": false,
    "scrolled": true
   },
   "outputs": [
    {
     "data": {
      "image/png": "[encoded data removed]",
      "text/plain": [
       "<matplotlib.figure.Figure at 0x9beb048>"
      ]
     },
     "metadata": {},
     "output_type": "display_data"
    },
    {
     "name": "stdout",
     "output_type": "stream",
     "text": [
      "Complete\n"
     ]
    }
   ],
   "source": [
    "shellMassList = []\n",
    "\n",
    "for i in xRange:\n",
    "    shellMassList.append(4 * np.pi * radiusList[i]**2 * densityList[i] * deltaRList[i])\n",
    "\n",
    "plt.plot(xRange,shellMassList,'.')\n",
    "plt.title('Shell Mass vs. Radius Index')\n",
    "plt.xlabel('Radius Index')\n",
    "plt.ylabel('Enclosed Mass (g)')\n",
    "\n",
    "plt.show()\n",
    "\n",
    "# print shellMassList[0:4]\n",
    "print 'Complete'"
   ]
  },
  {
   "cell_type": "markdown",
   "metadata": {},
   "source": [
    "### Enclosed Mass at Each Radius\n",
    "\n",
    "Give enclosedMass the *index* of the radius, and it returns the mass enclosed up to that radius.\n",
    "\n",
    "This is a list, not an interpolated function, so it only works for valid radii."
   ]
  },
  {
   "cell_type": "code",
   "execution_count": 8,
   "metadata": {
    "collapsed": false,
    "scrolled": false
   },
   "outputs": [
    {
     "data": {
      "image/png": "[encoded data removed]",
      "text/plain": [
       "<matplotlib.figure.Figure at 0xab5c668>"
      ]
     },
     "metadata": {},
     "output_type": "display_data"
    },
    {
     "name": "stdout",
     "output_type": "stream",
     "text": [
      "Complete\n"
     ]
    }
   ],
   "source": [
    "# This is with a radius list and a shellMass list\n",
    "enclosedMassList = []\n",
    "tempSum = 0\n",
    "for i in shellMassList:\n",
    "    tempSum = tempSum + i\n",
    "    enclosedMassList.append(tempSum)\n",
    "    \n",
    "plt.plot(xRange,enclosedMassList,'.')\n",
    "plt.title('Enclosed Mass vs Radius Index')\n",
    "plt.xlabel('Radius Index')\n",
    "plt.ylabel('Enclosed Mass (g)')\n",
    "# plt.axis([0,550,0,6.5e24])\n",
    "plt.show()\n",
    "\n",
    "# print enclosedMassList[0:4]\n",
    "\n",
    "print 'Complete'"
   ]
  },
  {
   "cell_type": "markdown",
   "metadata": {},
   "source": [
    "## Conversions and Atomic Definitions\n",
    "\n",
    "In the following cell, we initialize usefull unit conversions and dictionaries storing various atomic information."
   ]
  },
  {
   "cell_type": "code",
   "execution_count": 9,
   "metadata": {
    "collapsed": false
   },
   "outputs": [
    {
     "name": "stdout",
     "output_type": "stream",
     "text": [
      "Complete\n"
     ]
    }
   ],
   "source": [
    "################################################################################\n",
    "# Conversions\n",
    "################################################################################\n",
    "\n",
    "def amu2Gev(par1):\n",
    "#     return 0.9314941 * par1 # GeV\n",
    "    return 0.938272 * par1 # Taken directly from Flip notebook\n",
    "\n",
    "def amu2g(par1):\n",
    "    return 1.66053892*10**-24 * par1 # g\n",
    "\n",
    "def GeV2s(par1):\n",
    "    return 1.52*10**24 * par1 # s^-1\n",
    "\n",
    "def s2GeV(par1):\n",
    "    return 1.52*10**24 * par1 # GeV^-1\n",
    "\n",
    "def GeV2cm(par1):\n",
    "    return 5.06*10**13 * par1 # cm^-1\n",
    "\n",
    "def cm2GeV(par1):\n",
    "    return 5.06*10**13 * par1 # GeV^-1\n",
    "\n",
    "def KeltoGeV(par1):\n",
    "    return 8.62*10**-14 * par1 # GeV\n",
    "\n",
    "def s2yr(par1):\n",
    "    return 3.16888*10**-8 * par1 # Yr\n",
    "\n",
    "def ev2Gev(par1):\n",
    "    return par1 * 10**6 # GeV\n",
    "\n",
    "def eV2kg(par1):\n",
    "    return 1.782661845* 10**-36 * par1 # kg\n",
    "\n",
    "def g2Gev(par1):\n",
    "    return 5.609588845*10**32 * par1 #GeV\n",
    "\n",
    "\n",
    "################################################################################\n",
    "# Atomic Dictionary Definitions\n",
    "################################################################################\n",
    "\n",
    "elementList = [\n",
    "    'O16' ,\n",
    "    'Si28',\n",
    "    'Mg24',\n",
    "    'Fe56',\n",
    "    'Ca40',\n",
    "    'P31' ,\n",
    "#     'Na11',\n",
    "    'S32' ,\n",
    "    'Ni58',\n",
    "    'Al27',\n",
    "    'Cr52',\n",
    "]\n",
    "\n",
    "atomicNumbers = {\n",
    "    'H1': 1.,\n",
    "    'He4': 4.,\n",
    "    'He3': 3.,\n",
    "    'Na11': 23.,\n",
    "    'C12': 12.,\n",
    "    'C13':13.,\n",
    "    'N14':14.,\n",
    "    'N15':15.,\n",
    "    'O16':16.,\n",
    "    'O17':17. ,\n",
    "    'O18':18.,\n",
    "    'Ne20':20.,\n",
    "    'Na23':23.,\n",
    "    'Mg24':24., # 78%\n",
    "    'Al27':27.,\n",
    "    'Si28':28.,\n",
    "    'P31':30.,\n",
    "    'S32':32.,\n",
    "    'Cl35':35., # 75%\n",
    "    'Ar40':40.,\n",
    "    'K39':39.,\n",
    "    'Ca40':40.,\n",
    "    'Sc45':45.,\n",
    "    'Ti48':48., # 74%\n",
    "    'V51':51.,\n",
    "    'Cr52':52., # 83%\n",
    "    'Mn55':55.,\n",
    "    'Fe56':56.,\n",
    "    'Co59':59.,\n",
    "    'Ni58':59., # 58%\n",
    "}\n",
    "\n",
    "nProtons = { # This is Z_N\n",
    "    'H1':1.,\n",
    "    'He3':2.,\n",
    "    'He4':2.,\n",
    "    'He3':2.,\n",
    "    'Na11': 11.,\n",
    "    'C12':6.,\n",
    "    'C13':6.,\n",
    "    'N14':7.,\n",
    "    'N15':7.,\n",
    "    'O16':8.,\n",
    "    'O17':8.,\n",
    "    'O18':8.,\n",
    "    'Ne20':10.,\n",
    "    'Na23':11.,\n",
    "    'Mg24':12., # 78%\n",
    "    'Al27':13.,\n",
    "    'Si28':14.,\n",
    "    'P31':15.,\n",
    "    'S32':16.,\n",
    "    'Cl35':17., # 75%\n",
    "    'Ar40':18.,\n",
    "    'K39':19.,\n",
    "    'Ca40':20.,\n",
    "    'Sc45':21.,\n",
    "    'Ti48':22., # 74%\n",
    "    'V51':23.,\n",
    "    'Cr52':24., # 83%\n",
    "    'Mn55':25.,\n",
    "    'Fe56':26.,\n",
    "    'Co59':27.,\n",
    "    'Ni58':28., # 58%\n",
    "}\n",
    "\n",
    "# Mass Fraction Dictionary\n",
    "coreMassFrac = {\n",
    "    'Na11': 0.0,\n",
    "    'O16' : 0.0,\n",
    "    'Mg24': 0.0,\n",
    "    'Al27': 0.0,\n",
    "    'Si28': 0.06,\n",
    "    'P31' : 0.002,\n",
    "    'S32' : 0.019,\n",
    "    'Ca40': 0.0,\n",
    "    'Cr52': 0.009,\n",
    "    'Fe56': 0.855,\n",
    "    'Ni58': 0.052,\n",
    "}\n",
    "\n",
    "mantleMassFrac = {\n",
    "    'Na11': 0.0027,\n",
    "    'O16' : 0.440,\n",
    "    'Mg24': 0.228,\n",
    "    'Al27': 0.0235,\n",
    "    'Si28': 0.210,\n",
    "    'P31' : 0.00009,\n",
    "    'S32' : 0.00025,\n",
    "    'Ca40': 0.0253,\n",
    "    'Cr52': 0.0026,\n",
    "    'Fe56': 0.0626,\n",
    "    'Ni58': 0.00196,\n",
    "}\n",
    "print 'Complete'"
   ]
  },
  {
   "cell_type": "markdown",
   "metadata": {},
   "source": [
    "## Model Parameters and Constants\n",
    "\n",
    "In this cell, we initialize all model parameters as global variables."
   ]
  },
  {
   "cell_type": "code",
   "execution_count": 10,
   "metadata": {
    "collapsed": false
   },
   "outputs": [
    {
     "name": "stdout",
     "output_type": "stream",
     "text": [
      "Complete\n"
     ]
    }
   ],
   "source": [
    "################################################################################\n",
    "# Constants\n",
    "################################################################################\n",
    "global c\n",
    "global G\n",
    "global M_E\n",
    "global R_earth\n",
    "global V_dot\n",
    "global V_cross\n",
    "global V_gal\n",
    "global u_0\n",
    "global k\n",
    "global n_X\n",
    "global mf\n",
    "\n",
    "c = 3.0*10**10 # cm/s\n",
    "G = 6.674e-11 * 100**3 *(1000)**-1 # cm^3/g s \n",
    "# M_E = 5.972e27 # g\n",
    "# R_earth = 6.37e6 # m\n",
    "V_dot = 220.0*10**5 # cm/s\n",
    "V_cross = 298.0*10**5 # cm/s\n",
    "V_gal = 550.0*10**5 # cm/s\n",
    "u_0 = 245.0*10**5 # cm/s\n",
    "k = 2.5\n",
    "\n",
    "print 'Complete'"
   ]
  },
  {
   "cell_type": "markdown",
   "metadata": {},
   "source": [
    "## Escape Velocity: $v_{\\oplus}(r)$\n",
    "\n",
    "The escape velocity in natural units is given by:\n",
    "$$ V_{esc}^2 = \\frac{2G}{c^2} \\left[ \\int_{0}^{R_{earth}} \\frac{M_{enc}(s)}{s^2} \\, ds + \\frac{M_{total}}{R_{earth}} \\right] $$\n",
    "\n",
    "However, we are given discretized data, so we convert the integral into a discrete sum over the radius of earth:\n",
    "$$ V_{esc}^2 = \\frac{2G}{c^2} \\left[ \\sum_i \\frac{M_{enc}(s)}{s^2} \\, \\Delta R + \n",
    "\\frac{M_{total}}{R_{earth}} \\right] $$\n",
    "\n",
    "where $M_{enc}(s)$ is the mass enclosed at radius $s$ and $\\Delta R$ is the change in radius going from the previous radius  to the current radius $\\Delta R =$ r[i] - r[i-1].\n",
    "\n",
    "The accumulate function acts just like the \"Accumulate\" in mathematica. It adds up whatever the summand is starting at \"index\" and sums over the length of the radius index.\n",
    "\n",
    "\n",
    "Escape Velocities are stored in the list: escVel2List\n",
    "\n",
    "Note: The value from escVel2List[1] is assigned to the first slot of escVel2List to work around a 'nan' escape velocity at r=0"
   ]
  },
  {
   "cell_type": "code",
   "execution_count": 11,
   "metadata": {
    "collapsed": false
   },
   "outputs": [
    {
     "data": {
      "image/png": "[encoded data removed]",
      "text/plain": [
       "<matplotlib.figure.Figure at 0xa6a5198>"
      ]
     },
     "metadata": {},
     "output_type": "display_data"
    },
    {
     "name": "stdout",
     "output_type": "stream",
     "text": [
      "Complete\n"
     ]
    }
   ],
   "source": [
    "def accumulate(index):\n",
    "    factor = 2.*G/c**2\n",
    "    constant = max(enclosedMassList) / max(radiusList)\n",
    "    \n",
    "    tempSum = 0    \n",
    "    for i in range(index,len(radiusList)-1):\n",
    "        summand = enclosedMassList[i] * deltaRList[i] / (radiusList[i])**2\n",
    "        tempSum += summand\n",
    "        \n",
    "    return factor*(tempSum + constant)\n",
    "\n",
    "escVel2List = []\n",
    "for i in xRange:\n",
    "    escVel2List.append(accumulate(i))\n",
    "#     escVel2List.append(escVel(i))\n",
    "# escVel2List[0] = escVel2List[1] # \n",
    "    \n",
    "    \n",
    "    \n",
    "plt.plot(xRange,escVel2List)\n",
    "plt.xlabel('Radius Index')\n",
    "plt.ylabel('Escape Velocity (cm/s)')\n",
    "plt.title('Escape Velocity Squared vs. Radius Index')\n",
    "plt.show()          \n",
    "    \n",
    "# plt.plot(radiusList,escVel2List,'.')\n",
    "# plt.xlabel('Radius (m)')\n",
    "# plt.ylabel('Escape Velocity (m/s)')\n",
    "# plt.title('Escape Velocity vs. Radius')\n",
    "# plt.show()\n",
    "\n",
    "\n",
    "# print escVel2List[0:4]\n",
    "\n",
    "print 'Complete'\n",
    "\n"
   ]
  },
  {
   "cell_type": "markdown",
   "metadata": {},
   "source": [
    "## Number Densities"
   ]
  },
  {
   "cell_type": "code",
   "execution_count": 12,
   "metadata": {
    "collapsed": false
   },
   "outputs": [
    {
     "data": {
      "image/png": "[encoded data removed]",
      "text/plain": [
       "<matplotlib.figure.Figure at 0xafb6a58>"
      ]
     },
     "metadata": {},
     "output_type": "display_data"
    },
    {
     "data": {
      "image/png": "[encoded data removed]",
      "text/plain": [
       "<matplotlib.figure.Figure at 0xafa90b8>"
      ]
     },
     "metadata": {},
     "output_type": "display_data"
    },
    {
     "name": "stdout",
     "output_type": "stream",
     "text": [
      "Complete\n"
     ]
    }
   ],
   "source": [
    "range1 = range(0,len(radiusList))\n",
    "mf = 0\n",
    "\n",
    "def numDensityList(element):\n",
    "    numDensityList = []\n",
    "    for i in range1:\n",
    "        if radiusList[i] < 348000000:\n",
    "            mf = coreMassFrac[element]\n",
    "        elif radiusList[i] >= 348000000:\n",
    "            mf = mantleMassFrac[element]\n",
    "        elif radiusList[i] > 348000000:\n",
    "            mf = 0\n",
    "\n",
    "        n_i = mf *  densityList[i] /(amu2Gev(atomicNumbers[element])) * 6.02e23\n",
    "        numDensityList.append(n_i)\n",
    "        \n",
    "    return numDensityList\n",
    "\n",
    "\n",
    "plt.plot(range1, numDensityList('Cr52'),'.')\n",
    "plt.title('Number Density of Cr52')\n",
    "plt.xlabel('Radius Index')\n",
    "plt.ylabel('Number Density (cm^-3)')\n",
    "plt.show()\n",
    "plt.plot(range1, numDensityList('Ca40'),'.')\n",
    "plt.title('Number Density of O16')\n",
    "plt.xlabel('Radius Index')\n",
    "plt.ylabel('Number Density (cm^-3)')\n",
    "plt.show()\n",
    "\n",
    "# print numDensityList('O16')\n",
    "print 'Complete'"
   ]
  },
  {
   "cell_type": "markdown",
   "metadata": {},
   "source": [
    "## List Interpolations\n",
    "\n",
    "At the present moment, I have the following lists:\n",
    "    - radius (radius)\n",
    "    - density (density)\n",
    "    - shell thickness (deltaR)\n",
    "    - shell mass (shellMass)\n",
    "    - enclosed mass (enclosedMass)\n",
    "    - escape velocity squared (escVel)\n",
    "    - number density of a *single* element (numDensityList)\n",
    "\n",
    "I need to interpolate the following lists into functions:\n",
    "    - density\n",
    "    - enclosed mass\n",
    "    - escape velocity squared"
   ]
  },
  {
   "cell_type": "code",
   "execution_count": 13,
   "metadata": {
    "collapsed": false
   },
   "outputs": [
    {
     "name": "stdout",
     "output_type": "stream",
     "text": [
      "Complete\n"
     ]
    }
   ],
   "source": [
    "# densityInterp = interpolate.interp1d(radiusList,densityList,kind='linear') #kg/cm^3\n",
    "enclosedMassInterp = interpolate.interp1d(radiusList,enclosedMassList,kind='linear') # kg\n",
    "escVel2Interp = interpolate.interp1d(radiusList,escVel2List,kind='linear') # 1/c\n",
    "densityInterp = interpolate.interp1d(radiusList,densityList,kind='linear') # kg/cm^3\n",
    "\n",
    "# densityInterp = interpolate.interp1d(s,densityList,kind='linear') #kg/m^3\n",
    "# enclosedMassInterp = interpolate.interp1d(s,enclosedMassList,kind='linear')\n",
    "# escVel2Interp = interpolate.interp1d(s,escVel2List,kind='linear')\n",
    "\n",
    "print 'Complete'"
   ]
  },
  {
   "cell_type": "markdown",
   "metadata": {},
   "source": [
    "### Escape Velocity Interpolation Check\n",
    "Note: Over the entire interpolation range, the interpolation is good, but depending on where you zoom in on the graph, it will look off."
   ]
  },
  {
   "cell_type": "code",
   "execution_count": 14,
   "metadata": {
    "collapsed": false
   },
   "outputs": [
    {
     "data": {
      "image/png": "[encoded data removed]",
      "text/plain": [
       "<matplotlib.figure.Figure at 0xac2e3c8>"
      ]
     },
     "metadata": {},
     "output_type": "display_data"
    },
    {
     "name": "stdout",
     "output_type": "stream",
     "text": [
      "Complete\n"
     ]
    }
   ],
   "source": [
    "alist = range(0,40)\n",
    "tempEsc = []\n",
    "for i in alist:\n",
    "    tempEsc.append(escVel2List[i])\n",
    "    \n",
    "plt.plot(alist,tempEsc,'b.',alist,escVel2Interp(radiusList[alist]),'g-')\n",
    "plt.xlabel('Radius Index')\n",
    "plt.ylabel('Escape Velocity (c^-1)')\n",
    "plt.title('Escape Velocity vs Radius Index')\n",
    "plt.text(2.5,2.490e-9,'List Values: Blue Dots')\n",
    "plt.text(2.5,2.488e-9,'Interpolation: Green Line')\n",
    "plt.show()\n",
    "print 'Complete'"
   ]
  },
  {
   "cell_type": "markdown",
   "metadata": {},
   "source": [
    "# Capture Rate\n",
    "\n",
    "Our final goal is to calculate:\n",
    "\n",
    "$$ C^N_{cap} = n_X \\, c^N_{cap,red} $$\n",
    "\n",
    "where  $C^N_{cap,red}$ is the product of three integrals over the radius of earth $r$, the incident DM velocity $u$, and the DM recoil energy $E_R$. \n",
    "The reduced capture rate $c^N_{cap,red}$ is given by:\n",
    "\n",
    "$$\n",
    "c^N_{cap,red} = \n",
    "\\int_{0}^{R_{\\oplus}}dr \\, 4 \\pi r^2 n_N(r) \n",
    "\\int_{0}^{V_{gal}/c} du \\, 4 \\pi u^2 f(u) \\frac{u^2 + v_{\\oplus}^2(r)}{u}\n",
    "\\int_{E_{min}}^{E_{max}} \\, dE_R \\frac{d\\sigma_N}{dE_R} \\Theta (\\Delta E)\n",
    "$$\n",
    "\n",
    "where finally, $ \\frac{d\\sigma_N}{dE_R} $ is given by:\n",
    "\n",
    "$$ \\frac{d\\sigma_N}{dE_R} \\approx \n",
    "8 \\pi \\epsilon^2 \\, \\alpha_X \\, \\alpha \\, Z_N^2 \\, \\frac{m_N}{(u^2 + v_{\\oplus})^2(2m_NE_R + m_{A\\prime}^2)^2} \\left | F_N \\right| ^2$$\n",
    "\n",
    "\n",
    "A summary of all the functions used will be provided at the end of this section."
   ]
  },
  {
   "cell_type": "markdown",
   "metadata": {},
   "source": [
    "#### Motivation\n",
    "The motivation for the following calculations is to reduce the actual computation as much as possible by multiplying by all constant factors at the end of the calculation.\n",
    "\n",
    "Factors that are pulled out of calculations will be acounted for in a running total for the length of this section under the heading:\n",
    "\n",
    "##### Factors Removed"
   ]
  },
  {
   "cell_type": "markdown",
   "metadata": {},
   "source": [
    "## Helm Form Factor: $|F_N(E_R)|^2$\n",
    "The Helm Form Factor is given by:\n",
    "$$ \\left| F_N(E_R) \\right| ^2 = e^{[-E_R/E_N]} $$ (see eqn (10) of arXiv: 1509.07525v2)\n",
    "\n",
    "where $E_N \\equiv \\frac{0.114 }{ A_{N}^{5/3}} \\space GeV$ is the characteristic energy of a nucleus with atomic number $A_N$\n",
    "\n",
    "This factor accounts for the effective size of a target nucleus in a DM -- nucleus when an incoming DM particle scatters of a nucleus inside the earth."
   ]
  },
  {
   "cell_type": "code",
   "execution_count": 15,
   "metadata": {
    "collapsed": false
   },
   "outputs": [
    {
     "name": "stdout",
     "output_type": "stream",
     "text": [
      "Complete\n"
     ]
    }
   ],
   "source": [
    "def formFactor2(element, E):\n",
    "    mn = amu2Gev(atomicNumbers[element])\n",
    "    E_N = 0.114/((atomicNumbers[element])**(5./3))\n",
    "    FN2 = np.exp(-E/E_N)\n",
    "    return FN2\n",
    "\n",
    "print 'Complete'"
   ]
  },
  {
   "cell_type": "markdown",
   "metadata": {},
   "source": [
    "## Cross Section Integrand: $ \\frac{d\\sigma _N}{dE_R} $ (eqn9) arXiv: 1509.07525v2\n",
    "\n",
    "The following cell modifies the cross section integrand given by:\n",
    "$$ \\text{eqn09Guts}  = \\frac{m_N}{(2m_N E_R + m_A\\prime ^2)^2} \\left| F_N \\right|^2  $$\n",
    "\n",
    "with dimension : $[\\text{eqn09Guts}] = \\frac{1}{GeV^3}$\n",
    "\n",
    "##### Factors Removed:  $8\\pi \\epsilon^2 \\alpha_X \\alpha Z_N^2$"
   ]
  },
  {
   "cell_type": "code",
   "execution_count": 16,
   "metadata": {
    "collapsed": false
   },
   "outputs": [
    {
     "name": "stdout",
     "output_type": "stream",
     "text": [
      "Complete\n"
     ]
    }
   ],
   "source": [
    "def eqn09Guts(element, m_A, E):\n",
    "    mn = amu2Gev(atomicNumbers[element])\n",
    "    function = (mn * formFactor2(element,E) ) / ((2*mn*E + m_A**2)**2)\n",
    "    return function\n",
    "\n",
    "print 'Complete'"
   ]
  },
  {
   "cell_type": "markdown",
   "metadata": {},
   "source": [
    "## Incident Dark Matter Velocity Distribution (eqn17)\n",
    "In the following cell we calculate the normalization constant $N_0$ for the incident dark matter velocity distribution:\n",
    "\n",
    "$$ \\frac{1}{N_0} = \\int_{0}^{V_{gal}/c} f(u) \\ du = \\text{tempA}$$\n",
    "where $u$ is a naturalized velocity and $f(u)$ is the incident DM velocity distribution which we take to be Maxwell-Boltzmann in shape:\n",
    "\n",
    "$$ \\text{DMVelDist} = f(u) =  N_0 \\left[ exp \\left ( \n",
    "\\frac{v^2_{gal}-u^2}{ku^2_0}\\right) -1 \\right] ^k\n",
    "\\Theta(v_{gal} - u) $$\n",
    "\n",
    "Typical values for $v_{gal}$ (km/s), $u_0$ (km/s), and $k$ respectively lie between:\n",
    "\n",
    "$$ 220<u_0<270 \\qquad 450<v_{gal}<650 \\qquad 1.5<k<3.5 $$\n",
    "\n",
    "For computations, we take $u_0 = 245\\times 10^6$ cm/s, $v_{gal} = 550\\times10^6$ cm/s and $k = 2.5$\n"
   ]
  },
  {
   "cell_type": "code",
   "execution_count": 17,
   "metadata": {
    "collapsed": false
   },
   "outputs": [
    {
     "name": "stdout",
     "output_type": "stream",
     "text": [
      "Complete\n"
     ]
    }
   ],
   "source": [
    "# u is now a naturalized velocity\n",
    "def DMVelDistNormalization(u):\n",
    "# The if-else structure accounts for the Heaviside function\n",
    "    if ((V_gal/c) - u < 0):\n",
    "        temp = 0.\n",
    "        \n",
    "    elif ( ((V_gal/c) - (u)) >= 0):\n",
    "        numerator = ((V_gal/c)**2 - (u)**2)\n",
    "        denominator = (k * (u_0/c)**2)\n",
    "        arg = ( numerator / denominator)    \n",
    "        temp = 4*np.pi*(u)**2 * (np.expm1(arg))** k\n",
    "    return temp\n",
    "\n",
    "\n",
    "tempA = integrate.quad(DMVelDistNormalization,0,V_gal/c)[0]\n",
    "N_0 = 1./tempA\n",
    "\n",
    "def DMVelDist(u, N_1 = N_0):\n",
    "# The if-else structure accounts for the Heaviside function\n",
    "# N_1 is the normalization \n",
    "    if ((V_gal/c - u) < 0):\n",
    "        temp = 0\n",
    "        \n",
    "    elif ((V_gal/c - u) >= 0):\n",
    "        numerator = ((V_gal/c)**2 - (u)**2)\n",
    "        denominator = (k * (u_0/c)**2)\n",
    "        arg = ( numerator / denominator)    \n",
    "        temp = N_1 * (np.expm1(arg) ) ** k\n",
    "    return temp\n",
    "\n",
    "print 'Complete'"
   ]
  },
  {
   "cell_type": "code",
   "execution_count": null,
   "metadata": {
    "collapsed": true
   },
   "outputs": [],
   "source": []
  },
  {
   "cell_type": "markdown",
   "metadata": {},
   "source": [
    "## Modified Dark Matter Velocity Distribution (eqn16)\n",
    "\n",
    "The modified distribution $ f_{\\oplus}$ is the annular and angular averaged dark matter distribution in the rest frame of Earth given by:\n",
    "\n",
    "$$ \\text{ModDMVelDist} = f_{\\oplus}(u) = \\frac{1}{4} \\int_{-1}^{1}\\int_{-1}^{1} dcos\\theta \\, dcos\\phi \\space\n",
    "   f \\left[ \\left( u^2 (V_{\\odot} + V_{\\oplus}cos\\phi)^2 + 2u(V_{\\odot} + V_{\\oplus} cos\\phi) cos\\theta \\right) ^{1/2} \\right] $$"
   ]
  },
  {
   "cell_type": "code",
   "execution_count": 18,
   "metadata": {
    "collapsed": false
   },
   "outputs": [
    {
     "name": "stdout",
     "output_type": "stream",
     "text": [
      "Complete\n"
     ]
    }
   ],
   "source": [
    "def ModDMVelDist(u):\n",
    "    def integrand(x, y): #x = cos(theta), y = cos(phi)\n",
    "        return 0.25 * DMVelDist( ( u**2 + ((V_dot/c) + (V_cross/c) * y)**2 + 2 * u * ((V_dot/c) + (V_cross/c) * y) *x)** 0.5  )\n",
    "\n",
    "    return integrate.dblquad(integrand, -1, 1, lambda y: -1, lambda y: 1)[0]\n",
    "\n",
    "\n",
    "print 'Complete'"
   ]
  },
  {
   "cell_type": "markdown",
   "metadata": {},
   "source": [
    "### Graphing and Interpolating the Modified DM Velocity Distribution\n",
    "\n",
    "#### Graph"
   ]
  },
  {
   "cell_type": "code",
   "execution_count": 19,
   "metadata": {
    "collapsed": false
   },
   "outputs": [
    {
     "name": "stdout",
     "output_type": "stream",
     "text": [
      "Complete\n"
     ]
    },
    {
     "data": {
      "image/png": "[encoded data removed]",
      "text/plain": [
       "<matplotlib.figure.Figure at 0xb1b9908>"
      ]
     },
     "metadata": {},
     "output_type": "display_data"
    }
   ],
   "source": [
    "velRange = np.linspace(0,V_gal/c,200)\n",
    "\n",
    "ModDMVect = []\n",
    "for vel in velRange:\n",
    "    ModDMVect.append(ModDMVelDist(vel))\n",
    "    \n",
    "plt.plot(velRange,ModDMVect,'.')\n",
    "\n",
    "\n",
    "print 'Complete'"
   ]
  },
  {
   "cell_type": "markdown",
   "metadata": {},
   "source": [
    "#### Interpolate"
   ]
  },
  {
   "cell_type": "code",
   "execution_count": 20,
   "metadata": {
    "collapsed": false
   },
   "outputs": [
    {
     "name": "stdout",
     "output_type": "stream",
     "text": [
      "Complete\n"
     ]
    },
    {
     "data": {
      "image/png": "[encoded data removed]",
      "text/plain": [
       "<matplotlib.figure.Figure at 0xa6beb38>"
      ]
     },
     "metadata": {},
     "output_type": "display_data"
    }
   ],
   "source": [
    "# Interpolate this list\n",
    "DMVect = []\n",
    "ModDMVelInterp = interpolate.interp1d(velRange,ModDMVect,kind='linear')\n",
    "\n",
    "for vel in velRange:\n",
    "    DMVect.append(ModDMVelInterp(vel))\n",
    "    \n",
    "\n",
    "plt.plot(velRange,DMVect,'green', velRange, ModDMVect, 'b.')\n",
    "plt.axis([0.,0.0002,2.0e8,2.16e8])\n",
    "plt.xlabel('Incident Velocity')\n",
    "plt.ylabel(\"f'(u)\")\n",
    "plt.title('Modified DM Velocity Interpolation Check')\n",
    "plt.text(0.000025,2.08e8,'Blue Dots: List Values')\n",
    "plt.text(0.000025,2.06e8,'Green Line: Interpolation')\n",
    "print 'Complete'"
   ]
  },
  {
   "cell_type": "markdown",
   "metadata": {},
   "source": [
    "### Emin and Emax Initialization (eqn13)\n",
    "In the following cell, we initialize the Emin and Emax functions where\n",
    "$$ E_{Min} = \\frac{1}{2} m_X u^2 \\qquad E_{Max} = 2 \\frac{\\mu^2}{m_N} (u^2 + v_{\\oplus}^2)$$  "
   ]
  },
  {
   "cell_type": "code",
   "execution_count": 21,
   "metadata": {
    "collapsed": false
   },
   "outputs": [
    {
     "name": "stdout",
     "output_type": "stream",
     "text": [
      "Complete\n"
     ]
    }
   ],
   "source": [
    "def eMin(u, m_X):\n",
    "    function = (0.5) * m_X * u**2\n",
    "    assert (function >=0), '(u, m_X): (%e,%e) result in a negative eMin' % (u, m_X)\n",
    "    return function\n",
    "\n",
    "def eMax(element, m_X, rIndex, u):\n",
    "    mn = amu2Gev(atomicNumbers[element])\n",
    "    mu = mn*m_X / (mn + m_X)\n",
    "    vCross2 = escVel2List[rIndex]\n",
    "    function = 2*mu**2 *(u**2 + vCross2)/mn\n",
    "    assert (function >= 0), '(element, m_X, rIndex, u): (%s, %e, %i, %e) result in negative eMax' %(element, m_X, rIndex, u)\n",
    "    return function\n",
    "\n",
    "print 'Complete'"
   ]
  },
  {
   "cell_type": "markdown",
   "metadata": {},
   "source": [
    "## Calculating the Capture Integral\n",
    "In the following cell, we calculate the velocity and recoil energy integrals:\n",
    "\n",
    "$$ \\text{IntDuDEr} = \\int_{0}^{uInt} du\\space u \\, f(u) \\int_{E_{min}}^{E_{Max}} dE_R \\space \\frac{d \\sigma_N}{dE_R} \\Theta(\\Delta E) $$ \n",
    "\n",
    "with dimension: $[ \\text{IntDuDEr}] = \\frac{1}{GeV^2}$\n",
    "\n",
    "where $$ u_{int}^2 = \\frac{2\\mu_N^2}{m_N} \\frac{1}{ \\left( \\frac{1}{2m_X} - \\frac{2\\mu_N^2}{m_N} \\right)  } v_{\\oplus}^2 $$\n",
    "\n",
    "See Appendix A for a discussion of calculating this integral.\n",
    "\n",
    "##### Factors Removed:  $(4\\pi)(8\\pi \\epsilon^2 \\alpha_X \\alpha Z_N^2)$"
   ]
  },
  {
   "cell_type": "code",
   "execution_count": 22,
   "metadata": {
    "collapsed": false
   },
   "outputs": [
    {
     "name": "stdout",
     "output_type": "stream",
     "text": [
      "1.7891666866e-10\n",
      "Complete\n"
     ]
    }
   ],
   "source": [
    "def IntDuDEr(element, m_X, m_A, rIndex):\n",
    "    mn = amu2Gev(atomicNumbers[element])\n",
    "    mu = (mn*m_X)/(mn+m_X)\n",
    "    vCross2 = escVel2List[rIndex]\n",
    "    \n",
    "    def integrand(E,u):\n",
    "#         fu = DMVelDist(u)\n",
    "        fu = ModDMVelInterp(u)\n",
    "\n",
    "        inte = eqn09Guts(element, m_A, E) * u * fu\n",
    "#         inte = eqn09Guts(E, m_A, element) * u\n",
    "\n",
    "#         assert (inte >= 0), '(E,u): (%e,%e) result in a negative integrand' % (E,u)\n",
    "        return inte\n",
    "    \n",
    "    # Calculate the intersection uInt of eMin and eMax given a specific rIndex\n",
    "    A = 1/2. * m_X\n",
    "    B = 2. * mu**2 / mn\n",
    "    uInt = np.sqrt( ( B * vCross2) / (A-B) )\n",
    "    \n",
    "    uLow = 0\n",
    "    uHigh = uInt\n",
    "    eLow = lambda u: eMin(u, m_X)\n",
    "    eHigh = lambda u: eMax(element, m_X, rIndex, u)\n",
    "    integral = integrate.dblquad(integrand, uLow, uHigh, eLow, eHigh)[0]\n",
    "    return integral\n",
    "\n",
    "print IntDuDEr('O16',1,1,20)\n",
    "\n",
    "print 'Complete'"
   ]
  },
  {
   "cell_type": "markdown",
   "metadata": {
    "collapsed": true
   },
   "source": [
    "## Sum over radii\n",
    "In the following cell, we calculate the \"integral\" over the radius of earth:\n",
    "\n",
    "$$ \\int^{R_{earth}}_{0} dr\\space 4\\pi r^2 n_N(r) \\int_{0}^{uInt} du\\space 4\\pi u f(u) \\int_{E_{min}}^{E_{Max}} dE_R \\space \\frac{d \\sigma_N}{dE_R} \\Theta(\\Delta E) $$\n",
    "\n",
    "where we rename the velocity and recoil energy integrals to their respective python function $IntDuDEr$:\n",
    "\n",
    "$$ \\int^{R_{earth}}_{0} dr\\space 4\\pi r^2 n_N(r) \\space IntDuDEr  $$\n",
    "\n",
    "with dimension $ \\frac{m^3}{GeV^2}$\n",
    "\n",
    "However, instead of calculating this as an integral as stated, we discretize the integral and use the thin-shell approximation:\n",
    "\n",
    "$$ \\frac{4}{3}\\pi (r +\\Delta r)^3 - \\frac{4}{3}\\pi r^3 = 4 \\pi r^2 \\Delta r$$\n",
    "\n",
    "which yields the discrete summation:\n",
    "\n",
    "$$ SumOverR = \\Sigma_{i} 4 \\pi r_i^2 n_N(r) \\Delta r_i \\space IntDuDEr $$\n",
    "\n",
    "where the variables $r_i$, $n_N(r)$, and $\\Delta r_i$ are given by:\n",
    "$$ r_i = radiusList[i] \\qquad n_N(r) = numDensityList(element)[i] \\qquad \\Delta r_i = deltaRList[i] $$\n",
    "\n",
    "It is important to note, $i$ is a pure summation index and all physical quantites depending on i are taken from the respective lists.\n",
    " \n",
    "One could interpolate the radius, number density, and escape velocity lists into functions and perform an actual integration, [reasons why that isn't worthwhile to do]\n",
    "\n",
    "Note: the functions SumR and SumR1 are the exact same as in Flip's notebook for a double check. SumR doesn't include the number densities though, and SumR1 does.\n",
    "\n",
    "##### Removed Factors: $(4\\pi)(4\\pi)(8\\pi \\epsilon^2 \\alpha_X \\alpha Z_N^2)$"
   ]
  },
  {
   "cell_type": "code",
   "execution_count": 23,
   "metadata": {
    "collapsed": false
   },
   "outputs": [
    {
     "name": "stdout",
     "output_type": "stream",
     "text": [
      "Complete\n"
     ]
    }
   ],
   "source": [
    "# I sum over the indicies and call the appropriate dictionaries at each index\n",
    "\n",
    "# def SumR(element, m_X, m_A):\n",
    "#     rSum = 0\n",
    "#     for i in range(0,len(radiusList)):\n",
    "#         r = radiusList[i]\n",
    "#         deltaR = deltaRList[i]\n",
    "\n",
    "#         summand = r**2 * IntDuDEr(element, m_X, m_A, i)*deltaR\n",
    "#         rSum = rSum + summand\n",
    "#     return rSum\n",
    "\n",
    "# def SumR1(element, m_X, m_A):\n",
    "#     rSum = 0\n",
    "#     for i in range(0,len(radiusList)):\n",
    "#         r = radiusList[i]\n",
    "#         deltaR = deltaRList[i]\n",
    "#         n_N = numDensityList(element)[i]\n",
    "        \n",
    "#         summand = r**2 * n_N *IntDuDEr(element, m_X, m_A, i)*deltaR\n",
    "#         rSum += summand\n",
    "#     return rSum\n",
    "\n",
    "def SumOverR(element, m_X, m_A):\n",
    "    tempSum = 0\n",
    "    for i in range(0,len(radiusList)):\n",
    "        r = radiusList[i]\n",
    "        deltaR = deltaRList[i]\n",
    "        n_N = numDensityList(element)[i]\n",
    "#         summand = r**2*IntDuDEr(element, m_X, m_A, i)*deltaR\n",
    "        summand = n_N *r**2*IntDuDEr(element, m_X, m_A, i)*deltaR\n",
    "        tempSum += summand\n",
    "    return tempSum\n",
    "\n",
    "print 'Complete'"
   ]
  },
  {
   "cell_type": "markdown",
   "metadata": {
    "collapsed": true
   },
   "source": [
    "## Renaming\n",
    "Here, we simply rename SumR to CapRed"
   ]
  },
  {
   "cell_type": "code",
   "execution_count": 24,
   "metadata": {
    "collapsed": false
   },
   "outputs": [],
   "source": [
    "# def CCapRed(element, m_X, m_A):\n",
    "#     return SumR(element, m_X, m_A)\n",
    "\n",
    "# def CCapRed1(element, m_X, m_A):\n",
    "#     return SumR1(element, m_X, m_A)\n",
    "\n",
    "# print 'Complete'"
   ]
  },
  {
   "cell_type": "markdown",
   "metadata": {
    "collapsed": true
   },
   "source": [
    "## Full Capture Rate: $C^N_{cap}$\n",
    "The final step is to tack on all of the removed factors and calculate the full capture rate:\n",
    "\n",
    "$$ \\text{fullCap} = \\left[(4\\pi)(4\\pi)(8\\pi \\epsilon^2 \\alpha_X \\alpha Z_N^2)\\right] n_X \\text{sumOverR} $$\n",
    "\n",
    "where $[n_X] = \\frac{1}{cm^3}$ and $[sumOverR] = \\frac{1}{GeV^2}$, so $[totalCap] = \\frac{1}{cm^3 GeV^2}$\n",
    "\n",
    "We manually multiply by the following conversions:\n",
    "$$ \\frac{cm \\cdot GeV}{5.06\\times10^{13}} =  1 \\qquad \\text{and} \\qquad \\frac{1.52\\times10^{24}}{GeV\\cdot s} = 1$$\n"
   ]
  },
  {
   "cell_type": "code",
   "execution_count": 25,
   "metadata": {
    "collapsed": false
   },
   "outputs": [
    {
     "name": "stdout",
     "output_type": "stream",
     "text": [
      "Complete\n"
     ]
    }
   ],
   "source": [
    "# def CCap(element, m_X, m_A, epsilon, alpha, alpha_X):\n",
    "#     n_X = 0.3/m_X # 1/cm^3\n",
    "#     Z_N = nProtons[element]\n",
    "    \n",
    "#     conversion = (5.06e13)**-3*(1.52e24)\n",
    "#     prefactor = 2 * n_X* (4*np.pi)**3 * epsilon**2 * alpha_X *alpha * Z_N**2 * conversion\n",
    "#     return prefactor * CCapRed(element, m_X, m_A) \n",
    "\n",
    "\n",
    "# def CCap1(element, m_X, m_A, epsilon, alpha, alpha_X):\n",
    "#     n_X = 0.3/m_X # 1/cm^3\n",
    "#     Z_N = nProtons[element]\n",
    "\n",
    "#     conversion = (5.06e13)**-3*(1.52e24)\n",
    "#     prefactor = 2 * n_X* (4*np.pi)**3 * epsilon**2 * alpha_X *alpha * Z_N**2 * conversion\n",
    "\n",
    "#     return  n_X * prefactor * CCapRed1(element, m_X, m_A)\n",
    "\n",
    "def fullCap(element, m_X, m_A, epsilon, alpha, alpha_X):\n",
    "    Z_N = nProtons[element]\n",
    "    n_X = 0.3/m_X\n",
    "    \n",
    "    conversion = (5.06e13)**-3*(1.52e24)\n",
    "    prefactor = 2*(4*np.pi)**3*epsilon**2*alpha_X*alpha*Z_N**2 *conversion\n",
    "    \n",
    "    return n_X * prefactor * SumOverR(element, m_X, m_A)\n",
    "\n",
    "# CCapFlip[(n), alphaX, epsilon, m_X, m_A]\n",
    "# These are the values from ArXiV: 1509.07525v2 Flip Earth paper\n",
    "CCapFlip0 = {# CCapFlip[(n), alphaX = 0.035, epsilon = 10e-8, m_X = 1000, m_A = 1]\n",
    "    'O16': 4.03e5,\n",
    "    'Si28': 2.24e6,\n",
    "    'Mg24': 1.05e6,\n",
    "    'Fe56': 9.43e7,\n",
    "    'Ca40': 9.06e5,\n",
    "    'P31': 2.04e4,\n",
    "    'S32': 2.41e5,\n",
    "    'Ni58': 7.10e6,\n",
    "    'Al27': 1.62e5,\n",
    "    'Cr52': 8.98e5 \n",
    "}\n",
    "\n",
    "print 'Complete'"
   ]
  },
  {
   "cell_type": "markdown",
   "metadata": {},
   "source": [
    "## Capture Rates"
   ]
  },
  {
   "cell_type": "code",
   "execution_count": 26,
   "metadata": {
    "collapsed": false
   },
   "outputs": [
    {
     "name": "stdout",
     "output_type": "stream",
     "text": [
      "C_N: O16 = 5.419333e+05\n"
     ]
    },
    {
     "ename": "KeyboardInterrupt",
     "evalue": "",
     "output_type": "error",
     "traceback": [
      "\u001b[1;31m---------------------------------------------------------------------------\u001b[0m",
      "\u001b[1;31mKeyboardInterrupt\u001b[0m                         Traceback (most recent call last)",
      "\u001b[1;32m<ipython-input-26-a328761e4122>\u001b[0m in \u001b[0;36m<module>\u001b[1;34m()\u001b[0m\n\u001b[0;32m      1\u001b[0m \u001b[1;32mfor\u001b[0m \u001b[0melement\u001b[0m \u001b[1;32min\u001b[0m \u001b[0melementList\u001b[0m\u001b[1;33m:\u001b[0m\u001b[1;33m\u001b[0m\u001b[0m\n\u001b[1;32m----> 2\u001b[1;33m     \u001b[1;32mprint\u001b[0m \u001b[1;34m'C_N: %s = %e'\u001b[0m \u001b[1;33m%\u001b[0m \u001b[1;33m(\u001b[0m\u001b[0melement\u001b[0m\u001b[1;33m,\u001b[0m \u001b[0mfullCap\u001b[0m\u001b[1;33m(\u001b[0m\u001b[0melement\u001b[0m\u001b[1;33m,\u001b[0m \u001b[1;36m1000.\u001b[0m\u001b[1;33m,\u001b[0m \u001b[1;36m1.\u001b[0m\u001b[1;33m,\u001b[0m \u001b[1;36m10.0\u001b[0m\u001b[1;33m**\u001b[0m\u001b[1;33m-\u001b[0m\u001b[1;36m8\u001b[0m\u001b[1;33m,\u001b[0m \u001b[1;36m1.\u001b[0m\u001b[1;33m/\u001b[0m\u001b[1;36m137\u001b[0m\u001b[1;33m,\u001b[0m \u001b[1;36m0.035\u001b[0m\u001b[1;33m)\u001b[0m\u001b[1;33m)\u001b[0m\u001b[1;33m\u001b[0m\u001b[0m\n\u001b[0m\u001b[0;32m      3\u001b[0m \u001b[1;33m\u001b[0m\u001b[0m\n\u001b[0;32m      4\u001b[0m \u001b[1;32mprint\u001b[0m \u001b[1;34m'Complete'\u001b[0m\u001b[1;33m\u001b[0m\u001b[0m\n",
      "\u001b[1;32m<ipython-input-25-548f7040cb60>\u001b[0m in \u001b[0;36mfullCap\u001b[1;34m(element, m_X, m_A, epsilon, alpha, alpha_X)\u001b[0m\n\u001b[0;32m     24\u001b[0m     \u001b[0mprefactor\u001b[0m \u001b[1;33m=\u001b[0m \u001b[1;36m2\u001b[0m\u001b[1;33m*\u001b[0m\u001b[1;33m(\u001b[0m\u001b[1;36m4\u001b[0m\u001b[1;33m*\u001b[0m\u001b[0mnp\u001b[0m\u001b[1;33m.\u001b[0m\u001b[0mpi\u001b[0m\u001b[1;33m)\u001b[0m\u001b[1;33m**\u001b[0m\u001b[1;36m3\u001b[0m\u001b[1;33m*\u001b[0m\u001b[0mepsilon\u001b[0m\u001b[1;33m**\u001b[0m\u001b[1;36m2\u001b[0m\u001b[1;33m*\u001b[0m\u001b[0malpha_X\u001b[0m\u001b[1;33m*\u001b[0m\u001b[0malpha\u001b[0m\u001b[1;33m*\u001b[0m\u001b[0mZ_N\u001b[0m\u001b[1;33m**\u001b[0m\u001b[1;36m2\u001b[0m \u001b[1;33m*\u001b[0m\u001b[0mconversion\u001b[0m\u001b[1;33m\u001b[0m\u001b[0m\n\u001b[0;32m     25\u001b[0m \u001b[1;33m\u001b[0m\u001b[0m\n\u001b[1;32m---> 26\u001b[1;33m     \u001b[1;32mreturn\u001b[0m \u001b[0mn_X\u001b[0m \u001b[1;33m*\u001b[0m \u001b[0mprefactor\u001b[0m \u001b[1;33m*\u001b[0m \u001b[0mSumOverR\u001b[0m\u001b[1;33m(\u001b[0m\u001b[0melement\u001b[0m\u001b[1;33m,\u001b[0m \u001b[0mm_X\u001b[0m\u001b[1;33m,\u001b[0m \u001b[0mm_A\u001b[0m\u001b[1;33m)\u001b[0m\u001b[1;33m\u001b[0m\u001b[0m\n\u001b[0m\u001b[0;32m     27\u001b[0m \u001b[1;33m\u001b[0m\u001b[0m\n\u001b[0;32m     28\u001b[0m \u001b[1;31m# CCapFlip[(n), alphaX, epsilon, m_X, m_A]\u001b[0m\u001b[1;33m\u001b[0m\u001b[1;33m\u001b[0m\u001b[0m\n",
      "\u001b[1;32m<ipython-input-23-e7fa6dadde1d>\u001b[0m in \u001b[0;36mSumOverR\u001b[1;34m(element, m_X, m_A)\u001b[0m\n\u001b[0;32m     29\u001b[0m         \u001b[0mn_N\u001b[0m \u001b[1;33m=\u001b[0m \u001b[0mnumDensityList\u001b[0m\u001b[1;33m(\u001b[0m\u001b[0melement\u001b[0m\u001b[1;33m)\u001b[0m\u001b[1;33m[\u001b[0m\u001b[0mi\u001b[0m\u001b[1;33m]\u001b[0m\u001b[1;33m\u001b[0m\u001b[0m\n\u001b[0;32m     30\u001b[0m \u001b[1;31m#         summand = r**2*IntDuDEr(element, m_X, m_A, i)*deltaR\u001b[0m\u001b[1;33m\u001b[0m\u001b[1;33m\u001b[0m\u001b[0m\n\u001b[1;32m---> 31\u001b[1;33m         \u001b[0msummand\u001b[0m \u001b[1;33m=\u001b[0m \u001b[0mn_N\u001b[0m \u001b[1;33m*\u001b[0m\u001b[0mr\u001b[0m\u001b[1;33m**\u001b[0m\u001b[1;36m2\u001b[0m\u001b[1;33m*\u001b[0m\u001b[0mIntDuDEr\u001b[0m\u001b[1;33m(\u001b[0m\u001b[0melement\u001b[0m\u001b[1;33m,\u001b[0m \u001b[0mm_X\u001b[0m\u001b[1;33m,\u001b[0m \u001b[0mm_A\u001b[0m\u001b[1;33m,\u001b[0m \u001b[0mi\u001b[0m\u001b[1;33m)\u001b[0m\u001b[1;33m*\u001b[0m\u001b[0mdeltaR\u001b[0m\u001b[1;33m\u001b[0m\u001b[0m\n\u001b[0m\u001b[0;32m     32\u001b[0m         \u001b[0mtempSum\u001b[0m \u001b[1;33m+=\u001b[0m \u001b[0msummand\u001b[0m\u001b[1;33m\u001b[0m\u001b[0m\n\u001b[0;32m     33\u001b[0m     \u001b[1;32mreturn\u001b[0m \u001b[0mtempSum\u001b[0m\u001b[1;33m\u001b[0m\u001b[0m\n",
      "\u001b[1;32m<ipython-input-22-c69194556b06>\u001b[0m in \u001b[0;36mIntDuDEr\u001b[1;34m(element, m_X, m_A, rIndex)\u001b[0m\n\u001b[0;32m     23\u001b[0m     \u001b[0meLow\u001b[0m \u001b[1;33m=\u001b[0m \u001b[1;32mlambda\u001b[0m \u001b[0mu\u001b[0m\u001b[1;33m:\u001b[0m \u001b[0meMin\u001b[0m\u001b[1;33m(\u001b[0m\u001b[0mu\u001b[0m\u001b[1;33m,\u001b[0m \u001b[0mm_X\u001b[0m\u001b[1;33m)\u001b[0m\u001b[1;33m\u001b[0m\u001b[0m\n\u001b[0;32m     24\u001b[0m     \u001b[0meHigh\u001b[0m \u001b[1;33m=\u001b[0m \u001b[1;32mlambda\u001b[0m \u001b[0mu\u001b[0m\u001b[1;33m:\u001b[0m \u001b[0meMax\u001b[0m\u001b[1;33m(\u001b[0m\u001b[0melement\u001b[0m\u001b[1;33m,\u001b[0m \u001b[0mm_X\u001b[0m\u001b[1;33m,\u001b[0m \u001b[0mrIndex\u001b[0m\u001b[1;33m,\u001b[0m \u001b[0mu\u001b[0m\u001b[1;33m)\u001b[0m\u001b[1;33m\u001b[0m\u001b[0m\n\u001b[1;32m---> 25\u001b[1;33m     \u001b[0mintegral\u001b[0m \u001b[1;33m=\u001b[0m \u001b[0mintegrate\u001b[0m\u001b[1;33m.\u001b[0m\u001b[0mdblquad\u001b[0m\u001b[1;33m(\u001b[0m\u001b[0mintegrand\u001b[0m\u001b[1;33m,\u001b[0m \u001b[0muLow\u001b[0m\u001b[1;33m,\u001b[0m \u001b[0muHigh\u001b[0m\u001b[1;33m,\u001b[0m \u001b[0meLow\u001b[0m\u001b[1;33m,\u001b[0m \u001b[0meHigh\u001b[0m\u001b[1;33m)\u001b[0m\u001b[1;33m[\u001b[0m\u001b[1;36m0\u001b[0m\u001b[1;33m]\u001b[0m\u001b[1;33m\u001b[0m\u001b[0m\n\u001b[0m\u001b[0;32m     26\u001b[0m     \u001b[1;32mreturn\u001b[0m \u001b[0mintegral\u001b[0m\u001b[1;33m\u001b[0m\u001b[0m\n\u001b[0;32m     27\u001b[0m \u001b[1;33m\u001b[0m\u001b[0m\n",
      "\u001b[1;32mC:\\Users\\Adam Green\\Anaconda2\\lib\\site-packages\\scipy\\integrate\\quadpack.pyc\u001b[0m in \u001b[0;36mdblquad\u001b[1;34m(func, a, b, gfun, hfun, args, epsabs, epsrel)\u001b[0m\n\u001b[0;32m    502\u001b[0m     \"\"\"\n\u001b[0;32m    503\u001b[0m     return quad(_infunc, a, b, (func, gfun, hfun, args),\n\u001b[1;32m--> 504\u001b[1;33m                 epsabs=epsabs, epsrel=epsrel)\n\u001b[0m\u001b[0;32m    505\u001b[0m \u001b[1;33m\u001b[0m\u001b[0m\n\u001b[0;32m    506\u001b[0m \u001b[1;33m\u001b[0m\u001b[0m\n",
      "\u001b[1;32mC:\\Users\\Adam Green\\Anaconda2\\lib\\site-packages\\scipy\\integrate\\quadpack.pyc\u001b[0m in \u001b[0;36mquad\u001b[1;34m(func, a, b, args, full_output, epsabs, epsrel, limit, points, weight, wvar, wopts, maxp1, limlst)\u001b[0m\n\u001b[0;32m    314\u001b[0m     \u001b[1;32mif\u001b[0m \u001b[1;33m(\u001b[0m\u001b[0mweight\u001b[0m \u001b[1;32mis\u001b[0m \u001b[0mNone\u001b[0m\u001b[1;33m)\u001b[0m\u001b[1;33m:\u001b[0m\u001b[1;33m\u001b[0m\u001b[0m\n\u001b[0;32m    315\u001b[0m         retval = _quad(func, a, b, args, full_output, epsabs, epsrel, limit,\n\u001b[1;32m--> 316\u001b[1;33m                        points)\n\u001b[0m\u001b[0;32m    317\u001b[0m     \u001b[1;32melse\u001b[0m\u001b[1;33m:\u001b[0m\u001b[1;33m\u001b[0m\u001b[0m\n\u001b[0;32m    318\u001b[0m         retval = _quad_weight(func, a, b, args, full_output, epsabs, epsrel,\n",
      "\u001b[1;32mC:\\Users\\Adam Green\\Anaconda2\\lib\\site-packages\\scipy\\integrate\\quadpack.pyc\u001b[0m in \u001b[0;36m_quad\u001b[1;34m(func, a, b, args, full_output, epsabs, epsrel, limit, points)\u001b[0m\n\u001b[0;32m    379\u001b[0m     \u001b[1;32mif\u001b[0m \u001b[0mpoints\u001b[0m \u001b[1;32mis\u001b[0m \u001b[0mNone\u001b[0m\u001b[1;33m:\u001b[0m\u001b[1;33m\u001b[0m\u001b[0m\n\u001b[0;32m    380\u001b[0m         \u001b[1;32mif\u001b[0m \u001b[0minfbounds\u001b[0m \u001b[1;33m==\u001b[0m \u001b[1;36m0\u001b[0m\u001b[1;33m:\u001b[0m\u001b[1;33m\u001b[0m\u001b[0m\n\u001b[1;32m--> 381\u001b[1;33m             \u001b[1;32mreturn\u001b[0m \u001b[0m_quadpack\u001b[0m\u001b[1;33m.\u001b[0m\u001b[0m_qagse\u001b[0m\u001b[1;33m(\u001b[0m\u001b[0mfunc\u001b[0m\u001b[1;33m,\u001b[0m\u001b[0ma\u001b[0m\u001b[1;33m,\u001b[0m\u001b[0mb\u001b[0m\u001b[1;33m,\u001b[0m\u001b[0margs\u001b[0m\u001b[1;33m,\u001b[0m\u001b[0mfull_output\u001b[0m\u001b[1;33m,\u001b[0m\u001b[0mepsabs\u001b[0m\u001b[1;33m,\u001b[0m\u001b[0mepsrel\u001b[0m\u001b[1;33m,\u001b[0m\u001b[0mlimit\u001b[0m\u001b[1;33m)\u001b[0m\u001b[1;33m\u001b[0m\u001b[0m\n\u001b[0m\u001b[0;32m    382\u001b[0m         \u001b[1;32melse\u001b[0m\u001b[1;33m:\u001b[0m\u001b[1;33m\u001b[0m\u001b[0m\n\u001b[0;32m    383\u001b[0m             \u001b[1;32mreturn\u001b[0m \u001b[0m_quadpack\u001b[0m\u001b[1;33m.\u001b[0m\u001b[0m_qagie\u001b[0m\u001b[1;33m(\u001b[0m\u001b[0mfunc\u001b[0m\u001b[1;33m,\u001b[0m\u001b[0mbound\u001b[0m\u001b[1;33m,\u001b[0m\u001b[0minfbounds\u001b[0m\u001b[1;33m,\u001b[0m\u001b[0margs\u001b[0m\u001b[1;33m,\u001b[0m\u001b[0mfull_output\u001b[0m\u001b[1;33m,\u001b[0m\u001b[0mepsabs\u001b[0m\u001b[1;33m,\u001b[0m\u001b[0mepsrel\u001b[0m\u001b[1;33m,\u001b[0m\u001b[0mlimit\u001b[0m\u001b[1;33m)\u001b[0m\u001b[1;33m\u001b[0m\u001b[0m\n",
      "\u001b[1;32mC:\\Users\\Adam Green\\Anaconda2\\lib\\site-packages\\scipy\\integrate\\quadpack.pyc\u001b[0m in \u001b[0;36m_infunc\u001b[1;34m(x, func, gfun, hfun, more_args)\u001b[0m\n\u001b[0;32m    449\u001b[0m     \u001b[0mb\u001b[0m \u001b[1;33m=\u001b[0m \u001b[0mhfun\u001b[0m\u001b[1;33m(\u001b[0m\u001b[0mx\u001b[0m\u001b[1;33m)\u001b[0m\u001b[1;33m\u001b[0m\u001b[0m\n\u001b[0;32m    450\u001b[0m     \u001b[0mmyargs\u001b[0m \u001b[1;33m=\u001b[0m \u001b[1;33m(\u001b[0m\u001b[0mx\u001b[0m\u001b[1;33m,\u001b[0m\u001b[1;33m)\u001b[0m \u001b[1;33m+\u001b[0m \u001b[0mmore_args\u001b[0m\u001b[1;33m\u001b[0m\u001b[0m\n\u001b[1;32m--> 451\u001b[1;33m     \u001b[1;32mreturn\u001b[0m \u001b[0mquad\u001b[0m\u001b[1;33m(\u001b[0m\u001b[0mfunc\u001b[0m\u001b[1;33m,\u001b[0m\u001b[0ma\u001b[0m\u001b[1;33m,\u001b[0m\u001b[0mb\u001b[0m\u001b[1;33m,\u001b[0m\u001b[0margs\u001b[0m\u001b[1;33m=\u001b[0m\u001b[0mmyargs\u001b[0m\u001b[1;33m)\u001b[0m\u001b[1;33m[\u001b[0m\u001b[1;36m0\u001b[0m\u001b[1;33m]\u001b[0m\u001b[1;33m\u001b[0m\u001b[0m\n\u001b[0m\u001b[0;32m    452\u001b[0m \u001b[1;33m\u001b[0m\u001b[0m\n\u001b[0;32m    453\u001b[0m \u001b[1;33m\u001b[0m\u001b[0m\n",
      "\u001b[1;32mC:\\Users\\Adam Green\\Anaconda2\\lib\\site-packages\\scipy\\integrate\\quadpack.pyc\u001b[0m in \u001b[0;36mquad\u001b[1;34m(func, a, b, args, full_output, epsabs, epsrel, limit, points, weight, wvar, wopts, maxp1, limlst)\u001b[0m\n\u001b[0;32m    314\u001b[0m     \u001b[1;32mif\u001b[0m \u001b[1;33m(\u001b[0m\u001b[0mweight\u001b[0m \u001b[1;32mis\u001b[0m \u001b[0mNone\u001b[0m\u001b[1;33m)\u001b[0m\u001b[1;33m:\u001b[0m\u001b[1;33m\u001b[0m\u001b[0m\n\u001b[0;32m    315\u001b[0m         retval = _quad(func, a, b, args, full_output, epsabs, epsrel, limit,\n\u001b[1;32m--> 316\u001b[1;33m                        points)\n\u001b[0m\u001b[0;32m    317\u001b[0m     \u001b[1;32melse\u001b[0m\u001b[1;33m:\u001b[0m\u001b[1;33m\u001b[0m\u001b[0m\n\u001b[0;32m    318\u001b[0m         retval = _quad_weight(func, a, b, args, full_output, epsabs, epsrel,\n",
      "\u001b[1;32mC:\\Users\\Adam Green\\Anaconda2\\lib\\site-packages\\scipy\\integrate\\quadpack.pyc\u001b[0m in \u001b[0;36m_quad\u001b[1;34m(func, a, b, args, full_output, epsabs, epsrel, limit, points)\u001b[0m\n\u001b[0;32m    379\u001b[0m     \u001b[1;32mif\u001b[0m \u001b[0mpoints\u001b[0m \u001b[1;32mis\u001b[0m \u001b[0mNone\u001b[0m\u001b[1;33m:\u001b[0m\u001b[1;33m\u001b[0m\u001b[0m\n\u001b[0;32m    380\u001b[0m         \u001b[1;32mif\u001b[0m \u001b[0minfbounds\u001b[0m \u001b[1;33m==\u001b[0m \u001b[1;36m0\u001b[0m\u001b[1;33m:\u001b[0m\u001b[1;33m\u001b[0m\u001b[0m\n\u001b[1;32m--> 381\u001b[1;33m             \u001b[1;32mreturn\u001b[0m \u001b[0m_quadpack\u001b[0m\u001b[1;33m.\u001b[0m\u001b[0m_qagse\u001b[0m\u001b[1;33m(\u001b[0m\u001b[0mfunc\u001b[0m\u001b[1;33m,\u001b[0m\u001b[0ma\u001b[0m\u001b[1;33m,\u001b[0m\u001b[0mb\u001b[0m\u001b[1;33m,\u001b[0m\u001b[0margs\u001b[0m\u001b[1;33m,\u001b[0m\u001b[0mfull_output\u001b[0m\u001b[1;33m,\u001b[0m\u001b[0mepsabs\u001b[0m\u001b[1;33m,\u001b[0m\u001b[0mepsrel\u001b[0m\u001b[1;33m,\u001b[0m\u001b[0mlimit\u001b[0m\u001b[1;33m)\u001b[0m\u001b[1;33m\u001b[0m\u001b[0m\n\u001b[0m\u001b[0;32m    382\u001b[0m         \u001b[1;32melse\u001b[0m\u001b[1;33m:\u001b[0m\u001b[1;33m\u001b[0m\u001b[0m\n\u001b[0;32m    383\u001b[0m             \u001b[1;32mreturn\u001b[0m \u001b[0m_quadpack\u001b[0m\u001b[1;33m.\u001b[0m\u001b[0m_qagie\u001b[0m\u001b[1;33m(\u001b[0m\u001b[0mfunc\u001b[0m\u001b[1;33m,\u001b[0m\u001b[0mbound\u001b[0m\u001b[1;33m,\u001b[0m\u001b[0minfbounds\u001b[0m\u001b[1;33m,\u001b[0m\u001b[0margs\u001b[0m\u001b[1;33m,\u001b[0m\u001b[0mfull_output\u001b[0m\u001b[1;33m,\u001b[0m\u001b[0mepsabs\u001b[0m\u001b[1;33m,\u001b[0m\u001b[0mepsrel\u001b[0m\u001b[1;33m,\u001b[0m\u001b[0mlimit\u001b[0m\u001b[1;33m)\u001b[0m\u001b[1;33m\u001b[0m\u001b[0m\n",
      "\u001b[1;32m<ipython-input-22-c69194556b06>\u001b[0m in \u001b[0;36mintegrand\u001b[1;34m(E, u)\u001b[0m\n\u001b[0;32m      8\u001b[0m         \u001b[0mfu\u001b[0m \u001b[1;33m=\u001b[0m \u001b[0mModDMVelInterp\u001b[0m\u001b[1;33m(\u001b[0m\u001b[0mu\u001b[0m\u001b[1;33m)\u001b[0m\u001b[1;33m\u001b[0m\u001b[0m\n\u001b[0;32m      9\u001b[0m \u001b[1;33m\u001b[0m\u001b[0m\n\u001b[1;32m---> 10\u001b[1;33m         \u001b[0minte\u001b[0m \u001b[1;33m=\u001b[0m \u001b[0meqn09Guts\u001b[0m\u001b[1;33m(\u001b[0m\u001b[0melement\u001b[0m\u001b[1;33m,\u001b[0m \u001b[0mm_A\u001b[0m\u001b[1;33m,\u001b[0m \u001b[0mE\u001b[0m\u001b[1;33m)\u001b[0m \u001b[1;33m*\u001b[0m \u001b[0mu\u001b[0m \u001b[1;33m*\u001b[0m \u001b[0mfu\u001b[0m\u001b[1;33m\u001b[0m\u001b[0m\n\u001b[0m\u001b[0;32m     11\u001b[0m \u001b[1;31m#         inte = eqn09Guts(E, m_A, element) * u\u001b[0m\u001b[1;33m\u001b[0m\u001b[1;33m\u001b[0m\u001b[0m\n\u001b[0;32m     12\u001b[0m \u001b[1;33m\u001b[0m\u001b[0m\n",
      "\u001b[1;32m<ipython-input-16-58639e575519>\u001b[0m in \u001b[0;36meqn09Guts\u001b[1;34m(element, m_A, E)\u001b[0m\n\u001b[0;32m      1\u001b[0m \u001b[1;32mdef\u001b[0m \u001b[0meqn09Guts\u001b[0m\u001b[1;33m(\u001b[0m\u001b[0melement\u001b[0m\u001b[1;33m,\u001b[0m \u001b[0mm_A\u001b[0m\u001b[1;33m,\u001b[0m \u001b[0mE\u001b[0m\u001b[1;33m)\u001b[0m\u001b[1;33m:\u001b[0m\u001b[1;33m\u001b[0m\u001b[0m\n\u001b[0;32m      2\u001b[0m     \u001b[0mmn\u001b[0m \u001b[1;33m=\u001b[0m \u001b[0mamu2Gev\u001b[0m\u001b[1;33m(\u001b[0m\u001b[0matomicNumbers\u001b[0m\u001b[1;33m[\u001b[0m\u001b[0melement\u001b[0m\u001b[1;33m]\u001b[0m\u001b[1;33m)\u001b[0m\u001b[1;33m\u001b[0m\u001b[0m\n\u001b[1;32m----> 3\u001b[1;33m     \u001b[0mfunction\u001b[0m \u001b[1;33m=\u001b[0m \u001b[1;33m(\u001b[0m\u001b[0mmn\u001b[0m \u001b[1;33m*\u001b[0m \u001b[0mformFactor2\u001b[0m\u001b[1;33m(\u001b[0m\u001b[0melement\u001b[0m\u001b[1;33m,\u001b[0m\u001b[0mE\u001b[0m\u001b[1;33m)\u001b[0m \u001b[1;33m)\u001b[0m \u001b[1;33m/\u001b[0m \u001b[1;33m(\u001b[0m\u001b[1;33m(\u001b[0m\u001b[1;36m2\u001b[0m\u001b[1;33m*\u001b[0m\u001b[0mmn\u001b[0m\u001b[1;33m*\u001b[0m\u001b[0mE\u001b[0m \u001b[1;33m+\u001b[0m \u001b[0mm_A\u001b[0m\u001b[1;33m**\u001b[0m\u001b[1;36m2\u001b[0m\u001b[1;33m)\u001b[0m\u001b[1;33m**\u001b[0m\u001b[1;36m2\u001b[0m\u001b[1;33m)\u001b[0m\u001b[1;33m\u001b[0m\u001b[0m\n\u001b[0m\u001b[0;32m      4\u001b[0m     \u001b[1;32mreturn\u001b[0m \u001b[0mfunction\u001b[0m\u001b[1;33m\u001b[0m\u001b[0m\n\u001b[0;32m      5\u001b[0m \u001b[1;33m\u001b[0m\u001b[0m\n",
      "\u001b[1;32m<ipython-input-15-1ffa945b0b24>\u001b[0m in \u001b[0;36mformFactor2\u001b[1;34m(element, E)\u001b[0m\n\u001b[0;32m      1\u001b[0m \u001b[1;32mdef\u001b[0m \u001b[0mformFactor2\u001b[0m\u001b[1;33m(\u001b[0m\u001b[0melement\u001b[0m\u001b[1;33m,\u001b[0m \u001b[0mE\u001b[0m\u001b[1;33m)\u001b[0m\u001b[1;33m:\u001b[0m\u001b[1;33m\u001b[0m\u001b[0m\n\u001b[1;32m----> 2\u001b[1;33m     \u001b[0mmn\u001b[0m \u001b[1;33m=\u001b[0m \u001b[0mamu2Gev\u001b[0m\u001b[1;33m(\u001b[0m\u001b[0matomicNumbers\u001b[0m\u001b[1;33m[\u001b[0m\u001b[0melement\u001b[0m\u001b[1;33m]\u001b[0m\u001b[1;33m)\u001b[0m\u001b[1;33m\u001b[0m\u001b[0m\n\u001b[0m\u001b[0;32m      3\u001b[0m     \u001b[0mE_N\u001b[0m \u001b[1;33m=\u001b[0m \u001b[1;36m0.114\u001b[0m\u001b[1;33m/\u001b[0m\u001b[1;33m(\u001b[0m\u001b[1;33m(\u001b[0m\u001b[0matomicNumbers\u001b[0m\u001b[1;33m[\u001b[0m\u001b[0melement\u001b[0m\u001b[1;33m]\u001b[0m\u001b[1;33m)\u001b[0m\u001b[1;33m**\u001b[0m\u001b[1;33m(\u001b[0m\u001b[1;36m5.\u001b[0m\u001b[1;33m/\u001b[0m\u001b[1;36m3\u001b[0m\u001b[1;33m)\u001b[0m\u001b[1;33m)\u001b[0m\u001b[1;33m\u001b[0m\u001b[0m\n\u001b[0;32m      4\u001b[0m     \u001b[0mFN2\u001b[0m \u001b[1;33m=\u001b[0m \u001b[0mnp\u001b[0m\u001b[1;33m.\u001b[0m\u001b[0mexp\u001b[0m\u001b[1;33m(\u001b[0m\u001b[1;33m-\u001b[0m\u001b[0mE\u001b[0m\u001b[1;33m/\u001b[0m\u001b[0mE_N\u001b[0m\u001b[1;33m)\u001b[0m\u001b[1;33m\u001b[0m\u001b[0m\n\u001b[0;32m      5\u001b[0m     \u001b[1;32mreturn\u001b[0m \u001b[0mFN2\u001b[0m\u001b[1;33m\u001b[0m\u001b[0m\n",
      "\u001b[1;31mKeyboardInterrupt\u001b[0m: "
     ]
    }
   ],
   "source": [
    "for element in elementList:\n",
    "    print 'C_N: %s = %e' % (element, fullCap(element, 1000., 1., 10.0**-8, 1./137, 0.035))\n",
    "    \n",
    "print 'Complete'"
   ]
  },
  {
   "cell_type": "markdown",
   "metadata": {
    "collapsed": true
   },
   "source": [
    "## Error Calculations based on Table I in ArXiV: 1509.07525v2\n",
    "TO DO: Go through Jordan's Notebook and see what he did and compare it with what I did."
   ]
  },
  {
   "cell_type": "code",
   "execution_count": 54,
   "metadata": {
    "collapsed": false
   },
   "outputs": [
    {
     "name": "stdout",
     "output_type": "stream",
     "text": [
      "Complete\n"
     ]
    }
   ],
   "source": [
    "CCapAdam0 = {}\n",
    "# CCap(element, m_X, m_A, epsilon, alpha, alpha_X)\n",
    "for element in elementList:\n",
    "    CCapAdam0[element] = fullCap(element, 1000., 1., 1e-8, 1./137, 0.035)\n",
    "    \n",
    "print 'Complete'"
   ]
  },
  {
   "cell_type": "code",
   "execution_count": 56,
   "metadata": {
    "collapsed": false
   },
   "outputs": [
    {
     "name": "stdout",
     "output_type": "stream",
     "text": [
      "Percent error on CCapAdam5[O16]: 3.447478e+01\n",
      "Percent error on CCapAdam5[Si28]: 3.389069e+01\n",
      "Percent error on CCapAdam5[Mg24]: 3.546016e+01\n",
      "Percent error on CCapAdam5[Fe56]: 3.010680e+01\n",
      "Percent error on CCapAdam5[Ca40]: 3.461569e+01\n",
      "Percent error on CCapAdam5[P31]: 2.977928e+01\n",
      "Percent error on CCapAdam5[S32]: 3.017061e+01\n",
      "Percent error on CCapAdam5[Ni58]: 2.999220e+01\n",
      "Percent error on CCapAdam5[Al27]: 3.444542e+01\n",
      "Percent error on CCapAdam5[Cr52]: 3.100180e+01\n",
      "Complete\n"
     ]
    }
   ],
   "source": [
    "for element in elementList:\n",
    "    print 'Percent error on CCapAdam5[%s]: %e' % (element, \\\n",
    "            (CCapAdam0[element] - CCapFlip0[element])*100/CCapFlip0[element])\n",
    "\n",
    "print 'Complete'"
   ]
  },
  {
   "cell_type": "code",
   "execution_count": null,
   "metadata": {
    "collapsed": false
   },
   "outputs": [],
   "source": []
  },
  {
   "cell_type": "code",
   "execution_count": null,
   "metadata": {
    "collapsed": true
   },
   "outputs": [],
   "source": []
  },
  {
   "cell_type": "markdown",
   "metadata": {},
   "source": [
    "## Jordan's Method\n",
    "\n",
    "Here's Jordan's algorithm:\n",
    "1. Define a DM mass\n",
    "2. Define a range of mediator masses\n",
    "3. Define an element\n",
    "4. Calculate the CapRate for that element for the given DM mass and range of mediator masses\n",
    "5. Repeat step 4 for all elements\n",
    "6. For a given m_X and m_A, add all the CapRates together\n",
    "    - This gives a single point in (m_X, m_A) parameter space\n",
    "7.\n",
    "    \n",
    "    \n",
    "fullCap(element, m_X, m_A, epsilon, alpha, alpha_X)"
   ]
  },
  {
   "cell_type": "code",
   "execution_count": 27,
   "metadata": {
    "collapsed": false
   },
   "outputs": [
    {
     "name": "stdout",
     "output_type": "stream",
     "text": [
      "Complete\n"
     ]
    }
   ],
   "source": [
    "DMMass = 1000. # GeV\n",
    "MediatorLow = 0.001 # GeV\n",
    "MediatorHigh = 10 # GeV\n",
    "\n",
    "\n",
    "MasterDictionary = {\n",
    "    'O16' : [],\n",
    "    'Si28' : [],\n",
    "    'Mg24' : [],\n",
    "    'Fe56': [],\n",
    "    'Ca40': [],\n",
    "    'P31' : [],\n",
    "#     'Na11',\n",
    "    'S32' : [],\n",
    "    'Ni58' : [],\n",
    "    'Al27' : [],\n",
    "    'Cr52' : [],\n",
    "}\n",
    "\n",
    "\n",
    "MediatorRange = np.linspace(MediatorLow,MediatorHigh,20)\n",
    "\n",
    "for element in MasterDictionary:\n",
    "    for Testm_A in MediatorRange:\n",
    "        MasterDictionary[element].append(fullCap(element,DMMass,Testm_A,10**-8,1./137,0.035))\n",
    "\n",
    "\n",
    "    \n",
    "print 'Complete'"
   ]
  },
  {
   "cell_type": "markdown",
   "metadata": {},
   "source": [
    "- MasterDictionary is a dictionary of arrays which stores the capture rates for all elements for mediator masses from 1MeV to 10GeV (This is a 10 element dictionary of 20-element arrays)\n",
    "- I want to add each corresponding elements of each array into a new array. (This is the Total Capture rate, the sum of the capture rates for all elements given a m_X and m_A"
   ]
  },
  {
   "cell_type": "code",
   "execution_count": 34,
   "metadata": {
    "collapsed": false
   },
   "outputs": [
    {
     "name": "stdout",
     "output_type": "stream",
     "text": [
      "Complete\n"
     ]
    }
   ],
   "source": [
    "TotalCapArray = {\n",
    "    'O16' : [],\n",
    "    'Si28' : [],\n",
    "    'Mg24' : [],\n",
    "    'Fe56': [],\n",
    "    'Ca40': [],\n",
    "    'P31' : [],\n",
    "#     'Na11',\n",
    "    'S32' : [],\n",
    "    'Ni58' : [],\n",
    "    'Al27' : [],\n",
    "    'Cr52' : [],\n",
    "}\n",
    "\n",
    "\n",
    "for i in range(0,len(MasterDictionary['O16'])):\n",
    "    for element in MasterDictionary:\n",
    "        value = MasterDictionary[element][i]\n",
    "        TotalCapArray[element].append(value)\n",
    "\n",
    "# plt.plot(MediatorRange,LongArrayO16)\n",
    "\n",
    "print 'Complete'"
   ]
  },
  {
   "cell_type": "code",
   "execution_count": 38,
   "metadata": {
    "collapsed": false
   },
   "outputs": [
    {
     "name": "stdout",
     "output_type": "stream",
     "text": [
      "[1.4883341997932634e+17, 7011869.6750148861, 439910.58699975524, 87006.070323405889, 27546.707241289168, 11287.420183682141, 5444.7725437462605, 2939.4845273306173, 1723.3057496491529, 1075.9648759543925, 706.00017677450899, 482.24094108732174, 340.51389787069439, 247.23364809596384, 183.81755324264276, 139.49216231238333, 107.75778758727141, 84.556120156726109, 67.276207260190191, 54.193446131448425]\n"
     ]
    }
   ],
   "source": [
    "print TotalCapArray['O16']\n"
   ]
  },
  {
   "cell_type": "code",
   "execution_count": null,
   "metadata": {
    "collapsed": true
   },
   "outputs": [],
   "source": []
  },
  {
   "cell_type": "markdown",
   "metadata": {
    "collapsed": true
   },
   "source": [
    "------------"
   ]
  },
  {
   "cell_type": "markdown",
   "metadata": {},
   "source": [
    "## Python Function Summary: (TO DO)\n",
    "This is a list of all the functions, input parameters, and return values in this notebook."
   ]
  },
  {
   "cell_type": "markdown",
   "metadata": {},
   "source": [
    "**accumulate(index)**: accululates the summand (see function definition) from 'index' to the final index of the radiusList\n",
    "\n",
    "**numDensityList(element)[index]**: returns the number density of 'element' at 'index'\n",
    "\n",
    "**formFactor2(E, element)**: returns the form factor squared of 'element' with recoil energy 'E'\n",
    "\n",
    "**eqn09Guts(E, m_A, element)**: returns $\\frac{m_N}{2m_N E_R + m_A\\prime ^2} \\text{formFactor2}$ for 'element' and recoil energy 'E'\n",
    "\n",
    "**DMVelDistNormalization(u)**: returns the reciprocal of the normalization $N_0$\n",
    "\n",
    "**DmVelDist(u, N_0 = N_01)**: returns the fraction of DM partiles with incident velocity 'u' in the Galactic Frame \n",
    "\n",
    "**ModDMVelDist(u)**: returns the fraction of DM particles with incident velocity 'u' in the Earth Frame\n",
    "\n",
    "**eMin(u, m_X)**: returns $ E_{Min} = \\frac{1}{2} m_X u^2 $\n",
    "\n",
    "**emax(u, rIndex, m_X, element)**: returns $E_{Max} = 2 m_N m_X^2 \\frac{(u^2 + v_{\\oplus}^2)}{(m_N + m_X)^2}$\n",
    "\n",
    "**IntDuDEr(rIndex, m_X, m_A, element)**: returns $ \\int_{0}^{uInt} \\, \\int_{eMin}^{eMax} \\, \\text{u(eqn09Guts)(DMVelDist)} \\, dE_R \\, du $\n",
    "\n",
    "**SumOverR(m_X, m_A, element)**: returns $\\Sigma_i \\, n_N(r) \\, r^2 \\, \\text{IntDuDEr} \\, \\Delta r $\n",
    "\n",
    "**totalCap(m_X, m_A, epsilon, alpha, alpha_X, element)**: returns the total capture rate of 'element' $\\left[(4\\pi)(4\\pi)(8\\pi \\epsilon^2 \\alpha_X \\alpha Z_N^2)\\right] \\, n_X \\, \\text{SumOverR} $\n",
    "\n"
   ]
  },
  {
   "cell_type": "markdown",
   "metadata": {},
   "source": [
    "-----------"
   ]
  },
  {
   "cell_type": "markdown",
   "metadata": {
    "collapsed": true
   },
   "source": [
    "# Appendix"
   ]
  },
  {
   "cell_type": "markdown",
   "metadata": {
    "collapsed": true
   },
   "source": [
    "## A: Python Integration Analysis for the capture integrand\n",
    "If we try to calculate the capture integral directly in natural units, integrating $u$ from $0$ to $v_{gal}/c$ and $E_R$ from $E_{min}$ to $E_{max}$, we find that the integral returns zero. The differential cross section $\\frac{d \\sigma_N}{dE_R}$ (eqn09) never vanishes unless one of the model parameters is zero, the incident DM velocity $f(u)$ is never zero for the integraion region over $u$, so the only time the integrand vanishes is at $u=0$, the lower limit of integration. Clearly, there is something more subtle that we need to explore.\n",
    "\n",
    "To simplify the problem, we choose $m_X = 1$ GeV, and calculate values of Silicon (Si28). We completely remove the integrand and begin by plotting the integration bounds $E_{min}$ and $E_{max}$ in red and blue respectively. The valid region of integration from the heaviside function in eqn (1) is thus above the red curve and below the blue curve."
   ]
  },
  {
   "cell_type": "code",
   "execution_count": null,
   "metadata": {
    "collapsed": false
   },
   "outputs": [],
   "source": [
    "vMax = escVel2List[0]\n",
    "mn2 = amu2Gev(atomicNumbers['Si28'])\n",
    "array1 = []\n",
    "array2 = []\n",
    "array3 = []\n",
    "array4 = []\n",
    "pltrange0 = np.linspace(0,(V_gal/c),100)\n",
    "pltrange1 = np.linspace(0,0.00005,100)\n",
    "\n",
    "# populate array1 and array2\n",
    "for i in pltrange0:\n",
    "    emin = (1*i**2)/2\n",
    "    emax = 2*mn2*1**2*(i**2+vMax)/(mn2+1)**2\n",
    "    eLim = 2*mn2*1**2*(1+vMax)/(mn2+1)**2\n",
    "    \n",
    "    array1.append(emin)\n",
    "    array2.append(emax)\n",
    "    \n",
    "# populate array3 and array4\n",
    "for i in pltrange1:\n",
    "    emin = (1*i**2)/2\n",
    "    emax = 2*mn2*1**2*(i**2+vMax)/(mn2+1)**2\n",
    "    eLim = 2*mn2*1**2*(1+vMax)/(mn2+1)**2\n",
    "    \n",
    "    array3.append(emin)\n",
    "    array4.append(emax)\n",
    "    \n",
    "print 'complete'"
   ]
  },
  {
   "cell_type": "code",
   "execution_count": null,
   "metadata": {
    "collapsed": false
   },
   "outputs": [],
   "source": [
    "# Plot 1\n",
    "plt.figure(1)\n",
    "plt.plot(pltrange0,array1,'red')\n",
    "plt.plot(pltrange0,array2,'blue')\n",
    "plt.xlabel('Naturalized Velocity: u')\n",
    "plt.ylabel('E_R (GeV)')\n",
    "plt.title('Plot over the entire integration limits')\n",
    "plt.text(0.00025,1.45e-6,'Red: Emin')\n",
    "plt.text(0.00025,1.25e-6,'Blue: Emax')\n",
    "plt.grid()\n",
    "\n",
    "# Plot too\n",
    "plt.figure(2)\n",
    "plt.plot(pltrange1,array3,'red')\n",
    "plt.plot(pltrange1,array4,'blue')\n",
    "plt.xlabel('Naturalized Velocity: u')\n",
    "plt.ylabel('E_R (GeV)')\n",
    "plt.title('Zoom into the origin')\n",
    "plt.axis([0,0.000025,0,2.5e-10])\n",
    "plt.text(1.5e-5,0.75e-10,'Red: Emin')\n",
    "plt.text(1.5e-5,0.5e-10,'Blue: Emax')\n",
    "plt.grid()\n",
    "print 'Complete'"
   ]
  },
  {
   "cell_type": "markdown",
   "metadata": {
    "collapsed": true
   },
   "source": [
    "Recalling that the valid region of integration is *above* the red curve and *below* the blue curve, it doesn't appear that there is **any** nonzero region. Therefor, there must be some region very close to the origin where these two functions yield a nonzero integrand. We investigate further by zooming into the origin, as shown in figure (2)."
   ]
  },
  {
   "cell_type": "markdown",
   "metadata": {
    "collapsed": true
   },
   "source": [
    "We can see that only for $u$ between $0$ and $\\approx 0.00002$ is the $E_{max}$ actually above $E_{min}$, which means that in the integration limits as stated above, the integrand vanishes for nearly the entire region due to the Heaviside function. To make matters worse, the Python intetegrator  never chooses $u$ values between $0$ and $\\approx 0.00002$, giving the illusion that the integral is zero even though it isn't.\n",
    "\n",
    "The solution is:\n",
    "    - Solve for the intersection point of Emin and Emax, name it \"uInt\"\n",
    "    - Integrate u from 0 to uInt\n",
    "    - Integrate E_R from eMin(u) to eMax(u)\n",
    "\n",
    "The values of $E_{min}$ and $E_{max}$ both depend on $u$, so the natural solution is for each $u$ value, \"zoom in\" to the region where the integrand is nonvanishing and calculate the integral in that region. This is acomplished by calculating the $u$ value at the intersection point $E_{min} = E_{max}$. Substituting $ w^2 = u^2 + v_{\\oplus}^2$ gives:\n",
    "\n",
    "$$ \\frac{1}{2}m_X u^2 = \\frac{2\\mu_N^2}{m_N}(u^2 + v_{\\oplus}^2) $$\n",
    "\n",
    "solving for the intersection point $u_{int}$ yields:\n",
    "\n",
    "$$ u_{int}^2 = \\frac{2\\mu_N^2}{m_N} \\frac{1}{ \\left( \\frac{1}{2m_X} - \\frac{2\\mu_N^2}{m_N} \\right)  } v_{\\oplus}^2 $$\n",
    "\n",
    "In the function definition, I have made the substitutions:\n",
    "$$ A = \\frac{1}{2}m_X \\qquad \\text{and} \\qquad B = 2 \\frac{\\mu_N^2}{m_N}$$\n",
    "\n",
    "yielding: \n",
    "$$ \\text{uInt} = \\sqrt{ \\frac{B}{A-B}}\\,v_{\\oplus} $$\n",
    "The actual coded function is:\n",
    "\n",
    "$$ IntDuDEr = \\int_{0}^{uInt} du \\, u f(u) \\int_{E_{min}}^{E_{Max}} dE_R \\, \\frac{d \\sigma_N}{dE_R}  $$\n",
    "\n",
    "\n",
    "where $\\Theta(\\Delta E)$ is accounted for in the limits of the $u$ integration.\n",
    "\n",
    "One could obtain more accuracy by using the modified velocity distrubution given by:\n",
    "\n",
    "$$ f_{\\oplus}(u) = \\frac{1}{4} \\int\\int_{-1}^{1} dcos\\theta \\space dcos\\phi \\space\n",
    "   f \\left[ \\left( u^2 (V_{\\odot} + V_{\\oplus}cos\\phi)^2 + 2u(V_{\\odot} + V_{\\oplus} cos\\phi) cos\\theta \\right) ^{1/2} \\right] $$\n",
    "   \n",
    "which is coded into the Python function: ModDMVelDist"
   ]
  },
  {
   "cell_type": "markdown",
   "metadata": {
    "collapsed": true
   },
   "source": [
    "-----------"
   ]
  }
 ],
 "metadata": {
  "anaconda-cloud": {},
  "kernelspec": {
   "display_name": "Python [Root]",
   "language": "python",
   "name": "Python [Root]"
  },
  "language_info": {
   "codemirror_mode": {
    "name": "ipython",
    "version": 2
   },
   "file_extension": ".py",
   "mimetype": "text/x-python",
   "name": "python",
   "nbconvert_exporter": "python",
   "pygments_lexer": "ipython2",
   "version": "2.7.12"
  }
 },
 "nbformat": 4,
 "nbformat_minor": 1
}
