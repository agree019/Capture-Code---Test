{
 "cells": [
  {
   "cell_type": "markdown",
   "metadata": {},
   "source": [
    "# Photon Signal Rate Plots"
   ]
  },
  {
   "cell_type": "markdown",
   "metadata": {},
   "source": [
    "This notebook outputs the reach plots in $\\varepsilon - m_A$ space for IceCube."
   ]
  },
  {
   "cell_type": "markdown",
   "metadata": {},
   "source": [
    "## Initialize Notebook"
   ]
  },
  {
   "cell_type": "code",
   "execution_count": 1,
   "metadata": {
    "ExecuteTime": {
     "end_time": "2018-04-25T19:10:12.981779Z",
     "start_time": "2018-04-25T19:09:54.474397Z"
    }
   },
   "outputs": [
    {
     "name": "stdout",
     "output_type": "stream",
     "text": [
      "importing Jupyter notebook from MasterFunctions_SignalRates.ipynb\n",
      "importing Jupyter notebook from MasterFunctions_Capture.ipynb\n",
      "importing Jupyter notebook from MasterFunctions_ModelData.ipynb\n",
      "------ MasterFunctions_ModelData Imported ------\n",
      "------ MasterFunctions_Capture Imported ------\n",
      "importing Jupyter notebook from MasterFunctions_Annihilation.ipynb\n",
      "------ MasterFunctions_Annihilation Imported ------\n",
      "------ MasterFunctions_SignalRates Imported ------\n",
      "importing Jupyter notebook from MasterFunctions_Graphing.ipynb\n",
      "------ MasterFunctions_Graphing Loaded ------\n",
      "\n",
      "All Notebooks Imported\n",
      "Complete\n"
     ]
    }
   ],
   "source": [
    "import io, os, sys, types\n",
    "\n",
    "from IPython import get_ipython\n",
    "from nbformat import read\n",
    "from IPython.core.interactiveshell import InteractiveShell\n",
    "\n",
    "def find_notebook(fullname, path=None):\n",
    "    \"\"\"find a notebook, given its fully qualified name and an optional path\n",
    "\n",
    "    This turns \"foo.bar\" into \"foo/bar.ipynb\"\n",
    "    and tries turning \"Foo_Bar\" into \"Foo Bar\" if Foo_Bar\n",
    "    does not exist.\n",
    "    \"\"\"\n",
    "    name = fullname.rsplit('.', 1)[-1]\n",
    "    if not path:\n",
    "        path = ['']\n",
    "    for d in path:\n",
    "        nb_path = os.path.join(d, name + \".ipynb\")\n",
    "        if os.path.isfile(nb_path):\n",
    "            return nb_path\n",
    "        # let import Notebook_Name find \"Notebook Name.ipynb\"\n",
    "        nb_path = nb_path.replace(\"_\", \" \")\n",
    "        if os.path.isfile(nb_path):\n",
    "            return nb_path\n",
    "        \n",
    "class NotebookLoader(object):\n",
    "    \"\"\"Module Loader for Jupyter Notebooks\"\"\"\n",
    "    def __init__(self, path=None):\n",
    "        self.shell = InteractiveShell.instance()\n",
    "        self.path = path\n",
    "\n",
    "    def load_module(self, fullname):\n",
    "        \"\"\"import a notebook as a module\"\"\"\n",
    "        path = find_notebook(fullname, self.path)\n",
    "\n",
    "        print (\"importing Jupyter notebook from %s\" % path)\n",
    "\n",
    "        # load the notebook object\n",
    "        with io.open(path, 'r', encoding='utf-8') as f:\n",
    "            nb = read(f, 4)\n",
    "\n",
    "\n",
    "        # create the module and add it to sys.modules\n",
    "        # if name in sys.modules:\n",
    "        #    return sys.modules[name]\n",
    "        mod = types.ModuleType(fullname)\n",
    "        mod.__file__ = path\n",
    "        mod.__loader__ = self\n",
    "        mod.__dict__['get_ipython'] = get_ipython\n",
    "        sys.modules[fullname] = mod\n",
    "\n",
    "        # extra work to ensure that magics that would affect the user_ns\n",
    "        # actually affect the notebook module's ns\n",
    "        save_user_ns = self.shell.user_ns\n",
    "        self.shell.user_ns = mod.__dict__\n",
    "\n",
    "        try:\n",
    "            for cell in nb.cells:\n",
    "                if cell.cell_type == 'code':\n",
    "                    # transform the input to executable Python\n",
    "                    code = self.shell.input_transformer_manager.transform_cell(cell.source)\n",
    "                    # run the code in themodule\n",
    "                    exec(code, mod.__dict__)\n",
    "        finally:\n",
    "            self.shell.user_ns = save_user_ns\n",
    "        return mod\n",
    "\n",
    "    \n",
    "class NotebookFinder(object):\n",
    "    \"\"\"Module finder that locates Jupyter Notebooks\"\"\"\n",
    "    def __init__(self):\n",
    "        self.loaders = {}\n",
    "\n",
    "    def find_module(self, fullname, path=None):\n",
    "        nb_path = find_notebook(fullname, path)\n",
    "        if not nb_path:\n",
    "            return\n",
    "\n",
    "        key = path\n",
    "        if path:\n",
    "            # lists aren't hashable\n",
    "            key = os.path.sep.join(path)\n",
    "\n",
    "        if key not in self.loaders:\n",
    "            self.loaders[key] = NotebookLoader(path)\n",
    "        return self.loaders[key]\n",
    "    \n",
    "sys.meta_path.append(NotebookFinder())\n",
    "\n",
    "#####################################\n",
    "# Import other Notebooks\n",
    "#####################################\n",
    "from MasterFunctions_SignalRates import *\n",
    "from MasterFunctions_Graphing import *\n",
    "\n",
    "print ()\n",
    "print ('All Notebooks Imported')\n",
    "\n",
    "print ('Complete')"
   ]
  },
  {
   "cell_type": "markdown",
   "metadata": {},
   "source": [
    "# Signal Rate"
   ]
  },
  {
   "cell_type": "markdown",
   "metadata": {},
   "source": [
    "\n",
    "Recall the solution to the differential equation:\n",
    "\\begin{equation}\n",
    "\\frac{dN_X}{dt} = C_{cap} - N_X^2 C_{ann}\n",
    "\\end{equation}\n",
    "\n",
    "is given by:\n",
    "\n",
    "\\begin{equation}\n",
    "\\Gamma_{ann} = \\frac{1}{2} C_{cap}\\tanh^2 \\left( \\frac{\\tau_{\\oplus}}{\\tau} \\right)\n",
    "\\end{equation}\n",
    "\n",
    "The Signal rate at IceCube is:\n",
    "\\begin{equation}\n",
    "N_{\\text{sig}} = 2\\Gamma_{\\text{ann}}\\frac{A_{\\text{eff}}}{4\\pi R_{\\oplus}^2}\\epsilon_{\\text{decay}}T\n",
    "\\end{equation}\n",
    "where $A_{\\text{eff}} = 1$ Km is the effective area of the detector and $T=10$ years is the live time of the detector.\n",
    "\n",
    "The quantity $\\epsilon_{\\text{decay}}$ represents the probability that a dark photon produced at the center of Earth propagates to the surface and decays between a distance of $R_{\\oplus}$ and $R_{\\oplus} + D$ where $D$ is the effective depth of the detector. \n",
    "\\begin{equation}\n",
    "\\epsilon_{\\text{decay}} = e^{-R_{\\oplus}/L} - e^{-(R_{\\oplus} + D)/L}\n",
    "\\end{equation}\n",
    "\n",
    "\n",
    "MORE WORDS!!!"
   ]
  },
  {
   "cell_type": "markdown",
   "metadata": {},
   "source": [
    "-------------"
   ]
  },
  {
   "cell_type": "markdown",
   "metadata": {},
   "source": [
    "# Generate the Signal Data File"
   ]
  },
  {
   "cell_type": "markdown",
   "metadata": {},
   "source": [
    "## Recipie"
   ]
  },
  {
   "cell_type": "markdown",
   "metadata": {},
   "source": [
    "The recipie for generating the Signal File is:\n",
    "\n",
    "1). Define the resolution of the signal plot\n",
    "\n",
    "2). Check this resolution by reading in a Sommerfeld file and Branching Ratio file\n",
    " \n",
    "3). Initialize a template dataframe to hold the calculated signal rate data\n",
    "\n",
    "3). Write that dataframe to an external .csv file (signalData.csv)\n",
    "\n",
    "4). Append values from the Sommerfeld and Branching Ratio file to signalData.csv\n",
    "\n",
    "5). Loop through signalData.csv, calculate $C_{Cap}$, $C_{Ann}$, $\\Gamma_{Ann}$, and $N_{Sig}$, append them to signalData.csv\n",
    "\n",
    "Step five can be quite lengthy depending on the desired resolution of the data points. Typically, one would begin these calculations and be forced to wait until they are completed in their entirety; perhaps unable to shut down their machine for hours at a time. The cell \"Signal File Calculations\" however can be interrupted at any time, and resumed later. This allows the user to run the calculation in multiple stages instead of dedicating a large chunk of time and running the calculation all at once. \n",
    "The calculation can be stopped by interrupting the Jupyter Kernel. Be sure to run the \"Manual Overwrite\" cell just to be sure that the calculations are saved."
   ]
  },
  {
   "cell_type": "markdown",
   "metadata": {},
   "source": [
    "## Define the Resolution of the Reach (Signal) Plot"
   ]
  },
  {
   "cell_type": "markdown",
   "metadata": {},
   "source": [
    "These cells create the \"grid\" of data points for which $N_{\\text{sig} }$ will be calculated.\n",
    "\n",
    "This cell initializes the resolution of the interpolations for the Sommerfeld enhancement and the reach plot. The variable $\\texttt{num}$ defines the resolution of the grid, so if $\\texttt{num} = 50$, the reach plot will have a $50 \\times 50$ resolution for a total of 2500 calculations. The suggested resolution is \n",
    "\n",
    "    num = 200\n",
    "    \n",
    "A way to understand what this number does: \"The cleaner your Sommerfeld interpolation, the cleaner your reach plots will be.\" Making this number larger will increase the resolution of the interpolation, cleaning up the plots, but it will take longer to calculate. \n",
    "\n",
    "A good rule of thumb: Your reach plot resolution will be determined by the resolution of the Sommerfeld Interpolation"
   ]
  },
  {
   "cell_type": "code",
   "execution_count": 17,
   "metadata": {
    "ExecuteTime": {
     "end_time": "2018-04-25T19:14:35.747630Z",
     "start_time": "2018-04-25T19:14:35.740611Z"
    }
   },
   "outputs": [
    {
     "name": "stdout",
     "output_type": "stream",
     "text": [
      "Complete\n"
     ]
    }
   ],
   "source": [
    "# num = 200\n",
    "num = 100\n",
    "\n",
    "print ('Complete')"
   ]
  },
  {
   "cell_type": "markdown",
   "metadata": {},
   "source": [
    "## External File Interpolations"
   ]
  },
  {
   "cell_type": "markdown",
   "metadata": {},
   "source": [
    "The following cells read in and create interpolations of the:\n",
    "\n",
    "1). Sommerfeld Enhancement\n",
    "\n",
    "2). Branching ratio\n",
    "\n",
    "\n",
    "The file names for both these files will be written to the signalData.csv file. The reasoning behind this is continuity of the calculation. If you run this notebook from top to bottom, you can calculate everything in one go. However, if you interrup the main calculation cell and restart your computer, all of the vairables we have loaded into Jupyter memroy get wiped. Writing these file names into the signalData.csv file means that to resume the calculation, you only need to run the main calculation cell as opposed to loading variables into Jupyter memory before starting the main calculation"
   ]
  },
  {
   "cell_type": "markdown",
   "metadata": {},
   "source": [
    "### Sommerfeld Data Interpolation"
   ]
  },
  {
   "cell_type": "markdown",
   "metadata": {},
   "source": [
    "This interpolation only serves to give you an idea of the resolution of the reach plot. We will read this in and interpolate it again later in the actual calulation. \n",
    "\n",
    "Implement some sort of separate plot of the original sommerfeld data so we can compare the interpolated value using num with the original graph"
   ]
  },
  {
   "cell_type": "code",
   "execution_count": 5,
   "metadata": {
    "ExecuteTime": {
     "end_time": "2018-04-25T19:10:55.307950Z",
     "start_time": "2018-04-25T19:10:51.016625Z"
    }
   },
   "outputs": [
    {
     "name": "stdout",
     "output_type": "stream",
     "text": [
      "Sommerfeld File: 100GeVSommerfeld.csv\n",
      "Complete\n"
     ]
    }
   ],
   "source": [
    "####################################\n",
    "# Define Sommerfeld and Signal Files\n",
    "####################################\n",
    "SommFileName = input('Sommerfeld File: ')\n",
    "SommFile = pd.read_csv(photonSommerfeldPath(SommFileName))\n",
    "\n",
    "print ('Complete')"
   ]
  },
  {
   "cell_type": "code",
   "execution_count": 6,
   "metadata": {
    "ExecuteTime": {
     "end_time": "2018-04-25T19:10:56.847283Z",
     "start_time": "2018-04-25T19:10:56.105341Z"
    }
   },
   "outputs": [
    {
     "name": "stdout",
     "output_type": "stream",
     "text": [
      "Complete\n"
     ]
    },
    {
     "data": {
      "image/png": "[encoded data removed]",
      "text/plain": [
       "<matplotlib.figure.Figure at 0x1d5ad2ae6d8>"
      ]
     },
     "metadata": {},
     "output_type": "display_data"
    }
   ],
   "source": [
    "####################################\n",
    "# Interpolate Sommerfeld data\n",
    "####################################\n",
    "mAData = SommFile['mA[GeV]']\n",
    "SommData = SommFile['ThermAvgSommerfeld']\n",
    "SommInterp = interpolate.interp1d(mAData,SommData)\n",
    "\n",
    "####################################\n",
    "# Create Comparison Plots\n",
    "####################################\n",
    "m_XSommerfeld = SommFile.loc[0,'mX[GeV]']\n",
    "kappa0Sommerfeld = SommFile.loc[0,'Kappa0[GeV5]']\n",
    "\n",
    "\n",
    "vect1 = []\n",
    "vect2 = []\n",
    "for ma in np.logspace(np.log10(min(mAData)),np.log10(max(mAData)), num, base = 10):\n",
    "    vect1.append(ma)\n",
    "    vect2.append(SommInterp(ma))\n",
    "        \n",
    "        \n",
    "\n",
    "fig1 = plt.figure(figsize = (14,6))\n",
    "plt.suptitle('Comparison of Sommerfeld Resolutions', fontsize = 18)\n",
    "\n",
    "ax1 = fig1.add_subplot(1,2,1)\n",
    "ax1.plot(np.log10(vect1),np.log10(vect2))\n",
    "ax1.set_xlabel(r\"$\\log(m_{A'})$ [GeV]\", fontsize = 14)\n",
    "ax1.set_ylabel(r\"$\\log(\\langle S_S \\rangle)$\", fontsize = 14)\n",
    "ax1.set_title('num = {0} Resolution'.format(num), fontsize = 14, loc = 'right')\n",
    "plt.grid()\n",
    "\n",
    "ax2 = fig1.add_subplot(1,2,2)\n",
    "ax2.plot(np.log10(mAData), np.log10(SommData))\n",
    "ax2.set_xlabel(r\"$\\log(m_{A'})$ [GeV]\", fontsize = 14)\n",
    "ax2.set_ylabel(r\"$\\log(\\langle S_S \\rangle)$\", fontsize = 14)\n",
    "ax2.set_title('num = 2500 Resolution', fontsize = 14, loc = 'right')\n",
    "plt.grid()\n",
    "\n",
    "\n",
    "\n",
    "print ('Complete')"
   ]
  },
  {
   "cell_type": "markdown",
   "metadata": {},
   "source": [
    "### Branching Ratio Interpolation"
   ]
  },
  {
   "cell_type": "markdown",
   "metadata": {},
   "source": [
    "In this cell, we read in a .csv file containing discrete branching ratio data points obtained from WebPlotDigitizer and interpolate them into a continuous funciton named $\\texttt{branchRatioInterp}$.\n",
    "\n",
    "By decault, this cell reads in the branching ratio for $\\gamma \\rightarrow e^+e^-$. To change this, un-comment the first line and comment out the second line."
   ]
  },
  {
   "cell_type": "code",
   "execution_count": 7,
   "metadata": {
    "ExecuteTime": {
     "end_time": "2018-04-25T19:10:59.326192Z",
     "start_time": "2018-04-25T19:10:59.045483Z"
    }
   },
   "outputs": [
    {
     "name": "stdout",
     "output_type": "stream",
     "text": [
      "Complete\n"
     ]
    },
    {
     "data": {
      "image/png": "[encoded data removed]",
      "text/plain": [
       "<matplotlib.figure.Figure at 0x1d5ad2b8978>"
      ]
     },
     "metadata": {},
     "output_type": "display_data"
    }
   ],
   "source": [
    "# branchFileName = input('Branching File: ')\n",
    "branchFileName = 'brtoe.csv'\n",
    "\n",
    "BranchData = pd.read_csv(photonBranchPath(branchFileName))\n",
    "\n",
    "xListBranch = BranchData['mA[GeV]']\n",
    "yListBranch = BranchData['BR']\n",
    "\n",
    "branchRatioInterp = interpolate.interp1d(xListBranch,yListBranch)\n",
    "\n",
    "\n",
    "fig = plt.figure(figsize = (6,6))\n",
    "plt.plot(xListBranch,yListBranch)\n",
    "plt.xlabel(r\"$m_{A'}$ [GeV]\", fontsize = 14)\n",
    "plt.ylabel(r\"Branching Ratio\", fontsize = 14)\n",
    "plt.suptitle('Branching Ratio Interpolation Visualization', fontsize = 16)\n",
    "plt.title('num = {0}'.format(num), fontsize = 14, loc = 'right')\n",
    "plt.grid()\n",
    "\n",
    "print ('Complete')"
   ]
  },
  {
   "cell_type": "markdown",
   "metadata": {
    "ExecuteTime": {
     "end_time": "2018-03-22T20:51:09.799117Z",
     "start_time": "2018-03-22T20:51:09.787988Z"
    }
   },
   "source": [
    "## Initialize Signal Dataframe"
   ]
  },
  {
   "cell_type": "markdown",
   "metadata": {},
   "source": [
    "This cell:\n",
    "\n",
    "1) Initializes the signal data frame\n",
    "\n",
    "2) Appends the $\\varepsilon$ and $m_{A'}$ data points based on the resolution dictated by the variable $\\texttt{num}$. By default, the range for mediator mass and kinetic mixing are dictated by the range of $m_{A'}$ in the Sommerfld file, and $10^{-11} \\leq \\varepsilon \\leq 10^{-5}$. To change the range of $\\varepsilon$, adjust the arguments of the variable ``\\texttt{epsilonLogRange}.''\n",
    "\n",
    "3) Appends the column headers to the data frame"
   ]
  },
  {
   "cell_type": "code",
   "execution_count": 18,
   "metadata": {
    "ExecuteTime": {
     "end_time": "2018-04-25T19:14:42.406544Z",
     "start_time": "2018-04-25T19:14:42.354470Z"
    }
   },
   "outputs": [
    {
     "name": "stdout",
     "output_type": "stream",
     "text": [
      "Complete\n"
     ]
    }
   ],
   "source": [
    "#########################################\n",
    "# Define parameter space Ranges\n",
    "#########################################\n",
    "# Logarithmic Spacing because we plot this in log-log space\n",
    "# 0.01 GeV < mA < 10 GeV\n",
    "# 10^-11 < Epsilon < 10^-5\n",
    "\n",
    "maMin = (min(mAData))\n",
    "maMax = (max(mAData))\n",
    "\n",
    "mALogRange = np.logspace(np.log10(maMin), np.log10(maMax), num, base = 10)\n",
    "epsilonLogRange = np.logspace(-11, -5, num, base = 10)\n",
    "\n",
    "#########################################\n",
    "# Initialize Master Arrays\n",
    "#########################################\n",
    "masterSignalArray = []\n",
    "\n",
    "#########################################\n",
    "# Populate the Master Arrays with the column headers and 'None' Cells\n",
    "#########################################\n",
    "counter = 0\n",
    "for mATemp in mALogRange:\n",
    "    for epsilonTemp in epsilonLogRange:\n",
    "        masterSignalArray.append([counter, ' ', mATemp, epsilonTemp, \\\n",
    "                                  'None', 'None', 'None', 'None', \\\n",
    "                                  ' ', ' ',' ', ' '])\n",
    "        counter +=1\n",
    "#########################################\n",
    "# Create a PANDAS DataFrame from the Master Arrays\n",
    "#########################################\n",
    "masterSignalDataframe = pd.DataFrame(data = masterSignalArray, \\\n",
    "    columns=['Counter', 'mX[GeV]', 'mA[GeV]', 'Epsilon',\\\n",
    "             'Capture[s-1]', 'Annihilation[s-1]', 'GammaAnn[s-1]', 'IceCubeSignal', \\\n",
    "             'SommerfeldFile', 'BranchingRatioFile','Resolution','Kappa0[GeV5]'])\n",
    "\n",
    "print ('Complete')"
   ]
  },
  {
   "cell_type": "markdown",
   "metadata": {},
   "source": [
    "## Write to External .csv File"
   ]
  },
  {
   "cell_type": "markdown",
   "metadata": {
    "ExecuteTime": {
     "end_time": "2018-03-22T20:57:01.532084Z",
     "start_time": "2018-03-22T20:57:01.522605Z"
    }
   },
   "source": [
    "This cell writes the signal data frame to an external csv file."
   ]
  },
  {
   "cell_type": "code",
   "execution_count": 19,
   "metadata": {
    "ExecuteTime": {
     "end_time": "2018-04-25T19:14:51.437808Z",
     "start_time": "2018-04-25T19:14:43.532207Z"
    }
   },
   "outputs": [
    {
     "name": "stdout",
     "output_type": "stream",
     "text": [
      "Signal Rate filename: 100GeVSignalNoSomm.csv\n",
      "--------------------\n",
      "You are about to commit the following to 100GeVSignalNoSomm.csv\n",
      "mX[GeV]             : 100.0\n",
      "Kappa0[GeV5]        : 5.851659530104901e+27\n",
      "Sommerfeld File     : 100GeVSommerfeld.csv\n",
      "Branching Ratio File: brtoe.csv\n",
      "Resolution          : 100\n",
      "\n",
      "Commit to .csv? (y/n)y\n",
      "Commit Executed\n",
      "Complete\n"
     ]
    }
   ],
   "source": [
    "SignalFile = input('Signal Rate filename: ')\n",
    "writeFile = photonSignalDataPath_Incomplete(SignalFile)\n",
    "assert (SignalFile[-4:] == '.csv'), 'Must inclue \".csv\" in the file name'\n",
    "\n",
    "#############################\n",
    "# Double check that these values are correct\n",
    "#############################\n",
    "print ('--------------------')\n",
    "print ('You are about to commit the following to {0}'.format(SignalFile))\n",
    "print ('mX[GeV]             : {0}'.format(m_XSommerfeld))\n",
    "print ('Kappa0[GeV5]        : {0}'.format(kappa0Sommerfeld))\n",
    "print ('Sommerfeld File     : {0}'.format(SommFileName))\n",
    "print ('Branching Ratio File: {0}'.format(branchFileName))\n",
    "print ('Resolution          : {0}'.format(num))\n",
    "\n",
    "print ()\n",
    "\n",
    "yesNo = input ('Commit to .csv? (y/n)')\n",
    "assert (yesNo == 'y' or yesNo == 'n'), 'Invalid input, must be \"y\" or \"n.\"'\n",
    "\n",
    "if (yesNo == 'y'):\n",
    "\n",
    "    # Append a single value onto the Kappa0 Column\n",
    "    kappa0Value = 'None'\n",
    "    m_XValue = 'None'\n",
    "    \n",
    "    masterSignalDataframe.set_value(0, 'mX[GeV]', m_XSommerfeld)\n",
    "    masterSignalDataframe.set_value(0, 'Kappa0[GeV5]' , kappa0Sommerfeld)\n",
    "    masterSignalDataframe.set_value(0, 'SommerfeldFile', SommFileName)\n",
    "    masterSignalDataframe.set_value(0, 'BranchingRatioFile', branchFileName)\n",
    "    masterSignalDataframe.set_value(0, 'Resolution', num)\n",
    "\n",
    "    masterSignalDataframe.to_csv(writeFile, index=False)\n",
    "    \n",
    "    print ('Commit Executed')\n",
    "    \n",
    "else:\n",
    "    print ('Commit aborted')\n",
    "\n",
    "print ('Complete')"
   ]
  },
  {
   "cell_type": "markdown",
   "metadata": {
    "heading_collapsed": true
   },
   "source": [
    "## Sanity Check"
   ]
  },
  {
   "cell_type": "markdown",
   "metadata": {
    "ExecuteTime": {
     "end_time": "2017-08-29T01:37:07.554914Z",
     "start_time": "2017-08-29T01:37:07.542915Z"
    },
    "hidden": true
   },
   "source": [
    "We expect that:\n",
    "\n",
    "1). The \"Counter\" column should be $\\texttt{num}^2$ elements long \n",
    "\n",
    "2). \"Resolution\" has the value for $\\texttt{num}$ stored in it\n",
    "\n",
    "3). The $m_X$ and Kappa0 value from the Sommerfeld file are appended to the Signal file\n",
    "\n",
    "4). The Signal file has 12 columns labeled:\n",
    "    \n",
    "    Counter, mX[GeV], mA[GeV], Epsilon[s-1], Capture[s-1], Annihilation[s-1], GammaAnn[s-1],\n",
    "    IceCubeSignal, SommerfeldFile, BranchingRatioFile, Kappa0[GeV5]\n",
    "    \n",
    "5). \"SommerfeldFile\" and \"BranchingRatioFile\" are actually what you want them to be"
   ]
  },
  {
   "cell_type": "code",
   "execution_count": 11,
   "metadata": {
    "ExecuteTime": {
     "end_time": "2018-04-05T15:53:46.023238Z",
     "start_time": "2018-04-05T15:53:44.685182Z"
    },
    "hidden": true,
    "scrolled": true
   },
   "outputs": [
    {
     "name": "stdout",
     "output_type": "stream",
     "text": [
      "Signal Rate filename: c.csv\n",
      "       Counter mX[GeV]  mA[GeV]       Epsilon Capture[s-1] Annihilation[s-1]  \\\n",
      "0            0  1000.0     0.01  1.000000e-11         None              None   \n",
      "1            1             0.01  1.071891e-11         None              None   \n",
      "2            2             0.01  1.148951e-11         None              None   \n",
      "3            3             0.01  1.231551e-11         None              None   \n",
      "4            4             0.01  1.320088e-11         None              None   \n",
      "5            5             0.01  1.414991e-11         None              None   \n",
      "6            6             0.01  1.516717e-11         None              None   \n",
      "7            7             0.01  1.625756e-11         None              None   \n",
      "8            8             0.01  1.742633e-11         None              None   \n",
      "9            9             0.01  1.867914e-11         None              None   \n",
      "10          10             0.01  2.002200e-11         None              None   \n",
      "11          11             0.01  2.146141e-11         None              None   \n",
      "12          12             0.01  2.300430e-11         None              None   \n",
      "13          13             0.01  2.465811e-11         None              None   \n",
      "14          14             0.01  2.643081e-11         None              None   \n",
      "15          15             0.01  2.833096e-11         None              None   \n",
      "16          16             0.01  3.036771e-11         None              None   \n",
      "17          17             0.01  3.255089e-11         None              None   \n",
      "18          18             0.01  3.489101e-11         None              None   \n",
      "19          19             0.01  3.739937e-11         None              None   \n",
      "20          20             0.01  4.008806e-11         None              None   \n",
      "21          21             0.01  4.297005e-11         None              None   \n",
      "22          22             0.01  4.605922e-11         None              None   \n",
      "23          23             0.01  4.937048e-11         None              None   \n",
      "24          24             0.01  5.291979e-11         None              None   \n",
      "25          25             0.01  5.672426e-11         None              None   \n",
      "26          26             0.01  6.080224e-11         None              None   \n",
      "27          27             0.01  6.517340e-11         None              None   \n",
      "28          28             0.01  6.985880e-11         None              None   \n",
      "29          29             0.01  7.488104e-11         None              None   \n",
      "...        ...     ...      ...           ...          ...               ...   \n",
      "39970    39970            10.00  1.335452e-06         None              None   \n",
      "39971    39971            10.00  1.431459e-06         None              None   \n",
      "39972    39972            10.00  1.534368e-06         None              None   \n",
      "39973    39973            10.00  1.644676e-06         None              None   \n",
      "39974    39974            10.00  1.762914e-06         None              None   \n",
      "39975    39975            10.00  1.889652e-06         None              None   \n",
      "39976    39976            10.00  2.025502e-06         None              None   \n",
      "39977    39977            10.00  2.171118e-06         None              None   \n",
      "39978    39978            10.00  2.327202e-06         None              None   \n",
      "39979    39979            10.00  2.494508e-06         None              None   \n",
      "39980    39980            10.00  2.673842e-06         None              None   \n",
      "39981    39981            10.00  2.866068e-06         None              None   \n",
      "39982    39982            10.00  3.072113e-06         None              None   \n",
      "39983    39983            10.00  3.292971e-06         None              None   \n",
      "39984    39984            10.00  3.529707e-06         None              None   \n",
      "39985    39985            10.00  3.783463e-06         None              None   \n",
      "39986    39986            10.00  4.055461e-06         None              None   \n",
      "39987    39987            10.00  4.347013e-06         None              None   \n",
      "39988    39988            10.00  4.659526e-06         None              None   \n",
      "39989    39989            10.00  4.994505e-06         None              None   \n",
      "39990    39990            10.00  5.353567e-06         None              None   \n",
      "39991    39991            10.00  5.738442e-06         None              None   \n",
      "39992    39992            10.00  6.150986e-06         None              None   \n",
      "39993    39993            10.00  6.593188e-06         None              None   \n",
      "39994    39994            10.00  7.067181e-06         None              None   \n",
      "39995    39995            10.00  7.575250e-06         None              None   \n",
      "39996    39996            10.00  8.119845e-06         None              None   \n",
      "39997    39997            10.00  8.703591e-06         None              None   \n",
      "39998    39998            10.00  9.329304e-06         None              None   \n",
      "39999    39999            10.00  1.000000e-05         None              None   \n",
      "\n",
      "      GammaAnn[s-1] IceCubeSignal      SommerfeldFile BranchingRatioFile  \\\n",
      "0              None          None  1TeVSommerfeld.csv          brtoe.csv   \n",
      "1              None          None                                          \n",
      "2              None          None                                          \n",
      "3              None          None                                          \n",
      "4              None          None                                          \n",
      "5              None          None                                          \n",
      "6              None          None                                          \n",
      "7              None          None                                          \n",
      "8              None          None                                          \n",
      "9              None          None                                          \n",
      "10             None          None                                          \n",
      "11             None          None                                          \n",
      "12             None          None                                          \n",
      "13             None          None                                          \n",
      "14             None          None                                          \n",
      "15             None          None                                          \n",
      "16             None          None                                          \n",
      "17             None          None                                          \n",
      "18             None          None                                          \n",
      "19             None          None                                          \n",
      "20             None          None                                          \n",
      "21             None          None                                          \n",
      "22             None          None                                          \n",
      "23             None          None                                          \n",
      "24             None          None                                          \n",
      "25             None          None                                          \n",
      "26             None          None                                          \n",
      "27             None          None                                          \n",
      "28             None          None                                          \n",
      "29             None          None                                          \n",
      "...             ...           ...                 ...                ...   \n",
      "39970          None          None                                          \n",
      "39971          None          None                                          \n",
      "39972          None          None                                          \n",
      "39973          None          None                                          \n",
      "39974          None          None                                          \n",
      "39975          None          None                                          \n",
      "39976          None          None                                          \n",
      "39977          None          None                                          \n",
      "39978          None          None                                          \n",
      "39979          None          None                                          \n",
      "39980          None          None                                          \n",
      "39981          None          None                                          \n",
      "39982          None          None                                          \n",
      "39983          None          None                                          \n",
      "39984          None          None                                          \n",
      "39985          None          None                                          \n",
      "39986          None          None                                          \n",
      "39987          None          None                                          \n",
      "39988          None          None                                          \n",
      "39989          None          None                                          \n",
      "39990          None          None                                          \n",
      "39991          None          None                                          \n",
      "39992          None          None                                          \n",
      "39993          None          None                                          \n",
      "39994          None          None                                          \n",
      "39995          None          None                                          \n",
      "39996          None          None                                          \n",
      "39997          None          None                                          \n",
      "39998          None          None                                          \n",
      "39999          None          None                                          \n",
      "\n",
      "      Resolution            Kappa0[GeV5]  \n",
      "0            200  3.1452272427969017e+25  \n",
      "1                                         \n",
      "2                                         \n",
      "3                                         \n",
      "4                                         \n",
      "5                                         \n",
      "6                                         \n",
      "7                                         \n",
      "8                                         \n",
      "9                                         \n",
      "10                                        \n",
      "11                                        \n",
      "12                                        \n",
      "13                                        \n",
      "14                                        \n",
      "15                                        \n",
      "16                                        \n",
      "17                                        \n",
      "18                                        \n",
      "19                                        \n",
      "20                                        \n",
      "21                                        \n",
      "22                                        \n",
      "23                                        \n",
      "24                                        \n",
      "25                                        \n",
      "26                                        \n",
      "27                                        \n",
      "28                                        \n",
      "29                                        \n",
      "...          ...                     ...  \n",
      "39970                                     \n",
      "39971                                     \n",
      "39972                                     \n",
      "39973                                     \n",
      "39974                                     \n",
      "39975                                     \n",
      "39976                                     \n",
      "39977                                     \n",
      "39978                                     \n",
      "39979                                     \n",
      "39980                                     \n",
      "39981                                     \n",
      "39982                                     \n",
      "39983                                     \n",
      "39984                                     \n",
      "39985                                     \n",
      "39986                                     \n",
      "39987                                     \n",
      "39988                                     \n",
      "39989                                     \n",
      "39990                                     \n",
      "39991                                     \n",
      "39992                                     \n",
      "39993                                     \n",
      "39994                                     \n",
      "39995                                     \n",
      "39996                                     \n",
      "39997                                     \n",
      "39998                                     \n",
      "39999                                     \n",
      "\n",
      "[40000 rows x 12 columns]\n",
      "Complete\n"
     ]
    }
   ],
   "source": [
    "filename = input('Signal Rate filename: ')\n",
    "writeFile = photonSignalDataPath_Incomplete(filename)\n",
    "\n",
    "print (pd.read_csv(writeFile, sep = ','))\n",
    "print ('Complete')"
   ]
  },
  {
   "cell_type": "markdown",
   "metadata": {},
   "source": [
    "# Signal Calculations"
   ]
  },
  {
   "cell_type": "markdown",
   "metadata": {},
   "source": [
    "Run these two cells onces you have a working signalData.csv file and you want to either start or resume calculations."
   ]
  },
  {
   "cell_type": "markdown",
   "metadata": {},
   "source": [
    "## SignalData.csv Calculations"
   ]
  },
  {
   "cell_type": "markdown",
   "metadata": {},
   "source": [
    "This cell scans through all the lines of signalData.csv file and calculates:\n",
    "\n",
    "1). Capture\n",
    "\n",
    "2). Annihilation\n",
    "\n",
    "3). GammaAnn\n",
    "\n",
    "4). Signal\n",
    "\n",
    "As mentioned previously, this cell may be stopped, by interrupting the kernel, at any time and resumed later."
   ]
  },
  {
   "cell_type": "code",
   "execution_count": 20,
   "metadata": {
    "ExecuteTime": {
     "end_time": "2018-04-25T19:33:21.967718Z",
     "start_time": "2018-04-25T19:14:53.413448Z"
    },
    "scrolled": true
   },
   "outputs": [
    {
     "name": "stdout",
     "output_type": "stream",
     "text": [
      "Signal Rate File: 100GeVSignalNoSomm.csv\n",
      "Backup Created\n",
      "\n",
      "--------------------\n",
      "Calculations for index: 0 recorded\n",
      "Calculations for index: 20 recorded\n",
      "Calculations for index: 40 recorded\n",
      "Calculations for index: 60 recorded\n",
      "Calculations for index: 80 recorded\n",
      "Calculations for index: 100 recorded\n",
      "Calculations for index: 120 recorded\n",
      "Calculations for index: 140 recorded\n",
      "Calculations for index: 160 recorded\n",
      "Calculations for index: 180 recorded\n",
      "Calculations for index: 200 recorded\n",
      "Calculations for index: 220 recorded\n",
      "Calculations for index: 240 recorded\n",
      "Calculations for index: 260 recorded\n",
      "Calculations for index: 280 recorded\n",
      "Calculations for index: 300 recorded\n",
      "Calculations for index: 320 recorded\n",
      "Calculations for index: 340 recorded\n",
      "Calculations for index: 360 recorded\n",
      "Calculations for index: 380 recorded\n",
      "Calculations for index: 400 recorded\n",
      "Calculations for index: 420 recorded\n",
      "Calculations for index: 440 recorded\n",
      "Calculations for index: 460 recorded\n",
      "Calculations for index: 480 recorded\n",
      "Calculations for index: 500 recorded\n",
      "Calculations for index: 520 recorded\n",
      "Calculations for index: 540 recorded\n",
      "Calculations for index: 560 recorded\n",
      "Calculations for index: 580 recorded\n",
      "Calculations for index: 600 recorded\n",
      "Calculations for index: 620 recorded\n",
      "Calculations for index: 640 recorded\n",
      "Calculations for index: 660 recorded\n",
      "Calculations for index: 680 recorded\n",
      "Calculations for index: 700 recorded\n",
      "Calculations for index: 720 recorded\n",
      "Calculations for index: 740 recorded\n",
      "Calculations for index: 760 recorded\n",
      "Calculations for index: 780 recorded\n",
      "Calculations for index: 800 recorded\n",
      "Calculations for index: 820 recorded\n",
      "Calculations for index: 840 recorded\n",
      "Calculations for index: 860 recorded\n",
      "Calculations for index: 880 recorded\n",
      "Calculations for index: 900 recorded\n",
      "Calculations for index: 920 recorded\n",
      "Calculations for index: 940 recorded\n",
      "Calculations for index: 960 recorded\n",
      "Calculations for index: 980 recorded\n",
      "Calculations for index: 1000 recorded\n",
      "Calculations for index: 1020 recorded\n",
      "Calculations for index: 1040 recorded\n",
      "Calculations for index: 1060 recorded\n",
      "Calculations for index: 1080 recorded\n",
      "Calculations for index: 1100 recorded\n",
      "Calculations for index: 1120 recorded\n",
      "Calculations for index: 1140 recorded\n",
      "Calculations for index: 1160 recorded\n",
      "Calculations for index: 1180 recorded\n",
      "Calculations for index: 1200 recorded\n",
      "Calculations for index: 1220 recorded\n",
      "Calculations for index: 1240 recorded\n",
      "Calculations for index: 1260 recorded\n",
      "Calculations for index: 1280 recorded\n",
      "Calculations for index: 1300 recorded\n",
      "Calculations for index: 1320 recorded\n",
      "Calculations for index: 1340 recorded\n",
      "Calculations for index: 1360 recorded\n",
      "Calculations for index: 1380 recorded\n",
      "Calculations for index: 1400 recorded\n",
      "Calculations for index: 1420 recorded\n",
      "Calculations for index: 1440 recorded\n",
      "Calculations for index: 1460 recorded\n",
      "Calculations for index: 1480 recorded\n",
      "Calculations for index: 1500 recorded\n",
      "Calculations for index: 1520 recorded\n",
      "Calculations for index: 1540 recorded\n",
      "Calculations for index: 1560 recorded\n",
      "Calculations for index: 1580 recorded\n",
      "Calculations for index: 1600 recorded\n",
      "Calculations for index: 1620 recorded\n",
      "Calculations for index: 1640 recorded\n",
      "Calculations for index: 1660 recorded\n",
      "Calculations for index: 1680 recorded\n",
      "Calculations for index: 1700 recorded\n",
      "Calculations for index: 1720 recorded\n",
      "Calculations for index: 1740 recorded\n",
      "Calculations for index: 1760 recorded\n",
      "Calculations for index: 1780 recorded\n",
      "Calculations for index: 1800 recorded\n",
      "Calculations for index: 1820 recorded\n",
      "Calculations for index: 1840 recorded\n",
      "Calculations for index: 1860 recorded\n",
      "Calculations for index: 1880 recorded\n",
      "Calculations for index: 1900 recorded\n",
      "Calculations for index: 1920 recorded\n",
      "Calculations for index: 1940 recorded\n",
      "Calculations for index: 1960 recorded\n",
      "Calculations for index: 1980 recorded\n",
      "Calculations for index: 2000 recorded\n",
      "Calculations for index: 2020 recorded\n",
      "Calculations for index: 2040 recorded\n",
      "Calculations for index: 2060 recorded\n",
      "Calculations for index: 2080 recorded\n",
      "Calculations for index: 2100 recorded\n",
      "Calculations for index: 2120 recorded\n",
      "Calculations for index: 2140 recorded\n",
      "Calculations for index: 2160 recorded\n",
      "Calculations for index: 2180 recorded\n",
      "Calculations for index: 2200 recorded\n",
      "Calculations for index: 2220 recorded\n",
      "Calculations for index: 2240 recorded\n",
      "Calculations for index: 2260 recorded\n",
      "Calculations for index: 2280 recorded\n",
      "Calculations for index: 2300 recorded\n",
      "Calculations for index: 2320 recorded\n",
      "Calculations for index: 2340 recorded\n",
      "Calculations for index: 2360 recorded\n",
      "Calculations for index: 2380 recorded\n",
      "Calculations for index: 2400 recorded\n",
      "Calculations for index: 2420 recorded\n",
      "Calculations for index: 2440 recorded\n",
      "Calculations for index: 2460 recorded\n",
      "Calculations for index: 2480 recorded\n",
      "Calculations for index: 2500 recorded\n",
      "Calculations for index: 2520 recorded\n",
      "Calculations for index: 2540 recorded\n",
      "Calculations for index: 2560 recorded\n",
      "Calculations for index: 2580 recorded\n",
      "Calculations for index: 2600 recorded\n",
      "Calculations for index: 2620 recorded\n",
      "Calculations for index: 2640 recorded\n",
      "Calculations for index: 2660 recorded\n",
      "Calculations for index: 2680 recorded\n",
      "Calculations for index: 2700 recorded\n",
      "Calculations for index: 2720 recorded\n",
      "Calculations for index: 2740 recorded\n",
      "Calculations for index: 2760 recorded\n",
      "Calculations for index: 2780 recorded\n",
      "Calculations for index: 2800 recorded\n",
      "Calculations for index: 2820 recorded\n",
      "Calculations for index: 2840 recorded\n",
      "Calculations for index: 2860 recorded\n",
      "Calculations for index: 2880 recorded\n",
      "Calculations for index: 2900 recorded\n",
      "Calculations for index: 2920 recorded\n",
      "Calculations for index: 2940 recorded\n",
      "Calculations for index: 2960 recorded\n",
      "Calculations for index: 2980 recorded\n",
      "Calculations for index: 3000 recorded\n",
      "Calculations for index: 3020 recorded\n",
      "Calculations for index: 3040 recorded\n",
      "Calculations for index: 3060 recorded\n",
      "Calculations for index: 3080 recorded\n",
      "Calculations for index: 3100 recorded\n",
      "Calculations for index: 3120 recorded\n",
      "Calculations for index: 3140 recorded\n",
      "Calculations for index: 3160 recorded\n",
      "Calculations for index: 3180 recorded\n",
      "Calculations for index: 3200 recorded\n",
      "Calculations for index: 3220 recorded\n",
      "Calculations for index: 3240 recorded\n",
      "Calculations for index: 3260 recorded\n",
      "Calculations for index: 3280 recorded\n",
      "Calculations for index: 3300 recorded\n",
      "Calculations for index: 3320 recorded\n",
      "Calculations for index: 3340 recorded\n",
      "Calculations for index: 3360 recorded\n",
      "Calculations for index: 3380 recorded\n",
      "Calculations for index: 3400 recorded\n",
      "Calculations for index: 3420 recorded\n",
      "Calculations for index: 3440 recorded\n",
      "Calculations for index: 3460 recorded\n",
      "Calculations for index: 3480 recorded\n",
      "Calculations for index: 3500 recorded\n",
      "Calculations for index: 3520 recorded\n",
      "Calculations for index: 3540 recorded\n",
      "Calculations for index: 3560 recorded\n",
      "Calculations for index: 3580 recorded\n",
      "Calculations for index: 3600 recorded\n",
      "Calculations for index: 3620 recorded\n",
      "Calculations for index: 3640 recorded\n",
      "Calculations for index: 3660 recorded\n",
      "Calculations for index: 3680 recorded\n",
      "Calculations for index: 3700 recorded\n",
      "Calculations for index: 3720 recorded\n",
      "Calculations for index: 3740 recorded\n",
      "Calculations for index: 3760 recorded\n",
      "Calculations for index: 3780 recorded\n",
      "Calculations for index: 3800 recorded\n",
      "Calculations for index: 3820 recorded\n",
      "Calculations for index: 3840 recorded\n",
      "Calculations for index: 3860 recorded\n",
      "Calculations for index: 3880 recorded\n",
      "Calculations for index: 3900 recorded\n",
      "Calculations for index: 3920 recorded\n",
      "Calculations for index: 3940 recorded\n",
      "Calculations for index: 3960 recorded\n",
      "Calculations for index: 3980 recorded\n",
      "Calculations for index: 4000 recorded\n",
      "Calculations for index: 4020 recorded\n",
      "Calculations for index: 4040 recorded\n",
      "Calculations for index: 4060 recorded\n",
      "Calculations for index: 4080 recorded\n",
      "Calculations for index: 4100 recorded\n",
      "Calculations for index: 4120 recorded\n",
      "Calculations for index: 4140 recorded\n",
      "Calculations for index: 4160 recorded\n",
      "Calculations for index: 4180 recorded\n",
      "Calculations for index: 4200 recorded\n",
      "Calculations for index: 4220 recorded\n",
      "Calculations for index: 4240 recorded\n",
      "Calculations for index: 4260 recorded\n",
      "Calculations for index: 4280 recorded\n",
      "Calculations for index: 4300 recorded\n"
     ]
    },
    {
     "name": "stdout",
     "output_type": "stream",
     "text": [
      "Calculations for index: 4320 recorded\n",
      "Calculations for index: 4340 recorded\n",
      "Calculations for index: 4360 recorded\n",
      "Calculations for index: 4380 recorded\n",
      "Calculations for index: 4400 recorded\n",
      "Calculations for index: 4420 recorded\n",
      "Calculations for index: 4440 recorded\n",
      "Calculations for index: 4460 recorded\n",
      "Calculations for index: 4480 recorded\n",
      "Calculations for index: 4500 recorded\n",
      "Calculations for index: 4520 recorded\n",
      "Calculations for index: 4540 recorded\n",
      "Calculations for index: 4560 recorded\n",
      "Calculations for index: 4580 recorded\n",
      "Calculations for index: 4600 recorded\n",
      "Calculations for index: 4620 recorded\n",
      "Calculations for index: 4640 recorded\n",
      "Calculations for index: 4660 recorded\n",
      "Calculations for index: 4680 recorded\n",
      "Calculations for index: 4700 recorded\n",
      "Calculations for index: 4720 recorded\n",
      "Calculations for index: 4740 recorded\n",
      "Calculations for index: 4760 recorded\n",
      "Calculations for index: 4780 recorded\n",
      "Calculations for index: 4800 recorded\n",
      "Calculations for index: 4820 recorded\n",
      "Calculations for index: 4840 recorded\n",
      "Calculations for index: 4860 recorded\n",
      "Calculations for index: 4880 recorded\n",
      "Calculations for index: 4900 recorded\n",
      "Calculations for index: 4920 recorded\n",
      "Calculations for index: 4940 recorded\n",
      "Calculations for index: 4960 recorded\n",
      "Calculations for index: 4980 recorded\n",
      "Calculations for index: 5000 recorded\n",
      "Calculations for index: 5020 recorded\n",
      "Calculations for index: 5040 recorded\n",
      "Calculations for index: 5060 recorded\n",
      "Calculations for index: 5080 recorded\n",
      "Calculations for index: 5100 recorded\n",
      "Calculations for index: 5120 recorded\n",
      "Calculations for index: 5140 recorded\n",
      "Calculations for index: 5160 recorded\n",
      "Calculations for index: 5180 recorded\n",
      "Calculations for index: 5200 recorded\n",
      "Calculations for index: 5220 recorded\n",
      "Calculations for index: 5240 recorded\n",
      "Calculations for index: 5260 recorded\n",
      "Calculations for index: 5280 recorded\n",
      "Calculations for index: 5300 recorded\n",
      "Calculations for index: 5320 recorded\n",
      "Calculations for index: 5340 recorded\n",
      "Calculations for index: 5360 recorded\n",
      "Calculations for index: 5380 recorded\n",
      "Calculations for index: 5400 recorded\n",
      "Calculations for index: 5420 recorded\n",
      "Calculations for index: 5440 recorded\n",
      "Calculations for index: 5460 recorded\n",
      "Calculations for index: 5480 recorded\n",
      "Calculations for index: 5500 recorded\n",
      "Calculations for index: 5520 recorded\n",
      "Calculations for index: 5540 recorded\n",
      "Calculations for index: 5560 recorded\n",
      "Calculations for index: 5580 recorded\n",
      "Calculations for index: 5600 recorded\n",
      "Calculations for index: 5620 recorded\n",
      "Calculations for index: 5640 recorded\n",
      "Calculations for index: 5660 recorded\n",
      "Calculations for index: 5680 recorded\n",
      "Calculations for index: 5700 recorded\n",
      "Calculations for index: 5720 recorded\n",
      "Calculations for index: 5740 recorded\n",
      "Calculations for index: 5760 recorded\n",
      "Calculations for index: 5780 recorded\n",
      "Calculations for index: 5800 recorded\n",
      "Calculations for index: 5820 recorded\n",
      "Calculations for index: 5840 recorded\n",
      "Calculations for index: 5860 recorded\n",
      "Calculations for index: 5880 recorded\n",
      "Calculations for index: 5900 recorded\n",
      "Calculations for index: 5920 recorded\n",
      "Calculations for index: 5940 recorded\n",
      "Calculations for index: 5960 recorded\n",
      "Calculations for index: 5980 recorded\n",
      "Calculations for index: 6000 recorded\n",
      "Calculations for index: 6020 recorded\n",
      "Calculations for index: 6040 recorded\n",
      "Calculations for index: 6060 recorded\n",
      "Calculations for index: 6080 recorded\n",
      "Calculations for index: 6100 recorded\n",
      "Calculations for index: 6120 recorded\n",
      "Calculations for index: 6140 recorded\n",
      "Calculations for index: 6160 recorded\n",
      "Calculations for index: 6180 recorded\n",
      "Calculations for index: 6200 recorded\n",
      "Calculations for index: 6220 recorded\n",
      "Calculations for index: 6240 recorded\n",
      "Calculations for index: 6260 recorded\n",
      "Calculations for index: 6280 recorded\n",
      "Calculations for index: 6300 recorded\n",
      "Calculations for index: 6320 recorded\n",
      "Calculations for index: 6340 recorded\n",
      "Calculations for index: 6360 recorded\n",
      "Calculations for index: 6380 recorded\n",
      "Calculations for index: 6400 recorded\n",
      "Calculations for index: 6420 recorded\n",
      "Calculations for index: 6440 recorded\n",
      "Calculations for index: 6460 recorded\n",
      "Calculations for index: 6480 recorded\n",
      "Calculations for index: 6500 recorded\n",
      "Calculations for index: 6520 recorded\n",
      "Calculations for index: 6540 recorded\n",
      "Calculations for index: 6560 recorded\n",
      "Calculations for index: 6580 recorded\n",
      "Calculations for index: 6600 recorded\n",
      "Calculations for index: 6620 recorded\n",
      "Calculations for index: 6640 recorded\n",
      "Calculations for index: 6660 recorded\n",
      "Calculations for index: 6680 recorded\n",
      "Calculations for index: 6700 recorded\n",
      "Calculations for index: 6720 recorded\n",
      "Calculations for index: 6740 recorded\n",
      "Calculations for index: 6760 recorded\n",
      "Calculations for index: 6780 recorded\n",
      "Calculations for index: 6800 recorded\n",
      "Calculations for index: 6820 recorded\n",
      "Calculations for index: 6840 recorded\n",
      "Calculations for index: 6860 recorded\n",
      "Calculations for index: 6880 recorded\n",
      "Calculations for index: 6900 recorded\n",
      "Calculations for index: 6920 recorded\n",
      "Calculations for index: 6940 recorded\n",
      "Calculations for index: 6960 recorded\n",
      "Calculations for index: 6980 recorded\n",
      "Calculations for index: 7000 recorded\n",
      "Calculations for index: 7020 recorded\n",
      "Calculations for index: 7040 recorded\n",
      "Calculations for index: 7060 recorded\n",
      "Calculations for index: 7080 recorded\n",
      "Calculations for index: 7100 recorded\n",
      "Calculations for index: 7120 recorded\n",
      "Calculations for index: 7140 recorded\n",
      "Calculations for index: 7160 recorded\n",
      "Calculations for index: 7180 recorded\n",
      "Calculations for index: 7200 recorded\n",
      "Calculations for index: 7220 recorded\n",
      "Calculations for index: 7240 recorded\n",
      "Calculations for index: 7260 recorded\n",
      "Calculations for index: 7280 recorded\n",
      "Calculations for index: 7300 recorded\n",
      "Calculations for index: 7320 recorded\n",
      "Calculations for index: 7340 recorded\n",
      "Calculations for index: 7360 recorded\n",
      "Calculations for index: 7380 recorded\n",
      "Calculations for index: 7400 recorded\n",
      "Calculations for index: 7420 recorded\n",
      "Calculations for index: 7440 recorded\n",
      "Calculations for index: 7460 recorded\n",
      "Calculations for index: 7480 recorded\n",
      "Calculations for index: 7500 recorded\n",
      "Calculations for index: 7520 recorded\n",
      "Calculations for index: 7540 recorded\n",
      "Calculations for index: 7560 recorded\n",
      "Calculations for index: 7580 recorded\n",
      "Calculations for index: 7600 recorded\n",
      "Calculations for index: 7620 recorded\n",
      "Calculations for index: 7640 recorded\n",
      "Calculations for index: 7660 recorded\n",
      "Calculations for index: 7680 recorded\n",
      "Calculations for index: 7700 recorded\n",
      "Calculations for index: 7720 recorded\n",
      "Calculations for index: 7740 recorded\n",
      "Calculations for index: 7760 recorded\n",
      "Calculations for index: 7780 recorded\n",
      "Calculations for index: 7800 recorded\n",
      "Calculations for index: 7820 recorded\n",
      "Calculations for index: 7840 recorded\n",
      "Calculations for index: 7860 recorded\n",
      "Calculations for index: 7880 recorded\n",
      "Calculations for index: 7900 recorded\n",
      "Calculations for index: 7920 recorded\n",
      "Calculations for index: 7940 recorded\n",
      "Calculations for index: 7960 recorded\n",
      "Calculations for index: 7980 recorded\n",
      "Calculations for index: 8000 recorded\n",
      "Calculations for index: 8020 recorded\n",
      "Calculations for index: 8040 recorded\n",
      "Calculations for index: 8060 recorded\n",
      "Calculations for index: 8080 recorded\n",
      "Calculations for index: 8100 recorded\n",
      "Calculations for index: 8120 recorded\n",
      "Calculations for index: 8140 recorded\n",
      "Calculations for index: 8160 recorded\n",
      "Calculations for index: 8180 recorded\n",
      "Calculations for index: 8200 recorded\n",
      "Calculations for index: 8220 recorded\n",
      "Calculations for index: 8240 recorded\n",
      "Calculations for index: 8260 recorded\n",
      "Calculations for index: 8280 recorded\n",
      "Calculations for index: 8300 recorded\n",
      "Calculations for index: 8320 recorded\n",
      "Calculations for index: 8340 recorded\n",
      "Calculations for index: 8360 recorded\n",
      "Calculations for index: 8380 recorded\n",
      "Calculations for index: 8400 recorded\n",
      "Calculations for index: 8420 recorded\n",
      "Calculations for index: 8440 recorded\n",
      "Calculations for index: 8460 recorded\n",
      "Calculations for index: 8480 recorded\n",
      "Calculations for index: 8500 recorded\n",
      "Calculations for index: 8520 recorded\n",
      "Calculations for index: 8540 recorded\n",
      "Calculations for index: 8560 recorded\n",
      "Calculations for index: 8580 recorded\n",
      "Calculations for index: 8600 recorded\n",
      "Calculations for index: 8620 recorded\n"
     ]
    },
    {
     "name": "stdout",
     "output_type": "stream",
     "text": [
      "Calculations for index: 8640 recorded\n",
      "Calculations for index: 8660 recorded\n",
      "Calculations for index: 8680 recorded\n",
      "Calculations for index: 8700 recorded\n",
      "Calculations for index: 8720 recorded\n",
      "Calculations for index: 8740 recorded\n",
      "Calculations for index: 8760 recorded\n",
      "Calculations for index: 8780 recorded\n",
      "Calculations for index: 8800 recorded\n",
      "Calculations for index: 8820 recorded\n",
      "Calculations for index: 8840 recorded\n",
      "Calculations for index: 8860 recorded\n",
      "Calculations for index: 8880 recorded\n",
      "Calculations for index: 8900 recorded\n",
      "Calculations for index: 8920 recorded\n",
      "Calculations for index: 8940 recorded\n",
      "Calculations for index: 8960 recorded\n",
      "Calculations for index: 8980 recorded\n",
      "Calculations for index: 9000 recorded\n",
      "Calculations for index: 9020 recorded\n",
      "Calculations for index: 9040 recorded\n",
      "Calculations for index: 9060 recorded\n",
      "Calculations for index: 9080 recorded\n",
      "Calculations for index: 9100 recorded\n",
      "Calculations for index: 9120 recorded\n",
      "Calculations for index: 9140 recorded\n",
      "Calculations for index: 9160 recorded\n",
      "Calculations for index: 9180 recorded\n",
      "Calculations for index: 9200 recorded\n",
      "Calculations for index: 9220 recorded\n",
      "Calculations for index: 9240 recorded\n",
      "Calculations for index: 9260 recorded\n",
      "Calculations for index: 9280 recorded\n",
      "Calculations for index: 9300 recorded\n",
      "Calculations for index: 9320 recorded\n",
      "Calculations for index: 9340 recorded\n",
      "Calculations for index: 9360 recorded\n",
      "Calculations for index: 9380 recorded\n",
      "Calculations for index: 9400 recorded\n",
      "Calculations for index: 9420 recorded\n",
      "Calculations for index: 9440 recorded\n",
      "Calculations for index: 9460 recorded\n",
      "Calculations for index: 9480 recorded\n",
      "Calculations for index: 9500 recorded\n",
      "Calculations for index: 9520 recorded\n",
      "Calculations for index: 9540 recorded\n",
      "Calculations for index: 9560 recorded\n",
      "Calculations for index: 9580 recorded\n",
      "Calculations for index: 9600 recorded\n",
      "Calculations for index: 9620 recorded\n",
      "Calculations for index: 9640 recorded\n",
      "Calculations for index: 9660 recorded\n",
      "Calculations for index: 9680 recorded\n",
      "Calculations for index: 9700 recorded\n",
      "Calculations for index: 9720 recorded\n",
      "Calculations for index: 9740 recorded\n",
      "Calculations for index: 9760 recorded\n",
      "Calculations for index: 9780 recorded\n",
      "Calculations for index: 9800 recorded\n",
      "Calculations for index: 9820 recorded\n",
      "Calculations for index: 9840 recorded\n",
      "Calculations for index: 9860 recorded\n",
      "Calculations for index: 9880 recorded\n",
      "Calculations for index: 9900 recorded\n",
      "Calculations for index: 9920 recorded\n",
      "Calculations for index: 9940 recorded\n",
      "Calculations for index: 9960 recorded\n",
      "Calculations for index: 9980 recorded\n",
      "--------------------\n",
      "All Calculations Complete\n",
      "Complete\n"
     ]
    }
   ],
   "source": [
    "#########################################\n",
    "# Read in Signal File\n",
    "#########################################\n",
    "signalFileName = input('Signal Rate File: ')\n",
    "signalWriteFile = photonSignalDataPath_Incomplete(signalFileName)\n",
    "signalDataIn = pd.read_csv(signalWriteFile, sep = ',')\n",
    "\n",
    "#########################################\n",
    "# Create backup of Signal File \n",
    "#########################################\n",
    "timeStamp = time.strftime('%b-%d_%H.%M')\n",
    "signalFileNameCopy = signalFileName[:-4] + '_'+timeStamp+'.csv'\n",
    "signalDataIn.to_csv(photonSignalDataPath_Incomplete_Backups(signalFileNameCopy), sep=',',index=False)\n",
    "print ('Backup Created')\n",
    "\n",
    "\n",
    "#########################################\n",
    "# Constants in (mA, epsilon) space:\n",
    "#########################################\n",
    "Filem_X = float(signalDataIn.loc[0, 'mX[GeV]'])\n",
    "FileKappa0 = float(signalDataIn.loc[0, 'Kappa0[GeV5]'])\n",
    "Alpha = 1./137\n",
    "LiveTime = yr2s(10)\n",
    "\n",
    "\n",
    "#########################################\n",
    "# Sommerfeld Interpolation\n",
    "#########################################\n",
    "sommFileName = signalDataIn.loc[0,'SommerfeldFile']\n",
    "sommDataIn = pd.read_csv(photonSommerfeldPath(sommFileName))\n",
    "mAData1 = sommDataIn['mA[GeV]']\n",
    "SommDataValues = sommDataIn['ThermAvgSommerfeld']\n",
    "SommInterp = interpolate.interp1d(mAData1,SommDataValues)\n",
    "\n",
    "#########################################\n",
    "# Branching Ratio Interpolation\n",
    "#########################################\n",
    "branchFileName = signalDataIn.loc[0,'BranchingRatioFile']\n",
    "branchDataIn = pd.read_csv(photonBranchPath(branchFileName))\n",
    "\n",
    "mABranch = branchDataIn['mA[GeV]']\n",
    "branchingDataValues = branchDataIn['BR']\n",
    "\n",
    "branchRatioInterp = interpolate.interp1d(mABranch,branchingDataValues)\n",
    "\n",
    "\n",
    "#########################################\n",
    "# Begin the loop calculations\n",
    "#########################################\n",
    "loopRange = range(0,len(signalDataIn['Counter']))\n",
    "print ()\n",
    "print ('--------------------')\n",
    "finishedCounter = 0\n",
    "index = 0\n",
    "for index in loopRange:\n",
    "    testValue = signalDataIn.loc[index, 'IceCubeSignal']\n",
    "    \n",
    "    if (testValue == 'None'):\n",
    "        #########################################\n",
    "        # Initialize loop-specific Quantities\n",
    "        #########################################\n",
    "        Filem_ATemp = float(signalDataIn.loc[index, 'mA[GeV]'])\n",
    "        FileEpsilonTemp = float(signalDataIn.loc[index, 'Epsilon'])\n",
    "        Alpha_X = alphaTherm(Filem_X, Filem_ATemp)      \n",
    "#         Sommerfeld = SommInterp(Filem_ATemp)\n",
    "        Sommerfeld = 1\n",
    "        BranchingRatio = branchRatioInterp(Filem_ATemp)\n",
    "        \n",
    "        #########################################\n",
    "        # Loop Calculations\n",
    "        #########################################\n",
    "        Capture = photonCCapQuick(Filem_X, Filem_ATemp, FileEpsilonTemp, Alpha_X, FileKappa0)\n",
    "        SigmaVTree = photonSigmaVtree(Filem_X, Filem_ATemp, Alpha_X)\n",
    "        Annihilation = CAnnCalc(Filem_X, SigmaVTree, thermAvgSomm = Sommerfeld)\n",
    "        GammaAnn = gammaAnn(Capture, Annihilation)\n",
    "        L = decayLength(Filem_X, Filem_ATemp, FileEpsilonTemp, BranchingRatio)\n",
    "        EpsilonDecay = epsilonDecay(L)\n",
    "        \n",
    "        IceCubeSignal = iceCubeSignal(GammaAnn, EpsilonDecay, LiveTime)\n",
    "\n",
    "        #########################################\n",
    "        # Append Calculated Values to SignalFile.csv\n",
    "        #########################################\n",
    "#         signalDataIn.set_value(index, 'Capture[s-1]', Capture)\n",
    "#         signalDataIn.set_value(index, 'Annihilation[s-1]', Annihilation)\n",
    "#         signalDataIn.set_value(index, 'GammaAnn[s-1]', GammaAnn)\n",
    "        signalDataIn.set_value(index, 'IceCubeSignal', IceCubeSignal)\n",
    "        \n",
    "        \n",
    "        #########################################\n",
    "        # Overwrite SignalFile.csv\n",
    "        #########################################\n",
    "        signalDataIn.to_csv(signalWriteFile, sep=',',index=False) \n",
    "        finishedCounter += 1\n",
    "        \n",
    "        if (index % 20 == 0):\n",
    "            print ('Calculations for index: {0} recorded'.format(index))\n",
    "        \n",
    "    elif (testValue != 'None'):\n",
    "        finishedCounter += 1\n",
    "    \n",
    "    if (finishedCounter == len(signalDataIn['Counter'])):\n",
    "        print ('--------------------')\n",
    "        print ('All Calculations Complete')\n",
    "        break\n",
    "        \n",
    "print ('Complete')"
   ]
  },
  {
   "cell_type": "markdown",
   "metadata": {},
   "source": [
    "## Manual Overwrite"
   ]
  },
  {
   "cell_type": "markdown",
   "metadata": {},
   "source": [
    "This cell is a manual overwrite of the signalData.csv file.\n",
    "\n",
    "It is REQUIRED that you run this if you interrupt the calculation. Failure to do so could result in a loss of all your data."
   ]
  },
  {
   "cell_type": "code",
   "execution_count": 21,
   "metadata": {
    "ExecuteTime": {
     "end_time": "2018-04-25T19:33:41.446702Z",
     "start_time": "2018-04-25T19:33:40.559284Z"
    }
   },
   "outputs": [
    {
     "name": "stdout",
     "output_type": "stream",
     "text": [
      "Working Signal File: DarkPhotonCapture/SignalRateData/Incomplete/100GeVSignalNoSomm.csv\n",
      "Overwrite? (y/n): y\n",
      "Overwrite complete\n",
      "Complete\n"
     ]
    }
   ],
   "source": [
    "print ('Working Signal File: {0}'.format(signalWriteFile))\n",
    "\n",
    "overwrite = input('Overwrite? (y/n): ')\n",
    "if ((overwrite == 'y') or (overwrite == 'Y')):\n",
    "    signalDataIn.to_csv(signalWriteFile, sep=',',index=False) \n",
    "    print ('Overwrite complete')\n",
    "    \n",
    "else:\n",
    "    print ('Overwrite aborted')\n",
    "\n",
    "print ('Complete')"
   ]
  },
  {
   "cell_type": "markdown",
   "metadata": {},
   "source": [
    "------------------------"
   ]
  },
  {
   "cell_type": "markdown",
   "metadata": {},
   "source": [
    "# Signal Graphs"
   ]
  },
  {
   "cell_type": "markdown",
   "metadata": {},
   "source": [
    "The general recipie is:\n",
    "\n",
    "1). Read in a Signal Data file\n",
    "\n",
    "2). Extract the plot information\n",
    "\n",
    "3). Plot\n"
   ]
  },
  {
   "cell_type": "markdown",
   "metadata": {},
   "source": [
    "## Read in External Signal File"
   ]
  },
  {
   "cell_type": "code",
   "execution_count": 29,
   "metadata": {
    "ExecuteTime": {
     "end_time": "2018-04-25T19:34:57.771382Z",
     "start_time": "2018-04-25T19:34:54.696103Z"
    }
   },
   "outputs": [
    {
     "name": "stdout",
     "output_type": "stream",
     "text": [
      "Signal Rate filename: 100GeVSignal.csv\n",
      "Complete\n"
     ]
    }
   ],
   "source": [
    "GammaFile = input('Signal Rate filename: ')\n",
    "readFile = photonSignalDataPath_Complete(GammaFile)\n",
    "testRead = pd.read_csv(readFile) # This is here to ensure that the file exists\n",
    "\n",
    "print ('Complete')"
   ]
  },
  {
   "cell_type": "markdown",
   "metadata": {},
   "source": [
    "## Define the plot region and extract plot data"
   ]
  },
  {
   "cell_type": "markdown",
   "metadata": {},
   "source": [
    "We plot the Data under the column\n",
    "\n",
    "    mA[GeV], Epsilon, IceCubeSignal"
   ]
  },
  {
   "cell_type": "code",
   "execution_count": 30,
   "metadata": {
    "ExecuteTime": {
     "end_time": "2018-04-25T19:34:59.399542Z",
     "start_time": "2018-04-25T19:34:59.217057Z"
    }
   },
   "outputs": [
    {
     "name": "stdout",
     "output_type": "stream",
     "text": [
      "Complete\n"
     ]
    }
   ],
   "source": [
    "rawData = pd.read_csv(photonSignalDataPath_Complete(GammaFile))\n",
    "Filem_X = float(rawData.loc[0,'mX[GeV]'])\n",
    "\n",
    "#Pull out min / max values on each axis\n",
    "xMin = min(rawData['mA[GeV]'])\n",
    "xMax = max(rawData['mA[GeV]'])\n",
    "yMin = min(rawData['Epsilon'])\n",
    "yMax = max(rawData['Epsilon'])\n",
    "\n",
    "\n",
    "#########################################\n",
    "# Define the dimension of the grid. \n",
    "# For an n x n grid, this will pull out the number \"n\"\n",
    "#########################################\n",
    "gridDim = int(rawData.loc[0,'Resolution'])\n",
    "\n",
    "\n",
    "#########################################\n",
    "# Create the n x n grid\n",
    "#########################################\n",
    "# Logarithmic Spacing\n",
    "xLogRange = np.logspace(np.log10(xMin), np.log10(xMax) , gridDim, base = 10)\n",
    "yLogRange = np.logspace(np.log10(yMin), np.log10(yMax), gridDim, base = 10)\n",
    "\n",
    "\n",
    "#########################################\n",
    "# Read in and reshape the Contour data\n",
    "#########################################\n",
    "# This reads in contour data as a single column,\n",
    "#     but we reshape it to a 2D, n x n array to fit the grid\n",
    "\n",
    "z = [rawData['IceCubeSignal']]\n",
    "SignalData = np.reshape(z, (len(xLogRange), len(yLogRange)))\n",
    "\n",
    "print ('Complete')"
   ]
  },
  {
   "cell_type": "markdown",
   "metadata": {},
   "source": [
    "## Plot the Signal Events"
   ]
  },
  {
   "cell_type": "code",
   "execution_count": 31,
   "metadata": {
    "ExecuteTime": {
     "end_time": "2018-04-25T19:35:01.588447Z",
     "start_time": "2018-04-25T19:35:00.581768Z"
    },
    "scrolled": false
   },
   "outputs": [
    {
     "name": "stderr",
     "output_type": "stream",
     "text": [
      "C:\\Users\\Adam Green\\Anaconda3\\lib\\site-packages\\ipykernel_launcher.py:19: RuntimeWarning: divide by zero encountered in log10\n"
     ]
    },
    {
     "name": "stdout",
     "output_type": "stream",
     "text": [
      "Complete\n"
     ]
    },
    {
     "data": {
      "image/png": "[encoded data removed]",
      "text/plain": [
       "<matplotlib.figure.Figure at 0x1d5b289b358>"
      ]
     },
     "metadata": {},
     "output_type": "display_data"
    }
   ],
   "source": [
    "###############################\n",
    "# Set the correct units for m_X\n",
    "###############################\n",
    "m_XUnit = 'None'\n",
    "if (Filem_X < 1000):\n",
    "    m_XDisplay = Filem_X\n",
    "    m_XUnit = 'GeV'\n",
    "\n",
    "if (Filem_X >= 1000):\n",
    "    m_XDisplay = Filem_X * 10**-3\n",
    "    m_XUnit = 'TeV'\n",
    "    \n",
    "    \n",
    "###############################\n",
    "# Plotting Stuff\n",
    "###############################\n",
    "fig0 = plt.figure(figsize = (6,6))\n",
    "\n",
    "CP = plt.contour(np.log10(xLogRange), np.log10(yLogRange), \\\n",
    "                 np.log10(SignalData.transpose()),\\\n",
    "                 levels=[0,1,2,3],\\\n",
    "                )\n",
    "\n",
    "xLabelNums = [-2,-1,0,1]\n",
    "xLabelText = [r'$10^{-2}$',r'$10^{-1}$',r'$10^{0}$',r'$10^{1}$']\n",
    "\n",
    "yLabelNums = [-5,-6,-7,-8,-9,-10,-11]\n",
    "yLabelText = [r'$10^{-5}$', r'$10^{-6}$', r'$10^{-7}$', r'$10^{-8}$', \\\n",
    "              r'$10^{-9}$', r'$10^{-10}$', r'$10^{-11}$']\n",
    "\n",
    "\n",
    "plt.xticks(xLabelNums, xLabelText, fontsize = 12)\n",
    "plt.yticks(yLabelNums, yLabelText, fontsize = 12)\n",
    "\n",
    "plt.xlabel(r\"$m_{A'}$ $[GeV]$\", fontsize = 14)\n",
    "plt.ylabel(r'$\\varepsilon$', fontsize = 18)\n",
    "plt.suptitle('IceCube Events', fontsize = 16)\n",
    "plt.title(r'$m_X$ = {0} {1}'.format(m_XDisplay, m_XUnit), loc = 'right', fontsize = 13)\n",
    "\n",
    "labels = [r'1', r'$10$',r'$10^2$',r'$10^3$']\n",
    "for i in range(len(labels)):\n",
    "    CP.collections[i].set_label(labels[i])\n",
    "\n",
    "plt.legend(loc='upper right', fontsize = 13)\n",
    "plt.grid()\n",
    "print ('Complete')"
   ]
  },
  {
   "cell_type": "markdown",
   "metadata": {},
   "source": [
    "### Save Figure"
   ]
  },
  {
   "cell_type": "code",
   "execution_count": 33,
   "metadata": {
    "ExecuteTime": {
     "end_time": "2018-04-25T19:35:14.350747Z",
     "start_time": "2018-04-25T19:35:09.131392Z"
    }
   },
   "outputs": [
    {
     "name": "stdout",
     "output_type": "stream",
     "text": [
      "Filename: 100GeVSignal.png\n",
      "Complete\n"
     ]
    }
   ],
   "source": [
    "figName = input('Filename: ')\n",
    "\n",
    "fig0.savefig(photonSignalPlotPath(figName), dpi = 700, \\\n",
    "#              bbox_inches = 'tight', \\\n",
    "#              pad_inches= 1\\\n",
    "            )\n",
    "print ('Complete')"
   ]
  },
  {
   "cell_type": "markdown",
   "metadata": {
    "heading_collapsed": true
   },
   "source": [
    "## Sanity Checks"
   ]
  },
  {
   "cell_type": "markdown",
   "metadata": {
    "hidden": true
   },
   "source": [
    "For the following parameters:\n",
    "\n",
    "- $m_X = 1000$ GeV\n",
    "\n",
    "- $m_A = 1.0$ GeV\n",
    "\n",
    "- $\\varepsilon = 10^{-8}$\n",
    "\n",
    "we know for certain:\n",
    "- $C_{Cap} \\sim 1.09185621\\times 10^8$\n",
    "\n",
    "- $C_{Ann} \\sim 1.66001111034\\times 10^{-46}$ (with Sommerfeld)\n",
    "\n",
    "- $\\frac{\\tau}{\\tau_{\\oplus}} \\mathcal{O}(10^1 - 10^2)$\n",
    "\n",
    "- $N_{sig} \\sim \\mathcal{O}(10^2 - 10^3)$\n",
    "\n",
    "Un-comment the following cell to debug."
   ]
  },
  {
   "cell_type": "code",
   "execution_count": null,
   "metadata": {
    "collapsed": true,
    "hidden": true
   },
   "outputs": [],
   "source": [
    "# testm_X = 1000.\n",
    "# testm_A = 1.0\n",
    "# testEpsilon = 10**-8\n",
    "# alpha_X = alphaTherm(testm_X, testm_A)\n",
    "# LiveTime = yr2s(10)\n",
    "# BranchingRatio = 1\n",
    "\n",
    "# # # Capture Functions\n",
    "# Kappa0 = kappa_0(testm_X, 1./137)\n",
    "# Capture = CCapQuick(testm_X, testm_A, testEpsilon, alpha_X, Kappa0)\n",
    "\n",
    "# # # Annihilation Functions\n",
    "# Sommerfeld = thermAvgSommerfeld(testm_X, testm_A, alpha_X)\n",
    "# Annihilation = CAnn(testm_X, testm_A, alpha_X, Sommerfeld)\n",
    "\n",
    "# # # Equilibrium Time\n",
    "# EQTime = tau(Capture, Annihilation)\n",
    "# EQRatio = EQTime/tauCross\n",
    "\n",
    "# # # Signal Rates\n",
    "# GammaAnn = gammaAnnCalc(Capture, Annihilation)\n",
    "# # DecayLength = decayLength2(testm_X, testm_A, testEpsilon, BranchingRatio)\n",
    "# DecayLength = decayLengthJordan(testm_X, testm_A, testEpsilon, BranchingRatio)\n",
    "# EpsilonDecay = epsilonDecay(DecayLength)\n",
    "# Signal = iceCubeSignal(GammaAnn, EpsilonDecay, LiveTime)\n",
    "\n",
    "\n",
    "# print ('Complete')"
   ]
  },
  {
   "cell_type": "code",
   "execution_count": null,
   "metadata": {
    "collapsed": true,
    "hidden": true
   },
   "outputs": [],
   "source": [
    "# print ('Capture       : {0}'.format(Capture))\n",
    "# print ('Annihilation  : {0}'.format(Annihilation))\n",
    "# print ('Tau:          : {0}'.format(EQTime))\n",
    "# print ('EQ Ratio      : {0}'.format(EQRatio))\n",
    "# print ('GammaAnn      : {0}'.format(GammaAnn))\n",
    "# print ('DecayLength   : {0}'.format(DecayLength))\n",
    "# print ('RCross        : {0}'.format(RCross))\n",
    "# print ('Epsilon Decay : {0}'.format(EpsilonDecay))\n",
    "# print ('Signal        : {0}'.format(Signal))\n",
    "\n",
    "# print ('Complete')"
   ]
  }
 ],
 "metadata": {
  "kernelspec": {
   "display_name": "Python 3",
   "language": "python",
   "name": "python3"
  },
  "language_info": {
   "codemirror_mode": {
    "name": "ipython",
    "version": 3
   },
   "file_extension": ".py",
   "mimetype": "text/x-python",
   "name": "python",
   "nbconvert_exporter": "python",
   "pygments_lexer": "ipython3",
   "version": "3.6.2"
  },
  "latex_envs": {
   "LaTeX_envs_menu_present": true,
   "autocomplete": true,
   "bibliofile": "biblio.bib",
   "cite_by": "apalike",
   "current_citInitial": 1,
   "eqLabelWithNumbers": true,
   "eqNumInitial": 1,
   "hotkeys": {
    "equation": "Ctrl-E",
    "itemize": "Ctrl-I"
   },
   "labels_anchors": false,
   "latex_user_defs": false,
   "report_style_numbering": false,
   "user_envs_cfg": false
  }
 },
 "nbformat": 4,
 "nbformat_minor": 2
}
