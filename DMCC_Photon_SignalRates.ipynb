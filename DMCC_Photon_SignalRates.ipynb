{
 "cells": [
  {
   "cell_type": "markdown",
   "metadata": {},
   "source": [
    "# Photon Signal Rate Plots"
   ]
  },
  {
   "cell_type": "markdown",
   "metadata": {},
   "source": [
    "This notebook outputs the reach plots in $\\varepsilon - m_A$ space for IceCube.\n",
    "\n",
    "Upon running this notebook the first time, run each cell sequentially. If however, you have started a calculation and now wish to continue where you left off, begin at the \"External File Interpolations\" cell and continue onward."
   ]
  },
  {
   "cell_type": "markdown",
   "metadata": {},
   "source": [
    "## Import Notebook as module"
   ]
  },
  {
   "cell_type": "code",
   "execution_count": 1,
   "metadata": {
    "ExecuteTime": {
     "end_time": "2018-03-22T21:22:41.389502Z",
     "start_time": "2018-03-22T21:22:40.464920Z"
    }
   },
   "outputs": [
    {
     "name": "stdout",
     "output_type": "stream",
     "text": [
      "Complete\n"
     ]
    }
   ],
   "source": [
    "import io, os, sys, types\n",
    "\n",
    "from IPython import get_ipython\n",
    "from nbformat import read\n",
    "from IPython.core.interactiveshell import InteractiveShell\n",
    "\n",
    "def find_notebook(fullname, path=None):\n",
    "    \"\"\"find a notebook, given its fully qualified name and an optional path\n",
    "\n",
    "    This turns \"foo.bar\" into \"foo/bar.ipynb\"\n",
    "    and tries turning \"Foo_Bar\" into \"Foo Bar\" if Foo_Bar\n",
    "    does not exist.\n",
    "    \"\"\"\n",
    "    name = fullname.rsplit('.', 1)[-1]\n",
    "    if not path:\n",
    "        path = ['']\n",
    "    for d in path:\n",
    "        nb_path = os.path.join(d, name + \".ipynb\")\n",
    "        if os.path.isfile(nb_path):\n",
    "            return nb_path\n",
    "        # let import Notebook_Name find \"Notebook Name.ipynb\"\n",
    "        nb_path = nb_path.replace(\"_\", \" \")\n",
    "        if os.path.isfile(nb_path):\n",
    "            return nb_path\n",
    "        \n",
    "class NotebookLoader(object):\n",
    "    \"\"\"Module Loader for Jupyter Notebooks\"\"\"\n",
    "    def __init__(self, path=None):\n",
    "        self.shell = InteractiveShell.instance()\n",
    "        self.path = path\n",
    "\n",
    "    def load_module(self, fullname):\n",
    "        \"\"\"import a notebook as a module\"\"\"\n",
    "        path = find_notebook(fullname, self.path)\n",
    "\n",
    "        print (\"importing Jupyter notebook from %s\" % path)\n",
    "\n",
    "        # load the notebook object\n",
    "        with io.open(path, 'r', encoding='utf-8') as f:\n",
    "            nb = read(f, 4)\n",
    "\n",
    "\n",
    "        # create the module and add it to sys.modules\n",
    "        # if name in sys.modules:\n",
    "        #    return sys.modules[name]\n",
    "        mod = types.ModuleType(fullname)\n",
    "        mod.__file__ = path\n",
    "        mod.__loader__ = self\n",
    "        mod.__dict__['get_ipython'] = get_ipython\n",
    "        sys.modules[fullname] = mod\n",
    "\n",
    "        # extra work to ensure that magics that would affect the user_ns\n",
    "        # actually affect the notebook module's ns\n",
    "        save_user_ns = self.shell.user_ns\n",
    "        self.shell.user_ns = mod.__dict__\n",
    "\n",
    "        try:\n",
    "            for cell in nb.cells:\n",
    "                if cell.cell_type == 'code':\n",
    "                    # transform the input to executable Python\n",
    "                    code = self.shell.input_transformer_manager.transform_cell(cell.source)\n",
    "                    # run the code in themodule\n",
    "                    exec(code, mod.__dict__)\n",
    "        finally:\n",
    "            self.shell.user_ns = save_user_ns\n",
    "        return mod\n",
    "\n",
    "    \n",
    "class NotebookFinder(object):\n",
    "    \"\"\"Module finder that locates Jupyter Notebooks\"\"\"\n",
    "    def __init__(self):\n",
    "        self.loaders = {}\n",
    "\n",
    "    def find_module(self, fullname, path=None):\n",
    "        nb_path = find_notebook(fullname, path)\n",
    "        if not nb_path:\n",
    "            return\n",
    "\n",
    "        key = path\n",
    "        if path:\n",
    "            # lists aren't hashable\n",
    "            key = os.path.sep.join(path)\n",
    "\n",
    "        if key not in self.loaders:\n",
    "            self.loaders[key] = NotebookLoader(path)\n",
    "        return self.loaders[key]\n",
    "    \n",
    "sys.meta_path.append(NotebookFinder())\n",
    "\n",
    "print ('Complete')"
   ]
  },
  {
   "cell_type": "code",
   "execution_count": 2,
   "metadata": {
    "ExecuteTime": {
     "end_time": "2018-03-22T21:23:07.522795Z",
     "start_time": "2018-03-22T21:22:42.356748Z"
    }
   },
   "outputs": [
    {
     "name": "stdout",
     "output_type": "stream",
     "text": [
      "importing Jupyter notebook from MasterFunctions_SignalRates.ipynb\n",
      "importing Jupyter notebook from MasterFunctions_Capture.ipynb\n",
      "importing Jupyter notebook from MasterFunctions_ModelData.ipynb\n",
      "------ MasterFunctions_ModelData Imported ------\n",
      "------ MasterFunctions_Capture Loaded ------\n",
      "importing Jupyter notebook from MasterFunctions_Annihilation.ipynb\n",
      "------ MasterFunctions_Annihilation Loaded ------\n",
      "------ MasterFunctions_SignalRates Imported ------\n",
      "importing Jupyter notebook from MasterFunctions_Graphing.ipynb\n",
      "------ MasterFunctions_Graphing Loaded ------\n",
      "All Notebooks Imported\n"
     ]
    }
   ],
   "source": [
    "from MasterFunctions_SignalRates import *\n",
    "from MasterFunctions_Graphing import*\n",
    "\n",
    "print ('All Notebooks Imported')"
   ]
  },
  {
   "cell_type": "markdown",
   "metadata": {},
   "source": [
    "# Signal Rate"
   ]
  },
  {
   "cell_type": "markdown",
   "metadata": {},
   "source": [
    "\n",
    "Recall the solution to the differential equation:\n",
    "\\begin{equation}\n",
    "\\frac{dN_X}{dt} = C_{cap} - N_X^2 C_{ann}\n",
    "\\end{equation}\n",
    "\n",
    "is given by:\n",
    "\n",
    "\\begin{equation}\n",
    "\\Gamma_{ann} = \\frac{1}{2} C_{cap}\\tanh^2 \\left( \\frac{\\tau_{\\oplus}}{\\tau} \\right)\n",
    "\\end{equation}\n",
    "\n",
    "more stuff about the signal rate"
   ]
  },
  {
   "cell_type": "markdown",
   "metadata": {},
   "source": [
    "-------------"
   ]
  },
  {
   "cell_type": "markdown",
   "metadata": {},
   "source": [
    "# Generating the Signal Data File"
   ]
  },
  {
   "cell_type": "markdown",
   "metadata": {},
   "source": [
    "## Recipie"
   ]
  },
  {
   "cell_type": "markdown",
   "metadata": {},
   "source": [
    "The recipie for generating the Signal File is:\n",
    "    \n",
    "1). Generate a Template Dataframe\n",
    "\n",
    "2). Write that Dataframe to an external .csv file\n",
    "\n",
    "3). Read in and interpolate the Branching Ratio for a given process and the Sommerfeld enhancement\n",
    "\n",
    "4). Calculate $C_{Cap}$, $C_{Ann}$, $\\Gamma_{Ann}$, and $N_{Sig}$ and append them to the signal .csv file.\n",
    "\n",
    "Step four can be quite lengthy depending on the desired resultioin on the data points. Typically, one would begin these calculations and be forced to wait until they are completed in their entirety; perhaps unable to shut down their machine for hours at a time. The cell \"Signal File Calculations\" however can be interrupted at any time, and resumed later. This allows the user to run the calculation in multiple stages instead of dedicating a large chunk of time and running the calculation all at once. \n",
    "The calculation can be stopped by interrupting the Jupyter Kernel. Be sure to run the \"Manual Overwrite\" cell just to be sure that the calculations are saved."
   ]
  },
  {
   "cell_type": "markdown",
   "metadata": {},
   "source": [
    "## Initialize External Signal File"
   ]
  },
  {
   "cell_type": "markdown",
   "metadata": {},
   "source": [
    "### Define the Resolution of the Signal Plot"
   ]
  },
  {
   "cell_type": "markdown",
   "metadata": {},
   "source": [
    "These cells create the \"grid\" of data points for which $N_{sig}$ will be calculated.\n",
    "\n",
    "This cell initializes the resolution of the reach plot. $\\texttt{num}$ defines the resolution of the grid, so if $\\texttt{num} = 50$, the reach plot will have a $50 \\times 50$ resolution for a total of 2500 calculations. The suggested resolution is \n",
    "\n",
    "    num = 200\n",
    "    \n",
    " It is important that this number is large enough to capture an accurate interpolation for the Sommerfeld enhancements."
   ]
  },
  {
   "cell_type": "code",
   "execution_count": 76,
   "metadata": {
    "ExecuteTime": {
     "end_time": "2018-03-22T22:07:17.472487Z",
     "start_time": "2018-03-22T22:07:17.463925Z"
    }
   },
   "outputs": [
    {
     "name": "stdout",
     "output_type": "stream",
     "text": [
      "Complete\n"
     ]
    }
   ],
   "source": [
    "# num = 200\n",
    "num = 75\n",
    "\n",
    "print ('Complete')"
   ]
  },
  {
   "cell_type": "markdown",
   "metadata": {},
   "source": [
    "## External File Interpolations"
   ]
  },
  {
   "cell_type": "markdown",
   "metadata": {},
   "source": [
    "The following cells read in and create interpolations of the:\n",
    "\n",
    "1). Sommerfeld Enhancement\n",
    "\n",
    "2). Branching ratio\n",
    "\n",
    "The branching ratio data is stored in a folder called \"BranchingRatioData.\"\n",
    "\n",
    "The Sommerfeld data, which has been calculated prior, is stored in the folder \"Sommerfeld Data.\""
   ]
  },
  {
   "cell_type": "markdown",
   "metadata": {},
   "source": [
    "### Sommerfeld Data Interpolation"
   ]
  },
  {
   "cell_type": "markdown",
   "metadata": {},
   "source": [
    "The following two cells read in an external Sommerfeld data file and:\n",
    "\n",
    "1). Append the m_X value defined in the Sommerfeld file to the Signal file\n",
    "\n",
    "2). Append the Kappa0 value defined in the Sommerfeld file to the Signal File\n",
    "\n",
    "3). Interpolate the discrete set of ($m_A$, $\\langle S_s \\rangle$) points into a continuous function $\\langle S_s \\rangle(m_A)$\n",
    "\n",
    "The resolution defined above in $\\texttt{num}$ defines the resolution of the Sommerfeld interpolation. Depending on the specified values of $m_X$, the resolution may need to be increased to capture an accurate interpolation.  "
   ]
  },
  {
   "cell_type": "markdown",
   "metadata": {},
   "source": [
    "### Visualization of Sommerfeld Resolution"
   ]
  },
  {
   "cell_type": "markdown",
   "metadata": {},
   "source": [
    "The following cell plots the sommerfeld enhancement given the number of data points for a single axis of the signal file. If a greater number of data points is required, under the \"Initialize Data Ranges\" cell, change the \"num\" parameter, and run the notebook to this point again."
   ]
  },
  {
   "cell_type": "code",
   "execution_count": 77,
   "metadata": {
    "ExecuteTime": {
     "end_time": "2018-03-22T22:07:23.620300Z",
     "start_time": "2018-03-22T22:07:19.874714Z"
    }
   },
   "outputs": [
    {
     "name": "stdout",
     "output_type": "stream",
     "text": [
      "Sommerfeld File: testSommerfeld.csv\n",
      "Sommerfeld interpolation complete\n",
      "Complete\n"
     ]
    },
    {
     "data": {
      "image/png": "[encoded data removed]",
      "text/plain": [
       "<matplotlib.figure.Figure at 0x293001320b8>"
      ]
     },
     "metadata": {},
     "output_type": "display_data"
    }
   ],
   "source": [
    "####################################\n",
    "# Define Sommerfeld and Signal Files\n",
    "####################################\n",
    "SommName = input('Sommerfeld File: ')\n",
    "SommFile = pd.read_csv(photonSommerfeldPath(SommName))\n",
    "\n",
    "####################################\n",
    "# Interpolate Sommerfeld data\n",
    "####################################\n",
    "mAData = SommFile['mA[GeV]']\n",
    "SommData = SommFile['ThermAvgSommerfeld']\n",
    "SommInterp = interpolate.interp1d(mAData,SommData)\n",
    "print ('Sommerfeld interpolation complete')\n",
    "\n",
    "####################################\n",
    "\n",
    "####################################\n",
    "m_XSommerfeld = SommFile.loc[0,'mX[GeV]']\n",
    "kappa0Sommerfeld = SommFile.loc[0,'Kappa0']\n",
    "\n",
    "\n",
    "vect1 = []\n",
    "vect2 = []\n",
    "for ma in np.logspace(-2,1, num, base = 10):\n",
    "    vect1.append(ma)\n",
    "    vect2.append(SommInterp(ma))\n",
    "\n",
    "    \n",
    "plt.plot(np.log10(vect1),np.log10(vect2))\n",
    "\n",
    "print ('Complete')"
   ]
  },
  {
   "cell_type": "markdown",
   "metadata": {},
   "source": [
    "### Branching Ratio Interpolation"
   ]
  },
  {
   "cell_type": "markdown",
   "metadata": {},
   "source": [
    "In this cell, we read in a .csv file containing discrete branching ratio data points obtained from WebPlotDigitizer and interpolate them into a continuous funciton named \"branchRatioInterp.\""
   ]
  },
  {
   "cell_type": "code",
   "execution_count": 78,
   "metadata": {
    "ExecuteTime": {
     "end_time": "2018-03-22T22:07:35.136736Z",
     "start_time": "2018-03-22T22:07:34.994845Z"
    }
   },
   "outputs": [
    {
     "name": "stdout",
     "output_type": "stream",
     "text": [
      "brtoeAdam.csv\n",
      "Complete\n"
     ]
    },
    {
     "data": {
      "image/png": "[encoded data removed]",
      "text/plain": [
       "<matplotlib.figure.Figure at 0x293007e4da0>"
      ]
     },
     "metadata": {},
     "output_type": "display_data"
    }
   ],
   "source": [
    "# branchFile = input('Branching File: ')\n",
    "branchFile = 'brtoeAdam.csv'\n",
    "\n",
    "BranchData = pd.read_csv(photonBranchPath(branchFile))\n",
    "\n",
    "print (branchFile)\n",
    "\n",
    "xList = BranchData['mA[GeV]']\n",
    "yList = BranchData['BR']\n",
    "\n",
    "branchRatioInterp = interpolate.interp1d(xList,yList)\n",
    "\n",
    "plt.plot(xList,yList)\n",
    "\n",
    "print ('Complete')"
   ]
  },
  {
   "cell_type": "markdown",
   "metadata": {
    "ExecuteTime": {
     "end_time": "2018-03-22T20:51:09.799117Z",
     "start_time": "2018-03-22T20:51:09.787988Z"
    }
   },
   "source": [
    "## Initialize Signal Data File"
   ]
  },
  {
   "cell_type": "markdown",
   "metadata": {},
   "source": [
    "### Initialize Dataframe"
   ]
  },
  {
   "cell_type": "markdown",
   "metadata": {},
   "source": [
    "This cell initializes the data ranges and creates an .csv"
   ]
  },
  {
   "cell_type": "code",
   "execution_count": 79,
   "metadata": {
    "ExecuteTime": {
     "end_time": "2018-03-22T22:07:36.739473Z",
     "start_time": "2018-03-22T22:07:36.689342Z"
    }
   },
   "outputs": [
    {
     "name": "stdout",
     "output_type": "stream",
     "text": [
      "Complete\n"
     ]
    }
   ],
   "source": [
    "#########################################\n",
    "# Define parameter space Ranges\n",
    "#########################################\n",
    "# Logarithmic Spacing\n",
    "mALogRange = np.logspace(-2, 1, num, base = 10)\n",
    "epsilonLogRange = np.logspace(-10, -5, num, base = 10)\n",
    "\n",
    "#########################################\n",
    "# Initialize Master Arrays\n",
    "#########################################\n",
    "masterSignalArray = []\n",
    "\n",
    "#########################################\n",
    "# Populate the Master Arrays with the column headers and 'None' Cells\n",
    "#########################################\n",
    "counter = 0\n",
    "for mATemp in mALogRange:\n",
    "    for epsilonTemp in epsilonLogRange:\n",
    "        masterSignalArray.append([counter, ' ', mATemp, epsilonTemp, \\\n",
    "                                  'None', 'None', 'None', 'None',' ', ' ',' '])\n",
    "        counter += 1\n",
    "\n",
    "#########################################\n",
    "# Create a PANDAS DataFrame from the Master Arrays\n",
    "#########################################\n",
    "masterSignalDataframe = pd.DataFrame(data = masterSignalArray, \\\n",
    "    columns=['Counter', 'mX[GeV]', 'mA[GeV]', 'Epsilon',\\\n",
    "             'Capture', 'Annihilation', 'GammaAnn', 'IceCubeSignal', 'BranchingRatioFile','Resolution','Kappa0'])\n",
    "\n",
    "# filename = input('Signal Rate Filename: ')\n",
    "# writeFile = photonSignalDataPath(filename)\n",
    "# masterSignalDataframe.to_csv(writeFile, index=False)\n",
    "\n",
    "print ('Complete')"
   ]
  },
  {
   "cell_type": "code",
   "execution_count": null,
   "metadata": {
    "collapsed": true
   },
   "outputs": [],
   "source": []
  },
  {
   "cell_type": "markdown",
   "metadata": {},
   "source": [
    "### Write to External .csv File"
   ]
  },
  {
   "cell_type": "markdown",
   "metadata": {
    "ExecuteTime": {
     "end_time": "2018-03-22T20:57:01.532084Z",
     "start_time": "2018-03-22T20:57:01.522605Z"
    }
   },
   "source": [
    "This cell writes the dataframe to a csv"
   ]
  },
  {
   "cell_type": "code",
   "execution_count": 80,
   "metadata": {
    "ExecuteTime": {
     "end_time": "2018-03-22T22:07:43.333401Z",
     "start_time": "2018-03-22T22:07:39.381820Z"
    }
   },
   "outputs": [
    {
     "name": "stdout",
     "output_type": "stream",
     "text": [
      "Signal Rate filename: testSignal.csv\n",
      "Complete\n"
     ]
    }
   ],
   "source": [
    "SignalFile = input('Signal Rate filename: ')\n",
    "\n",
    "writeFile = photonSignalDataPath(SignalFile)\n",
    "\n",
    "# Append a single value onto the Kappa0 Column\n",
    "kappa0Value = 'None'\n",
    "m_XValue = 'None'\n",
    "\n",
    "# print (branchFile)\n",
    "\n",
    "masterSignalDataframe.set_value(0, 'mX[GeV]', m_XSommerfeld)\n",
    "masterSignalDataframe.set_value(0, 'Kappa0' , kappa0Sommerfeld)\n",
    "masterSignalDataframe.set_value(0, 'BranchingRatioFile', branchFile)\n",
    "masterSignalDataframe.set_value(0, 'Resolution', num)\n",
    "\n",
    "masterSignalDataframe.to_csv(writeFile, index=False)\n",
    "\n",
    "print ('Complete')"
   ]
  },
  {
   "cell_type": "code",
   "execution_count": null,
   "metadata": {
    "collapsed": true
   },
   "outputs": [],
   "source": []
  },
  {
   "cell_type": "markdown",
   "metadata": {},
   "source": [
    "### Copy over Sommerfeld Parameters"
   ]
  },
  {
   "cell_type": "markdown",
   "metadata": {},
   "source": [
    "This cell copies over the parameters defined in the Sommerfeld file (mX and Kappa0) to the Signal Datafile\n"
   ]
  },
  {
   "cell_type": "code",
   "execution_count": 81,
   "metadata": {
    "ExecuteTime": {
     "end_time": "2018-03-22T22:07:44.785344Z",
     "start_time": "2018-03-22T22:07:44.722675Z"
    }
   },
   "outputs": [
    {
     "ename": "NameError",
     "evalue": "name 'dataFrame' is not defined",
     "output_type": "error",
     "traceback": [
      "\u001b[1;31m---------------------------------------------------------------------------\u001b[0m",
      "\u001b[1;31mNameError\u001b[0m                                 Traceback (most recent call last)",
      "\u001b[1;32m<ipython-input-81-9e66e358e340>\u001b[0m in \u001b[0;36m<module>\u001b[1;34m()\u001b[0m\n\u001b[0;32m     13\u001b[0m \u001b[1;31m# Append Sommerfeld data\u001b[0m\u001b[1;33m\u001b[0m\u001b[1;33m\u001b[0m\u001b[0m\n\u001b[0;32m     14\u001b[0m \u001b[1;31m####################################\u001b[0m\u001b[1;33m\u001b[0m\u001b[1;33m\u001b[0m\u001b[0m\n\u001b[1;32m---> 15\u001b[1;33m \u001b[0mtestm_X\u001b[0m \u001b[1;33m=\u001b[0m \u001b[0mdataFrame\u001b[0m\u001b[1;33m.\u001b[0m\u001b[0mloc\u001b[0m\u001b[1;33m[\u001b[0m\u001b[1;36m0\u001b[0m\u001b[1;33m,\u001b[0m\u001b[1;34m'mX[GeV]'\u001b[0m\u001b[1;33m]\u001b[0m\u001b[1;33m\u001b[0m\u001b[0m\n\u001b[0m\u001b[0;32m     16\u001b[0m \u001b[0mtestKappa0\u001b[0m \u001b[1;33m=\u001b[0m \u001b[0mdataFrame\u001b[0m\u001b[1;33m.\u001b[0m\u001b[0mloc\u001b[0m\u001b[1;33m[\u001b[0m\u001b[1;36m0\u001b[0m\u001b[1;33m,\u001b[0m \u001b[1;34m'Kappa0'\u001b[0m\u001b[1;33m]\u001b[0m\u001b[1;33m\u001b[0m\u001b[0m\n\u001b[0;32m     17\u001b[0m \u001b[1;33m\u001b[0m\u001b[0m\n",
      "\u001b[1;31mNameError\u001b[0m: name 'dataFrame' is not defined"
     ]
    }
   ],
   "source": [
    "####################################\n",
    "# Define Sommerfeld and Signal Files\n",
    "####################################\n",
    "# SommName = input('Sommerfeld File: ')\n",
    "# SommFile = pd.read_csv(photonSommerfeldPath(SommName))\n",
    "# filename = input('Signal Rate File: ')\n",
    "# writeFile = photonSignalDataPath(filename)\n",
    "# dataFrame = pd.read_csv(writeFile , sep = ',')\n",
    "\n",
    "# print ('')\n",
    "\n",
    "####################################\n",
    "# Append Sommerfeld data\n",
    "####################################\n",
    "testm_X = dataFrame.loc[0,'mX[GeV]']\n",
    "testKappa0 = dataFrame.loc[0, 'Kappa0']\n",
    "\n",
    "if (testm_X == 'None'):\n",
    "    SommM_X = float(SommFile.loc[0,'mX[GeV]'])\n",
    "    dataFrame.set_value(0, 'mX[GeV]', SommM_X)\n",
    "\n",
    "elif(testm_X != 'None'):\n",
    "    print ('mX value already appended to Signal File')\n",
    "    \n",
    "if (testKappa0 == 'None'):\n",
    "    SommKappa0 = float(SommFile.loc[0,'Kappa0'])\n",
    "    dataFrame.set_value(0, 'Kappa0', SommKappa0)\n",
    "\n",
    "elif (testKappa0 != 'None'):\n",
    "    print ('Kappa0 value already appended to Signal File')\n",
    "\n",
    "dataFrame.to_csv(writeFile, index=False)\n",
    "\n",
    "\n",
    "####################################\n",
    "# Interpolate Sommerfeld data\n",
    "# ####################################\n",
    "# mAData = SommFile['mA[GeV]']\n",
    "# SommData = SommFile['ThermAvgSommerfeld']\n",
    "# SommInterp = interpolate.interp1d(mAData,SommData)\n",
    "# print ('Sommerfeld interpolation complete')\n",
    "\n",
    "\n",
    "print ('Complete')"
   ]
  },
  {
   "cell_type": "code",
   "execution_count": null,
   "metadata": {
    "collapsed": true
   },
   "outputs": [],
   "source": []
  },
  {
   "cell_type": "code",
   "execution_count": null,
   "metadata": {
    "collapsed": true
   },
   "outputs": [],
   "source": []
  },
  {
   "cell_type": "markdown",
   "metadata": {},
   "source": [
    "## Sanity Check"
   ]
  },
  {
   "cell_type": "markdown",
   "metadata": {
    "ExecuteTime": {
     "end_time": "2017-08-29T01:37:07.554914Z",
     "start_time": "2017-08-29T01:37:07.542915Z"
    }
   },
   "source": [
    "We expect that:\n",
    "\n",
    "1). The $m_X$ value from the Sommerfeld file is appended to the Signal file\n",
    "\n",
    "2). The Kappa0 value from the Sommerfeld file is appended to the Signal file\n",
    "\n",
    "3). The Signal file has 8 columns labeled\n",
    "    \n",
    "    Counter, mX[GeV], mA[GeV], Epsilon, Capture, Annihilation, GammaAnn, IceCubeSignal, BranchingRatioFile, Kappa0"
   ]
  },
  {
   "cell_type": "code",
   "execution_count": 82,
   "metadata": {
    "ExecuteTime": {
     "end_time": "2018-03-22T22:08:25.375671Z",
     "start_time": "2018-03-22T22:08:23.218440Z"
    },
    "scrolled": true
   },
   "outputs": [
    {
     "name": "stdout",
     "output_type": "stream",
     "text": [
      "Signal Rate filename: testSignal.csv\n",
      "      Counter mX[GeV]  mA[GeV]       Epsilon Capture Annihilation GammaAnn  \\\n",
      "0           0   750.0     0.01  1.000000e-10    None         None     None   \n",
      "1           1             0.01  1.168335e-10    None         None     None   \n",
      "2           2             0.01  1.365008e-10    None         None     None   \n",
      "3           3             0.01  1.594787e-10    None         None     None   \n",
      "4           4             0.01  1.863246e-10    None         None     None   \n",
      "5           5             0.01  2.176897e-10    None         None     None   \n",
      "6           6             0.01  2.543346e-10    None         None     None   \n",
      "7           7             0.01  2.971481e-10    None         None     None   \n",
      "8           8             0.01  3.471687e-10    None         None     None   \n",
      "9           9             0.01  4.056095e-10    None         None     None   \n",
      "10         10             0.01  4.738880e-10    None         None     None   \n",
      "11         11             0.01  5.536601e-10    None         None     None   \n",
      "12         12             0.01  6.468608e-10    None         None     None   \n",
      "13         13             0.01  7.557504e-10    None         None     None   \n",
      "14         14             0.01  8.829700e-10    None         None     None   \n",
      "15         15             0.01  1.031605e-09    None         None     None   \n",
      "16         16             0.01  1.205261e-09    None         None     None   \n",
      "17         17             0.01  1.408149e-09    None         None     None   \n",
      "18         18             0.01  1.645191e-09    None         None     None   \n",
      "19         19             0.01  1.922135e-09    None         None     None   \n",
      "20         20             0.01  2.245698e-09    None         None     None   \n",
      "21         21             0.01  2.623729e-09    None         None     None   \n",
      "22         22             0.01  3.065395e-09    None         None     None   \n",
      "23         23             0.01  3.581410e-09    None         None     None   \n",
      "24         24             0.01  4.184289e-09    None         None     None   \n",
      "25         25             0.01  4.888653e-09    None         None     None   \n",
      "26         26             0.01  5.711586e-09    None         None     None   \n",
      "27         27             0.01  6.673049e-09    None         None     None   \n",
      "28         28             0.01  7.796360e-09    None         None     None   \n",
      "29         29             0.01  9.108764e-09    None         None     None   \n",
      "...       ...     ...      ...           ...     ...          ...      ...   \n",
      "5595     5595            10.00  1.097844e-07    None         None     None   \n",
      "5596     5596            10.00  1.282650e-07    None         None     None   \n",
      "5597     5597            10.00  1.498565e-07    None         None     None   \n",
      "5598     5598            10.00  1.750827e-07    None         None     None   \n",
      "5599     5599            10.00  2.045553e-07    None         None     None   \n",
      "5600     5600            10.00  2.389893e-07    None         None     None   \n",
      "5601     5601            10.00  2.792196e-07    None         None     None   \n",
      "5602     5602            10.00  3.262222e-07    None         None     None   \n",
      "5603     5603            10.00  3.811370e-07    None         None     None   \n",
      "5604     5604            10.00  4.452959e-07    None         None     None   \n",
      "5605     5605            10.00  5.202549e-07    None         None     None   \n",
      "5606     5606            10.00  6.078323e-07    None         None     None   \n",
      "5607     5607            10.00  7.101521e-07    None         None     None   \n",
      "5608     5608            10.00  8.296959e-07    None         None     None   \n",
      "5609     5609            10.00  9.693631e-07    None         None     None   \n",
      "5610     5610            10.00  1.132541e-06    None         None     None   \n",
      "5611     5611            10.00  1.323188e-06    None         None     None   \n",
      "5612     5612            10.00  1.545928e-06    None         None     None   \n",
      "5613     5613            10.00  1.806162e-06    None         None     None   \n",
      "5614     5614            10.00  2.110203e-06    None         None     None   \n",
      "5615     5615            10.00  2.465426e-06    None         None     None   \n",
      "5616     5616            10.00  2.880444e-06    None         None     None   \n",
      "5617     5617            10.00  3.365325e-06    None         None     None   \n",
      "5618     5618            10.00  3.931829e-06    None         None     None   \n",
      "5619     5619            10.00  4.593695e-06    None         None     None   \n",
      "5620     5620            10.00  5.366977e-06    None         None     None   \n",
      "5621     5621            10.00  6.270430e-06    None         None     None   \n",
      "5622     5622            10.00  7.325965e-06    None         None     None   \n",
      "5623     5623            10.00  8.559185e-06    None         None     None   \n",
      "5624     5624            10.00  1.000000e-05    None         None     None   \n",
      "\n",
      "     IceCubeSignal BranchingRatioFile Resolution                  Kappa0  \n",
      "0             None      brtoeAdam.csv         75  5.6413785018955505e+25  \n",
      "1             None                                                        \n",
      "2             None                                                        \n",
      "3             None                                                        \n",
      "4             None                                                        \n",
      "5             None                                                        \n",
      "6             None                                                        \n",
      "7             None                                                        \n",
      "8             None                                                        \n",
      "9             None                                                        \n",
      "10            None                                                        \n",
      "11            None                                                        \n",
      "12            None                                                        \n",
      "13            None                                                        \n",
      "14            None                                                        \n",
      "15            None                                                        \n",
      "16            None                                                        \n",
      "17            None                                                        \n",
      "18            None                                                        \n",
      "19            None                                                        \n",
      "20            None                                                        \n",
      "21            None                                                        \n",
      "22            None                                                        \n",
      "23            None                                                        \n",
      "24            None                                                        \n",
      "25            None                                                        \n",
      "26            None                                                        \n",
      "27            None                                                        \n",
      "28            None                                                        \n",
      "29            None                                                        \n",
      "...            ...                ...        ...                     ...  \n",
      "5595          None                                                        \n",
      "5596          None                                                        \n",
      "5597          None                                                        \n",
      "5598          None                                                        \n",
      "5599          None                                                        \n",
      "5600          None                                                        \n",
      "5601          None                                                        \n",
      "5602          None                                                        \n",
      "5603          None                                                        \n",
      "5604          None                                                        \n",
      "5605          None                                                        \n",
      "5606          None                                                        \n",
      "5607          None                                                        \n",
      "5608          None                                                        \n",
      "5609          None                                                        \n",
      "5610          None                                                        \n",
      "5611          None                                                        \n",
      "5612          None                                                        \n",
      "5613          None                                                        \n",
      "5614          None                                                        \n",
      "5615          None                                                        \n",
      "5616          None                                                        \n",
      "5617          None                                                        \n",
      "5618          None                                                        \n",
      "5619          None                                                        \n",
      "5620          None                                                        \n",
      "5621          None                                                        \n",
      "5622          None                                                        \n",
      "5623          None                                                        \n",
      "5624          None                                                        \n",
      "\n",
      "[5625 rows x 11 columns]\n",
      "Complete\n"
     ]
    }
   ],
   "source": [
    "filename = input('Signal Rate filename: ')\n",
    "writeFile = photonSignalDataPath(filename)\n",
    "\n",
    "print (pd.read_csv(writeFile, sep = ','))\n",
    "print ('Complete')"
   ]
  },
  {
   "cell_type": "markdown",
   "metadata": {},
   "source": [
    "## Signal File Calculations"
   ]
  },
  {
   "cell_type": "markdown",
   "metadata": {},
   "source": [
    "This cell scans through all the lines of the .csv file and calculates:\n",
    "\n",
    "1). Capture\n",
    "\n",
    "2). Annihilation\n",
    "\n",
    "3). GammaAnn\n",
    "\n",
    "4). Signal\n",
    "\n",
    "As mentioned previously, this cell may be stopped, by interrupting the kernel, at any time and resumed later."
   ]
  },
  {
   "cell_type": "code",
   "execution_count": 83,
   "metadata": {
    "ExecuteTime": {
     "end_time": "2018-03-22T22:25:14.720975Z",
     "start_time": "2018-03-22T22:08:29.168579Z"
    },
    "scrolled": true
   },
   "outputs": [
    {
     "name": "stdout",
     "output_type": "stream",
     "text": [
      "Signal Rate filename: testSignal.csv\n",
      "testSignal.csv\n",
      "\n",
      "--------------------\n",
      "Calculations for index: 0 recorded\n",
      "Calculations for index: 20 recorded\n",
      "Calculations for index: 40 recorded\n",
      "Calculations for index: 60 recorded\n",
      "Calculations for index: 80 recorded\n",
      "Calculations for index: 100 recorded\n",
      "Calculations for index: 120 recorded\n",
      "Calculations for index: 140 recorded\n",
      "Calculations for index: 160 recorded\n",
      "Calculations for index: 180 recorded\n",
      "Calculations for index: 200 recorded\n",
      "Calculations for index: 220 recorded\n",
      "Calculations for index: 240 recorded\n",
      "Calculations for index: 260 recorded\n",
      "Calculations for index: 280 recorded\n",
      "Calculations for index: 300 recorded\n",
      "Calculations for index: 320 recorded\n",
      "Calculations for index: 340 recorded\n",
      "Calculations for index: 360 recorded\n",
      "Calculations for index: 380 recorded\n",
      "Calculations for index: 400 recorded\n",
      "Calculations for index: 420 recorded\n",
      "Calculations for index: 440 recorded\n",
      "Calculations for index: 460 recorded\n",
      "Calculations for index: 480 recorded\n",
      "Calculations for index: 500 recorded\n",
      "Calculations for index: 520 recorded\n",
      "Calculations for index: 540 recorded\n",
      "Calculations for index: 560 recorded\n",
      "Calculations for index: 580 recorded\n",
      "Calculations for index: 600 recorded\n",
      "Calculations for index: 620 recorded\n",
      "Calculations for index: 640 recorded\n",
      "Calculations for index: 660 recorded\n",
      "Calculations for index: 680 recorded\n",
      "Calculations for index: 700 recorded\n",
      "Calculations for index: 720 recorded\n",
      "Calculations for index: 740 recorded\n",
      "Calculations for index: 760 recorded\n",
      "Calculations for index: 780 recorded\n",
      "Calculations for index: 800 recorded\n",
      "Calculations for index: 820 recorded\n",
      "Calculations for index: 840 recorded\n",
      "Calculations for index: 860 recorded\n",
      "Calculations for index: 880 recorded\n",
      "Calculations for index: 900 recorded\n",
      "Calculations for index: 920 recorded\n",
      "Calculations for index: 940 recorded\n",
      "Calculations for index: 960 recorded\n",
      "Calculations for index: 980 recorded\n",
      "Calculations for index: 1000 recorded\n",
      "Calculations for index: 1020 recorded\n",
      "Calculations for index: 1040 recorded\n",
      "Calculations for index: 1060 recorded\n",
      "Calculations for index: 1080 recorded\n",
      "Calculations for index: 1100 recorded\n",
      "Calculations for index: 1120 recorded\n",
      "Calculations for index: 1140 recorded\n",
      "Calculations for index: 1160 recorded\n",
      "Calculations for index: 1180 recorded\n",
      "Calculations for index: 1200 recorded\n",
      "Calculations for index: 1220 recorded\n",
      "Calculations for index: 1240 recorded\n",
      "Calculations for index: 1260 recorded\n",
      "Calculations for index: 1280 recorded\n",
      "Calculations for index: 1300 recorded\n",
      "Calculations for index: 1320 recorded\n",
      "Calculations for index: 1340 recorded\n",
      "Calculations for index: 1360 recorded\n",
      "Calculations for index: 1380 recorded\n",
      "Calculations for index: 1400 recorded\n",
      "Calculations for index: 1420 recorded\n",
      "Calculations for index: 1440 recorded\n",
      "Calculations for index: 1460 recorded\n",
      "Calculations for index: 1480 recorded\n",
      "Calculations for index: 1500 recorded\n",
      "Calculations for index: 1520 recorded\n",
      "Calculations for index: 1540 recorded\n",
      "Calculations for index: 1560 recorded\n",
      "Calculations for index: 1580 recorded\n",
      "Calculations for index: 1600 recorded\n",
      "Calculations for index: 1620 recorded\n",
      "Calculations for index: 1640 recorded\n",
      "Calculations for index: 1660 recorded\n",
      "Calculations for index: 1680 recorded\n",
      "Calculations for index: 1700 recorded\n",
      "Calculations for index: 1720 recorded\n",
      "Calculations for index: 1740 recorded\n",
      "Calculations for index: 1760 recorded\n",
      "Calculations for index: 1780 recorded\n",
      "Calculations for index: 1800 recorded\n",
      "Calculations for index: 1820 recorded\n",
      "Calculations for index: 1840 recorded\n",
      "Calculations for index: 1860 recorded\n",
      "Calculations for index: 1880 recorded\n",
      "Calculations for index: 1900 recorded\n",
      "Calculations for index: 1920 recorded\n",
      "Calculations for index: 1940 recorded\n",
      "Calculations for index: 1960 recorded\n",
      "Calculations for index: 1980 recorded\n",
      "Calculations for index: 2000 recorded\n",
      "Calculations for index: 2020 recorded\n",
      "Calculations for index: 2040 recorded\n",
      "Calculations for index: 2060 recorded\n",
      "Calculations for index: 2080 recorded\n",
      "Calculations for index: 2100 recorded\n",
      "Calculations for index: 2120 recorded\n",
      "Calculations for index: 2140 recorded\n",
      "Calculations for index: 2160 recorded\n",
      "Calculations for index: 2180 recorded\n",
      "Calculations for index: 2200 recorded\n",
      "Calculations for index: 2220 recorded\n",
      "Calculations for index: 2240 recorded\n",
      "Calculations for index: 2260 recorded\n",
      "Calculations for index: 2280 recorded\n",
      "Calculations for index: 2300 recorded\n",
      "Calculations for index: 2320 recorded\n",
      "Calculations for index: 2340 recorded\n",
      "Calculations for index: 2360 recorded\n",
      "Calculations for index: 2380 recorded\n",
      "Calculations for index: 2400 recorded\n",
      "Calculations for index: 2420 recorded\n",
      "Calculations for index: 2440 recorded\n",
      "Calculations for index: 2460 recorded\n",
      "Calculations for index: 2480 recorded\n",
      "Calculations for index: 2500 recorded\n",
      "Calculations for index: 2520 recorded\n",
      "Calculations for index: 2540 recorded\n",
      "Calculations for index: 2560 recorded\n",
      "Calculations for index: 2580 recorded\n",
      "Calculations for index: 2600 recorded\n",
      "Calculations for index: 2620 recorded\n",
      "Calculations for index: 2640 recorded\n",
      "Calculations for index: 2660 recorded\n",
      "Calculations for index: 2680 recorded\n",
      "Calculations for index: 2700 recorded\n",
      "Calculations for index: 2720 recorded\n",
      "Calculations for index: 2740 recorded\n",
      "Calculations for index: 2760 recorded\n",
      "Calculations for index: 2780 recorded\n",
      "Calculations for index: 2800 recorded\n",
      "Calculations for index: 2820 recorded\n",
      "Calculations for index: 2840 recorded\n",
      "Calculations for index: 2860 recorded\n",
      "Calculations for index: 2880 recorded\n",
      "Calculations for index: 2900 recorded\n",
      "Calculations for index: 2920 recorded\n",
      "Calculations for index: 2940 recorded\n",
      "Calculations for index: 2960 recorded\n",
      "Calculations for index: 2980 recorded\n",
      "Calculations for index: 3000 recorded\n",
      "Calculations for index: 3020 recorded\n",
      "Calculations for index: 3040 recorded\n",
      "Calculations for index: 3060 recorded\n",
      "Calculations for index: 3080 recorded\n",
      "Calculations for index: 3100 recorded\n",
      "Calculations for index: 3120 recorded\n",
      "Calculations for index: 3140 recorded\n",
      "Calculations for index: 3160 recorded\n",
      "Calculations for index: 3180 recorded\n",
      "Calculations for index: 3200 recorded\n",
      "Calculations for index: 3220 recorded\n",
      "Calculations for index: 3240 recorded\n",
      "Calculations for index: 3260 recorded\n",
      "Calculations for index: 3280 recorded\n",
      "Calculations for index: 3300 recorded\n",
      "Calculations for index: 3320 recorded\n",
      "Calculations for index: 3340 recorded\n",
      "Calculations for index: 3360 recorded\n",
      "Calculations for index: 3380 recorded\n",
      "Calculations for index: 3400 recorded\n",
      "Calculations for index: 3420 recorded\n",
      "Calculations for index: 3440 recorded\n",
      "Calculations for index: 3460 recorded\n",
      "Calculations for index: 3480 recorded\n",
      "Calculations for index: 3500 recorded\n",
      "Calculations for index: 3520 recorded\n",
      "Calculations for index: 3540 recorded\n",
      "Calculations for index: 3560 recorded\n",
      "Calculations for index: 3580 recorded\n",
      "Calculations for index: 3600 recorded\n",
      "Calculations for index: 3620 recorded\n",
      "Calculations for index: 3640 recorded\n",
      "Calculations for index: 3660 recorded\n",
      "Calculations for index: 3680 recorded\n",
      "Calculations for index: 3700 recorded\n",
      "Calculations for index: 3720 recorded\n",
      "Calculations for index: 3740 recorded\n",
      "Calculations for index: 3760 recorded\n",
      "Calculations for index: 3780 recorded\n",
      "Calculations for index: 3800 recorded\n",
      "Calculations for index: 3820 recorded\n",
      "Calculations for index: 3840 recorded\n",
      "Calculations for index: 3860 recorded\n",
      "Calculations for index: 3880 recorded\n",
      "Calculations for index: 3900 recorded\n",
      "Calculations for index: 3920 recorded\n",
      "Calculations for index: 3940 recorded\n",
      "Calculations for index: 3960 recorded\n",
      "Calculations for index: 3980 recorded\n",
      "Calculations for index: 4000 recorded\n",
      "Calculations for index: 4020 recorded\n",
      "Calculations for index: 4040 recorded\n",
      "Calculations for index: 4060 recorded\n",
      "Calculations for index: 4080 recorded\n",
      "Calculations for index: 4100 recorded\n",
      "Calculations for index: 4120 recorded\n",
      "Calculations for index: 4140 recorded\n",
      "Calculations for index: 4160 recorded\n",
      "Calculations for index: 4180 recorded\n",
      "Calculations for index: 4200 recorded\n",
      "Calculations for index: 4220 recorded\n",
      "Calculations for index: 4240 recorded\n",
      "Calculations for index: 4260 recorded\n",
      "Calculations for index: 4280 recorded\n",
      "Calculations for index: 4300 recorded\n"
     ]
    },
    {
     "name": "stdout",
     "output_type": "stream",
     "text": [
      "Calculations for index: 4320 recorded\n",
      "Calculations for index: 4340 recorded\n",
      "Calculations for index: 4360 recorded\n",
      "Calculations for index: 4380 recorded\n",
      "Calculations for index: 4400 recorded\n",
      "Calculations for index: 4420 recorded\n",
      "Calculations for index: 4440 recorded\n",
      "Calculations for index: 4460 recorded\n",
      "Calculations for index: 4480 recorded\n",
      "Calculations for index: 4500 recorded\n",
      "Calculations for index: 4520 recorded\n",
      "Calculations for index: 4540 recorded\n",
      "Calculations for index: 4560 recorded\n",
      "Calculations for index: 4580 recorded\n",
      "Calculations for index: 4600 recorded\n",
      "Calculations for index: 4620 recorded\n",
      "Calculations for index: 4640 recorded\n",
      "Calculations for index: 4660 recorded\n",
      "Calculations for index: 4680 recorded\n",
      "Calculations for index: 4700 recorded\n",
      "Calculations for index: 4720 recorded\n",
      "Calculations for index: 4740 recorded\n",
      "Calculations for index: 4760 recorded\n",
      "Calculations for index: 4780 recorded\n",
      "Calculations for index: 4800 recorded\n",
      "Calculations for index: 4820 recorded\n",
      "Calculations for index: 4840 recorded\n",
      "Calculations for index: 4860 recorded\n",
      "Calculations for index: 4880 recorded\n",
      "Calculations for index: 4900 recorded\n",
      "Calculations for index: 4920 recorded\n",
      "Calculations for index: 4940 recorded\n",
      "Calculations for index: 4960 recorded\n",
      "Calculations for index: 4980 recorded\n",
      "Calculations for index: 5000 recorded\n",
      "Calculations for index: 5020 recorded\n",
      "Calculations for index: 5040 recorded\n",
      "Calculations for index: 5060 recorded\n",
      "Calculations for index: 5080 recorded\n",
      "Calculations for index: 5100 recorded\n",
      "Calculations for index: 5120 recorded\n",
      "Calculations for index: 5140 recorded\n",
      "Calculations for index: 5160 recorded\n",
      "Calculations for index: 5180 recorded\n",
      "Calculations for index: 5200 recorded\n",
      "Calculations for index: 5220 recorded\n",
      "Calculations for index: 5240 recorded\n",
      "Calculations for index: 5260 recorded\n",
      "Calculations for index: 5280 recorded\n",
      "Calculations for index: 5300 recorded\n",
      "Calculations for index: 5320 recorded\n",
      "Calculations for index: 5340 recorded\n",
      "Calculations for index: 5360 recorded\n",
      "Calculations for index: 5380 recorded\n",
      "Calculations for index: 5400 recorded\n",
      "Calculations for index: 5420 recorded\n",
      "Calculations for index: 5440 recorded\n",
      "Calculations for index: 5460 recorded\n",
      "Calculations for index: 5480 recorded\n",
      "Calculations for index: 5500 recorded\n",
      "Calculations for index: 5520 recorded\n",
      "Calculations for index: 5540 recorded\n",
      "Calculations for index: 5560 recorded\n",
      "Calculations for index: 5580 recorded\n",
      "Calculations for index: 5600 recorded\n",
      "Calculations for index: 5620 recorded\n",
      "--------------------\n",
      "All Calculations Complete\n",
      "Complete\n"
     ]
    }
   ],
   "source": [
    "fileName = input('Signal Rate filename: ')\n",
    "writeFile = photonSignalDataPath(fileName)\n",
    "dataIn = pd.read_csv(writeFile, sep = ',')\n",
    "\n",
    "#########################################\n",
    "# Define loop range\n",
    "#########################################\n",
    "# Scan down 'Counter' column, start calculating at first non-calculated value\n",
    "loopRange = range(0,len(dataIn['Counter']))\n",
    "\n",
    "#########################################\n",
    "# Parameters independent of data file:\n",
    "#########################################\n",
    "Filem_X = float(dataIn.loc[0, 'mX[GeV]'])\n",
    "FileKappa0 = float(dataIn.loc[0, 'Kappa0'])\n",
    "Alpha = 1./137\n",
    "LiveTime = yr2s(10)\n",
    "\n",
    "\n",
    "#########################################\n",
    "# Branching Ratio Interpolation\n",
    "#########################################\n",
    "interpFile1 = dataIn.loc[0,'BranchingRatioFile']\n",
    "branchFile1 = pd.read_csv(photonBranchPath(interpFile1))\n",
    "\n",
    "xList = branchFile1['mA[GeV]']\n",
    "yList = branchFile1['BR']\n",
    "\n",
    "branchRatioInterp = interpolate.interp1d(xList,yList)\n",
    "\n",
    "\n",
    "#########################################\n",
    "# Begin the loop calculations\n",
    "#########################################\n",
    "print (fileName)\n",
    "print ()\n",
    "print ('--------------------')\n",
    "finishedCounter = 0\n",
    "index = 0\n",
    "for index in loopRange:\n",
    "    testValue = dataIn.loc[index, 'IceCubeSignal']\n",
    "    \n",
    "    if (testValue == 'None'):\n",
    "        dataIn.to_csv(writeFile, sep=',',index=False) \n",
    "\n",
    "        #########################################\n",
    "        # Initialize Loop Parameters\n",
    "        #########################################\n",
    "        Filem_ATemp = float(dataIn.loc[index, 'mA[GeV]'])\n",
    "        FileEpsilonTemp = float(dataIn.loc[index, 'Epsilon'])\n",
    "        Alpha_X = alphaTherm(Filem_X, Filem_ATemp)\n",
    "        Sommerfeld = SommInterp(Filem_ATemp)\n",
    "        BranchingRatio = branchRatioInterp(Filem_ATemp)\n",
    "        \n",
    "        #########################################\n",
    "        # Loop Calculations\n",
    "        #########################################\n",
    "        Capture = photonCCapQuick(Filem_X, Filem_ATemp, FileEpsilonTemp, Alpha_X, FileKappa0)\n",
    "        SigmaVTree = photonSigmaVtree(Filem_X, Filem_ATemp, Alpha_X)\n",
    "        Annihilation = CAnnCalc(Filem_X, SigmaVTree, thermAvgSomm = Sommerfeld)\n",
    "        GammaAnn = gammaAnn(Capture, Annihilation)\n",
    "        L = decayLength(Filem_X, Filem_ATemp, FileEpsilonTemp, BranchingRatio)\n",
    "        EpsilonDecay = epsilonDecay(L)\n",
    "        \n",
    "        IceCubeSignal = iceCubeSignal(GammaAnn, EpsilonDecay, LiveTime)\n",
    "        \n",
    "        #########################################\n",
    "        # Append Calculated Values to SignalFile.csv\n",
    "        #########################################\n",
    "        dataIn.set_value(index, 'Capture', Capture)\n",
    "        dataIn.set_value(index, 'Annihilation', Annihilation)\n",
    "        dataIn.set_value(index, 'GammaAnn', GammaAnn)\n",
    "        dataIn.set_value(index, 'IceCubeSignal', IceCubeSignal)\n",
    "        \n",
    "        \n",
    "        #########################################\n",
    "        # Overwrite SignalFile.csv\n",
    "        #########################################\n",
    "        dataIn.to_csv(writeFile, sep=',',index=False) \n",
    "        finishedCounter += 1\n",
    "        \n",
    "        if (index % 20 == 0):\n",
    "            print ('Calculations for index: {0} recorded'.format(index))\n",
    "        \n",
    "    elif (testValue != 'None'):\n",
    "        finishedCounter += 1\n",
    "    \n",
    "    if (finishedCounter == len(dataIn['Counter'])):\n",
    "        print ('--------------------')\n",
    "        print ('All Calculations Complete')\n",
    "        break\n",
    "        \n",
    "print ('Complete')"
   ]
  },
  {
   "cell_type": "markdown",
   "metadata": {},
   "source": [
    "## Manual Overwrite"
   ]
  },
  {
   "cell_type": "markdown",
   "metadata": {},
   "source": [
    "This cell is a manual overwrite of the sinal file, just for good measure."
   ]
  },
  {
   "cell_type": "code",
   "execution_count": 84,
   "metadata": {
    "ExecuteTime": {
     "end_time": "2018-03-22T22:30:29.373091Z",
     "start_time": "2018-03-22T22:30:29.272828Z"
    }
   },
   "outputs": [
    {
     "name": "stdout",
     "output_type": "stream",
     "text": [
      "Complete\n"
     ]
    }
   ],
   "source": [
    "dataIn.to_csv(writeFile, sep=',', index=False) \n",
    "\n",
    "print ('Complete')"
   ]
  },
  {
   "cell_type": "markdown",
   "metadata": {},
   "source": [
    "------------------------"
   ]
  },
  {
   "cell_type": "markdown",
   "metadata": {},
   "source": [
    "# Generate the Signal Graphs"
   ]
  },
  {
   "cell_type": "markdown",
   "metadata": {},
   "source": [
    "The general recipie is:\n",
    "\n",
    "1). Read in a Signal Data file\n",
    "\n",
    "2). Extract the plot information\n",
    "\n",
    "3). Plot\n"
   ]
  },
  {
   "cell_type": "markdown",
   "metadata": {},
   "source": [
    "## Read in External Signal File"
   ]
  },
  {
   "cell_type": "code",
   "execution_count": 85,
   "metadata": {
    "ExecuteTime": {
     "end_time": "2018-03-22T22:30:37.410776Z",
     "start_time": "2018-03-22T22:30:31.427638Z"
    }
   },
   "outputs": [
    {
     "name": "stdout",
     "output_type": "stream",
     "text": [
      "Signal Rate filename: testSignal.csv\n",
      "testSignal.csv\n"
     ]
    }
   ],
   "source": [
    "GammaFile = input('Signal Rate filename: ')\n",
    "readFile = photonSignalDataPath(GammaFile)\n",
    "\n",
    "print (GammaFile)"
   ]
  },
  {
   "cell_type": "markdown",
   "metadata": {},
   "source": [
    "## Define the plot region and extract plot data"
   ]
  },
  {
   "cell_type": "markdown",
   "metadata": {},
   "source": [
    "We plot the Data under the column\n",
    "\n",
    "    IceCubeData"
   ]
  },
  {
   "cell_type": "code",
   "execution_count": 86,
   "metadata": {
    "ExecuteTime": {
     "end_time": "2018-03-22T22:30:38.539454Z",
     "start_time": "2018-03-22T22:30:38.466303Z"
    }
   },
   "outputs": [
    {
     "name": "stdout",
     "output_type": "stream",
     "text": [
      "75\n",
      "Complete\n"
     ]
    },
    {
     "name": "stderr",
     "output_type": "stream",
     "text": [
      "C:\\Users\\Adam Green\\Anaconda3\\lib\\site-packages\\ipykernel_launcher.py:27: DeprecationWarning: object of type <class 'str'> cannot be safely interpreted as an integer.\n",
      "C:\\Users\\Adam Green\\Anaconda3\\lib\\site-packages\\ipykernel_launcher.py:28: DeprecationWarning: object of type <class 'str'> cannot be safely interpreted as an integer.\n"
     ]
    }
   ],
   "source": [
    "rawData = pd.read_csv(photonSignalDataPath(GammaFile))\n",
    "Filem_X = float(rawData.loc[0,'mX[GeV]'])\n",
    "\n",
    "\n",
    "#Pull out min / max values\n",
    "\n",
    "xMin = min(rawData['mA[GeV]'])\n",
    "xMax = max(rawData['mA[GeV]'])\n",
    "yMin = min(rawData['Epsilon'])\n",
    "yMax = max(rawData['Epsilon'])\n",
    "\n",
    "\n",
    "# Define the dimension of the grid. \n",
    "# For an n x n grid, this will pull out the number \"n\"\n",
    "# gridDim = len(np.unique(rawData['mA[GeV]']))\n",
    "gridDim = rawData.loc[0,'Resolution']\n",
    "print (gridDim)\n",
    "\n",
    "\n",
    "#########################################\n",
    "# Create an n x n grid\n",
    "#########################################\n",
    "# Logarithmic Spacing\n",
    "xLogRange = np.logspace(xMin, xMax, gridDim, base = 10)\n",
    "yLogRange = np.logspace(yMin, yMax, gridDim, base = 10)\n",
    "\n",
    "xLinRange = np.linspace(xMin, xMax, gridDim)\n",
    "yLinRange = np.linspace(yMin, yMax, gridDim)\n",
    "\n",
    "#########################################\n",
    "# Read in and reshape the Contour data\n",
    "#########################################\n",
    "# This reads in contour data as a single column,\n",
    "#     but we reshape it to a 2D, n x n array to fit the grid\n",
    "\n",
    "z = [rawData['IceCubeSignal']]\n",
    "SignalData = np.reshape(z, (len(xLinRange), len(yLinRange)))\n",
    "\n",
    "print ('Complete')"
   ]
  },
  {
   "cell_type": "markdown",
   "metadata": {},
   "source": [
    "## Plot the Signal Events"
   ]
  },
  {
   "cell_type": "code",
   "execution_count": 87,
   "metadata": {
    "ExecuteTime": {
     "end_time": "2018-03-22T22:30:40.060689Z",
     "start_time": "2018-03-22T22:30:39.616510Z"
    },
    "scrolled": false
   },
   "outputs": [
    {
     "name": "stderr",
     "output_type": "stream",
     "text": [
      "C:\\Users\\Adam Green\\Anaconda3\\lib\\site-packages\\ipykernel_launcher.py:30: RuntimeWarning: divide by zero encountered in log10\n"
     ]
    },
    {
     "data": {
      "image/png": "[encoded data removed]",
      "text/plain": [
       "<matplotlib.figure.Figure at 0x2937fd8bf98>"
      ]
     },
     "metadata": {},
     "output_type": "display_data"
    }
   ],
   "source": [
    "###############################\n",
    "# Set the correct units for m_X\n",
    "###############################\n",
    "m_XUnit = 'None'\n",
    "if (Filem_X < 1000):\n",
    "    m_XDisplay = Filem_X\n",
    "    m_XUnit = 'GeV'\n",
    "\n",
    "if (Filem_X >= 1000):\n",
    "    m_XDisplay = Filem_X * 10**-3\n",
    "    m_XUnit = 'TeV'\n",
    "    \n",
    "    \n",
    "###############################\n",
    "# Define X,Y tickmarks\n",
    "###############################\n",
    "# xTicks = np.linspace(xMin, xMax, 10)\n",
    "# yTicks = np.linspace(yMin, yMax, 10)\n",
    "# xTicks = np.logspace((xMin), (xMax), 7, base = 10)\n",
    "# yTicks = np.logspace(np.log10(yMin),np.log10(yMax),7, base = 10)\n",
    "    \n",
    "###############################\n",
    "# Actual Plotting Stuff\n",
    "###############################\n",
    "fig0 = plt.figure(figsize = (8,6))\n",
    "ax0 = fig0.add_subplot(111)\n",
    "# ax0.set_xticks(xTicks)\n",
    "# ax0.set_yticks(yTicks)\n",
    "\n",
    "CP = plt.contour(np.log10(xLogRange), np.log10(yLogRange), \\\n",
    "                 np.log10(SignalData.transpose()),\\\n",
    "                 levels=[0,1,2,3]\n",
    "                )\n",
    "\n",
    "\n",
    "plt.xlabel(r'$m_A$ $[GeV]$', fontsize = 13)\n",
    "plt.ylabel(r'$\\varepsilon$', fontsize = 13)\n",
    "plt.suptitle('IceCube Events', fontsize = 14)\n",
    "plt.title(r'$m_X$ = {0} {1}'.format(m_XDisplay, m_XUnit), loc = 'right', fontsize = 13)\n",
    "# plt.axis([xMin,xMax,yMin,yMax])\n",
    "plt.clabel(CP, inline=1, fontsize=12)\n",
    "plt.colorbar()\n",
    "plt.grid()"
   ]
  },
  {
   "cell_type": "markdown",
   "metadata": {},
   "source": [
    "### Save Figure"
   ]
  },
  {
   "cell_type": "code",
   "execution_count": 48,
   "metadata": {
    "ExecuteTime": {
     "end_time": "2017-09-13T23:28:37.819728Z",
     "start_time": "2017-09-13T23:28:34.240451Z"
    }
   },
   "outputs": [
    {
     "name": "stdout",
     "output_type": "stream",
     "text": [
      "Filename: 10TeVSignalPlot.pdf\n",
      "Complete\n"
     ]
    }
   ],
   "source": [
    "figName = input('Filename: ')\n",
    "\n",
    "fig0.savefig(photonSignalPlotPath(figName), dpi = 700, bbox_inches = 'tight')\n",
    "print ('Complete')"
   ]
  },
  {
   "cell_type": "code",
   "execution_count": null,
   "metadata": {
    "collapsed": true
   },
   "outputs": [],
   "source": []
  },
  {
   "cell_type": "code",
   "execution_count": null,
   "metadata": {
    "collapsed": true
   },
   "outputs": [],
   "source": []
  },
  {
   "cell_type": "code",
   "execution_count": null,
   "metadata": {
    "collapsed": true
   },
   "outputs": [],
   "source": []
  },
  {
   "cell_type": "code",
   "execution_count": 32,
   "metadata": {
    "ExecuteTime": {
     "end_time": "2017-09-13T16:48:19.306106Z",
     "start_time": "2017-09-13T16:48:18.885992Z"
    }
   },
   "outputs": [
    {
     "name": "stderr",
     "output_type": "stream",
     "text": [
      "C:\\Users\\Adam Green\\Anaconda3\\lib\\site-packages\\ipykernel_launcher.py:30: RuntimeWarning: divide by zero encountered in log10\n"
     ]
    },
    {
     "data": {
      "image/png": "[encoded data removed]",
      "text/plain": [
       "<matplotlib.figure.Figure at 0x2256f60cb70>"
      ]
     },
     "metadata": {},
     "output_type": "display_data"
    }
   ],
   "source": [
    "###############################\n",
    "# Set the correct units for m_X\n",
    "###############################\n",
    "m_XUnit = 'None'\n",
    "if (Filem_X < 1000):\n",
    "    m_XDisplay = Filem_X\n",
    "    m_XUnit = 'GeV'\n",
    "\n",
    "if (Filem_X >= 1000):\n",
    "    m_XDisplay = Filem_X * 10**-3\n",
    "    m_XUnit = 'TeV'\n",
    "    \n",
    "    \n",
    "###############################\n",
    "# Define X,Y tickmarks\n",
    "###############################\n",
    "# xTicks = np.linspace(xMin, xMax, 10)\n",
    "# yTicks = np.linspace(yMin, yMax, 10)\n",
    "# xTicks = np.logspace((xMin), (xMax), 7, base = 10)\n",
    "# yTicks = np.logspace(np.log10(yMin),np.log10(yMax),7, base = 10)\n",
    "    \n",
    "###############################\n",
    "# Actual Plotting Stuff\n",
    "###############################\n",
    "fig0 = plt.figure(figsize = (8,6))\n",
    "ax0 = fig0.add_subplot(111)\n",
    "# ax0.set_xticks(xTicks)\n",
    "# ax0.set_yticks(yTicks)\n",
    "\n",
    "CP = plt.contour(np.log10(xLogRange), np.log10(yLogRange), \\\n",
    "                 np.log10(SignalData.transpose()),\\\n",
    "                 levels=[0,1,2,3,],\n",
    "                )\n",
    "\n",
    "\n",
    "plt.xlabel(r'$m_A$ $[GeV]$', fontsize = 13)\n",
    "plt.ylabel(r'$\\varepsilon$', fontsize = 13)\n",
    "plt.suptitle('IceCube Events', fontsize = 14)\n",
    "plt.title(r'$m_X$ = {0} {1}'.format(m_XDisplay, m_XUnit), loc = 'right', fontsize = 13)\n",
    "# plt.axis([xMin,xMax,yMin,yMax])\n",
    "plt.clabel(CP, inline=1, fontsize=12)\n",
    "plt.colorbar(CP)\n",
    "plt.grid()"
   ]
  },
  {
   "cell_type": "code",
   "execution_count": 21,
   "metadata": {
    "ExecuteTime": {
     "end_time": "2017-09-12T04:22:49.086092Z",
     "start_time": "2017-09-12T04:22:48.819382Z"
    }
   },
   "outputs": [
    {
     "name": "stdout",
     "output_type": "stream",
     "text": [
      "Complete\n"
     ]
    },
    {
     "data": {
      "image/png": "[encoded data removed]",
      "text/plain": [
       "<matplotlib.figure.Figure at 0x23d9d8f9710>"
      ]
     },
     "metadata": {},
     "output_type": "display_data"
    }
   ],
   "source": [
    "xData = rawData['mA[GeV]']\n",
    "yData1 = rawData['Annihilation']\n",
    "yData2 = rawData['Capture']\n",
    "\n",
    "plt.plot(np.log10(xData),np.log10(yData1))\n",
    "\n",
    "print ('Complete')"
   ]
  },
  {
   "cell_type": "code",
   "execution_count": 19,
   "metadata": {
    "ExecuteTime": {
     "end_time": "2018-03-22T21:21:13.146446Z",
     "start_time": "2018-03-22T21:21:12.148039Z"
    }
   },
   "outputs": [
    {
     "name": "stdout",
     "output_type": "stream",
     "text": [
      "brtoeAdam.csv\n",
      "       mA[GeV]      BR\n",
      "0     0.000000  1.0000\n",
      "1     0.215064  1.0000\n",
      "2     0.216744  0.8510\n",
      "3     0.221784  0.6990\n",
      "4     0.225985  0.6665\n",
      "5     0.231025  0.6345\n",
      "6     0.236906  0.6180\n",
      "7     0.241947  0.6005\n",
      "8     0.246987  0.5875\n",
      "9     0.252868  0.5755\n",
      "10    0.260429  0.5650\n",
      "11    0.269670  0.5555\n",
      "12    0.278071  0.5475\n",
      "13    0.286472  0.5400\n",
      "14    0.297393  0.5295\n",
      "15    0.327636  0.5110\n",
      "16    0.376362  0.4750\n",
      "17    0.383082  0.4670\n",
      "18    0.392323  0.4715\n",
      "19    0.412486  0.4610\n",
      "20    0.425087  0.4600\n",
      "21    0.428447  0.4535\n",
      "22    0.439368  0.4490\n",
      "23    0.449450  0.4400\n",
      "24    0.457010  0.4325\n",
      "25    0.467092  0.4370\n",
      "26    0.475492  0.4250\n",
      "27    0.485574  0.4145\n",
      "28    0.498175  0.4090\n",
      "29    0.512457  0.4040\n",
      "..         ...     ...\n",
      "146   1.882650  0.2610\n",
      "147   1.904490  0.2545\n",
      "148   1.917930  0.2590\n",
      "149   1.928850  0.2525\n",
      "150   1.940610  0.2570\n",
      "151   1.947330  0.2495\n",
      "152   1.962460  0.2540\n",
      "153   1.975900  0.2530\n",
      "154   1.982620  0.2420\n",
      "155   1.995220  0.2355\n",
      "156   2.005300  0.2270\n",
      "157   2.018740  0.2370\n",
      "158   2.090150  0.2360\n",
      "159   2.159880  0.2325\n",
      "160   2.226250  0.2305\n",
      "161   2.291770  0.2300\n",
      "162   2.344700  0.2295\n",
      "163   2.411910  0.2305\n",
      "164   2.466510  0.2300\n",
      "165   2.513560  0.2305\n",
      "166   2.572360  0.2305\n",
      "167   2.622770  0.2305\n",
      "168   3.000000  0.2305\n",
      "169   4.000000  0.2305\n",
      "170   5.000000  0.2305\n",
      "171   6.000000  0.2305\n",
      "172   7.000000  0.2305\n",
      "173   8.000000  0.2305\n",
      "174   9.000000  0.2305\n",
      "175  10.000000  0.2305\n",
      "\n",
      "[176 rows x 2 columns]\n"
     ]
    },
    {
     "data": {
      "image/png": "[encoded data removed]",
      "text/plain": [
       "<matplotlib.figure.Figure at 0x1fd68e83780>"
      ]
     },
     "metadata": {},
     "output_type": "display_data"
    }
   ],
   "source": [
    "# fileName = input('Signal Rate filename: ')\n",
    "fileName = 'testSignal.csv'\n",
    "writeFile = photonSignalDataPath(fileName)\n",
    "dataIn = pd.read_csv(writeFile, sep = ',')\n",
    "\n",
    "\n",
    "\n",
    "plt.plot(xList, branchRatioInterp(xList))\n",
    "\n",
    "\n",
    "print (sommerFile)"
   ]
  },
  {
   "cell_type": "code",
   "execution_count": null,
   "metadata": {
    "collapsed": true
   },
   "outputs": [],
   "source": []
  }
 ],
 "metadata": {
  "kernelspec": {
   "display_name": "Python 3",
   "language": "python",
   "name": "python3"
  },
  "language_info": {
   "codemirror_mode": {
    "name": "ipython",
    "version": 3
   },
   "file_extension": ".py",
   "mimetype": "text/x-python",
   "name": "python",
   "nbconvert_exporter": "python",
   "pygments_lexer": "ipython3",
   "version": "3.6.2"
  },
  "latex_envs": {
   "LaTeX_envs_menu_present": true,
   "autocomplete": true,
   "bibliofile": "biblio.bib",
   "cite_by": "apalike",
   "current_citInitial": 1,
   "eqLabelWithNumbers": true,
   "eqNumInitial": 1,
   "hotkeys": {
    "equation": "Ctrl-E",
    "itemize": "Ctrl-I"
   },
   "labels_anchors": false,
   "latex_user_defs": false,
   "report_style_numbering": false,
   "user_envs_cfg": false
  }
 },
 "nbformat": 4,
 "nbformat_minor": 2
}
