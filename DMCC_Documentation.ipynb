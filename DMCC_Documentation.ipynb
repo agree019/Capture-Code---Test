{
 "cells": [
  {
   "cell_type": "markdown",
   "metadata": {},
   "source": [
    "# Dark Matter Code Documentation"
   ]
  },
  {
   "cell_type": "markdown",
   "metadata": {
    "collapsed": true
   },
   "source": [
    "$$ \\text{Adam Green}  \\\\ \\text{agree019@ucr.edu} $$"
   ]
  },
  {
   "cell_type": "markdown",
   "metadata": {},
   "source": [
    "----------------"
   ]
  },
  {
   "cell_type": "markdown",
   "metadata": {},
   "source": [
    "## What does this package require\n",
    "\n",
    "This package requires:\n",
    "\n",
    "1). Numpy <br>\n",
    "2). Scipy <br>\n",
    "3). Pandas <br>\n",
    "4). Matplotlib <br>\n",
    "5). jupyter_latex_envs (for markdown cells)\n"
   ]
  },
  {
   "cell_type": "markdown",
   "metadata": {},
   "source": [
    "## Package Structure\n",
    "\n",
    "This python package is divided into two types of Jupyter Notebooks:\n",
    "\\begin{enumerate}\n",
    "\\item MasterFunctions_<Description>\n",
    "\\item DMCC_<Description>\n",
    "\\end{enumerate}\n",
    "\n",
    "\\subsection{MasterFunctions Notebooks}\n",
    "These notebooks contain only the function definitions used in the calculations for the rest of the package and are imported into the other notebooks as modules. This is benefial for a number of reasons, primarily it serves to keep a single definition of each function in this package. If for any reason a definition must be changed, you can find it in the corresponding notebook.\n",
    "\n",
    "The MasterFunctions Notebooks are as follows:\n",
    "\\begin{itemize}\n",
    "\\item MasterFunctions_Annihilation.ipynb\n",
    "\\item MasterFunctions_Capture.ipynb\n",
    "\\item MasterFunctions_CaptureApproximation.ipynb\n",
    "\\item MasterFunctions_Graphing.ipynb\n",
    "\\item MasterFunctions_ModelData.ipynb\n",
    "\\item MasterFunctions_SignalRates.ipynb\n",
    "\\end{itemize}\n",
    "\n",
    "\\subsection{DMCC Notebooks}\n",
    "These notebooks are the notebooks which produce output.\n",
    "\n",
    "\\begin{itemize}\n",
    "\\item DMCC_Annihilation.ipynb\n",
    "\\item DMCC_Capture.ipynb\n",
    "\\item DMCC_CaptuerApproximation.ipynb\n",
    "\\item DMCC_EquilibriumPlots.ipynb\n",
    "\\item DMCC_SignalRates.ipynb\n",
    "\\item DMCC_Sommerfeld.ipynb\n",
    "\\end{itemize}\n",
    "\n",
    "A detailed explnation can be found at the beginning of each notebook.\n"
   ]
  },
  {
   "cell_type": "markdown",
   "metadata": {
    "collapsed": true
   },
   "source": [
    "## Motivation\n",
    "\n",
    "This package contains the calculations based on arXiv:1509.07525v2. \n",
    "\n",
    "The end product of this code is a prediction of the number of signal events at IceCube for dark photon decays into fermions. The Python functions are named in obvious ways, and equation numbers have been provided for reference.  \n",
    "\n",
    "This is calculated in the following steps:\n",
    "\n",
    "\\begin{enumerate}\n",
    "\\item Run the Sommerfeld notebook\n",
    "\\item Run the Equilibrium Plots notebook\n",
    "\\item Run the Signal Plots notebook\n",
    "\\end{enumerate}\n",
    "\n",
    "The Sommerfeld notebook is where you choose the specific dark matter mass $m_X$ you want. "
   ]
  },
  {
   "cell_type": "code",
   "execution_count": null,
   "metadata": {
    "collapsed": true
   },
   "outputs": [],
   "source": []
  },
  {
   "cell_type": "markdown",
   "metadata": {
    "collapsed": true
   },
   "source": [
    "Create a file containing an arbitrary number of $\\langle S_s(m_A) \\rangle$ points.  "
   ]
  },
  {
   "cell_type": "code",
   "execution_count": null,
   "metadata": {
    "collapsed": true
   },
   "outputs": [],
   "source": []
  },
  {
   "cell_type": "markdown",
   "metadata": {
    "collapsed": true
   },
   "source": [
    "---------------"
   ]
  },
  {
   "cell_type": "markdown",
   "metadata": {
    "collapsed": true
   },
   "source": [
    "## Sommerfeld Notebook "
   ]
  },
  {
   "cell_type": "markdown",
   "metadata": {
    "collapsed": true
   },
   "source": [
    "This notebook initilizes an external file containing Sommerfeld calculations (eqn whatever). This is calculated using an arbitrary percision (2500) and is later interpolated. "
   ]
  },
  {
   "cell_type": "code",
   "execution_count": null,
   "metadata": {
    "collapsed": true
   },
   "outputs": [],
   "source": []
  },
  {
   "cell_type": "code",
   "execution_count": null,
   "metadata": {
    "collapsed": true
   },
   "outputs": [],
   "source": []
  },
  {
   "cell_type": "code",
   "execution_count": null,
   "metadata": {
    "collapsed": true
   },
   "outputs": [],
   "source": []
  },
  {
   "cell_type": "code",
   "execution_count": null,
   "metadata": {
    "collapsed": true
   },
   "outputs": [],
   "source": []
  },
  {
   "cell_type": "markdown",
   "metadata": {
    "collapsed": true
   },
   "source": [
    "----------------"
   ]
  },
  {
   "cell_type": "markdown",
   "metadata": {
    "collapsed": true
   },
   "source": [
    "## Equilibrium Plots"
   ]
  },
  {
   "cell_type": "markdown",
   "metadata": {
    "collapsed": true
   },
   "source": [
    "This notebook generates the equilibirum timescale plots for a given dark matter mass $m_X$"
   ]
  },
  {
   "cell_type": "code",
   "execution_count": null,
   "metadata": {
    "collapsed": true
   },
   "outputs": [],
   "source": []
  },
  {
   "cell_type": "code",
   "execution_count": null,
   "metadata": {
    "collapsed": true
   },
   "outputs": [],
   "source": []
  },
  {
   "cell_type": "code",
   "execution_count": null,
   "metadata": {
    "collapsed": true
   },
   "outputs": [],
   "source": []
  },
  {
   "cell_type": "code",
   "execution_count": null,
   "metadata": {
    "collapsed": true
   },
   "outputs": [],
   "source": []
  },
  {
   "cell_type": "code",
   "execution_count": null,
   "metadata": {
    "collapsed": true
   },
   "outputs": [],
   "source": []
  },
  {
   "cell_type": "code",
   "execution_count": null,
   "metadata": {
    "collapsed": true
   },
   "outputs": [],
   "source": []
  },
  {
   "cell_type": "code",
   "execution_count": null,
   "metadata": {
    "collapsed": true
   },
   "outputs": [],
   "source": []
  },
  {
   "cell_type": "code",
   "execution_count": null,
   "metadata": {
    "collapsed": true
   },
   "outputs": [],
   "source": []
  },
  {
   "cell_type": "markdown",
   "metadata": {
    "collapsed": true
   },
   "source": [
    "----------------"
   ]
  },
  {
   "cell_type": "markdown",
   "metadata": {
    "collapsed": true
   },
   "source": [
    "## Signal Plots"
   ]
  },
  {
   "cell_type": "markdown",
   "metadata": {
    "collapsed": true
   },
   "source": [
    "This notebook generates the predicted IceCube signal plots "
   ]
  },
  {
   "cell_type": "code",
   "execution_count": null,
   "metadata": {
    "collapsed": true
   },
   "outputs": [],
   "source": []
  },
  {
   "cell_type": "code",
   "execution_count": null,
   "metadata": {
    "collapsed": true
   },
   "outputs": [],
   "source": []
  },
  {
   "cell_type": "code",
   "execution_count": null,
   "metadata": {
    "collapsed": true
   },
   "outputs": [],
   "source": []
  },
  {
   "cell_type": "code",
   "execution_count": null,
   "metadata": {
    "collapsed": true
   },
   "outputs": [],
   "source": []
  },
  {
   "cell_type": "code",
   "execution_count": null,
   "metadata": {
    "collapsed": true
   },
   "outputs": [],
   "source": []
  },
  {
   "cell_type": "markdown",
   "metadata": {
    "collapsed": true
   },
   "source": [
    "## Using This Package"
   ]
  },
  {
   "cell_type": "markdown",
   "metadata": {
    "collapsed": true
   },
   "source": [
    "Importing Jupyter notebooks as modules can be found from the Jupyter documentation website:\n",
    "\n",
    "http://jupyter-notebook.readthedocs.io/en/latest/examples/Notebook/Importing%20Notebooks.html\n"
   ]
  },
  {
   "cell_type": "code",
   "execution_count": null,
   "metadata": {
    "collapsed": true
   },
   "outputs": [],
   "source": []
  }
 ],
 "metadata": {
  "kernelspec": {
   "display_name": "Python 3",
   "language": "python",
   "name": "python3"
  },
  "language_info": {
   "codemirror_mode": {
    "name": "ipython",
    "version": 3
   },
   "file_extension": ".py",
   "mimetype": "text/x-python",
   "name": "python",
   "nbconvert_exporter": "python",
   "pygments_lexer": "ipython3",
   "version": "3.6.2"
  },
  "latex_envs": {
   "LaTeX_envs_menu_present": true,
   "autocomplete": true,
   "bibliofile": "biblio.bib",
   "cite_by": "apalike",
   "current_citInitial": 1,
   "eqLabelWithNumbers": true,
   "eqNumInitial": 1,
   "hotkeys": {
    "equation": "Ctrl-E",
    "itemize": "Ctrl-I"
   },
   "labels_anchors": false,
   "latex_user_defs": false,
   "report_style_numbering": false,
   "user_envs_cfg": false
  }
 },
 "nbformat": 4,
 "nbformat_minor": 2
}
