{
 "cells": [
  {
   "cell_type": "markdown",
   "metadata": {},
   "source": [
    "# File I/O Playground\n",
    "The test file is called: [DebugText].txt \n",
    "\n",
    "**Goals**: \n",
    "- Output calculations to a .csv file\n",
    "- Save that file\n",
    "- Open that file and append more calculations to it\n",
    "    \n",
    "**Future Implementations**\n",
    "- When looping over large indicies, print the loop index for each appended value to the .csv file\n",
    "   "
   ]
  },
  {
   "cell_type": "code",
   "execution_count": 1,
   "metadata": {
    "collapsed": false
   },
   "outputs": [
    {
     "name": "stdout",
     "output_type": "stream",
     "text": [
      "Complete\n"
     ]
    }
   ],
   "source": [
    "import numpy as np\n",
    "import pandas as pd\n",
    "import time\n",
    "import csv\n",
    "\n",
    "print 'Complete'"
   ]
  },
  {
   "cell_type": "code",
   "execution_count": 2,
   "metadata": {
    "collapsed": false
   },
   "outputs": [
    {
     "name": "stdout",
     "output_type": "stream",
     "text": [
      "Date: May/15/2017\n",
      "Time: 13:56:20\n"
     ]
    }
   ],
   "source": [
    "print 'Date: %s' % time.strftime('%b/%d/20%y')\n",
    "print 'Time: %s' % time.strftime('%H:%M:%S')"
   ]
  },
  {
   "cell_type": "markdown",
   "metadata": {
    "collapsed": true
   },
   "source": [
    "## CSV file Manipulation\n",
    "The motivation for this is to calculate the grid of values in parameter space for a contour plot. However, each point in parameter space takes a nontrivial amount of time, so I have to run this loop in chunks or find a way to pause it and pick up where I left off last.\n",
    "\n",
    "This method utilizes the PANDAS package\n",
    "\n",
    "The following is a basic example to:\n",
    "1. Initialize a dataFrame with the entire range of parameter values as columns and a blank calculation column\n",
    "2. Write the template dataFrame to a csv\n",
    "3. Read in the csv\n",
    "4. Calculate values and continuously write to a csv\n"
   ]
  },
  {
   "cell_type": "markdown",
   "metadata": {},
   "source": [
    "### Initialize the masterArray and associated dataFrame object"
   ]
  },
  {
   "cell_type": "code",
   "execution_count": 3,
   "metadata": {
    "collapsed": false
   },
   "outputs": [
    {
     "name": "stdout",
     "output_type": "stream",
     "text": [
      "Complete\n"
     ]
    }
   ],
   "source": [
    "mARange = np.linspace(1,10,100)\n",
    "epsilonRange = np.linspace(11, 20, 100)\n",
    "masterArray = []\n",
    "\n",
    "counter = 0\n",
    "for epsilonTemp in epsilonRange:\n",
    "    for mATemp in mARange:\n",
    "        masterArray.append([counter,epsilonTemp,mATemp,'None'])\n",
    "        counter += 1\n",
    "        \n",
    "masterDataFrame= pd.DataFrame(data = masterArray, columns=['Counter', 'Epsilon', 'mA', 'Calculation'])\n",
    "\n",
    "print 'Complete'"
   ]
  },
  {
   "cell_type": "markdown",
   "metadata": {},
   "source": [
    "### Write the template dataframe to an external .csv file and copy it."
   ]
  },
  {
   "cell_type": "code",
   "execution_count": 4,
   "metadata": {
    "collapsed": false
   },
   "outputs": [
    {
     "name": "stdout",
     "output_type": "stream",
     "text": [
      "Complete\n"
     ]
    }
   ],
   "source": [
    "masterDataFrame.to_csv('[PandaDF].csv', index=False)\n",
    "masterDataFrame.to_csv('[PandaDF_copy].csv', index=False)\n",
    "\n",
    "print 'Complete'"
   ]
  },
  {
   "cell_type": "markdown",
   "metadata": {},
   "source": [
    "### Sanity Check"
   ]
  },
  {
   "cell_type": "code",
   "execution_count": 5,
   "metadata": {
    "collapsed": false
   },
   "outputs": [
    {
     "name": "stdout",
     "output_type": "stream",
     "text": [
      "      Counter  Epsilon         mA Calculation\n",
      "0           0     11.0   1.000000        None\n",
      "1           1     11.0   1.090909        None\n",
      "2           2     11.0   1.181818        None\n",
      "3           3     11.0   1.272727        None\n",
      "4           4     11.0   1.363636        None\n",
      "5           5     11.0   1.454545        None\n",
      "6           6     11.0   1.545455        None\n",
      "7           7     11.0   1.636364        None\n",
      "8           8     11.0   1.727273        None\n",
      "9           9     11.0   1.818182        None\n",
      "10         10     11.0   1.909091        None\n",
      "11         11     11.0   2.000000        None\n",
      "12         12     11.0   2.090909        None\n",
      "13         13     11.0   2.181818        None\n",
      "14         14     11.0   2.272727        None\n",
      "15         15     11.0   2.363636        None\n",
      "16         16     11.0   2.454545        None\n",
      "17         17     11.0   2.545455        None\n",
      "18         18     11.0   2.636364        None\n",
      "19         19     11.0   2.727273        None\n",
      "20         20     11.0   2.818182        None\n",
      "21         21     11.0   2.909091        None\n",
      "22         22     11.0   3.000000        None\n",
      "23         23     11.0   3.090909        None\n",
      "24         24     11.0   3.181818        None\n",
      "25         25     11.0   3.272727        None\n",
      "26         26     11.0   3.363636        None\n",
      "27         27     11.0   3.454545        None\n",
      "28         28     11.0   3.545455        None\n",
      "29         29     11.0   3.636364        None\n",
      "...       ...      ...        ...         ...\n",
      "9970     9970     20.0   7.363636        None\n",
      "9971     9971     20.0   7.454545        None\n",
      "9972     9972     20.0   7.545455        None\n",
      "9973     9973     20.0   7.636364        None\n",
      "9974     9974     20.0   7.727273        None\n",
      "9975     9975     20.0   7.818182        None\n",
      "9976     9976     20.0   7.909091        None\n",
      "9977     9977     20.0   8.000000        None\n",
      "9978     9978     20.0   8.090909        None\n",
      "9979     9979     20.0   8.181818        None\n",
      "9980     9980     20.0   8.272727        None\n",
      "9981     9981     20.0   8.363636        None\n",
      "9982     9982     20.0   8.454545        None\n",
      "9983     9983     20.0   8.545455        None\n",
      "9984     9984     20.0   8.636364        None\n",
      "9985     9985     20.0   8.727273        None\n",
      "9986     9986     20.0   8.818182        None\n",
      "9987     9987     20.0   8.909091        None\n",
      "9988     9988     20.0   9.000000        None\n",
      "9989     9989     20.0   9.090909        None\n",
      "9990     9990     20.0   9.181818        None\n",
      "9991     9991     20.0   9.272727        None\n",
      "9992     9992     20.0   9.363636        None\n",
      "9993     9993     20.0   9.454545        None\n",
      "9994     9994     20.0   9.545455        None\n",
      "9995     9995     20.0   9.636364        None\n",
      "9996     9996     20.0   9.727273        None\n",
      "9997     9997     20.0   9.818182        None\n",
      "9998     9998     20.0   9.909091        None\n",
      "9999     9999     20.0  10.000000        None\n",
      "\n",
      "[10000 rows x 4 columns]\n"
     ]
    }
   ],
   "source": [
    "print pd.read_csv('[PandaDF_copy].csv', sep = ',')"
   ]
  },
  {
   "cell_type": "markdown",
   "metadata": {},
   "source": [
    " ### Read-in, Calculate, and Overwrite csv"
   ]
  },
  {
   "cell_type": "code",
   "execution_count": 6,
   "metadata": {
    "collapsed": false
   },
   "outputs": [
    {
     "ename": "KeyboardInterrupt",
     "evalue": "",
     "output_type": "error",
     "traceback": [
      "\u001b[1;31m---------------------------------------------------------------------------\u001b[0m",
      "\u001b[1;31mKeyboardInterrupt\u001b[0m                         Traceback (most recent call last)",
      "\u001b[1;32m<ipython-input-6-011f9ace83d2>\u001b[0m in \u001b[0;36m<module>\u001b[1;34m()\u001b[0m\n\u001b[0;32m     20\u001b[0m \u001b[1;33m\u001b[0m\u001b[0m\n\u001b[0;32m     21\u001b[0m         \u001b[0mdataIn\u001b[0m\u001b[1;33m.\u001b[0m\u001b[0mset_value\u001b[0m\u001b[1;33m(\u001b[0m\u001b[0mindex\u001b[0m\u001b[1;33m,\u001b[0m \u001b[1;34m'Calculation'\u001b[0m\u001b[1;33m,\u001b[0m \u001b[0mcalculation\u001b[0m\u001b[1;33m)\u001b[0m\u001b[1;33m\u001b[0m\u001b[0m\n\u001b[1;32m---> 22\u001b[1;33m         \u001b[0mdataIn\u001b[0m\u001b[1;33m.\u001b[0m\u001b[0mto_csv\u001b[0m\u001b[1;33m(\u001b[0m\u001b[1;34m'[PandaDF_copy].csv'\u001b[0m\u001b[1;33m,\u001b[0m \u001b[0msep\u001b[0m\u001b[1;33m=\u001b[0m\u001b[1;34m','\u001b[0m\u001b[1;33m,\u001b[0m\u001b[0mindex\u001b[0m\u001b[1;33m=\u001b[0m\u001b[0mFalse\u001b[0m\u001b[1;33m)\u001b[0m\u001b[1;33m\u001b[0m\u001b[0m\n\u001b[0m\u001b[0;32m     23\u001b[0m \u001b[1;33m\u001b[0m\u001b[0m\n\u001b[0;32m     24\u001b[0m     \u001b[1;32mif\u001b[0m \u001b[1;33m(\u001b[0m\u001b[0mfinishedCounter\u001b[0m \u001b[1;33m==\u001b[0m \u001b[0mlen\u001b[0m\u001b[1;33m(\u001b[0m\u001b[0mdataIn\u001b[0m\u001b[1;33m[\u001b[0m\u001b[1;34m'Counter'\u001b[0m\u001b[1;33m]\u001b[0m\u001b[1;33m)\u001b[0m\u001b[1;33m)\u001b[0m\u001b[1;33m:\u001b[0m\u001b[1;33m\u001b[0m\u001b[0m\n",
      "\u001b[1;32mC:\\Users\\Adam Green\\Anaconda2\\lib\\site-packages\\pandas\\core\\frame.pyc\u001b[0m in \u001b[0;36mto_csv\u001b[1;34m(self, path_or_buf, sep, na_rep, float_format, columns, header, index, index_label, mode, encoding, compression, quoting, quotechar, line_terminator, chunksize, tupleize_cols, date_format, doublequote, escapechar, decimal, **kwds)\u001b[0m\n\u001b[0;32m   1342\u001b[0m                                      \u001b[0mdoublequote\u001b[0m\u001b[1;33m=\u001b[0m\u001b[0mdoublequote\u001b[0m\u001b[1;33m,\u001b[0m\u001b[1;33m\u001b[0m\u001b[0m\n\u001b[0;32m   1343\u001b[0m                                      escapechar=escapechar, decimal=decimal)\n\u001b[1;32m-> 1344\u001b[1;33m         \u001b[0mformatter\u001b[0m\u001b[1;33m.\u001b[0m\u001b[0msave\u001b[0m\u001b[1;33m(\u001b[0m\u001b[1;33m)\u001b[0m\u001b[1;33m\u001b[0m\u001b[0m\n\u001b[0m\u001b[0;32m   1345\u001b[0m \u001b[1;33m\u001b[0m\u001b[0m\n\u001b[0;32m   1346\u001b[0m         \u001b[1;32mif\u001b[0m \u001b[0mpath_or_buf\u001b[0m \u001b[1;32mis\u001b[0m \u001b[0mNone\u001b[0m\u001b[1;33m:\u001b[0m\u001b[1;33m\u001b[0m\u001b[0m\n",
      "\u001b[1;32mC:\\Users\\Adam Green\\Anaconda2\\lib\\site-packages\\pandas\\formats\\format.pyc\u001b[0m in \u001b[0;36msave\u001b[1;34m(self)\u001b[0m\n\u001b[0;32m   1549\u001b[0m \u001b[1;33m\u001b[0m\u001b[0m\n\u001b[0;32m   1550\u001b[0m             \u001b[1;32melse\u001b[0m\u001b[1;33m:\u001b[0m\u001b[1;33m\u001b[0m\u001b[0m\n\u001b[1;32m-> 1551\u001b[1;33m                 \u001b[0mself\u001b[0m\u001b[1;33m.\u001b[0m\u001b[0m_save\u001b[0m\u001b[1;33m(\u001b[0m\u001b[1;33m)\u001b[0m\u001b[1;33m\u001b[0m\u001b[0m\n\u001b[0m\u001b[0;32m   1552\u001b[0m \u001b[1;33m\u001b[0m\u001b[0m\n\u001b[0;32m   1553\u001b[0m         \u001b[1;32mfinally\u001b[0m\u001b[1;33m:\u001b[0m\u001b[1;33m\u001b[0m\u001b[0m\n",
      "\u001b[1;32mC:\\Users\\Adam Green\\Anaconda2\\lib\\site-packages\\pandas\\formats\\format.pyc\u001b[0m in \u001b[0;36m_save\u001b[1;34m(self)\u001b[0m\n\u001b[0;32m   1650\u001b[0m                 \u001b[1;32mbreak\u001b[0m\u001b[1;33m\u001b[0m\u001b[0m\n\u001b[0;32m   1651\u001b[0m \u001b[1;33m\u001b[0m\u001b[0m\n\u001b[1;32m-> 1652\u001b[1;33m             \u001b[0mself\u001b[0m\u001b[1;33m.\u001b[0m\u001b[0m_save_chunk\u001b[0m\u001b[1;33m(\u001b[0m\u001b[0mstart_i\u001b[0m\u001b[1;33m,\u001b[0m \u001b[0mend_i\u001b[0m\u001b[1;33m)\u001b[0m\u001b[1;33m\u001b[0m\u001b[0m\n\u001b[0m\u001b[0;32m   1653\u001b[0m \u001b[1;33m\u001b[0m\u001b[0m\n\u001b[0;32m   1654\u001b[0m     \u001b[1;32mdef\u001b[0m \u001b[0m_save_chunk\u001b[0m\u001b[1;33m(\u001b[0m\u001b[0mself\u001b[0m\u001b[1;33m,\u001b[0m \u001b[0mstart_i\u001b[0m\u001b[1;33m,\u001b[0m \u001b[0mend_i\u001b[0m\u001b[1;33m)\u001b[0m\u001b[1;33m:\u001b[0m\u001b[1;33m\u001b[0m\u001b[0m\n",
      "\u001b[1;32mC:\\Users\\Adam Green\\Anaconda2\\lib\\site-packages\\pandas\\formats\\format.pyc\u001b[0m in \u001b[0;36m_save_chunk\u001b[1;34m(self, start_i, end_i)\u001b[0m\n\u001b[0;32m   1664\u001b[0m                                   \u001b[0mdecimal\u001b[0m\u001b[1;33m=\u001b[0m\u001b[0mself\u001b[0m\u001b[1;33m.\u001b[0m\u001b[0mdecimal\u001b[0m\u001b[1;33m,\u001b[0m\u001b[1;33m\u001b[0m\u001b[0m\n\u001b[0;32m   1665\u001b[0m                                   \u001b[0mdate_format\u001b[0m\u001b[1;33m=\u001b[0m\u001b[0mself\u001b[0m\u001b[1;33m.\u001b[0m\u001b[0mdate_format\u001b[0m\u001b[1;33m,\u001b[0m\u001b[1;33m\u001b[0m\u001b[0m\n\u001b[1;32m-> 1666\u001b[1;33m                                   quoting=self.quoting)\n\u001b[0m\u001b[0;32m   1667\u001b[0m \u001b[1;33m\u001b[0m\u001b[0m\n\u001b[0;32m   1668\u001b[0m             \u001b[1;32mfor\u001b[0m \u001b[0mcol_loc\u001b[0m\u001b[1;33m,\u001b[0m \u001b[0mcol\u001b[0m \u001b[1;32min\u001b[0m \u001b[0mzip\u001b[0m\u001b[1;33m(\u001b[0m\u001b[0mb\u001b[0m\u001b[1;33m.\u001b[0m\u001b[0mmgr_locs\u001b[0m\u001b[1;33m,\u001b[0m \u001b[0md\u001b[0m\u001b[1;33m)\u001b[0m\u001b[1;33m:\u001b[0m\u001b[1;33m\u001b[0m\u001b[0m\n",
      "\u001b[1;32mC:\\Users\\Adam Green\\Anaconda2\\lib\\site-packages\\pandas\\core\\internals.pyc\u001b[0m in \u001b[0;36mto_native_types\u001b[1;34m(self, slicer, na_rep, float_format, decimal, quoting, **kwargs)\u001b[0m\n\u001b[0;32m   1441\u001b[0m                                         \u001b[0mdecimal\u001b[0m\u001b[1;33m=\u001b[0m\u001b[0mdecimal\u001b[0m\u001b[1;33m,\u001b[0m \u001b[0mquoting\u001b[0m\u001b[1;33m=\u001b[0m\u001b[0mquoting\u001b[0m\u001b[1;33m,\u001b[0m\u001b[1;33m\u001b[0m\u001b[0m\n\u001b[0;32m   1442\u001b[0m                                         fixed_width=False)\n\u001b[1;32m-> 1443\u001b[1;33m         \u001b[1;32mreturn\u001b[0m \u001b[0mformatter\u001b[0m\u001b[1;33m.\u001b[0m\u001b[0mget_result_as_array\u001b[0m\u001b[1;33m(\u001b[0m\u001b[1;33m)\u001b[0m\u001b[1;33m\u001b[0m\u001b[0m\n\u001b[0m\u001b[0;32m   1444\u001b[0m \u001b[1;33m\u001b[0m\u001b[0m\n\u001b[0;32m   1445\u001b[0m     \u001b[1;32mdef\u001b[0m \u001b[0mshould_store\u001b[0m\u001b[1;33m(\u001b[0m\u001b[0mself\u001b[0m\u001b[1;33m,\u001b[0m \u001b[0mvalue\u001b[0m\u001b[1;33m)\u001b[0m\u001b[1;33m:\u001b[0m\u001b[1;33m\u001b[0m\u001b[0m\n",
      "\u001b[1;32mC:\\Users\\Adam Green\\Anaconda2\\lib\\site-packages\\pandas\\formats\\format.pyc\u001b[0m in \u001b[0;36mget_result_as_array\u001b[1;34m(self)\u001b[0m\n\u001b[0;32m   2169\u001b[0m             \u001b[0mfloat_format\u001b[0m \u001b[1;33m=\u001b[0m \u001b[0mself\u001b[0m\u001b[1;33m.\u001b[0m\u001b[0mfloat_format\u001b[0m\u001b[1;33m\u001b[0m\u001b[0m\n\u001b[0;32m   2170\u001b[0m \u001b[1;33m\u001b[0m\u001b[0m\n\u001b[1;32m-> 2171\u001b[1;33m         \u001b[0mformatted_values\u001b[0m \u001b[1;33m=\u001b[0m \u001b[0mformat_values_with\u001b[0m\u001b[1;33m(\u001b[0m\u001b[0mfloat_format\u001b[0m\u001b[1;33m)\u001b[0m\u001b[1;33m\u001b[0m\u001b[0m\n\u001b[0m\u001b[0;32m   2172\u001b[0m \u001b[1;33m\u001b[0m\u001b[0m\n\u001b[0;32m   2173\u001b[0m         \u001b[1;32mif\u001b[0m \u001b[1;32mnot\u001b[0m \u001b[0mself\u001b[0m\u001b[1;33m.\u001b[0m\u001b[0mfixed_width\u001b[0m\u001b[1;33m:\u001b[0m\u001b[1;33m\u001b[0m\u001b[0m\n",
      "\u001b[1;32mC:\\Users\\Adam Green\\Anaconda2\\lib\\site-packages\\pandas\\formats\\format.pyc\u001b[0m in \u001b[0;36mformat_values_with\u001b[1;34m(float_format)\u001b[0m\n\u001b[0;32m   2155\u001b[0m             \u001b[0mimask\u001b[0m \u001b[1;33m=\u001b[0m \u001b[1;33m(\u001b[0m\u001b[1;33m~\u001b[0m\u001b[0mmask\u001b[0m\u001b[1;33m)\u001b[0m\u001b[1;33m.\u001b[0m\u001b[0mravel\u001b[0m\u001b[1;33m(\u001b[0m\u001b[1;33m)\u001b[0m\u001b[1;33m\u001b[0m\u001b[0m\n\u001b[0;32m   2156\u001b[0m             values.flat[imask] = np.array([formatter(val)\n\u001b[1;32m-> 2157\u001b[1;33m                                            for val in values.ravel()[imask]])\n\u001b[0m\u001b[0;32m   2158\u001b[0m \u001b[1;33m\u001b[0m\u001b[0m\n\u001b[0;32m   2159\u001b[0m             \u001b[1;32mif\u001b[0m \u001b[0mself\u001b[0m\u001b[1;33m.\u001b[0m\u001b[0mfixed_width\u001b[0m\u001b[1;33m:\u001b[0m\u001b[1;33m\u001b[0m\u001b[0m\n",
      "\u001b[1;32mC:\\Users\\Adam Green\\Anaconda2\\lib\\site-packages\\pandas\\formats\\format.pyc\u001b[0m in \u001b[0;36mbase_formatter\u001b[1;34m(v)\u001b[0m\n\u001b[0;32m   2105\u001b[0m                 \u001b[1;32mreturn\u001b[0m \u001b[1;33m(\u001b[0m\u001b[0mfloat_format\u001b[0m \u001b[1;33m%\u001b[0m \u001b[0mv\u001b[0m\u001b[1;33m)\u001b[0m \u001b[1;32mif\u001b[0m \u001b[0mnotnull\u001b[0m\u001b[1;33m(\u001b[0m\u001b[0mv\u001b[0m\u001b[1;33m)\u001b[0m \u001b[1;32melse\u001b[0m \u001b[0mself\u001b[0m\u001b[1;33m.\u001b[0m\u001b[0mna_rep\u001b[0m\u001b[1;33m\u001b[0m\u001b[0m\n\u001b[0;32m   2106\u001b[0m         \u001b[1;32melse\u001b[0m\u001b[1;33m:\u001b[0m\u001b[1;33m\u001b[0m\u001b[0m\n\u001b[1;32m-> 2107\u001b[1;33m             \u001b[1;32mdef\u001b[0m \u001b[0mbase_formatter\u001b[0m\u001b[1;33m(\u001b[0m\u001b[0mv\u001b[0m\u001b[1;33m)\u001b[0m\u001b[1;33m:\u001b[0m\u001b[1;33m\u001b[0m\u001b[0m\n\u001b[0m\u001b[0;32m   2108\u001b[0m                 \u001b[1;32mreturn\u001b[0m \u001b[0mstr\u001b[0m\u001b[1;33m(\u001b[0m\u001b[0mv\u001b[0m\u001b[1;33m)\u001b[0m \u001b[1;32mif\u001b[0m \u001b[0mnotnull\u001b[0m\u001b[1;33m(\u001b[0m\u001b[0mv\u001b[0m\u001b[1;33m)\u001b[0m \u001b[1;32melse\u001b[0m \u001b[0mself\u001b[0m\u001b[1;33m.\u001b[0m\u001b[0mna_rep\u001b[0m\u001b[1;33m\u001b[0m\u001b[0m\n\u001b[0;32m   2109\u001b[0m \u001b[1;33m\u001b[0m\u001b[0m\n",
      "\u001b[1;31mKeyboardInterrupt\u001b[0m: "
     ]
    }
   ],
   "source": [
    "dataIn = pd.read_csv('[PandaDF].csv', sep = ',')\n",
    "dataIn.to_csv('[PandaDF_copy].csv', sep = ',')\n",
    "\n",
    "loopRange = xrange(0,len(dataIn['Counter']))\n",
    "\n",
    "\n",
    "# fiveRange = range(0,5)\n",
    "finishedCounter = 0\n",
    "for index in loopRange:\n",
    "    testValue = dataIn.loc[index, 'Calculation']\n",
    "#     print testValue\n",
    "    if (testValue == 'None'):\n",
    "        \n",
    "        # initialize parameters\n",
    "        epsilonTemp1 = dataIn.loc[index, 'Epsilon']\n",
    "        mATemp1 = dataIn.loc[index, 'mA']\n",
    "\n",
    "        #Calculation things\n",
    "        calculation = epsilonTemp1 + mATemp1\n",
    "        \n",
    "        dataIn.set_value(index, 'Calculation', calculation)\n",
    "        dataIn.to_csv('[PandaDF_copy].csv', sep=',',index=False)\n",
    "        \n",
    "    if (finishedCounter == len(dataIn['Counter'])):\n",
    "        print 'All Calculations Complete: Data grid completely evaluated'\n",
    "        break\n",
    "        \n",
    "    elif (testValue != 'None'):\n",
    "        finishedCounter += 1\n",
    "        continue\n",
    "        \n",
    "    dataIn.to_csv('[PandaDF_copy].csv', sep=',',index=False)\n",
    "\n",
    "\n",
    "\n",
    "print 'Complete'"
   ]
  },
  {
   "cell_type": "code",
   "execution_count": 7,
   "metadata": {
    "collapsed": false
   },
   "outputs": [
    {
     "name": "stdout",
     "output_type": "stream",
     "text": [
      "Complete\n"
     ]
    }
   ],
   "source": [
    "dataIn.to_csv('[PandaDF_copy].csv', sep=',',index=False)\n",
    "dataIn.to_csv('[PandaDF].csv', sep=',',index=False)\n",
    "\n",
    "print 'Complete'"
   ]
  },
  {
   "cell_type": "markdown",
   "metadata": {},
   "source": [
    "### Sanity Checks"
   ]
  },
  {
   "cell_type": "code",
   "execution_count": 22,
   "metadata": {
    "collapsed": false
   },
   "outputs": [
    {
     "name": "stdout",
     "output_type": "stream",
     "text": [
      "      Counter  Epsilon         mA         Calculation\n",
      "0           0     11.0   1.000000                12.0\n",
      "1           1     11.0   1.090909  12.090909090909999\n",
      "2           2     11.0   1.181818  12.181818181820001\n",
      "3           3     11.0   1.272727      12.27272727273\n",
      "4           4     11.0   1.363636      12.36363636364\n",
      "5           5     11.0   1.454545  12.454545454550001\n",
      "6           6     11.0   1.545455  12.545454545449999\n",
      "7           7     11.0   1.636364      12.63636363636\n",
      "8           8     11.0   1.727273      12.72727272727\n",
      "9           9     11.0   1.818182  12.818181818179999\n",
      "10         10     11.0   1.909091  12.909090909090001\n",
      "11         11     11.0   2.000000                13.0\n",
      "12         12     11.0   2.090909  13.090909090909999\n",
      "13         13     11.0   2.181818  13.181818181820001\n",
      "14         14     11.0   2.272727      13.27272727273\n",
      "15         15     11.0   2.363636  13.363636363640001\n",
      "16         16     11.0   2.454545  13.454545454550001\n",
      "17         17     11.0   2.545455  13.545454545449999\n",
      "18         18     11.0   2.636364  13.636363636359999\n",
      "19         19     11.0   2.727273      13.72727272727\n",
      "20         20     11.0   2.818182  13.818181818180001\n",
      "21         21     11.0   2.909091  13.909090909090001\n",
      "22         22     11.0   3.000000                14.0\n",
      "23         23     11.0   3.090909  14.090909090909999\n",
      "24         24     11.0   3.181818  14.181818181819999\n",
      "25         25     11.0   3.272727      14.27272727273\n",
      "26         26     11.0   3.363636  14.363636363640001\n",
      "27         27     11.0   3.454545  14.454545454550001\n",
      "28         28     11.0   3.545455  14.545454545449999\n",
      "29         29     11.0   3.636364  14.636363636359999\n",
      "...       ...      ...        ...                 ...\n",
      "9970     9970     20.0   7.363636                None\n",
      "9971     9971     20.0   7.454545                None\n",
      "9972     9972     20.0   7.545455                None\n",
      "9973     9973     20.0   7.636364                None\n",
      "9974     9974     20.0   7.727273                None\n",
      "9975     9975     20.0   7.818182                None\n",
      "9976     9976     20.0   7.909091                None\n",
      "9977     9977     20.0   8.000000                None\n",
      "9978     9978     20.0   8.090909                None\n",
      "9979     9979     20.0   8.181818                None\n",
      "9980     9980     20.0   8.272727                None\n",
      "9981     9981     20.0   8.363636                None\n",
      "9982     9982     20.0   8.454545                None\n",
      "9983     9983     20.0   8.545455                None\n",
      "9984     9984     20.0   8.636364                None\n",
      "9985     9985     20.0   8.727273                None\n",
      "9986     9986     20.0   8.818182                None\n",
      "9987     9987     20.0   8.909091                None\n",
      "9988     9988     20.0   9.000000                None\n",
      "9989     9989     20.0   9.090909                None\n",
      "9990     9990     20.0   9.181818                None\n",
      "9991     9991     20.0   9.272727                None\n",
      "9992     9992     20.0   9.363636                None\n",
      "9993     9993     20.0   9.454545                None\n",
      "9994     9994     20.0   9.545455                None\n",
      "9995     9995     20.0   9.636364                None\n",
      "9996     9996     20.0   9.727273                None\n",
      "9997     9997     20.0   9.818182                None\n",
      "9998     9998     20.0   9.909091                None\n",
      "9999     9999     20.0  10.000000                None\n",
      "\n",
      "[10000 rows x 4 columns]\n",
      "      Counter  Epsilon         mA         Calculation\n",
      "0           0     11.0   1.000000                12.0\n",
      "1           1     11.0   1.090909  12.090909090909999\n",
      "2           2     11.0   1.181818  12.181818181820001\n",
      "3           3     11.0   1.272727      12.27272727273\n",
      "4           4     11.0   1.363636      12.36363636364\n",
      "5           5     11.0   1.454545  12.454545454550001\n",
      "6           6     11.0   1.545455  12.545454545449999\n",
      "7           7     11.0   1.636364      12.63636363636\n",
      "8           8     11.0   1.727273      12.72727272727\n",
      "9           9     11.0   1.818182  12.818181818179999\n",
      "10         10     11.0   1.909091  12.909090909090001\n",
      "11         11     11.0   2.000000                13.0\n",
      "12         12     11.0   2.090909  13.090909090909999\n",
      "13         13     11.0   2.181818  13.181818181820001\n",
      "14         14     11.0   2.272727      13.27272727273\n",
      "15         15     11.0   2.363636  13.363636363640001\n",
      "16         16     11.0   2.454545  13.454545454550001\n",
      "17         17     11.0   2.545455  13.545454545449999\n",
      "18         18     11.0   2.636364  13.636363636359999\n",
      "19         19     11.0   2.727273      13.72727272727\n",
      "20         20     11.0   2.818182  13.818181818180001\n",
      "21         21     11.0   2.909091  13.909090909090001\n",
      "22         22     11.0   3.000000                14.0\n",
      "23         23     11.0   3.090909  14.090909090909999\n",
      "24         24     11.0   3.181818  14.181818181819999\n",
      "25         25     11.0   3.272727      14.27272727273\n",
      "26         26     11.0   3.363636  14.363636363640001\n",
      "27         27     11.0   3.454545  14.454545454550001\n",
      "28         28     11.0   3.545455  14.545454545449999\n",
      "29         29     11.0   3.636364  14.636363636359999\n",
      "...       ...      ...        ...                 ...\n",
      "9970     9970     20.0   7.363636                None\n",
      "9971     9971     20.0   7.454545                None\n",
      "9972     9972     20.0   7.545455                None\n",
      "9973     9973     20.0   7.636364                None\n",
      "9974     9974     20.0   7.727273                None\n",
      "9975     9975     20.0   7.818182                None\n",
      "9976     9976     20.0   7.909091                None\n",
      "9977     9977     20.0   8.000000                None\n",
      "9978     9978     20.0   8.090909                None\n",
      "9979     9979     20.0   8.181818                None\n",
      "9980     9980     20.0   8.272727                None\n",
      "9981     9981     20.0   8.363636                None\n",
      "9982     9982     20.0   8.454545                None\n",
      "9983     9983     20.0   8.545455                None\n",
      "9984     9984     20.0   8.636364                None\n",
      "9985     9985     20.0   8.727273                None\n",
      "9986     9986     20.0   8.818182                None\n",
      "9987     9987     20.0   8.909091                None\n",
      "9988     9988     20.0   9.000000                None\n",
      "9989     9989     20.0   9.090909                None\n",
      "9990     9990     20.0   9.181818                None\n",
      "9991     9991     20.0   9.272727                None\n",
      "9992     9992     20.0   9.363636                None\n",
      "9993     9993     20.0   9.454545                None\n",
      "9994     9994     20.0   9.545455                None\n",
      "9995     9995     20.0   9.636364                None\n",
      "9996     9996     20.0   9.727273                None\n",
      "9997     9997     20.0   9.818182                None\n",
      "9998     9998     20.0   9.909091                None\n",
      "9999     9999     20.0  10.000000                None\n",
      "\n",
      "[10000 rows x 4 columns]\n",
      "Complete\n"
     ]
    }
   ],
   "source": [
    "dataIn1 = pd.read_csv('[PandaDF].csv', sep=',')\n",
    "dataIn2 = pd.read_csv('[PandaDF_copy].csv', sep=',')\n",
    "print dataIn1\n",
    "print dataIn2\n",
    "print 'Complete'\n",
    "\n"
   ]
  },
  {
   "cell_type": "markdown",
   "metadata": {},
   "source": [
    "### Scan for Finish"
   ]
  },
  {
   "cell_type": "code",
   "execution_count": 364,
   "metadata": {
    "collapsed": false
   },
   "outputs": [
    {
     "name": "stdout",
     "output_type": "stream",
     "text": [
      "Last entry is [loopCounter, mA, epsilon, Calculation] = [0, 1.000000, 11.000000, 12.000000]\n",
      "Complete\n"
     ]
    }
   ],
   "source": [
    "def finishScan(csvFile):\n",
    "    inputData = pd.read_csv(csvFile, sep=',')\n",
    "    \n",
    "    scanRange = xrange(0,len(inputData['Calculation']))\n",
    "    finishCounter = 0\n",
    "    targetCount = len(inputData['Calculation'])\n",
    "    for index in scanRange:\n",
    "        if (inputData.loc[index, 'Calculation'] != 'None'):\n",
    "            finishCounter +=1\n",
    "\n",
    "    \n",
    "        if (finishCounter != targetCount):\n",
    "            loop = inputData.loc[index, 'Counter']\n",
    "            mA = inputData.loc[index, 'mA']\n",
    "            epsilon = inputData.loc[index, 'Epsilon']\n",
    "            value = inputData.loc[index, 'Calculation']\n",
    "            print \"Last entry is [loopCounter, mA, epsilon, Calculation] = [%i, %f, %f, %f]\" % (loop, mA, epsilon, value)\n",
    "            break\n",
    "    \n",
    "        elif (finishCounter == targetCount):\n",
    "            print \"Full Calculation finish: Parameter space calculated\"\n",
    "            break\n",
    "    \n",
    "    \n",
    "finishScan('[PandaDF].csv')\n",
    "print 'Complete'    "
   ]
  },
  {
   "cell_type": "code",
   "execution_count": null,
   "metadata": {
    "collapsed": true
   },
   "outputs": [],
   "source": []
  },
  {
   "cell_type": "code",
   "execution_count": null,
   "metadata": {
    "collapsed": true
   },
   "outputs": [],
   "source": []
  },
  {
   "cell_type": "code",
   "execution_count": null,
   "metadata": {
    "collapsed": true
   },
   "outputs": [],
   "source": []
  },
  {
   "cell_type": "markdown",
   "metadata": {},
   "source": [
    "### Writing to a CSV"
   ]
  },
  {
   "cell_type": "code",
   "execution_count": 23,
   "metadata": {
    "collapsed": false
   },
   "outputs": [],
   "source": [
    "# def calculation2(x):\n",
    "#     return x+1\n",
    "\n",
    "# with open('[Test1].csv', 'a+'):\n",
    "#     writer = csv.writer(rawdata, delimiter = ',')\n",
    "    \n",
    "#     # Define a loop range and do loop calculations\n",
    "#     for i in range(0,9):\n",
    "#         # Loop parameter = i\n",
    "        \n",
    "#         # Calculation = value\n",
    "#         value = calculation2(i)\n",
    "        \n",
    "#         # You can only write csv's with arrays for some reason\n",
    "#         writethis = [i,value]\n",
    "#         writer.writerow(writethis)\n",
    "        \n",
    "# print 'Complete'"
   ]
  },
  {
   "cell_type": "markdown",
   "metadata": {},
   "source": [
    "### Initialize the Input File\n",
    "This cell:\n",
    "- Creates the csv file: [Test2].csv\n",
    "- Write the headers: loopCounter, m_A, epsilon, tauValue\n",
    "\n",
    "This cell should open the file as \"write\" instead of \"append\" so that if it is accidentally run again after values are input, it doesn't write another header row in the middle of the data."
   ]
  },
  {
   "cell_type": "code",
   "execution_count": 24,
   "metadata": {
    "collapsed": false
   },
   "outputs": [
    {
     "name": "stdout",
     "output_type": "stream",
     "text": [
      "Complete\n"
     ]
    }
   ],
   "source": [
    "#####################################\n",
    "# Create and write Header line via csv module\n",
    "csvfile = open('[Test2].csv', 'w')\n",
    "writer = csv.writer(csvfile, delimiter = ',')\n",
    "headers = ['Date', 'loopCounter', 'm_A', 'epsilon', 'tauValue']\n",
    "writer = csv.DictWriter(csvfile, fieldnames = headers)\n",
    "writer.writeheader()\n",
    "\n",
    "csvfile.close()\n",
    "\n",
    "print 'Complete'"
   ]
  },
  {
   "cell_type": "markdown",
   "metadata": {},
   "source": [
    "### Initialize Array for Loop Continuity\n",
    "The following cell:\n",
    "1. Creates an n-3tupple array of: [counter, epsilon, mA] values for each loop index n\n",
    "2. Populates each 3-tupple with a unique point in the epsilon-mA loop range\n",
    "3. Creates the PANDA dataframe: masterDataFrame which stores:\n",
    " - ALL parameter values (yes all hundreds of them, the entire scan over parameter space)\n",
    " - Null \"Calcaulation\" values\n",
    "\n",
    "Points in this n-3tupple are accesed as follows:\n",
    "- parameterArray [loopIndex] [1 = epsilon, 2 = mA]"
   ]
  },
  {
   "cell_type": "code",
   "execution_count": 27,
   "metadata": {
    "collapsed": false
   },
   "outputs": [
    {
     "name": "stdout",
     "output_type": "stream",
     "text": [
      "Complete\n"
     ]
    }
   ],
   "source": [
    "mARange = np.linspace(1,10,10)\n",
    "epsilonRange = np.linspace(11, 20, 10)\n",
    "parameterArray = []\n",
    "masterArray = []\n",
    "\n",
    "counter = 0\n",
    "for epsilonTemp in epsilonRange:\n",
    "#     TauDictionary.setdefault(epsilonCounter,[])\n",
    "    for mATemp in mARange:\n",
    "        parameterArray.append([counter,epsilonTemp,mATemp])\n",
    "        masterArray.append([counter,epsilonTemp,mATemp,'none'])\n",
    "        counter += 1\n",
    "        \n",
    "# Create the master dataframe\n",
    "masterDataFrame= pd.DataFrame(data = masterArray, columns=['Counter', 'Epsilon', 'mA', 'Calculation'])\n",
    "\n",
    "print 'Complete'"
   ]
  },
  {
   "cell_type": "markdown",
   "metadata": {},
   "source": [
    "### Populate the .csv File\n",
    "This cell:\n",
    "1. Initializes the dictionary \"TauDictionary\"\n",
    "    - TauDictionary is a dictionary of array values\n",
    "    - Each key and corresponding array is generated and populated automatically\n",
    "    - Key values correspond to loopCounter = epsilonCounter\n",
    "    - Array values correspond to Tau at a fixed Epsilon and looping over mA\n",
    "2. Loops over Epsilon values\n",
    "    - Each \"Key\" (and therefor row) in the dictionary is a different Epsilon value\n",
    "3. Loops over mA values\n",
    "    - Array values are populated with the fixed Epsilon value and loop over mA\n",
    "4. Calculates Tau and appends it to the array\n",
    "5. Writes the updated dictionary to [Test2].csv, array-element by array-element"
   ]
  },
  {
   "cell_type": "code",
   "execution_count": 34,
   "metadata": {
    "collapsed": false
   },
   "outputs": [
    {
     "name": "stdout",
     "output_type": "stream",
     "text": [
      "    Counter  Epsilon    mA Calculation\n",
      "0         0     11.0   1.0        none\n",
      "1         1     11.0   2.0        none\n",
      "2         2     11.0   3.0        none\n",
      "3         3     11.0   4.0        none\n",
      "4         4     11.0   5.0        none\n",
      "5         5     11.0   6.0        none\n",
      "6         6     11.0   7.0        none\n",
      "7         7     11.0   8.0        none\n",
      "8         8     11.0   9.0        none\n",
      "9         9     11.0  10.0        none\n",
      "10       10     12.0   1.0        none\n",
      "11       11     12.0   2.0        none\n",
      "12       12     12.0   3.0        none\n",
      "13       13     12.0   4.0        none\n",
      "14       14     12.0   5.0        none\n",
      "15       15     12.0   6.0        none\n",
      "16       16     12.0   7.0        none\n",
      "17       17     12.0   8.0        none\n",
      "18       18     12.0   9.0        none\n",
      "19       19     12.0  10.0        none\n",
      "20       20     13.0   1.0        none\n",
      "21       21     13.0   2.0        none\n",
      "22       22     13.0   3.0        none\n",
      "23       23     13.0   4.0        none\n",
      "24       24     13.0   5.0        none\n",
      "25       25     13.0   6.0        none\n",
      "26       26     13.0   7.0        none\n",
      "27       27     13.0   8.0        none\n",
      "28       28     13.0   9.0        none\n",
      "29       29     13.0  10.0        none\n",
      "..      ...      ...   ...         ...\n",
      "70       70     18.0   1.0        none\n",
      "71       71     18.0   2.0        none\n",
      "72       72     18.0   3.0        none\n",
      "73       73     18.0   4.0        none\n",
      "74       74     18.0   5.0        none\n",
      "75       75     18.0   6.0        none\n",
      "76       76     18.0   7.0        none\n",
      "77       77     18.0   8.0        none\n",
      "78       78     18.0   9.0        none\n",
      "79       79     18.0  10.0        none\n",
      "80       80     19.0   1.0        none\n",
      "81       81     19.0   2.0        none\n",
      "82       82     19.0   3.0        none\n",
      "83       83     19.0   4.0        none\n",
      "84       84     19.0   5.0        none\n",
      "85       85     19.0   6.0        none\n",
      "86       86     19.0   7.0        none\n",
      "87       87     19.0   8.0        none\n",
      "88       88     19.0   9.0        none\n",
      "89       89     19.0  10.0        none\n",
      "90       90     20.0   1.0        none\n",
      "91       91     20.0   2.0        none\n",
      "92       92     20.0   3.0        none\n",
      "93       93     20.0   4.0        none\n",
      "94       94     20.0   5.0        none\n",
      "95       95     20.0   6.0        none\n",
      "96       96     20.0   7.0        none\n",
      "97       97     20.0   8.0        none\n",
      "98       98     20.0   9.0        none\n",
      "99       99     20.0  10.0        none\n",
      "\n",
      "[100 rows x 4 columns]\n",
      "Complete\n"
     ]
    }
   ],
   "source": [
    "csvfile = open('[Test2].csv', 'a')\n",
    "dictWriter = csv.DictWriter(csvfile, fieldnames=headers, delimiter = ',')\n",
    "arrayWriter = csv.writer(csvfile)\n",
    "\n",
    "###########\n",
    "# Read in csv and set loopCounter = maxLoop# stored in csv File\n",
    "###########\n",
    "\n",
    "##########################\n",
    "# I'm now looping over an n-3tupple array\n",
    "# In reality, I don't even need to store these in an array, I can just write the values to the csv file\n",
    "date = '%s: %s' % (time.strftime('%b/%d/20%y'),time.strftime('%H:%M:%S'))\n",
    "arrayWriter.writerow([date,' ', ' ', ' ', ' '])\n",
    "\n",
    "TauArray = []\n",
    "mainLoopRange = range(0,len(parameterArray))\n",
    "subLoopRange = range(0,len(mARange))\n",
    "\n",
    "for i in mainLoopRange:\n",
    "    if i <= 49:\n",
    "        epsilonTemp = parameterArray[i][1]\n",
    "        mATemp = parameterArray[i][2]\n",
    "        tauValue = epsilonTemp+mATemp\n",
    "        TauArray.append(tauValue)\n",
    "        \n",
    "    else:\n",
    "        break\n",
    "\n",
    "    # Write i, epsilonTemp, mA, tauValue to file\n",
    "    arrayWriter.writerow(['.', i, mATemp, epsilonTemp, tauValue])\n",
    "    \n",
    "csvfile.close()\n",
    "\n",
    "\n",
    "\n",
    "########################################\n",
    "# Write masterDataFrame to a .csv\n",
    "masterDataFrame.to_csv('[PandaDF].csv')\n",
    "\n",
    "\n",
    "print 'Complete'"
   ]
  },
  {
   "cell_type": "markdown",
   "metadata": {},
   "source": [
    "At this point the code:\n",
    "- Generates an array of parameter values\n",
    "- Creates the array which stores Tau Values\n",
    "- Populates the Tau Array\n",
    "\n",
    "I still need to:\n",
    "- Read in the last counter value from the csv file\n",
    "- Continue the loop starting at that counter value"
   ]
  },
  {
   "cell_type": "code",
   "execution_count": 28,
   "metadata": {
    "collapsed": true
   },
   "outputs": [],
   "source": [
    "\n",
    "\n",
    "\n",
    "# epsilonCounter = 0\n",
    "# TauDictionary = {}\n",
    "# for epsilonTemp in epsilonRange:\n",
    "#     TauDictionary.setdefault(epsilonCounter,[])\n",
    "#     epsilonCounter += 1\n",
    "#     for mATemp in mARange:\n",
    "#     #         Capture = CCap(100.,mATemp,epsilonTemp,1./137,0.035)\n",
    "#     #         Annihilation = CAnn(100.,mATemp,1./137,0.035)\n",
    "#     #         tauValue = 1./np.sqrt(Capture*Annihilation)\n",
    "#         if epsilonCounter >= 5:\n",
    "#             break\n",
    "#         else:\n",
    "#             tauValue = mATemp\n",
    "#             TauDictionary[epsilonCounter-1].append(tauValue)\n",
    "#             dictWriter.writerow({'loopCounter': epsilonCounter, \n",
    "#                                  'm_A': mATemp, \n",
    "#                                  'epsilon': epsilonTemp,\n",
    "#                                  'tauValue': tauValue})\n",
    "#     #         TauDictionary[epsilonCounter-1].append(tauValue)\n"
   ]
  },
  {
   "cell_type": "markdown",
   "metadata": {},
   "source": [
    "The problem is that for some dumbass reason, \"writerow\" writes a list of numbers as strings, and I can't access them properly as strings. What the actual fuck is the point of that?\n",
    "\n",
    "I could get around this using pandas: https://chrisalbon.com/python/pandas_saving_dataframe_as_csv.html\n",
    "\n",
    "which uses the whole dictionary idea like before sorta"
   ]
  },
  {
   "cell_type": "markdown",
   "metadata": {},
   "source": [
    "### Read-in and calculate Values"
   ]
  },
  {
   "cell_type": "code",
   "execution_count": 45,
   "metadata": {
    "collapsed": false
   },
   "outputs": [
    {
     "name": "stderr",
     "output_type": "stream",
     "text": [
      "C:\\Users\\Adam Green\\Anaconda2\\lib\\site-packages\\ipykernel\\__main__.py:30: SettingWithCopyWarning: \n",
      "A value is trying to be set on a copy of a slice from a DataFrame\n",
      "\n",
      "See the caveats in the documentation: http://pandas.pydata.org/pandas-docs/stable/indexing.html#indexing-view-versus-copy\n"
     ]
    },
    {
     "name": "stdout",
     "output_type": "stream",
     "text": [
      "Complete\n"
     ]
    }
   ],
   "source": [
    "csvfile = open('[Test2].csv', 'a+')\n",
    "rowreader = csv.reader(csvfile)\n",
    "\n",
    "\n",
    "# counter = 0\n",
    "# for row in rowreader:\n",
    "# #     print row[1]\n",
    "#     value = literal_eval(row[1])\n",
    "# #     indexvalues.append((row[1]))\n",
    "#     print value\n",
    "    \n",
    "    \n",
    "    \n",
    "csvfile.close()\n",
    "    \n",
    "    \n",
    "    \n",
    "############################  \n",
    "# Attemp with Pandas\n",
    "\n",
    "\n",
    "dataIn = pd.read_csv('[PandaDF].csv', sep = ',')\n",
    "loopRange = range(0,len(dataIn['Counter']))\n",
    "for index in loopRange:\n",
    "    # initialize parameters\n",
    "    epsilonTemp1 = dataIn['Epsilon'][index]\n",
    "    mATemp1 = dataIn['mA'][index]\n",
    "    \n",
    "    calculation = epsilonTemp1 + mATemp1\n",
    "    dataIn['Calculation'][index] = calculation\n",
    "    dataIn.to_csv('[PandaDF].csv', sep=',')\n",
    "\n",
    "\n",
    "       \n",
    "    \n",
    "\n",
    "print 'Complete'"
   ]
  },
  {
   "cell_type": "code",
   "execution_count": null,
   "metadata": {
    "collapsed": false
   },
   "outputs": [],
   "source": []
  },
  {
   "cell_type": "markdown",
   "metadata": {},
   "source": [
    "### Reading a CSV"
   ]
  },
  {
   "cell_type": "code",
   "execution_count": 39,
   "metadata": {
    "collapsed": false
   },
   "outputs": [
    {
     "name": "stdout",
     "output_type": "stream",
     "text": [
      "{'Row1': ['1', '2', '3', '4', '5', '6', '7', '8', '9'], 'Row2': ['1', '2', '3', '4', '5', '6', '7', '8', '9']}\n",
      "Complete\n"
     ]
    }
   ],
   "source": [
    "csvDictionary={\n",
    "    'Row1': [],\n",
    "    'Row2': [],\n",
    "}\n",
    "\n",
    "with open('[Debug].csv', 'rb') as csvfile:\n",
    "    reader = csv.reader(csvfile)\n",
    "    for row in reader:\n",
    "        for key in csvDictionary:\n",
    "            csvDictionary[key].append(row[1])\n",
    "    \n",
    "print csvDictionary    \n",
    "    \n",
    "print 'Complete'    "
   ]
  },
  {
   "cell_type": "code",
   "execution_count": null,
   "metadata": {
    "collapsed": true
   },
   "outputs": [],
   "source": []
  },
  {
   "cell_type": "code",
   "execution_count": 19,
   "metadata": {
    "collapsed": false
   },
   "outputs": [
    {
     "name": "stdout",
     "output_type": "stream",
     "text": [
      "ag.fa\n",
      "ag_copy.fa\n",
      "Complete\n"
     ]
    }
   ],
   "source": [
    "filename = raw_input()\n",
    "\n",
    "index = filename.find('.')\n",
    "filenamecopy = filename[:index] + '_copy' + filename[index:]\n",
    "\n",
    "print filenamecopy\n",
    "\n",
    "# masterDataFrame.to_csv(filename, index=False)\n",
    "\n",
    "# print filenamecopy\n",
    "print 'Complete'"
   ]
  },
  {
   "cell_type": "code",
   "execution_count": null,
   "metadata": {
    "collapsed": true
   },
   "outputs": [],
   "source": []
  },
  {
   "cell_type": "code",
   "execution_count": null,
   "metadata": {
    "collapsed": true
   },
   "outputs": [],
   "source": []
  }
 ],
 "metadata": {
  "anaconda-cloud": {},
  "kernelspec": {
   "display_name": "Python [Root]",
   "language": "python",
   "name": "Python [Root]"
  },
  "language_info": {
   "codemirror_mode": {
    "name": "ipython",
    "version": 2
   },
   "file_extension": ".py",
   "mimetype": "text/x-python",
   "name": "python",
   "nbconvert_exporter": "python",
   "pygments_lexer": "ipython2",
   "version": "2.7.12"
  }
 },
 "nbformat": 4,
 "nbformat_minor": 0
}
