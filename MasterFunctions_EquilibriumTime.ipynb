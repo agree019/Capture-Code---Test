{
 "cells": [
  {
   "cell_type": "markdown",
   "metadata": {},
   "source": [
    "# MasterFunctions_EquilibriumTime"
   ]
  },
  {
   "cell_type": "markdown",
   "metadata": {
    "heading_collapsed": true
   },
   "source": [
    "## Initialize Notebook"
   ]
  },
  {
   "cell_type": "code",
   "execution_count": null,
   "metadata": {
    "ExecuteTime": {
     "end_time": "2018-03-27T17:31:53.197000Z",
     "start_time": "2018-03-27T17:31:53.079724Z"
    },
    "collapsed": true,
    "hidden": true
   },
   "outputs": [],
   "source": [
    "from MasterFunctions_ModelData import *"
   ]
  },
  {
   "cell_type": "markdown",
   "metadata": {},
   "source": [
    "# Function Definitions"
   ]
  },
  {
   "cell_type": "markdown",
   "metadata": {},
   "source": [
    "### Photon $\\varepsilon(m_A)$ Function"
   ]
  },
  {
   "cell_type": "markdown",
   "metadata": {},
   "source": [
    "This function is the result of the small recoil energy approximation which allows us to treat the capture rate as a one dimensional function of mediator mass $m_A$ for a fixed dark matter mass $m_X$."
   ]
  },
  {
   "cell_type": "code",
   "execution_count": 1,
   "metadata": {
    "ExecuteTime": {
     "end_time": "2018-03-27T20:38:45.604497Z",
     "start_time": "2018-03-27T20:38:45.593474Z"
    },
    "collapsed": true
   },
   "outputs": [],
   "source": [
    "def EpsilonFuncMA(m_A, alpha_X, Cann0, Sommerfeld, kappa0, contourLevel):\n",
    "    '''\n",
    "    EpsilonFuncMA(m_A, alpha_X, Cann, Sommerfeld, kappa0, contourLevel) returns the value of Epsilon\n",
    "    given those parameters. This equation is the result of the small recoil energy approximation which\n",
    "    allows us to write the Capture rate as a simple analytic function of m_A and epsilon.\n",
    "    \n",
    "    Note: The 10^n contour is input as contourLevel = n\n",
    "    '''\n",
    "    function = 2 * np.log10(m_A) - (0.5)*np.log10(alpha_X * kappa0 * Cann0 * Sommerfeld) \\\n",
    "                - contourLevel - np.log10(tauCross)\n",
    "    return function"
   ]
  },
  {
   "cell_type": "markdown",
   "metadata": {
    "collapsed": true,
    "heading_collapsed": true
   },
   "source": [
    "### (INCOMPLETE) Higgs $y(m_\\varphi)$ Function"
   ]
  },
  {
   "cell_type": "markdown",
   "metadata": {
    "hidden": true
   },
   "source": [
    "This function is the result of blah blah blah..."
   ]
  },
  {
   "cell_type": "code",
   "execution_count": null,
   "metadata": {
    "collapsed": true,
    "hidden": true
   },
   "outputs": [],
   "source": [
    "# def higgsCouplingFuncMPhi(m_phi, alpha_X, Cann0, Sommerfeld, kappa0, contourLevel):\n",
    "#     function = 4 * np.log10(m_phi) - np.log10(Cann0 * Sommerfeld)\\\n",
    "#                 - 2 * contourLevel - 2 * np.log10(tauCross) - np.log10(alpha_X*kappa0)\n",
    "    \n",
    "#     return function"
   ]
  },
  {
   "cell_type": "markdown",
   "metadata": {
    "heading_collapsed": true
   },
   "source": [
    "## Notebook Imported Message"
   ]
  },
  {
   "cell_type": "code",
   "execution_count": null,
   "metadata": {
    "collapsed": true,
    "hidden": true
   },
   "outputs": [],
   "source": [
    "print ('------ MasterFunctions_EquilibriumTime Imported ------')"
   ]
  }
 ],
 "metadata": {
  "kernelspec": {
   "display_name": "Python 3",
   "language": "python",
   "name": "python3"
  },
  "language_info": {
   "codemirror_mode": {
    "name": "ipython",
    "version": 3
   },
   "file_extension": ".py",
   "mimetype": "text/x-python",
   "name": "python",
   "nbconvert_exporter": "python",
   "pygments_lexer": "ipython3",
   "version": "3.6.2"
  },
  "latex_envs": {
   "LaTeX_envs_menu_present": true,
   "autocomplete": false,
   "bibliofile": "biblio.bib",
   "cite_by": "apalike",
   "current_citInitial": 1,
   "eqLabelWithNumbers": true,
   "eqNumInitial": 1,
   "hotkeys": {
    "equation": "Ctrl-E",
    "itemize": "Ctrl-I"
   },
   "labels_anchors": false,
   "latex_user_defs": false,
   "report_style_numbering": false,
   "user_envs_cfg": false
  }
 },
 "nbformat": 4,
 "nbformat_minor": 2
}
