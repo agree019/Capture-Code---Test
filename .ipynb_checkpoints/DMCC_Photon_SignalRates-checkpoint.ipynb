{
 "cells": [
  {
   "cell_type": "markdown",
   "metadata": {},
   "source": [
    "# Photon Signal Rate Plots"
   ]
  },
  {
   "cell_type": "markdown",
   "metadata": {},
   "source": [
    "This notebook outputs the reach plots in $\\varepsilon - m_A$ space for IceCube.\n",
    "\n",
    "Upon running this notebook the first time, run each cell sequentially. If however, you have started a calculation and now wish to continue where you left off, begin at the \"External File Interpolations\" cell and continue onward."
   ]
  },
  {
   "cell_type": "markdown",
   "metadata": {},
   "source": [
    "## Import Notebook as module"
   ]
  },
  {
   "cell_type": "code",
   "execution_count": 1,
   "metadata": {
    "ExecuteTime": {
     "end_time": "2018-04-01T23:29:31.960584Z",
     "start_time": "2018-04-01T23:29:31.264408Z"
    }
   },
   "outputs": [
    {
     "name": "stdout",
     "output_type": "stream",
     "text": [
      "Complete\n"
     ]
    }
   ],
   "source": [
    "import io, os, sys, types\n",
    "\n",
    "from IPython import get_ipython\n",
    "from nbformat import read\n",
    "from IPython.core.interactiveshell import InteractiveShell\n",
    "\n",
    "def find_notebook(fullname, path=None):\n",
    "    \"\"\"find a notebook, given its fully qualified name and an optional path\n",
    "\n",
    "    This turns \"foo.bar\" into \"foo/bar.ipynb\"\n",
    "    and tries turning \"Foo_Bar\" into \"Foo Bar\" if Foo_Bar\n",
    "    does not exist.\n",
    "    \"\"\"\n",
    "    name = fullname.rsplit('.', 1)[-1]\n",
    "    if not path:\n",
    "        path = ['']\n",
    "    for d in path:\n",
    "        nb_path = os.path.join(d, name + \".ipynb\")\n",
    "        if os.path.isfile(nb_path):\n",
    "            return nb_path\n",
    "        # let import Notebook_Name find \"Notebook Name.ipynb\"\n",
    "        nb_path = nb_path.replace(\"_\", \" \")\n",
    "        if os.path.isfile(nb_path):\n",
    "            return nb_path\n",
    "        \n",
    "class NotebookLoader(object):\n",
    "    \"\"\"Module Loader for Jupyter Notebooks\"\"\"\n",
    "    def __init__(self, path=None):\n",
    "        self.shell = InteractiveShell.instance()\n",
    "        self.path = path\n",
    "\n",
    "    def load_module(self, fullname):\n",
    "        \"\"\"import a notebook as a module\"\"\"\n",
    "        path = find_notebook(fullname, self.path)\n",
    "\n",
    "        print (\"importing Jupyter notebook from %s\" % path)\n",
    "\n",
    "        # load the notebook object\n",
    "        with io.open(path, 'r', encoding='utf-8') as f:\n",
    "            nb = read(f, 4)\n",
    "\n",
    "\n",
    "        # create the module and add it to sys.modules\n",
    "        # if name in sys.modules:\n",
    "        #    return sys.modules[name]\n",
    "        mod = types.ModuleType(fullname)\n",
    "        mod.__file__ = path\n",
    "        mod.__loader__ = self\n",
    "        mod.__dict__['get_ipython'] = get_ipython\n",
    "        sys.modules[fullname] = mod\n",
    "\n",
    "        # extra work to ensure that magics that would affect the user_ns\n",
    "        # actually affect the notebook module's ns\n",
    "        save_user_ns = self.shell.user_ns\n",
    "        self.shell.user_ns = mod.__dict__\n",
    "\n",
    "        try:\n",
    "            for cell in nb.cells:\n",
    "                if cell.cell_type == 'code':\n",
    "                    # transform the input to executable Python\n",
    "                    code = self.shell.input_transformer_manager.transform_cell(cell.source)\n",
    "                    # run the code in themodule\n",
    "                    exec(code, mod.__dict__)\n",
    "        finally:\n",
    "            self.shell.user_ns = save_user_ns\n",
    "        return mod\n",
    "\n",
    "    \n",
    "class NotebookFinder(object):\n",
    "    \"\"\"Module finder that locates Jupyter Notebooks\"\"\"\n",
    "    def __init__(self):\n",
    "        self.loaders = {}\n",
    "\n",
    "    def find_module(self, fullname, path=None):\n",
    "        nb_path = find_notebook(fullname, path)\n",
    "        if not nb_path:\n",
    "            return\n",
    "\n",
    "        key = path\n",
    "        if path:\n",
    "            # lists aren't hashable\n",
    "            key = os.path.sep.join(path)\n",
    "\n",
    "        if key not in self.loaders:\n",
    "            self.loaders[key] = NotebookLoader(path)\n",
    "        return self.loaders[key]\n",
    "    \n",
    "sys.meta_path.append(NotebookFinder())\n",
    "\n",
    "print ('Complete')"
   ]
  },
  {
   "cell_type": "code",
   "execution_count": 2,
   "metadata": {
    "ExecuteTime": {
     "end_time": "2018-04-01T23:29:58.186700Z",
     "start_time": "2018-04-01T23:29:33.131695Z"
    }
   },
   "outputs": [
    {
     "name": "stdout",
     "output_type": "stream",
     "text": [
      "importing Jupyter notebook from MasterFunctions_SignalRates.ipynb\n",
      "importing Jupyter notebook from MasterFunctions_Capture.ipynb\n",
      "importing Jupyter notebook from MasterFunctions_ModelData.ipynb\n",
      "------ MasterFunctions_ModelData Imported ------\n",
      "------ MasterFunctions_Capture Imported ------\n",
      "importing Jupyter notebook from MasterFunctions_Annihilation.ipynb\n",
      "------ MasterFunctions_Annihilation Imported ------\n",
      "------ MasterFunctions_SignalRates Imported ------\n",
      "importing Jupyter notebook from MasterFunctions_Graphing.ipynb\n",
      "------ MasterFunctions_Graphing Loaded ------\n",
      "\n",
      "All Notebooks Imported\n"
     ]
    }
   ],
   "source": [
    "from MasterFunctions_SignalRates import *\n",
    "from MasterFunctions_Graphing import*\n",
    "\n",
    "print ()\n",
    "print ('All Notebooks Imported')"
   ]
  },
  {
   "cell_type": "markdown",
   "metadata": {},
   "source": [
    "# Signal Rate"
   ]
  },
  {
   "cell_type": "markdown",
   "metadata": {},
   "source": [
    "\n",
    "Recall the solution to the differential equation:\n",
    "\\begin{equation}\n",
    "\\frac{dN_X}{dt} = C_{cap} - N_X^2 C_{ann}\n",
    "\\end{equation}\n",
    "\n",
    "is given by:\n",
    "\n",
    "\\begin{equation}\n",
    "\\Gamma_{ann} = \\frac{1}{2} C_{cap}\\tanh^2 \\left( \\frac{\\tau_{\\oplus}}{\\tau} \\right)\n",
    "\\end{equation}\n",
    "\n",
    "more stuff about the signal rate"
   ]
  },
  {
   "cell_type": "markdown",
   "metadata": {},
   "source": [
    "-------------"
   ]
  },
  {
   "cell_type": "markdown",
   "metadata": {},
   "source": [
    "# Generate the Signal Data File"
   ]
  },
  {
   "cell_type": "markdown",
   "metadata": {},
   "source": [
    "## Recipie"
   ]
  },
  {
   "cell_type": "markdown",
   "metadata": {},
   "source": [
    "The recipie for generating the Signal File is:\n",
    "\n",
    "1). Read in and interpolate a Sommerfeld file and Branching Ratio file\n",
    " \n",
    "2). Initialize a template dataframe to hold the calculated signal rate data\n",
    "\n",
    "3). Write that dataframe to an external .csv file (signalData.csv)\n",
    "\n",
    "4). Append values from the Sommerfeld and Branching Ratio file to signalData.csv\n",
    "\n",
    "5). Loop through signalData.csv, calculate $C_{Cap}$, $C_{Ann}$, $\\Gamma_{Ann}$, and $N_{Sig}$, append them to signalData.csv\n",
    "\n",
    "Step five can be quite lengthy depending on the desired resolution of the data points. Typically, one would begin these calculations and be forced to wait until they are completed in their entirety; perhaps unable to shut down their machine for hours at a time. The cell \"Signal File Calculations\" however can be interrupted at any time, and resumed later. This allows the user to run the calculation in multiple stages instead of dedicating a large chunk of time and running the calculation all at once. \n",
    "The calculation can be stopped by interrupting the Jupyter Kernel. Be sure to run the \"Manual Overwrite\" cell just to be sure that the calculations are saved."
   ]
  },
  {
   "cell_type": "markdown",
   "metadata": {},
   "source": [
    "## Initialize External Signal File"
   ]
  },
  {
   "cell_type": "markdown",
   "metadata": {},
   "source": [
    "### Define the Resolution of the Reach (Signal) Plot"
   ]
  },
  {
   "cell_type": "markdown",
   "metadata": {},
   "source": [
    "These cells create the \"grid\" of data points for which $N_{\\text{sig} }$ will be calculated.\n",
    "\n",
    "This cell initializes the resolution of the interpolations for the Sommerfeld enhancement and the reach plot. The variable $\\texttt{num}$ defines the resolution of the grid, so if $\\texttt{num} = 50$, the reach plot will have a $50 \\times 50$ resolution for a total of 2500 calculations. The suggested resolution is \n",
    "\n",
    "    num = 200\n",
    "    \n",
    "A way to understand what this number does: \"The cleaner your Sommerfeld interpolation, the cleaner your reach plots will be.\" Making this number larger will increase the resolution of the interpolation, cleaning up the plots, but it will take longer to calculate. \n",
    "\n",
    "A good rule of thumb: Your reach plot resolution will be determined by the resolution of the Sommerfeld Interpolation"
   ]
  },
  {
   "cell_type": "code",
   "execution_count": 31,
   "metadata": {
    "ExecuteTime": {
     "end_time": "2018-04-01T23:37:41.263973Z",
     "start_time": "2018-04-01T23:37:41.256596Z"
    }
   },
   "outputs": [
    {
     "name": "stdout",
     "output_type": "stream",
     "text": [
      "Complete\n"
     ]
    }
   ],
   "source": [
    "# num = 200\n",
    "num = 200\n",
    "\n",
    "print ('Complete')"
   ]
  },
  {
   "cell_type": "markdown",
   "metadata": {},
   "source": [
    "## External File Interpolations"
   ]
  },
  {
   "cell_type": "markdown",
   "metadata": {},
   "source": [
    "The following cells read in and create interpolations of the:\n",
    "\n",
    "1). Sommerfeld Enhancement\n",
    "\n",
    "2). Branching ratio\n",
    "\n",
    "\n",
    "The file names for both these files will be written to the signalData.csv file. The reasoning behind this is continuity of the calculation. If you run this notebook from top to bottom, you can calculate everything in one go. However, if you interrup the main calculation cell and restart your computer, all of the vairables we have loaded into Jupyter memroy get wiped. Writing these file names into the signalData.csv file means that to resume the calculation, you only need to run the main calculation cell as opposed to loading variables into Jupyter memory before starting the main calculation"
   ]
  },
  {
   "cell_type": "markdown",
   "metadata": {},
   "source": [
    "### Sommerfeld Data Interpolation"
   ]
  },
  {
   "cell_type": "markdown",
   "metadata": {},
   "source": [
    "This interpolation only serves to give you an idea of the resolution of the reach plot. We will read this in and interpolate it again later in the actual calulation. \n",
    "\n",
    "Implement some sort of separate plot of the original sommerfeld data so we can compare the interpolated value using num with the original graph"
   ]
  },
  {
   "cell_type": "code",
   "execution_count": 34,
   "metadata": {
    "ExecuteTime": {
     "end_time": "2018-04-02T01:08:47.434803Z",
     "start_time": "2018-04-02T01:08:36.801829Z"
    }
   },
   "outputs": [
    {
     "name": "stdout",
     "output_type": "stream",
     "text": [
      "Sommerfeld File: \n"
     ]
    },
    {
     "ename": "OSError",
     "evalue": "Initializing from file failed",
     "output_type": "error",
     "traceback": [
      "\u001b[1;31m---------------------------------------------------------------------------\u001b[0m",
      "\u001b[1;31mOSError\u001b[0m                                   Traceback (most recent call last)",
      "\u001b[1;32m<ipython-input-34-60f6fd090277>\u001b[0m in \u001b[0;36m<module>\u001b[1;34m()\u001b[0m\n\u001b[0;32m      3\u001b[0m \u001b[1;31m####################################\u001b[0m\u001b[1;33m\u001b[0m\u001b[1;33m\u001b[0m\u001b[0m\n\u001b[0;32m      4\u001b[0m \u001b[0mSommFileName\u001b[0m \u001b[1;33m=\u001b[0m \u001b[0minput\u001b[0m\u001b[1;33m(\u001b[0m\u001b[1;34m'Sommerfeld File: '\u001b[0m\u001b[1;33m)\u001b[0m\u001b[1;33m\u001b[0m\u001b[0m\n\u001b[1;32m----> 5\u001b[1;33m \u001b[0mSommFile\u001b[0m \u001b[1;33m=\u001b[0m \u001b[0mpd\u001b[0m\u001b[1;33m.\u001b[0m\u001b[0mread_csv\u001b[0m\u001b[1;33m(\u001b[0m\u001b[0mphotonSommerfeldPath\u001b[0m\u001b[1;33m(\u001b[0m\u001b[0mSommFileName\u001b[0m\u001b[1;33m)\u001b[0m\u001b[1;33m)\u001b[0m\u001b[1;33m\u001b[0m\u001b[0m\n\u001b[0m\u001b[0;32m      6\u001b[0m \u001b[1;33m\u001b[0m\u001b[0m\n\u001b[0;32m      7\u001b[0m \u001b[1;31m####################################\u001b[0m\u001b[1;33m\u001b[0m\u001b[1;33m\u001b[0m\u001b[0m\n",
      "\u001b[1;32m~\\Anaconda3\\lib\\site-packages\\pandas\\io\\parsers.py\u001b[0m in \u001b[0;36mparser_f\u001b[1;34m(filepath_or_buffer, sep, delimiter, header, names, index_col, usecols, squeeze, prefix, mangle_dupe_cols, dtype, engine, converters, true_values, false_values, skipinitialspace, skiprows, nrows, na_values, keep_default_na, na_filter, verbose, skip_blank_lines, parse_dates, infer_datetime_format, keep_date_col, date_parser, dayfirst, iterator, chunksize, compression, thousands, decimal, lineterminator, quotechar, quoting, escapechar, comment, encoding, dialect, tupleize_cols, error_bad_lines, warn_bad_lines, skipfooter, skip_footer, doublequote, delim_whitespace, as_recarray, compact_ints, use_unsigned, low_memory, buffer_lines, memory_map, float_precision)\u001b[0m\n\u001b[0;32m    653\u001b[0m                     skip_blank_lines=skip_blank_lines)\n\u001b[0;32m    654\u001b[0m \u001b[1;33m\u001b[0m\u001b[0m\n\u001b[1;32m--> 655\u001b[1;33m         \u001b[1;32mreturn\u001b[0m \u001b[0m_read\u001b[0m\u001b[1;33m(\u001b[0m\u001b[0mfilepath_or_buffer\u001b[0m\u001b[1;33m,\u001b[0m \u001b[0mkwds\u001b[0m\u001b[1;33m)\u001b[0m\u001b[1;33m\u001b[0m\u001b[0m\n\u001b[0m\u001b[0;32m    656\u001b[0m \u001b[1;33m\u001b[0m\u001b[0m\n\u001b[0;32m    657\u001b[0m     \u001b[0mparser_f\u001b[0m\u001b[1;33m.\u001b[0m\u001b[0m__name__\u001b[0m \u001b[1;33m=\u001b[0m \u001b[0mname\u001b[0m\u001b[1;33m\u001b[0m\u001b[0m\n",
      "\u001b[1;32m~\\Anaconda3\\lib\\site-packages\\pandas\\io\\parsers.py\u001b[0m in \u001b[0;36m_read\u001b[1;34m(filepath_or_buffer, kwds)\u001b[0m\n\u001b[0;32m    403\u001b[0m \u001b[1;33m\u001b[0m\u001b[0m\n\u001b[0;32m    404\u001b[0m     \u001b[1;31m# Create the parser.\u001b[0m\u001b[1;33m\u001b[0m\u001b[1;33m\u001b[0m\u001b[0m\n\u001b[1;32m--> 405\u001b[1;33m     \u001b[0mparser\u001b[0m \u001b[1;33m=\u001b[0m \u001b[0mTextFileReader\u001b[0m\u001b[1;33m(\u001b[0m\u001b[0mfilepath_or_buffer\u001b[0m\u001b[1;33m,\u001b[0m \u001b[1;33m**\u001b[0m\u001b[0mkwds\u001b[0m\u001b[1;33m)\u001b[0m\u001b[1;33m\u001b[0m\u001b[0m\n\u001b[0m\u001b[0;32m    406\u001b[0m \u001b[1;33m\u001b[0m\u001b[0m\n\u001b[0;32m    407\u001b[0m     \u001b[1;32mif\u001b[0m \u001b[0mchunksize\u001b[0m \u001b[1;32mor\u001b[0m \u001b[0miterator\u001b[0m\u001b[1;33m:\u001b[0m\u001b[1;33m\u001b[0m\u001b[0m\n",
      "\u001b[1;32m~\\Anaconda3\\lib\\site-packages\\pandas\\io\\parsers.py\u001b[0m in \u001b[0;36m__init__\u001b[1;34m(self, f, engine, **kwds)\u001b[0m\n\u001b[0;32m    762\u001b[0m             \u001b[0mself\u001b[0m\u001b[1;33m.\u001b[0m\u001b[0moptions\u001b[0m\u001b[1;33m[\u001b[0m\u001b[1;34m'has_index_names'\u001b[0m\u001b[1;33m]\u001b[0m \u001b[1;33m=\u001b[0m \u001b[0mkwds\u001b[0m\u001b[1;33m[\u001b[0m\u001b[1;34m'has_index_names'\u001b[0m\u001b[1;33m]\u001b[0m\u001b[1;33m\u001b[0m\u001b[0m\n\u001b[0;32m    763\u001b[0m \u001b[1;33m\u001b[0m\u001b[0m\n\u001b[1;32m--> 764\u001b[1;33m         \u001b[0mself\u001b[0m\u001b[1;33m.\u001b[0m\u001b[0m_make_engine\u001b[0m\u001b[1;33m(\u001b[0m\u001b[0mself\u001b[0m\u001b[1;33m.\u001b[0m\u001b[0mengine\u001b[0m\u001b[1;33m)\u001b[0m\u001b[1;33m\u001b[0m\u001b[0m\n\u001b[0m\u001b[0;32m    765\u001b[0m \u001b[1;33m\u001b[0m\u001b[0m\n\u001b[0;32m    766\u001b[0m     \u001b[1;32mdef\u001b[0m \u001b[0mclose\u001b[0m\u001b[1;33m(\u001b[0m\u001b[0mself\u001b[0m\u001b[1;33m)\u001b[0m\u001b[1;33m:\u001b[0m\u001b[1;33m\u001b[0m\u001b[0m\n",
      "\u001b[1;32m~\\Anaconda3\\lib\\site-packages\\pandas\\io\\parsers.py\u001b[0m in \u001b[0;36m_make_engine\u001b[1;34m(self, engine)\u001b[0m\n\u001b[0;32m    983\u001b[0m     \u001b[1;32mdef\u001b[0m \u001b[0m_make_engine\u001b[0m\u001b[1;33m(\u001b[0m\u001b[0mself\u001b[0m\u001b[1;33m,\u001b[0m \u001b[0mengine\u001b[0m\u001b[1;33m=\u001b[0m\u001b[1;34m'c'\u001b[0m\u001b[1;33m)\u001b[0m\u001b[1;33m:\u001b[0m\u001b[1;33m\u001b[0m\u001b[0m\n\u001b[0;32m    984\u001b[0m         \u001b[1;32mif\u001b[0m \u001b[0mengine\u001b[0m \u001b[1;33m==\u001b[0m \u001b[1;34m'c'\u001b[0m\u001b[1;33m:\u001b[0m\u001b[1;33m\u001b[0m\u001b[0m\n\u001b[1;32m--> 985\u001b[1;33m             \u001b[0mself\u001b[0m\u001b[1;33m.\u001b[0m\u001b[0m_engine\u001b[0m \u001b[1;33m=\u001b[0m \u001b[0mCParserWrapper\u001b[0m\u001b[1;33m(\u001b[0m\u001b[0mself\u001b[0m\u001b[1;33m.\u001b[0m\u001b[0mf\u001b[0m\u001b[1;33m,\u001b[0m \u001b[1;33m**\u001b[0m\u001b[0mself\u001b[0m\u001b[1;33m.\u001b[0m\u001b[0moptions\u001b[0m\u001b[1;33m)\u001b[0m\u001b[1;33m\u001b[0m\u001b[0m\n\u001b[0m\u001b[0;32m    986\u001b[0m         \u001b[1;32melse\u001b[0m\u001b[1;33m:\u001b[0m\u001b[1;33m\u001b[0m\u001b[0m\n\u001b[0;32m    987\u001b[0m             \u001b[1;32mif\u001b[0m \u001b[0mengine\u001b[0m \u001b[1;33m==\u001b[0m \u001b[1;34m'python'\u001b[0m\u001b[1;33m:\u001b[0m\u001b[1;33m\u001b[0m\u001b[0m\n",
      "\u001b[1;32m~\\Anaconda3\\lib\\site-packages\\pandas\\io\\parsers.py\u001b[0m in \u001b[0;36m__init__\u001b[1;34m(self, src, **kwds)\u001b[0m\n\u001b[0;32m   1603\u001b[0m         \u001b[0mkwds\u001b[0m\u001b[1;33m[\u001b[0m\u001b[1;34m'allow_leading_cols'\u001b[0m\u001b[1;33m]\u001b[0m \u001b[1;33m=\u001b[0m \u001b[0mself\u001b[0m\u001b[1;33m.\u001b[0m\u001b[0mindex_col\u001b[0m \u001b[1;32mis\u001b[0m \u001b[1;32mnot\u001b[0m \u001b[1;32mFalse\u001b[0m\u001b[1;33m\u001b[0m\u001b[0m\n\u001b[0;32m   1604\u001b[0m \u001b[1;33m\u001b[0m\u001b[0m\n\u001b[1;32m-> 1605\u001b[1;33m         \u001b[0mself\u001b[0m\u001b[1;33m.\u001b[0m\u001b[0m_reader\u001b[0m \u001b[1;33m=\u001b[0m \u001b[0mparsers\u001b[0m\u001b[1;33m.\u001b[0m\u001b[0mTextReader\u001b[0m\u001b[1;33m(\u001b[0m\u001b[0msrc\u001b[0m\u001b[1;33m,\u001b[0m \u001b[1;33m**\u001b[0m\u001b[0mkwds\u001b[0m\u001b[1;33m)\u001b[0m\u001b[1;33m\u001b[0m\u001b[0m\n\u001b[0m\u001b[0;32m   1606\u001b[0m \u001b[1;33m\u001b[0m\u001b[0m\n\u001b[0;32m   1607\u001b[0m         \u001b[1;31m# XXX\u001b[0m\u001b[1;33m\u001b[0m\u001b[1;33m\u001b[0m\u001b[0m\n",
      "\u001b[1;32mpandas/_libs/parsers.pyx\u001b[0m in \u001b[0;36mpandas._libs.parsers.TextReader.__cinit__ (pandas\\_libs\\parsers.c:4209)\u001b[1;34m()\u001b[0m\n",
      "\u001b[1;32mpandas/_libs/parsers.pyx\u001b[0m in \u001b[0;36mpandas._libs.parsers.TextReader._setup_parser_source (pandas\\_libs\\parsers.c:8895)\u001b[1;34m()\u001b[0m\n",
      "\u001b[1;31mOSError\u001b[0m: Initializing from file failed"
     ]
    }
   ],
   "source": [
    "####################################\n",
    "# Define Sommerfeld and Signal Files\n",
    "####################################\n",
    "SommFileName = input('Sommerfeld File: ')\n",
    "SommFile = pd.read_csv(photonSommerfeldPath(SommFileName))\n",
    "\n",
    "####################################\n",
    "# Interpolate Sommerfeld data\n",
    "####################################\n",
    "mAData = SommFile['mA[GeV]']\n",
    "SommData = SommFile['ThermAvgSommerfeld']\n",
    "SommInterp = interpolate.interp1d(mAData,SommData)\n",
    "\n",
    "print ('Sommerfeld interpolation complete')\n",
    "\n",
    "####################################\n",
    "\n",
    "####################################\n",
    "m_XSommerfeld = SommFile.loc[0,'mX[GeV]']\n",
    "kappa0Sommerfeld = SommFile.loc[0,'Kappa0[GeV5]']\n",
    "\n",
    "\n",
    "vect1 = []\n",
    "vect2 = []\n",
    "for ma in np.logspace(-2,1, num, base = 10):\n",
    "    vect1.append(ma)\n",
    "    vect2.append(SommInterp(ma))\n",
    "\n",
    "    \n",
    "fig = plt.figure(figsize = (6,6))\n",
    "plt.plot(np.log10(vect1),np.log10(vect2))\n",
    "plt.xlabel(r\"$\\log(m_{A'})$ [GeV]\", fontsize = 14)\n",
    "plt.ylabel(r\"$\\langle S_S \\rangle$\", fontsize = 14)\n",
    "plt.suptitle('Sommerfeld Interpolation Visualization', fontsize = 16)\n",
    "plt.title('num = {0}'.format(num), fontsize = 14, loc = 'right')\n",
    "plt.grid()\n",
    "\n",
    "print ('Complete')"
   ]
  },
  {
   "cell_type": "markdown",
   "metadata": {},
   "source": [
    "### Branching Ratio Interpolation"
   ]
  },
  {
   "cell_type": "markdown",
   "metadata": {},
   "source": [
    "In this cell, we read in a .csv file containing discrete branching ratio data points obtained from WebPlotDigitizer and interpolate them into a continuous funciton named $\\texttt{branchRatioInterp}$.\n",
    "\n",
    "By decault, this cell reads in the branching ratio for $\\gamma \\rightarrow e^+e^-$. To change this, un-comment the first line and comment out the second line."
   ]
  },
  {
   "cell_type": "code",
   "execution_count": 12,
   "metadata": {
    "ExecuteTime": {
     "end_time": "2018-04-01T23:31:50.992510Z",
     "start_time": "2018-04-01T23:31:50.631550Z"
    }
   },
   "outputs": [
    {
     "name": "stdout",
     "output_type": "stream",
     "text": [
      "Complete\n"
     ]
    },
    {
     "data": {
      "image/png": "[encoded data removed]",
      "text/plain": [
       "<matplotlib.figure.Figure at 0x1730a08d9b0>"
      ]
     },
     "metadata": {},
     "output_type": "display_data"
    }
   ],
   "source": [
    "# branchFileName = input('Branching File: ')\n",
    "branchFileName = 'brtoe.csv'\n",
    "\n",
    "BranchData = pd.read_csv(photonBranchPath(branchFileName))\n",
    "\n",
    "xListBranch = BranchData['mA[GeV]']\n",
    "yListBranch = BranchData['BR']\n",
    "\n",
    "branchRatioInterp = interpolate.interp1d(xListBranch,yListBranch)\n",
    "\n",
    "\n",
    "fig = plt.figure(figsize = (6,6))\n",
    "plt.plot(xListBranch,yListBranch)\n",
    "plt.xlabel(r\"$m_{A'}$ [GeV]\", fontsize = 14)\n",
    "plt.ylabel(r\"Branching Ratio\", fontsize = 14)\n",
    "plt.suptitle('Branching Ratio Interpolation Visualization', fontsize = 16)\n",
    "plt.title('num = {0}'.format(num), fontsize = 14, loc = 'right')\n",
    "plt.grid()\n",
    "\n",
    "print ('Complete')"
   ]
  },
  {
   "cell_type": "markdown",
   "metadata": {
    "ExecuteTime": {
     "end_time": "2018-03-22T20:51:09.799117Z",
     "start_time": "2018-03-22T20:51:09.787988Z"
    }
   },
   "source": [
    "## Initialize Signal Data File"
   ]
  },
  {
   "cell_type": "markdown",
   "metadata": {},
   "source": [
    "### Initialize Dataframe"
   ]
  },
  {
   "cell_type": "markdown",
   "metadata": {},
   "source": [
    "This cell:\n",
    "\n",
    "1) Initializes the signal data frame\n",
    "\n",
    "2) Appends the $\\varepsilon$ and $m_{A'}$ data points based on the resolution dictated by the variable $\\texttt{num}$\n",
    "\n",
    "3) Appends the column headers to the data frame"
   ]
  },
  {
   "cell_type": "code",
   "execution_count": 13,
   "metadata": {
    "ExecuteTime": {
     "end_time": "2018-04-01T23:31:52.944374Z",
     "start_time": "2018-04-01T23:31:52.729209Z"
    }
   },
   "outputs": [
    {
     "name": "stdout",
     "output_type": "stream",
     "text": [
      "Complete\n"
     ]
    }
   ],
   "source": [
    "#########################################\n",
    "# Define parameter space Ranges\n",
    "#########################################\n",
    "# Logarithmic Spacing because we plot this in log-log space\n",
    "# 0.01 GeV < mA < 10 GeV\n",
    "# 10^-11 < Epsilon < 10^-5\n",
    "mALogRange = np.logspace(-2, 1, num, base = 10)\n",
    "epsilonLogRange = np.logspace(-11, -5, num, base = 10)\n",
    "\n",
    "#########################################\n",
    "# Initialize Master Arrays\n",
    "#########################################\n",
    "masterSignalArray = []\n",
    "\n",
    "#########################################\n",
    "# Populate the Master Arrays with the column headers and 'None' Cells\n",
    "#########################################\n",
    "counter = 0\n",
    "for mATemp in mALogRange:\n",
    "    for epsilonTemp in epsilonLogRange:\n",
    "        masterSignalArray.append([counter, ' ', mATemp, epsilonTemp, \\\n",
    "                                  'None', 'None', 'None', 'None', \\\n",
    "                                  ' ', ' ',' ', ' '])\n",
    "        counter +=1\n",
    "#########################################\n",
    "# Create a PANDAS DataFrame from the Master Arrays\n",
    "#########################################\n",
    "masterSignalDataframe = pd.DataFrame(data = masterSignalArray, \\\n",
    "    columns=['Counter', 'mX[GeV]', 'mA[GeV]', 'Epsilon',\\\n",
    "             'Capture[s-1]', 'Annihilation[s-1]', 'GammaAnn[s-1]', 'IceCubeSignal', \\\n",
    "             'SommerfeldFile', 'BranchingRatioFile','Resolution','Kappa0[GeV5]'])\n",
    "\n",
    "# filename = input('Signal Rate Filename: ')\n",
    "# writeFile = photonSignalDataPath(filename)\n",
    "# masterSignalDataframe.to_csv(writeFile, index=False)\n",
    "\n",
    "print ('Complete')"
   ]
  },
  {
   "cell_type": "markdown",
   "metadata": {},
   "source": [
    "## Write to External .csv File"
   ]
  },
  {
   "cell_type": "markdown",
   "metadata": {
    "ExecuteTime": {
     "end_time": "2018-03-22T20:57:01.532084Z",
     "start_time": "2018-03-22T20:57:01.522605Z"
    }
   },
   "source": [
    "This cell writes the signal data frame to an external csv file."
   ]
  },
  {
   "cell_type": "code",
   "execution_count": 14,
   "metadata": {
    "ExecuteTime": {
     "end_time": "2018-04-01T23:32:00.958344Z",
     "start_time": "2018-04-01T23:31:54.371107Z"
    }
   },
   "outputs": [
    {
     "name": "stdout",
     "output_type": "stream",
     "text": [
      "Signal Rate filename: 1TeVSignal.csv\n",
      "--------------------\n",
      "You are about to commit the following to 1TeVSignal.csv\n",
      "mX[GeV]             : 1000.0\n",
      "Kappa0[GeV5]        : 3.1452272427969017e+25\n",
      "Sommerfeld File     : 1TeVSommerfeld.csv\n",
      "Branching Ratio File: brtoe.csv\n",
      "Resolution          : 200\n",
      "\n",
      "Commit to .csv? (y/n)y\n",
      "Commit Executed\n",
      "Complete\n"
     ]
    }
   ],
   "source": [
    "SignalFile = input('Signal Rate filename: ')\n",
    "writeFile = photonSignalDataPath_Incomplete(SignalFile)\n",
    "assert (SignalFile[-4:] == '.csv'), 'Must inclue \".csv\" in the file name'\n",
    "\n",
    "#############################\n",
    "# Double check that these values are correct\n",
    "#############################\n",
    "print ('--------------------')\n",
    "print ('You are about to commit the following to {0}'.format(SignalFile))\n",
    "print ('mX[GeV]             : {0}'.format(m_XSommerfeld))\n",
    "print ('Kappa0[GeV5]        : {0}'.format(kappa0Sommerfeld))\n",
    "print ('Sommerfeld File     : {0}'.format(SommFileName))\n",
    "print ('Branching Ratio File: {0}'.format(branchFileName))\n",
    "print ('Resolution          : {0}'.format(num))\n",
    "\n",
    "print ()\n",
    "\n",
    "yesNo = input ('Commit to .csv? (y/n)')\n",
    "assert (yesNo == 'y' or yesNo == 'n'), 'Invalid input, must be \"y\" or \"n.\"'\n",
    "\n",
    "if (yesNo == 'y'):\n",
    "\n",
    "    # Append a single value onto the Kappa0 Column\n",
    "    kappa0Value = 'None'\n",
    "    m_XValue = 'None'\n",
    "    \n",
    "    masterSignalDataframe.set_value(0, 'mX[GeV]', m_XSommerfeld)\n",
    "    masterSignalDataframe.set_value(0, 'Kappa0[GeV5]' , kappa0Sommerfeld)\n",
    "    masterSignalDataframe.set_value(0, 'SommerfeldFile', SommFileName)\n",
    "    masterSignalDataframe.set_value(0, 'BranchingRatioFile', branchFileName)\n",
    "    masterSignalDataframe.set_value(0, 'Resolution', num)\n",
    "\n",
    "    masterSignalDataframe.to_csv(writeFile, index=False)\n",
    "    \n",
    "    print ('Commit Executed')\n",
    "    \n",
    "else:\n",
    "    print ('Commit aborted')\n",
    "\n",
    "print ('Complete')"
   ]
  },
  {
   "cell_type": "markdown",
   "metadata": {},
   "source": [
    "## Sanity Check"
   ]
  },
  {
   "cell_type": "markdown",
   "metadata": {
    "ExecuteTime": {
     "end_time": "2017-08-29T01:37:07.554914Z",
     "start_time": "2017-08-29T01:37:07.542915Z"
    }
   },
   "source": [
    "We expect that:\n",
    "\n",
    "1). The \"Counter\" column should be $\\texttt{num}^2$ elements long \n",
    "\n",
    "2). \"Resolution\" has the value for $\\texttt{num}$ stored in it\n",
    "\n",
    "3). The $m_X$ and Kappa0 value from the Sommerfeld file are appended to the Signal file\n",
    "\n",
    "4). The Signal file has 12 columns labeled:\n",
    "    \n",
    "    Counter, mX[GeV], mA[GeV], Epsilon[s-1], Capture[s-1], Annihilation[s-1], GammaAnn[s-1],\n",
    "    IceCubeSignal, SommerfeldFile, BranchingRatioFile, Kappa0[GeV5]\n",
    "    \n",
    "5). \"SommerfeldFile\" and \"BranchingRatioFile\" are actually what you want them to be"
   ]
  },
  {
   "cell_type": "code",
   "execution_count": 16,
   "metadata": {
    "ExecuteTime": {
     "end_time": "2018-04-01T23:32:15.822876Z",
     "start_time": "2018-04-01T23:32:11.901890Z"
    },
    "scrolled": true
   },
   "outputs": [
    {
     "name": "stdout",
     "output_type": "stream",
     "text": [
      "Signal Rate filename: 1TeVSignal.csv\n",
      "       Counter mX[GeV]  mA[GeV]       Epsilon Capture[s-1] Annihilation[s-1]  \\\n",
      "0            0  1000.0     0.01  1.000000e-11         None              None   \n",
      "1            1             0.01  1.071891e-11         None              None   \n",
      "2            2             0.01  1.148951e-11         None              None   \n",
      "3            3             0.01  1.231551e-11         None              None   \n",
      "4            4             0.01  1.320088e-11         None              None   \n",
      "5            5             0.01  1.414991e-11         None              None   \n",
      "6            6             0.01  1.516717e-11         None              None   \n",
      "7            7             0.01  1.625756e-11         None              None   \n",
      "8            8             0.01  1.742633e-11         None              None   \n",
      "9            9             0.01  1.867914e-11         None              None   \n",
      "10          10             0.01  2.002200e-11         None              None   \n",
      "11          11             0.01  2.146141e-11         None              None   \n",
      "12          12             0.01  2.300430e-11         None              None   \n",
      "13          13             0.01  2.465811e-11         None              None   \n",
      "14          14             0.01  2.643081e-11         None              None   \n",
      "15          15             0.01  2.833096e-11         None              None   \n",
      "16          16             0.01  3.036771e-11         None              None   \n",
      "17          17             0.01  3.255089e-11         None              None   \n",
      "18          18             0.01  3.489101e-11         None              None   \n",
      "19          19             0.01  3.739937e-11         None              None   \n",
      "20          20             0.01  4.008806e-11         None              None   \n",
      "21          21             0.01  4.297005e-11         None              None   \n",
      "22          22             0.01  4.605922e-11         None              None   \n",
      "23          23             0.01  4.937048e-11         None              None   \n",
      "24          24             0.01  5.291979e-11         None              None   \n",
      "25          25             0.01  5.672426e-11         None              None   \n",
      "26          26             0.01  6.080224e-11         None              None   \n",
      "27          27             0.01  6.517340e-11         None              None   \n",
      "28          28             0.01  6.985880e-11         None              None   \n",
      "29          29             0.01  7.488104e-11         None              None   \n",
      "...        ...     ...      ...           ...          ...               ...   \n",
      "39970    39970            10.00  1.335452e-06         None              None   \n",
      "39971    39971            10.00  1.431459e-06         None              None   \n",
      "39972    39972            10.00  1.534368e-06         None              None   \n",
      "39973    39973            10.00  1.644676e-06         None              None   \n",
      "39974    39974            10.00  1.762914e-06         None              None   \n",
      "39975    39975            10.00  1.889652e-06         None              None   \n",
      "39976    39976            10.00  2.025502e-06         None              None   \n",
      "39977    39977            10.00  2.171118e-06         None              None   \n",
      "39978    39978            10.00  2.327202e-06         None              None   \n",
      "39979    39979            10.00  2.494508e-06         None              None   \n",
      "39980    39980            10.00  2.673842e-06         None              None   \n",
      "39981    39981            10.00  2.866068e-06         None              None   \n",
      "39982    39982            10.00  3.072113e-06         None              None   \n",
      "39983    39983            10.00  3.292971e-06         None              None   \n",
      "39984    39984            10.00  3.529707e-06         None              None   \n",
      "39985    39985            10.00  3.783463e-06         None              None   \n",
      "39986    39986            10.00  4.055461e-06         None              None   \n",
      "39987    39987            10.00  4.347013e-06         None              None   \n",
      "39988    39988            10.00  4.659526e-06         None              None   \n",
      "39989    39989            10.00  4.994505e-06         None              None   \n",
      "39990    39990            10.00  5.353567e-06         None              None   \n",
      "39991    39991            10.00  5.738442e-06         None              None   \n",
      "39992    39992            10.00  6.150986e-06         None              None   \n",
      "39993    39993            10.00  6.593188e-06         None              None   \n",
      "39994    39994            10.00  7.067181e-06         None              None   \n",
      "39995    39995            10.00  7.575250e-06         None              None   \n",
      "39996    39996            10.00  8.119845e-06         None              None   \n",
      "39997    39997            10.00  8.703591e-06         None              None   \n",
      "39998    39998            10.00  9.329304e-06         None              None   \n",
      "39999    39999            10.00  1.000000e-05         None              None   \n",
      "\n",
      "      GammaAnn[s-1] IceCubeSignal      SommerfeldFile BranchingRatioFile  \\\n",
      "0              None          None  1TeVSommerfeld.csv          brtoe.csv   \n",
      "1              None          None                                          \n",
      "2              None          None                                          \n",
      "3              None          None                                          \n",
      "4              None          None                                          \n",
      "5              None          None                                          \n",
      "6              None          None                                          \n",
      "7              None          None                                          \n",
      "8              None          None                                          \n",
      "9              None          None                                          \n",
      "10             None          None                                          \n",
      "11             None          None                                          \n",
      "12             None          None                                          \n",
      "13             None          None                                          \n",
      "14             None          None                                          \n",
      "15             None          None                                          \n",
      "16             None          None                                          \n",
      "17             None          None                                          \n",
      "18             None          None                                          \n",
      "19             None          None                                          \n",
      "20             None          None                                          \n",
      "21             None          None                                          \n",
      "22             None          None                                          \n",
      "23             None          None                                          \n",
      "24             None          None                                          \n",
      "25             None          None                                          \n",
      "26             None          None                                          \n",
      "27             None          None                                          \n",
      "28             None          None                                          \n",
      "29             None          None                                          \n",
      "...             ...           ...                 ...                ...   \n",
      "39970          None          None                                          \n",
      "39971          None          None                                          \n",
      "39972          None          None                                          \n",
      "39973          None          None                                          \n",
      "39974          None          None                                          \n",
      "39975          None          None                                          \n",
      "39976          None          None                                          \n",
      "39977          None          None                                          \n",
      "39978          None          None                                          \n",
      "39979          None          None                                          \n",
      "39980          None          None                                          \n",
      "39981          None          None                                          \n",
      "39982          None          None                                          \n",
      "39983          None          None                                          \n",
      "39984          None          None                                          \n",
      "39985          None          None                                          \n",
      "39986          None          None                                          \n",
      "39987          None          None                                          \n",
      "39988          None          None                                          \n",
      "39989          None          None                                          \n",
      "39990          None          None                                          \n",
      "39991          None          None                                          \n",
      "39992          None          None                                          \n",
      "39993          None          None                                          \n",
      "39994          None          None                                          \n",
      "39995          None          None                                          \n",
      "39996          None          None                                          \n",
      "39997          None          None                                          \n",
      "39998          None          None                                          \n",
      "39999          None          None                                          \n",
      "\n",
      "      Resolution            Kappa0[GeV5]  \n",
      "0            200  3.1452272427969017e+25  \n",
      "1                                         \n",
      "2                                         \n",
      "3                                         \n",
      "4                                         \n",
      "5                                         \n",
      "6                                         \n",
      "7                                         \n",
      "8                                         \n",
      "9                                         \n",
      "10                                        \n",
      "11                                        \n",
      "12                                        \n",
      "13                                        \n",
      "14                                        \n",
      "15                                        \n",
      "16                                        \n",
      "17                                        \n",
      "18                                        \n",
      "19                                        \n",
      "20                                        \n",
      "21                                        \n",
      "22                                        \n",
      "23                                        \n",
      "24                                        \n",
      "25                                        \n",
      "26                                        \n",
      "27                                        \n",
      "28                                        \n",
      "29                                        \n",
      "...          ...                     ...  \n",
      "39970                                     \n",
      "39971                                     \n",
      "39972                                     \n",
      "39973                                     \n",
      "39974                                     \n",
      "39975                                     \n",
      "39976                                     \n",
      "39977                                     \n",
      "39978                                     \n",
      "39979                                     \n",
      "39980                                     \n",
      "39981                                     \n",
      "39982                                     \n",
      "39983                                     \n",
      "39984                                     \n",
      "39985                                     \n",
      "39986                                     \n",
      "39987                                     \n",
      "39988                                     \n",
      "39989                                     \n",
      "39990                                     \n",
      "39991                                     \n",
      "39992                                     \n",
      "39993                                     \n",
      "39994                                     \n",
      "39995                                     \n",
      "39996                                     \n",
      "39997                                     \n",
      "39998                                     \n",
      "39999                                     \n",
      "\n",
      "[40000 rows x 12 columns]\n",
      "Complete\n"
     ]
    }
   ],
   "source": [
    "filename = input('Signal Rate filename: ')\n",
    "writeFile = photonSignalDataPath_Incomplete(filename)\n",
    "\n",
    "print (pd.read_csv(writeFile, sep = ','))\n",
    "print ('Complete')"
   ]
  },
  {
   "cell_type": "markdown",
   "metadata": {},
   "source": [
    "# Signal Calculations"
   ]
  },
  {
   "cell_type": "markdown",
   "metadata": {},
   "source": [
    "Run these two cells onces you have a working signalData.csv file and you want to either start or resume calculations."
   ]
  },
  {
   "cell_type": "markdown",
   "metadata": {},
   "source": [
    "## SignalData.csv Calculations"
   ]
  },
  {
   "cell_type": "markdown",
   "metadata": {},
   "source": [
    "This cell scans through all the lines of signalData.csv file and calculates:\n",
    "\n",
    "1). Capture\n",
    "\n",
    "2). Annihilation\n",
    "\n",
    "3). GammaAnn\n",
    "\n",
    "4). Signal\n",
    "\n",
    "As mentioned previously, this cell may be stopped, by interrupting the kernel, at any time and resumed later."
   ]
  },
  {
   "cell_type": "code",
   "execution_count": 42,
   "metadata": {
    "ExecuteTime": {
     "end_time": "2018-04-02T05:16:04.157088Z",
     "start_time": "2018-04-02T03:59:23.432325Z"
    },
    "scrolled": true
   },
   "outputs": [
    {
     "name": "stdout",
     "output_type": "stream",
     "text": [
      "Signal Rate File: 100GeVSignal.csv\n",
      "100GeVSignal.csv\n",
      "\n",
      "--------------------\n",
      "Calculations for index: 6560 recorded\n",
      "Calculations for index: 6580 recorded\n",
      "Calculations for index: 6600 recorded\n",
      "Calculations for index: 6620 recorded\n",
      "Calculations for index: 6640 recorded\n",
      "Calculations for index: 6660 recorded\n",
      "Calculations for index: 6680 recorded\n",
      "Calculations for index: 6700 recorded\n",
      "Calculations for index: 6720 recorded\n",
      "Calculations for index: 6740 recorded\n",
      "Calculations for index: 6760 recorded\n",
      "Calculations for index: 6780 recorded\n",
      "Calculations for index: 6800 recorded\n",
      "Calculations for index: 6820 recorded\n",
      "Calculations for index: 6840 recorded\n",
      "Calculations for index: 6860 recorded\n",
      "Calculations for index: 6880 recorded\n",
      "Calculations for index: 6900 recorded\n",
      "Calculations for index: 6920 recorded\n",
      "Calculations for index: 6940 recorded\n",
      "Calculations for index: 6960 recorded\n",
      "Calculations for index: 6980 recorded\n",
      "Calculations for index: 7000 recorded\n",
      "Calculations for index: 7020 recorded\n",
      "Calculations for index: 7040 recorded\n",
      "Calculations for index: 7060 recorded\n",
      "Calculations for index: 7080 recorded\n",
      "Calculations for index: 7100 recorded\n",
      "Calculations for index: 7120 recorded\n",
      "Calculations for index: 7140 recorded\n",
      "Calculations for index: 7160 recorded\n",
      "Calculations for index: 7180 recorded\n",
      "Calculations for index: 7200 recorded\n",
      "Calculations for index: 7220 recorded\n",
      "Calculations for index: 7240 recorded\n",
      "Calculations for index: 7260 recorded\n",
      "Calculations for index: 7280 recorded\n",
      "Calculations for index: 7300 recorded\n",
      "Calculations for index: 7320 recorded\n",
      "Calculations for index: 7340 recorded\n",
      "Calculations for index: 7360 recorded\n",
      "Calculations for index: 7380 recorded\n",
      "Calculations for index: 7400 recorded\n",
      "Calculations for index: 7420 recorded\n",
      "Calculations for index: 7440 recorded\n",
      "Calculations for index: 7460 recorded\n",
      "Calculations for index: 7480 recorded\n",
      "Calculations for index: 7500 recorded\n",
      "Calculations for index: 7520 recorded\n",
      "Calculations for index: 7540 recorded\n",
      "Calculations for index: 7560 recorded\n",
      "Calculations for index: 7580 recorded\n",
      "Calculations for index: 7600 recorded\n",
      "Calculations for index: 7620 recorded\n",
      "Calculations for index: 7640 recorded\n",
      "Calculations for index: 7660 recorded\n",
      "Calculations for index: 7680 recorded\n",
      "Calculations for index: 7700 recorded\n",
      "Calculations for index: 7720 recorded\n",
      "Calculations for index: 7740 recorded\n",
      "Calculations for index: 7760 recorded\n",
      "Calculations for index: 7780 recorded\n",
      "Calculations for index: 7800 recorded\n",
      "Calculations for index: 7820 recorded\n",
      "Calculations for index: 7840 recorded\n",
      "Calculations for index: 7860 recorded\n",
      "Calculations for index: 7880 recorded\n",
      "Calculations for index: 7900 recorded\n",
      "Calculations for index: 7920 recorded\n",
      "Calculations for index: 7940 recorded\n",
      "Calculations for index: 7960 recorded\n",
      "Calculations for index: 7980 recorded\n",
      "Calculations for index: 8000 recorded\n",
      "Calculations for index: 8020 recorded\n",
      "Calculations for index: 8040 recorded\n",
      "Calculations for index: 8060 recorded\n",
      "Calculations for index: 8080 recorded\n",
      "Calculations for index: 8100 recorded\n",
      "Calculations for index: 8120 recorded\n",
      "Calculations for index: 8140 recorded\n",
      "Calculations for index: 8160 recorded\n",
      "Calculations for index: 8180 recorded\n",
      "Calculations for index: 8200 recorded\n",
      "Calculations for index: 8220 recorded\n",
      "Calculations for index: 8240 recorded\n",
      "Calculations for index: 8260 recorded\n",
      "Calculations for index: 8280 recorded\n",
      "Calculations for index: 8300 recorded\n",
      "Calculations for index: 8320 recorded\n",
      "Calculations for index: 8340 recorded\n",
      "Calculations for index: 8360 recorded\n",
      "Calculations for index: 8380 recorded\n",
      "Calculations for index: 8400 recorded\n",
      "Calculations for index: 8420 recorded\n",
      "Calculations for index: 8440 recorded\n",
      "Calculations for index: 8460 recorded\n",
      "Calculations for index: 8480 recorded\n",
      "Calculations for index: 8500 recorded\n",
      "Calculations for index: 8520 recorded\n",
      "Calculations for index: 8540 recorded\n",
      "Calculations for index: 8560 recorded\n",
      "Calculations for index: 8580 recorded\n",
      "Calculations for index: 8600 recorded\n",
      "Calculations for index: 8620 recorded\n",
      "Calculations for index: 8640 recorded\n",
      "Calculations for index: 8660 recorded\n",
      "Calculations for index: 8680 recorded\n",
      "Calculations for index: 8700 recorded\n",
      "Calculations for index: 8720 recorded\n",
      "Calculations for index: 8740 recorded\n",
      "Calculations for index: 8760 recorded\n",
      "Calculations for index: 8780 recorded\n",
      "Calculations for index: 8800 recorded\n",
      "Calculations for index: 8820 recorded\n",
      "Calculations for index: 8840 recorded\n",
      "Calculations for index: 8860 recorded\n",
      "Calculations for index: 8880 recorded\n",
      "Calculations for index: 8900 recorded\n",
      "Calculations for index: 8920 recorded\n",
      "Calculations for index: 8940 recorded\n",
      "Calculations for index: 8960 recorded\n",
      "Calculations for index: 8980 recorded\n",
      "Calculations for index: 9000 recorded\n",
      "Calculations for index: 9020 recorded\n",
      "Calculations for index: 9040 recorded\n",
      "Calculations for index: 9060 recorded\n",
      "Calculations for index: 9080 recorded\n",
      "Calculations for index: 9100 recorded\n",
      "Calculations for index: 9120 recorded\n",
      "Calculations for index: 9140 recorded\n",
      "Calculations for index: 9160 recorded\n",
      "Calculations for index: 9180 recorded\n",
      "Calculations for index: 9200 recorded\n",
      "Calculations for index: 9220 recorded\n",
      "Calculations for index: 9240 recorded\n",
      "Calculations for index: 9260 recorded\n",
      "Calculations for index: 9280 recorded\n",
      "Calculations for index: 9300 recorded\n",
      "Calculations for index: 9320 recorded\n",
      "Calculations for index: 9340 recorded\n",
      "Calculations for index: 9360 recorded\n",
      "Calculations for index: 9380 recorded\n",
      "Calculations for index: 9400 recorded\n",
      "Calculations for index: 9420 recorded\n",
      "Calculations for index: 9440 recorded\n",
      "Calculations for index: 9460 recorded\n",
      "Calculations for index: 9480 recorded\n",
      "Calculations for index: 9500 recorded\n",
      "Calculations for index: 9520 recorded\n",
      "Calculations for index: 9540 recorded\n",
      "Calculations for index: 9560 recorded\n",
      "Calculations for index: 9580 recorded\n",
      "Calculations for index: 9600 recorded\n",
      "Calculations for index: 9620 recorded\n",
      "Calculations for index: 9640 recorded\n",
      "Calculations for index: 9660 recorded\n",
      "Calculations for index: 9680 recorded\n",
      "Calculations for index: 9700 recorded\n",
      "Calculations for index: 9720 recorded\n",
      "Calculations for index: 9740 recorded\n",
      "Calculations for index: 9760 recorded\n",
      "Calculations for index: 9780 recorded\n",
      "Calculations for index: 9800 recorded\n",
      "Calculations for index: 9820 recorded\n",
      "Calculations for index: 9840 recorded\n",
      "Calculations for index: 9860 recorded\n",
      "Calculations for index: 9880 recorded\n",
      "Calculations for index: 9900 recorded\n",
      "Calculations for index: 9920 recorded\n",
      "Calculations for index: 9940 recorded\n",
      "Calculations for index: 9960 recorded\n",
      "Calculations for index: 9980 recorded\n",
      "Calculations for index: 10000 recorded\n",
      "Calculations for index: 10020 recorded\n",
      "Calculations for index: 10040 recorded\n",
      "Calculations for index: 10060 recorded\n",
      "Calculations for index: 10080 recorded\n",
      "Calculations for index: 10100 recorded\n",
      "Calculations for index: 10120 recorded\n",
      "Calculations for index: 10140 recorded\n",
      "Calculations for index: 10160 recorded\n",
      "Calculations for index: 10180 recorded\n",
      "Calculations for index: 10200 recorded\n",
      "Calculations for index: 10220 recorded\n",
      "Calculations for index: 10240 recorded\n",
      "Calculations for index: 10260 recorded\n",
      "Calculations for index: 10280 recorded\n",
      "Calculations for index: 10300 recorded\n",
      "Calculations for index: 10320 recorded\n",
      "Calculations for index: 10340 recorded\n",
      "Calculations for index: 10360 recorded\n",
      "Calculations for index: 10380 recorded\n",
      "Calculations for index: 10400 recorded\n",
      "Calculations for index: 10420 recorded\n",
      "Calculations for index: 10440 recorded\n",
      "Calculations for index: 10460 recorded\n",
      "Calculations for index: 10480 recorded\n",
      "Calculations for index: 10500 recorded\n",
      "Calculations for index: 10520 recorded\n",
      "Calculations for index: 10540 recorded\n",
      "Calculations for index: 10560 recorded\n",
      "Calculations for index: 10580 recorded\n",
      "Calculations for index: 10600 recorded\n",
      "Calculations for index: 10620 recorded\n",
      "Calculations for index: 10640 recorded\n",
      "Calculations for index: 10660 recorded\n",
      "Calculations for index: 10680 recorded\n",
      "Calculations for index: 10700 recorded\n",
      "Calculations for index: 10720 recorded\n",
      "Calculations for index: 10740 recorded\n",
      "Calculations for index: 10760 recorded\n",
      "Calculations for index: 10780 recorded\n",
      "Calculations for index: 10800 recorded\n"
     ]
    },
    {
     "name": "stdout",
     "output_type": "stream",
     "text": [
      "Calculations for index: 10820 recorded\n",
      "Calculations for index: 10840 recorded\n",
      "Calculations for index: 10860 recorded\n",
      "Calculations for index: 10880 recorded\n",
      "Calculations for index: 10900 recorded\n",
      "Calculations for index: 10920 recorded\n",
      "Calculations for index: 10940 recorded\n",
      "Calculations for index: 10960 recorded\n",
      "Calculations for index: 10980 recorded\n",
      "Calculations for index: 11000 recorded\n",
      "Calculations for index: 11020 recorded\n",
      "Calculations for index: 11040 recorded\n",
      "Calculations for index: 11060 recorded\n",
      "Calculations for index: 11080 recorded\n",
      "Calculations for index: 11100 recorded\n",
      "Calculations for index: 11120 recorded\n",
      "Calculations for index: 11140 recorded\n"
     ]
    },
    {
     "ename": "KeyboardInterrupt",
     "evalue": "",
     "output_type": "error",
     "traceback": [
      "\u001b[1;31m---------------------------------------------------------------------------\u001b[0m",
      "\u001b[1;31mKeyboardInterrupt\u001b[0m                         Traceback (most recent call last)",
      "\u001b[1;32m<ipython-input-42-484a1f9e72ab>\u001b[0m in \u001b[0;36m<module>\u001b[1;34m()\u001b[0m\n\u001b[0;32m     48\u001b[0m \u001b[1;33m\u001b[0m\u001b[0m\n\u001b[0;32m     49\u001b[0m     \u001b[1;32mif\u001b[0m \u001b[1;33m(\u001b[0m\u001b[0mtestValue\u001b[0m \u001b[1;33m==\u001b[0m \u001b[1;34m'None'\u001b[0m\u001b[1;33m)\u001b[0m\u001b[1;33m:\u001b[0m\u001b[1;33m\u001b[0m\u001b[0m\n\u001b[1;32m---> 50\u001b[1;33m         \u001b[0msignalDataIn\u001b[0m\u001b[1;33m.\u001b[0m\u001b[0mto_csv\u001b[0m\u001b[1;33m(\u001b[0m\u001b[0msignalWriteFile\u001b[0m\u001b[1;33m,\u001b[0m \u001b[0msep\u001b[0m\u001b[1;33m=\u001b[0m\u001b[1;34m','\u001b[0m\u001b[1;33m,\u001b[0m\u001b[0mindex\u001b[0m\u001b[1;33m=\u001b[0m\u001b[1;32mFalse\u001b[0m\u001b[1;33m)\u001b[0m\u001b[1;33m\u001b[0m\u001b[0m\n\u001b[0m\u001b[0;32m     51\u001b[0m \u001b[1;33m\u001b[0m\u001b[0m\n\u001b[0;32m     52\u001b[0m         \u001b[1;31m#########################################\u001b[0m\u001b[1;33m\u001b[0m\u001b[1;33m\u001b[0m\u001b[0m\n",
      "\u001b[1;32m~\\Anaconda3\\lib\\site-packages\\pandas\\core\\frame.py\u001b[0m in \u001b[0;36mto_csv\u001b[1;34m(self, path_or_buf, sep, na_rep, float_format, columns, header, index, index_label, mode, encoding, compression, quoting, quotechar, line_terminator, chunksize, tupleize_cols, date_format, doublequote, escapechar, decimal)\u001b[0m\n\u001b[0;32m   1401\u001b[0m                                      \u001b[0mdoublequote\u001b[0m\u001b[1;33m=\u001b[0m\u001b[0mdoublequote\u001b[0m\u001b[1;33m,\u001b[0m\u001b[1;33m\u001b[0m\u001b[0m\n\u001b[0;32m   1402\u001b[0m                                      escapechar=escapechar, decimal=decimal)\n\u001b[1;32m-> 1403\u001b[1;33m         \u001b[0mformatter\u001b[0m\u001b[1;33m.\u001b[0m\u001b[0msave\u001b[0m\u001b[1;33m(\u001b[0m\u001b[1;33m)\u001b[0m\u001b[1;33m\u001b[0m\u001b[0m\n\u001b[0m\u001b[0;32m   1404\u001b[0m \u001b[1;33m\u001b[0m\u001b[0m\n\u001b[0;32m   1405\u001b[0m         \u001b[1;32mif\u001b[0m \u001b[0mpath_or_buf\u001b[0m \u001b[1;32mis\u001b[0m \u001b[1;32mNone\u001b[0m\u001b[1;33m:\u001b[0m\u001b[1;33m\u001b[0m\u001b[0m\n",
      "\u001b[1;32m~\\Anaconda3\\lib\\site-packages\\pandas\\io\\formats\\format.py\u001b[0m in \u001b[0;36msave\u001b[1;34m(self)\u001b[0m\n\u001b[0;32m   1590\u001b[0m                 \u001b[0mself\u001b[0m\u001b[1;33m.\u001b[0m\u001b[0mwriter\u001b[0m \u001b[1;33m=\u001b[0m \u001b[0mcsv\u001b[0m\u001b[1;33m.\u001b[0m\u001b[0mwriter\u001b[0m\u001b[1;33m(\u001b[0m\u001b[0mf\u001b[0m\u001b[1;33m,\u001b[0m \u001b[1;33m**\u001b[0m\u001b[0mwriter_kwargs\u001b[0m\u001b[1;33m)\u001b[0m\u001b[1;33m\u001b[0m\u001b[0m\n\u001b[0;32m   1591\u001b[0m \u001b[1;33m\u001b[0m\u001b[0m\n\u001b[1;32m-> 1592\u001b[1;33m             \u001b[0mself\u001b[0m\u001b[1;33m.\u001b[0m\u001b[0m_save\u001b[0m\u001b[1;33m(\u001b[0m\u001b[1;33m)\u001b[0m\u001b[1;33m\u001b[0m\u001b[0m\n\u001b[0m\u001b[0;32m   1593\u001b[0m \u001b[1;33m\u001b[0m\u001b[0m\n\u001b[0;32m   1594\u001b[0m         \u001b[1;32mfinally\u001b[0m\u001b[1;33m:\u001b[0m\u001b[1;33m\u001b[0m\u001b[0m\n",
      "\u001b[1;32m~\\Anaconda3\\lib\\site-packages\\pandas\\io\\formats\\format.py\u001b[0m in \u001b[0;36m_save\u001b[1;34m(self)\u001b[0m\n\u001b[0;32m   1691\u001b[0m                 \u001b[1;32mbreak\u001b[0m\u001b[1;33m\u001b[0m\u001b[0m\n\u001b[0;32m   1692\u001b[0m \u001b[1;33m\u001b[0m\u001b[0m\n\u001b[1;32m-> 1693\u001b[1;33m             \u001b[0mself\u001b[0m\u001b[1;33m.\u001b[0m\u001b[0m_save_chunk\u001b[0m\u001b[1;33m(\u001b[0m\u001b[0mstart_i\u001b[0m\u001b[1;33m,\u001b[0m \u001b[0mend_i\u001b[0m\u001b[1;33m)\u001b[0m\u001b[1;33m\u001b[0m\u001b[0m\n\u001b[0m\u001b[0;32m   1694\u001b[0m \u001b[1;33m\u001b[0m\u001b[0m\n\u001b[0;32m   1695\u001b[0m     \u001b[1;32mdef\u001b[0m \u001b[0m_save_chunk\u001b[0m\u001b[1;33m(\u001b[0m\u001b[0mself\u001b[0m\u001b[1;33m,\u001b[0m \u001b[0mstart_i\u001b[0m\u001b[1;33m,\u001b[0m \u001b[0mend_i\u001b[0m\u001b[1;33m)\u001b[0m\u001b[1;33m:\u001b[0m\u001b[1;33m\u001b[0m\u001b[0m\n",
      "\u001b[1;32m~\\Anaconda3\\lib\\site-packages\\pandas\\io\\formats\\format.py\u001b[0m in \u001b[0;36m_save_chunk\u001b[1;34m(self, start_i, end_i)\u001b[0m\n\u001b[0;32m   1705\u001b[0m                                   \u001b[0mdecimal\u001b[0m\u001b[1;33m=\u001b[0m\u001b[0mself\u001b[0m\u001b[1;33m.\u001b[0m\u001b[0mdecimal\u001b[0m\u001b[1;33m,\u001b[0m\u001b[1;33m\u001b[0m\u001b[0m\n\u001b[0;32m   1706\u001b[0m                                   \u001b[0mdate_format\u001b[0m\u001b[1;33m=\u001b[0m\u001b[0mself\u001b[0m\u001b[1;33m.\u001b[0m\u001b[0mdate_format\u001b[0m\u001b[1;33m,\u001b[0m\u001b[1;33m\u001b[0m\u001b[0m\n\u001b[1;32m-> 1707\u001b[1;33m                                   quoting=self.quoting)\n\u001b[0m\u001b[0;32m   1708\u001b[0m \u001b[1;33m\u001b[0m\u001b[0m\n\u001b[0;32m   1709\u001b[0m             \u001b[1;32mfor\u001b[0m \u001b[0mcol_loc\u001b[0m\u001b[1;33m,\u001b[0m \u001b[0mcol\u001b[0m \u001b[1;32min\u001b[0m \u001b[0mzip\u001b[0m\u001b[1;33m(\u001b[0m\u001b[0mb\u001b[0m\u001b[1;33m.\u001b[0m\u001b[0mmgr_locs\u001b[0m\u001b[1;33m,\u001b[0m \u001b[0md\u001b[0m\u001b[1;33m)\u001b[0m\u001b[1;33m:\u001b[0m\u001b[1;33m\u001b[0m\u001b[0m\n",
      "\u001b[1;32m~\\Anaconda3\\lib\\site-packages\\pandas\\core\\internals.py\u001b[0m in \u001b[0;36mto_native_types\u001b[1;34m(self, slicer, na_rep, float_format, decimal, quoting, **kwargs)\u001b[0m\n\u001b[0;32m   1612\u001b[0m                 \u001b[0mvalues\u001b[0m \u001b[1;33m=\u001b[0m \u001b[0mnp\u001b[0m\u001b[1;33m.\u001b[0m\u001b[0marray\u001b[0m\u001b[1;33m(\u001b[0m\u001b[0mvalues\u001b[0m\u001b[1;33m,\u001b[0m \u001b[0mdtype\u001b[0m\u001b[1;33m=\u001b[0m\u001b[1;34m'object'\u001b[0m\u001b[1;33m)\u001b[0m\u001b[1;33m\u001b[0m\u001b[0m\n\u001b[0;32m   1613\u001b[0m \u001b[1;33m\u001b[0m\u001b[0m\n\u001b[1;32m-> 1614\u001b[1;33m             \u001b[0mvalues\u001b[0m\u001b[1;33m[\u001b[0m\u001b[0mmask\u001b[0m\u001b[1;33m]\u001b[0m \u001b[1;33m=\u001b[0m \u001b[0mna_rep\u001b[0m\u001b[1;33m\u001b[0m\u001b[0m\n\u001b[0m\u001b[0;32m   1615\u001b[0m             \u001b[1;32mreturn\u001b[0m \u001b[0mvalues\u001b[0m\u001b[1;33m\u001b[0m\u001b[0m\n\u001b[0;32m   1616\u001b[0m \u001b[1;33m\u001b[0m\u001b[0m\n",
      "\u001b[1;31mKeyboardInterrupt\u001b[0m: "
     ]
    }
   ],
   "source": [
    "signalFileName = input('Signal Rate File: ')\n",
    "signalWriteFile = photonSignalDataPath_Incomplete(signalFileName)\n",
    "signalDataIn = pd.read_csv(signalWriteFile, sep = ',')\n",
    "\n",
    "\n",
    "#########################################\n",
    "# Parameters independent of data file:\n",
    "#########################################\n",
    "Filem_X = float(signalDataIn.loc[0, 'mX[GeV]'])\n",
    "FileKappa0 = float(signalDataIn.loc[0, 'Kappa0[GeV5]'])\n",
    "Alpha = 1./137\n",
    "LiveTime = yr2s(10)\n",
    "\n",
    "\n",
    "#########################################\n",
    "# Sommerfeld Interpolation\n",
    "#########################################\n",
    "sommFileName = signalDataIn.loc[0,'SommerfeldFile']\n",
    "sommDataIn = pd.read_csv(photonSommerfeldPath(sommFileName))\n",
    "mAData1 = sommDataIn['mA[GeV]']\n",
    "SommDataValues = sommDataIn['ThermAvgSommerfeld']\n",
    "SommInterp = interpolate.interp1d(mAData1,SommDataValues)\n",
    "\n",
    "#########################################\n",
    "# Branching Ratio Interpolation\n",
    "#########################################\n",
    "branchFileName = signalDataIn.loc[0,'BranchingRatioFile']\n",
    "branchDataIn = pd.read_csv(photonBranchPath(branchFileName))\n",
    "\n",
    "mABranch = branchDataIn['mA[GeV]']\n",
    "branchingDataValues = branchDataIn['BR']\n",
    "\n",
    "branchRatioInterp = interpolate.interp1d(mABranch,branchingDataValues)\n",
    "\n",
    "\n",
    "#########################################\n",
    "# Begin the loop calculations\n",
    "#########################################\n",
    "loopRange = range(0,len(signalDataIn['Counter']))\n",
    "\n",
    "print (signalFileName)\n",
    "print ()\n",
    "print ('--------------------')\n",
    "finishedCounter = 0\n",
    "index = 0\n",
    "for index in loopRange:\n",
    "    testValue = signalDataIn.loc[index, 'IceCubeSignal']\n",
    "    \n",
    "    if (testValue == 'None'):\n",
    "        signalDataIn.to_csv(signalWriteFile, sep=',',index=False) \n",
    "\n",
    "        #########################################\n",
    "        # Initialize loop-specific Quantities\n",
    "        #########################################\n",
    "        Filem_ATemp = float(signalDataIn.loc[index, 'mA[GeV]'])\n",
    "        FileEpsilonTemp = float(signalDataIn.loc[index, 'Epsilon'])\n",
    "        Alpha_X = alphaTherm(Filem_X, Filem_ATemp)\n",
    "        Sommerfeld = SommInterp(Filem_ATemp)\n",
    "        BranchingRatio = branchRatioInterp(Filem_ATemp)\n",
    "        \n",
    "        #########################################\n",
    "        # Loop Calculations\n",
    "        #########################################\n",
    "        Capture = photonCCapQuick(Filem_X, Filem_ATemp, FileEpsilonTemp, Alpha_X, FileKappa0)\n",
    "        SigmaVTree = photonSigmaVtree(Filem_X, Filem_ATemp, Alpha_X)\n",
    "        Annihilation = CAnnCalc(Filem_X, SigmaVTree, thermAvgSomm = Sommerfeld)\n",
    "        GammaAnn = gammaAnn(Capture, Annihilation)\n",
    "        L = decayLength(Filem_X, Filem_ATemp, FileEpsilonTemp, BranchingRatio)\n",
    "        EpsilonDecay = epsilonDecay(L)\n",
    "        \n",
    "        IceCubeSignal = iceCubeSignal(GammaAnn, EpsilonDecay, LiveTime)\n",
    "        \n",
    "        #########################################\n",
    "        # Append Calculated Values to SignalFile.csv\n",
    "        #########################################\n",
    "        signalDataIn.set_value(index, 'Capture[s-1]', Capture)\n",
    "        signalDataIn.set_value(index, 'Annihilation[s-1]', Annihilation)\n",
    "        signalDataIn.set_value(index, 'GammaAnn[s-1]', GammaAnn)\n",
    "        signalDataIn.set_value(index, 'IceCubeSignal', IceCubeSignal)\n",
    "        \n",
    "        \n",
    "        #########################################\n",
    "        # Overwrite SignalFile.csv\n",
    "        #########################################\n",
    "        signalDataIn.to_csv(signalWriteFile, sep=',',index=False) \n",
    "        finishedCounter += 1\n",
    "        \n",
    "        if (index % 20 == 0):\n",
    "            print ('Calculations for index: {0} recorded'.format(index))\n",
    "        \n",
    "    elif (testValue != 'None'):\n",
    "        finishedCounter += 1\n",
    "    \n",
    "    if (finishedCounter == len(signalDataIn['Counter'])):\n",
    "        print ('--------------------')\n",
    "        print ('All Calculations Complete')\n",
    "        break\n",
    "        \n",
    "print ('Complete')"
   ]
  },
  {
   "cell_type": "markdown",
   "metadata": {},
   "source": [
    "# Manual Overwrite"
   ]
  },
  {
   "cell_type": "markdown",
   "metadata": {},
   "source": [
    "This cell is a manual overwrite of the signalData.csv file.\n",
    "\n",
    "It is REQUIRED that you run this if you interrupt the calculation. Failure to do so could result in a loss of all your data."
   ]
  },
  {
   "cell_type": "code",
   "execution_count": 43,
   "metadata": {
    "ExecuteTime": {
     "end_time": "2018-04-02T05:16:20.524605Z",
     "start_time": "2018-04-02T05:16:06.971598Z"
    }
   },
   "outputs": [
    {
     "name": "stdout",
     "output_type": "stream",
     "text": [
      "Working Signal File: DarkPhotonCapture/SignalRateData/Incomplete/100GeVSignal.csv\n",
      "Overwrite? (y/n): y\n",
      "Overwrite complete\n",
      "Complete\n"
     ]
    }
   ],
   "source": [
    "print ('Working Signal File: {0}'.format(signalWriteFile))\n",
    "\n",
    "overwrite = input('Overwrite? (y/n): ')\n",
    "if ((overwrite == 'y') or (overwrite == 'Y')):\n",
    "    signalDataIn.to_csv(signalWriteFile, sep=',',index=False) \n",
    "    print ('Overwrite complete')\n",
    "    \n",
    "else:\n",
    "    print ('Overwrite aborted')\n",
    "\n",
    "print ('Complete')"
   ]
  },
  {
   "cell_type": "markdown",
   "metadata": {},
   "source": [
    "------------------------"
   ]
  },
  {
   "cell_type": "markdown",
   "metadata": {},
   "source": [
    "# Signal Graphs"
   ]
  },
  {
   "cell_type": "markdown",
   "metadata": {},
   "source": [
    "The general recipie is:\n",
    "\n",
    "1). Read in a Signal Data file\n",
    "\n",
    "2). Extract the plot information\n",
    "\n",
    "3). Plot\n"
   ]
  },
  {
   "cell_type": "markdown",
   "metadata": {},
   "source": [
    "## Read in External Signal File"
   ]
  },
  {
   "cell_type": "code",
   "execution_count": 39,
   "metadata": {
    "ExecuteTime": {
     "end_time": "2018-04-02T01:40:31.154947Z",
     "start_time": "2018-04-02T01:40:25.089565Z"
    }
   },
   "outputs": [
    {
     "name": "stdout",
     "output_type": "stream",
     "text": [
      "Signal Rate filename: k\\\n"
     ]
    },
    {
     "ename": "FileNotFoundError",
     "evalue": "File b'DarkPhotonCapture/SignalRateData/Complete/k\\\\' does not exist",
     "output_type": "error",
     "traceback": [
      "\u001b[1;31m---------------------------------------------------------------------------\u001b[0m",
      "\u001b[1;31mFileNotFoundError\u001b[0m                         Traceback (most recent call last)",
      "\u001b[1;32m<ipython-input-39-cfda8153ea8c>\u001b[0m in \u001b[0;36m<module>\u001b[1;34m()\u001b[0m\n\u001b[0;32m      1\u001b[0m \u001b[0mGammaFile\u001b[0m \u001b[1;33m=\u001b[0m \u001b[0minput\u001b[0m\u001b[1;33m(\u001b[0m\u001b[1;34m'Signal Rate filename: '\u001b[0m\u001b[1;33m)\u001b[0m\u001b[1;33m\u001b[0m\u001b[0m\n\u001b[0;32m      2\u001b[0m \u001b[0mreadFile\u001b[0m \u001b[1;33m=\u001b[0m \u001b[0mphotonSignalDataPath_Complete\u001b[0m\u001b[1;33m(\u001b[0m\u001b[0mGammaFile\u001b[0m\u001b[1;33m)\u001b[0m\u001b[1;33m\u001b[0m\u001b[0m\n\u001b[1;32m----> 3\u001b[1;33m \u001b[0mtestRead\u001b[0m \u001b[1;33m=\u001b[0m \u001b[0mpd\u001b[0m\u001b[1;33m.\u001b[0m\u001b[0mread_csv\u001b[0m\u001b[1;33m(\u001b[0m\u001b[0mreadFile\u001b[0m\u001b[1;33m)\u001b[0m \u001b[1;31m# This is here to ensure that the file exists\u001b[0m\u001b[1;33m\u001b[0m\u001b[0m\n\u001b[0m\u001b[0;32m      4\u001b[0m \u001b[1;33m\u001b[0m\u001b[0m\n\u001b[0;32m      5\u001b[0m \u001b[0mprint\u001b[0m \u001b[1;33m(\u001b[0m\u001b[1;34m'Complete'\u001b[0m\u001b[1;33m)\u001b[0m\u001b[1;33m\u001b[0m\u001b[0m\n",
      "\u001b[1;32m~\\Anaconda3\\lib\\site-packages\\pandas\\io\\parsers.py\u001b[0m in \u001b[0;36mparser_f\u001b[1;34m(filepath_or_buffer, sep, delimiter, header, names, index_col, usecols, squeeze, prefix, mangle_dupe_cols, dtype, engine, converters, true_values, false_values, skipinitialspace, skiprows, nrows, na_values, keep_default_na, na_filter, verbose, skip_blank_lines, parse_dates, infer_datetime_format, keep_date_col, date_parser, dayfirst, iterator, chunksize, compression, thousands, decimal, lineterminator, quotechar, quoting, escapechar, comment, encoding, dialect, tupleize_cols, error_bad_lines, warn_bad_lines, skipfooter, skip_footer, doublequote, delim_whitespace, as_recarray, compact_ints, use_unsigned, low_memory, buffer_lines, memory_map, float_precision)\u001b[0m\n\u001b[0;32m    653\u001b[0m                     skip_blank_lines=skip_blank_lines)\n\u001b[0;32m    654\u001b[0m \u001b[1;33m\u001b[0m\u001b[0m\n\u001b[1;32m--> 655\u001b[1;33m         \u001b[1;32mreturn\u001b[0m \u001b[0m_read\u001b[0m\u001b[1;33m(\u001b[0m\u001b[0mfilepath_or_buffer\u001b[0m\u001b[1;33m,\u001b[0m \u001b[0mkwds\u001b[0m\u001b[1;33m)\u001b[0m\u001b[1;33m\u001b[0m\u001b[0m\n\u001b[0m\u001b[0;32m    656\u001b[0m \u001b[1;33m\u001b[0m\u001b[0m\n\u001b[0;32m    657\u001b[0m     \u001b[0mparser_f\u001b[0m\u001b[1;33m.\u001b[0m\u001b[0m__name__\u001b[0m \u001b[1;33m=\u001b[0m \u001b[0mname\u001b[0m\u001b[1;33m\u001b[0m\u001b[0m\n",
      "\u001b[1;32m~\\Anaconda3\\lib\\site-packages\\pandas\\io\\parsers.py\u001b[0m in \u001b[0;36m_read\u001b[1;34m(filepath_or_buffer, kwds)\u001b[0m\n\u001b[0;32m    403\u001b[0m \u001b[1;33m\u001b[0m\u001b[0m\n\u001b[0;32m    404\u001b[0m     \u001b[1;31m# Create the parser.\u001b[0m\u001b[1;33m\u001b[0m\u001b[1;33m\u001b[0m\u001b[0m\n\u001b[1;32m--> 405\u001b[1;33m     \u001b[0mparser\u001b[0m \u001b[1;33m=\u001b[0m \u001b[0mTextFileReader\u001b[0m\u001b[1;33m(\u001b[0m\u001b[0mfilepath_or_buffer\u001b[0m\u001b[1;33m,\u001b[0m \u001b[1;33m**\u001b[0m\u001b[0mkwds\u001b[0m\u001b[1;33m)\u001b[0m\u001b[1;33m\u001b[0m\u001b[0m\n\u001b[0m\u001b[0;32m    406\u001b[0m \u001b[1;33m\u001b[0m\u001b[0m\n\u001b[0;32m    407\u001b[0m     \u001b[1;32mif\u001b[0m \u001b[0mchunksize\u001b[0m \u001b[1;32mor\u001b[0m \u001b[0miterator\u001b[0m\u001b[1;33m:\u001b[0m\u001b[1;33m\u001b[0m\u001b[0m\n",
      "\u001b[1;32m~\\Anaconda3\\lib\\site-packages\\pandas\\io\\parsers.py\u001b[0m in \u001b[0;36m__init__\u001b[1;34m(self, f, engine, **kwds)\u001b[0m\n\u001b[0;32m    762\u001b[0m             \u001b[0mself\u001b[0m\u001b[1;33m.\u001b[0m\u001b[0moptions\u001b[0m\u001b[1;33m[\u001b[0m\u001b[1;34m'has_index_names'\u001b[0m\u001b[1;33m]\u001b[0m \u001b[1;33m=\u001b[0m \u001b[0mkwds\u001b[0m\u001b[1;33m[\u001b[0m\u001b[1;34m'has_index_names'\u001b[0m\u001b[1;33m]\u001b[0m\u001b[1;33m\u001b[0m\u001b[0m\n\u001b[0;32m    763\u001b[0m \u001b[1;33m\u001b[0m\u001b[0m\n\u001b[1;32m--> 764\u001b[1;33m         \u001b[0mself\u001b[0m\u001b[1;33m.\u001b[0m\u001b[0m_make_engine\u001b[0m\u001b[1;33m(\u001b[0m\u001b[0mself\u001b[0m\u001b[1;33m.\u001b[0m\u001b[0mengine\u001b[0m\u001b[1;33m)\u001b[0m\u001b[1;33m\u001b[0m\u001b[0m\n\u001b[0m\u001b[0;32m    765\u001b[0m \u001b[1;33m\u001b[0m\u001b[0m\n\u001b[0;32m    766\u001b[0m     \u001b[1;32mdef\u001b[0m \u001b[0mclose\u001b[0m\u001b[1;33m(\u001b[0m\u001b[0mself\u001b[0m\u001b[1;33m)\u001b[0m\u001b[1;33m:\u001b[0m\u001b[1;33m\u001b[0m\u001b[0m\n",
      "\u001b[1;32m~\\Anaconda3\\lib\\site-packages\\pandas\\io\\parsers.py\u001b[0m in \u001b[0;36m_make_engine\u001b[1;34m(self, engine)\u001b[0m\n\u001b[0;32m    983\u001b[0m     \u001b[1;32mdef\u001b[0m \u001b[0m_make_engine\u001b[0m\u001b[1;33m(\u001b[0m\u001b[0mself\u001b[0m\u001b[1;33m,\u001b[0m \u001b[0mengine\u001b[0m\u001b[1;33m=\u001b[0m\u001b[1;34m'c'\u001b[0m\u001b[1;33m)\u001b[0m\u001b[1;33m:\u001b[0m\u001b[1;33m\u001b[0m\u001b[0m\n\u001b[0;32m    984\u001b[0m         \u001b[1;32mif\u001b[0m \u001b[0mengine\u001b[0m \u001b[1;33m==\u001b[0m \u001b[1;34m'c'\u001b[0m\u001b[1;33m:\u001b[0m\u001b[1;33m\u001b[0m\u001b[0m\n\u001b[1;32m--> 985\u001b[1;33m             \u001b[0mself\u001b[0m\u001b[1;33m.\u001b[0m\u001b[0m_engine\u001b[0m \u001b[1;33m=\u001b[0m \u001b[0mCParserWrapper\u001b[0m\u001b[1;33m(\u001b[0m\u001b[0mself\u001b[0m\u001b[1;33m.\u001b[0m\u001b[0mf\u001b[0m\u001b[1;33m,\u001b[0m \u001b[1;33m**\u001b[0m\u001b[0mself\u001b[0m\u001b[1;33m.\u001b[0m\u001b[0moptions\u001b[0m\u001b[1;33m)\u001b[0m\u001b[1;33m\u001b[0m\u001b[0m\n\u001b[0m\u001b[0;32m    986\u001b[0m         \u001b[1;32melse\u001b[0m\u001b[1;33m:\u001b[0m\u001b[1;33m\u001b[0m\u001b[0m\n\u001b[0;32m    987\u001b[0m             \u001b[1;32mif\u001b[0m \u001b[0mengine\u001b[0m \u001b[1;33m==\u001b[0m \u001b[1;34m'python'\u001b[0m\u001b[1;33m:\u001b[0m\u001b[1;33m\u001b[0m\u001b[0m\n",
      "\u001b[1;32m~\\Anaconda3\\lib\\site-packages\\pandas\\io\\parsers.py\u001b[0m in \u001b[0;36m__init__\u001b[1;34m(self, src, **kwds)\u001b[0m\n\u001b[0;32m   1603\u001b[0m         \u001b[0mkwds\u001b[0m\u001b[1;33m[\u001b[0m\u001b[1;34m'allow_leading_cols'\u001b[0m\u001b[1;33m]\u001b[0m \u001b[1;33m=\u001b[0m \u001b[0mself\u001b[0m\u001b[1;33m.\u001b[0m\u001b[0mindex_col\u001b[0m \u001b[1;32mis\u001b[0m \u001b[1;32mnot\u001b[0m \u001b[1;32mFalse\u001b[0m\u001b[1;33m\u001b[0m\u001b[0m\n\u001b[0;32m   1604\u001b[0m \u001b[1;33m\u001b[0m\u001b[0m\n\u001b[1;32m-> 1605\u001b[1;33m         \u001b[0mself\u001b[0m\u001b[1;33m.\u001b[0m\u001b[0m_reader\u001b[0m \u001b[1;33m=\u001b[0m \u001b[0mparsers\u001b[0m\u001b[1;33m.\u001b[0m\u001b[0mTextReader\u001b[0m\u001b[1;33m(\u001b[0m\u001b[0msrc\u001b[0m\u001b[1;33m,\u001b[0m \u001b[1;33m**\u001b[0m\u001b[0mkwds\u001b[0m\u001b[1;33m)\u001b[0m\u001b[1;33m\u001b[0m\u001b[0m\n\u001b[0m\u001b[0;32m   1606\u001b[0m \u001b[1;33m\u001b[0m\u001b[0m\n\u001b[0;32m   1607\u001b[0m         \u001b[1;31m# XXX\u001b[0m\u001b[1;33m\u001b[0m\u001b[1;33m\u001b[0m\u001b[0m\n",
      "\u001b[1;32mpandas/_libs/parsers.pyx\u001b[0m in \u001b[0;36mpandas._libs.parsers.TextReader.__cinit__ (pandas\\_libs\\parsers.c:4209)\u001b[1;34m()\u001b[0m\n",
      "\u001b[1;32mpandas/_libs/parsers.pyx\u001b[0m in \u001b[0;36mpandas._libs.parsers.TextReader._setup_parser_source (pandas\\_libs\\parsers.c:8873)\u001b[1;34m()\u001b[0m\n",
      "\u001b[1;31mFileNotFoundError\u001b[0m: File b'DarkPhotonCapture/SignalRateData/Complete/k\\\\' does not exist"
     ]
    }
   ],
   "source": [
    "GammaFile = input('Signal Rate filename: ')\n",
    "readFile = photonSignalDataPath_Complete(GammaFile)\n",
    "testRead = pd.read_csv(readFile) # This is here to ensure that the file exists\n",
    "\n",
    "print ('Complete')"
   ]
  },
  {
   "cell_type": "markdown",
   "metadata": {},
   "source": [
    "## Define the plot region and extract plot data"
   ]
  },
  {
   "cell_type": "markdown",
   "metadata": {},
   "source": [
    "We plot the Data under the column\n",
    "\n",
    "    mA[GeV], Epsilon, IceCubeSignal"
   ]
  },
  {
   "cell_type": "code",
   "execution_count": null,
   "metadata": {
    "ExecuteTime": {
     "end_time": "2018-04-02T01:40:31.154947Z",
     "start_time": "2018-04-02T01:40:25.264Z"
    }
   },
   "outputs": [],
   "source": [
    "rawData = pd.read_csv(photonSignalDataPath_Complete(GammaFile))\n",
    "Filem_X = float(rawData.loc[0,'mX[GeV]'])\n",
    "\n",
    "\n",
    "#Pull out min / max values\n",
    "\n",
    "xMin = min(rawData['mA[GeV]'])\n",
    "xMax = max(rawData['mA[GeV]'])\n",
    "yMin = min(rawData['Epsilon'])\n",
    "yMax = max(rawData['Epsilon'])\n",
    "\n",
    "\n",
    "# Define the dimension of the grid. \n",
    "# For an n x n grid, this will pull out the number \"n\"\n",
    "# gridDim = len(np.unique(rawData['mA[GeV]']))\n",
    "gridDim = int(rawData.loc[0,'Resolution'])\n",
    "\n",
    "\n",
    "\n",
    "#########################################\n",
    "# Create the n x n grid\n",
    "#########################################\n",
    "# Logarithmic Spacing\n",
    "xLogRange = np.logspace(xMin, xMax, gridDim, base = 10)\n",
    "yLogRange = np.logspace(yMin, yMax, gridDim, base = 10)\n",
    "\n",
    "xLinRange = np.linspace(xMin, xMax, gridDim)\n",
    "yLinRange = np.linspace(yMin, yMax, gridDim)\n",
    "\n",
    "#########################################\n",
    "# Read in and reshape the Contour data\n",
    "#########################################\n",
    "# This reads in contour data as a single column,\n",
    "#     but we reshape it to a 2D, n x n array to fit the grid\n",
    "\n",
    "z = [rawData['IceCubeSignal']]\n",
    "SignalData = np.reshape(z, (len(xLinRange), len(yLinRange)))\n",
    "\n",
    "print ('Complete')"
   ]
  },
  {
   "cell_type": "markdown",
   "metadata": {},
   "source": [
    "## Plot the Signal Events"
   ]
  },
  {
   "cell_type": "code",
   "execution_count": null,
   "metadata": {
    "ExecuteTime": {
     "end_time": "2018-04-02T01:40:31.159606Z",
     "start_time": "2018-04-02T01:40:25.450Z"
    },
    "scrolled": false
   },
   "outputs": [],
   "source": [
    "###############################\n",
    "# Set the correct units for m_X\n",
    "###############################\n",
    "m_XUnit = 'None'\n",
    "if (Filem_X < 1000):\n",
    "    m_XDisplay = Filem_X\n",
    "    m_XUnit = 'GeV'\n",
    "\n",
    "if (Filem_X >= 1000):\n",
    "    m_XDisplay = Filem_X * 10**-3\n",
    "    m_XUnit = 'TeV'\n",
    "    \n",
    "    \n",
    "###############################\n",
    "# Define X,Y tickmarks\n",
    "###############################\n",
    "# xTicks = np.linspace(xMin, xMax, 10)\n",
    "# yTicks = np.linspace(yMin, yMax, 10)\n",
    "# xTicks = np.logspace((xMin), (xMax), 7, base = 10)\n",
    "# yTicks = np.logspace(np.log10(yMin),np.log10(yMax),7, base = 10)\n",
    "    \n",
    "###############################\n",
    "# Actual Plotting Stuff\n",
    "###############################\n",
    "fig0 = plt.figure(figsize = (8,6))\n",
    "ax0 = fig0.add_subplot(111)\n",
    "# ax0.set_xticks(xTicks)\n",
    "# ax0.set_yticks(yTicks)\n",
    "\n",
    "CP = plt.contour(np.log10(xLogRange), np.log10(yLogRange), \\\n",
    "                 np.log10(SignalData.transpose()),\\\n",
    "                 levels=[0,1,2,3],\n",
    "                )\n",
    "\n",
    "\n",
    "plt.xlabel(r'$m_A$ $[GeV]$', fontsize = 13)\n",
    "plt.ylabel(r'$\\varepsilon$', fontsize = 13)\n",
    "plt.suptitle('IceCube Events', fontsize = 16)\n",
    "plt.title(r'$m_X$ = {0} {1}'.format(m_XDisplay, m_XUnit), loc = 'right', fontsize = 14)\n",
    "# plt.axis([xMin,xMax,yMin,yMax])\n",
    "plt.clabel(CP, inline=1, fontsize=12)\n",
    "plt.colorbar()\n",
    "plt.grid()"
   ]
  },
  {
   "cell_type": "markdown",
   "metadata": {},
   "source": [
    "### Save Figure"
   ]
  },
  {
   "cell_type": "code",
   "execution_count": null,
   "metadata": {
    "ExecuteTime": {
     "end_time": "2018-04-02T01:40:31.163509Z",
     "start_time": "2018-04-02T01:40:25.785Z"
    },
    "collapsed": true
   },
   "outputs": [],
   "source": [
    "figName = input('Filename: ')\n",
    "\n",
    "fig0.savefig(photonSignalPlotPath(figName), dpi = 700, bbox_inches = 'tight')\n",
    "print ('Complete')"
   ]
  },
  {
   "cell_type": "code",
   "execution_count": null,
   "metadata": {
    "collapsed": true
   },
   "outputs": [],
   "source": []
  },
  {
   "cell_type": "code",
   "execution_count": null,
   "metadata": {
    "collapsed": true
   },
   "outputs": [],
   "source": []
  },
  {
   "cell_type": "code",
   "execution_count": null,
   "metadata": {
    "collapsed": true
   },
   "outputs": [],
   "source": []
  },
  {
   "cell_type": "code",
   "execution_count": null,
   "metadata": {
    "ExecuteTime": {
     "end_time": "2017-09-13T16:48:19.306106Z",
     "start_time": "2017-09-13T16:48:18.885992Z"
    },
    "collapsed": true
   },
   "outputs": [],
   "source": [
    "###############################\n",
    "# Set the correct units for m_X\n",
    "###############################\n",
    "m_XUnit = 'None'\n",
    "if (Filem_X < 1000):\n",
    "    m_XDisplay = Filem_X\n",
    "    m_XUnit = 'GeV'\n",
    "\n",
    "if (Filem_X >= 1000):\n",
    "    m_XDisplay = Filem_X * 10**-3\n",
    "    m_XUnit = 'TeV'\n",
    "    \n",
    "    \n",
    "###############################\n",
    "# Define X,Y tickmarks\n",
    "###############################\n",
    "# xTicks = np.linspace(xMin, xMax, 10)\n",
    "# yTicks = np.linspace(yMin, yMax, 10)\n",
    "# xTicks = np.logspace((xMin), (xMax), 7, base = 10)\n",
    "# yTicks = np.logspace(np.log10(yMin),np.log10(yMax),7, base = 10)\n",
    "    \n",
    "###############################\n",
    "# Actual Plotting Stuff\n",
    "###############################\n",
    "fig0 = plt.figure(figsize = (8,6))\n",
    "ax0 = fig0.add_subplot(111)\n",
    "# ax0.set_xticks(xTicks)\n",
    "# ax0.set_yticks(yTicks)\n",
    "\n",
    "CP = plt.contour(np.log10(xLogRange), np.log10(yLogRange), \\\n",
    "                 np.log10(SignalData.transpose()),\\\n",
    "                 levels=[0,1,2,3,],\n",
    "                )\n",
    "\n",
    "\n",
    "plt.xlabel(r'$m_A$ $[GeV]$', fontsize = 13)\n",
    "plt.ylabel(r'$\\varepsilon$', fontsize = 13)\n",
    "plt.suptitle('IceCube Events', fontsize = 14)\n",
    "plt.title(r'$m_X$ = {0} {1}'.format(m_XDisplay, m_XUnit), loc = 'right', fontsize = 13)\n",
    "# plt.axis([xMin,xMax,yMin,yMax])\n",
    "plt.clabel(CP, inline=1, fontsize=12)\n",
    "plt.colorbar(CP)\n",
    "plt.grid()"
   ]
  },
  {
   "cell_type": "code",
   "execution_count": null,
   "metadata": {
    "collapsed": true
   },
   "outputs": [],
   "source": []
  },
  {
   "cell_type": "code",
   "execution_count": null,
   "metadata": {
    "collapsed": true
   },
   "outputs": [],
   "source": []
  },
  {
   "cell_type": "code",
   "execution_count": null,
   "metadata": {
    "collapsed": true
   },
   "outputs": [],
   "source": []
  },
  {
   "cell_type": "code",
   "execution_count": null,
   "metadata": {
    "collapsed": true
   },
   "outputs": [],
   "source": []
  },
  {
   "cell_type": "markdown",
   "metadata": {
    "heading_collapsed": true
   },
   "source": [
    "## Sanity Checks"
   ]
  },
  {
   "cell_type": "markdown",
   "metadata": {
    "hidden": true
   },
   "source": [
    "For the following parameters:\n",
    "\n",
    "- $m_X = 1000$ GeV\n",
    "\n",
    "- $m_A = 1.0$ GeV\n",
    "\n",
    "- $\\varepsilon = 10^{-8}$\n",
    "\n",
    "we know for certain:\n",
    "- $C_{Cap} \\sim 1.09185621\\times 10^8$\n",
    "\n",
    "- $C_{Ann} \\sim 1.66001111034\\times 10^{-46}$ (with Sommerfeld)\n",
    "\n",
    "- $\\frac{\\tau}{\\tau_{\\oplus}} \\mathcal{O}(10^1 - 10^2)$\n",
    "\n",
    "- $N_{sig} \\sim \\mathcal{O}(10^2 - 10^3)$\n",
    "\n",
    "Un-comment the following cell to debug."
   ]
  },
  {
   "cell_type": "code",
   "execution_count": null,
   "metadata": {
    "collapsed": true,
    "hidden": true
   },
   "outputs": [],
   "source": [
    "# testm_X = 1000.\n",
    "# testm_A = 1.0\n",
    "# testEpsilon = 10**-8\n",
    "# alpha_X = alphaTherm(testm_X, testm_A)\n",
    "# LiveTime = yr2s(10)\n",
    "# BranchingRatio = 1\n",
    "\n",
    "# # # Capture Functions\n",
    "# Kappa0 = kappa_0(testm_X, 1./137)\n",
    "# Capture = CCapQuick(testm_X, testm_A, testEpsilon, alpha_X, Kappa0)\n",
    "\n",
    "# # # Annihilation Functions\n",
    "# Sommerfeld = thermAvgSommerfeld(testm_X, testm_A, alpha_X)\n",
    "# Annihilation = CAnn(testm_X, testm_A, alpha_X, Sommerfeld)\n",
    "\n",
    "# # # Equilibrium Time\n",
    "# EQTime = tau(Capture, Annihilation)\n",
    "# EQRatio = EQTime/tauCross\n",
    "\n",
    "# # # Signal Rates\n",
    "# GammaAnn = gammaAnnCalc(Capture, Annihilation)\n",
    "# # DecayLength = decayLength2(testm_X, testm_A, testEpsilon, BranchingRatio)\n",
    "# DecayLength = decayLengthJordan(testm_X, testm_A, testEpsilon, BranchingRatio)\n",
    "# EpsilonDecay = epsilonDecay(DecayLength)\n",
    "# Signal = iceCubeSignal(GammaAnn, EpsilonDecay, LiveTime)\n",
    "\n",
    "\n",
    "# print ('Complete')"
   ]
  },
  {
   "cell_type": "code",
   "execution_count": null,
   "metadata": {
    "collapsed": true,
    "hidden": true
   },
   "outputs": [],
   "source": [
    "# print ('Capture       : {0}'.format(Capture))\n",
    "# print ('Annihilation  : {0}'.format(Annihilation))\n",
    "# print ('Tau:          : {0}'.format(EQTime))\n",
    "# print ('EQ Ratio      : {0}'.format(EQRatio))\n",
    "# print ('GammaAnn      : {0}'.format(GammaAnn))\n",
    "# print ('DecayLength   : {0}'.format(DecayLength))\n",
    "# print ('RCross        : {0}'.format(RCross))\n",
    "# print ('Epsilon Decay : {0}'.format(EpsilonDecay))\n",
    "# print ('Signal        : {0}'.format(Signal))\n",
    "\n",
    "# print ('Complete')"
   ]
  }
 ],
 "metadata": {
  "kernelspec": {
   "display_name": "Python 3",
   "language": "python",
   "name": "python3"
  },
  "language_info": {
   "codemirror_mode": {
    "name": "ipython",
    "version": 3
   },
   "file_extension": ".py",
   "mimetype": "text/x-python",
   "name": "python",
   "nbconvert_exporter": "python",
   "pygments_lexer": "ipython3",
   "version": "3.6.2"
  },
  "latex_envs": {
   "LaTeX_envs_menu_present": true,
   "autocomplete": true,
   "bibliofile": "biblio.bib",
   "cite_by": "apalike",
   "current_citInitial": 1,
   "eqLabelWithNumbers": true,
   "eqNumInitial": 1,
   "hotkeys": {
    "equation": "Ctrl-E",
    "itemize": "Ctrl-I"
   },
   "labels_anchors": false,
   "latex_user_defs": false,
   "report_style_numbering": false,
   "user_envs_cfg": false
  }
 },
 "nbformat": 4,
 "nbformat_minor": 2
}
