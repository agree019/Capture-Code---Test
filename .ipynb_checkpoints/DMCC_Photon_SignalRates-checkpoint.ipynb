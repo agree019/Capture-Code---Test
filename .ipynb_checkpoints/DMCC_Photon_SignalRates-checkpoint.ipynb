{
 "cells": [
  {
   "cell_type": "markdown",
   "metadata": {},
   "source": [
    "# Photon Signal Rate Plots"
   ]
  },
  {
   "cell_type": "markdown",
   "metadata": {},
   "source": [
    "This notebook outputs the reach plots in $\\varepsilon - m_A$ space for IceCube.\n",
    "\n",
    "Upon running this notebook the first time, run each cell sequentially. If however, you have started a calculation and now wish to continue where you left off, begin at the \"External File Interpolations\" cell and continue onward."
   ]
  },
  {
   "cell_type": "markdown",
   "metadata": {},
   "source": [
    "## Import Notebook as module"
   ]
  },
  {
   "cell_type": "code",
   "execution_count": 1,
   "metadata": {
    "ExecuteTime": {
     "end_time": "2018-03-28T16:59:08.763115Z",
     "start_time": "2018-03-28T16:59:08.084838Z"
    }
   },
   "outputs": [
    {
     "name": "stdout",
     "output_type": "stream",
     "text": [
      "Complete\n"
     ]
    }
   ],
   "source": [
    "import io, os, sys, types\n",
    "\n",
    "from IPython import get_ipython\n",
    "from nbformat import read\n",
    "from IPython.core.interactiveshell import InteractiveShell\n",
    "\n",
    "def find_notebook(fullname, path=None):\n",
    "    \"\"\"find a notebook, given its fully qualified name and an optional path\n",
    "\n",
    "    This turns \"foo.bar\" into \"foo/bar.ipynb\"\n",
    "    and tries turning \"Foo_Bar\" into \"Foo Bar\" if Foo_Bar\n",
    "    does not exist.\n",
    "    \"\"\"\n",
    "    name = fullname.rsplit('.', 1)[-1]\n",
    "    if not path:\n",
    "        path = ['']\n",
    "    for d in path:\n",
    "        nb_path = os.path.join(d, name + \".ipynb\")\n",
    "        if os.path.isfile(nb_path):\n",
    "            return nb_path\n",
    "        # let import Notebook_Name find \"Notebook Name.ipynb\"\n",
    "        nb_path = nb_path.replace(\"_\", \" \")\n",
    "        if os.path.isfile(nb_path):\n",
    "            return nb_path\n",
    "        \n",
    "class NotebookLoader(object):\n",
    "    \"\"\"Module Loader for Jupyter Notebooks\"\"\"\n",
    "    def __init__(self, path=None):\n",
    "        self.shell = InteractiveShell.instance()\n",
    "        self.path = path\n",
    "\n",
    "    def load_module(self, fullname):\n",
    "        \"\"\"import a notebook as a module\"\"\"\n",
    "        path = find_notebook(fullname, self.path)\n",
    "\n",
    "        print (\"importing Jupyter notebook from %s\" % path)\n",
    "\n",
    "        # load the notebook object\n",
    "        with io.open(path, 'r', encoding='utf-8') as f:\n",
    "            nb = read(f, 4)\n",
    "\n",
    "\n",
    "        # create the module and add it to sys.modules\n",
    "        # if name in sys.modules:\n",
    "        #    return sys.modules[name]\n",
    "        mod = types.ModuleType(fullname)\n",
    "        mod.__file__ = path\n",
    "        mod.__loader__ = self\n",
    "        mod.__dict__['get_ipython'] = get_ipython\n",
    "        sys.modules[fullname] = mod\n",
    "\n",
    "        # extra work to ensure that magics that would affect the user_ns\n",
    "        # actually affect the notebook module's ns\n",
    "        save_user_ns = self.shell.user_ns\n",
    "        self.shell.user_ns = mod.__dict__\n",
    "\n",
    "        try:\n",
    "            for cell in nb.cells:\n",
    "                if cell.cell_type == 'code':\n",
    "                    # transform the input to executable Python\n",
    "                    code = self.shell.input_transformer_manager.transform_cell(cell.source)\n",
    "                    # run the code in themodule\n",
    "                    exec(code, mod.__dict__)\n",
    "        finally:\n",
    "            self.shell.user_ns = save_user_ns\n",
    "        return mod\n",
    "\n",
    "    \n",
    "class NotebookFinder(object):\n",
    "    \"\"\"Module finder that locates Jupyter Notebooks\"\"\"\n",
    "    def __init__(self):\n",
    "        self.loaders = {}\n",
    "\n",
    "    def find_module(self, fullname, path=None):\n",
    "        nb_path = find_notebook(fullname, path)\n",
    "        if not nb_path:\n",
    "            return\n",
    "\n",
    "        key = path\n",
    "        if path:\n",
    "            # lists aren't hashable\n",
    "            key = os.path.sep.join(path)\n",
    "\n",
    "        if key not in self.loaders:\n",
    "            self.loaders[key] = NotebookLoader(path)\n",
    "        return self.loaders[key]\n",
    "    \n",
    "sys.meta_path.append(NotebookFinder())\n",
    "\n",
    "print ('Complete')"
   ]
  },
  {
   "cell_type": "code",
   "execution_count": 2,
   "metadata": {
    "ExecuteTime": {
     "end_time": "2018-03-28T16:59:42.254262Z",
     "start_time": "2018-03-28T16:59:09.871402Z"
    }
   },
   "outputs": [
    {
     "name": "stdout",
     "output_type": "stream",
     "text": [
      "importing Jupyter notebook from MasterFunctions_SignalRates.ipynb\n",
      "importing Jupyter notebook from MasterFunctions_Capture.ipynb\n",
      "importing Jupyter notebook from MasterFunctions_ModelData.ipynb\n",
      "------ MasterFunctions_ModelData Imported ------\n",
      "------ MasterFunctions_Capture Imported ------\n",
      "importing Jupyter notebook from MasterFunctions_Annihilation.ipynb\n",
      "------ MasterFunctions_Annihilation Loaded ------\n",
      "------ MasterFunctions_SignalRates Imported ------\n",
      "importing Jupyter notebook from MasterFunctions_Graphing.ipynb\n",
      "------ MasterFunctions_Graphing Loaded ------\n",
      "All Notebooks Imported\n"
     ]
    }
   ],
   "source": [
    "from MasterFunctions_SignalRates import *\n",
    "from MasterFunctions_Graphing import*\n",
    "\n",
    "print ('All Notebooks Imported')"
   ]
  },
  {
   "cell_type": "markdown",
   "metadata": {},
   "source": [
    "# Signal Rate"
   ]
  },
  {
   "cell_type": "markdown",
   "metadata": {},
   "source": [
    "\n",
    "Recall the solution to the differential equation:\n",
    "\\begin{equation}\n",
    "\\frac{dN_X}{dt} = C_{cap} - N_X^2 C_{ann}\n",
    "\\end{equation}\n",
    "\n",
    "is given by:\n",
    "\n",
    "\\begin{equation}\n",
    "\\Gamma_{ann} = \\frac{1}{2} C_{cap}\\tanh^2 \\left( \\frac{\\tau_{\\oplus}}{\\tau} \\right)\n",
    "\\end{equation}\n",
    "\n",
    "more stuff about the signal rate"
   ]
  },
  {
   "cell_type": "markdown",
   "metadata": {},
   "source": [
    "-------------"
   ]
  },
  {
   "cell_type": "markdown",
   "metadata": {},
   "source": [
    "# Generating the Signal Data File"
   ]
  },
  {
   "cell_type": "markdown",
   "metadata": {},
   "source": [
    "## Recipie"
   ]
  },
  {
   "cell_type": "markdown",
   "metadata": {},
   "source": [
    "The recipie for generating the Signal File is:\n",
    "\n",
    "1). Read in and interpolate a Sommerfeld file and Branching Ratio file\n",
    " \n",
    "2). Initialize a template dataframe to hold the calculated signal rate data\n",
    "\n",
    "3). Write that dataframe to an external .csv file (signalData.csv)\n",
    "\n",
    "4). Append values from the Sommerfeld and Branching Ratio file to signalData.csv\n",
    "\n",
    "5). Loop through signalData.csv, calculate $C_{Cap}$, $C_{Ann}$, $\\Gamma_{Ann}$, and $N_{Sig}$, append them to signalData.csv\n",
    "\n",
    "Step five can be quite lengthy depending on the desired resolution of the data points. Typically, one would begin these calculations and be forced to wait until they are completed in their entirety; perhaps unable to shut down their machine for hours at a time. The cell \"Signal File Calculations\" however can be interrupted at any time, and resumed later. This allows the user to run the calculation in multiple stages instead of dedicating a large chunk of time and running the calculation all at once. \n",
    "The calculation can be stopped by interrupting the Jupyter Kernel. Be sure to run the \"Manual Overwrite\" cell just to be sure that the calculations are saved."
   ]
  },
  {
   "cell_type": "markdown",
   "metadata": {},
   "source": [
    "## Initialize External Signal File"
   ]
  },
  {
   "cell_type": "markdown",
   "metadata": {},
   "source": [
    "### Define the Resolution of the Reach (Signal) Plot"
   ]
  },
  {
   "cell_type": "markdown",
   "metadata": {},
   "source": [
    "These cells create the \"grid\" of data points for which $N_{\\text{sig} }$ will be calculated.\n",
    "\n",
    "This cell initializes the resolution of the interpolations for the Sommerfeld enhancement and the reach plot. The variable $\\texttt{num}$ defines the resolution of the grid, so if $\\texttt{num} = 50$, the reach plot will have a $50 \\times 50$ resolution for a total of 2500 calculations. The suggested resolution is \n",
    "\n",
    "    num = 200\n",
    "    \n",
    "A way to understand what this number does: \"The cleaner your Sommerfeld interpolation, the cleaner your reach plots will be.\" Making this number larger will increase the resolution of the interpolation, cleaning up the plots, but it will take longer to calculate. \n",
    "\n",
    "A good rule of thumb: Your reach plot resolution will be determined by the resolution of the Sommerfeld Interpolation"
   ]
  },
  {
   "cell_type": "code",
   "execution_count": 7,
   "metadata": {
    "ExecuteTime": {
     "end_time": "2018-03-28T17:01:26.786668Z",
     "start_time": "2018-03-28T17:01:26.778644Z"
    }
   },
   "outputs": [
    {
     "name": "stdout",
     "output_type": "stream",
     "text": [
      "Complete\n"
     ]
    }
   ],
   "source": [
    "# num = 200\n",
    "num = 200\n",
    "\n",
    "print ('Complete')"
   ]
  },
  {
   "cell_type": "markdown",
   "metadata": {},
   "source": [
    "## External File Interpolations"
   ]
  },
  {
   "cell_type": "markdown",
   "metadata": {},
   "source": [
    "The following cells read in and create interpolations of the:\n",
    "\n",
    "1). Sommerfeld Enhancement\n",
    "\n",
    "2). Branching ratio\n",
    "\n",
    "\n",
    "The file names for both these files will be written to the signalData.csv file. The reasoning behind this is continuity of the calculation. If you run this notebook from top to bottom, you can calculate everything in one go. However, if you interrup the main calculation cell and restart your computer, all of the vairables we have loaded into Jupyter memroy get wiped. Writing these file names into the signalData.csv file means that to resume the calculation, you only need to run the main calculation cell as opposed to loading variables into Jupyter memory before starting the main calculation"
   ]
  },
  {
   "cell_type": "markdown",
   "metadata": {},
   "source": [
    "### Sommerfeld Data Interpolation"
   ]
  },
  {
   "cell_type": "markdown",
   "metadata": {},
   "source": [
    "This interpolation only serves to give you an idea of the resolution of the reach plot. We will read this in and interpolate it again later in the actual calulation. "
   ]
  },
  {
   "cell_type": "code",
   "execution_count": 8,
   "metadata": {
    "ExecuteTime": {
     "end_time": "2018-03-28T17:01:37.750975Z",
     "start_time": "2018-03-28T17:01:32.126916Z"
    }
   },
   "outputs": [
    {
     "name": "stdout",
     "output_type": "stream",
     "text": [
      "Sommerfeld File: 100GeVSommerfeld.csv\n",
      "Sommerfeld interpolation complete\n",
      "Complete\n"
     ]
    },
    {
     "data": {
      "image/png": "[encoded data removed]",
      "text/plain": [
       "<matplotlib.figure.Figure at 0x2db2e212eb8>"
      ]
     },
     "metadata": {},
     "output_type": "display_data"
    }
   ],
   "source": [
    "####################################\n",
    "# Define Sommerfeld and Signal Files\n",
    "####################################\n",
    "SommFileName = input('Sommerfeld File: ')\n",
    "SommFile = pd.read_csv(photonSommerfeldPath(SommFileName))\n",
    "\n",
    "####################################\n",
    "# Interpolate Sommerfeld data\n",
    "####################################\n",
    "mAData = SommFile['mA[GeV]']\n",
    "SommData = SommFile['ThermAvgSommerfeld']\n",
    "SommInterp = interpolate.interp1d(mAData,SommData)\n",
    "\n",
    "print ('Sommerfeld interpolation complete')\n",
    "\n",
    "####################################\n",
    "\n",
    "####################################\n",
    "m_XSommerfeld = SommFile.loc[0,'mX[GeV]']\n",
    "kappa0Sommerfeld = SommFile.loc[0,'Kappa0']\n",
    "\n",
    "\n",
    "vect1 = []\n",
    "vect2 = []\n",
    "for ma in np.logspace(-2,1, num, base = 10):\n",
    "    vect1.append(ma)\n",
    "    vect2.append(SommInterp(ma))\n",
    "\n",
    "    \n",
    "fig = plt.figure(figsize = (6,6))\n",
    "plt.plot(np.log10(vect1),np.log10(vect2))\n",
    "plt.xlabel(r\"$\\log(m_{A'})$ [GeV]\", fontsize = 13)\n",
    "plt.ylabel(r\"$\\langle S_S \\rangle$\", fontsize = 13)\n",
    "plt.suptitle('Sommerfeld Interpolation Visualization', fontsize = 16)\n",
    "plt.title('num = {0}'.format(num), fontsize = 14, loc = 'right')\n",
    "plt.grid()\n",
    "\n",
    "print ('Complete')"
   ]
  },
  {
   "cell_type": "markdown",
   "metadata": {},
   "source": [
    "### Branching Ratio Interpolation"
   ]
  },
  {
   "cell_type": "markdown",
   "metadata": {},
   "source": [
    "In this cell, we read in a .csv file containing discrete branching ratio data points obtained from WebPlotDigitizer and interpolate them into a continuous funciton named $\\texttt{branchRatioInterp}$."
   ]
  },
  {
   "cell_type": "code",
   "execution_count": 9,
   "metadata": {
    "ExecuteTime": {
     "end_time": "2018-03-28T17:01:41.463823Z",
     "start_time": "2018-03-28T17:01:41.010121Z"
    }
   },
   "outputs": [
    {
     "name": "stdout",
     "output_type": "stream",
     "text": [
      "Complete\n"
     ]
    },
    {
     "data": {
      "image/png": "[encoded data removed]",
      "text/plain": [
       "<matplotlib.figure.Figure at 0x2db2e2f6470>"
      ]
     },
     "metadata": {},
     "output_type": "display_data"
    }
   ],
   "source": [
    "# branchFile = input('Branching File: ')\n",
    "branchFileName = 'brtoeAdam.csv'\n",
    "\n",
    "BranchData = pd.read_csv(photonBranchPath(branchFileName))\n",
    "\n",
    "xListBranch = BranchData['mA[GeV]']\n",
    "yListBranch = BranchData['BR']\n",
    "\n",
    "branchRatioInterp = interpolate.interp1d(xListBranch,yListBranch)\n",
    "\n",
    "\n",
    "fig = plt.figure(figsize = (6,6))\n",
    "plt.plot(xListBranch,yListBranch)\n",
    "plt.xlabel(r\"$m_{A'}$ [GeV]\", fontsize = 13)\n",
    "plt.ylabel(r\"Branching Ratio\", fontsize = 13)\n",
    "plt.suptitle('Branching Ratio Interpolation Visualization', fontsize = 16)\n",
    "plt.title('num = {0}'.format(num), fontsize = 14, loc = 'right')\n",
    "plt.grid()\n",
    "\n",
    "print ('Complete')"
   ]
  },
  {
   "cell_type": "markdown",
   "metadata": {
    "ExecuteTime": {
     "end_time": "2018-03-22T20:51:09.799117Z",
     "start_time": "2018-03-22T20:51:09.787988Z"
    }
   },
   "source": [
    "## Initialize Signal Data File"
   ]
  },
  {
   "cell_type": "markdown",
   "metadata": {},
   "source": [
    "### Initialize Dataframe"
   ]
  },
  {
   "cell_type": "markdown",
   "metadata": {},
   "source": [
    "This cell:\n",
    "\n",
    "1) Initializes the signal data frame\n",
    "\n",
    "2) Appends the $\\varepsilon$ and $m_{A'}$ data points based on the resolution dictated by the variable $\\texttt{num}$\n",
    "\n",
    "3) Appends the column headers to the data frame"
   ]
  },
  {
   "cell_type": "code",
   "execution_count": 10,
   "metadata": {
    "ExecuteTime": {
     "end_time": "2018-03-28T17:01:44.207064Z",
     "start_time": "2018-03-28T17:01:44.038115Z"
    }
   },
   "outputs": [
    {
     "name": "stdout",
     "output_type": "stream",
     "text": [
      "Complete\n"
     ]
    }
   ],
   "source": [
    "#########################################\n",
    "# Define parameter space Ranges\n",
    "#########################################\n",
    "# Logarithmic Spacing\n",
    "mALogRange = np.logspace(-2, 1, num, base = 10)\n",
    "epsilonLogRange = np.logspace(-11, -5, num, base = 10)\n",
    "\n",
    "#########################################\n",
    "# Initialize Master Arrays\n",
    "#########################################\n",
    "masterSignalArray = []\n",
    "\n",
    "#########################################\n",
    "# Populate the Master Arrays with the column headers and 'None' Cells\n",
    "#########################################\n",
    "counter = 0\n",
    "for mATemp in mALogRange:\n",
    "    for epsilonTemp in epsilonLogRange:\n",
    "        masterSignalArray.append([counter, ' ', mATemp, epsilonTemp, \\\n",
    "                                  'None', 'None', 'None', 'None', \\\n",
    "                                  ' ', ' ',' ', ' '])\n",
    "        counter +=1\n",
    "#########################################\n",
    "# Create a PANDAS DataFrame from the Master Arrays\n",
    "#########################################\n",
    "masterSignalDataframe = pd.DataFrame(data = masterSignalArray, \\\n",
    "    columns=['Counter', 'mX[GeV]', 'mA[GeV]', 'Epsilon',\\\n",
    "             'Capture[s-1]', 'Annihilation[s-1]', 'GammaAnn[s-1]', 'IceCubeSignal', \\\n",
    "             'SommerfeldFile', 'BranchingRatioFile','Resolution','Kappa0[GeV5]'])\n",
    "\n",
    "# filename = input('Signal Rate Filename: ')\n",
    "# writeFile = photonSignalDataPath(filename)\n",
    "# masterSignalDataframe.to_csv(writeFile, index=False)\n",
    "\n",
    "print ('Complete')"
   ]
  },
  {
   "cell_type": "markdown",
   "metadata": {},
   "source": [
    "### Write to External .csv File"
   ]
  },
  {
   "cell_type": "markdown",
   "metadata": {
    "ExecuteTime": {
     "end_time": "2018-03-22T20:57:01.532084Z",
     "start_time": "2018-03-22T20:57:01.522605Z"
    }
   },
   "source": [
    "This cell writes the signal data frame to an external csv file."
   ]
  },
  {
   "cell_type": "code",
   "execution_count": null,
   "metadata": {
    "ExecuteTime": {
     "start_time": "2018-03-28T17:01:46.056Z"
    }
   },
   "outputs": [
    {
     "name": "stdout",
     "output_type": "stream",
     "text": [
      "Signal Rate filename: 100GeVSignalPrime.csv\n",
      "--------------------\n",
      "You are about to commit the following to a .csv file\n",
      "mX[GeV]             : 100.0\n",
      "Kappa0[GeV5]        : 5.888306207279094e+27\n",
      "Sommerfeld File     : 100GeVSommerfeld.csv\n",
      "Branching Ratio File: brtoeAdam.csv\n",
      "Resolution          : 200\n",
      "\n"
     ]
    }
   ],
   "source": [
    "SignalFile = input('Signal Rate filename: ')\n",
    "writeFile = photonSignalDataPath(SignalFile)\n",
    "\n",
    "\n",
    "#############################\n",
    "# Double check that these values are correct\n",
    "#############################\n",
    "print ('--------------------')\n",
    "print ('You are about to commit the following to {0}'.format(SignalFile))\n",
    "print ('mX[GeV]             : {0}'.format(m_XSommerfeld))\n",
    "print ('Kappa0[GeV5]        : {0}'.format(kappa0Sommerfeld))\n",
    "print ('Sommerfeld File     : {0}'.format(SommFileName))\n",
    "print ('Branching Ratio File: {0}'.format(branchFileName))\n",
    "print ('Resolution          : {0}'.format(num))\n",
    "\n",
    "print ()\n",
    "\n",
    "yesNo = input ('Commit to .csv? (y/n)')\n",
    "assert (yesNo == 'y' or yesNo == 'n'), 'Invalid input, must be \"y\" or \"n.\"'\n",
    "\n",
    "if (yesNo == 'y'):\n",
    "\n",
    "    # Append a single value onto the Kappa0 Column\n",
    "    kappa0Value = 'None'\n",
    "    m_XValue = 'None'\n",
    "\n",
    "    # print (branchFile)\n",
    "\n",
    "    masterSignalDataframe.set_value(0, 'mX[GeV]', m_XSommerfeld)\n",
    "    masterSignalDataframe.set_value(0, 'Kappa0[GeV5]' , kappa0Sommerfeld)\n",
    "    masterSignalDataframe.set_value(0, 'SommerfeldFile', SommFileName)\n",
    "    masterSignalDataframe.set_value(0, 'BranchingRatioFile', branchFileName)\n",
    "    masterSignalDataframe.set_value(0, 'Resolution', num)\n",
    "\n",
    "    masterSignalDataframe.to_csv(writeFile, index=False)\n",
    "    \n",
    "    print ('Commit Executed')\n",
    "    \n",
    "else:\n",
    "    print ('Commit aborted')\n",
    "\n",
    "print ('Complete')"
   ]
  },
  {
   "cell_type": "markdown",
   "metadata": {},
   "source": [
    "## Sanity Check"
   ]
  },
  {
   "cell_type": "markdown",
   "metadata": {
    "ExecuteTime": {
     "end_time": "2017-08-29T01:37:07.554914Z",
     "start_time": "2017-08-29T01:37:07.542915Z"
    }
   },
   "source": [
    "We expect that:\n",
    "\n",
    "1). The \"Counter\" column should be $\\texttt{num}^2$ elements long \n",
    "\n",
    "2). \"Resolution\" has the value for $\\texttt{num}$ stored in it\n",
    "\n",
    "3). The $m_X$ and Kappa0 value from the Sommerfeld file are appended to the Signal file\n",
    "\n",
    "4). The Signal file has 12 columns labeled:\n",
    "    \n",
    "    Counter, mX[GeV], mA[GeV], Epsilon[s-1], Capture[s-1], Annihilation[s-1], GammaAnn[s-1],\n",
    "    IceCubeSignal, SommerfeldFile, BranchingRatioFile, Kappa0[GeV5]\n",
    "    \n",
    "5). \"SommerfeldFile\" and \"BranchingRatioFile\" are actually what you want them to be"
   ]
  },
  {
   "cell_type": "code",
   "execution_count": null,
   "metadata": {
    "ExecuteTime": {
     "end_time": "2018-03-28T04:39:10.655987Z",
     "start_time": "2018-03-28T04:39:09.535692Z"
    },
    "collapsed": true,
    "scrolled": true
   },
   "outputs": [],
   "source": [
    "filename = input('Signal Rate filename: ')\n",
    "writeFile = photonSignalDataPath(filename)\n",
    "\n",
    "print (pd.read_csv(writeFile, sep = ','))\n",
    "print ('Complete')"
   ]
  },
  {
   "cell_type": "markdown",
   "metadata": {},
   "source": [
    "# Calculation Cells"
   ]
  },
  {
   "cell_type": "markdown",
   "metadata": {},
   "source": [
    "Run these two cells onces you have a working signalData.csv file and you want to either start or resume calculations."
   ]
  },
  {
   "cell_type": "markdown",
   "metadata": {},
   "source": [
    "## SignalData.csv Calculations"
   ]
  },
  {
   "cell_type": "markdown",
   "metadata": {},
   "source": [
    "This cell scans through all the lines of signalData.csv file and calculates:\n",
    "\n",
    "1). Capture\n",
    "\n",
    "2). Annihilation\n",
    "\n",
    "3). GammaAnn\n",
    "\n",
    "4). Signal\n",
    "\n",
    "As mentioned previously, this cell may be stopped, by interrupting the kernel, at any time and resumed later."
   ]
  },
  {
   "cell_type": "code",
   "execution_count": 4,
   "metadata": {
    "ExecuteTime": {
     "end_time": "2018-03-28T06:34:45.586935Z",
     "start_time": "2018-03-28T04:41:55.797744Z"
    },
    "scrolled": true
   },
   "outputs": [
    {
     "name": "stdout",
     "output_type": "stream",
     "text": [
      "Signal Rate File: 100GeVSignalPrime.csv\n",
      "100GeVSignalPrime.csv\n",
      "\n",
      "--------------------\n",
      "Calculations for index: 40 recorded\n",
      "Calculations for index: 60 recorded\n",
      "Calculations for index: 80 recorded\n",
      "Calculations for index: 100 recorded\n",
      "Calculations for index: 120 recorded\n",
      "Calculations for index: 140 recorded\n",
      "Calculations for index: 160 recorded\n",
      "Calculations for index: 180 recorded\n",
      "Calculations for index: 200 recorded\n",
      "Calculations for index: 220 recorded\n",
      "Calculations for index: 240 recorded\n",
      "Calculations for index: 260 recorded\n",
      "Calculations for index: 280 recorded\n",
      "Calculations for index: 300 recorded\n",
      "Calculations for index: 320 recorded\n",
      "Calculations for index: 340 recorded\n",
      "Calculations for index: 360 recorded\n",
      "Calculations for index: 380 recorded\n",
      "Calculations for index: 400 recorded\n",
      "Calculations for index: 420 recorded\n",
      "Calculations for index: 440 recorded\n",
      "Calculations for index: 460 recorded\n",
      "Calculations for index: 480 recorded\n",
      "Calculations for index: 500 recorded\n",
      "Calculations for index: 520 recorded\n",
      "Calculations for index: 540 recorded\n",
      "Calculations for index: 560 recorded\n",
      "Calculations for index: 580 recorded\n",
      "Calculations for index: 600 recorded\n",
      "Calculations for index: 620 recorded\n",
      "Calculations for index: 640 recorded\n",
      "Calculations for index: 660 recorded\n",
      "Calculations for index: 680 recorded\n",
      "Calculations for index: 700 recorded\n",
      "Calculations for index: 720 recorded\n",
      "Calculations for index: 740 recorded\n",
      "Calculations for index: 760 recorded\n",
      "Calculations for index: 780 recorded\n",
      "Calculations for index: 800 recorded\n",
      "Calculations for index: 820 recorded\n",
      "Calculations for index: 840 recorded\n",
      "Calculations for index: 860 recorded\n",
      "Calculations for index: 880 recorded\n",
      "Calculations for index: 900 recorded\n",
      "Calculations for index: 920 recorded\n",
      "Calculations for index: 940 recorded\n",
      "Calculations for index: 960 recorded\n",
      "Calculations for index: 980 recorded\n",
      "Calculations for index: 1000 recorded\n",
      "Calculations for index: 1020 recorded\n",
      "Calculations for index: 1040 recorded\n",
      "Calculations for index: 1060 recorded\n",
      "Calculations for index: 1080 recorded\n",
      "Calculations for index: 1100 recorded\n",
      "Calculations for index: 1120 recorded\n",
      "Calculations for index: 1140 recorded\n",
      "Calculations for index: 1160 recorded\n",
      "Calculations for index: 1180 recorded\n",
      "Calculations for index: 1200 recorded\n",
      "Calculations for index: 1220 recorded\n",
      "Calculations for index: 1240 recorded\n",
      "Calculations for index: 1260 recorded\n",
      "Calculations for index: 1280 recorded\n",
      "Calculations for index: 1300 recorded\n",
      "Calculations for index: 1320 recorded\n",
      "Calculations for index: 1340 recorded\n",
      "Calculations for index: 1360 recorded\n",
      "Calculations for index: 1380 recorded\n",
      "Calculations for index: 1400 recorded\n",
      "Calculations for index: 1420 recorded\n",
      "Calculations for index: 1440 recorded\n",
      "Calculations for index: 1460 recorded\n",
      "Calculations for index: 1480 recorded\n",
      "Calculations for index: 1500 recorded\n",
      "Calculations for index: 1520 recorded\n",
      "Calculations for index: 1540 recorded\n",
      "Calculations for index: 1560 recorded\n",
      "Calculations for index: 1580 recorded\n",
      "Calculations for index: 1600 recorded\n",
      "Calculations for index: 1620 recorded\n",
      "Calculations for index: 1640 recorded\n",
      "Calculations for index: 1660 recorded\n",
      "Calculations for index: 1680 recorded\n",
      "Calculations for index: 1700 recorded\n",
      "Calculations for index: 1720 recorded\n",
      "Calculations for index: 1740 recorded\n",
      "Calculations for index: 1760 recorded\n",
      "Calculations for index: 1780 recorded\n",
      "Calculations for index: 1800 recorded\n",
      "Calculations for index: 1820 recorded\n",
      "Calculations for index: 1840 recorded\n",
      "Calculations for index: 1860 recorded\n",
      "Calculations for index: 1880 recorded\n",
      "Calculations for index: 1900 recorded\n",
      "Calculations for index: 1920 recorded\n",
      "Calculations for index: 1940 recorded\n",
      "Calculations for index: 1960 recorded\n",
      "Calculations for index: 1980 recorded\n",
      "Calculations for index: 2000 recorded\n",
      "Calculations for index: 2020 recorded\n",
      "Calculations for index: 2040 recorded\n",
      "Calculations for index: 2060 recorded\n",
      "Calculations for index: 2080 recorded\n",
      "Calculations for index: 2100 recorded\n",
      "Calculations for index: 2120 recorded\n",
      "Calculations for index: 2140 recorded\n",
      "Calculations for index: 2160 recorded\n",
      "Calculations for index: 2180 recorded\n",
      "Calculations for index: 2200 recorded\n",
      "Calculations for index: 2220 recorded\n",
      "Calculations for index: 2240 recorded\n",
      "Calculations for index: 2260 recorded\n",
      "Calculations for index: 2280 recorded\n",
      "Calculations for index: 2300 recorded\n",
      "Calculations for index: 2320 recorded\n",
      "Calculations for index: 2340 recorded\n",
      "Calculations for index: 2360 recorded\n",
      "Calculations for index: 2380 recorded\n",
      "Calculations for index: 2400 recorded\n",
      "Calculations for index: 2420 recorded\n",
      "Calculations for index: 2440 recorded\n",
      "Calculations for index: 2460 recorded\n",
      "Calculations for index: 2480 recorded\n",
      "Calculations for index: 2500 recorded\n",
      "Calculations for index: 2520 recorded\n",
      "Calculations for index: 2540 recorded\n",
      "Calculations for index: 2560 recorded\n",
      "Calculations for index: 2580 recorded\n",
      "Calculations for index: 2600 recorded\n",
      "Calculations for index: 2620 recorded\n",
      "Calculations for index: 2640 recorded\n",
      "Calculations for index: 2660 recorded\n",
      "Calculations for index: 2680 recorded\n",
      "Calculations for index: 2700 recorded\n",
      "Calculations for index: 2720 recorded\n",
      "Calculations for index: 2740 recorded\n",
      "Calculations for index: 2760 recorded\n",
      "Calculations for index: 2780 recorded\n",
      "Calculations for index: 2800 recorded\n",
      "Calculations for index: 2820 recorded\n",
      "Calculations for index: 2840 recorded\n",
      "Calculations for index: 2860 recorded\n",
      "Calculations for index: 2880 recorded\n",
      "Calculations for index: 2900 recorded\n",
      "Calculations for index: 2920 recorded\n",
      "Calculations for index: 2940 recorded\n",
      "Calculations for index: 2960 recorded\n",
      "Calculations for index: 2980 recorded\n",
      "Calculations for index: 3000 recorded\n",
      "Calculations for index: 3020 recorded\n",
      "Calculations for index: 3040 recorded\n",
      "Calculations for index: 3060 recorded\n",
      "Calculations for index: 3080 recorded\n",
      "Calculations for index: 3100 recorded\n",
      "Calculations for index: 3120 recorded\n",
      "Calculations for index: 3140 recorded\n",
      "Calculations for index: 3160 recorded\n",
      "Calculations for index: 3180 recorded\n",
      "Calculations for index: 3200 recorded\n",
      "Calculations for index: 3220 recorded\n",
      "Calculations for index: 3240 recorded\n",
      "Calculations for index: 3260 recorded\n",
      "Calculations for index: 3280 recorded\n",
      "Calculations for index: 3300 recorded\n",
      "Calculations for index: 3320 recorded\n",
      "Calculations for index: 3340 recorded\n",
      "Calculations for index: 3360 recorded\n",
      "Calculations for index: 3380 recorded\n",
      "Calculations for index: 3400 recorded\n",
      "Calculations for index: 3420 recorded\n",
      "Calculations for index: 3440 recorded\n",
      "Calculations for index: 3460 recorded\n",
      "Calculations for index: 3480 recorded\n",
      "Calculations for index: 3500 recorded\n",
      "Calculations for index: 3520 recorded\n",
      "Calculations for index: 3540 recorded\n",
      "Calculations for index: 3560 recorded\n",
      "Calculations for index: 3580 recorded\n",
      "Calculations for index: 3600 recorded\n",
      "Calculations for index: 3620 recorded\n",
      "Calculations for index: 3640 recorded\n",
      "Calculations for index: 3660 recorded\n",
      "Calculations for index: 3680 recorded\n",
      "Calculations for index: 3700 recorded\n",
      "Calculations for index: 3720 recorded\n",
      "Calculations for index: 3740 recorded\n",
      "Calculations for index: 3760 recorded\n",
      "Calculations for index: 3780 recorded\n",
      "Calculations for index: 3800 recorded\n",
      "Calculations for index: 3820 recorded\n",
      "Calculations for index: 3840 recorded\n",
      "Calculations for index: 3860 recorded\n",
      "Calculations for index: 3880 recorded\n",
      "Calculations for index: 3900 recorded\n",
      "Calculations for index: 3920 recorded\n",
      "Calculations for index: 3940 recorded\n",
      "Calculations for index: 3960 recorded\n",
      "Calculations for index: 3980 recorded\n",
      "Calculations for index: 4000 recorded\n",
      "Calculations for index: 4020 recorded\n",
      "Calculations for index: 4040 recorded\n",
      "Calculations for index: 4060 recorded\n",
      "Calculations for index: 4080 recorded\n",
      "Calculations for index: 4100 recorded\n",
      "Calculations for index: 4120 recorded\n",
      "Calculations for index: 4140 recorded\n",
      "Calculations for index: 4160 recorded\n",
      "Calculations for index: 4180 recorded\n",
      "Calculations for index: 4200 recorded\n",
      "Calculations for index: 4220 recorded\n",
      "Calculations for index: 4240 recorded\n",
      "Calculations for index: 4260 recorded\n",
      "Calculations for index: 4280 recorded\n",
      "Calculations for index: 4300 recorded\n",
      "Calculations for index: 4320 recorded\n"
     ]
    },
    {
     "name": "stdout",
     "output_type": "stream",
     "text": [
      "Calculations for index: 4340 recorded\n",
      "Calculations for index: 4360 recorded\n",
      "Calculations for index: 4380 recorded\n",
      "Calculations for index: 4400 recorded\n",
      "Calculations for index: 4420 recorded\n",
      "Calculations for index: 4440 recorded\n",
      "Calculations for index: 4460 recorded\n",
      "Calculations for index: 4480 recorded\n",
      "Calculations for index: 4500 recorded\n",
      "Calculations for index: 4520 recorded\n",
      "Calculations for index: 4540 recorded\n",
      "Calculations for index: 4560 recorded\n",
      "Calculations for index: 4580 recorded\n",
      "Calculations for index: 4600 recorded\n",
      "Calculations for index: 4620 recorded\n",
      "Calculations for index: 4640 recorded\n",
      "Calculations for index: 4660 recorded\n",
      "Calculations for index: 4680 recorded\n",
      "Calculations for index: 4700 recorded\n",
      "Calculations for index: 4720 recorded\n",
      "Calculations for index: 4740 recorded\n",
      "Calculations for index: 4760 recorded\n",
      "Calculations for index: 4780 recorded\n",
      "Calculations for index: 4800 recorded\n",
      "Calculations for index: 4820 recorded\n",
      "Calculations for index: 4840 recorded\n",
      "Calculations for index: 4860 recorded\n",
      "Calculations for index: 4880 recorded\n",
      "Calculations for index: 4900 recorded\n",
      "Calculations for index: 4920 recorded\n",
      "Calculations for index: 4940 recorded\n",
      "Calculations for index: 4960 recorded\n",
      "Calculations for index: 4980 recorded\n",
      "Calculations for index: 5000 recorded\n",
      "Calculations for index: 5020 recorded\n",
      "Calculations for index: 5040 recorded\n",
      "Calculations for index: 5060 recorded\n",
      "Calculations for index: 5080 recorded\n",
      "Calculations for index: 5100 recorded\n",
      "Calculations for index: 5120 recorded\n",
      "Calculations for index: 5140 recorded\n",
      "Calculations for index: 5160 recorded\n",
      "Calculations for index: 5180 recorded\n",
      "Calculations for index: 5200 recorded\n",
      "Calculations for index: 5220 recorded\n",
      "Calculations for index: 5240 recorded\n",
      "Calculations for index: 5260 recorded\n",
      "Calculations for index: 5280 recorded\n",
      "Calculations for index: 5300 recorded\n",
      "Calculations for index: 5320 recorded\n",
      "Calculations for index: 5340 recorded\n",
      "Calculations for index: 5360 recorded\n",
      "Calculations for index: 5380 recorded\n",
      "Calculations for index: 5400 recorded\n",
      "Calculations for index: 5420 recorded\n",
      "Calculations for index: 5440 recorded\n",
      "Calculations for index: 5460 recorded\n",
      "Calculations for index: 5480 recorded\n",
      "Calculations for index: 5500 recorded\n",
      "Calculations for index: 5520 recorded\n",
      "Calculations for index: 5540 recorded\n",
      "Calculations for index: 5560 recorded\n",
      "Calculations for index: 5580 recorded\n",
      "Calculations for index: 5600 recorded\n",
      "Calculations for index: 5620 recorded\n",
      "Calculations for index: 5640 recorded\n",
      "Calculations for index: 5660 recorded\n",
      "Calculations for index: 5680 recorded\n",
      "Calculations for index: 5700 recorded\n",
      "Calculations for index: 5720 recorded\n",
      "Calculations for index: 5740 recorded\n",
      "Calculations for index: 5760 recorded\n",
      "Calculations for index: 5780 recorded\n",
      "Calculations for index: 5800 recorded\n",
      "Calculations for index: 5820 recorded\n",
      "Calculations for index: 5840 recorded\n",
      "Calculations for index: 5860 recorded\n",
      "Calculations for index: 5880 recorded\n",
      "Calculations for index: 5900 recorded\n",
      "Calculations for index: 5920 recorded\n",
      "Calculations for index: 5940 recorded\n",
      "Calculations for index: 5960 recorded\n",
      "Calculations for index: 5980 recorded\n",
      "Calculations for index: 6000 recorded\n",
      "Calculations for index: 6020 recorded\n",
      "Calculations for index: 6040 recorded\n",
      "Calculations for index: 6060 recorded\n",
      "Calculations for index: 6080 recorded\n",
      "Calculations for index: 6100 recorded\n",
      "Calculations for index: 6120 recorded\n",
      "Calculations for index: 6140 recorded\n",
      "Calculations for index: 6160 recorded\n",
      "Calculations for index: 6180 recorded\n",
      "Calculations for index: 6200 recorded\n",
      "Calculations for index: 6220 recorded\n",
      "Calculations for index: 6240 recorded\n",
      "Calculations for index: 6260 recorded\n",
      "Calculations for index: 6280 recorded\n",
      "Calculations for index: 6300 recorded\n",
      "Calculations for index: 6320 recorded\n",
      "Calculations for index: 6340 recorded\n",
      "Calculations for index: 6360 recorded\n",
      "Calculations for index: 6380 recorded\n",
      "Calculations for index: 6400 recorded\n",
      "Calculations for index: 6420 recorded\n",
      "Calculations for index: 6440 recorded\n",
      "Calculations for index: 6460 recorded\n",
      "Calculations for index: 6480 recorded\n",
      "Calculations for index: 6500 recorded\n",
      "Calculations for index: 6520 recorded\n",
      "Calculations for index: 6540 recorded\n",
      "Calculations for index: 6560 recorded\n",
      "Calculations for index: 6580 recorded\n",
      "Calculations for index: 6600 recorded\n",
      "Calculations for index: 6620 recorded\n",
      "Calculations for index: 6640 recorded\n",
      "Calculations for index: 6660 recorded\n",
      "Calculations for index: 6680 recorded\n",
      "Calculations for index: 6700 recorded\n",
      "Calculations for index: 6720 recorded\n",
      "Calculations for index: 6740 recorded\n",
      "Calculations for index: 6760 recorded\n",
      "Calculations for index: 6780 recorded\n",
      "Calculations for index: 6800 recorded\n",
      "Calculations for index: 6820 recorded\n",
      "Calculations for index: 6840 recorded\n",
      "Calculations for index: 6860 recorded\n",
      "Calculations for index: 6880 recorded\n",
      "Calculations for index: 6900 recorded\n",
      "Calculations for index: 6920 recorded\n",
      "Calculations for index: 6940 recorded\n",
      "Calculations for index: 6960 recorded\n",
      "Calculations for index: 6980 recorded\n",
      "Calculations for index: 7000 recorded\n",
      "Calculations for index: 7020 recorded\n",
      "Calculations for index: 7040 recorded\n",
      "Calculations for index: 7060 recorded\n",
      "Calculations for index: 7080 recorded\n",
      "Calculations for index: 7100 recorded\n",
      "Calculations for index: 7120 recorded\n",
      "Calculations for index: 7140 recorded\n",
      "Calculations for index: 7160 recorded\n",
      "Calculations for index: 7180 recorded\n",
      "Calculations for index: 7200 recorded\n",
      "Calculations for index: 7220 recorded\n",
      "Calculations for index: 7240 recorded\n",
      "Calculations for index: 7260 recorded\n",
      "Calculations for index: 7280 recorded\n",
      "Calculations for index: 7300 recorded\n",
      "Calculations for index: 7320 recorded\n",
      "Calculations for index: 7340 recorded\n",
      "Calculations for index: 7360 recorded\n",
      "Calculations for index: 7380 recorded\n",
      "Calculations for index: 7400 recorded\n",
      "Calculations for index: 7420 recorded\n"
     ]
    },
    {
     "ename": "KeyboardInterrupt",
     "evalue": "",
     "output_type": "error",
     "traceback": [
      "\u001b[1;31m---------------------------------------------------------------------------\u001b[0m",
      "\u001b[1;31mKeyboardInterrupt\u001b[0m                         Traceback (most recent call last)",
      "\u001b[1;32m<ipython-input-4-6df3338963bb>\u001b[0m in \u001b[0;36m<module>\u001b[1;34m()\u001b[0m\n\u001b[0;32m     52\u001b[0m \u001b[1;33m\u001b[0m\u001b[0m\n\u001b[0;32m     53\u001b[0m     \u001b[1;32mif\u001b[0m \u001b[1;33m(\u001b[0m\u001b[0mtestValue\u001b[0m \u001b[1;33m==\u001b[0m \u001b[1;34m'None'\u001b[0m\u001b[1;33m)\u001b[0m\u001b[1;33m:\u001b[0m\u001b[1;33m\u001b[0m\u001b[0m\n\u001b[1;32m---> 54\u001b[1;33m         \u001b[0msignalDataIn\u001b[0m\u001b[1;33m.\u001b[0m\u001b[0mto_csv\u001b[0m\u001b[1;33m(\u001b[0m\u001b[0msignalWriteFile\u001b[0m\u001b[1;33m,\u001b[0m \u001b[0msep\u001b[0m\u001b[1;33m=\u001b[0m\u001b[1;34m','\u001b[0m\u001b[1;33m,\u001b[0m\u001b[0mindex\u001b[0m\u001b[1;33m=\u001b[0m\u001b[1;32mFalse\u001b[0m\u001b[1;33m)\u001b[0m\u001b[1;33m\u001b[0m\u001b[0m\n\u001b[0m\u001b[0;32m     55\u001b[0m \u001b[1;33m\u001b[0m\u001b[0m\n\u001b[0;32m     56\u001b[0m         \u001b[1;31m#########################################\u001b[0m\u001b[1;33m\u001b[0m\u001b[1;33m\u001b[0m\u001b[0m\n",
      "\u001b[1;32m~\\Anaconda3\\lib\\site-packages\\pandas\\core\\frame.py\u001b[0m in \u001b[0;36mto_csv\u001b[1;34m(self, path_or_buf, sep, na_rep, float_format, columns, header, index, index_label, mode, encoding, compression, quoting, quotechar, line_terminator, chunksize, tupleize_cols, date_format, doublequote, escapechar, decimal)\u001b[0m\n\u001b[0;32m   1401\u001b[0m                                      \u001b[0mdoublequote\u001b[0m\u001b[1;33m=\u001b[0m\u001b[0mdoublequote\u001b[0m\u001b[1;33m,\u001b[0m\u001b[1;33m\u001b[0m\u001b[0m\n\u001b[0;32m   1402\u001b[0m                                      escapechar=escapechar, decimal=decimal)\n\u001b[1;32m-> 1403\u001b[1;33m         \u001b[0mformatter\u001b[0m\u001b[1;33m.\u001b[0m\u001b[0msave\u001b[0m\u001b[1;33m(\u001b[0m\u001b[1;33m)\u001b[0m\u001b[1;33m\u001b[0m\u001b[0m\n\u001b[0m\u001b[0;32m   1404\u001b[0m \u001b[1;33m\u001b[0m\u001b[0m\n\u001b[0;32m   1405\u001b[0m         \u001b[1;32mif\u001b[0m \u001b[0mpath_or_buf\u001b[0m \u001b[1;32mis\u001b[0m \u001b[1;32mNone\u001b[0m\u001b[1;33m:\u001b[0m\u001b[1;33m\u001b[0m\u001b[0m\n",
      "\u001b[1;32m~\\Anaconda3\\lib\\site-packages\\pandas\\io\\formats\\format.py\u001b[0m in \u001b[0;36msave\u001b[1;34m(self)\u001b[0m\n\u001b[0;32m   1590\u001b[0m                 \u001b[0mself\u001b[0m\u001b[1;33m.\u001b[0m\u001b[0mwriter\u001b[0m \u001b[1;33m=\u001b[0m \u001b[0mcsv\u001b[0m\u001b[1;33m.\u001b[0m\u001b[0mwriter\u001b[0m\u001b[1;33m(\u001b[0m\u001b[0mf\u001b[0m\u001b[1;33m,\u001b[0m \u001b[1;33m**\u001b[0m\u001b[0mwriter_kwargs\u001b[0m\u001b[1;33m)\u001b[0m\u001b[1;33m\u001b[0m\u001b[0m\n\u001b[0;32m   1591\u001b[0m \u001b[1;33m\u001b[0m\u001b[0m\n\u001b[1;32m-> 1592\u001b[1;33m             \u001b[0mself\u001b[0m\u001b[1;33m.\u001b[0m\u001b[0m_save\u001b[0m\u001b[1;33m(\u001b[0m\u001b[1;33m)\u001b[0m\u001b[1;33m\u001b[0m\u001b[0m\n\u001b[0m\u001b[0;32m   1593\u001b[0m \u001b[1;33m\u001b[0m\u001b[0m\n\u001b[0;32m   1594\u001b[0m         \u001b[1;32mfinally\u001b[0m\u001b[1;33m:\u001b[0m\u001b[1;33m\u001b[0m\u001b[0m\n",
      "\u001b[1;32m~\\Anaconda3\\lib\\site-packages\\pandas\\io\\formats\\format.py\u001b[0m in \u001b[0;36m_save\u001b[1;34m(self)\u001b[0m\n\u001b[0;32m   1691\u001b[0m                 \u001b[1;32mbreak\u001b[0m\u001b[1;33m\u001b[0m\u001b[0m\n\u001b[0;32m   1692\u001b[0m \u001b[1;33m\u001b[0m\u001b[0m\n\u001b[1;32m-> 1693\u001b[1;33m             \u001b[0mself\u001b[0m\u001b[1;33m.\u001b[0m\u001b[0m_save_chunk\u001b[0m\u001b[1;33m(\u001b[0m\u001b[0mstart_i\u001b[0m\u001b[1;33m,\u001b[0m \u001b[0mend_i\u001b[0m\u001b[1;33m)\u001b[0m\u001b[1;33m\u001b[0m\u001b[0m\n\u001b[0m\u001b[0;32m   1694\u001b[0m \u001b[1;33m\u001b[0m\u001b[0m\n\u001b[0;32m   1695\u001b[0m     \u001b[1;32mdef\u001b[0m \u001b[0m_save_chunk\u001b[0m\u001b[1;33m(\u001b[0m\u001b[0mself\u001b[0m\u001b[1;33m,\u001b[0m \u001b[0mstart_i\u001b[0m\u001b[1;33m,\u001b[0m \u001b[0mend_i\u001b[0m\u001b[1;33m)\u001b[0m\u001b[1;33m:\u001b[0m\u001b[1;33m\u001b[0m\u001b[0m\n",
      "\u001b[1;32m~\\Anaconda3\\lib\\site-packages\\pandas\\io\\formats\\format.py\u001b[0m in \u001b[0;36m_save_chunk\u001b[1;34m(self, start_i, end_i)\u001b[0m\n\u001b[0;32m   1717\u001b[0m                                         quoting=self.quoting)\n\u001b[0;32m   1718\u001b[0m \u001b[1;33m\u001b[0m\u001b[0m\n\u001b[1;32m-> 1719\u001b[1;33m         \u001b[0mlib\u001b[0m\u001b[1;33m.\u001b[0m\u001b[0mwrite_csv_rows\u001b[0m\u001b[1;33m(\u001b[0m\u001b[0mself\u001b[0m\u001b[1;33m.\u001b[0m\u001b[0mdata\u001b[0m\u001b[1;33m,\u001b[0m \u001b[0mix\u001b[0m\u001b[1;33m,\u001b[0m \u001b[0mself\u001b[0m\u001b[1;33m.\u001b[0m\u001b[0mnlevels\u001b[0m\u001b[1;33m,\u001b[0m \u001b[0mself\u001b[0m\u001b[1;33m.\u001b[0m\u001b[0mcols\u001b[0m\u001b[1;33m,\u001b[0m \u001b[0mself\u001b[0m\u001b[1;33m.\u001b[0m\u001b[0mwriter\u001b[0m\u001b[1;33m)\u001b[0m\u001b[1;33m\u001b[0m\u001b[0m\n\u001b[0m\u001b[0;32m   1720\u001b[0m \u001b[1;33m\u001b[0m\u001b[0m\n\u001b[0;32m   1721\u001b[0m \u001b[1;33m\u001b[0m\u001b[0m\n",
      "\u001b[1;32mpandas\\_libs\\lib.pyx\u001b[0m in \u001b[0;36mpandas._libs.lib.write_csv_rows (pandas\\_libs\\lib.c:20130)\u001b[1;34m()\u001b[0m\n",
      "\u001b[1;31mKeyboardInterrupt\u001b[0m: "
     ]
    }
   ],
   "source": [
    "signalFileName = input('Signal Rate File: ')\n",
    "signalWriteFile = photonSignalDataPath(signalFileName)\n",
    "signalDataIn = pd.read_csv(signalWriteFile, sep = ',')\n",
    "\n",
    "#########################################\n",
    "# Define loop range\n",
    "#########################################\n",
    "# Scan down 'Counter' column, start calculating at first non-calculated value\n",
    "\n",
    "#########################################\n",
    "# Parameters independent of data file:\n",
    "#########################################\n",
    "Filem_X = float(signalDataIn.loc[0, 'mX[GeV]'])\n",
    "FileKappa0 = float(signalDataIn.loc[0, 'Kappa0[GeV5]'])\n",
    "Alpha = 1./137\n",
    "LiveTime = yr2s(10)\n",
    "\n",
    "\n",
    "#########################################\n",
    "# Sommerfeld Interpolation\n",
    "#########################################\n",
    "sommFileName = signalDataIn.loc[0,'SommerfeldFile']\n",
    "sommDataIn = pd.read_csv(photonSommerfeldPath(sommFileName))\n",
    "mAData1 = sommDataIn['mA[GeV]']\n",
    "SommDataValues = sommDataIn['ThermAvgSommerfeld']\n",
    "SommInterp = interpolate.interp1d(mAData1,SommDataValues)\n",
    "\n",
    "#########################################\n",
    "# Branching Ratio Interpolation\n",
    "#########################################\n",
    "branchFileName = signalDataIn.loc[0,'BranchingRatioFile']\n",
    "branchDataIn = pd.read_csv(photonBranchPath(branchFileName))\n",
    "\n",
    "mABranch = branchDataIn['mA[GeV]']\n",
    "branchingDataValues = branchDataIn['BR']\n",
    "\n",
    "branchRatioInterp = interpolate.interp1d(mABranch,branchingDataValues)\n",
    "\n",
    "\n",
    "#########################################\n",
    "# Begin the loop calculations\n",
    "#########################################\n",
    "loopRange = range(0,len(signalDataIn['Counter']))\n",
    "\n",
    "print (signalFileName)\n",
    "print ()\n",
    "print ('--------------------')\n",
    "finishedCounter = 0\n",
    "index = 0\n",
    "for index in loopRange:\n",
    "    testValue = signalDataIn.loc[index, 'IceCubeSignal']\n",
    "    \n",
    "    if (testValue == 'None'):\n",
    "        signalDataIn.to_csv(signalWriteFile, sep=',',index=False) \n",
    "\n",
    "        #########################################\n",
    "        # Initialize loop-specific Quantities\n",
    "        #########################################\n",
    "        Filem_ATemp = float(signalDataIn.loc[index, 'mA[GeV]'])\n",
    "        FileEpsilonTemp = float(signalDataIn.loc[index, 'Epsilon'])\n",
    "        Alpha_X = alphaTherm(Filem_X, Filem_ATemp)\n",
    "        Sommerfeld = SommInterp(Filem_ATemp)\n",
    "        BranchingRatio = branchRatioInterp(Filem_ATemp)\n",
    "        \n",
    "        #########################################\n",
    "        # Loop Calculations\n",
    "        #########################################\n",
    "        Capture = photonCCapQuick(Filem_X, Filem_ATemp, FileEpsilonTemp, Alpha_X, FileKappa0)\n",
    "        SigmaVTree = photonSigmaVtree(Filem_X, Filem_ATemp, Alpha_X)\n",
    "        Annihilation = CAnnCalc(Filem_X, SigmaVTree, thermAvgSomm = Sommerfeld)\n",
    "        GammaAnn = gammaAnn(Capture, Annihilation)\n",
    "        L = decayLength(Filem_X, Filem_ATemp, FileEpsilonTemp, BranchingRatio)\n",
    "        EpsilonDecay = epsilonDecay(L)\n",
    "        \n",
    "        IceCubeSignal = iceCubeSignal(GammaAnn, EpsilonDecay, LiveTime)\n",
    "        \n",
    "        #########################################\n",
    "        # Append Calculated Values to SignalFile.csv\n",
    "        #########################################\n",
    "        signalDataIn.set_value(index, 'Capture[s-1]', Capture)\n",
    "        signalDataIn.set_value(index, 'Annihilation[s-1]', Annihilation)\n",
    "        signalDataIn.set_value(index, 'GammaAnn[s-1]', GammaAnn)\n",
    "        signalDataIn.set_value(index, 'IceCubeSignal', IceCubeSignal)\n",
    "        \n",
    "        \n",
    "        #########################################\n",
    "        # Overwrite SignalFile.csv\n",
    "        #########################################\n",
    "        signalDataIn.to_csv(signalWriteFile, sep=',',index=False) \n",
    "        finishedCounter += 1\n",
    "        \n",
    "        if (index % 20 == 0):\n",
    "            print ('Calculations for index: {0} recorded'.format(index))\n",
    "        \n",
    "    elif (testValue != 'None'):\n",
    "        finishedCounter += 1\n",
    "    \n",
    "    if (finishedCounter == len(signalDataIn['Counter'])):\n",
    "        print ('--------------------')\n",
    "        print ('All Calculations Complete')\n",
    "        break\n",
    "        \n",
    "print ('Complete')"
   ]
  },
  {
   "cell_type": "markdown",
   "metadata": {},
   "source": [
    "## Manual Overwrite"
   ]
  },
  {
   "cell_type": "markdown",
   "metadata": {},
   "source": [
    "This cell is a manual overwrite of the signalData.csv file.\n",
    "\n",
    "It is REQUIRED that you run this if you interrupt the calculation. Failure to do so could result in a loss of all your data."
   ]
  },
  {
   "cell_type": "code",
   "execution_count": 5,
   "metadata": {
    "ExecuteTime": {
     "end_time": "2018-03-28T06:34:49.433831Z",
     "start_time": "2018-03-28T06:34:48.536541Z"
    }
   },
   "outputs": [
    {
     "name": "stdout",
     "output_type": "stream",
     "text": [
      "Complete\n"
     ]
    }
   ],
   "source": [
    "signalDataIn.to_csv(signalWriteFile, sep=',',index=False) \n",
    "\n",
    "print ('Complete')"
   ]
  },
  {
   "cell_type": "markdown",
   "metadata": {},
   "source": [
    "------------------------"
   ]
  },
  {
   "cell_type": "markdown",
   "metadata": {},
   "source": [
    "# Generate the Signal Graphs"
   ]
  },
  {
   "cell_type": "markdown",
   "metadata": {},
   "source": [
    "The general recipie is:\n",
    "\n",
    "1). Read in a Signal Data file\n",
    "\n",
    "2). Extract the plot information\n",
    "\n",
    "3). Plot\n"
   ]
  },
  {
   "cell_type": "markdown",
   "metadata": {},
   "source": [
    "## Read in External Signal File"
   ]
  },
  {
   "cell_type": "code",
   "execution_count": 3,
   "metadata": {
    "ExecuteTime": {
     "end_time": "2018-03-28T16:59:57.613148Z",
     "start_time": "2018-03-28T16:59:49.110116Z"
    }
   },
   "outputs": [
    {
     "name": "stdout",
     "output_type": "stream",
     "text": [
      "Signal Rate filename: 100GeVSignal - Copy.csv\n",
      "100GeVSignal - Copy.csv\n"
     ]
    }
   ],
   "source": [
    "GammaFile = input('Signal Rate filename: ')\n",
    "readFile = photonSignalDataPath(GammaFile)\n",
    "\n",
    "print (GammaFile)"
   ]
  },
  {
   "cell_type": "markdown",
   "metadata": {},
   "source": [
    "## Define the plot region and extract plot data"
   ]
  },
  {
   "cell_type": "markdown",
   "metadata": {},
   "source": [
    "We plot the Data under the column\n",
    "\n",
    "    mA[GeV], Epsilon, IceCubeSignal"
   ]
  },
  {
   "cell_type": "code",
   "execution_count": 5,
   "metadata": {
    "ExecuteTime": {
     "end_time": "2018-03-28T17:00:16.889287Z",
     "start_time": "2018-03-28T17:00:16.680192Z"
    }
   },
   "outputs": [
    {
     "name": "stdout",
     "output_type": "stream",
     "text": [
      "Complete\n"
     ]
    }
   ],
   "source": [
    "rawData = pd.read_csv(photonSignalDataPath(GammaFile))\n",
    "Filem_X = float(rawData.loc[0,'mX[GeV]'])\n",
    "\n",
    "\n",
    "#Pull out min / max values\n",
    "\n",
    "xMin = min(rawData['mA[GeV]'])\n",
    "xMax = max(rawData['mA[GeV]'])\n",
    "yMin = min(rawData['Epsilon'])\n",
    "yMax = max(rawData['Epsilon'])\n",
    "\n",
    "\n",
    "# Define the dimension of the grid. \n",
    "# For an n x n grid, this will pull out the number \"n\"\n",
    "# gridDim = len(np.unique(rawData['mA[GeV]']))\n",
    "gridDim = int(rawData.loc[0,'Resolution'])\n",
    "\n",
    "\n",
    "\n",
    "#########################################\n",
    "# Create the n x n grid\n",
    "#########################################\n",
    "# Logarithmic Spacing\n",
    "xLogRange = np.logspace(xMin, xMax, gridDim, base = 10)\n",
    "yLogRange = np.logspace(yMin, yMax, gridDim, base = 10)\n",
    "\n",
    "xLinRange = np.linspace(xMin, xMax, gridDim)\n",
    "yLinRange = np.linspace(yMin, yMax, gridDim)\n",
    "\n",
    "#########################################\n",
    "# Read in and reshape the Contour data\n",
    "#########################################\n",
    "# This reads in contour data as a single column,\n",
    "#     but we reshape it to a 2D, n x n array to fit the grid\n",
    "\n",
    "z = [rawData['IceCubeSignal']]\n",
    "SignalData = np.reshape(z, (len(xLinRange), len(yLinRange)))\n",
    "\n",
    "print ('Complete')"
   ]
  },
  {
   "cell_type": "markdown",
   "metadata": {},
   "source": [
    "## Plot the Signal Events"
   ]
  },
  {
   "cell_type": "code",
   "execution_count": 6,
   "metadata": {
    "ExecuteTime": {
     "end_time": "2018-03-28T17:00:20.230894Z",
     "start_time": "2018-03-28T17:00:18.622949Z"
    },
    "scrolled": false
   },
   "outputs": [
    {
     "name": "stderr",
     "output_type": "stream",
     "text": [
      "C:\\Users\\Adam Green\\Anaconda3\\lib\\site-packages\\ipykernel_launcher.py:30: RuntimeWarning: divide by zero encountered in log10\n"
     ]
    },
    {
     "data": {
      "image/png": "[encoded data removed]",
      "text/plain": [
       "<matplotlib.figure.Figure at 0x2db2cd3b470>"
      ]
     },
     "metadata": {},
     "output_type": "display_data"
    }
   ],
   "source": [
    "###############################\n",
    "# Set the correct units for m_X\n",
    "###############################\n",
    "m_XUnit = 'None'\n",
    "if (Filem_X < 1000):\n",
    "    m_XDisplay = Filem_X\n",
    "    m_XUnit = 'GeV'\n",
    "\n",
    "if (Filem_X >= 1000):\n",
    "    m_XDisplay = Filem_X * 10**-3\n",
    "    m_XUnit = 'TeV'\n",
    "    \n",
    "    \n",
    "###############################\n",
    "# Define X,Y tickmarks\n",
    "###############################\n",
    "# xTicks = np.linspace(xMin, xMax, 10)\n",
    "# yTicks = np.linspace(yMin, yMax, 10)\n",
    "# xTicks = np.logspace((xMin), (xMax), 7, base = 10)\n",
    "# yTicks = np.logspace(np.log10(yMin),np.log10(yMax),7, base = 10)\n",
    "    \n",
    "###############################\n",
    "# Actual Plotting Stuff\n",
    "###############################\n",
    "fig0 = plt.figure(figsize = (8,6))\n",
    "ax0 = fig0.add_subplot(111)\n",
    "# ax0.set_xticks(xTicks)\n",
    "# ax0.set_yticks(yTicks)\n",
    "\n",
    "CP = plt.contour(np.log10(xLogRange), np.log10(yLogRange), \\\n",
    "                 np.log10(SignalData.transpose()),\\\n",
    "                 levels=[0,1,2,3],\n",
    "                )\n",
    "\n",
    "\n",
    "plt.xlabel(r'$m_A$ $[GeV]$', fontsize = 13)\n",
    "plt.ylabel(r'$\\varepsilon$', fontsize = 13)\n",
    "plt.suptitle('IceCube Events', fontsize = 16)\n",
    "plt.title(r'$m_X$ = {0} {1}'.format(m_XDisplay, m_XUnit), loc = 'right', fontsize = 14)\n",
    "# plt.axis([xMin,xMax,yMin,yMax])\n",
    "plt.clabel(CP, inline=1, fontsize=12)\n",
    "plt.colorbar()\n",
    "plt.grid()"
   ]
  },
  {
   "cell_type": "markdown",
   "metadata": {},
   "source": [
    "### Save Figure"
   ]
  },
  {
   "cell_type": "code",
   "execution_count": null,
   "metadata": {
    "ExecuteTime": {
     "end_time": "2017-09-13T23:28:37.819728Z",
     "start_time": "2017-09-13T23:28:34.240451Z"
    },
    "collapsed": true
   },
   "outputs": [],
   "source": [
    "figName = input('Filename: ')\n",
    "\n",
    "fig0.savefig(photonSignalPlotPath(figName), dpi = 700, bbox_inches = 'tight')\n",
    "print ('Complete')"
   ]
  },
  {
   "cell_type": "code",
   "execution_count": null,
   "metadata": {
    "collapsed": true
   },
   "outputs": [],
   "source": []
  },
  {
   "cell_type": "code",
   "execution_count": null,
   "metadata": {
    "collapsed": true
   },
   "outputs": [],
   "source": []
  },
  {
   "cell_type": "code",
   "execution_count": null,
   "metadata": {
    "collapsed": true
   },
   "outputs": [],
   "source": []
  },
  {
   "cell_type": "code",
   "execution_count": null,
   "metadata": {
    "ExecuteTime": {
     "end_time": "2017-09-13T16:48:19.306106Z",
     "start_time": "2017-09-13T16:48:18.885992Z"
    },
    "collapsed": true
   },
   "outputs": [],
   "source": [
    "###############################\n",
    "# Set the correct units for m_X\n",
    "###############################\n",
    "m_XUnit = 'None'\n",
    "if (Filem_X < 1000):\n",
    "    m_XDisplay = Filem_X\n",
    "    m_XUnit = 'GeV'\n",
    "\n",
    "if (Filem_X >= 1000):\n",
    "    m_XDisplay = Filem_X * 10**-3\n",
    "    m_XUnit = 'TeV'\n",
    "    \n",
    "    \n",
    "###############################\n",
    "# Define X,Y tickmarks\n",
    "###############################\n",
    "# xTicks = np.linspace(xMin, xMax, 10)\n",
    "# yTicks = np.linspace(yMin, yMax, 10)\n",
    "# xTicks = np.logspace((xMin), (xMax), 7, base = 10)\n",
    "# yTicks = np.logspace(np.log10(yMin),np.log10(yMax),7, base = 10)\n",
    "    \n",
    "###############################\n",
    "# Actual Plotting Stuff\n",
    "###############################\n",
    "fig0 = plt.figure(figsize = (8,6))\n",
    "ax0 = fig0.add_subplot(111)\n",
    "# ax0.set_xticks(xTicks)\n",
    "# ax0.set_yticks(yTicks)\n",
    "\n",
    "CP = plt.contour(np.log10(xLogRange), np.log10(yLogRange), \\\n",
    "                 np.log10(SignalData.transpose()),\\\n",
    "                 levels=[0,1,2,3,],\n",
    "                )\n",
    "\n",
    "\n",
    "plt.xlabel(r'$m_A$ $[GeV]$', fontsize = 13)\n",
    "plt.ylabel(r'$\\varepsilon$', fontsize = 13)\n",
    "plt.suptitle('IceCube Events', fontsize = 14)\n",
    "plt.title(r'$m_X$ = {0} {1}'.format(m_XDisplay, m_XUnit), loc = 'right', fontsize = 13)\n",
    "# plt.axis([xMin,xMax,yMin,yMax])\n",
    "plt.clabel(CP, inline=1, fontsize=12)\n",
    "plt.colorbar(CP)\n",
    "plt.grid()"
   ]
  }
 ],
 "metadata": {
  "kernelspec": {
   "display_name": "Python 3",
   "language": "python",
   "name": "python3"
  },
  "language_info": {
   "codemirror_mode": {
    "name": "ipython",
    "version": 3
   },
   "file_extension": ".py",
   "mimetype": "text/x-python",
   "name": "python",
   "nbconvert_exporter": "python",
   "pygments_lexer": "ipython3",
   "version": "3.6.2"
  },
  "latex_envs": {
   "LaTeX_envs_menu_present": true,
   "autocomplete": true,
   "bibliofile": "biblio.bib",
   "cite_by": "apalike",
   "current_citInitial": 1,
   "eqLabelWithNumbers": true,
   "eqNumInitial": 1,
   "hotkeys": {
    "equation": "Ctrl-E",
    "itemize": "Ctrl-I"
   },
   "labels_anchors": false,
   "latex_user_defs": false,
   "report_style_numbering": false,
   "user_envs_cfg": false
  }
 },
 "nbformat": 4,
 "nbformat_minor": 2
}
