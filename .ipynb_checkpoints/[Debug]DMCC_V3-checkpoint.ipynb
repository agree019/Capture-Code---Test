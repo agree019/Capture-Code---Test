{
 "cells": [
  {
   "cell_type": "markdown",
   "metadata": {
    "deletable": true,
    "editable": true
   },
   "source": [
    "# Debug Notebook\n",
    "\n",
    "This notebook serves as a debug workspace so I can keep the other notebooks clean.\n",
    "All function definitions and capture code preamble is loaded into this workbook to replicate a test space."
   ]
  },
  {
   "cell_type": "markdown",
   "metadata": {
    "deletable": true,
    "editable": true
   },
   "source": [
    "## Updates and Important Words\n",
    " - Need to learn how to output to a file and save it  "
   ]
  },
  {
   "cell_type": "markdown",
   "metadata": {
    "deletable": true,
    "editable": true
   },
   "source": [
    "### Plotting template\n",
    "plt.xlabel('X label')\n",
    "\n",
    "plt.ylabel('Y Label')\n",
    "\n",
    "plt.title('Title')\n",
    "\n",
    "plt.text(xCoordinate, yCoordinate, 'text')\n",
    "\n",
    "plt.axis([xlow, xhigh, ylow, yhigh])\n",
    "\n",
    "plt.grid(True)\n",
    "\n",
    "plt.show()"
   ]
  },
  {
   "cell_type": "markdown",
   "metadata": {
    "deletable": true,
    "editable": true
   },
   "source": [
    "## Initialize"
   ]
  },
  {
   "cell_type": "code",
   "execution_count": 26,
   "metadata": {
    "collapsed": false,
    "deletable": true,
    "editable": true
   },
   "outputs": [
    {
     "name": "stdout",
     "output_type": "stream",
     "text": [
      "Complete\n"
     ]
    }
   ],
   "source": [
    "import numpy as np\n",
    "import scipy as sp\n",
    "import pandas\n",
    "from scipy import interpolate\n",
    "import random\n",
    "import time\n",
    "\n",
    "import scipy.integrate as integrate\n",
    "import matplotlib.pyplot as plt\n",
    "%matplotlib inline\n",
    "\n",
    "import timeit as T\n",
    "from IPython.core.debugger import Tracer\n",
    "# write 'Tracer()()' anywhere you want to start the debugger\n",
    "\n",
    "\n",
    "print 'Complete'"
   ]
  },
  {
   "cell_type": "markdown",
   "metadata": {
    "deletable": true,
    "editable": true
   },
   "source": [
    "## Importing Earth Density Data (PREM500)\n",
    "The raw data from PREM500 has already been converted into MKS units, however, the table where that data came from (see [51]) gives the radius in $km$ and density in $g/cm^3$"
   ]
  },
  {
   "cell_type": "code",
   "execution_count": 27,
   "metadata": {
    "collapsed": false,
    "deletable": true,
    "editable": true
   },
   "outputs": [
    {
     "name": "stdout",
     "output_type": "stream",
     "text": [
      "Complete\n"
     ]
    }
   ],
   "source": [
    "# Radius is column 1, Density is column 2\n",
    "# Radius in meters: verified by REF [51] Table 1 pg. 312\n",
    "# Density in grams/cm^3, verified by REF [51] Table 1 pg. 312\n",
    "\n",
    "# For me later on: n_N.iat[i,j] # Access the element at the 'ith' row and 'jth' column of n_N starting at (i,j) = (0,0)\n",
    "\n",
    "# This section grabs the data and converts it to MKS units\n",
    "data = pandas.read_csv('PREM500.csv', sep = ',')\n",
    "radiusTemp1 = data[[0]]  # Radius in Meters\n",
    "densityTemp1 = data[[1]] # Density in g/cm^3\n",
    "\n",
    "\n",
    "# The interpolation function doesn't like these objects, so they need to be massaged into 1-D numpy arrays\n",
    "radiusList = np.asarray(radiusTemp1).squeeze()\n",
    "densityList = np.asarray(densityTemp1).squeeze()\n",
    "\n",
    "print 'Complete'"
   ]
  },
  {
   "cell_type": "markdown",
   "metadata": {
    "deletable": true,
    "editable": true
   },
   "source": [
    "### Shell Thickness Check\n",
    "For my reference:\n",
    "radius = [0, r[1], r[2], ... , r[504] ]\n",
    "\n",
    "radius2 = [0, r[1], r[2], ... , r[503] ]\n",
    "\n",
    "s = [0, 0, r[1], r[2], ..., r[503] ]\n",
    "\n",
    "They all have length of 504"
   ]
  },
  {
   "cell_type": "markdown",
   "metadata": {},
   "source": [
    "My radiusList matches Flips Radius exactly.\n",
    "My deltaR matches Flip's $\\Delta r$ exactly"
   ]
  },
  {
   "cell_type": "code",
   "execution_count": 28,
   "metadata": {
    "collapsed": false,
    "deletable": true,
    "editable": true
   },
   "outputs": [
    {
     "data": {
      "image/png": "[encoded data removed]",
      "text/plain": [
       "<matplotlib.figure.Figure at 0xb479cf8>"
      ]
     },
     "metadata": {},
     "output_type": "display_data"
    },
    {
     "name": "stdout",
     "output_type": "stream",
     "text": [
      "Complete\n"
     ]
    }
   ],
   "source": [
    "radius2 = radiusList[0:len(radiusList)-1]\n",
    "s = [0]\n",
    "for i in radius2:\n",
    "    s.append(i)\n",
    "\n",
    "deltaRList = radiusList[0:len(radiusList)] - s[0:len(s)]\n",
    "\n",
    "xRange = range(0,len(radiusList))\n",
    "\n",
    "plt.plot(xRange,deltaRList,'.')\n",
    "plt.title('Shell Thickness vs Radius Index')\n",
    "plt.xlabel('Radius Index')\n",
    "plt.ylabel('Shell Thickness (m)')\n",
    "plt.axis([0,500,12750,12880])\n",
    "plt.show()\n",
    "\n",
    "\n",
    "print 'Complete'"
   ]
  },
  {
   "cell_type": "markdown",
   "metadata": {
    "deletable": true,
    "editable": true
   },
   "source": [
    "### Shell Density Check"
   ]
  },
  {
   "cell_type": "code",
   "execution_count": 29,
   "metadata": {
    "collapsed": false,
    "deletable": true,
    "editable": true
   },
   "outputs": [
    {
     "data": {
      "image/png": "[encoded data removed]",
      "text/plain": [
       "<matplotlib.figure.Figure at 0xac739b0>"
      ]
     },
     "metadata": {},
     "output_type": "display_data"
    },
    {
     "name": "stdout",
     "output_type": "stream",
     "text": [
      "Complete\n"
     ]
    }
   ],
   "source": [
    "plt.plot(xRange,densityList,'.')\n",
    "plt.xlabel('Radius Index')\n",
    "plt.ylabel('Density (kg/m^3)')\n",
    "plt.title('Density vs Radius Index')\n",
    "plt.show()\n",
    "print 'Complete'"
   ]
  },
  {
   "cell_type": "markdown",
   "metadata": {
    "deletable": true,
    "editable": true
   },
   "source": [
    "### Enclosed Mass Check"
   ]
  },
  {
   "cell_type": "code",
   "execution_count": 30,
   "metadata": {
    "collapsed": false,
    "deletable": true,
    "editable": true,
    "scrolled": false
   },
   "outputs": [
    {
     "name": "stdout",
     "output_type": "stream",
     "text": [
      "Enclosed mass = 5.990577e+24 kg\n",
      "Complete\n"
     ]
    }
   ],
   "source": [
    "mass = 0\n",
    "for i in xRange:\n",
    "    mass = mass + 4. * np.pi * radiusList[i]**2 * densityList[i] * deltaRList[i]\n",
    "print 'Enclosed mass = %e kg' % mass\n",
    "\n",
    "\n",
    "print 'Complete'"
   ]
  },
  {
   "cell_type": "markdown",
   "metadata": {
    "deletable": true,
    "editable": true
   },
   "source": [
    "### Shell Mass\n",
    "Given a radius *index*, shellMass returns the mass of the shell at that radius index"
   ]
  },
  {
   "cell_type": "code",
   "execution_count": 31,
   "metadata": {
    "collapsed": false,
    "deletable": true,
    "editable": true,
    "scrolled": true
   },
   "outputs": [
    {
     "data": {
      "image/png": "[encoded data removed]",
      "text/plain": [
       "<matplotlib.figure.Figure at 0xae09320>"
      ]
     },
     "metadata": {},
     "output_type": "display_data"
    },
    {
     "name": "stdout",
     "output_type": "stream",
     "text": [
      "Complete\n"
     ]
    }
   ],
   "source": [
    "shellMassList = []\n",
    "\n",
    "for i in xRange:\n",
    "    shellMassList.append(4 * np.pi * radiusList[i]**2 * densityList[i] * deltaRList[i])\n",
    "\n",
    "plt.plot(xRange,shellMassList,'.')\n",
    "plt.title('Shell Mass vs. Radius Index')\n",
    "plt.xlabel('Radius Index')\n",
    "plt.ylabel('Enclosed Mass (kg)')\n",
    "\n",
    "plt.show()\n",
    "\n",
    "# print shellMassList[0:4]\n",
    "print 'Complete'"
   ]
  },
  {
   "cell_type": "markdown",
   "metadata": {
    "deletable": true,
    "editable": true
   },
   "source": [
    "### Enclosed Mass at Each Radius\n",
    "\n",
    "Give enclosedMass the *index* of the radius, and it returns the mass enclosed up to that radius.\n",
    "\n",
    "This is a list, not an interpolated function, so it only works for valid radii."
   ]
  },
  {
   "cell_type": "code",
   "execution_count": 32,
   "metadata": {
    "collapsed": false,
    "deletable": true,
    "editable": true,
    "scrolled": false
   },
   "outputs": [
    {
     "data": {
      "image/png": "[encoded data removed]",
      "text/plain": [
       "<matplotlib.figure.Figure at 0xab1a748>"
      ]
     },
     "metadata": {},
     "output_type": "display_data"
    },
    {
     "name": "stdout",
     "output_type": "stream",
     "text": [
      "Complete\n"
     ]
    }
   ],
   "source": [
    "# This is with a radius list and a shellMass list\n",
    "enclosedMassList = []\n",
    "tempSum = 0\n",
    "for i in shellMassList:\n",
    "    tempSum = tempSum + i\n",
    "    enclosedMassList.append(tempSum)\n",
    "    \n",
    "plt.plot(xRange,enclosedMassList)\n",
    "plt.title('Enclosed Mass vs Radius Index')\n",
    "plt.xlabel('Radius (m)')\n",
    "plt.ylabel('Enclosed Mass (kg)')\n",
    "plt.axis([0,550,0,6.5e24])\n",
    "plt.show()\n",
    "\n",
    "# print enclosedMassList[0:4]\n",
    "\n",
    "print 'Complete'"
   ]
  },
  {
   "cell_type": "markdown",
   "metadata": {
    "deletable": true,
    "editable": true
   },
   "source": [
    "## Atomic Definitions and Conversions"
   ]
  },
  {
   "cell_type": "code",
   "execution_count": 33,
   "metadata": {
    "collapsed": false,
    "deletable": true,
    "editable": true
   },
   "outputs": [
    {
     "name": "stdout",
     "output_type": "stream",
     "text": [
      "Complete\n"
     ]
    }
   ],
   "source": [
    "################################################################################\n",
    "# Conversions\n",
    "################################################################################\n",
    "\n",
    "def amu2Gev(par1):\n",
    "#     return 0.9314941 * par1 # GeV\n",
    "    return 0.938272 * par1 # Taken directly from Flip notebook\n",
    "\n",
    "def amu2g(par1):\n",
    "    return 1.66053892*10**-24 * par1 # g\n",
    "\n",
    "def GeV2s(par1):\n",
    "    return 1.52*10**24 * par1 # s^-1\n",
    "\n",
    "def s2GeV(par1):\n",
    "    return 1.52*10**24 * par1 # GeV^-1\n",
    "\n",
    "def GeV2cm(par1):\n",
    "    return 5.06*10**13 * par1 # cm^-1\n",
    "\n",
    "def cm2GeV(par1):\n",
    "    return 5.06*10**13 * par1 # GeV^-1\n",
    "\n",
    "def KeltoGeV(par1):\n",
    "    return 8.62*10**-14 * par1 # GeV\n",
    "\n",
    "def s2yr(par1):\n",
    "    return 3.16888*10**-8 * par1 # Yr\n",
    "\n",
    "def ev2Gev(par1):\n",
    "    return par1 * 10**6 # GeV\n",
    "\n",
    "def eV2kg(par1):\n",
    "    return 1.782661845* 10**-36 * par1 # kg\n",
    "\n",
    "def g2Gev(par1):\n",
    "    return 5.609588845*10**32 * par1 #GeV\n",
    "\n",
    "\n",
    "################################################################################\n",
    "# Atomic Definitions\n",
    "################################################################################\n",
    "# Access dictionary values as: dictionaryName['key']\n",
    "# Dictionaries are sorted by value as:\n",
    "    # for key, value in sorted(dicName.iteritems(), key=lambda (k,v): (v,k)):\n",
    "\n",
    "# Dictionaries must be called as:\n",
    "\n",
    "    # def testfunction(element):\n",
    "    #     return atomicNumbers[element]\n",
    "    # print testfunction('H1')\n",
    "    \n",
    "elementList = [\n",
    "    'O16' ,\n",
    "    'Si28',\n",
    "    'Mg24',\n",
    "    'Fe56',\n",
    "    'Ca40',\n",
    "    'P31' ,\n",
    "    'Na11',\n",
    "    'S32' ,\n",
    "    'Ni58',\n",
    "    'Al27',\n",
    "    'Cr52',\n",
    "]\n",
    "\n",
    "\n",
    "atomicNumbers = { # This is 'A' just below eqn 10\n",
    "    'H1': 1.,\n",
    "    'He4': 4.,\n",
    "    'He3': 3.,\n",
    "    'Na11': 23.,\n",
    "    'C12': 12.,\n",
    "    'C13':13.,\n",
    "    'N14':14.,\n",
    "    'N15':15.,\n",
    "    'O16':16.,\n",
    "    'O17':17. ,\n",
    "    'O18':18.,\n",
    "    'Ne20':20.,\n",
    "    'Na23':23.,\n",
    "    'Mg24':24., # 78%\n",
    "    'Al27':27.,\n",
    "    'Si28':28.,\n",
    "    'P31':30.,\n",
    "    'S32':32.,\n",
    "    'Cl35':35., # 75%\n",
    "    'Ar40':40.,\n",
    "    'K39':39.,\n",
    "    'Ca40':40.,\n",
    "    'Sc45':45.,\n",
    "    'Ti48':48., # 74%\n",
    "    'V51':51.,\n",
    "    'Cr52':52., # 83%\n",
    "    'Mn55':55.,\n",
    "    'Fe56':56.,\n",
    "    'Co59':59.,\n",
    "    'Ni58':59., # 58%\n",
    "}\n",
    "\n",
    "isotopicMasses = { # This is m_N anywhere you see it\n",
    "    'H1': 1.007825,\n",
    "    'He4':4.0026,\n",
    "    'He3':3.0160,\n",
    "    #################################\n",
    "    'Na11': 22.98977,\n",
    "    #################################\n",
    "    'Na11Prime': 22.98977,\n",
    "    #################################\n",
    "    'C12':12.,\n",
    "    'C13':13.003355,\n",
    "    'N14':14.003074,\n",
    "    'N15':15.000109,\n",
    "    'O16':15.994915,\n",
    "    #################################\n",
    "    'O16Prime':15.0124,\n",
    "    #################################\n",
    "    'O17':16.999132 ,\n",
    "    'O18':17.99916,\n",
    "    'Ne20':19.992440,\n",
    "    'Na23':22.989770,\n",
    "    'Mg24':23.985042, # 78%\n",
    "    #################################\n",
    "    'Mg24Prime':22.5185,\n",
    "    #################################\n",
    "    'Al27':26.981538,\n",
    "    #################################\n",
    "    'Al27Prime':26.981538,\n",
    "    #################################\n",
    "    'Si28':27.976927,\n",
    "    #################################\n",
    "    'Si28Prime':26.08,\n",
    "    #################################\n",
    "    'P31':30.973762,\n",
    "    #################################\n",
    "    'P31Prime':28.1482,\n",
    "    #################################\n",
    "    'S32':31.972071,\n",
    "    #################################\n",
    "    'S32Prime':31.972071,\n",
    "    #################################\n",
    "    'Cl35':34.99688, # 75%\n",
    "    'Ar40':39.962383,\n",
    "    'K39':38.963707,\n",
    "    'Ca40':39.962591,\n",
    "    #################################\n",
    "    'Ca40Prime':39.962591,\n",
    "    #################################\n",
    "    'Sc45':44.95591,\n",
    "    'Ti48':47.947947, # 74%\n",
    "    'V51':50.943964,\n",
    "    'Cr52':51.940512, # 83%\n",
    "    #################################\n",
    "    'Cr52Prime':51.940512,\n",
    "    #################################\n",
    "    'Mn55':54.938050,\n",
    "    'Fe56':55.934942,\n",
    "    #################################\n",
    "    'Fe56Prime':55.934942,\n",
    "    #################################\n",
    "    'Co59':58.9332,\n",
    "    'Ni58':57.935348, # 58%\n",
    "    #################################\n",
    "    'Ni58Prime':57.935348,\n",
    "    #################################\n",
    "}\n",
    "\n",
    "nProtons = { # This is Z_N\n",
    "    'H1':1.,\n",
    "    'He3':2.,\n",
    "    'He4':2.,\n",
    "    'He3':2.,\n",
    "    'Na11': 11.,\n",
    "    'C12':6.,\n",
    "    'C13':6.,\n",
    "    'N14':7.,\n",
    "    'N15':7.,\n",
    "    'O16':8.,\n",
    "    'O17':8.,\n",
    "    'O18':8.,\n",
    "    'Ne20':10.,\n",
    "    'Na23':11.,\n",
    "    'Mg24':12., # 78%\n",
    "    'Al27':13.,\n",
    "    'Si28':14.,\n",
    "    'P31':15.,\n",
    "    'S32':16.,\n",
    "    'Cl35':17., # 75%\n",
    "    'Ar40':18.,\n",
    "    'K39':19.,\n",
    "    'Ca40':20.,\n",
    "    'Sc45':21.,\n",
    "    'Ti48':22., # 74%\n",
    "    'V51':23.,\n",
    "    'Cr52':24., # 83%\n",
    "    'Mn55':25.,\n",
    "    'Fe56':26.,\n",
    "    'Co59':27.,\n",
    "    'Ni58':28., # 58%\n",
    "}\n",
    "\n",
    "# Mass Fraction Dictionary\n",
    "coreMassFrac = {\n",
    "    'Na11': 0.0,\n",
    "    'O16' : 0.0,\n",
    "    'Mg24': 0.0,\n",
    "    'Al27': 0.0,\n",
    "    'Si28': 0.06,\n",
    "    'P31' : 0.002,\n",
    "    'S32' : 0.019,\n",
    "    'Ca40': 0.0,\n",
    "    'Cr52': 0.009,\n",
    "    'Fe56': 0.855,\n",
    "    'Ni58': 0.052,\n",
    "    \n",
    "}\n",
    "\n",
    "mantleMassFrac = {\n",
    "    'Na11': 0.0027,\n",
    "    'O16' : 0.440,\n",
    "    'Mg24': 0.228,\n",
    "    'Al27': 0.0235,\n",
    "    'Si28': 0.210,\n",
    "    'P31' : 0.00009,\n",
    "    'S32' : 0.00025,\n",
    "    'Ca40': 0.0253,\n",
    "    'Cr52': 0.0026,\n",
    "    'Fe56': 0.0626,\n",
    "    'Ni58': 0.00196,\n",
    "}\n",
    "print 'Complete'"
   ]
  },
  {
   "cell_type": "markdown",
   "metadata": {
    "deletable": true,
    "editable": true
   },
   "source": [
    "## Model Parameters and Constants\n"
   ]
  },
  {
   "cell_type": "code",
   "execution_count": 34,
   "metadata": {
    "collapsed": false,
    "deletable": true,
    "editable": true
   },
   "outputs": [
    {
     "name": "stdout",
     "output_type": "stream",
     "text": [
      "Complete\n"
     ]
    }
   ],
   "source": [
    "################################################################################\n",
    "# Constants\n",
    "################################################################################\n",
    "global c\n",
    "global G\n",
    "global M_E\n",
    "global R_earth\n",
    "global V_dot\n",
    "global V_cross\n",
    "global V_gal\n",
    "global u_0\n",
    "global k\n",
    "global n_X\n",
    "global mf\n",
    "\n",
    "c = 3.0e8 # m/s\n",
    "G = 6.674e-11 # N m^2/ kg^2\n",
    "M_E = 5.972e24 # kg\n",
    "R_earth = 6371000. # m\n",
    "#r_crit = 3480000 # m\n",
    "V_dot = 220000. # m/s\n",
    "V_cross = 29800. # m/s\n",
    "V_gal = 550000. # m/s\n",
    "u_0 = 245000. # m/s\n",
    "k = 2.5\n",
    "\n",
    "print 'Complete'"
   ]
  },
  {
   "cell_type": "markdown",
   "metadata": {
    "deletable": true,
    "editable": true
   },
   "source": [
    "## Escape Velocity\n",
    "Escape Velocities are stored in the list escVel2List\n",
    "\n",
    "Note: The value from escVel2List[1] is assigned to the first slot of escVel2List to work around a 'nan' escape velocity at r=0"
   ]
  },
  {
   "cell_type": "code",
   "execution_count": 35,
   "metadata": {
    "collapsed": false,
    "deletable": true,
    "editable": true
   },
   "outputs": [
    {
     "data": {
      "image/png": "[encoded data removed]",
      "text/plain": [
       "<matplotlib.figure.Figure at 0xb0aa4a8>"
      ]
     },
     "metadata": {},
     "output_type": "display_data"
    },
    {
     "name": "stdout",
     "output_type": "stream",
     "text": [
      "Complete\n"
     ]
    }
   ],
   "source": [
    "def accumulate(index):\n",
    "    factor = 2.*G/c**2\n",
    "    constant = max(enclosedMassList) / max(radiusList)\n",
    "    \n",
    "    tempSum = 0    \n",
    "    for i in range(index,len(radiusList)-1):\n",
    "        tempSum += enclosedMassList[i] * deltaRList[i] / (radiusList[i])**2\n",
    "        \n",
    "    return factor*(tempSum + constant)\n",
    "\n",
    "escVel2List = []\n",
    "for i in xRange:\n",
    "    escVel2List.append(accumulate(i))\n",
    "#     escVel2List.append(escVel(i))\n",
    "# escVel2List[0] = escVel2List[1] # \n",
    "    \n",
    "    \n",
    "    \n",
    "plt.plot(xRange,escVel2List)\n",
    "plt.xlabel('Radius Index')\n",
    "plt.ylabel('Escape Velocity (m/s)')\n",
    "plt.title('Escape Velocity vs. Radius Index')\n",
    "plt.show()          \n",
    "    \n",
    "# plt.plot(radiusList,escVel2List,'.')\n",
    "# plt.xlabel('Radius (m)')\n",
    "# plt.ylabel('Escape Velocity (m/s)')\n",
    "# plt.title('Escape Velocity vs. Radius')\n",
    "# plt.show()\n",
    "\n",
    "\n",
    "# print escVel2List[0:4]\n",
    "print 'Complete'\n",
    "\n"
   ]
  },
  {
   "cell_type": "markdown",
   "metadata": {},
   "source": [
    "## List Interpolations\n",
    "\n",
    "At the present moment, I have the following lists:\n",
    "    - radius (radius)\n",
    "    - density (density)\n",
    "    - shell thickness (deltaR)\n",
    "    - shell mass (shellMass)\n",
    "    - enclosed mass (enclosedMass)\n",
    "    - escape velocity squared (escVel)\n",
    "    - number density of a *single* element (numDensityList)\n",
    "\n",
    "I need to interpolate the following lists into functions:\n",
    "    - density\n",
    "    - enclosed mass\n",
    "    - escape velocity squared"
   ]
  },
  {
   "cell_type": "code",
   "execution_count": 36,
   "metadata": {
    "collapsed": false
   },
   "outputs": [
    {
     "name": "stdout",
     "output_type": "stream",
     "text": [
      "Complete\n"
     ]
    }
   ],
   "source": [
    "# densityInterp = interpolate.interp1d(radiusList,densityList,kind='linear') #kg/m^3\n",
    "enclosedMassInterp = interpolate.interp1d(radiusList,enclosedMassList,kind='linear')\n",
    "escVel2Interp = interpolate.interp1d(radiusList,escVel2List,kind='linear')\n",
    "\n",
    "# densityInterp = interpolate.interp1d(s,densityList,kind='linear') #kg/m^3\n",
    "# enclosedMassInterp = interpolate.interp1d(s,enclosedMassList,kind='linear')\n",
    "# escVel2Interp = interpolate.interp1d(s,escVel2List,kind='linear')\n",
    "\n",
    "\n",
    "\n",
    "print 'Complete'"
   ]
  },
  {
   "cell_type": "markdown",
   "metadata": {
    "deletable": true,
    "editable": true
   },
   "source": [
    "## Number Densities"
   ]
  },
  {
   "cell_type": "code",
   "execution_count": 37,
   "metadata": {
    "collapsed": false,
    "deletable": true,
    "editable": true
   },
   "outputs": [
    {
     "data": {
      "image/png": "[encoded data removed]",
      "text/plain": [
       "<matplotlib.figure.Figure at 0xc922c88>"
      ]
     },
     "metadata": {},
     "output_type": "display_data"
    },
    {
     "data": {
      "image/png": "[encoded data removed]",
      "text/plain": [
       "<matplotlib.figure.Figure at 0xcbf4518>"
      ]
     },
     "metadata": {},
     "output_type": "display_data"
    },
    {
     "name": "stdout",
     "output_type": "stream",
     "text": [
      "0.111602685575\n",
      "Complete\n"
     ]
    }
   ],
   "source": [
    "range1 = range(0,len(radiusList))\n",
    "mf = 0\n",
    "\n",
    "def numDensity(element):\n",
    "    numDensityList = []\n",
    "    for i in range1:\n",
    "        if radiusList[i] < 3480000:\n",
    "            mf = coreMassFrac[element]\n",
    "        elif radiusList[i] >= 3480000:\n",
    "            mf = mantleMassFrac[element]\n",
    "        elif radiusList[i] > 3480000:\n",
    "            mf = 0\n",
    "\n",
    "        n_i = mf * densityList[i] /(amu2Gev(atomicNumbers[element])) * 1000/(100**3) # The numbers at the end turn g/cm^3 to kg/m^3\n",
    "        numDensityList.append(n_i)\n",
    "        \n",
    "    return numDensityList\n",
    "\n",
    "\n",
    "plt.plot(range1, numDensity('Cr52Prime'),'.')\n",
    "plt.title('Number Density of Cr52')\n",
    "plt.xlabel('Radius Index')\n",
    "plt.ylabel('Number Density (cm^-3)')\n",
    "plt.show()\n",
    "plt.plot(range1, numDensity('Ca40Prime'),'.')\n",
    "plt.title('Number Density of O16')\n",
    "plt.xlabel('Radius Index')\n",
    "plt.ylabel('Number Density (cm^-3)')\n",
    "plt.show()\n",
    "\n",
    "print numDensity('O16Prime')[456]\n",
    "print 'Complete'"
   ]
  },
  {
   "cell_type": "markdown",
   "metadata": {
    "deletable": true,
    "editable": true
   },
   "source": [
    "### Escape Velocity Interpolation Check\n",
    "Note: Over the entire interpolation range, the interpolation is good, but depending on where you zoom in on the graph, it will look off."
   ]
  },
  {
   "cell_type": "code",
   "execution_count": 38,
   "metadata": {
    "collapsed": false,
    "deletable": true,
    "editable": true
   },
   "outputs": [
    {
     "data": {
      "image/png": "[encoded data removed]",
      "text/plain": [
       "<matplotlib.figure.Figure at 0xcc92c50>"
      ]
     },
     "metadata": {},
     "output_type": "display_data"
    },
    {
     "name": "stdout",
     "output_type": "stream",
     "text": [
      "Complete\n"
     ]
    }
   ],
   "source": [
    "alist = range(0,40)\n",
    "tempEsc = []\n",
    "for i in alist:\n",
    "    tempEsc.append(escVel2List[i])\n",
    "    \n",
    "plt.plot(alist,tempEsc,'.',alist,escVel2Interp(radiusList[alist]),'-')\n",
    "plt.xlabel('Radius Index')\n",
    "plt.ylabel('Escape Velocity (m/s)')\n",
    "plt.title('Escape Velocity vs Radius Index')\n",
    "plt.text(2.5,2.490e-9,'List Values: Blue Dots')\n",
    "plt.text(2.5,2.488e-9,'Interpolation: Green Line')\n",
    "plt.show()\n",
    "print 'Complete'"
   ]
  },
  {
   "cell_type": "markdown",
   "metadata": {
    "deletable": true,
    "editable": true
   },
   "source": [
    "## Function Definitions\n",
    "\n",
    "These are the functions used to calculate the capture rate. A summary will be provided at the end of the discussion."
   ]
  },
  {
   "cell_type": "code",
   "execution_count": 39,
   "metadata": {
    "collapsed": false,
    "deletable": true,
    "editable": true,
    "scrolled": true
   },
   "outputs": [
    {
     "name": "stdout",
     "output_type": "stream",
     "text": [
      "Complete\n"
     ]
    }
   ],
   "source": [
    "################################################################################\n",
    "# Function Definitions\n",
    "################################################################################\n",
    "def ModDMVelDist(u):\n",
    "    def integrand(x, y): #x = cos(theta), y = cos(phi)\n",
    "        return 0.25 * DMVelDist( ( u**2 + ((V_dot/c) + (V_cross/c) * y)**2 + 2 * u * ((V_dot/c) + (V_cross/c) * y) *x)** 0.5  )\n",
    "\n",
    "    return integrate.dblquad(integrand, -1, 1, lambda y: -1, lambda y: 1)[0]\n",
    "\n",
    "\n",
    "# u is now dimensionless in the normalizations\n",
    "def DMVelDistNormalization(u):\n",
    "    if ((V_gal/c) - u < 0):\n",
    "        temp = 0.\n",
    "        \n",
    "    elif (((V_gal/c) - (u) ) >= 0):\n",
    "        numerator = ((V_gal/c)**2 - (u)**2)\n",
    "        denominator = (k * (u_0/c)**2)\n",
    "        arg = ( numerator / denominator)    \n",
    "        temp = 4*np.pi*(u)**2 * (np.expm1(arg) ) ** k\n",
    "        \n",
    "    return temp\n",
    "\n",
    "norm1 = integrate.quad(DMVelDistNormalization,0,V_gal/c)[0]\n",
    "N_01 = 1./norm1\n",
    "\n",
    "\n",
    "def DMVelDist(u, N_0 = N_01):\n",
    "# Python doesn't play nice with 'nan*0', so I coded the heaviside function into an if-else statement\n",
    "    if ((V_gal/c - u) < 0):\n",
    "        temp = 0\n",
    "        \n",
    "    elif ((V_gal/c - u) >= 0):\n",
    "        numerator = ((V_gal/c)**2 - (u)**2)\n",
    "        denominator = (k * (u_0/c)**2)\n",
    "        arg = ( numerator / denominator)    \n",
    "        temp = N_0 * (np.expm1(arg) ) ** k\n",
    "        \n",
    "    return temp\n",
    "\n",
    "print 'Complete'"
   ]
  },
  {
   "cell_type": "markdown",
   "metadata": {},
   "source": [
    "### DM Velocity Distribution (eqn17)\n",
    "This is Flips f0"
   ]
  },
  {
   "cell_type": "code",
   "execution_count": 40,
   "metadata": {
    "collapsed": false,
    "scrolled": true
   },
   "outputs": [
    {
     "data": {
      "image/png": "[encoded data removed]",
      "text/plain": [
       "<matplotlib.figure.Figure at 0xab02048>"
      ]
     },
     "metadata": {},
     "output_type": "display_data"
    },
    {
     "name": "stdout",
     "output_type": "stream",
     "text": [
      "DMVelDist(0.001): 7.481486e+07\n",
      "f[0.001]: 7.48149e7\n",
      "Complete\n"
     ]
    }
   ],
   "source": [
    "dx = 0\n",
    "DMvelVect = []\n",
    "velRange = np.linspace(0,0.002,100)\n",
    "for a in velRange:\n",
    "    DMvelVect.append(DMVelDist(a))\n",
    "\n",
    "plt.plot(velRange,DMvelVect)\n",
    "plt.ylabel('f[u]')\n",
    "plt.xlabel('Velocity, u')\n",
    "plt.title('DM Velocity Distribution')\n",
    "plt.show()\n",
    "\n",
    "print 'DMVelDist(0.001): %e' % DMVelDist(0.001)\n",
    "print 'f[0.001]: 7.48149e7'\n",
    "\n",
    "print 'Complete'"
   ]
  },
  {
   "cell_type": "markdown",
   "metadata": {
    "deletable": true,
    "editable": true
   },
   "source": [
    "### Corrected DM Distribution Debug (eqn16)\n",
    "This is Flips favg"
   ]
  },
  {
   "cell_type": "code",
   "execution_count": 42,
   "metadata": {
    "collapsed": false,
    "deletable": true,
    "editable": true
   },
   "outputs": [
    {
     "name": "stdout",
     "output_type": "stream",
     "text": [
      "ModDMVelInterp(0.001): 7.516719e+07\n",
      "favg[0.001]: 7.51661e7\n",
      "Complete\n"
     ]
    },
    {
     "data": {
      "image/png": "[encoded data removed]",
      "text/plain": [
       "<matplotlib.figure.Figure at 0xab25208>"
      ]
     },
     "metadata": {},
     "output_type": "display_data"
    }
   ],
   "source": [
    "# prange = np.linspace(0,0.002,200)\n",
    "prange = np.linspace(0,0.002,200)\n",
    "prange1 = np.linspace(0,0.002,25)\n",
    "pvect = []\n",
    "for p in prange:\n",
    "    pvect.append(ModDMVelDist(p))\n",
    "\n",
    "ModDMVelInterp = interpolate.interp1d(prange,pvect)\n",
    "\n",
    "plt.plot(prange,pvect,'r.')\n",
    "plt.plot(prange1,ModDMVelInterp(prange1),'b-')\n",
    "plt.text(0.000025,1.78e8,'Red Dot: Data Points')\n",
    "plt.text(0.000025,1.77e8,'Blue Line: Interpolation')\n",
    "plt.axis([0,0.00025,1.75e8,1.82e8])\n",
    "plt.xlabel('u')\n",
    "plt.ylabel('f(u)')\n",
    "plt.title('Modified Velocity Distribution')\n",
    "\n",
    "print 'ModDMVelInterp(0.001): %e' % ModDMVelInterp(0.001)\n",
    "print 'favg[0.001]: 7.51661e7'\n",
    "print 'Complete'"
   ]
  },
  {
   "cell_type": "code",
   "execution_count": null,
   "metadata": {
    "collapsed": false
   },
   "outputs": [],
   "source": []
  },
  {
   "cell_type": "code",
   "execution_count": null,
   "metadata": {
    "collapsed": false
   },
   "outputs": [],
   "source": []
  },
  {
   "cell_type": "markdown",
   "metadata": {
    "deletable": true,
    "editable": true
   },
   "source": [
    "# Capture Rate\n",
    "\n",
    "Our final goal is to calculate:\n",
    "\n",
    "$$ C^N_{cap} = \\epsilon \\alpha_X n_X c^N_{cap,red} $$\n",
    "\n",
    "where  $C^N_{cap,red}$ is the product of three integrals over the radius of earth $r$, the incident DM velocity $u$, and the DM recoil energy $E_R$:\n",
    "\n",
    "$$\n",
    "c^N_{cap,red} = \n",
    "n_X \\int_{0}^{R_{\\oplus}}dr \\space 4 \\pi r^2 n_N(r) \n",
    "\\int_{0}^{V_{gal}/c} du \\space 4 \\pi u^2 f(u) \\frac{u^2 + v_{\\oplus}^2(r)}{u}\n",
    "\\int_{E_{min}}^{E_{max}} \\space dE_R \\frac{d\\sigma_N}{dE_R} \\Theta (\\Delta E)\n",
    "$$\n",
    "\n",
    "where finally, $ \\frac{d\\sigma_N}{dE_R} $ is given by:\n",
    "\n",
    "$$ \\frac{d\\sigma_N}{dE_R} \\approx \n",
    "8 \\pi \\epsilon^2 \\alpha_X \\alpha Z_N^2 \\frac{m_N}{(u^2 + v_{\\oplus})^2(2m_NE_R + m_{A\\prime}^2)^2} \\left | F_N \\right| ^2$$\n",
    "\n",
    "\n",
    "A summary of all the functions used will be provided at the end of this section.\n"
   ]
  },
  {
   "cell_type": "markdown",
   "metadata": {
    "deletable": true,
    "editable": true
   },
   "source": [
    "## Helm Form Factor: $|F_N(E_R)|^2$\n",
    "The Helm Form Factor is given by:\n",
    "$$ \\left| F_N(E_R) \\right| ^2 = e^{[-E_R/E_N]} $$ (see eqn (10) of arXiv: 1509.07525v2)\n",
    "\n",
    "where $E_N \\equiv \\frac{0.114 }{ A_{N}^{5/3}} \\space GeV$ is the characteristic energy of a nucleus with atomic number $A_N$\n",
    "\n",
    "This factor accounts for the effective size of a target nucleus in a DM - nucleus when an incoming DM particle scatters of a nucleus inside the earth."
   ]
  },
  {
   "cell_type": "code",
   "execution_count": 43,
   "metadata": {
    "collapsed": false,
    "deletable": true,
    "editable": true
   },
   "outputs": [
    {
     "name": "stdout",
     "output_type": "stream",
     "text": [
      "Complete\n"
     ]
    }
   ],
   "source": [
    "def formFactor2(E_R, element):\n",
    "    E_N = 0.114/(atomicNumbers[element])**(5./3) # GeV\n",
    "    FN2 = np.exp(-E_R/E_N)\n",
    "    \n",
    "    assert E_N > 0, 'Input value: (element=%s) results in division by zero' % element\n",
    "    assert FN2 >= 0, 'Input values: (E_R=%f, element=%s) result in negative F_N' % (E_R, element)\n",
    "    \n",
    "    return FN2\n",
    "\n",
    "formFactorFlip = {# E_R = 0.001\n",
    "    'O16Prime': 0.410175,\n",
    "    'Si28Prime':0.103853,\n",
    "    'Mg24Prime': 0.173488,\n",
    "    'Fe56Prime': 0.000753927,\n",
    "    'Ca40Prime': 0.0165084,\n",
    "    'P31Prime': 0.0788064,\n",
    "    'Na11Prime': 0.195596,\n",
    "    'S32Prime': 0.0590544,\n",
    "    'Ni58Prime': 0.000392256,\n",
    "    'Al27Prime': 0.11865,\n",
    "    'Cr52Prime': 0.00173841,\n",
    "}\n",
    "\n",
    "print 'Complete'"
   ]
  },
  {
   "cell_type": "markdown",
   "metadata": {},
   "source": [
    "##### Form Factor error\n",
    "The following two cells:\n",
    "\n",
    "1). Initialize a dictionary which stores the calculated form factors from the function formFactor2\n",
    "\n",
    "2). Compare the percent error to known values calculated from \"EarthChecker_v2\""
   ]
  },
  {
   "cell_type": "code",
   "execution_count": 45,
   "metadata": {
    "collapsed": false
   },
   "outputs": [
    {
     "name": "stdout",
     "output_type": "stream",
     "text": [
      "Complete\n"
     ]
    }
   ],
   "source": [
    "# formFactorAdam = {}\n",
    "# for element in elementList:\n",
    "#     formFactorAdam[element] = formFactor2(0.001,element)\n",
    "\n",
    "print 'Complete'"
   ]
  },
  {
   "cell_type": "code",
   "execution_count": 46,
   "metadata": {
    "collapsed": false
   },
   "outputs": [
    {
     "name": "stdout",
     "output_type": "stream",
     "text": [
      "Percent Error of O16Prime: -0.000001\n",
      "Percent Error of Si28Prime: 0.000003\n",
      "Percent Error of Mg24Prime: -0.000003\n",
      "Percent Error of Fe56Prime: 0.000000\n",
      "Percent Error of Ca40Prime: 0.000001\n",
      "Percent Error of P31Prime: -0.000000\n",
      "Percent Error of Na11Prime: -0.000001\n",
      "Percent Error of S32Prime: -0.000000\n",
      "Percent Error of Ni58Prime: 0.000001\n",
      "Percent Error of Al27Prime: -0.000002\n",
      "Percent Error of Cr52Prime: 0.000001\n",
      "Complete\n"
     ]
    }
   ],
   "source": [
    "# for element in elementList:   \n",
    "#     print 'Percent Error of %s: %f' % \\\n",
    "#         (element, ( (formFactorAdam[element] - formFactorFlip[element])/formFactorFlip[element]))   \n",
    "        \n",
    "print 'Complete'"
   ]
  },
  {
   "cell_type": "markdown",
   "metadata": {
    "deletable": true,
    "editable": true
   },
   "source": [
    "## Cross Section Integrand: $ \\frac{d\\sigma _N}{dE_R} $\n",
    "\n",
    "The following cell calculates the differential cross section integrand given by:\n",
    "\n",
    "$$ \\frac{d\\sigma _N}{dE_R} \\approx 8  \\pi \\alpha \\alpha_X Z_N^2 \\frac{m_N}{2m_N E_R + m_A\\prime ^2} \\left| F_N \\right| ^2  $$\n",
    "\n",
    "(see eqn 9 in arXiv: 1509.07525v2)"
   ]
  },
  {
   "cell_type": "code",
   "execution_count": 47,
   "metadata": {
    "collapsed": false,
    "deletable": true,
    "editable": true
   },
   "outputs": [
    {
     "name": "stdout",
     "output_type": "stream",
     "text": [
      "Complete\n"
     ]
    }
   ],
   "source": [
    "def capIntegrand(E_R, element, m_X, m_A, epsilon, alpha, alpha_X):\n",
    "    mn = amu2Gev(atomicNumbers[element])\n",
    "    Z_N = nProtons[element]\n",
    "    FN2 = formFactor2(E_R,element)\n",
    "    assert FN2 >= 0,('Input values:')\n",
    "    prefactor = 8*np.pi*alpha*Z_N**2*mn\n",
    "    \n",
    "    return prefactor * FN2 / (2*mn*E_R + m_A**2)**2\n",
    "\n",
    "capIntFlip0 = {\n",
    "    'O16Prime': 68.143,\n",
    "    'Si28Prime': 88.5529,\n",
    "    'Mg24Prime': 94.4989,\n",
    "    'Fe56Prime': 4.02272,\n",
    "    'Ca40Prime': 39.3375,\n",
    "    'P31Prime': 82.0619,\n",
    "    'Na11Prime': 86.1031,\n",
    "    'S32Prime': 74.1034,\n",
    "    'Ni58Prime': 2.53151,\n",
    "    'Al27Prime': 84.4181,\n",
    "    'Cr52Prime': 7.43968,\n",
    "}\n",
    "\n",
    "print 'Complete'"
   ]
  },
  {
   "cell_type": "markdown",
   "metadata": {},
   "source": [
    "##### Cross Section Integrand Error\n",
    "The following two cells:\n",
    "\n",
    "1). Initialize and populate a dictionary named \"capIntAdam\" which stores the calculated capIntegrand values\n",
    "\n",
    "2). Calculates the percent error "
   ]
  },
  {
   "cell_type": "code",
   "execution_count": 48,
   "metadata": {
    "collapsed": false
   },
   "outputs": [
    {
     "name": "stdout",
     "output_type": "stream",
     "text": [
      "Complete\n"
     ]
    }
   ],
   "source": [
    "# capIntAdam = {}\n",
    "# for element in elementList:\n",
    "#     capIntAdam[element] = capIntegrand(0.001,element, m_X = 1., m_A = 1., epsilon = 1, alpha = 1./137, alpha_X = 1./137)\n",
    "\n",
    "print 'Complete'"
   ]
  },
  {
   "cell_type": "code",
   "execution_count": 49,
   "metadata": {
    "collapsed": false
   },
   "outputs": [
    {
     "name": "stdout",
     "output_type": "stream",
     "text": [
      "Percent Error of O16Prime: 0.000000\n",
      "Percent Error of Si28Prime: -0.000000\n",
      "Percent Error of Mg24Prime: -0.000000\n",
      "Percent Error of Fe56Prime: -0.000000\n",
      "Percent Error of Ca40Prime: 0.000000\n",
      "Percent Error of P31Prime: 0.000000\n",
      "Percent Error of Na11Prime: -0.000000\n",
      "Percent Error of S32Prime: -0.000000\n",
      "Percent Error of Ni58Prime: 0.000001\n",
      "Percent Error of Al27Prime: 0.000000\n",
      "Percent Error of Cr52Prime: -0.000000\n",
      "Complete\n"
     ]
    }
   ],
   "source": [
    "# for element in elementList:   \n",
    "#     print 'Percent Error of %s: %f' % \\\n",
    "#         (element, ( (capIntAdam[element] - capIntFlip0[element])/capIntFlip0[element]))\n",
    "\n",
    "print 'Complete'"
   ]
  },
  {
   "cell_type": "markdown",
   "metadata": {
    "deletable": true,
    "editable": true
   },
   "source": [
    "## Calculating the Capture Integral\n",
    "\n",
    "In the following cell, we calculate the velocity and recoil energy integrals:\n",
    "$$ IntDuDEr = \\int_{0}^{c} du\\space 4\\pi u f(u) \\int_{E_{min}}^{E_{Max}} dE_R \\space \\frac{d \\sigma_N}{dE_R} \\Theta(\\Delta E) $$ \n",
    "\n",
    "where $$ E_{Min} = \\frac{1}{2} m_X u^2 \\qquad E_{Max} = 2 m_N m_X^2 \\frac{(u^2 + v_{\\oplus}^2)}{(m_N + m_X)^2}$$  \n",
    "\n",
    "and $f(u)$ is the incident DM velocity distribution which we take to be Maxwell-Boltzmann in shape:\n",
    "\n",
    "$$ f(u) =  N_0 \\left[ exp \\left ( \n",
    "\\frac{v^2_{gal}-u^2}{ku^2_0}\\right) -1 \\right] ^k\n",
    "\\Theta(v_{gal} - u) $$\n",
    "\n",
    "where $N_0$ is the normalization and typical values for $v_{gal}$ (km/s), $u_0$ (km/s), and $k$ respectively lie between:\n",
    "\n",
    "$$ 220<u_0<270 \\qquad 450<v_{gal}<650 \\qquad 1.5<k<3.5 $$\n",
    "\n",
    "In the actual calculation, we work in naturalized velocity which amounts to dividing all velocities by $c = 3\\times10^5$ km/s."
   ]
  },
  {
   "cell_type": "markdown",
   "metadata": {
    "collapsed": false
   },
   "source": [
    "### Python Integration Analysis\n",
    "If we try to calculate eqn(1) directly in natural units, integrating $u$ from $0$ to $v_{gal}/c$ and $E_R$ from $E_{min}$ to $E_{max}$, we find that the integral returns zero. The differential cross section $\\frac{d \\sigma_N}{dE_R}$ never vanishes unless one of the model parameters is zero, the incident DM velocity $f(u)$ is never zero for the integraion region over $u$, so the only time the integrand vanishes is at $u=0$, the lower limit of integration. Clearly, there is something more subtle that we need to explore.\n",
    "\n",
    "To simplify the problem, we choose $m_X = 1$ GeV, and calculate values of Silicon (Si28). We completely remove the integrand and begin by plotting $E_{min}$ and $E_{max}$ in red and blue respectively. The valid region of integration from the heaviside function in eqn (1) is thus above the red curve and below the blue curve."
   ]
  },
  {
   "cell_type": "code",
   "execution_count": 66,
   "metadata": {
    "collapsed": false
   },
   "outputs": [
    {
     "name": "stdout",
     "output_type": "stream",
     "text": [
      "complete\n"
     ]
    }
   ],
   "source": [
    "vMax = escVel2List[0]\n",
    "mn2 = amu2Gev(atomicNumbers['Si28Prime'])\n",
    "array1 = []\n",
    "array2 = []\n",
    "array3 = []\n",
    "array4 = []\n",
    "pltrange0 = np.linspace(0,(V_gal/c),100)\n",
    "pltrange1 = np.linspace(0,0.00005,100)\n",
    "\n",
    "# populate array1 and array2\n",
    "for i in pltrange0:\n",
    "    emin = (1*i**2)/2\n",
    "    emax = 2*mn2*1**2*(i**2+vMax)/(mn2+1)**2\n",
    "    eLim = 2*mn2*1**2*(1+vMax)/(mn2+1)**2\n",
    "    \n",
    "    array1.append(emin)\n",
    "    array2.append(emax)\n",
    "    \n",
    "# populate array3 and array4\n",
    "for i in pltrange1:\n",
    "    emin = (1*i**2)/2\n",
    "    emax = 2*mn2*1**2*(i**2+vMax)/(mn2+1)**2\n",
    "    eLim = 2*mn2*1**2*(1+vMax)/(mn2+1)**2\n",
    "    \n",
    "    array3.append(emin)\n",
    "    array4.append(emax)\n",
    "    \n",
    "print 'complete'"
   ]
  },
  {
   "cell_type": "code",
   "execution_count": 69,
   "metadata": {
    "collapsed": false
   },
   "outputs": [
    {
     "data": {
      "image/png": "[encoded data removed]",
      "text/plain": [
       "<matplotlib.figure.Figure at 0xd678668>"
      ]
     },
     "metadata": {},
     "output_type": "display_data"
    }
   ],
   "source": [
    "# Plot 1\n",
    "plt.figure(1)\n",
    "plt.plot(pltrange0,array1,'red')\n",
    "plt.plot(pltrange0,array2,'blue')\n",
    "plt.xlabel('Naturalized Velocity: u')\n",
    "plt.ylabel('E_R (GeV)')\n",
    "plt.title('Plot over the entire integration limits')\n",
    "plt.text(0.00025,1.45e-6,'Red: Emin')\n",
    "plt.text(0.00025,1.25e-6,'Blue: Emax')\n",
    "plt.grid()"
   ]
  },
  {
   "cell_type": "markdown",
   "metadata": {},
   "source": [
    "Recalling that the valid region of integration is *above* the red curve and *below* the blue curve, it doesn't appear that there is **any** nonzero region. Therefor, there must be some region very close to the origin where these two functions yield a nonzero integrand. We investigate further by zooming into the origin, as shown in figure (2)."
   ]
  },
  {
   "cell_type": "code",
   "execution_count": 51,
   "metadata": {
    "collapsed": false
   },
   "outputs": [
    {
     "data": {
      "image/png": "[encoded data removed]",
      "text/plain": [
       "<matplotlib.figure.Figure at 0xb477470>"
      ]
     },
     "metadata": {},
     "output_type": "display_data"
    }
   ],
   "source": [
    "# Plot 2 \"Zoomed in\"\n",
    "plt.figure(2)    \n",
    "plt.plot(pltrange1,array3,'red')\n",
    "plt.plot(pltrange1,array4,'blue')\n",
    "plt.xlabel('Naturalized Velocity: u')\n",
    "plt.ylabel('E_R (GeV)')\n",
    "plt.title('Integration Region of Capture Integral')\n",
    "plt.axis([0,0.000027,0,3e-10])\n",
    "plt.grid()"
   ]
  },
  {
   "cell_type": "markdown",
   "metadata": {},
   "source": [
    "We can see that only for $u$ between $0$ and $\\approx 0.00002$ is the $E_{max}$ actually above $E_{min}$, which means that in the integration limits as stated above, the integrand vanishes for nearly the entire region due to the Heaviside function. To make matters worse, Python never chooses $u$ values between $0$ and $\\approx 0.00002$, giving the illusion that the integral is zero.\n",
    "\n",
    "\n",
    "The solution to this problem is to change the limits of integration to \"zoom in\" to the region where the integrand is nonvanishing and calculate the integral in that region. This is acomplished by calculating the $u$ value at which $E_{min} = E_{max}$ and solving for $u$. Substituting $ w^2 = u^2 + v_{\\oplus}^2$ gives:\n",
    "\n",
    "$$ \\frac{1}{2}m_X u^2 = \\frac{2\\mu_N^2}{m_N}(u^2 + v_{\\oplus}^2) $$\n",
    "\n",
    "solving for the intersection point $u_{int}$ yields:\n",
    "\n",
    "$$ u_{int}^2 = \\frac{2\\mu_N}{m_N} \\frac{1}{ \\left( \\frac{1}{2m_X} - \\frac{2\\mu_N^2}{m_N} \\right)  } v_{\\oplus}^2 $$\n",
    "\n",
    "The actual coded function is:\n",
    "\n",
    "$$ IntDuDEr = \\int_{0}^{uInt} du\\space 4\\pi u f(u) \\int_{E_{min}}^{E_{Max}} dE_R \\space \\frac{d \\sigma_N}{dE_R} \\qquad (1)  $$\n",
    "\n",
    "where $\\Theta(\\Delta E)$ is accounted for in the limits of the $u$ integration.\n",
    "\n",
    "One could obtain more accuracy by using the modified velocity distrubution given by:\n",
    "\n",
    "$$ f_{\\oplus}(u) = \\frac{1}{4} \\int\\int_{-1}^{1} dcos\\theta \\space dcos\\phi \\space\n",
    "   f \\left[ \\left( u^2 (V_{\\odot} + V_{\\oplus}cos\\phi)^2 + 2u(V_{\\odot} + V_{\\oplus} cos\\phi) cos\\theta \\right) ^{1/2} \\right] $$\n",
    "   \n",
    "which is coded into the Python function: $ModDMVelDist$\n",
    "  "
   ]
  },
  {
   "cell_type": "markdown",
   "metadata": {},
   "source": [
    "The solution is:\n",
    "    - Solve for the intersection point of Emin and Emax, name it \"uInt\"\n",
    "    - Integrate u from 0 to uInt\n",
    "    - Integrate E_R from eMin(u) to eMax(u)"
   ]
  },
  {
   "cell_type": "code",
   "execution_count": 67,
   "metadata": {
    "collapsed": false,
    "deletable": true,
    "editable": true
   },
   "outputs": [
    {
     "name": "stdout",
     "output_type": "stream",
     "text": [
      "Complete\n"
     ]
    }
   ],
   "source": [
    "def eMin(u, m_X):\n",
    "    return 0.5 * m_X * u**2\n",
    "\n",
    "def eMax(rIndex, element, m_X, u):\n",
    "    mn = amu2Gev(atomicNumbers[element])\n",
    "    mu = m_X*mn/(mn+m_X)\n",
    "    vEsc2  = escVel2List[rIndex]\n",
    "    return 2. * (mu**2 * (u**2 + vEsc2)) / mn\n",
    "\n",
    "def IntDuDEr(rIndex, element, m_X, m_A, epsilon, alpha, alpha_X):\n",
    "#     vEsc2Max = escVel2List[0]\n",
    "    vEsc2  = escVel2List[rIndex]\n",
    "    mn = amu2Gev(atomicNumbers[element])\n",
    "    mu = (mn*m_X)/(mn + m_X)\n",
    "\n",
    "    # Solve for the intersection of Emin and Emax\n",
    "    A = 1/2. * m_X\n",
    "    B = 2. * mu**2 / mn\n",
    "    uInt = np.sqrt( ( B * vEsc2) / (A-B) )\n",
    "    \n",
    "    def integrand(E,u):\n",
    "        return 4*np.pi*u*DMVelDist(u)*capIntegrand(E, element, m_X, m_A, epsilon, alpha, alpha_X)\n",
    "\n",
    "    uHigh = uInt\n",
    "    uLow = 0.\n",
    "    eHigh = lambda u: eMax(rIndex, element, m_X, u)\n",
    "    eLow = lambda u: eMin(u, m_X)\n",
    "\n",
    "    inte = integrate.dblquad(integrand, uLow, uHigh, eLow, eHigh)[0]\n",
    "    return inte\n",
    "\n",
    "# Initialize pre-calculated dictionaries\n",
    "# All errors <1%\n",
    "IntDuDErFlip0 = { # This is the full integrand for m_XPrime = 1\n",
    "    'O16Prime': 5.74027e-8,\n",
    "    'Si28Prime': 9.98746e-8,\n",
    "    'Mg24Prime': 8.56929e-8,\n",
    "    'Fe56Prime': 1.7188e-7,\n",
    "    'Ca40Prime': 1.42478e-7,\n",
    "    'P31Prime': 1.0697e-7,\n",
    "    'Na11Prime': 7.51619e-8,\n",
    "    'S32Prime': 1.14068e-7,\n",
    "    'Ni58Prime': 1.89191e-7,\n",
    "    'Al27Prime': 8.93246e-8,\n",
    "    'Cr52Prime': 1.57736e-7,\n",
    "}\n",
    "\n",
    "IntDuDErFlip1 = { # This is only integrating CaptureIntegral for m_XPrime = 1\n",
    "    'O16Prime': 9.41683e-13,\n",
    "    'Si28Prime': 2.23328e-12,\n",
    "    'Mg24Prime': 1.7624e-12,\n",
    "    'Fe56Prime': 5.5422e-12,\n",
    "    'Ca40Prime': 3.85281e-12,\n",
    "    'P31Prime': 2.48238e-12,\n",
    "    'Na11Prime': 1.51023e-12,\n",
    "    'S32Prime': 2.74017e-12,\n",
    "    'Ni58Prime': 6.26782e-12,\n",
    "    'Al27Prime': 1.95852e-12,\n",
    "    'Cr52Prime': 4.89386e-12,\n",
    "}\n",
    "\n",
    "IntDuDErFlip2 = {# Full integrand with m_XPrime = 100\n",
    "    'O16Prime': 0.0000302215,\n",
    "    'Si28Prime': 0.000545824,\n",
    "    'Mg24Prime': 0.000243058,\n",
    "    'Fe56Prime': 0.0245756,\n",
    "    'Ca40Prime': 0.00380085,\n",
    "    'P31Prime': 0.000787534,\n",
    "    'Na11Prime': 0.000178227,\n",
    "    'S32Prime': 0.0011132,\n",
    "    'Ni58Prime': 0.0361924,\n",
    "    'Al27Prime': 0.000417713,\n",
    "    'Cr52Prime': 0.015188,\n",
    "}\n",
    "\n",
    "IntDuDErFlip3 = {# capIntegrand with m_XPrime = 100\n",
    "    'O16Prime': 3.00929e-10,\n",
    "    'Si28Prime': 3.57e-9,\n",
    "    'Mg24Prime': 1.80336e-9,\n",
    "    'Fe56Prime': 7.401e-8,\n",
    "    'Ca40Prime': 1.76742e-8,\n",
    "    'P31Prime': 4.8514e-9,\n",
    "    'Na11Prime': 1.36695e-9,\n",
    "    'S32Prime': 6.46906e-9,\n",
    "    'Ni58Prime': 1.00174e-7,\n",
    "    'Al27Prime': 2.81713e-9,\n",
    "    'Cr52Prime': 5.10652e-8,\n",
    "}\n",
    "\n",
    "# print IntDuDEr(41,'O16Prime', m_X = 1., m_A = 1., epsilon = 1., alpha = 1./137, alpha_X = 1./137)\n",
    "\n",
    "print 'Complete'"
   ]
  },
  {
   "cell_type": "markdown",
   "metadata": {
    "collapsed": true
   },
   "source": [
    "##### Capture Integral Error\n",
    "\n",
    "The following two cells:\n",
    "\n",
    "1). Initialize and populate a dictionary of calculated CaptureIntegrand values\n",
    "\n",
    "2). Calculate the percent error of those values"
   ]
  },
  {
   "cell_type": "code",
   "execution_count": 57,
   "metadata": {
    "collapsed": false
   },
   "outputs": [
    {
     "name": "stdout",
     "output_type": "stream",
     "text": [
      "Complete\n"
     ]
    }
   ],
   "source": [
    "# IntDuDErAdam = {}\n",
    "# for element in elementList:\n",
    "#     IntDuDErAdam[element] = IntDuDEr(41,element, m_X = 100., m_A = 1., epsilon = 1., alpha = 1./137, alpha_X = 1./137)\n",
    "\n",
    "print 'Complete'"
   ]
  },
  {
   "cell_type": "code",
   "execution_count": 5,
   "metadata": {
    "collapsed": false
   },
   "outputs": [
    {
     "name": "stdout",
     "output_type": "stream",
     "text": [
      "Complete\n"
     ]
    }
   ],
   "source": [
    "# for element in elementList:   \n",
    "#     print 'Percent Error of %s: %f' % \\\n",
    "#     (element, ( (IntDuDErAdam[element] - IntDuDErFlip2[element])*100/IntDuDErFlip2[element]))\n",
    "\n",
    "print 'Complete'"
   ]
  },
  {
   "cell_type": "code",
   "execution_count": null,
   "metadata": {
    "collapsed": true
   },
   "outputs": [],
   "source": []
  },
  {
   "cell_type": "markdown",
   "metadata": {},
   "source": [
    "## Sum over radii\n",
    "In the following cell, we calculate the integral over the radius of earth:\n",
    "\n",
    "$$ \\int^{R_{earth}}_{0} dr\\space 4\\pi r^2 n_N(r) \\int_{0}^{uInt} du\\space 4\\pi u f(u) \\int_{E_{min}}^{E_{Max}} dE_R \\space \\frac{d \\sigma_N}{dE_R} \\Theta(\\Delta E) $$\n",
    "\n",
    "where we rename the velocity and recoil energy integrals to their respective python function $IntDuDEr$:\n",
    "\n",
    "$$ \\int^{R_{earth}}_{0} dr\\space 4\\pi r^2 n_N(r) \\space IntDuDEr  $$\n",
    "\n",
    "However, instead of calculating this as an integral as stated, we discretize the integral and use the thin-shell approximation:\n",
    "\n",
    "$$ \\frac{4}{3}\\pi (r +\\Delta r)^3 - \\frac{4}{3}\\pi r^3 = 4 \\pi r^2 \\Delta r$$\n",
    "\n",
    "which yields the discrete summation:\n",
    "\n",
    "$$ SumR = \\Sigma_{i} 4 \\pi r_i^2 n_N(r) \\Delta r_i \\space IntDuDEr $$\n",
    "\n",
    "We use the variables:\n",
    " - radiusList\n",
    " - deltaRList"
   ]
  },
  {
   "cell_type": "code",
   "execution_count": 59,
   "metadata": {
    "collapsed": false
   },
   "outputs": [
    {
     "name": "stdout",
     "output_type": "stream",
     "text": [
      "Complete\n"
     ]
    }
   ],
   "source": [
    "# I sum over the indicies and call the appropriate dictionaries at each index\n",
    "def SumR(element, m_X, m_A, epsilon, alpha, alpha_X):\n",
    "    rSum = 0\n",
    "    for i in range(0,len(radiusList)):\n",
    "        r = radiusList[i]\n",
    "        deltaR = deltaRList[i]\n",
    "\n",
    "        summand = 4 * np.pi * r**2 * IntDuDEr(i, element, m_X, m_A, epsilon, alpha, alpha_X)*deltaR\n",
    "#         summand = IntDuDEr(i,element, m_X, m_A, epsilon, alpha, alpha_X)\n",
    "        rSum = rSum + summand\n",
    "    return rSum\n",
    "\n",
    "def SumR1(element, m_X, m_A, epsilon, alpha, alpha_X):\n",
    "    rSum = 0\n",
    "    for i in range(0,len(radiusList)):\n",
    "        r = radiusList[i]\n",
    "        deltaR = deltaRList[i]\n",
    "        nN = numDensity(element)[i]\n",
    "        \n",
    "        summand = 4*np.pi*r**2* nN *IntDuDEr(i, element, m_X, m_A, epsilon, alpha, alpha_X)*deltaR\n",
    "        rSum = rSum + summand\n",
    "    return rSum\n",
    "\n",
    "\n",
    "# ALl errors ~1%\n",
    "sumRFlip0 = {# This is the full sumDr calculation with m_XPrime = 1\n",
    "    'O16Prime': 3.13188e13,\n",
    "    'Si28Prime': 5.44885e13,\n",
    "    'Mg24Prime': 4.67519e13,\n",
    "    'Fe56Prime': 9.37691e13,\n",
    "    'Ca40Prime': 7.77299e13,\n",
    "    'P31Prime': 5.83594e13,\n",
    "    'Na11Prime': 4.10066e13,\n",
    "    'S32Prime': 6.22317e13,\n",
    "    'Ni58Prime': 1.03213e14,\n",
    "    'Al27Prime': 4.87328e13,\n",
    "    'Cr52Prime': 8.60533e13,\n",
    "}\n",
    "\n",
    "# All errors ~1%\n",
    "sumRFlip1 = {# This is only the IntDuDEr summation with m_XPrime = 1\n",
    "    'O16Prime': 0.0000197607,\n",
    "    'Si28Prime': 0.0000343806,\n",
    "    'Mg24Prime': 0.0000294989,\n",
    "    'Fe56Prime': 0.0000591664,\n",
    "    'Ca40Prime': 0.0000490456,\n",
    "    'P31Prime': 0.0000368231,\n",
    "    'Na11Prime': 0.0000258737,\n",
    "    'S32Prime': 0.0000392664,\n",
    "    'Ni58Prime': 0.0000651255,\n",
    "    'Al27Prime': 0.0000307489,\n",
    "    'Cr52Prime': 0.0000542978,    \n",
    "}\n",
    "\n",
    "# All errors ~1%\n",
    "sumRFlip2 = {# This is only the r^2 * IntDuDEr summation with m_XPrime = 1\n",
    "    'O16Prime': 1.90387e8,\n",
    "    'Si28Prime': 3.31236e8,\n",
    "    'Mg24Prime': 2.84205e8,\n",
    "    'Fe56Prime': 5.70023e8,\n",
    "    'Ca40Prime': 4.7252e8,\n",
    "    'P31Prime': 3.54767e8,\n",
    "    'Na11Prime': 2.49279e8,\n",
    "    'S32Prime': 3.78306e8,\n",
    "    'Ni58Prime': 6.27434e8,\n",
    "    'Al27Prime': 2.96247e8,\n",
    "    'Cr52Prime': 5.23118e8,    \n",
    "}\n",
    "\n",
    "# All errors ~1%\n",
    "sumRFlip3 = {# This is the r^2 * IntDuDer * deltaR summation with m_XPrime = 1\n",
    "    'O16Prime': 2.49227e12,\n",
    "    'Si28Prime': 4.33606e12,\n",
    "    'Mg24Prime': 3.7204e12,\n",
    "    'Fe56Prime': 7.4619e12,\n",
    "    'Ca40Prime': 6.18555e12,\n",
    "    'P31Prime': 4.64409e12,\n",
    "    'Na11Prime': 3.2632e12,\n",
    "    'S32Prime': 4.95224e12,\n",
    "    'Ni58Prime': 8.21345e12,\n",
    "    'Al27Prime': 3.87804e12,\n",
    "    'Cr52Prime': 6.8479e12,      \n",
    "}\n",
    "\n",
    "# All errors ~1%\n",
    "sumRFlip4 = {# This is the full SumR calculation with m_XPrime = 100\n",
    "    'O16Prime': 1.64923e16,\n",
    "    'Si28Prime': 2.98005e17,\n",
    "    'Mg24Prime': 1.32678e17,\n",
    "    'Fe56Prime': 1.34655e19,\n",
    "    'Ca40Prime': 2.07698e18,\n",
    "    'P31Prime': 4.3002e17,\n",
    "    'Na11Prime': 9.72846e16,\n",
    "    'S32Prime': 6.07918e17,\n",
    "    'Ni58Prime': 1.98485e19,\n",
    "    'Al27Prime': 2.28049e17,\n",
    "    'Cr52Prime': 8.31397e18,      \n",
    "}\n",
    "\n",
    "print 'Complete'"
   ]
  },
  {
   "cell_type": "markdown",
   "metadata": {
    "collapsed": true
   },
   "source": [
    "##### Sum over radii Error\n",
    "\n",
    "The following two cells:\n",
    "\n",
    "1). Initialize and populate a disctionary which stores calculated SumR values\n",
    "\n",
    "2). Calculates the percent error"
   ]
  },
  {
   "cell_type": "code",
   "execution_count": 60,
   "metadata": {
    "collapsed": false
   },
   "outputs": [
    {
     "name": "stdout",
     "output_type": "stream",
     "text": [
      "Complete\n"
     ]
    }
   ],
   "source": [
    "sumRAdam = {} \n",
    "# for element in elementList:\n",
    "#     sumRAdam[element] = SumR(element, m_X=1. , m_A=1, epsilon=1, alpha=1./137, alpha_X=1./137)\n",
    "\n",
    "print 'Complete'"
   ]
  },
  {
   "cell_type": "code",
   "execution_count": 61,
   "metadata": {
    "collapsed": false
   },
   "outputs": [
    {
     "name": "stdout",
     "output_type": "stream",
     "text": [
      "Percent Error of O16Prime: 0.926145\n",
      "Percent Error of Si28Prime: 0.926110\n",
      "Percent Error of Mg24Prime: 0.926175\n",
      "Percent Error of Fe56Prime: 0.926150\n",
      "Percent Error of Ca40Prime: 0.926121\n",
      "Percent Error of P31Prime: 0.926165\n",
      "Percent Error of Na11Prime: 0.926182\n",
      "Percent Error of S32Prime: 0.926082\n",
      "Percent Error of Ni58Prime: 0.926486\n",
      "Percent Error of Al27Prime: 0.926216\n",
      "Percent Error of Cr52Prime: 0.926166\n",
      "Complete\n"
     ]
    }
   ],
   "source": [
    "# for element in elementList:\n",
    "#     print 'Percent Error of %s: %f' % \\\n",
    "#     (element, ( sumRAdam[element] - sumRFlip0[element])*100./sumRFlip0[element]) \n",
    "\n",
    "print 'Complete'"
   ]
  },
  {
   "cell_type": "markdown",
   "metadata": {},
   "source": [
    "## Renaming:\n",
    "$CCapRed = SumR$"
   ]
  },
  {
   "cell_type": "code",
   "execution_count": 62,
   "metadata": {
    "collapsed": false
   },
   "outputs": [
    {
     "name": "stdout",
     "output_type": "stream",
     "text": [
      "Complete\n"
     ]
    }
   ],
   "source": [
    "def CCapRed(element, m_X, m_A, epsilon, alpha, alpha_X):\n",
    "    return SumR(element, m_X, m_A, epsilon, alpha, alpha_X)\n",
    "\n",
    "def CCapRed1(element,m_X, m_A, epsilon, alpha, alpha_X):\n",
    "    return SumR1(element, m_X, m_A, epsilon, alpha, alpha_X)\n",
    "\n",
    "print 'Complete'"
   ]
  },
  {
   "cell_type": "code",
   "execution_count": null,
   "metadata": {
    "collapsed": true
   },
   "outputs": [],
   "source": []
  },
  {
   "cell_type": "markdown",
   "metadata": {
    "collapsed": true
   },
   "source": [
    "## Full Capture Rate: $C^N_{cap}$\n",
    "The final step is to tack on the rest of the prefactors to the full capture rate:\n",
    "\n",
    "$$ C^N_{cap} = \\epsilon ^2 \\alpha_x n_x C^N_{cap,red} $$"
   ]
  },
  {
   "cell_type": "code",
   "execution_count": 63,
   "metadata": {
    "collapsed": false
   },
   "outputs": [
    {
     "name": "stdout",
     "output_type": "stream",
     "text": [
      "Complete\n"
     ]
    }
   ],
   "source": [
    "def CCap(element, m_X, m_A, epsilon, alpha, alpha_X):\n",
    "    n_X = 0.3/m_X # 1/cm^3\n",
    "\n",
    "    return epsilon**2 * alpha_X * n_X * CCapRed(element, m_X, m_A, epsilon, alpha, alpha_X) * (1.52e24) * (5.02e13)**-3\n",
    "\n",
    "def CCap1(element, m_X, m_A, epsilon, alpha, alpha_X):\n",
    "    n_X = 0.3/m_X # 1/cm^3\n",
    "\n",
    "    return epsilon**2 * alpha_X * n_X * CCapRed(element, m_X, m_A, epsilon, alpha, alpha_X) * (1.52e24) * (5.02e13)**-3\n",
    "\n",
    "\n",
    "# CCapFlip[(n), alphaX, epsilon, m_X, m_A]\n",
    "# Errors ~ 3.4%\n",
    "CCapFlip0 = {# CCapFlip[(n), alphaX = 1, epsilon = 1, m_X = 1, m_A = 1]\n",
    "    'O16Prime': 0.000110235,\n",
    "    'Si28Prime': 0.000191786,\n",
    "    'Mg24Prime': 0.000164556,\n",
    "    'Fe56Prime': 0.000330045,\n",
    "    'Ca40Prime': 0.000273591,\n",
    "    'P31Prime': 0.000205411,\n",
    "    'Na11Prime': 0.000144334,\n",
    "    'S32Prime': 0.000219041,\n",
    "    'Ni58Prime': 0.000363286,\n",
    "    'Al27Prime': 0.000171528,\n",
    "    'Cr52Prime': 0.000302887,\n",
    "}\n",
    "\n",
    "# Errors ~ 3.4%\n",
    "CCapFlip1 = {# CCapFlip[(n), alphaX = 1, epsilon = 1, m_X = 100, m_A = 1]\n",
    "    'O16Prime': 0.00058049,\n",
    "    'Si28Prime': 0.0104891,\n",
    "    'Mg24Prime': 0.00466995,\n",
    "    'Fe56Prime': 0.473954,\n",
    "    'Ca40Prime': 0.0731048,\n",
    "    'P31Prime': 0.0151357,\n",
    "    'Na11Prime': 0.00342419,\n",
    "    'S32Prime': 0.0213972,\n",
    "    'Ni58Prime': 0.69862,\n",
    "    'Al27Prime': 0.00802677,\n",
    "    'Cr52Prime': 0.292632, \n",
    "}\n",
    "\n",
    "# Errors ~ 3.4%\n",
    "CCapFlip2 = {# CCapFlip[(n), alphaX = 1./137, epsilon = 1, m_X = 1, m_A = 1]\n",
    "    'O16Prime': 8.04634e-7,\n",
    "    'Si28Prime': 1.3999e-6,\n",
    "    'Mg24Prime': 1.20114e-6,\n",
    "    'Fe56Prime': 2.40909e-6,\n",
    "    'Ca40Prime': 1.99701e-6,\n",
    "    'P31Prime': 1.49935e-6,\n",
    "    'Na11Prime': 1.05353e-6,\n",
    "    'S32Prime': 1.59884e-6,\n",
    "    'Ni58Prime': 2.65172e-6,\n",
    "    'Al27Prime': 1.25203e-6,\n",
    "    'Cr52Prime': 2.21085e-6, \n",
    "}\n",
    "\n",
    "# Errors ~ 3.4%\n",
    "CCapFlip3 = {# CCapFlip[(n), alphaX = 1./137, epsilon = 1, m_X = 100, m_A = 1]\n",
    "    'O16Prime': 4.23715e-6,\n",
    "    'Si28Prime': 0.0000765626,\n",
    "    'Mg24Prime': 0.0000340872,\n",
    "    'Fe56Prime': 0.00345952,\n",
    "    'Ca40Prime': 0.000533612,\n",
    "    'P31Prime': 0.000110479,\n",
    "    'Na11Prime': 0.0000249941,\n",
    "    'S32Prime': 0.000156184,\n",
    "    'Ni58Prime': 0.00509941,\n",
    "    'Al27Prime': 0.0000585895,\n",
    "    'Cr52Prime': 0.002136, \n",
    "}\n",
    "\n",
    "# Errors ~ 3.4%\n",
    "CCapFlip4 = {# CCapFlip[(n), alphaX = 1./137, epsilon = 10e-7, m_X = 100, m_A = 1]\n",
    "    'O16Prime': 4.23715e-20,\n",
    "    'Si28Prime': 7.65626e-19,\n",
    "    'Mg24Prime': 3.40872e-19,\n",
    "    'Fe56Prime': 3.45952e-17,\n",
    "    'Ca40Prime': 5.33612e-18,\n",
    "    'P31Prime': 1.10479e-18,\n",
    "    'Na11Prime': 2.49941e-19,\n",
    "    'S32Prime': 1.56184e-18,\n",
    "    'Ni58Prime': 5.09941e-17,\n",
    "    'Al27Prime': 5.85895e-19,\n",
    "    'Cr52Prime': 2.136e-17, \n",
    "}\n",
    "\n",
    "# Errors ~ 3.4%\n",
    "CCapFlip5 = {# CCapFlip[(n), alphaX = 0.035, epsilon = 10e-8, m_X = 1000, m_A = 1]\n",
    "    'O16Prime': 1.94362e-23,\n",
    "    'Si28Prime': 3.19251e-22,\n",
    "    'Mg24Prime': 1.47662e-22,\n",
    "    'Fe56Prime': 8.83711e-21,\n",
    "    'Ca40Prime': 1.90169e-21,\n",
    "    'P31Prime': 4.50838e-22,\n",
    "    'Na11Prime': 1.09197e-22,\n",
    "    'S32Prime': 6.22644e-22,\n",
    "    'Ni58Prime': 1.19914e-20,\n",
    "    'Al27Prime': 2.468e-22,\n",
    "    'Cr52Prime': 6.02537e-21, \n",
    "}\n",
    "\n",
    "print 'Complete'"
   ]
  },
  {
   "cell_type": "code",
   "execution_count": null,
   "metadata": {
    "collapsed": false
   },
   "outputs": [],
   "source": []
  },
  {
   "cell_type": "code",
   "execution_count": 64,
   "metadata": {
    "collapsed": false
   },
   "outputs": [
    {
     "name": "stdout",
     "output_type": "stream",
     "text": [
      "Complete\n"
     ]
    }
   ],
   "source": [
    "CCapAdam0 = {}\n",
    "CCapAdam1 = {}\n",
    "CCapAdam2 = {}\n",
    "CCapAdam3 = {}\n",
    "CCapAdam4 = {}\n",
    "CCapAdam5 = {}\n",
    "# CCap(element, m_X, m_A, epsilon, alpha, alpha_X)\n",
    "for element in elementList:\n",
    "    CCapAdam0[element] = CCap(element, 1., 1., 1., 1./137, 1.)\n",
    "    CCapAdam1[element] = CCap(element, 100., 1., 1., 1./137, 1.)\n",
    "    CCapAdam2[element] = CCap(element, 1., 1., 1., 1./137, 1./137)\n",
    "    CCapAdam3[element] = CCap(element, 100., 1., 1., 1./137, 1./137)\n",
    "    CCapAdam4[element] = CCap(element, 100., 1., 10**-7, 1./137, 1./137)\n",
    "    CCapAdam5[element] = CCap(element, 1000., 1., 10**-8, 1./137, 0.035)\n",
    "\n",
    "print 'Complete'"
   ]
  },
  {
   "cell_type": "code",
   "execution_count": 4,
   "metadata": {
    "collapsed": false
   },
   "outputs": [
    {
     "name": "stdout",
     "output_type": "stream",
     "text": [
      "Complete\n"
     ]
    }
   ],
   "source": [
    "# for element in elementList:\n",
    "#     print 'Percent error on CCapAdam0[%s]: %e' % (element, \\\n",
    "#             (CCapAdam0[element] - CCapFlip0[element])*100./CCapFlip0[element])\n",
    "# print '---------------------'\n",
    "# for element in elementList:\n",
    "#     print 'Percent error on CCapAdam1[%s]: %e' % (element, \\\n",
    "#             (CCapAdam1[element] - CCapFlip1[element])*100./CCapFlip1[element])\n",
    "# print '---------------------' \n",
    "# for element in elementList:\n",
    "#     print 'Percent error on CCapAdam2[%s]: %e' % (element, \\\n",
    "#             (CCapAdam2[element] - CCapFlip2[element])*100./CCapFlip2[element])\n",
    "# print '---------------------'    \n",
    "# for element in elementList:\n",
    "#     print 'Percent error on CCapAdam3[%s]: %e' % (element, \\\n",
    "#             (CCapAdam3[element] - CCapFlip3[element])*100./CCapFlip3[element])\n",
    "# print '---------------------'    \n",
    "# for element in elementList:\n",
    "#     print 'Percent error on CCapAdam4[%s]: %e' % (element, \\\n",
    "#             (CCapAdam4[element] - CCapFlip4[element])*100./CCapFlip4[element])\n",
    "# print '---------------------'    \n",
    "# for element in elementList:\n",
    "#     print 'Percent error on CCapAdam5[%s]: %e' % (element, \\\n",
    "#             (CCapAdam5[element] - CCapFlip5[element])*100./CCapFlip5[element])\n",
    "\n",
    "print 'Complete'"
   ]
  },
  {
   "cell_type": "markdown",
   "metadata": {},
   "source": [
    "### Summary of Python Functions:\n",
    "\n",
    "numDensity(element): Returns the array of number densityies of 'element'\n",
    "___\n",
    "ModDMVelDist(u): \n",
    "$$ ModDMVelDist(u) = \\frac{1}{4} \\int\\int_{-1}^{1} dcos\\theta \\space dcos\\phi \\space\n",
    "   f \\left[ \\left( u^2 (V_{\\odot} + V_{\\oplus}cos\\phi)^2 + 2u(V_{\\odot} + V_{\\oplus} cos\\phi) cos\\theta \\right) ^{1/2} \\right] $$ \n",
    "___\n",
    "DMVelDistNormalization(u):\n",
    "$$ DMVelDistNormalization(u) = \\frac{1}{N_0} $$\n",
    "___\n",
    "DMVelDist(u):\n",
    "$$ DMVelDist(u) =  N_0 \\left[ exp \\left ( \n",
    "\\frac{v^2_{gal}-u^2}{ku^2_0}\\right) -1 \\right] ^k\n",
    "\\Theta(v_{gal} - u)  $$\n",
    "___\n",
    "formFactor2(E_R, element):\n",
    "$$ formFactor2 = e^{-E_R/E_N} $$\n",
    "___\n",
    "capIntegrand(E_R, element, m_X, m_A, epsilon, alpha, alpha_X):\n",
    "$$ capIntegrand =  8 \\pi \\alpha \\alpha_X Z_N^2 \\frac{m_N}{2m_N E_R + m_A ^2} \\left| F_N \\right| ^2 $$\n",
    "___\n",
    "eMin(u, m_X):\n",
    "$$ E_{min} = \\frac{1}{2} m_X u^2 $$\n",
    "___\n",
    "\n",
    "eMax(rIndex, element, m_X, u):\n",
    "$$ E_{max} = 2 \\frac{\\mu^2}{m_N} (u^2 + v_{\\oplus}^2)$$\n",
    "   \n",
    "___\n",
    "IntDuDEr(rIndex, element, m_X, m_A, epsilon, alpha, alpha_X):\n",
    "$$ IntDuDEr = \\int_{0}^{uInt} du\\space 4\\pi u f(u) \\int_{E_{min}}^{E_{Max}} dE_R \\space \\frac{d \\sigma_N}{dE_R} $$\n",
    "___\n",
    "SumR(element, m_X, m_A, epsilon, alpha, alpha_X):\n",
    "$$ SumR = \\Sigma_{i} 4 \\pi r_i^2 \\Delta r_i \\space IntDuDEr $$\n",
    "\n",
    "___\n",
    "CCapRed(element, m_X, m_A, epsilon, alpha, alpha_X):\n",
    "$$ CCapRed = SumR(element, m_X, m_A, epsilon, alpha, alpha_X) $$\n",
    "\n",
    "___\n",
    "CCap(element, m_X, m_A, epsilon, alpha, alpha_X):\n",
    "\n",
    "$$ C^N_{cap} = \\epsilon ^2 \\alpha_x n_x C^N_{cap,red} $$"
   ]
  },
  {
   "cell_type": "code",
   "execution_count": null,
   "metadata": {
    "collapsed": true
   },
   "outputs": [],
   "source": [
    "# numDensity(element) # Returns the array of number densitys of 'element'\n",
    "# ModDMVelDist(u): # Returns the naturalized velocity of a DM particle\n",
    "# DMVelDistNormalization(u):\n",
    "# DMVelDist(u, N_0 = N_01):\n",
    "\n",
    "print 'Complete'"
   ]
  },
  {
   "cell_type": "markdown",
   "metadata": {
    "collapsed": true
   },
   "source": [
    "## Model Parameters"
   ]
  },
  {
   "cell_type": "code",
   "execution_count": 2,
   "metadata": {
    "collapsed": false
   },
   "outputs": [
    {
     "name": "stdout",
     "output_type": "stream",
     "text": [
      "Complete\n"
     ]
    }
   ],
   "source": [
    "################################################################################\n",
    "# Model Parameters\n",
    "################################################################################\n",
    "\n",
    "# Input by hand for now\n",
    "# print '''Input Model Parameters: m_X, m_A, epsilon, alpha, alpha_X: '''\n",
    "# global m_X\n",
    "# global m_A\n",
    "# global epsilon\n",
    "# global alpha\n",
    "# global alpha_X\n",
    "\n",
    "# m_X = 1# #GeV\n",
    "# m_A = 1 # GeV\n",
    "# epsilon = 1 # 1*10**(-7)\n",
    "# alpha = 1./137\n",
    "# alpha_X = 1./137\n",
    "\n",
    "# print'''Assuming the following model parameters: \n",
    "# m_X = %f GeV\n",
    "# m_A = %f GeV\n",
    "# epsilon = %e\n",
    "# alpha = %e\n",
    "# alpha_X = %e''' % (m_X, m_A, epsilon, alpha, alpha_X)\n",
    "\n",
    "\n",
    "#m_X = float(raw_input(\"m_X = \"))\n",
    "#m_A = float(raw_input(\"m_A = \"))\n",
    "#epsilon = float(raw_input(\"epsilon = \"))\n",
    "#alpha = float(raw_input(\"alpha = \"))\n",
    "#alpha_X = float(raw_input(\"alpha_X = \"))\n",
    "\n",
    "# assert m_X >= 0, 'Dark matter mass is negative'\n",
    "# assert m_A >= 0, 'Dark photon mass is negative'\n",
    "# assert epsilon >= 0, 'Coupling constant epsilon is negative'\n",
    "# assert alpha >= 0, 'Coupling constant alpha is negative'\n",
    "# assert alpha_X >= 0, 'Coupling constant alpha_X is negative'\n",
    "print 'Complete'"
   ]
  },
  {
   "cell_type": "code",
   "execution_count": 3,
   "metadata": {
    "collapsed": false
   },
   "outputs": [
    {
     "ename": "NameError",
     "evalue": "name 'CCap' is not defined",
     "output_type": "error",
     "traceback": [
      "\u001b[1;31m---------------------------------------------------------------------------\u001b[0m",
      "\u001b[1;31mNameError\u001b[0m                                 Traceback (most recent call last)",
      "\u001b[1;32m<ipython-input-3-c20c87493acf>\u001b[0m in \u001b[0;36m<module>\u001b[1;34m()\u001b[0m\n\u001b[1;32m----> 1\u001b[1;33m \u001b[1;32mprint\u001b[0m \u001b[0mCCap\u001b[0m\u001b[1;33m(\u001b[0m\u001b[1;34m'O16Prime'\u001b[0m\u001b[1;33m,\u001b[0m \u001b[0mm_x\u001b[0m\u001b[1;33m,\u001b[0m \u001b[0mm_A\u001b[0m\u001b[1;33m,\u001b[0m \u001b[0mepsilon\u001b[0m\u001b[1;33m,\u001b[0m \u001b[0malpha\u001b[0m\u001b[1;33m,\u001b[0m \u001b[0malpha_X\u001b[0m\u001b[1;33m)\u001b[0m\u001b[1;33m\u001b[0m\u001b[0m\n\u001b[0m",
      "\u001b[1;31mNameError\u001b[0m: name 'CCap' is not defined"
     ]
    }
   ],
   "source": []
  },
  {
   "cell_type": "code",
   "execution_count": null,
   "metadata": {
    "collapsed": true
   },
   "outputs": [],
   "source": []
  },
  {
   "cell_type": "code",
   "execution_count": null,
   "metadata": {
    "collapsed": true
   },
   "outputs": [],
   "source": []
  },
  {
   "cell_type": "code",
   "execution_count": null,
   "metadata": {
    "collapsed": true
   },
   "outputs": [],
   "source": []
  },
  {
   "cell_type": "code",
   "execution_count": null,
   "metadata": {
    "collapsed": true,
    "deletable": true,
    "editable": true
   },
   "outputs": [],
   "source": []
  },
  {
   "cell_type": "markdown",
   "metadata": {
    "deletable": true,
    "editable": true
   },
   "source": [
    "#### 'UnNatural' Units\n",
    "Direct copy-paste of the code above except I remove all the factors of c and change function definitions and variables to work.\n",
    "\n",
    "See this: I have to do some manipulation with factors of c\n",
    "\n",
    "This is how Flip did it:\n",
    "$$ \\int_{0}^{1} 4\\pi \\xi^2 f(\\xi)d\\xi = N_0 $$ where $\\xi$ is a dimensionless quantity.\n",
    "We define $$\\xi = u/c$$ where u is the incident DM Velocity\n",
    "Then we have:\n",
    "$$\\int_{0}^{c} 4 \\pi (u/c)^2 f(u/c) d(u/c) = N_0 $$\n",
    "$$ \\int_{0}^{c} 4\\pi u^2 f(u/c) du = c^3N_0$$\n",
    "So in unnatural units, the integration constant must be multiplied by a factor of $c^3$ and the upper limit of integration changes from $1$ to $c$.\n",
    " \n",
    " \n",
    "Okay the problem:\n",
    "\n",
    "1). The normalization in unnatural units should be from 1 to c, however, python gets mad when integrate in that range.\n",
    "\n",
    "2). Also, the velocies returned are extremely slow, is this expected?"
   ]
  },
  {
   "cell_type": "markdown",
   "metadata": {
    "collapsed": true,
    "deletable": true,
    "editable": true
   },
   "source": [
    "## Time Testing\n",
    "Here is a template for timing functions:\n",
    "\n",
    "    def TimeFunc():\n",
    "        return eqn(parameters)\n",
    "    print T.timit(TimeFunc)\n",
    "\n",
    "Here, I test all the things I need and see where the bottleneck is happening"
   ]
  },
  {
   "cell_type": "markdown",
   "metadata": {
    "collapsed": false,
    "deletable": true,
    "editable": true
   },
   "source": [
    "def Tn_Nstep():\n",
    "    n_Nstep1 = n_N(1,'Mg24')\n",
    "    return n_Nstep1\n",
    "        \n",
    "def Tv_cross():\n",
    "    # Loop\n",
    "    v_cross1 = escapeVelocity(1)\n",
    "    return v_cross1\n",
    "        \n",
    "def Teqn09step():        \n",
    "    # Loop\n",
    "    eqn09step1 = debugEqn09(1, 1, 1, 'Mg24')\n",
    "    return eqn09step1\n",
    "    \n",
    "def Teqn16step():\n",
    "    # Loop\n",
    "    eqn16step1 = ModDMVelDist(1)\n",
    "    return eqn16step1\n",
    "\n",
    "def Teqn17():\n",
    "    # Loop\n",
    "    eqn17 = DMVelDist(1, N_0)\n",
    "    return eqn17\n",
    "    \n",
    "def TE_max1():\n",
    "    # Loop\n",
    "    E_max1 = eqn13Emax(1, 1, 'Mg24')\n",
    "    return E_max1\n",
    "    \n",
    "def TE_min1():\n",
    "    # Loop\n",
    "    E_min1 = eqn13Emin(1)\n",
    "    return E_min1\n",
    "    \n",
    "def TdeltaE():\n",
    "    # Loop\n",
    "    deltaE = 10-8\n",
    "    return deltaE\n",
    "\n",
    "    \n",
    "\n",
    "#print 'Computation time of: n_N(1, Mg24) = %e seconds.' % T.timeit(Tn_Nstep)\n",
    "#print 'Computation time of: escapeVelocity(1) = %e seconds' % T.timeit(Tv_cross)\n",
    "#print 'Computation time of: eqn13Emax(1, 1, Mg24) = %e seconds.' % T.timeit(TE_max1)\n",
    "#print 'Computation time of: eqn13Emin(1) = %e seconds.' % T.timeit(TE_min1)\n",
    "\n",
    "\n",
    "#print 'Computation time of: eqn09(1, 1, 1, Mg24) = %e seconds.' % T.timeit(Teqn09step)\n",
    "#print 'Computation time of: ModDMVelDist(1) = %e seconds.' % T.timeit(Teqn16step)\n",
    "#print 'Computation time of: DMVelDist(1, N_0) = %e seconds.' % T.timeit(Teqn17)\n",
    "\n",
    "\n",
    "#print debugEqn09(1, 1, 1, 'Mg24')\n",
    "#print ModDMVelDist(1)\n",
    "#print DMVelDist(1, N_0)\n",
    "print 'Complete'"
   ]
  },
  {
   "cell_type": "markdown",
   "metadata": {
    "collapsed": false,
    "deletable": true,
    "editable": true
   },
   "source": [
    "from IPython.core.debugger import Tracer\n",
    "\n",
    "def function(x):\n",
    "    for a in np.linspace(0,50,25):\n",
    "        Tracer()()\n",
    "        print x + a\n",
    "\n",
    "function(1)"
   ]
  },
  {
   "cell_type": "code",
   "execution_count": null,
   "metadata": {
    "collapsed": true,
    "deletable": true,
    "editable": true
   },
   "outputs": [],
   "source": []
  }
 ],
 "metadata": {
  "anaconda-cloud": {},
  "kernelspec": {
   "display_name": "Python [Root]",
   "language": "python",
   "name": "Python [Root]"
  },
  "language_info": {
   "codemirror_mode": {
    "name": "ipython",
    "version": 2
   },
   "file_extension": ".py",
   "mimetype": "text/x-python",
   "name": "python",
   "nbconvert_exporter": "python",
   "pygments_lexer": "ipython2",
   "version": "2.7.12"
  }
 },
 "nbformat": 4,
 "nbformat_minor": 0
}
