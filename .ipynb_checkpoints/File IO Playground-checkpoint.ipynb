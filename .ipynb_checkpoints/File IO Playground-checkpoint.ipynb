{
 "cells": [
  {
   "cell_type": "markdown",
   "metadata": {},
   "source": [
    "# File I/O Playground\n",
    "The test file is called: [DebugText].txt \n",
    "\n",
    "**Goals**: \n",
    "- Output calculations to a .csv file\n",
    "- Save that file\n",
    "- Open that file and append more calculations to it\n",
    "    \n",
    "**Future Implementations**\n",
    "- When looping over large indicies, print the loop index for each appended value to the .csv file\n",
    "   "
   ]
  },
  {
   "cell_type": "code",
   "execution_count": 3,
   "metadata": {
    "collapsed": false
   },
   "outputs": [
    {
     "name": "stdout",
     "output_type": "stream",
     "text": [
      "Complete\n"
     ]
    }
   ],
   "source": [
    "import time\n",
    "import csv\n",
    "print 'Complete'"
   ]
  },
  {
   "cell_type": "code",
   "execution_count": 17,
   "metadata": {
    "collapsed": false
   },
   "outputs": [
    {
     "name": "stdout",
     "output_type": "stream",
     "text": [
      "Date: May/10/2017\n",
      "Time: 10:57:19\n"
     ]
    }
   ],
   "source": [
    "print 'Date: %s' % time.strftime('%b/%d/20%y')\n",
    "print 'Time: %s' % time.strftime('%H:%M:%S')"
   ]
  },
  {
   "cell_type": "markdown",
   "metadata": {
    "collapsed": true
   },
   "source": [
    "## CSV file Manipulation"
   ]
  },
  {
   "cell_type": "markdown",
   "metadata": {},
   "source": [
    "### Writing to a CSV"
   ]
  },
  {
   "cell_type": "code",
   "execution_count": 16,
   "metadata": {
    "collapsed": false
   },
   "outputs": [
    {
     "name": "stdout",
     "output_type": "stream",
     "text": [
      "Complete\n"
     ]
    }
   ],
   "source": [
    "def calculation2(x):\n",
    "    return x+1\n",
    "\n",
    "with open('[Debug].csv', 'wb') as csvfile:\n",
    "    writer = csv.writer(csvfile, delimiter = ',')\n",
    "    \n",
    "    # Define a loop range and do loop calculations\n",
    "    for i in range(0,9):\n",
    "        # Loop parameter = i\n",
    "        \n",
    "        # Calculation = value\n",
    "        value = calculation2(i)\n",
    "        \n",
    "        # You can only write csv's with arrays for some reason\n",
    "        writethis = [i,value]\n",
    "        writer.writerow(writethis)\n",
    "        \n",
    "print 'Complete'"
   ]
  },
  {
   "cell_type": "markdown",
   "metadata": {},
   "source": [
    "### Reading a CSV"
   ]
  },
  {
   "cell_type": "code",
   "execution_count": 39,
   "metadata": {
    "collapsed": false
   },
   "outputs": [
    {
     "name": "stdout",
     "output_type": "stream",
     "text": [
      "{'Row1': ['1', '2', '3', '4', '5', '6', '7', '8', '9'], 'Row2': ['1', '2', '3', '4', '5', '6', '7', '8', '9']}\n",
      "Complete\n"
     ]
    }
   ],
   "source": [
    "csvDictionary={\n",
    "    'Row1': [],\n",
    "    'Row2': [],\n",
    "}\n",
    "\n",
    "with open('[Debug].csv', 'rb') as csvfile:\n",
    "    reader = csv.reader(csvfile)\n",
    "    for row in reader:\n",
    "        for key in csvDictionary:\n",
    "            csvDictionary[key].append(row[1])\n",
    "    \n",
    "print csvDictionary    \n",
    "    \n",
    "print 'Complete'    "
   ]
  },
  {
   "cell_type": "code",
   "execution_count": null,
   "metadata": {
    "collapsed": true
   },
   "outputs": [],
   "source": []
  }
 ],
 "metadata": {
  "anaconda-cloud": {},
  "kernelspec": {
   "display_name": "Python [Root]",
   "language": "python",
   "name": "Python [Root]"
  },
  "language_info": {
   "codemirror_mode": {
    "name": "ipython",
    "version": 2
   },
   "file_extension": ".py",
   "mimetype": "text/x-python",
   "name": "python",
   "nbconvert_exporter": "python",
   "pygments_lexer": "ipython2",
   "version": "2.7.12"
  }
 },
 "nbformat": 4,
 "nbformat_minor": 0
}
