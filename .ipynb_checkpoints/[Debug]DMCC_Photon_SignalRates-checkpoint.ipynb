{
 "cells": [
  {
   "cell_type": "markdown",
   "metadata": {},
   "source": [
    "# Photon Signal Rate Plots"
   ]
  },
  {
   "cell_type": "markdown",
   "metadata": {},
   "source": [
    "This notebook outputs the reach plots in $\\varepsilon - m_A$ space for IceCube.\n",
    "\n",
    "Upon running this notebook the first time, run each cell sequentially. If however, you have started a calculation and now wish to continue where you left off, begin at the \"External File Interpolations\" cell and continue onward."
   ]
  },
  {
   "cell_type": "markdown",
   "metadata": {},
   "source": [
    "## Import Notebook as module"
   ]
  },
  {
   "cell_type": "code",
   "execution_count": 1,
   "metadata": {
    "ExecuteTime": {
     "end_time": "2017-09-28T17:54:38.989089Z",
     "start_time": "2017-09-28T17:54:38.448910Z"
    }
   },
   "outputs": [
    {
     "name": "stdout",
     "output_type": "stream",
     "text": [
      "Complete\n"
     ]
    }
   ],
   "source": [
    "import io, os, sys, types\n",
    "\n",
    "from IPython import get_ipython\n",
    "from nbformat import read\n",
    "from IPython.core.interactiveshell import InteractiveShell\n",
    "\n",
    "def find_notebook(fullname, path=None):\n",
    "    \"\"\"find a notebook, given its fully qualified name and an optional path\n",
    "\n",
    "    This turns \"foo.bar\" into \"foo/bar.ipynb\"\n",
    "    and tries turning \"Foo_Bar\" into \"Foo Bar\" if Foo_Bar\n",
    "    does not exist.\n",
    "    \"\"\"\n",
    "    name = fullname.rsplit('.', 1)[-1]\n",
    "    if not path:\n",
    "        path = ['']\n",
    "    for d in path:\n",
    "        nb_path = os.path.join(d, name + \".ipynb\")\n",
    "        if os.path.isfile(nb_path):\n",
    "            return nb_path\n",
    "        # let import Notebook_Name find \"Notebook Name.ipynb\"\n",
    "        nb_path = nb_path.replace(\"_\", \" \")\n",
    "        if os.path.isfile(nb_path):\n",
    "            return nb_path\n",
    "        \n",
    "class NotebookLoader(object):\n",
    "    \"\"\"Module Loader for Jupyter Notebooks\"\"\"\n",
    "    def __init__(self, path=None):\n",
    "        self.shell = InteractiveShell.instance()\n",
    "        self.path = path\n",
    "\n",
    "    def load_module(self, fullname):\n",
    "        \"\"\"import a notebook as a module\"\"\"\n",
    "        path = find_notebook(fullname, self.path)\n",
    "\n",
    "        print (\"importing Jupyter notebook from %s\" % path)\n",
    "\n",
    "        # load the notebook object\n",
    "        with io.open(path, 'r', encoding='utf-8') as f:\n",
    "            nb = read(f, 4)\n",
    "\n",
    "\n",
    "        # create the module and add it to sys.modules\n",
    "        # if name in sys.modules:\n",
    "        #    return sys.modules[name]\n",
    "        mod = types.ModuleType(fullname)\n",
    "        mod.__file__ = path\n",
    "        mod.__loader__ = self\n",
    "        mod.__dict__['get_ipython'] = get_ipython\n",
    "        sys.modules[fullname] = mod\n",
    "\n",
    "        # extra work to ensure that magics that would affect the user_ns\n",
    "        # actually affect the notebook module's ns\n",
    "        save_user_ns = self.shell.user_ns\n",
    "        self.shell.user_ns = mod.__dict__\n",
    "\n",
    "        try:\n",
    "            for cell in nb.cells:\n",
    "                if cell.cell_type == 'code':\n",
    "                    # transform the input to executable Python\n",
    "                    code = self.shell.input_transformer_manager.transform_cell(cell.source)\n",
    "                    # run the code in themodule\n",
    "                    exec(code, mod.__dict__)\n",
    "        finally:\n",
    "            self.shell.user_ns = save_user_ns\n",
    "        return mod\n",
    "\n",
    "    \n",
    "class NotebookFinder(object):\n",
    "    \"\"\"Module finder that locates Jupyter Notebooks\"\"\"\n",
    "    def __init__(self):\n",
    "        self.loaders = {}\n",
    "\n",
    "    def find_module(self, fullname, path=None):\n",
    "        nb_path = find_notebook(fullname, path)\n",
    "        if not nb_path:\n",
    "            return\n",
    "\n",
    "        key = path\n",
    "        if path:\n",
    "            # lists aren't hashable\n",
    "            key = os.path.sep.join(path)\n",
    "\n",
    "        if key not in self.loaders:\n",
    "            self.loaders[key] = NotebookLoader(path)\n",
    "        return self.loaders[key]\n",
    "    \n",
    "sys.meta_path.append(NotebookFinder())\n",
    "\n",
    "print ('Complete')"
   ]
  },
  {
   "cell_type": "code",
   "execution_count": 2,
   "metadata": {
    "ExecuteTime": {
     "end_time": "2017-09-28T17:54:56.162432Z",
     "start_time": "2017-09-28T17:54:40.864414Z"
    }
   },
   "outputs": [
    {
     "name": "stdout",
     "output_type": "stream",
     "text": [
      "importing Jupyter notebook from MasterFunctions_SignalRates.ipynb\n",
      "importing Jupyter notebook from MasterFunctions_Capture.ipynb\n",
      "importing Jupyter notebook from MasterFunctions_ModelData.ipynb\n",
      "------ MasterFunctions_ModelData Imported ------\n",
      "------ MasterFunctions_Capture Loaded ------\n",
      "importing Jupyter notebook from MasterFunctions_Annihilation.ipynb\n",
      "------ MasterFunctions_Annihilation Loaded ------\n",
      "------ MasterFunctions_SignalRates Imported ------\n",
      "importing Jupyter notebook from MasterFunctions_Graphing.ipynb\n",
      "------ MasterFunctions_Graphing Loaded ------\n",
      "All Notebooks Imported\n"
     ]
    }
   ],
   "source": [
    "from MasterFunctions_SignalRates import *\n",
    "from MasterFunctions_Graphing import*\n",
    "\n",
    "print ('All Notebooks Imported')"
   ]
  },
  {
   "cell_type": "markdown",
   "metadata": {
    "heading_collapsed": true
   },
   "source": [
    "# Signal Rate"
   ]
  },
  {
   "cell_type": "markdown",
   "metadata": {
    "hidden": true
   },
   "source": [
    "\n",
    "Recall the solution to the differential equation:\n",
    "\\begin{equation}\n",
    "\\frac{dN_X}{dt} = C_{cap} - N_X^2 C_{ann}\n",
    "\\end{equation}\n",
    "\n",
    "is given by:\n",
    "\n",
    "\\begin{equation}\n",
    "\\Gamma_{ann} = \\frac{1}{2} C_{cap}\\tanh^2 \\left( \\frac{\\tau_{\\oplus}}{\\tau} \\right)\n",
    "\\end{equation}\n",
    "\n",
    "more stuff about the signal rate"
   ]
  },
  {
   "cell_type": "markdown",
   "metadata": {
    "hidden": true
   },
   "source": [
    "-------------"
   ]
  },
  {
   "cell_type": "markdown",
   "metadata": {},
   "source": [
    "# Generating the Signal Data File"
   ]
  },
  {
   "cell_type": "markdown",
   "metadata": {},
   "source": [
    "## Recipie"
   ]
  },
  {
   "cell_type": "markdown",
   "metadata": {},
   "source": [
    "The recipie for generating the Signal File is:\n",
    "    \n",
    "1). Generate a Template Dataframe\n",
    "\n",
    "2). Write that Dataframe to an external .csv file\n",
    "\n",
    "3). Read in and interpolate the Branching Ratio for a given process and the Sommerfeld enhancement\n",
    "\n",
    "4). Calculate $C_{Cap}$, $C_{Ann}$, $\\Gamma_{Ann}$, and $N_{Sig}$ and append them to the signal .csv file.\n",
    "\n",
    "Step four can be quite lengthy depending on the desired resultioin on the data points. Typically, one would begin these calculations and be forced to wait until they are completed in their entirety; perhaps unable to shut down their machine for hours at a time. The cell \"Signal File Calculations\" however can be interrupted at any time, and resumed later. This allows the user to run the calculation in multiple stages instead of dedicating a large chunk of time and running the calculation all at once. \n",
    "The calculation can be stopped by interrupting the Jupyter Kernel. Be sure to run the \"Manual Overwrite\" cell just to be sure that the calculations are saved."
   ]
  },
  {
   "cell_type": "markdown",
   "metadata": {},
   "source": [
    "## Initialize External Signal File"
   ]
  },
  {
   "cell_type": "markdown",
   "metadata": {},
   "source": [
    "These cells create the \"grid\" of data points for which $N_{sig}$ will be calculated."
   ]
  },
  {
   "cell_type": "markdown",
   "metadata": {},
   "source": [
    "### Initialize Data Ranges"
   ]
  },
  {
   "cell_type": "markdown",
   "metadata": {},
   "source": [
    "This cell initializes the resolution of the reach plot. You may need to come back here to change this before you run the full calculation."
   ]
  },
  {
   "cell_type": "code",
   "execution_count": 10,
   "metadata": {
    "ExecuteTime": {
     "end_time": "2017-09-28T17:56:29.470436Z",
     "start_time": "2017-09-28T17:56:29.462437Z"
    },
    "collapsed": true
   },
   "outputs": [],
   "source": [
    "num = 50"
   ]
  },
  {
   "cell_type": "code",
   "execution_count": 4,
   "metadata": {
    "ExecuteTime": {
     "end_time": "2017-09-28T17:52:57.323552Z",
     "start_time": "2017-09-28T17:52:57.275552Z"
    }
   },
   "outputs": [
    {
     "name": "stdout",
     "output_type": "stream",
     "text": [
      "Complete\n"
     ]
    }
   ],
   "source": [
    "#########################################\n",
    "# Define parameter space Ranges\n",
    "#########################################\n",
    "# Logarithmic Spacing\n",
    "mALogRange = np.logspace(-2, 1, num, base = 10)\n",
    "epsilonLogRange = np.logspace(-10, -5, num, base = 10)\n",
    "\n",
    "\n",
    "#########################################\n",
    "# Initialize Master Arrays\n",
    "#########################################\n",
    "masterSignalArray = []\n",
    "\n",
    "#########################################\n",
    "# Populate the Master Arrays with the column headers and 'None' Cells\n",
    "#########################################\n",
    "counter = 0\n",
    "for mATemp in mALogRange:\n",
    "    for epsilonTemp in epsilonLogRange:\n",
    "        masterSignalArray.append([counter, ' ', mATemp, epsilonTemp, \\\n",
    "                                  'None', 'None', 'None', 'None', ' '])\n",
    "        counter += 1\n",
    "\n",
    "        \n",
    "#########################################\n",
    "# Create a PANDAS DataFrame from the Master Arrays\n",
    "#########################################\n",
    "masterSignalDataframe = pd.DataFrame(data = masterSignalArray, \\\n",
    "    columns=['Counter', 'mX[GeV]', 'mA[GeV]', 'Epsilon',\\\n",
    "             'Capture', 'Annihilation', 'GammaAnn', 'IceCubeSignal', 'Kappa0'])\n",
    "\n",
    "print ('Complete')"
   ]
  },
  {
   "cell_type": "markdown",
   "metadata": {},
   "source": [
    "### Write to External .csv File"
   ]
  },
  {
   "cell_type": "code",
   "execution_count": 5,
   "metadata": {
    "ExecuteTime": {
     "end_time": "2017-09-28T17:53:05.571764Z",
     "start_time": "2017-09-28T17:52:58.684649Z"
    }
   },
   "outputs": [
    {
     "name": "stdout",
     "output_type": "stream",
     "text": [
      "Signal Rate filename: 500GeVSignal.csv\n",
      "Complete\n"
     ]
    }
   ],
   "source": [
    "SignalFile = input('Signal Rate filename: ')\n",
    "\n",
    "writeFile = photonSignalDataPath(SignalFile)\n",
    "\n",
    "# Append a single value onto the Kappa0 Column\n",
    "kappa0Value = 'None'\n",
    "m_XValue = 'None'\n",
    "masterSignalDataframe.set_value(0, 'mX[GeV]', m_XValue)\n",
    "masterSignalDataframe.set_value(0, 'Kappa0' , kappa0Value)\n",
    "\n",
    "masterSignalDataframe.to_csv(writeFile, index=False)\n",
    "\n",
    "print ('Complete')"
   ]
  },
  {
   "cell_type": "markdown",
   "metadata": {},
   "source": [
    "## External File Interpolations"
   ]
  },
  {
   "cell_type": "markdown",
   "metadata": {},
   "source": [
    "The following cells read in and create interpolations of the:\n",
    "\n",
    "1). Branching ratio\n",
    "\n",
    "2). Sommerfeld Enhancement\n",
    "\n",
    "The branching ratio data is stored in a folder called \"BranchingRatioData.\"\n",
    "\n",
    "The Sommerfeld data, which has been calculated prior, is stored in the folder \"Sommerfeld Data.\""
   ]
  },
  {
   "cell_type": "markdown",
   "metadata": {},
   "source": [
    "### Branching Ratio Interpolation"
   ]
  },
  {
   "cell_type": "markdown",
   "metadata": {},
   "source": [
    "In this cell, we read in a .csv file containing discrete branching ratio data points obtained from WebPlotDigitizer and interpolate them into a continuous funciton named \"branchRatioInterp.\""
   ]
  },
  {
   "cell_type": "code",
   "execution_count": 3,
   "metadata": {
    "ExecuteTime": {
     "end_time": "2017-09-28T17:54:56.186256Z",
     "start_time": "2017-09-28T17:54:56.162432Z"
    }
   },
   "outputs": [
    {
     "name": "stdout",
     "output_type": "stream",
     "text": [
      "Complete\n"
     ]
    }
   ],
   "source": [
    "# branchFile = input('Branching File: ')\n",
    "branchFile = 'brtoeAdam.csv'\n",
    "\n",
    "BranchData = pd.read_csv(photonBranchPath(branchFile))\n",
    "\n",
    "xList = BranchData['mA[GeV]']\n",
    "yList = BranchData['BR']\n",
    "\n",
    "branchRatioInterp = interpolate.interp1d(xList,yList)\n",
    "\n",
    "print ('Complete')"
   ]
  },
  {
   "cell_type": "markdown",
   "metadata": {},
   "source": [
    "### Sommerfeld Data Interpolation"
   ]
  },
  {
   "cell_type": "markdown",
   "metadata": {},
   "source": [
    "The following two cells read in an external Sommerfeld data file and:\n",
    "\n",
    "1). Append the m_X value defined in the Sommerfeld file to the Signal file\n",
    "\n",
    "2). Append the Kappa0 value defined in the Sommerfeld file to the Signal File\n",
    "\n",
    "3). Interpolate the discrete set of ($m_A$, $\\langle S_s \\rangle$) points into a continuous function $\\langle S_s \\rangle(m_A)$"
   ]
  },
  {
   "cell_type": "code",
   "execution_count": 6,
   "metadata": {
    "ExecuteTime": {
     "end_time": "2017-09-28T17:55:24.804233Z",
     "start_time": "2017-09-28T17:55:18.348507Z"
    }
   },
   "outputs": [
    {
     "name": "stdout",
     "output_type": "stream",
     "text": [
      "Sommerfeld File: 500GeVSommerfeld.csv\n",
      "Signal Rate File: 500GeVSignal.csv\n",
      "mX value already appended to Signal File\n",
      "Kappa0 value already appended to Signal File\n",
      "Interpolation Complete\n",
      "Complete\n"
     ]
    }
   ],
   "source": [
    "####################################\n",
    "# Define Sommerfeld and Signal Files\n",
    "####################################\n",
    "SommName = input('Sommerfeld File: ')\n",
    "SommFile = pd.read_csv(photonSommerfeldPath(SommName))\n",
    "filename = input('Signal Rate File: ')\n",
    "writeFile = photonSignalDataPath(filename)\n",
    "dataFrame = pd.read_csv(writeFile , sep = ',')\n",
    "\n",
    "####################################\n",
    "# Append Sommerfeld data\n",
    "####################################\n",
    "testm_X = dataFrame.loc[0,'mX[GeV]']\n",
    "testKappa0 = dataFrame.loc[0, 'Kappa0']\n",
    "\n",
    "if (testm_X == 'None'):\n",
    "    SommM_X = float(SommFile.loc[0,'mX[GeV]'])\n",
    "    dataFrame.set_value(0, 'mX[GeV]', SommM_X)\n",
    "\n",
    "elif(testm_X != 'None'):\n",
    "    print ('mX value already appended to Signal File')\n",
    "    \n",
    "if (testKappa0 == 'None'):\n",
    "    SommKappa0 = float(SommFile.loc[0,'Kappa0'])\n",
    "    dataFrame.set_value(0, 'Kappa0', SommKappa0)\n",
    "\n",
    "elif (testKappa0 != 'None'):\n",
    "    print ('Kappa0 value already appended to Signal File')\n",
    "\n",
    "dataFrame.to_csv(writeFile, index=False)\n",
    "\n",
    "\n",
    "####################################\n",
    "# Interpolate Sommerfeld data\n",
    "####################################\n",
    "mAData = SommFile['mA[GeV]']\n",
    "SommData = SommFile['ThermAvgSommerfeld']\n",
    "SommInterp = interpolate.interp1d(mAData,SommData)\n",
    "print ('Interpolation Complete')\n",
    "\n",
    "\n",
    "print ('Complete')"
   ]
  },
  {
   "cell_type": "markdown",
   "metadata": {},
   "source": [
    "### Visualization of Sommerfeld Resolution"
   ]
  },
  {
   "cell_type": "markdown",
   "metadata": {},
   "source": [
    "The following cell plots the sommerfeld enhancement given the number of data points for a single axis of the signal file. If a greater number of data points is required, under the \"Initialize Data Ranges\" cell, change the \"num\" parameter, and run the notebook to this point again."
   ]
  },
  {
   "cell_type": "code",
   "execution_count": 11,
   "metadata": {
    "ExecuteTime": {
     "end_time": "2017-09-28T17:56:33.227658Z",
     "start_time": "2017-09-28T17:56:33.003504Z"
    }
   },
   "outputs": [
    {
     "data": {
      "text/plain": [
       "[<matplotlib.lines.Line2D at 0x19cc79db160>]"
      ]
     },
     "execution_count": 11,
     "metadata": {},
     "output_type": "execute_result"
    },
    {
     "data": {
      "image/png": "[encoded data removed]",
      "text/plain": [
       "<matplotlib.figure.Figure at 0x19cc7832f28>"
      ]
     },
     "metadata": {},
     "output_type": "display_data"
    }
   ],
   "source": [
    "\n",
    "vect1 = []\n",
    "vect2 = []\n",
    "for ma in np.logspace(-2,1, num, base = 10):\n",
    "    vect1.append(ma)\n",
    "    vect2.append(SommInterp(ma))\n",
    "\n",
    "    \n",
    "plt.plot(np.log10(vect1),np.log10(vect2))"
   ]
  },
  {
   "cell_type": "markdown",
   "metadata": {
    "heading_collapsed": true
   },
   "source": [
    "## Sanity Check"
   ]
  },
  {
   "cell_type": "markdown",
   "metadata": {
    "ExecuteTime": {
     "end_time": "2017-08-29T01:37:07.554914Z",
     "start_time": "2017-08-29T01:37:07.542915Z"
    },
    "hidden": true
   },
   "source": [
    "We expect that:\n",
    "\n",
    "1). The $m_X$ value from the Sommerfeld file is appended to the Signal file\n",
    "\n",
    "2). The Kappa0 value from the Sommerfeld file is appended to the Signal file\n",
    "\n",
    "3). The Signal file has 8 columns labeled\n",
    "    \n",
    "    Counter, mX[GeV], mA[GeV], Epsilon, Capture, Annihilation, GammaAnn, IceCubeSignal, Kappa0"
   ]
  },
  {
   "cell_type": "code",
   "execution_count": 41,
   "metadata": {
    "ExecuteTime": {
     "end_time": "2017-09-13T17:16:29.576119Z",
     "start_time": "2017-09-13T17:16:26.078572Z"
    },
    "hidden": true,
    "scrolled": true
   },
   "outputs": [
    {
     "name": "stdout",
     "output_type": "stream",
     "text": [
      "Signal Rate filename: 10TeVSignal.csv\n",
      "       Counter  mX[GeV]  mA[GeV]       Epsilon Capture Annihilation GammaAnn  \\\n",
      "0            0  10000.0     0.01  1.000000e-10    None         None     None   \n",
      "1            1              0.01  1.059560e-10    None         None     None   \n",
      "2            2              0.01  1.122668e-10    None         None     None   \n",
      "3            3              0.01  1.189534e-10    None         None     None   \n",
      "4            4              0.01  1.260383e-10    None         None     None   \n",
      "5            5              0.01  1.335452e-10    None         None     None   \n",
      "6            6              0.01  1.414991e-10    None         None     None   \n",
      "7            7              0.01  1.499268e-10    None         None     None   \n",
      "8            8              0.01  1.588565e-10    None         None     None   \n",
      "9            9              0.01  1.683180e-10    None         None     None   \n",
      "10          10              0.01  1.783431e-10    None         None     None   \n",
      "11          11              0.01  1.889652e-10    None         None     None   \n",
      "12          12              0.01  2.002200e-10    None         None     None   \n",
      "13          13              0.01  2.121452e-10    None         None     None   \n",
      "14          14              0.01  2.247806e-10    None         None     None   \n",
      "15          15              0.01  2.381686e-10    None         None     None   \n",
      "16          16              0.01  2.523539e-10    None         None     None   \n",
      "17          17              0.01  2.673842e-10    None         None     None   \n",
      "18          18              0.01  2.833096e-10    None         None     None   \n",
      "19          19              0.01  3.001836e-10    None         None     None   \n",
      "20          20              0.01  3.180626e-10    None         None     None   \n",
      "21          21              0.01  3.370064e-10    None         None     None   \n",
      "22          22              0.01  3.570786e-10    None         None     None   \n",
      "23          23              0.01  3.783463e-10    None         None     None   \n",
      "24          24              0.01  4.008806e-10    None         None     None   \n",
      "25          25              0.01  4.247572e-10    None         None     None   \n",
      "26          26              0.01  4.500558e-10    None         None     None   \n",
      "27          27              0.01  4.768612e-10    None         None     None   \n",
      "28          28              0.01  5.052631e-10    None         None     None   \n",
      "29          29              0.01  5.353567e-10    None         None     None   \n",
      "...        ...      ...      ...           ...     ...          ...      ...   \n",
      "39970    39970             10.00  1.867914e-06    None         None     None   \n",
      "39971    39971             10.00  1.979167e-06    None         None     None   \n",
      "39972    39972             10.00  2.097046e-06    None         None     None   \n",
      "39973    39973             10.00  2.221947e-06    None         None     None   \n",
      "39974    39974             10.00  2.354286e-06    None         None     None   \n",
      "39975    39975             10.00  2.494508e-06    None         None     None   \n",
      "39976    39976             10.00  2.643081e-06    None         None     None   \n",
      "39977    39977             10.00  2.800504e-06    None         None     None   \n",
      "39978    39978             10.00  2.967302e-06    None         None     None   \n",
      "39979    39979             10.00  3.144035e-06    None         None     None   \n",
      "39980    39980             10.00  3.331295e-06    None         None     None   \n",
      "39981    39981             10.00  3.529707e-06    None         None     None   \n",
      "39982    39982             10.00  3.739937e-06    None         None     None   \n",
      "39983    39983             10.00  3.962689e-06    None         None     None   \n",
      "39984    39984             10.00  4.198707e-06    None         None     None   \n",
      "39985    39985             10.00  4.448783e-06    None         None     None   \n",
      "39986    39986             10.00  4.713753e-06    None         None     None   \n",
      "39987    39987             10.00  4.994505e-06    None         None     None   \n",
      "39988    39988             10.00  5.291979e-06    None         None     None   \n",
      "39989    39989             10.00  5.607170e-06    None         None     None   \n",
      "39990    39990             10.00  5.941134e-06    None         None     None   \n",
      "39991    39991             10.00  6.294989e-06    None         None     None   \n",
      "39992    39992             10.00  6.669920e-06    None         None     None   \n",
      "39993    39993             10.00  7.067181e-06    None         None     None   \n",
      "39994    39994             10.00  7.488104e-06    None         None     None   \n",
      "39995    39995             10.00  7.934097e-06    None         None     None   \n",
      "39996    39996             10.00  8.406653e-06    None         None     None   \n",
      "39997    39997             10.00  8.907355e-06    None         None     None   \n",
      "39998    39998             10.00  9.437878e-06    None         None     None   \n",
      "39999    39999             10.00  1.000000e-05    None         None     None   \n",
      "\n",
      "      IceCubeSignal                  Kappa0  \n",
      "0              None  3.1437639639459263e+23  \n",
      "1              None                          \n",
      "2              None                          \n",
      "3              None                          \n",
      "4              None                          \n",
      "5              None                          \n",
      "6              None                          \n",
      "7              None                          \n",
      "8              None                          \n",
      "9              None                          \n",
      "10             None                          \n",
      "11             None                          \n",
      "12             None                          \n",
      "13             None                          \n",
      "14             None                          \n",
      "15             None                          \n",
      "16             None                          \n",
      "17             None                          \n",
      "18             None                          \n",
      "19             None                          \n",
      "20             None                          \n",
      "21             None                          \n",
      "22             None                          \n",
      "23             None                          \n",
      "24             None                          \n",
      "25             None                          \n",
      "26             None                          \n",
      "27             None                          \n",
      "28             None                          \n",
      "29             None                          \n",
      "...             ...                     ...  \n",
      "39970          None                          \n",
      "39971          None                          \n",
      "39972          None                          \n",
      "39973          None                          \n",
      "39974          None                          \n",
      "39975          None                          \n",
      "39976          None                          \n",
      "39977          None                          \n",
      "39978          None                          \n",
      "39979          None                          \n",
      "39980          None                          \n",
      "39981          None                          \n",
      "39982          None                          \n",
      "39983          None                          \n",
      "39984          None                          \n",
      "39985          None                          \n",
      "39986          None                          \n",
      "39987          None                          \n",
      "39988          None                          \n",
      "39989          None                          \n",
      "39990          None                          \n",
      "39991          None                          \n",
      "39992          None                          \n",
      "39993          None                          \n",
      "39994          None                          \n",
      "39995          None                          \n",
      "39996          None                          \n",
      "39997          None                          \n",
      "39998          None                          \n",
      "39999          None                          \n",
      "\n",
      "[40000 rows x 9 columns]\n",
      "Complete\n"
     ]
    }
   ],
   "source": [
    "filename = input('Signal Rate filename: ')\n",
    "writeFile = signalDataPath(filename)\n",
    "\n",
    "print (pd.read_csv(writeFile, sep = ','))\n",
    "print ('Complete')"
   ]
  },
  {
   "cell_type": "markdown",
   "metadata": {},
   "source": [
    "## Signal File Calculations"
   ]
  },
  {
   "cell_type": "markdown",
   "metadata": {},
   "source": [
    "This cell scans through all the lines of the .csv file and calculates:\n",
    "\n",
    "1). Capture\n",
    "\n",
    "2). Annihilation\n",
    "\n",
    "3). GammaAnn\n",
    "\n",
    "4). Signal\n",
    "\n",
    "As mentioned previously, this cell may be stopped, by interrupting the kernel, at any time and resumed later."
   ]
  },
  {
   "cell_type": "code",
   "execution_count": 12,
   "metadata": {
    "ExecuteTime": {
     "end_time": "2017-09-28T17:59:02.123321Z",
     "start_time": "2017-09-28T17:56:35.302059Z"
    },
    "scrolled": true
   },
   "outputs": [
    {
     "name": "stdout",
     "output_type": "stream",
     "text": [
      "Signal Rate filename: 500GeVSignal.csv\n",
      "500GeVSignal.csv\n",
      "\n",
      "--------------------\n",
      "Calculations for index: 0 recorded\n",
      "Calculations for index: 20 recorded\n",
      "Calculations for index: 40 recorded\n",
      "Calculations for index: 60 recorded\n",
      "Calculations for index: 80 recorded\n",
      "Calculations for index: 100 recorded\n",
      "Calculations for index: 120 recorded\n",
      "Calculations for index: 140 recorded\n",
      "Calculations for index: 160 recorded\n",
      "Calculations for index: 180 recorded\n",
      "Calculations for index: 200 recorded\n",
      "Calculations for index: 220 recorded\n",
      "Calculations for index: 240 recorded\n",
      "Calculations for index: 260 recorded\n",
      "Calculations for index: 280 recorded\n",
      "Calculations for index: 300 recorded\n",
      "Calculations for index: 320 recorded\n",
      "Calculations for index: 340 recorded\n",
      "Calculations for index: 360 recorded\n",
      "Calculations for index: 380 recorded\n",
      "Calculations for index: 400 recorded\n",
      "Calculations for index: 420 recorded\n",
      "Calculations for index: 440 recorded\n",
      "Calculations for index: 460 recorded\n",
      "Calculations for index: 480 recorded\n",
      "Calculations for index: 500 recorded\n",
      "Calculations for index: 520 recorded\n",
      "Calculations for index: 540 recorded\n",
      "Calculations for index: 560 recorded\n",
      "Calculations for index: 580 recorded\n",
      "Calculations for index: 600 recorded\n",
      "Calculations for index: 620 recorded\n",
      "Calculations for index: 640 recorded\n",
      "Calculations for index: 660 recorded\n",
      "Calculations for index: 680 recorded\n",
      "Calculations for index: 700 recorded\n",
      "Calculations for index: 720 recorded\n",
      "Calculations for index: 740 recorded\n",
      "Calculations for index: 760 recorded\n",
      "Calculations for index: 780 recorded\n",
      "Calculations for index: 800 recorded\n",
      "Calculations for index: 820 recorded\n",
      "Calculations for index: 840 recorded\n",
      "Calculations for index: 860 recorded\n",
      "Calculations for index: 880 recorded\n",
      "Calculations for index: 900 recorded\n",
      "Calculations for index: 920 recorded\n",
      "Calculations for index: 940 recorded\n",
      "Calculations for index: 960 recorded\n",
      "Calculations for index: 980 recorded\n",
      "Calculations for index: 1000 recorded\n",
      "Calculations for index: 1020 recorded\n",
      "Calculations for index: 1040 recorded\n",
      "Calculations for index: 1060 recorded\n",
      "Calculations for index: 1080 recorded\n",
      "Calculations for index: 1100 recorded\n",
      "Calculations for index: 1120 recorded\n",
      "Calculations for index: 1140 recorded\n",
      "Calculations for index: 1160 recorded\n",
      "Calculations for index: 1180 recorded\n",
      "Calculations for index: 1200 recorded\n",
      "Calculations for index: 1220 recorded\n",
      "Calculations for index: 1240 recorded\n",
      "Calculations for index: 1260 recorded\n",
      "Calculations for index: 1280 recorded\n",
      "Calculations for index: 1300 recorded\n",
      "Calculations for index: 1320 recorded\n",
      "Calculations for index: 1340 recorded\n",
      "Calculations for index: 1360 recorded\n",
      "Calculations for index: 1380 recorded\n",
      "Calculations for index: 1400 recorded\n",
      "Calculations for index: 1420 recorded\n",
      "Calculations for index: 1440 recorded\n",
      "Calculations for index: 1460 recorded\n",
      "Calculations for index: 1480 recorded\n",
      "Calculations for index: 1500 recorded\n",
      "Calculations for index: 1520 recorded\n",
      "Calculations for index: 1540 recorded\n",
      "Calculations for index: 1560 recorded\n",
      "Calculations for index: 1580 recorded\n",
      "Calculations for index: 1600 recorded\n",
      "Calculations for index: 1620 recorded\n",
      "Calculations for index: 1640 recorded\n",
      "Calculations for index: 1660 recorded\n",
      "Calculations for index: 1680 recorded\n",
      "Calculations for index: 1700 recorded\n",
      "Calculations for index: 1720 recorded\n",
      "Calculations for index: 1740 recorded\n",
      "Calculations for index: 1760 recorded\n",
      "Calculations for index: 1780 recorded\n",
      "Calculations for index: 1800 recorded\n",
      "Calculations for index: 1820 recorded\n",
      "Calculations for index: 1840 recorded\n",
      "Calculations for index: 1860 recorded\n",
      "Calculations for index: 1880 recorded\n",
      "Calculations for index: 1900 recorded\n",
      "Calculations for index: 1920 recorded\n",
      "Calculations for index: 1940 recorded\n",
      "Calculations for index: 1960 recorded\n",
      "Calculations for index: 1980 recorded\n",
      "Calculations for index: 2000 recorded\n",
      "Calculations for index: 2020 recorded\n",
      "Calculations for index: 2040 recorded\n",
      "Calculations for index: 2060 recorded\n",
      "Calculations for index: 2080 recorded\n",
      "Calculations for index: 2100 recorded\n",
      "Calculations for index: 2120 recorded\n",
      "Calculations for index: 2140 recorded\n",
      "Calculations for index: 2160 recorded\n",
      "Calculations for index: 2180 recorded\n",
      "Calculations for index: 2200 recorded\n",
      "Calculations for index: 2220 recorded\n",
      "Calculations for index: 2240 recorded\n",
      "Calculations for index: 2260 recorded\n",
      "Calculations for index: 2280 recorded\n",
      "Calculations for index: 2300 recorded\n",
      "Calculations for index: 2320 recorded\n",
      "Calculations for index: 2340 recorded\n",
      "Calculations for index: 2360 recorded\n",
      "Calculations for index: 2380 recorded\n",
      "Calculations for index: 2400 recorded\n",
      "Calculations for index: 2420 recorded\n",
      "Calculations for index: 2440 recorded\n",
      "Calculations for index: 2460 recorded\n",
      "Calculations for index: 2480 recorded\n",
      "All Calculations Complete\n",
      "Complete\n"
     ]
    }
   ],
   "source": [
    "fileName = input('Signal Rate filename: ')\n",
    "writeFile = photonSignalDataPath(fileName)\n",
    "dataIn = pd.read_csv(writeFile, sep = ',')\n",
    "\n",
    "#########################################\n",
    "# Define loop range\n",
    "#########################################\n",
    "# Scan down 'Counter' column, start calculating at first non-calculated value\n",
    "loopRange = range(0,len(dataIn['Counter']))\n",
    "\n",
    "#########################################\n",
    "# Parameters independent of data file:\n",
    "#########################################\n",
    "Filem_X = float(dataIn.loc[0, 'mX[GeV]'])\n",
    "FileKappa0 = float(dataIn.loc[0, 'Kappa0'])\n",
    "Alpha = 1./137\n",
    "LiveTime = yr2s(10)\n",
    "\n",
    "\n",
    "#########################################\n",
    "# Begin the loop calculations\n",
    "#########################################\n",
    "print (fileName)\n",
    "print ()\n",
    "print ('--------------------')\n",
    "finishedCounter = 0\n",
    "index = 0\n",
    "for index in loopRange:\n",
    "    testValue = dataIn.loc[index, 'IceCubeSignal']\n",
    "    if (testValue == 'None'):\n",
    "        \n",
    "        #########################################\n",
    "        # Initialize Loop Parameters\n",
    "        #########################################\n",
    "        Filem_ATemp = float(dataIn.loc[index, 'mA[GeV]'])\n",
    "        FileEpsilonTemp = float(dataIn.loc[index, 'Epsilon'])\n",
    "        Alpha_X = alphaTherm(Filem_X, Filem_ATemp)\n",
    "        Sommerfeld = SommInterp(Filem_ATemp)\n",
    "        BranchingRatio = branchRatioInterp(Filem_ATemp)\n",
    "        \n",
    "        #########################################\n",
    "        # Loop Calculations\n",
    "        #########################################\n",
    "        Capture = photonCCapQuick(Filem_X, Filem_ATemp, FileEpsilonTemp, Alpha_X, FileKappa0)\n",
    "        SigmaVTree = photonSigmaVtree(Filem_X, Filem_ATemp, Alpha_X)\n",
    "        Annihilation = CAnnCalc(Filem_X, SigmaVTree, thermAvgSomm = Sommerfeld)\n",
    "        GammaAnn = gammaAnn(Capture, Annihilation)\n",
    "        L = decayLength(Filem_X, Filem_ATemp, FileEpsilonTemp, BranchingRatio)\n",
    "        EpsilonDecay = epsilonDecay(L)\n",
    "        \n",
    "        IceCubeSignal = iceCubeSignal(GammaAnn, EpsilonDecay, LiveTime)\n",
    "        \n",
    "        #########################################\n",
    "        # Append Calculated Values to SignalFile.csv\n",
    "        #########################################\n",
    "        dataIn.set_value(index, 'Capture', Capture)\n",
    "        dataIn.set_value(index, 'Annihilation', Annihilation)\n",
    "        dataIn.set_value(index, 'GammaAnn', GammaAnn)\n",
    "        dataIn.set_value(index, 'IceCubeSignal', IceCubeSignal)\n",
    "        \n",
    "        \n",
    "        #########################################\n",
    "        # Overwrite SignalFile.csv\n",
    "        #########################################\n",
    "        dataIn.to_csv(writeFile, sep=',',index=False) \n",
    "        finishedCounter += 1\n",
    "        \n",
    "        if (index % 20 == 0):\n",
    "            print ('Calculations for index: {0} recorded'.format(index))\n",
    "        \n",
    "    elif (testValue != 'None'):\n",
    "        finishedCounter += 1\n",
    "    \n",
    "    if (finishedCounter == len(dataIn['Counter'])):\n",
    "        print ('All Calculations Complete')\n",
    "        break\n",
    "        \n",
    "print ('Complete')"
   ]
  },
  {
   "cell_type": "markdown",
   "metadata": {},
   "source": [
    "## Manual Overwrite"
   ]
  },
  {
   "cell_type": "markdown",
   "metadata": {},
   "source": [
    "This cell is a manual overwrite of the sinal file, just for good measure."
   ]
  },
  {
   "cell_type": "code",
   "execution_count": 13,
   "metadata": {
    "ExecuteTime": {
     "end_time": "2017-09-28T17:59:22.260711Z",
     "start_time": "2017-09-28T17:59:22.192706Z"
    }
   },
   "outputs": [
    {
     "name": "stdout",
     "output_type": "stream",
     "text": [
      "Complete\n"
     ]
    }
   ],
   "source": [
    "dataIn.to_csv(writeFile, sep=',', index=False) \n",
    "\n",
    "print ('Complete')"
   ]
  },
  {
   "cell_type": "markdown",
   "metadata": {},
   "source": [
    "------------------------"
   ]
  },
  {
   "cell_type": "markdown",
   "metadata": {},
   "source": [
    "# Generate the Signal Graphs"
   ]
  },
  {
   "cell_type": "markdown",
   "metadata": {},
   "source": [
    "The general recipie is:\n",
    "\n",
    "1). Read in a Signal Data file\n",
    "\n",
    "2). Extract the plot information\n",
    "\n",
    "3). Plot\n"
   ]
  },
  {
   "cell_type": "markdown",
   "metadata": {},
   "source": [
    "## Read in External Signal File"
   ]
  },
  {
   "cell_type": "code",
   "execution_count": 31,
   "metadata": {
    "ExecuteTime": {
     "end_time": "2017-09-28T18:01:30.235315Z",
     "start_time": "2017-09-28T18:01:26.541031Z"
    }
   },
   "outputs": [
    {
     "name": "stdout",
     "output_type": "stream",
     "text": [
      "Signal Rate filename: 500GeVSignal.csv\n",
      "500GeVSignal.csv\n"
     ]
    }
   ],
   "source": [
    "GammaFile = input('Signal Rate filename: ')\n",
    "readFile = photonSignalDataPath(GammaFile)\n",
    "\n",
    "print (GammaFile)"
   ]
  },
  {
   "cell_type": "markdown",
   "metadata": {},
   "source": [
    "## Define the plot region and extract plot data"
   ]
  },
  {
   "cell_type": "markdown",
   "metadata": {},
   "source": [
    "We plot the Data under the column\n",
    "\n",
    "    IceCubeData"
   ]
  },
  {
   "cell_type": "code",
   "execution_count": 32,
   "metadata": {
    "ExecuteTime": {
     "end_time": "2017-09-28T18:01:31.663883Z",
     "start_time": "2017-09-28T18:01:31.587888Z"
    }
   },
   "outputs": [
    {
     "name": "stdout",
     "output_type": "stream",
     "text": [
      "Complete\n"
     ]
    }
   ],
   "source": [
    "rawData = pd.read_csv(photonSignalDataPath(GammaFile))\n",
    "Filem_X = float(rawData.loc[0,'mX[GeV]'])\n",
    "\n",
    "\n",
    "#Pull out min / max values\n",
    "\n",
    "xMin = min(rawData['mA[GeV]'])\n",
    "xMax = max(rawData['mA[GeV]'])\n",
    "yMin = min(rawData['Epsilon'])\n",
    "yMax = max(rawData['Epsilon'])\n",
    "\n",
    "\n",
    "# Define the dimension of the grid. \n",
    "# For an n x n grid, this will pull out the number \"n\"\n",
    "gridDim = len(np.unique(rawData['mA[GeV]']))\n",
    "\n",
    "\n",
    "#########################################\n",
    "# Create an n x n grid\n",
    "#########################################\n",
    "# Logarithmic Spacing\n",
    "xLogRange = np.logspace(xMin, xMax, gridDim, base = 10)\n",
    "yLogRange = np.logspace(yMin, yMax, gridDim, base = 10)\n",
    "\n",
    "xLinRange = np.linspace(xMin, xMax, gridDim)\n",
    "yLinRange = np.linspace(yMin, yMax, gridDim)\n",
    "\n",
    "#########################################\n",
    "# Read in and reshape the Contour data\n",
    "#########################################\n",
    "# This reads in contour data as a single column,\n",
    "#     but we reshape it to a 2D, n x n array to fit the grid\n",
    "\n",
    "z = [rawData['IceCubeSignal']]\n",
    "SignalData = np.reshape(z, (len(xLinRange), len(yLinRange)))\n",
    "\n",
    "print ('Complete')"
   ]
  },
  {
   "cell_type": "markdown",
   "metadata": {},
   "source": [
    "## Plot the Signal Events"
   ]
  },
  {
   "cell_type": "code",
   "execution_count": 33,
   "metadata": {
    "ExecuteTime": {
     "end_time": "2017-09-28T18:01:33.089798Z",
     "start_time": "2017-09-28T18:01:32.453832Z"
    },
    "scrolled": false
   },
   "outputs": [
    {
     "name": "stderr",
     "output_type": "stream",
     "text": [
      "C:\\Users\\Adam Green\\Anaconda3\\lib\\site-packages\\ipykernel_launcher.py:30: RuntimeWarning: divide by zero encountered in log10\n"
     ]
    },
    {
     "data": {
      "image/png": "[encoded data removed]",
      "text/plain": [
       "<matplotlib.figure.Figure at 0x19cc82df320>"
      ]
     },
     "metadata": {},
     "output_type": "display_data"
    }
   ],
   "source": [
    "###############################\n",
    "# Set the correct units for m_X\n",
    "###############################\n",
    "m_XUnit = 'None'\n",
    "if (Filem_X < 1000):\n",
    "    m_XDisplay = Filem_X\n",
    "    m_XUnit = 'GeV'\n",
    "\n",
    "if (Filem_X >= 1000):\n",
    "    m_XDisplay = Filem_X * 10**-3\n",
    "    m_XUnit = 'TeV'\n",
    "    \n",
    "    \n",
    "###############################\n",
    "# Define X,Y tickmarks\n",
    "###############################\n",
    "# xTicks = np.linspace(xMin, xMax, 10)\n",
    "# yTicks = np.linspace(yMin, yMax, 10)\n",
    "# xTicks = np.logspace((xMin), (xMax), 7, base = 10)\n",
    "# yTicks = np.logspace(np.log10(yMin),np.log10(yMax),7, base = 10)\n",
    "    \n",
    "###############################\n",
    "# Actual Plotting Stuff\n",
    "###############################\n",
    "fig0 = plt.figure(figsize = (8,6))\n",
    "ax0 = fig0.add_subplot(111)\n",
    "# ax0.set_xticks(xTicks)\n",
    "# ax0.set_yticks(yTicks)\n",
    "\n",
    "CP = plt.contour(np.log10(xLogRange), np.log10(yLogRange), \\\n",
    "                 np.log10(SignalData.transpose()),\\\n",
    "                 levels=[0,1,2,3]\n",
    "                )\n",
    "\n",
    "\n",
    "plt.xlabel(r'$m_A$ $[GeV]$', fontsize = 13)\n",
    "plt.ylabel(r'$\\varepsilon$', fontsize = 13)\n",
    "plt.suptitle('IceCube Events', fontsize = 14)\n",
    "plt.title(r'$m_X$ = {0} {1}'.format(m_XDisplay, m_XUnit), loc = 'right', fontsize = 13)\n",
    "# plt.axis([xMin,xMax,yMin,yMax])\n",
    "plt.clabel(CP, inline=1, fontsize=12)\n",
    "plt.colorbar()\n",
    "plt.grid()"
   ]
  },
  {
   "cell_type": "markdown",
   "metadata": {},
   "source": [
    "### Save Figure"
   ]
  },
  {
   "cell_type": "code",
   "execution_count": 48,
   "metadata": {
    "ExecuteTime": {
     "end_time": "2017-09-13T23:28:37.819728Z",
     "start_time": "2017-09-13T23:28:34.240451Z"
    }
   },
   "outputs": [
    {
     "name": "stdout",
     "output_type": "stream",
     "text": [
      "Filename: 10TeVSignalPlot.pdf\n",
      "Complete\n"
     ]
    }
   ],
   "source": [
    "figName = input('Filename: ')\n",
    "\n",
    "fig0.savefig(photonSignalPlotPath(figName), dpi = 700, bbox_inches = 'tight')\n",
    "print ('Complete')"
   ]
  },
  {
   "cell_type": "code",
   "execution_count": null,
   "metadata": {
    "collapsed": true
   },
   "outputs": [],
   "source": []
  },
  {
   "cell_type": "code",
   "execution_count": null,
   "metadata": {
    "collapsed": true
   },
   "outputs": [],
   "source": []
  },
  {
   "cell_type": "code",
   "execution_count": null,
   "metadata": {
    "collapsed": true
   },
   "outputs": [],
   "source": []
  },
  {
   "cell_type": "code",
   "execution_count": 32,
   "metadata": {
    "ExecuteTime": {
     "end_time": "2017-09-13T16:48:19.306106Z",
     "start_time": "2017-09-13T16:48:18.885992Z"
    }
   },
   "outputs": [
    {
     "name": "stderr",
     "output_type": "stream",
     "text": [
      "C:\\Users\\Adam Green\\Anaconda3\\lib\\site-packages\\ipykernel_launcher.py:30: RuntimeWarning: divide by zero encountered in log10\n"
     ]
    },
    {
     "data": {
      "image/png": "[encoded data removed]",
      "text/plain": [
       "<matplotlib.figure.Figure at 0x2256f60cb70>"
      ]
     },
     "metadata": {},
     "output_type": "display_data"
    }
   ],
   "source": [
    "###############################\n",
    "# Set the correct units for m_X\n",
    "###############################\n",
    "m_XUnit = 'None'\n",
    "if (Filem_X < 1000):\n",
    "    m_XDisplay = Filem_X\n",
    "    m_XUnit = 'GeV'\n",
    "\n",
    "if (Filem_X >= 1000):\n",
    "    m_XDisplay = Filem_X * 10**-3\n",
    "    m_XUnit = 'TeV'\n",
    "    \n",
    "    \n",
    "###############################\n",
    "# Define X,Y tickmarks\n",
    "###############################\n",
    "# xTicks = np.linspace(xMin, xMax, 10)\n",
    "# yTicks = np.linspace(yMin, yMax, 10)\n",
    "# xTicks = np.logspace((xMin), (xMax), 7, base = 10)\n",
    "# yTicks = np.logspace(np.log10(yMin),np.log10(yMax),7, base = 10)\n",
    "    \n",
    "###############################\n",
    "# Actual Plotting Stuff\n",
    "###############################\n",
    "fig0 = plt.figure(figsize = (8,6))\n",
    "ax0 = fig0.add_subplot(111)\n",
    "# ax0.set_xticks(xTicks)\n",
    "# ax0.set_yticks(yTicks)\n",
    "\n",
    "CP = plt.contour(np.log10(xLogRange), np.log10(yLogRange), \\\n",
    "                 np.log10(SignalData.transpose()),\\\n",
    "                 levels=[0,1,2,3,],\n",
    "                )\n",
    "\n",
    "\n",
    "plt.xlabel(r'$m_A$ $[GeV]$', fontsize = 13)\n",
    "plt.ylabel(r'$\\varepsilon$', fontsize = 13)\n",
    "plt.suptitle('IceCube Events', fontsize = 14)\n",
    "plt.title(r'$m_X$ = {0} {1}'.format(m_XDisplay, m_XUnit), loc = 'right', fontsize = 13)\n",
    "# plt.axis([xMin,xMax,yMin,yMax])\n",
    "plt.clabel(CP, inline=1, fontsize=12)\n",
    "plt.colorbar(CP)\n",
    "plt.grid()"
   ]
  },
  {
   "cell_type": "code",
   "execution_count": 21,
   "metadata": {
    "ExecuteTime": {
     "end_time": "2017-09-12T04:22:49.086092Z",
     "start_time": "2017-09-12T04:22:48.819382Z"
    }
   },
   "outputs": [
    {
     "name": "stdout",
     "output_type": "stream",
     "text": [
      "Complete\n"
     ]
    },
    {
     "data": {
      "image/png": "[encoded data removed]",
      "text/plain": [
       "<matplotlib.figure.Figure at 0x23d9d8f9710>"
      ]
     },
     "metadata": {},
     "output_type": "display_data"
    }
   ],
   "source": [
    "xData = rawData['mA[GeV]']\n",
    "yData1 = rawData['Annihilation']\n",
    "yData2 = rawData['Capture']\n",
    "\n",
    "plt.plot(np.log10(xData),np.log10(yData1))\n",
    "\n",
    "print ('Complete')"
   ]
  },
  {
   "cell_type": "code",
   "execution_count": null,
   "metadata": {
    "collapsed": true
   },
   "outputs": [],
   "source": []
  },
  {
   "cell_type": "code",
   "execution_count": null,
   "metadata": {
    "collapsed": true
   },
   "outputs": [],
   "source": []
  }
 ],
 "metadata": {
  "kernelspec": {
   "display_name": "Python 3",
   "language": "python",
   "name": "python3"
  },
  "language_info": {
   "codemirror_mode": {
    "name": "ipython",
    "version": 3
   },
   "file_extension": ".py",
   "mimetype": "text/x-python",
   "name": "python",
   "nbconvert_exporter": "python",
   "pygments_lexer": "ipython3",
   "version": "3.6.2"
  },
  "latex_envs": {
   "LaTeX_envs_menu_present": true,
   "autocomplete": true,
   "bibliofile": "biblio.bib",
   "cite_by": "apalike",
   "current_citInitial": 1,
   "eqLabelWithNumbers": true,
   "eqNumInitial": 1,
   "hotkeys": {
    "equation": "Ctrl-E",
    "itemize": "Ctrl-I"
   },
   "labels_anchors": false,
   "latex_user_defs": false,
   "report_style_numbering": false,
   "user_envs_cfg": false
  }
 },
 "nbformat": 4,
 "nbformat_minor": 2
}
