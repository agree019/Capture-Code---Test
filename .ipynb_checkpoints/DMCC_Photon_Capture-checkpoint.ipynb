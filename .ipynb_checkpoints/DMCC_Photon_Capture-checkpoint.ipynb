{
 "cells": [
  {
   "cell_type": "markdown",
   "metadata": {},
   "source": [
    "#  Capture Notebook"
   ]
  },
  {
   "cell_type": "markdown",
   "metadata": {},
   "source": [
    "## Initialize the Notebook"
   ]
  },
  {
   "cell_type": "markdown",
   "metadata": {},
   "source": [
    "The following cell allows external notebooks to be imported as modules."
   ]
  },
  {
   "cell_type": "code",
   "execution_count": 1,
   "metadata": {
    "ExecuteTime": {
     "end_time": "2018-03-31T21:37:50.222235Z",
     "start_time": "2018-03-31T21:37:49.574681Z"
    }
   },
   "outputs": [
    {
     "name": "stdout",
     "output_type": "stream",
     "text": [
      "Complete\n"
     ]
    }
   ],
   "source": [
    "import io, os, sys, types\n",
    "\n",
    "from IPython import get_ipython\n",
    "from nbformat import read\n",
    "from IPython.core.interactiveshell import InteractiveShell\n",
    "\n",
    "def find_notebook(fullname, path=None):\n",
    "    \"\"\"find a notebook, given its fully qualified name and an optional path\n",
    "\n",
    "    This turns \"foo.bar\" into \"foo/bar.ipynb\"\n",
    "    and tries turning \"Foo_Bar\" into \"Foo Bar\" if Foo_Bar\n",
    "    does not exist.\n",
    "    \"\"\"\n",
    "    name = fullname.rsplit('.', 1)[-1]\n",
    "    if not path:\n",
    "        path = ['']\n",
    "    for d in path:\n",
    "        nb_path = os.path.join(d, name + \".ipynb\")\n",
    "        if os.path.isfile(nb_path):\n",
    "            return nb_path\n",
    "        # let import Notebook_Name find \"Notebook Name.ipynb\"\n",
    "        nb_path = nb_path.replace(\"_\", \" \")\n",
    "        if os.path.isfile(nb_path):\n",
    "            return nb_path\n",
    "        \n",
    "class NotebookLoader(object):\n",
    "    \"\"\"Module Loader for Jupyter Notebooks\"\"\"\n",
    "    def __init__(self, path=None):\n",
    "        self.shell = InteractiveShell.instance()\n",
    "        self.path = path\n",
    "\n",
    "    def load_module(self, fullname):\n",
    "        \"\"\"import a notebook as a module\"\"\"\n",
    "        path = find_notebook(fullname, self.path)\n",
    "\n",
    "        print (\"importing Jupyter notebook from %s\" % path)\n",
    "\n",
    "        # load the notebook object\n",
    "        with io.open(path, 'r', encoding='utf-8') as f:\n",
    "            nb = read(f, 4)\n",
    "\n",
    "\n",
    "        # create the module and add it to sys.modules\n",
    "        # if name in sys.modules:\n",
    "        #    return sys.modules[name]\n",
    "        mod = types.ModuleType(fullname)\n",
    "        mod.__file__ = path\n",
    "        mod.__loader__ = self\n",
    "        mod.__dict__['get_ipython'] = get_ipython\n",
    "        sys.modules[fullname] = mod\n",
    "\n",
    "        # extra work to ensure that magics that would affect the user_ns\n",
    "        # actually affect the notebook module's ns\n",
    "        save_user_ns = self.shell.user_ns\n",
    "        self.shell.user_ns = mod.__dict__\n",
    "\n",
    "        try:\n",
    "            for cell in nb.cells:\n",
    "                if cell.cell_type == 'code':\n",
    "                    # transform the input to executable Python\n",
    "                    code = self.shell.input_transformer_manager.transform_cell(cell.source)\n",
    "                    # run the code in themodule\n",
    "                    exec(code, mod.__dict__)\n",
    "        finally:\n",
    "            self.shell.user_ns = save_user_ns\n",
    "        return mod\n",
    "\n",
    "    \n",
    "class NotebookFinder(object):\n",
    "    \"\"\"Module finder that locates Jupyter Notebooks\"\"\"\n",
    "    def __init__(self):\n",
    "        self.loaders = {}\n",
    "\n",
    "    def find_module(self, fullname, path=None):\n",
    "        nb_path = find_notebook(fullname, path)\n",
    "        if not nb_path:\n",
    "            return\n",
    "\n",
    "        key = path\n",
    "        if path:\n",
    "            # lists aren't hashable\n",
    "            key = os.path.sep.join(path)\n",
    "\n",
    "        if key not in self.loaders:\n",
    "            self.loaders[key] = NotebookLoader(path)\n",
    "        return self.loaders[key]\n",
    "\n",
    "    \n",
    "sys.meta_path.append(NotebookFinder())\n",
    "\n",
    "\n",
    "print ('Complete')"
   ]
  },
  {
   "cell_type": "markdown",
   "metadata": {},
   "source": [
    "### Import Notebooks"
   ]
  },
  {
   "cell_type": "markdown",
   "metadata": {},
   "source": [
    "This cell imports all required notebooks."
   ]
  },
  {
   "cell_type": "code",
   "execution_count": 2,
   "metadata": {
    "ExecuteTime": {
     "end_time": "2018-03-31T21:38:13.018214Z",
     "start_time": "2018-03-31T21:37:52.315071Z"
    }
   },
   "outputs": [
    {
     "name": "stdout",
     "output_type": "stream",
     "text": [
      "importing Jupyter notebook from MasterFunctions_Capture.ipynb\n",
      "importing Jupyter notebook from MasterFunctions_ModelData.ipynb\n",
      "------ MasterFunctions_ModelData Imported ------\n",
      "------ MasterFunctions_Capture Imported ------\n",
      "\n",
      "All notebooks imported\n"
     ]
    }
   ],
   "source": [
    "from MasterFunctions_Capture import *\n",
    "\n",
    "print ()\n",
    "print ('All notebooks imported')"
   ]
  },
  {
   "cell_type": "markdown",
   "metadata": {
    "heading_collapsed": true
   },
   "source": [
    "## Sanity Checks"
   ]
  },
  {
   "cell_type": "markdown",
   "metadata": {
    "hidden": true
   },
   "source": [
    "The following section provides sanity checks to ensure that python is reading in the PREM file correctly."
   ]
  },
  {
   "cell_type": "markdown",
   "metadata": {
    "hidden": true
   },
   "source": [
    "### Core-Mantle Separator"
   ]
  },
  {
   "cell_type": "markdown",
   "metadata": {
    "hidden": true
   },
   "source": [
    "This cell determines the index at which the core-mantle separator is specified."
   ]
  },
  {
   "cell_type": "code",
   "execution_count": 3,
   "metadata": {
    "ExecuteTime": {
     "end_time": "2018-03-31T19:58:21.288687Z",
     "start_time": "2018-03-31T19:58:21.270110Z"
    },
    "hidden": true
   },
   "outputs": [
    {
     "name": "stdout",
     "output_type": "stream",
     "text": [
      "Core-Mantle Separator radius: 348000000.0 cm\n",
      "Core-Mantle separator index : 270\n",
      "Complete\n"
     ]
    }
   ],
   "source": [
    "print ('Core-Mantle Separator radius: {0} cm'.format(RCrit))\n",
    "\n",
    "for i in range(0,len(radiusList)):\n",
    "    if radiusList[i] == RCrit: \n",
    "        print ('Core-Mantle separator index : {0}'.format(i))\n",
    "        break\n",
    "        \n",
    "print ('Complete')"
   ]
  },
  {
   "cell_type": "markdown",
   "metadata": {
    "hidden": true
   },
   "source": [
    "### Shell Thickness Check"
   ]
  },
  {
   "cell_type": "markdown",
   "metadata": {
    "hidden": true
   },
   "source": [
    "The array \"radiusList\" stores the list of radii values from the PREM500 file in units of centimeters, not meters as the raw data has. The conversion is found in the MasterFunctions_ModelData file.\n",
    "\n",
    "A note about the zero values: \n",
    "\n",
    "Let R = radiusList\n",
    "\n",
    "radius = [ R[0], R[1], ... , R[490] ]\n",
    "\n",
    "s = [ 0, R[0], R[1], ..., r[489] ]\n",
    "\n",
    "They all have length of 491\n",
    "\n",
    "We define the shell thickness as follows:\n",
    "\n",
    "\\begin{equation}\n",
    "\\Delta R = R[i] - s[i]\n",
    "\\end{equation}\n",
    "\n",
    "Checks out with Flips notebook: 7/8/17"
   ]
  },
  {
   "cell_type": "code",
   "execution_count": 4,
   "metadata": {
    "ExecuteTime": {
     "end_time": "2018-03-31T19:58:30.296615Z",
     "start_time": "2018-03-31T19:58:29.899865Z"
    },
    "hidden": true
   },
   "outputs": [
    {
     "name": "stdout",
     "output_type": "stream",
     "text": [
      "Complete\n"
     ]
    },
    {
     "data": {
      "image/png": "[encoded data removed]",
      "text/plain": [
       "<matplotlib.figure.Figure at 0x1dbe6cd0cf8>"
      ]
     },
     "metadata": {},
     "output_type": "display_data"
    }
   ],
   "source": [
    "rRange = range(0,len(radiusList))\n",
    "fig0 = plt.figure(figsize = (7,5))\n",
    "ax0 = fig0.add_subplot(111)\n",
    "plt.plot(rRange,deltaRList,'.')\n",
    "plt.ticklabel_format(style='sci', axis='y', scilimits=(min(deltaRList),max(deltaRList)))\n",
    "plt.suptitle('Shell Thickness vs Radius Index', fontsize = 16)\n",
    "plt.xlabel('Radius Index', fontsize = 14)\n",
    "plt.ylabel('Shell Thickness [cm]', fontsize = 14)\n",
    "plt.grid()\n",
    "\n",
    "print ('Complete')"
   ]
  },
  {
   "cell_type": "markdown",
   "metadata": {
    "hidden": true
   },
   "source": [
    "### Shell Density Check"
   ]
  },
  {
   "cell_type": "markdown",
   "metadata": {
    "hidden": true
   },
   "source": [
    "In this cell, we plot the density vs radius."
   ]
  },
  {
   "cell_type": "code",
   "execution_count": 5,
   "metadata": {
    "ExecuteTime": {
     "end_time": "2018-03-31T20:00:22.596477Z",
     "start_time": "2018-03-31T20:00:21.859013Z"
    },
    "hidden": true
   },
   "outputs": [
    {
     "name": "stdout",
     "output_type": "stream",
     "text": [
      "Complete\n"
     ]
    },
    {
     "data": {
      "image/png": "[encoded data removed]",
      "text/plain": [
       "<matplotlib.figure.Figure at 0x1dbe6cd0c18>"
      ]
     },
     "metadata": {},
     "output_type": "display_data"
    }
   ],
   "source": [
    "fig1 = plt.figure(figsize = (7,5))\n",
    "ax1 = fig1.add_subplot(111)\n",
    "plt.plot(radiusList,densityList,'.')\n",
    "plt.ticklabel_format(style='sci', axis='x', scilimits=(min(radiusList),max(radiusList)))\n",
    "plt.xlabel('Radius [cm]',fontsize = 14)\n",
    "plt.ylabel('Density $[g/cm^3]$', fontsize = 14)\n",
    "plt.suptitle('Density vs Radius', fontsize = 16)\n",
    "plt.grid()\n",
    "\n",
    "print ('Complete')"
   ]
  },
  {
   "cell_type": "markdown",
   "metadata": {
    "hidden": true
   },
   "source": [
    "### Enclosed Mass Check"
   ]
  },
  {
   "cell_type": "markdown",
   "metadata": {
    "hidden": true
   },
   "source": [
    "This cell provides a double check that the enclosed mass from PREM500 matches the mass of earth.\n",
    "\n",
    "Mass of Earth $\\approxeq 5.972\\times10^27$ g\n",
    "\n",
    "Check confirmed: 7/8/17"
   ]
  },
  {
   "cell_type": "code",
   "execution_count": 6,
   "metadata": {
    "ExecuteTime": {
     "end_time": "2018-03-31T20:00:26.991104Z",
     "start_time": "2018-03-31T20:00:26.978036Z"
    },
    "hidden": true,
    "scrolled": false
   },
   "outputs": [
    {
     "name": "stdout",
     "output_type": "stream",
     "text": [
      "Enclosed Mass = 5.990577490724785e+27 g\n",
      "Complete\n"
     ]
    }
   ],
   "source": [
    "mass = 0.\n",
    "for i in xRange:\n",
    "    mass = mass + 4. * np.pi * radiusList[i]**2 * densityList[i] * deltaRList[i]\n",
    "print ('Enclosed Mass = {0} g'.format(mass))\n",
    "print ('Complete')"
   ]
  },
  {
   "cell_type": "markdown",
   "metadata": {
    "hidden": true
   },
   "source": [
    "### Shell Mass Check"
   ]
  },
  {
   "cell_type": "markdown",
   "metadata": {
    "hidden": true
   },
   "source": [
    "We create a vector named \"shellMassList\" which returns the mass of the shell at index \"i.\"\n",
    "\n",
    "Check confirmed: 7/8/17"
   ]
  },
  {
   "cell_type": "code",
   "execution_count": 7,
   "metadata": {
    "ExecuteTime": {
     "end_time": "2018-03-31T20:00:29.848030Z",
     "start_time": "2018-03-31T20:00:29.416884Z"
    },
    "hidden": true,
    "scrolled": true
   },
   "outputs": [
    {
     "name": "stdout",
     "output_type": "stream",
     "text": [
      "Complete\n"
     ]
    },
    {
     "data": {
      "image/png": "[encoded data removed]",
      "text/plain": [
       "<matplotlib.figure.Figure at 0x1dbe72311d0>"
      ]
     },
     "metadata": {},
     "output_type": "display_data"
    }
   ],
   "source": [
    "fig2 = plt.figure(figsize = (7,5))\n",
    "ax2 = fig2.add_subplot(111)\n",
    "plt.plot(rRange,shellMassList,'.')\n",
    "plt.ticklabel_format(style='sci', axis='y', scilimits=(min(shellMassList),max(shellMassList)))\n",
    "plt.suptitle('Shell Mass vs. Radius Index', fontsize = 16)\n",
    "plt.xlabel('Radius Index',fontsize = 14)\n",
    "plt.ylabel('Enclosed Mass $[g]$', fontsize = 14)\n",
    "plt.grid()\n",
    "\n",
    "print ('Complete')"
   ]
  },
  {
   "cell_type": "markdown",
   "metadata": {
    "hidden": true
   },
   "source": [
    "### Enclosed Mass at Each Radius"
   ]
  },
  {
   "cell_type": "markdown",
   "metadata": {
    "hidden": true
   },
   "source": [
    "In this cell, we plot the array \"enclosedMassList,\" which stores the mass enclosed up to index \"i.\"\n",
    "\n",
    "We will later interpolate this into a function.\n",
    "\n",
    "Check confirmed: 7/8/17"
   ]
  },
  {
   "cell_type": "code",
   "execution_count": 9,
   "metadata": {
    "ExecuteTime": {
     "end_time": "2018-03-31T20:00:43.016357Z",
     "start_time": "2018-03-31T20:00:42.648417Z"
    },
    "hidden": true,
    "scrolled": false
   },
   "outputs": [
    {
     "name": "stdout",
     "output_type": "stream",
     "text": [
      "Complete\n"
     ]
    },
    {
     "data": {
      "image/png": "[encoded data removed]",
      "text/plain": [
       "<matplotlib.figure.Figure at 0x1dbe733aef0>"
      ]
     },
     "metadata": {},
     "output_type": "display_data"
    }
   ],
   "source": [
    "fig3= plt.figure(figsize = (7,5))\n",
    "ax3 = fig3.add_subplot(111)\n",
    "plt.plot(radiusList,enclosedMassList,'.')\n",
    "plt.ticklabel_format(style='sci', axis='both', scilimits=(min(enclosedMassList),max(enclosedMassList)))\n",
    "\n",
    "plt.suptitle('Enclosed Mass vs Radius', fontsize = 16)\n",
    "plt.xlabel('Radius [cm]', fontsize = 14)\n",
    "plt.ylabel('Enclosed Mass $[g]$',fontsize = 14)\n",
    "plt.grid()\n",
    "\n",
    "print ('Complete')"
   ]
  },
  {
   "cell_type": "markdown",
   "metadata": {
    "hidden": true
   },
   "source": [
    "### Escape Velocity: $v_{\\oplus}(r)$"
   ]
  },
  {
   "cell_type": "markdown",
   "metadata": {
    "hidden": true
   },
   "source": [
    "The escape velocity in natural units is given by:\n",
    "\\begin{equation} \n",
    "V_{esc}^2 = \\frac{2G}{c^2} \\left[ \\int_{0}^{r} \\frac{M_{enc}(s)}{s^2} \\, ds + \\frac{M_{total}}{R_{earth}} \\right]\n",
    "\\end{equation}\n",
    "\n",
    "However, we are given discretized data, so we convert the integral into a discrete sum over the radius of earth:\n",
    "\\begin{equation}\n",
    "V_{esc}^2 = \\frac{2G}{c^2} \\left[ \\sum_i \\frac{M_{enc}(s)}{s^2} \\, \\Delta R + \n",
    "\\frac{M_{total}}{R_{earth}} \\right] \n",
    "\\end{equation}\n",
    "\n",
    "where $M_{enc}(s)$ is the mass enclosed at radius $s$ and $\\Delta R$ is the change in radius going from the previous radius  to the current radius $\\Delta R =$ r[i] - r[i-1].\n",
    "\n",
    "The accumulate function acts just like the \"Accumulate\" in mathematica. It adds up \"Summand\" starting at \"index\" and sums over the length of the radius index.\n",
    "\n",
    "\n",
    "Escape Velocities are stored in the list: escVel2List\n",
    "\n",
    "Note: The value from escVel2List[1] is assigned to the zero-index slot of escVel2List to work around a 'nan' escape velocity at r=0.\n",
    "\n",
    "Check confirmed with EarthChecker_v2: 7/8/17"
   ]
  },
  {
   "cell_type": "code",
   "execution_count": 11,
   "metadata": {
    "ExecuteTime": {
     "end_time": "2018-03-31T20:00:58.851092Z",
     "start_time": "2018-03-31T20:00:58.394609Z"
    },
    "hidden": true,
    "scrolled": true
   },
   "outputs": [
    {
     "data": {
      "image/png": "[encoded data removed]",
      "text/plain": [
       "<matplotlib.figure.Figure at 0x1dbe72e4e80>"
      ]
     },
     "metadata": {},
     "output_type": "display_data"
    },
    {
     "name": "stdout",
     "output_type": "stream",
     "text": [
      "Complete\n"
     ]
    }
   ],
   "source": [
    "fig4= plt.figure(figsize = (7,5))\n",
    "ax4 = fig4.add_subplot(111)      \n",
    "plt.plot(radiusList, escVel2List,'.')\n",
    "plt.ticklabel_format(style='sci', axis='both', scilimits=(min(radiusList),max(radiusList)))\n",
    "\n",
    "plt.xlabel('Radius $[cm]$', fontsize = 14)\n",
    "plt.ylabel('Squared Escape Velocity $[(m/s)^2]$', fontsize= 14)\n",
    "plt.suptitle('Squared Escape Velocity vs. Radius', fontsize = 16)\n",
    "plt.grid()\n",
    "plt.show()\n",
    "\n",
    "print ('Complete')"
   ]
  },
  {
   "cell_type": "markdown",
   "metadata": {
    "hidden": true
   },
   "source": [
    "### Number Densities"
   ]
  },
  {
   "cell_type": "markdown",
   "metadata": {
    "ExecuteTime": {
     "end_time": "2017-08-29T00:49:22.522792Z",
     "start_time": "2017-08-29T00:49:22.516774Z"
    },
    "hidden": true
   },
   "source": [
    "The number density $n_N$ for element $\"N\"$ is given by:\n",
    "\\begin{equation}\n",
    "n_N(r) = f_N(r) \\frac{\\rho_{\\oplus}(r)}{m_N}\n",
    "\\end{equation}\n",
    "where $f(N)$ is the mass fraction of element \"N\" given by Table 1, and $\\rho_{\\oplus}$ is the density of earth. We calculate the number density for each element found in the earth at each radius of earth specified by $\\text{radiusList}$ and store the result in an array named $\\text{numDensityList}$.\n",
    "\n",
    "In this cell, we plot the number densities for two elements, Iron and Silicon"
   ]
  },
  {
   "cell_type": "code",
   "execution_count": 12,
   "metadata": {
    "ExecuteTime": {
     "end_time": "2018-03-31T20:01:03.959699Z",
     "start_time": "2018-03-31T20:01:03.306465Z"
    },
    "hidden": true,
    "scrolled": true
   },
   "outputs": [
    {
     "data": {
      "image/png": "[encoded data removed]",
      "text/plain": [
       "<matplotlib.figure.Figure at 0x1dbe7465588>"
      ]
     },
     "metadata": {},
     "output_type": "display_data"
    },
    {
     "name": "stdout",
     "output_type": "stream",
     "text": [
      "Complete\n"
     ]
    }
   ],
   "source": [
    "fig5 = plt.figure(figsize = (7,5))\n",
    "ax5 = fig5.add_subplot(111)\n",
    "ironData, = plt.plot(radiusList, numDensityList('Fe56'),'.')\n",
    "siliconData, = plt.plot(radiusList, numDensityList('Si28'),'.')\n",
    "plt.ticklabel_format(style='sci', axis='both', scilimits=(min(numDensityList('Fe56'),),max(numDensityList('Fe56'))))\n",
    "plt.legend([ironData,siliconData],['Iron','Silicon'])\n",
    "\n",
    "plt.suptitle('Number Density vs. Radius', fontsize = 16)\n",
    "plt.xlabel('Radius $[cm]$', fontsize = 14)\n",
    "plt.ylabel(r'Number Density $[cm^{-3}]$', fontsize = 14)\n",
    "plt.grid()\n",
    "plt.show()\n",
    "\n",
    "print ('Complete')"
   ]
  },
  {
   "cell_type": "markdown",
   "metadata": {
    "hidden": true
   },
   "source": [
    "### Escape Velocity Interpolation Check"
   ]
  },
  {
   "cell_type": "markdown",
   "metadata": {
    "hidden": true
   },
   "source": [
    "In this cell, we check the inerpolation of the escape velocity by plotting the first 40 points of \"escVel2List\" and the resulting interpolation."
   ]
  },
  {
   "cell_type": "code",
   "execution_count": 17,
   "metadata": {
    "ExecuteTime": {
     "end_time": "2018-03-31T20:03:40.402217Z",
     "start_time": "2018-03-31T20:03:40.058944Z"
    },
    "hidden": true
   },
   "outputs": [
    {
     "name": "stdout",
     "output_type": "stream",
     "text": [
      "Complete\n"
     ]
    },
    {
     "data": {
      "image/png": "[encoded data removed]",
      "text/plain": [
       "<matplotlib.figure.Figure at 0x1dbe771fdd8>"
      ]
     },
     "metadata": {},
     "output_type": "display_data"
    }
   ],
   "source": [
    "alist = range(0,40)\n",
    "tempEsc = []\n",
    "for i in alist:\n",
    "    tempEsc.append(escVel2List[i])\n",
    "    \n",
    "fig6 = plt.figure(figsize = (7,5))\n",
    "ax6 = fig6.add_subplot(111)\n",
    "plt.plot(alist,tempEsc,'.', alist, escVel2Interp(radiusList[alist]),'-')\n",
    "plt.ticklabel_format(style='sci', axis='y', scilimits=(min(tempEsc),max(tempEsc)))\n",
    "plt.xlabel('Radius Index', fontsize = 14)\n",
    "plt.ylabel('Squared Escape Velocity', fontsize = 14)\n",
    "plt.suptitle('Escape Velocity vs Radius Index', fontsize = 16)\n",
    "plt.legend(['List Values','Interpolation'], fontsize = 12)\n",
    "plt.grid()\n",
    "print ('Complete')"
   ]
  },
  {
   "cell_type": "markdown",
   "metadata": {
    "collapsed": true,
    "hidden": true
   },
   "source": [
    "-----------"
   ]
  },
  {
   "cell_type": "markdown",
   "metadata": {},
   "source": [
    "# Capture Rate"
   ]
  },
  {
   "cell_type": "markdown",
   "metadata": {
    "heading_collapsed": true
   },
   "source": [
    "### General Motivation"
   ]
  },
  {
   "cell_type": "markdown",
   "metadata": {
    "hidden": true
   },
   "source": [
    "Our final goal is to calculate:\n",
    "\n",
    "\\begin{equation}\n",
    "C_{cap} = \\sum_N C^N_{cap} = \\sum_N n_X \\, c^N_{cap,red}\n",
    "\\end{equation}\n",
    "\n",
    "Where the single-element capture rate $c^N_{cap,red}$ is the product of three integrals over the volume of earth $d^3r$, the incident DM velocity $d^3u$, and the dark matter recoil energy $E_R$ given by:. \n",
    "\n",
    "\\begin{equation}\n",
    "c^N_{cap,red} = \n",
    "\\int_{0}^{R_{\\oplus}}dr \\, 4 \\pi r^2 n_N(r) \n",
    "\\int_{0}^{V_{gal}} du \\, 4 \\pi u^2 f(u) \\frac{u^2 + v_{\\oplus}^2(r)}{u}\n",
    "\\int_{E_{min}}^{E_{max}} \\, dE_R \\frac{d\\sigma_N}{dE_R} \\Theta (\\Delta E)\n",
    "\\end{equation}\n",
    "\n",
    "where finally the differential cross section as a function of recoil energy $ \\frac{d\\sigma_N}{dE_R} $ is given by:\n",
    "\n",
    "\\begin{equation} \n",
    "\\frac{d\\sigma_N}{dE_R} \\approx \n",
    "8 \\pi \\epsilon^2 \\alpha_X \\alpha Z_N^2 \\frac{m_N}{(u^2 + v_{\\oplus})^2(2m_NE_R + m_{A}^2)^2} \\left | F_N \\right| ^2\n",
    "\\end{equation}\n",
    "\n",
    "\n",
    "We can see that in calculating the capture rate, the $m_A$ and $\\varepsilon$ dependence is carried only in the differential cross section. Further, in the small $E_R$ limit, we have shown that the differential capture rate can be written as:\n",
    "\n",
    "\\begin{align}\n",
    "\\frac{d\\sigma_N}{d\\xi} &\\approx\n",
    "8 \\pi \\alpha_X \\alpha Z_N^2 \\, \\frac{\\varepsilon^2}{m_A^4} \\frac{m_N}{(u^2 + v^2_{\\oplus})} \\left| F_N \\right|^2  \\\\\n",
    "&\\approx \\frac{d\\sigma'_N}{d\\xi_R} \\frac{\\varepsilon^2}{m_A^4}\n",
    "\\end{align}\n",
    "\n",
    "where $\\frac{d\\sigma'_N}{d\\xi_R}$ is now explicitly independent of $m_A$ and $\\varepsilon$. This leads us to construct a quantity $\\kappa_0$ which only depends on $m_X$, $\\alpha$, and $\\alpha_X$, pulling the $\\varepsilon$ and $m_A$ dependence out of the integrals.\n",
    "\n",
    "We define $\\kappa_0$ as follows:\n",
    "\\begin{equation}\n",
    "\\kappa_0(m_X, \\alpha, \\alpha_X) \\equiv \n",
    "\\int_{0}^{R_{\\oplus}}dr \\, 4 \\pi r^2 n_N(r) \n",
    "\\int_{0}^{V_{gal}/c} du \\, 4 \\pi u^2 f(u) \\frac{u^2 + v_{\\oplus}^2(r)}{u}\n",
    "\\int_{\\xi_{min}}^{\\xi_{max}} \\, dE_R \\frac{d\\sigma_N}{d\\xi} \\Theta (\\Delta \\xi)\n",
    "\\end{equation}\n",
    "\n",
    "so that the single-element capture rate can be written as:\n",
    "\\begin{equation}\n",
    "c^N_{cap,red} = \\frac{\\varepsilon^2}{m_A^4}\\kappa_0^N\n",
    "\\end{equation}\n"
   ]
  },
  {
   "cell_type": "markdown",
   "metadata": {
    "heading_collapsed": true
   },
   "source": [
    "### A Note on Testing Functions"
   ]
  },
  {
   "cell_type": "markdown",
   "metadata": {
    "hidden": true
   },
   "source": [
    "The following sections test the full capture calculation and the small recoil energy approximation simulatneously. All functions resulting from the small recoil energy approximation end with \"Kappa0.\"\n",
    "\n",
    "For example the function \"crossSection\" is the full cross section while the function \"crossSectionkappa0\" is the cross section function used only in the calculation of $\\kappa_0$.\n",
    "\n",
    "By construction, we expect \n",
    "\n",
    "\\begin{equation}\n",
    "C_{Cap} \\equiv \\frac{\\varepsilon^2}{m_A^4} \\sum_N n_X \\kappa^N_0\n",
    "\\end{equation}"
   ]
  },
  {
   "cell_type": "markdown",
   "metadata": {
    "heading_collapsed": true
   },
   "source": [
    "### A Note on Computational Efficiency"
   ]
  },
  {
   "cell_type": "markdown",
   "metadata": {
    "hidden": true
   },
   "source": [
    "The motivation for the following calculations is to reduce the actual computation as much as possible by multiplying by all constant factors at the end of the calculation.\n",
    "\n",
    "Factors that are pulled out of calculations will be acounted for in a running total for the length of this section under the heading:\n",
    "\n",
    "##### Factors Removed"
   ]
  },
  {
   "cell_type": "markdown",
   "metadata": {
    "heading_collapsed": true
   },
   "source": [
    "## Function Tests\n"
   ]
  },
  {
   "cell_type": "markdown",
   "metadata": {
    "hidden": true
   },
   "source": [
    "\n",
    "For the following tests, we define the following values as reference points:\n",
    "\n",
    "$m_X = 1000$ GeV\n",
    "\n",
    "$m_A = 1$ GeV\n",
    "\n",
    "$\\varepsilon = 10^{-8}$\n",
    "\n",
    "$\\alpha = \\frac{1}{137}$\n",
    "\n",
    "$\\alpha_X = \\alpha_{th} = 0.035$\n",
    "\n",
    "And where these are needed, we set:\n",
    "\n",
    "Element = \"Fe56\"\n",
    "\n",
    "$E_R = 10^{-10}$ GeV\n",
    "\n",
    "index = 100 $\\rightarrow$ r = 129849400 cm\n"
   ]
  },
  {
   "cell_type": "code",
   "execution_count": 3,
   "metadata": {
    "ExecuteTime": {
     "end_time": "2018-03-31T21:09:26.652814Z",
     "start_time": "2018-03-31T21:09:26.635127Z"
    },
    "hidden": true
   },
   "outputs": [
    {
     "name": "stdout",
     "output_type": "stream",
     "text": [
      "Complete\n"
     ]
    }
   ],
   "source": [
    "elementTest = 'Fe56'\n",
    "m_XTest = 1000.\n",
    "m_ATest = 1.\n",
    "epsilonTest = 10**-8\n",
    "alphaTest = 1./137\n",
    "alpha_XTest = 0.035\n",
    "E_RTest = 10**-9\n",
    "indexTest = 100\n",
    "uIntTest = EminEmaxIntersection(elementTest, m_XTest,indexTest)/2\n",
    "\n",
    "\n",
    "print ('Complete')"
   ]
  },
  {
   "cell_type": "markdown",
   "metadata": {
    "hidden": true
   },
   "source": [
    "### Helm Form Factor: $|F_N(E_R)|^2$"
   ]
  },
  {
   "cell_type": "markdown",
   "metadata": {
    "hidden": true
   },
   "source": [
    "The Helm Form Factor is given by:\n",
    "$$ \\left| F_N(E_R) \\right| ^2 = e^{[-E_R/E_N]} $$ (see eqn (10) of arXiv: 1509.07525v2)\n",
    "\n",
    "where $E_N \\equiv \\frac{0.114 }{ A_{N}^{5/3}} \\space GeV$ is the characteristic energy of a nucleus with atomic number $A_N$\n",
    "\n",
    "This factor accounts for the effective size of a target nucleus in a DM - nucleus scatter when an incoming DM particle scatters of a nucleus inside the earth."
   ]
  },
  {
   "cell_type": "code",
   "execution_count": 4,
   "metadata": {
    "ExecuteTime": {
     "end_time": "2018-03-31T20:24:41.116310Z",
     "start_time": "2018-03-31T20:24:40.633552Z"
    },
    "hidden": true
   },
   "outputs": [
    {
     "name": "stdout",
     "output_type": "stream",
     "text": [
      "Form Factor for Fe56: 0.999992809811121\n",
      "Complete\n"
     ]
    },
    {
     "data": {
      "image/png": "[encoded data removed]",
      "text/plain": [
       "<matplotlib.figure.Figure at 0x22fddb334a8>"
      ]
     },
     "metadata": {},
     "output_type": "display_data"
    }
   ],
   "source": [
    "# testElement = 'O16'\n",
    "energyRange = np.linspace(0, 5e-3, 200)\n",
    "energyVect = []\n",
    "for E in energyRange:\n",
    "    energyVect.append(formFactor2(elementTest, E))\n",
    "    \n",
    "fig = plt.figure()\n",
    "plt.plot((energyRange),(energyVect))\n",
    "plt.xlabel('Recoil Energy $[GeV]$')\n",
    "plt.ylabel(r'$\\log(F_N^2)$')\n",
    "plt.suptitle('Form Factor vs. Recoil Energy')\n",
    "plt.title('{0}'.format(elementTest), loc='right')\n",
    "plt.grid()\n",
    "              \n",
    "print ('Form Factor for {0}: {1}'.format(elementTest, formFactor2(elementTest,E_RTest)))\n",
    "    \n",
    "print ('Complete')"
   ]
  },
  {
   "cell_type": "markdown",
   "metadata": {
    "hidden": true
   },
   "source": [
    "### Cross Section: $ \\frac{d\\sigma _N}{dE_R} $"
   ]
  },
  {
   "cell_type": "markdown",
   "metadata": {
    "hidden": true
   },
   "source": [
    "The following cell defines the cross section integrand as:\n",
    "\\begin{equation}\n",
    "\\text{photonCrossSection}  = \\frac{1}{(2m_N E_R + m_{A} ^2)^2} \\left| F_N \\right|^2\n",
    "\\end{equation}\n",
    "\n",
    "and the cross section used in the $\\kappa_0$ calculation as:\n",
    "\\begin{equation}\n",
    "\\text{photonCrossSectionKappa0} = \\left| F_N \\right| ^2 \n",
    "\\end{equation}\n",
    "\n",
    "where $[\\text{photonCrossSection}] = \\frac{1}{GeV^3}$ and $[\\text{photonCrossSectionKappa0} ]$ is dimensionless.\n",
    "\n",
    "##### Factors Removed (crossSection):  $8\\pi \\alpha_X \\alpha \\epsilon^2 m_N Z_N^2$\n",
    "##### Factors Removed (crossSectionKappa0): $8\\pi \\alpha_X \\alpha \\epsilon^2 \\frac{m_N}{m_A^4} Z_N^2$"
   ]
  },
  {
   "cell_type": "code",
   "execution_count": null,
   "metadata": {
    "ExecuteTime": {
     "end_time": "2018-03-27T18:46:43.152857Z",
     "start_time": "2018-03-27T18:46:43.142377Z"
    },
    "collapsed": true,
    "hidden": true
   },
   "outputs": [],
   "source": [
    "test1 = photonCrossSection(elementTest, m_ATest, E_RTest)\n",
    "test2 = photonCrossSectionKappa0(elementTest, E_RTest)\n",
    "\n",
    "print ('Calculation  : {0}'.format(test1))\n",
    "print ('Kappa0Calc   : {0}'.format(test2))\n",
    "\n",
    "print ('Complete')"
   ]
  },
  {
   "cell_type": "markdown",
   "metadata": {
    "hidden": true
   },
   "source": [
    "### Dark Matter Velocity Distribution"
   ]
  },
  {
   "cell_type": "markdown",
   "metadata": {
    "hidden": true
   },
   "source": [
    "#### Asymptotic Dark Matter Velocity Distribution"
   ]
  },
  {
   "cell_type": "markdown",
   "metadata": {
    "hidden": true
   },
   "source": [
    "In the following cell we calculate the normalization constant $N_0$ for the incident dark matter velocity distribution:\n",
    "\n",
    "\\begin{equation} \n",
    "\\frac{1}{N_0} = \\int_{0}^{V_{gal}} f(u) \\ du = \\text{tempA} \n",
    "\\end{equation}\n",
    "where $u$ is a naturalized velocity and $f(u)$ is the incident DM velocity distribution which we take to be Maxwell-Boltzmann in shape:\n",
    "\n",
    "\\begin{equation}\n",
    "\\text{DMVelDist} = f(u) =  N_0 \\left[ exp \\left ( \n",
    "\\frac{v^2_{gal}-u^2}{ku^2_0}\\right) -1 \\right] ^k\n",
    "\\Theta(v_{gal} - u)\n",
    "\\end{equation}\n",
    "\n",
    "Typical values for $v_{gal}$ (km/s), $u_0$ (km/s), and $k$ respectively lie between:\n",
    "\n",
    "\\begin{equation}\n",
    "220<u_0<270 \\ \\ \\ \\ \\ \\ \\ \\ 450<v_{gal}<650 \\ \\ \\ \\ \\ \\ \\ \\ 1.5<k<3.5 \n",
    "\\end{equation}\n",
    "\n",
    "For computations, we take $u_0 = 245\\times 10^6$ cm/s, $v_{gal} = 550\\times10^6$ cm/s and $k = 2.5$\n"
   ]
  },
  {
   "cell_type": "markdown",
   "metadata": {
    "hidden": true
   },
   "source": [
    "#### Earth-frame Dark Matter Velocity Distribution"
   ]
  },
  {
   "cell_type": "markdown",
   "metadata": {
    "hidden": true
   },
   "source": [
    "The modified distribution $ f_{\\oplus}$ is the annular and angular averaged dark matter distribution in the rest frame of Earth given by:\n",
    "\n",
    "\\begin{align}\n",
    "\\text{ModDMVelDist} &= f_{\\oplus}(u) = \\\\ \\nonumber\n",
    "&\\frac{1}{4} \\int_{-1}^{1}\\int_{-1}^{1} d\\cos\\theta \\, d\\cos\\phi \\\n",
    "   f \\left[ \\left( u^2 + (V_{\\odot} + V_{\\oplus}\\cos\\phi)^2 + 2u(V_{\\odot} + V_{\\oplus} \\cos\\phi) \\cos\\theta \\right) ^{1/2} \\right]\n",
    "  \\end{align}\n",
    "  "
   ]
  },
  {
   "cell_type": "markdown",
   "metadata": {
    "hidden": true
   },
   "source": [
    "#### Normalization Check"
   ]
  },
  {
   "cell_type": "markdown",
   "metadata": {
    "hidden": true
   },
   "source": [
    "This cell serves to give a sanity check on the normalization of the asymptotic distribution"
   ]
  },
  {
   "cell_type": "code",
   "execution_count": 5,
   "metadata": {
    "ExecuteTime": {
     "end_time": "2018-03-31T20:24:54.612925Z",
     "start_time": "2018-03-31T20:24:54.604897Z"
    },
    "hidden": true
   },
   "outputs": [
    {
     "name": "stdout",
     "output_type": "stream",
     "text": [
      "Normalization N_0    : 4347914.767372669\n",
      "Normalization Check  : (1.0000000001088114, 6.433480284819202e-09)\n"
     ]
    }
   ],
   "source": [
    "test1 = Normalization()\n",
    "test2 = integrate.quad(NormalizationChecker,0, V_gal)\n",
    "\n",
    "print ('Normalization N_0    : {0}'.format(test1))\n",
    "print ('Normalization Check  : {0}'.format(test2))"
   ]
  },
  {
   "cell_type": "markdown",
   "metadata": {
    "hidden": true
   },
   "source": [
    "#### Dark Matter Velocity Plots"
   ]
  },
  {
   "cell_type": "markdown",
   "metadata": {
    "hidden": true
   },
   "source": [
    "The following cell plots the galactic dark matter velocity distribution and the distribution in the earth frame."
   ]
  },
  {
   "cell_type": "code",
   "execution_count": 6,
   "metadata": {
    "ExecuteTime": {
     "end_time": "2018-03-31T20:25:01.061134Z",
     "start_time": "2018-03-31T20:24:59.021511Z"
    },
    "hidden": true
   },
   "outputs": [
    {
     "name": "stdout",
     "output_type": "stream",
     "text": [
      "Complete\n"
     ]
    },
    {
     "data": {
      "image/png": "[encoded data removed]",
      "text/plain": [
       "<matplotlib.figure.Figure at 0x22fddb287f0>"
      ]
     },
     "metadata": {},
     "output_type": "display_data"
    }
   ],
   "source": [
    "velRange = np.linspace(0, V_gal, 200)\n",
    "\n",
    "#######################\n",
    "# Populate Vectors\n",
    "#######################\n",
    "ModDMVect1 = []\n",
    "DMVect1 = []\n",
    "for vel in velRange:\n",
    "    DMVect1.append(DMVelDist(vel))\n",
    "    ModDMVect1.append(ModDMVelDist(vel))\n",
    "    \n",
    "#######################\n",
    "# Plot\n",
    "#######################\n",
    "plt1_xlabel = np.linspace(0, V_gal, 6)\n",
    "\n",
    "fig1 = plt.figure(figsize = (7,5))\n",
    "ax1 = fig1.add_subplot(111)\n",
    "ax1.set_xticks(plt1_xlabel)\n",
    "line1, = plt.plot(velRange,DMVect1)\n",
    "line2, = plt.plot(velRange,ModDMVect1)\n",
    "\n",
    "plt.xlabel(r'u [Dimensionless]', fontsize = 13)\n",
    "plt.ylabel(r'f(u) [Dimensionless]', fontsize = 13)\n",
    "plt.grid()\n",
    "plt.legend([line1, line2,],['Asymptotic Velocity Distribution', 'Angular/ Annular Average'], loc='upper right')\n",
    "plt.suptitle('Dark Matter Velocity Distributions', fontsize = 16)\n",
    "# plt.title('Full Integration Region')\n",
    "\n",
    "\n",
    "print ('Complete')"
   ]
  },
  {
   "cell_type": "markdown",
   "metadata": {
    "hidden": true
   },
   "source": [
    "The following cell saves the velocity distribution plot to the \"Photon/ApproximationPlots\" folder."
   ]
  },
  {
   "cell_type": "code",
   "execution_count": null,
   "metadata": {
    "ExecuteTime": {
     "end_time": "2018-03-27T19:37:22.190613Z",
     "start_time": "2018-03-27T19:37:19.470335Z"
    },
    "collapsed": true,
    "hidden": true
   },
   "outputs": [],
   "source": [
    "# Save the plot if you want\n",
    "filename1 = input('Plot1 Filename: ')\n",
    "\n",
    "fig1.savefig(photonApproxPath(filename1), dpi = 700)\n",
    "\n",
    "print ('Complete')"
   ]
  },
  {
   "cell_type": "markdown",
   "metadata": {
    "hidden": true
   },
   "source": [
    "#### Modified Distribution Interpolation"
   ]
  },
  {
   "cell_type": "markdown",
   "metadata": {
    "hidden": true
   },
   "source": [
    "We interpolate the modified velocity distribution and plot a few data points to check the interpolation."
   ]
  },
  {
   "cell_type": "code",
   "execution_count": 7,
   "metadata": {
    "ExecuteTime": {
     "end_time": "2018-03-31T20:25:07.834545Z",
     "start_time": "2018-03-31T20:25:07.584864Z"
    },
    "hidden": true
   },
   "outputs": [
    {
     "name": "stdout",
     "output_type": "stream",
     "text": [
      "Complete\n"
     ]
    },
    {
     "data": {
      "image/png": "[encoded data removed]",
      "text/plain": [
       "<matplotlib.figure.Figure at 0x22fddff6a58>"
      ]
     },
     "metadata": {},
     "output_type": "display_data"
    }
   ],
   "source": [
    "DMVect2 = []\n",
    "\n",
    "for vel in velRange:\n",
    "    DMVect2.append(ModDMVelInterp(vel))\n",
    "\n",
    "fig1 = plt.figure()\n",
    "ax1 = fig1.add_subplot(111)\n",
    "points1, = plt.plot(velRange, ModDMVect1,'.')\n",
    "line1, = plt.plot(velRange,DMVect2)\n",
    "\n",
    "plt.xlabel(r'Incident Velocity')\n",
    "plt.ylabel(r\"f'(u)\")\n",
    "plt.suptitle('Modified DM Velocity Interpolation Check')\n",
    "plt.legend([points1,line1],['List Values','Interpolation'])\n",
    "plt.axis([0,2.8e-4,1.6e8,1.9e8])\n",
    "plt.grid()\n",
    "\n",
    "print ('Complete')"
   ]
  },
  {
   "cell_type": "markdown",
   "metadata": {
    "hidden": true
   },
   "source": [
    "### Kinematics"
   ]
  },
  {
   "cell_type": "markdown",
   "metadata": {
    "hidden": true
   },
   "source": [
    "The dimensionfull recoil energy limits are:\n",
    "\\begin{equation} \n",
    "E_{Min} = \\frac{1}{2} m_X u^2 \\ \\ \\ \\ \\ \\ \\ \\ E_{Max} = 2 \\frac{\\mu^2}{m_N} (u^2 + v_{\\oplus}^2)\n",
    "\\end{equation}\n",
    "\n",
    "The dimensionless recoil energy limits used in the $\\kappa_0$ calculation are:\n",
    "\\begin{equation}\n",
    "\\xi_{Min} = \\frac{1}{2}u^2 \\ \\ \\ \\ \\ \\ \\ \\ \\xi_{max} = 2\\frac{\\mu_N^2}{m_Nm_X}(u^2+ v_{\\oplus}^2)\n",
    "\\end{equation}\n",
    "\n",
    "We expect $\\xi_{Min, Max} = \\frac{E_{Min, Max}}{m_X}$"
   ]
  },
  {
   "cell_type": "code",
   "execution_count": 9,
   "metadata": {
    "ExecuteTime": {
     "end_time": "2018-03-31T20:39:29.247115Z",
     "start_time": "2018-03-31T20:39:29.238091Z"
    },
    "hidden": true
   },
   "outputs": [
    {
     "name": "stdout",
     "output_type": "stream",
     "text": [
      "Emin: 7.103698593949992e-08\n",
      "Emax: 2.4371804353286447e-07\n",
      "Complete\n"
     ]
    }
   ],
   "source": [
    "test1 = eMin(uIntTest, m_XTest)\n",
    "test2 = eMax(elementTest, m_XTest, indexTest, uIntTest)\n",
    "# test3 = xiMin(E_RTest, m_XTest)\n",
    "# test4 = xiMax(elementTest, m_XTest, indexTest, E_RTest)\n",
    "\n",
    "print ('Emin: {0}'.format(test1))\n",
    "print ('Emax: {0}'.format(test2))\n",
    "# print ('Ximin: {0}'.format(test3))\n",
    "# print ('Ximax: {0}'.format(test4))\n",
    "\n",
    "print ('Complete')"
   ]
  },
  {
   "cell_type": "markdown",
   "metadata": {
    "hidden": true
   },
   "source": [
    "### Capture Integral"
   ]
  },
  {
   "cell_type": "markdown",
   "metadata": {
    "hidden": true
   },
   "source": [
    "In the following cell, we calculate the velocity and recoil energy integrals:\n",
    "\n",
    "\\begin{equation}\n",
    "\\text{IntDuDEr} = \\int_{0}^{uInt} du\\space u \\, f(u) \\int_{E_{min}}^{E_{Max}} dE_R \\space \\frac{d \\sigma_N}{dE_R} \n",
    "\\end{equation}\n",
    "\n",
    "with dimension: $[ \\text{IntDuDEr}] = \\frac{1}{GeV^3}$\n",
    "\n",
    "where \n",
    "\\begin{equation}\n",
    "u_{int}^2 = \\frac{2\\mu_N^2}{m_N} \\frac{1}{ \\left( \\frac{1}{2m_X} - \\frac{2\\mu_N^2}{m_N} \\right)  } v_{\\oplus}^2 \n",
    "\\end{equation}\n",
    "\n",
    "See Appendix A for a discussion of calculating this integral.\n",
    "\n",
    "The $\\kappa_0$ calculation uses:\n",
    "\\begin{equation}\n",
    "\\text{IntDuDErKappa0} = \\int_{0}^{uInt} du\\space u \\, f(u) \\int_{\\xi_{min}}^{\\xi_{Max}} d\\xi_{R}\n",
    "\\end{equation}\n",
    "\n",
    "##### Factors Removed (IntDuDEr):  $(4\\pi)(8\\pi \\epsilon^2 \\alpha_X \\alpha m_N Z_N^2)$\n",
    "##### Factors Removed (IntDuDErApprox): $(4\\pi)(8\\pi \\alpha_X \\alpha \\frac{\\epsilon^2}{m_A^4} m_N Z_N^2)$"
   ]
  },
  {
   "cell_type": "code",
   "execution_count": 10,
   "metadata": {
    "ExecuteTime": {
     "end_time": "2018-03-31T20:39:36.008430Z",
     "start_time": "2018-03-31T20:39:35.975627Z"
    },
    "hidden": true
   },
   "outputs": [
    {
     "name": "stdout",
     "output_type": "stream",
     "text": [
      "Calculation: 5.920184210376576e-09\n",
      "Kappa0     : 5.920397517843177e-09\n",
      "Complete\n"
     ]
    }
   ],
   "source": [
    "test1 = photonIntDuDEr(elementTest, m_XTest, m_ATest, indexTest)\n",
    "test2 = photonIntDuDErKappa0(elementTest, m_XTest, indexTest)\n",
    "\n",
    "print ('Calculation: {0}'.format(test1))\n",
    "print ('Kappa0     : {0}'.format(test2))\n",
    "\n",
    "print ('Complete')"
   ]
  },
  {
   "cell_type": "markdown",
   "metadata": {
    "collapsed": true,
    "hidden": true
   },
   "source": [
    "### Sum Over Radii"
   ]
  },
  {
   "cell_type": "markdown",
   "metadata": {
    "hidden": true
   },
   "source": [
    "In the following cell, we calculate the \"integral\" over the radius of earth:\n",
    "\n",
    "\\begin{equation}\n",
    "\\int^{R_{earth}}_{0} dr\\space 4\\pi r^2 n_N(r) \\int_{0}^{uInt} du\\space 4\\pi u f(u) \\int_{E_{min}}^{E_{Max}} dE_R \\space \\frac{d \\sigma_N}{dE_R} \n",
    "\\end{equation}\n",
    "\n",
    "where we rename the velocity and recoil energy integrals to their respective python function $\\text{IntDuDEr}$:\n",
    "\n",
    "\\begin{equation}\n",
    "\\int^{R_{earth}}_{0} dr\\space 4\\pi r^2 n_N(r) \\space \\text{IntDuDEr}\n",
    "\\end{equation}\n",
    "\n",
    "with dimension $ \\frac{1}{\\text{GeV}^3}$\n",
    "\n",
    "However, instead of calculating this as an integral as stated, we discretize the integral and use the thin-shell approximation:\n",
    "\n",
    "\\begin{equation}\n",
    "\\frac{4}{3}\\pi (r +\\Delta r)^3 - \\frac{4}{3}\\pi r^3 = 4 \\pi r^2 \\Delta r\n",
    "\\end{equation}\n",
    "\n",
    "which yields the discrete summation:\n",
    "\n",
    "\\begin{equation}\n",
    "\\text{SumOverR} = \\sum_{i} r_i^2 n_N(r) \\Delta r_i \\ \\text{IntDuDEr}\n",
    "\\end{equation}\n",
    "\n",
    "where the variables $r_i$, $n_N(r)$, and $\\Delta r_i$ are given by:\n",
    "\n",
    "\\begin{equation} \n",
    "r_i = \\text{radiusList[i]} \n",
    "\\ \\ \\ \\ \\ \\ \\ \\ \n",
    "n_N(r) = \\text{numDensityList(element)[i]}\n",
    "\\ \\ \\ \\ \\ \\ \\ \\  \n",
    "\\Delta r_i = \\text{deltaRList[i]}\n",
    "\\end{equation}\n",
    "\n",
    "It is important to note, $i$ is a pure summation index and all physical quantites depending on i are taken from the respective lists.\n",
    " \n",
    "In the Kappa0 calculation we use:\n",
    "\\begin{equation}\n",
    "\\text{SumOverRKappa0} = \\sum_i r_i^2 n_N(r) \\Delta r_i \\ \\text{IntDuDErKappa0}\n",
    "\\end{equation}\n",
    "\n",
    "##### Removed Factors: $(4\\pi)(4\\pi)(8\\pi \\alpha_X \\alpha \\epsilon^2 m_N Z_N^2)$\n",
    "##### Removed Factors (Kappa0): $(4\\pi)(4\\pi)(8\\pi \\alpha_X \\alpha \\epsilon^2 \\frac{m_N}{m_A^4} Z_N^2)$"
   ]
  },
  {
   "cell_type": "code",
   "execution_count": 11,
   "metadata": {
    "ExecuteTime": {
     "end_time": "2018-03-31T20:39:57.425103Z",
     "start_time": "2018-03-31T20:39:43.720130Z"
    },
    "hidden": true
   },
   "outputs": [
    {
     "name": "stdout",
     "output_type": "stream",
     "text": [
      "Complete\n"
     ]
    }
   ],
   "source": [
    "test1 = photonSumOverR(elementTest, m_XTest, m_ATest)\n",
    "test2 = photonSumOverRKappa0(elementTest, m_XTest)\n",
    "\n",
    "print ('Complete')"
   ]
  },
  {
   "cell_type": "code",
   "execution_count": 12,
   "metadata": {
    "ExecuteTime": {
     "end_time": "2018-03-31T20:39:58.698292Z",
     "start_time": "2018-03-31T20:39:58.691273Z"
    },
    "hidden": true
   },
   "outputs": [
    {
     "name": "stdout",
     "output_type": "stream",
     "text": [
      "Calculation: 7.647109309917228e+39\n",
      "Kappa0     : 7.64735878518367e+39\n",
      "Complete\n"
     ]
    }
   ],
   "source": [
    "print ('Calculation: {0}'.format(test1))\n",
    "print ('Kappa0     : {0}'.format(test2))\n",
    "\n",
    "print ('Complete')"
   ]
  },
  {
   "cell_type": "markdown",
   "metadata": {
    "collapsed": true,
    "hidden": true
   },
   "source": [
    "### Single-Element Capture Rate: $C^N_{Cap}$"
   ]
  },
  {
   "cell_type": "markdown",
   "metadata": {
    "hidden": true
   },
   "source": [
    "The final step is to tack on all of the removed factors and calculate the capture rate for a single element:\n",
    "\n",
    "\\begin{equation} \n",
    "\\text{singleElementCap} = \\left[(4\\pi)(4\\pi)(8\\pi \\epsilon^2 \\alpha_X \\alpha m_N Z_N^2)\\right] n_X \\text{sumOverR}\n",
    "\\end{equation}\n",
    "\n",
    "where $[n_X] = \\frac{1}{cm^3}$ and $[sumOverR] = \\frac{1}{GeV^2}$, so $[fullCap] = \\frac{1}{cm^3 GeV^2}$\n",
    "\n",
    "We manually multiply by the following conversions:\n",
    "$$ \\frac{cm \\cdot GeV}{5.06\\times10^{13}} =  1 \n",
    "\\ \\ \\ \\ \n",
    "\\text{and} \n",
    "\\ \\ \\ \\ \n",
    "\\frac{1.52\\times10^{24}}{GeV\\cdot s} = 1$$\n",
    "\n",
    "In the Kappa0 calculation:\n",
    "\\begin{equation}\n",
    "\\text{singleElementCapKappa0} = [(4\\pi)(4\\pi)(8\\pi \\alpha Z_N^2 m_N)] n_X \\text{SumOverRKappa0}\n",
    "\\end{equation}"
   ]
  },
  {
   "cell_type": "markdown",
   "metadata": {
    "hidden": true
   },
   "source": [
    "In the following cell, we test the following functions:\n",
    "\n",
    "\n",
    "1). $\\text{singleElementCap}$\n",
    "\n",
    "2). $\\text{singleElementCapKappa0}$\n",
    "\n",
    "3). $\\text{singleElementCapKappa0}\\frac{\\varepsilon^2}{m_A^4}$\n",
    "\n",
    "and we expect that $\\text{singleElementCap} =  \\text{singleElementCapKappa0}\\frac{\\varepsilon^2}{m_A^4}$"
   ]
  },
  {
   "cell_type": "code",
   "execution_count": 4,
   "metadata": {
    "ExecuteTime": {
     "end_time": "2018-03-31T21:10:07.708078Z",
     "start_time": "2018-03-31T21:09:36.147520Z"
    },
    "hidden": true
   },
   "outputs": [
    {
     "name": "stdout",
     "output_type": "stream",
     "text": [
      "Complete\n"
     ]
    }
   ],
   "source": [
    "test1 = photonSingleElementCap(elementTest, m_XTest, m_ATest, epsilonTest, alphaTest, alpha_XTest)\n",
    "test2 = photonSingleElementCapKappa0(elementTest, m_XTest, alphaTest)\n",
    "test3 = test2 * alphaTherm(m_XTest,m_ATest) * epsilonTest**2 / m_ATest**4\n",
    "\n",
    "print ('Complete')"
   ]
  },
  {
   "cell_type": "code",
   "execution_count": 5,
   "metadata": {
    "ExecuteTime": {
     "end_time": "2018-03-31T21:11:27.737820Z",
     "start_time": "2018-03-31T21:11:27.726401Z"
    },
    "hidden": true
   },
   "outputs": [
    {
     "name": "stdout",
     "output_type": "stream",
     "text": [
      "Single Element Capture         : 96935116.02002962\n",
      "Single Element Capture(Kappa0) : 95693568.4318472\n",
      "Single Element Kappa0 only     : 2.7696650965771293e+25\n",
      "Difference: -0.012808027051062482\n",
      "Complete\n"
     ]
    }
   ],
   "source": [
    "print ('Single Element Capture         : {0}'.format(test1))\n",
    "print ('Single Element Capture(Kappa0) : {0}'.format(test3))\n",
    "print ('Single Element Kappa0 only     : {0}'.format(test2))\n",
    "\n",
    "print ('Difference: {0}'.format(difference(test1,test3)))\n",
    "print ('Complete')"
   ]
  },
  {
   "cell_type": "markdown",
   "metadata": {
    "hidden": true
   },
   "source": [
    "This cell tests:\n",
    "\n",
    "\n",
    "1). singleElementCap\n",
    "\n",
    "2). singleElementCapKapa0\n",
    "\n",
    "for $m_X = 1000$ GeV over the four corners of parameter space and the middle $(\\varepsilon, m_A) = (10^{-7.5}, 5.0)$\n",
    "\n",
    "We expect the $\\kappa_0$ calculation to hold for large $m_A$ and to start to diverge for small $m_A$."
   ]
  },
  {
   "cell_type": "code",
   "execution_count": 6,
   "metadata": {
    "ExecuteTime": {
     "end_time": "2018-03-31T21:11:50.209954Z",
     "start_time": "2018-03-31T21:11:46.215522Z"
    },
    "hidden": true
   },
   "outputs": [
    {
     "ename": "KeyboardInterrupt",
     "evalue": "",
     "output_type": "error",
     "traceback": [
      "\u001b[1;31m---------------------------------------------------------------------------\u001b[0m",
      "\u001b[1;31mKeyboardInterrupt\u001b[0m                         Traceback (most recent call last)",
      "\u001b[1;32m<ipython-input-6-cfaad84f267a>\u001b[0m in \u001b[0;36m<module>\u001b[1;34m()\u001b[0m\n\u001b[0;32m     12\u001b[0m \u001b[0mepsilonm5\u001b[0m \u001b[1;33m=\u001b[0m \u001b[1;36m10\u001b[0m\u001b[1;33m**\u001b[0m\u001b[1;33m-\u001b[0m\u001b[1;36m5\u001b[0m\u001b[1;33m\u001b[0m\u001b[0m\n\u001b[0;32m     13\u001b[0m \u001b[1;33m\u001b[0m\u001b[0m\n\u001b[1;32m---> 14\u001b[1;33m \u001b[0ma1\u001b[0m \u001b[1;33m=\u001b[0m \u001b[0mphotonSingleElementCap\u001b[0m      \u001b[1;33m(\u001b[0m\u001b[1;34m'Fe56'\u001b[0m\u001b[1;33m,\u001b[0m \u001b[0mmx1000\u001b[0m\u001b[1;33m,\u001b[0m \u001b[0mmam2\u001b[0m\u001b[1;33m,\u001b[0m \u001b[0mepsilonm10\u001b[0m\u001b[1;33m,\u001b[0m \u001b[0malpha\u001b[0m\u001b[1;33m,\u001b[0m \u001b[0malpha_X\u001b[0m\u001b[1;33m)\u001b[0m\u001b[1;33m\u001b[0m\u001b[0m\n\u001b[0m\u001b[0;32m     15\u001b[0m \u001b[0ma2\u001b[0m \u001b[1;33m=\u001b[0m \u001b[0mphotonSingleElementCapKappa0\u001b[0m\u001b[1;33m(\u001b[0m\u001b[1;34m'Fe56'\u001b[0m\u001b[1;33m,\u001b[0m \u001b[0mmx1000\u001b[0m\u001b[1;33m,\u001b[0m                   \u001b[0malpha\u001b[0m\u001b[1;33m)\u001b[0m \u001b[1;33m*\u001b[0m \u001b[0malpha_X\u001b[0m \u001b[1;33m*\u001b[0m \u001b[1;33m(\u001b[0m\u001b[1;33m(\u001b[0m\u001b[0mepsilonm10\u001b[0m\u001b[1;33m)\u001b[0m\u001b[1;33m**\u001b[0m\u001b[1;36m2\u001b[0m\u001b[1;33m/\u001b[0m\u001b[1;33m(\u001b[0m\u001b[0mmam2\u001b[0m\u001b[1;33m)\u001b[0m\u001b[1;33m**\u001b[0m\u001b[1;36m4\u001b[0m\u001b[1;33m)\u001b[0m\u001b[1;33m\u001b[0m\u001b[0m\n\u001b[0;32m     16\u001b[0m \u001b[0ma3\u001b[0m \u001b[1;33m=\u001b[0m \u001b[0mdifference\u001b[0m\u001b[1;33m(\u001b[0m\u001b[0ma1\u001b[0m\u001b[1;33m,\u001b[0m\u001b[0ma2\u001b[0m\u001b[1;33m)\u001b[0m\u001b[1;33m\u001b[0m\u001b[0m\n",
      "\u001b[1;32m~\\Google Drive\\Research\\DM Capture\\Code - GitHub\\MasterFunctions_Capture.ipynb\u001b[0m in \u001b[0;36mphotonSingleElementCap\u001b[1;34m(element, m_X, m_phi, epsilon, alpha, alpha_X)\u001b[0m\n",
      "\u001b[1;32m~\\Google Drive\\Research\\DM Capture\\Code - GitHub\\MasterFunctions_Capture.ipynb\u001b[0m in \u001b[0;36mphotonSumOverR\u001b[1;34m(element, m_X, m_A)\u001b[0m\n",
      "\u001b[1;32m~\\Google Drive\\Research\\DM Capture\\Code - GitHub\\MasterFunctions_Capture.ipynb\u001b[0m in \u001b[0;36mphotonIntDuDEr\u001b[1;34m(element, m_X, m_A, rIndex)\u001b[0m\n",
      "\u001b[1;32m~\\Anaconda3\\lib\\site-packages\\scipy\\integrate\\quadpack.py\u001b[0m in \u001b[0;36mdblquad\u001b[1;34m(func, a, b, gfun, hfun, args, epsabs, epsrel)\u001b[0m\n\u001b[0;32m    504\u001b[0m         \u001b[1;32mreturn\u001b[0m \u001b[1;33m[\u001b[0m\u001b[0mgfun\u001b[0m\u001b[1;33m(\u001b[0m\u001b[0margs\u001b[0m\u001b[1;33m[\u001b[0m\u001b[1;36m0\u001b[0m\u001b[1;33m]\u001b[0m\u001b[1;33m)\u001b[0m\u001b[1;33m,\u001b[0m \u001b[0mhfun\u001b[0m\u001b[1;33m(\u001b[0m\u001b[0margs\u001b[0m\u001b[1;33m[\u001b[0m\u001b[1;36m0\u001b[0m\u001b[1;33m]\u001b[0m\u001b[1;33m)\u001b[0m\u001b[1;33m]\u001b[0m\u001b[1;33m\u001b[0m\u001b[0m\n\u001b[0;32m    505\u001b[0m     return nquad(func, [temp_ranges, [a, b]], args=args, \n\u001b[1;32m--> 506\u001b[1;33m             opts={\"epsabs\": epsabs, \"epsrel\": epsrel})\n\u001b[0m\u001b[0;32m    507\u001b[0m \u001b[1;33m\u001b[0m\u001b[0m\n\u001b[0;32m    508\u001b[0m \u001b[1;33m\u001b[0m\u001b[0m\n",
      "\u001b[1;32m~\\Anaconda3\\lib\\site-packages\\scipy\\integrate\\quadpack.py\u001b[0m in \u001b[0;36mnquad\u001b[1;34m(func, ranges, args, opts, full_output)\u001b[0m\n\u001b[0;32m    712\u001b[0m     \u001b[1;32melse\u001b[0m\u001b[1;33m:\u001b[0m\u001b[1;33m\u001b[0m\u001b[0m\n\u001b[0;32m    713\u001b[0m         \u001b[0mopts\u001b[0m \u001b[1;33m=\u001b[0m \u001b[1;33m[\u001b[0m\u001b[0mopt\u001b[0m \u001b[1;32mif\u001b[0m \u001b[0mcallable\u001b[0m\u001b[1;33m(\u001b[0m\u001b[0mopt\u001b[0m\u001b[1;33m)\u001b[0m \u001b[1;32melse\u001b[0m \u001b[0m_OptFunc\u001b[0m\u001b[1;33m(\u001b[0m\u001b[0mopt\u001b[0m\u001b[1;33m)\u001b[0m \u001b[1;32mfor\u001b[0m \u001b[0mopt\u001b[0m \u001b[1;32min\u001b[0m \u001b[0mopts\u001b[0m\u001b[1;33m]\u001b[0m\u001b[1;33m\u001b[0m\u001b[0m\n\u001b[1;32m--> 714\u001b[1;33m     \u001b[1;32mreturn\u001b[0m \u001b[0m_NQuad\u001b[0m\u001b[1;33m(\u001b[0m\u001b[0mfunc\u001b[0m\u001b[1;33m,\u001b[0m \u001b[0mranges\u001b[0m\u001b[1;33m,\u001b[0m \u001b[0mopts\u001b[0m\u001b[1;33m,\u001b[0m \u001b[0mfull_output\u001b[0m\u001b[1;33m)\u001b[0m\u001b[1;33m.\u001b[0m\u001b[0mintegrate\u001b[0m\u001b[1;33m(\u001b[0m\u001b[1;33m*\u001b[0m\u001b[0margs\u001b[0m\u001b[1;33m)\u001b[0m\u001b[1;33m\u001b[0m\u001b[0m\n\u001b[0m\u001b[0;32m    715\u001b[0m \u001b[1;33m\u001b[0m\u001b[0m\n\u001b[0;32m    716\u001b[0m \u001b[1;33m\u001b[0m\u001b[0m\n",
      "\u001b[1;32m~\\Anaconda3\\lib\\site-packages\\scipy\\integrate\\quadpack.py\u001b[0m in \u001b[0;36mintegrate\u001b[1;34m(self, *args, **kwargs)\u001b[0m\n\u001b[0;32m    767\u001b[0m             \u001b[0mf\u001b[0m \u001b[1;33m=\u001b[0m \u001b[0mpartial\u001b[0m\u001b[1;33m(\u001b[0m\u001b[0mself\u001b[0m\u001b[1;33m.\u001b[0m\u001b[0mintegrate\u001b[0m\u001b[1;33m,\u001b[0m \u001b[0mdepth\u001b[0m\u001b[1;33m=\u001b[0m\u001b[0mdepth\u001b[0m\u001b[1;33m+\u001b[0m\u001b[1;36m1\u001b[0m\u001b[1;33m)\u001b[0m\u001b[1;33m\u001b[0m\u001b[0m\n\u001b[0;32m    768\u001b[0m         quad_r = quad(f, low, high, args=args, full_output=self.full_output,\n\u001b[1;32m--> 769\u001b[1;33m                       **opt)\n\u001b[0m\u001b[0;32m    770\u001b[0m         \u001b[0mvalue\u001b[0m \u001b[1;33m=\u001b[0m \u001b[0mquad_r\u001b[0m\u001b[1;33m[\u001b[0m\u001b[1;36m0\u001b[0m\u001b[1;33m]\u001b[0m\u001b[1;33m\u001b[0m\u001b[0m\n\u001b[0;32m    771\u001b[0m         \u001b[0mabserr\u001b[0m \u001b[1;33m=\u001b[0m \u001b[0mquad_r\u001b[0m\u001b[1;33m[\u001b[0m\u001b[1;36m1\u001b[0m\u001b[1;33m]\u001b[0m\u001b[1;33m\u001b[0m\u001b[0m\n",
      "\u001b[1;32m~\\Anaconda3\\lib\\site-packages\\scipy\\integrate\\quadpack.py\u001b[0m in \u001b[0;36mquad\u001b[1;34m(func, a, b, args, full_output, epsabs, epsrel, limit, points, weight, wvar, wopts, maxp1, limlst)\u001b[0m\n\u001b[0;32m    321\u001b[0m     \u001b[1;32mif\u001b[0m \u001b[1;33m(\u001b[0m\u001b[0mweight\u001b[0m \u001b[1;32mis\u001b[0m \u001b[1;32mNone\u001b[0m\u001b[1;33m)\u001b[0m\u001b[1;33m:\u001b[0m\u001b[1;33m\u001b[0m\u001b[0m\n\u001b[0;32m    322\u001b[0m         retval = _quad(func, a, b, args, full_output, epsabs, epsrel, limit,\n\u001b[1;32m--> 323\u001b[1;33m                        points)\n\u001b[0m\u001b[0;32m    324\u001b[0m     \u001b[1;32melse\u001b[0m\u001b[1;33m:\u001b[0m\u001b[1;33m\u001b[0m\u001b[0m\n\u001b[0;32m    325\u001b[0m         retval = _quad_weight(func, a, b, args, full_output, epsabs, epsrel,\n",
      "\u001b[1;32m~\\Anaconda3\\lib\\site-packages\\scipy\\integrate\\quadpack.py\u001b[0m in \u001b[0;36m_quad\u001b[1;34m(func, a, b, args, full_output, epsabs, epsrel, limit, points)\u001b[0m\n\u001b[0;32m    386\u001b[0m     \u001b[1;32mif\u001b[0m \u001b[0mpoints\u001b[0m \u001b[1;32mis\u001b[0m \u001b[1;32mNone\u001b[0m\u001b[1;33m:\u001b[0m\u001b[1;33m\u001b[0m\u001b[0m\n\u001b[0;32m    387\u001b[0m         \u001b[1;32mif\u001b[0m \u001b[0minfbounds\u001b[0m \u001b[1;33m==\u001b[0m \u001b[1;36m0\u001b[0m\u001b[1;33m:\u001b[0m\u001b[1;33m\u001b[0m\u001b[0m\n\u001b[1;32m--> 388\u001b[1;33m             \u001b[1;32mreturn\u001b[0m \u001b[0m_quadpack\u001b[0m\u001b[1;33m.\u001b[0m\u001b[0m_qagse\u001b[0m\u001b[1;33m(\u001b[0m\u001b[0mfunc\u001b[0m\u001b[1;33m,\u001b[0m\u001b[0ma\u001b[0m\u001b[1;33m,\u001b[0m\u001b[0mb\u001b[0m\u001b[1;33m,\u001b[0m\u001b[0margs\u001b[0m\u001b[1;33m,\u001b[0m\u001b[0mfull_output\u001b[0m\u001b[1;33m,\u001b[0m\u001b[0mepsabs\u001b[0m\u001b[1;33m,\u001b[0m\u001b[0mepsrel\u001b[0m\u001b[1;33m,\u001b[0m\u001b[0mlimit\u001b[0m\u001b[1;33m)\u001b[0m\u001b[1;33m\u001b[0m\u001b[0m\n\u001b[0m\u001b[0;32m    389\u001b[0m         \u001b[1;32melse\u001b[0m\u001b[1;33m:\u001b[0m\u001b[1;33m\u001b[0m\u001b[0m\n\u001b[0;32m    390\u001b[0m             \u001b[1;32mreturn\u001b[0m \u001b[0m_quadpack\u001b[0m\u001b[1;33m.\u001b[0m\u001b[0m_qagie\u001b[0m\u001b[1;33m(\u001b[0m\u001b[0mfunc\u001b[0m\u001b[1;33m,\u001b[0m\u001b[0mbound\u001b[0m\u001b[1;33m,\u001b[0m\u001b[0minfbounds\u001b[0m\u001b[1;33m,\u001b[0m\u001b[0margs\u001b[0m\u001b[1;33m,\u001b[0m\u001b[0mfull_output\u001b[0m\u001b[1;33m,\u001b[0m\u001b[0mepsabs\u001b[0m\u001b[1;33m,\u001b[0m\u001b[0mepsrel\u001b[0m\u001b[1;33m,\u001b[0m\u001b[0mlimit\u001b[0m\u001b[1;33m)\u001b[0m\u001b[1;33m\u001b[0m\u001b[0m\n",
      "\u001b[1;32m~\\Anaconda3\\lib\\site-packages\\scipy\\integrate\\quadpack.py\u001b[0m in \u001b[0;36mintegrate\u001b[1;34m(self, *args, **kwargs)\u001b[0m\n\u001b[0;32m    767\u001b[0m             \u001b[0mf\u001b[0m \u001b[1;33m=\u001b[0m \u001b[0mpartial\u001b[0m\u001b[1;33m(\u001b[0m\u001b[0mself\u001b[0m\u001b[1;33m.\u001b[0m\u001b[0mintegrate\u001b[0m\u001b[1;33m,\u001b[0m \u001b[0mdepth\u001b[0m\u001b[1;33m=\u001b[0m\u001b[0mdepth\u001b[0m\u001b[1;33m+\u001b[0m\u001b[1;36m1\u001b[0m\u001b[1;33m)\u001b[0m\u001b[1;33m\u001b[0m\u001b[0m\n\u001b[0;32m    768\u001b[0m         quad_r = quad(f, low, high, args=args, full_output=self.full_output,\n\u001b[1;32m--> 769\u001b[1;33m                       **opt)\n\u001b[0m\u001b[0;32m    770\u001b[0m         \u001b[0mvalue\u001b[0m \u001b[1;33m=\u001b[0m \u001b[0mquad_r\u001b[0m\u001b[1;33m[\u001b[0m\u001b[1;36m0\u001b[0m\u001b[1;33m]\u001b[0m\u001b[1;33m\u001b[0m\u001b[0m\n\u001b[0;32m    771\u001b[0m         \u001b[0mabserr\u001b[0m \u001b[1;33m=\u001b[0m \u001b[0mquad_r\u001b[0m\u001b[1;33m[\u001b[0m\u001b[1;36m1\u001b[0m\u001b[1;33m]\u001b[0m\u001b[1;33m\u001b[0m\u001b[0m\n",
      "\u001b[1;32m~\\Anaconda3\\lib\\site-packages\\scipy\\integrate\\quadpack.py\u001b[0m in \u001b[0;36mquad\u001b[1;34m(func, a, b, args, full_output, epsabs, epsrel, limit, points, weight, wvar, wopts, maxp1, limlst)\u001b[0m\n\u001b[0;32m    321\u001b[0m     \u001b[1;32mif\u001b[0m \u001b[1;33m(\u001b[0m\u001b[0mweight\u001b[0m \u001b[1;32mis\u001b[0m \u001b[1;32mNone\u001b[0m\u001b[1;33m)\u001b[0m\u001b[1;33m:\u001b[0m\u001b[1;33m\u001b[0m\u001b[0m\n\u001b[0;32m    322\u001b[0m         retval = _quad(func, a, b, args, full_output, epsabs, epsrel, limit,\n\u001b[1;32m--> 323\u001b[1;33m                        points)\n\u001b[0m\u001b[0;32m    324\u001b[0m     \u001b[1;32melse\u001b[0m\u001b[1;33m:\u001b[0m\u001b[1;33m\u001b[0m\u001b[0m\n\u001b[0;32m    325\u001b[0m         retval = _quad_weight(func, a, b, args, full_output, epsabs, epsrel,\n",
      "\u001b[1;32m~\\Anaconda3\\lib\\site-packages\\scipy\\integrate\\quadpack.py\u001b[0m in \u001b[0;36m_quad\u001b[1;34m(func, a, b, args, full_output, epsabs, epsrel, limit, points)\u001b[0m\n\u001b[0;32m    386\u001b[0m     \u001b[1;32mif\u001b[0m \u001b[0mpoints\u001b[0m \u001b[1;32mis\u001b[0m \u001b[1;32mNone\u001b[0m\u001b[1;33m:\u001b[0m\u001b[1;33m\u001b[0m\u001b[0m\n\u001b[0;32m    387\u001b[0m         \u001b[1;32mif\u001b[0m \u001b[0minfbounds\u001b[0m \u001b[1;33m==\u001b[0m \u001b[1;36m0\u001b[0m\u001b[1;33m:\u001b[0m\u001b[1;33m\u001b[0m\u001b[0m\n\u001b[1;32m--> 388\u001b[1;33m             \u001b[1;32mreturn\u001b[0m \u001b[0m_quadpack\u001b[0m\u001b[1;33m.\u001b[0m\u001b[0m_qagse\u001b[0m\u001b[1;33m(\u001b[0m\u001b[0mfunc\u001b[0m\u001b[1;33m,\u001b[0m\u001b[0ma\u001b[0m\u001b[1;33m,\u001b[0m\u001b[0mb\u001b[0m\u001b[1;33m,\u001b[0m\u001b[0margs\u001b[0m\u001b[1;33m,\u001b[0m\u001b[0mfull_output\u001b[0m\u001b[1;33m,\u001b[0m\u001b[0mepsabs\u001b[0m\u001b[1;33m,\u001b[0m\u001b[0mepsrel\u001b[0m\u001b[1;33m,\u001b[0m\u001b[0mlimit\u001b[0m\u001b[1;33m)\u001b[0m\u001b[1;33m\u001b[0m\u001b[0m\n\u001b[0m\u001b[0;32m    389\u001b[0m         \u001b[1;32melse\u001b[0m\u001b[1;33m:\u001b[0m\u001b[1;33m\u001b[0m\u001b[0m\n\u001b[0;32m    390\u001b[0m             \u001b[1;32mreturn\u001b[0m \u001b[0m_quadpack\u001b[0m\u001b[1;33m.\u001b[0m\u001b[0m_qagie\u001b[0m\u001b[1;33m(\u001b[0m\u001b[0mfunc\u001b[0m\u001b[1;33m,\u001b[0m\u001b[0mbound\u001b[0m\u001b[1;33m,\u001b[0m\u001b[0minfbounds\u001b[0m\u001b[1;33m,\u001b[0m\u001b[0margs\u001b[0m\u001b[1;33m,\u001b[0m\u001b[0mfull_output\u001b[0m\u001b[1;33m,\u001b[0m\u001b[0mepsabs\u001b[0m\u001b[1;33m,\u001b[0m\u001b[0mepsrel\u001b[0m\u001b[1;33m,\u001b[0m\u001b[0mlimit\u001b[0m\u001b[1;33m)\u001b[0m\u001b[1;33m\u001b[0m\u001b[0m\n",
      "\u001b[1;32m~\\Google Drive\\Research\\DM Capture\\Code - GitHub\\MasterFunctions_Capture.ipynb\u001b[0m in \u001b[0;36mintegrand\u001b[1;34m(E, u)\u001b[0m\n",
      "\u001b[1;32m~\\Anaconda3\\lib\\site-packages\\scipy\\interpolate\\polyint.py\u001b[0m in \u001b[0;36m__call__\u001b[1;34m(self, x)\u001b[0m\n\u001b[0;32m     77\u001b[0m         \"\"\"\n\u001b[0;32m     78\u001b[0m         \u001b[0mx\u001b[0m\u001b[1;33m,\u001b[0m \u001b[0mx_shape\u001b[0m \u001b[1;33m=\u001b[0m \u001b[0mself\u001b[0m\u001b[1;33m.\u001b[0m\u001b[0m_prepare_x\u001b[0m\u001b[1;33m(\u001b[0m\u001b[0mx\u001b[0m\u001b[1;33m)\u001b[0m\u001b[1;33m\u001b[0m\u001b[0m\n\u001b[1;32m---> 79\u001b[1;33m         \u001b[0my\u001b[0m \u001b[1;33m=\u001b[0m \u001b[0mself\u001b[0m\u001b[1;33m.\u001b[0m\u001b[0m_evaluate\u001b[0m\u001b[1;33m(\u001b[0m\u001b[0mx\u001b[0m\u001b[1;33m)\u001b[0m\u001b[1;33m\u001b[0m\u001b[0m\n\u001b[0m\u001b[0;32m     80\u001b[0m         \u001b[1;32mreturn\u001b[0m \u001b[0mself\u001b[0m\u001b[1;33m.\u001b[0m\u001b[0m_finish_y\u001b[0m\u001b[1;33m(\u001b[0m\u001b[0my\u001b[0m\u001b[1;33m,\u001b[0m \u001b[0mx_shape\u001b[0m\u001b[1;33m)\u001b[0m\u001b[1;33m\u001b[0m\u001b[0m\n\u001b[0;32m     81\u001b[0m \u001b[1;33m\u001b[0m\u001b[0m\n",
      "\u001b[1;32m~\\Anaconda3\\lib\\site-packages\\scipy\\interpolate\\interpolate.py\u001b[0m in \u001b[0;36m_evaluate\u001b[1;34m(self, x_new)\u001b[0m\n\u001b[0;32m    606\u001b[0m         \u001b[1;31m#    The behavior is set by the bounds_error variable.\u001b[0m\u001b[1;33m\u001b[0m\u001b[1;33m\u001b[0m\u001b[0m\n\u001b[0;32m    607\u001b[0m         \u001b[0mx_new\u001b[0m \u001b[1;33m=\u001b[0m \u001b[0masarray\u001b[0m\u001b[1;33m(\u001b[0m\u001b[0mx_new\u001b[0m\u001b[1;33m)\u001b[0m\u001b[1;33m\u001b[0m\u001b[0m\n\u001b[1;32m--> 608\u001b[1;33m         \u001b[0my_new\u001b[0m \u001b[1;33m=\u001b[0m \u001b[0mself\u001b[0m\u001b[1;33m.\u001b[0m\u001b[0m_call\u001b[0m\u001b[1;33m(\u001b[0m\u001b[0mself\u001b[0m\u001b[1;33m,\u001b[0m \u001b[0mx_new\u001b[0m\u001b[1;33m)\u001b[0m\u001b[1;33m\u001b[0m\u001b[0m\n\u001b[0m\u001b[0;32m    609\u001b[0m         \u001b[1;32mif\u001b[0m \u001b[1;32mnot\u001b[0m \u001b[0mself\u001b[0m\u001b[1;33m.\u001b[0m\u001b[0m_extrapolate\u001b[0m\u001b[1;33m:\u001b[0m\u001b[1;33m\u001b[0m\u001b[0m\n\u001b[0;32m    610\u001b[0m             \u001b[0mbelow_bounds\u001b[0m\u001b[1;33m,\u001b[0m \u001b[0mabove_bounds\u001b[0m \u001b[1;33m=\u001b[0m \u001b[0mself\u001b[0m\u001b[1;33m.\u001b[0m\u001b[0m_check_bounds\u001b[0m\u001b[1;33m(\u001b[0m\u001b[0mx_new\u001b[0m\u001b[1;33m)\u001b[0m\u001b[1;33m\u001b[0m\u001b[0m\n",
      "\u001b[1;32m~\\Anaconda3\\lib\\site-packages\\scipy\\interpolate\\interpolate.py\u001b[0m in \u001b[0;36m_call_linear_np\u001b[1;34m(self, x_new)\u001b[0m\n\u001b[0;32m    545\u001b[0m     \u001b[1;32mdef\u001b[0m \u001b[0m_call_linear_np\u001b[0m\u001b[1;33m(\u001b[0m\u001b[0mself\u001b[0m\u001b[1;33m,\u001b[0m \u001b[0mx_new\u001b[0m\u001b[1;33m)\u001b[0m\u001b[1;33m:\u001b[0m\u001b[1;33m\u001b[0m\u001b[0m\n\u001b[0;32m    546\u001b[0m         \u001b[1;31m# Note that out-of-bounds values are taken care of in self._evaluate\u001b[0m\u001b[1;33m\u001b[0m\u001b[1;33m\u001b[0m\u001b[0m\n\u001b[1;32m--> 547\u001b[1;33m         \u001b[1;32mreturn\u001b[0m \u001b[0mnp\u001b[0m\u001b[1;33m.\u001b[0m\u001b[0minterp\u001b[0m\u001b[1;33m(\u001b[0m\u001b[0mx_new\u001b[0m\u001b[1;33m,\u001b[0m \u001b[0mself\u001b[0m\u001b[1;33m.\u001b[0m\u001b[0mx\u001b[0m\u001b[1;33m,\u001b[0m \u001b[0mself\u001b[0m\u001b[1;33m.\u001b[0m\u001b[0my\u001b[0m\u001b[1;33m)\u001b[0m\u001b[1;33m\u001b[0m\u001b[0m\n\u001b[0m\u001b[0;32m    548\u001b[0m \u001b[1;33m\u001b[0m\u001b[0m\n\u001b[0;32m    549\u001b[0m     \u001b[1;32mdef\u001b[0m \u001b[0m_call_linear\u001b[0m\u001b[1;33m(\u001b[0m\u001b[0mself\u001b[0m\u001b[1;33m,\u001b[0m \u001b[0mx_new\u001b[0m\u001b[1;33m)\u001b[0m\u001b[1;33m:\u001b[0m\u001b[1;33m\u001b[0m\u001b[0m\n",
      "\u001b[1;32m~\\Anaconda3\\lib\\site-packages\\numpy\\lib\\function_base.py\u001b[0m in \u001b[0;36minterp\u001b[1;34m(x, xp, fp, left, right, period)\u001b[0m\n\u001b[0;32m   2037\u001b[0m             \u001b[1;32mreturn\u001b[0m \u001b[0minterp_func\u001b[0m\u001b[1;33m(\u001b[0m\u001b[1;33m[\u001b[0m\u001b[0mx\u001b[0m\u001b[1;33m]\u001b[0m\u001b[1;33m,\u001b[0m \u001b[0mxp\u001b[0m\u001b[1;33m,\u001b[0m \u001b[0mfp\u001b[0m\u001b[1;33m,\u001b[0m \u001b[0mleft\u001b[0m\u001b[1;33m,\u001b[0m \u001b[0mright\u001b[0m\u001b[1;33m)\u001b[0m\u001b[1;33m.\u001b[0m\u001b[0mitem\u001b[0m\u001b[1;33m(\u001b[0m\u001b[1;33m)\u001b[0m\u001b[1;33m\u001b[0m\u001b[0m\n\u001b[0;32m   2038\u001b[0m         \u001b[1;32melse\u001b[0m\u001b[1;33m:\u001b[0m\u001b[1;33m\u001b[0m\u001b[0m\n\u001b[1;32m-> 2039\u001b[1;33m             \u001b[1;32mreturn\u001b[0m \u001b[0minterp_func\u001b[0m\u001b[1;33m(\u001b[0m\u001b[0mx\u001b[0m\u001b[1;33m,\u001b[0m \u001b[0mxp\u001b[0m\u001b[1;33m,\u001b[0m \u001b[0mfp\u001b[0m\u001b[1;33m,\u001b[0m \u001b[0mleft\u001b[0m\u001b[1;33m,\u001b[0m \u001b[0mright\u001b[0m\u001b[1;33m)\u001b[0m\u001b[1;33m\u001b[0m\u001b[0m\n\u001b[0m\u001b[0;32m   2040\u001b[0m     \u001b[1;32melse\u001b[0m\u001b[1;33m:\u001b[0m\u001b[1;33m\u001b[0m\u001b[0m\n\u001b[0;32m   2041\u001b[0m         \u001b[1;32mif\u001b[0m \u001b[0mperiod\u001b[0m \u001b[1;33m==\u001b[0m \u001b[1;36m0\u001b[0m\u001b[1;33m:\u001b[0m\u001b[1;33m\u001b[0m\u001b[0m\n",
      "\u001b[1;31mKeyboardInterrupt\u001b[0m: "
     ]
    }
   ],
   "source": [
    "alpha = 1./137\n",
    "alpha_X = 0.035\n",
    "\n",
    "mx1000 = 1000.\n",
    "\n",
    "mam2 = 0.01\n",
    "ma5 = 5.\n",
    "ma1 = 10.\n",
    "\n",
    "epsilonm10 = 10**-10\n",
    "epsilonm75 = 10**-7.5\n",
    "epsilonm5 = 10**-5\n",
    "\n",
    "a1 = photonSingleElementCap      ('Fe56', mx1000, mam2, epsilonm10, alpha, alpha_X)\n",
    "a2 = photonSingleElementCapKappa0('Fe56', mx1000,                   alpha) * alpha_X * ((epsilonm10)**2/(mam2)**4)\n",
    "a3 = difference(a1,a2)\n",
    "\n",
    "b1 = photonSingleElementCap      ('Fe56', mx1000, mam2, epsilonm5 , alpha, alpha_X)\n",
    "b2 = photonSingleElementCapKappa0('Fe56', mx1000,                   alpha) * alpha_X * ((epsilonm5)**2/(mam2)**4)\n",
    "b3 = difference(b1,b2)\n",
    "\n",
    "\n",
    "c1 = photonSingleElementCap      ('Fe56', mx1000, ma1 , epsilonm5 , alpha, alpha_X)\n",
    "c2 = photonSingleElementCapKappa0('Fe56', mx1000,                   alpha) * alpha_X * ((epsilonm5)**2/(ma1)**4)\n",
    "c3 = difference(c1,c2)\n",
    "\n",
    "\n",
    "d1 = photonSingleElementCap      ('Fe56', mx1000, ma1 , epsilonm10, alpha, alpha_X)\n",
    "d2 = photonSingleElementCapKappa0('Fe56', mx1000,                   alpha) * alpha_X * ((epsilonm10)**2/(ma1)**4)\n",
    "d3 = difference(d1,d2)\n",
    "\n",
    "\n",
    "e1 = photonSingleElementCap      ('Fe56', mx1000, ma5 , epsilonm75, alpha, alpha_X)\n",
    "e2 = photonSingleElementCapKappa0('Fe56', mx1000,                   alpha) * alpha_X * ((epsilonm75)**2/(ma5)**4)\n",
    "e3 = difference(e1,e2)\n",
    "\n",
    "\n",
    "print ('Complete')"
   ]
  },
  {
   "cell_type": "code",
   "execution_count": 10,
   "metadata": {
    "ExecuteTime": {
     "end_time": "2018-03-31T20:52:32.905821Z",
     "start_time": "2018-03-31T20:52:32.889775Z"
    },
    "hidden": true
   },
   "outputs": [
    {
     "name": "stdout",
     "output_type": "stream",
     "text": [
      "m_A = 0.01, Epsilon = 1e-10 :\n",
      "    Full:   722582089935.9792 \n",
      "    Kappa0: 969382783801.9954 \n",
      "    Difference: 0.34155384876461947\n",
      "---------------\n",
      "m_A = 0.01, Epsilon = 1e-05 :\n",
      "    Full:   7.225820899359792e+21 \n",
      "    Kappa0: 9.693827838019956e+21 \n",
      "    Difference: 0.3415538487646199\n",
      "---------------\n",
      "m_A = 10.0, Epsilon = 1e-05 :\n",
      "    Full:   9693824675.572638 \n",
      "    Kappa0: 9693827838.019955 \n",
      "    Difference: 3.2623318689602766e-07\n",
      "---------------\n",
      "m_A = 10.0, Epsilon = 1e-10 :\n",
      "    Full:   0.9693824675572639 \n",
      "    Kappa0: 0.9693827838019955 \n",
      "    Difference: 3.262331868049582e-07\n",
      "---------------\n",
      "m_A = 5.0, Epsilon = 3.162277660168379e-08 :\n",
      "    Full:   1551010.4301186088 \n",
      "    Kappa0: 1551012.4540831924 \n",
      "    Difference: 1.304932929101026e-06\n",
      "Complete\n"
     ]
    }
   ],
   "source": [
    "print ('m_A = {0}, Epsilon = {1} :\\n    Full:   {2} \\n    Kappa0: {3} \\n    Difference: {4}'.format(mam2,epsilonm10,a1,a2,a3))\n",
    "print ('---------------')\n",
    "print ('m_A = {0}, Epsilon = {1} :\\n    Full:   {2} \\n    Kappa0: {3} \\n    Difference: {4}'.format(mam2,epsilonm5,b1,b2,b3))\n",
    "print ('---------------')\n",
    "print ('m_A = {0}, Epsilon = {1} :\\n    Full:   {2} \\n    Kappa0: {3} \\n    Difference: {4}'.format(ma1,epsilonm5,c1,c2,c3))\n",
    "print ('---------------')\n",
    "print ('m_A = {0}, Epsilon = {1} :\\n    Full:   {2} \\n    Kappa0: {3} \\n    Difference: {4}'.format(ma1,epsilonm10,d1,d2,d3))\n",
    "print ('---------------')\n",
    "print ('m_A = {0}, Epsilon = {1} :\\n    Full:   {2} \\n    Kappa0: {3} \\n    Difference: {4}'.format(ma5,epsilonm75,e1,e2,e3))\n",
    "\n",
    "print ('Complete')"
   ]
  },
  {
   "cell_type": "markdown",
   "metadata": {
    "hidden": true
   },
   "source": [
    "We can see that for small $m_A$, Kappa0 diverges from the full calculation, since the small recoil energy approximation requited that $2m_NE_R \\ll m_A^2$ but for low $m_A$, the approximation begins to break down."
   ]
  },
  {
   "cell_type": "markdown",
   "metadata": {
    "hidden": true
   },
   "source": [
    "In this cell, we reproduce the capture rates for the various elements in Table 1 of arXiv:1509.07525v2.\n",
    "\n",
    "To match input values, we set:\n",
    "\n",
    "$m_X = 1000$ GeV\n",
    "\n",
    "$m_A = 1$ GeV\n",
    "\n",
    "$\\varepsilon = 10^{-8}$\n",
    "\n",
    "$\\alpha = 1/137$\n",
    "\n",
    "$\\alpha_X = 0.035$\n"
   ]
  },
  {
   "cell_type": "code",
   "execution_count": 7,
   "metadata": {
    "ExecuteTime": {
     "end_time": "2018-03-31T21:13:46.824006Z",
     "start_time": "2018-03-31T21:11:52.568954Z"
    },
    "hidden": true
   },
   "outputs": [
    {
     "ename": "KeyboardInterrupt",
     "evalue": "",
     "output_type": "error",
     "traceback": [
      "\u001b[1;31m---------------------------------------------------------------------------\u001b[0m",
      "\u001b[1;31mKeyboardInterrupt\u001b[0m                         Traceback (most recent call last)",
      "\u001b[1;32m<ipython-input-7-f673cefda802>\u001b[0m in \u001b[0;36m<module>\u001b[1;34m()\u001b[0m\n\u001b[0;32m     60\u001b[0m \u001b[1;32mfor\u001b[0m \u001b[0melement\u001b[0m \u001b[1;32min\u001b[0m \u001b[0melementList\u001b[0m\u001b[1;33m:\u001b[0m\u001b[1;33m\u001b[0m\u001b[0m\n\u001b[0;32m     61\u001b[0m     \u001b[0mCCapAdam0\u001b[0m\u001b[1;33m[\u001b[0m\u001b[0melement\u001b[0m\u001b[1;33m]\u001b[0m \u001b[1;33m=\u001b[0m \u001b[0mphotonSingleElementCap\u001b[0m\u001b[1;33m(\u001b[0m\u001b[0melement\u001b[0m\u001b[1;33m,\u001b[0m \u001b[0mm_X\u001b[0m\u001b[1;33m,\u001b[0m \u001b[0mm_A\u001b[0m\u001b[1;33m,\u001b[0m \u001b[0mepsilon\u001b[0m\u001b[1;33m,\u001b[0m \u001b[0malpha\u001b[0m\u001b[1;33m,\u001b[0m \u001b[0malpha_X\u001b[0m\u001b[1;33m)\u001b[0m\u001b[1;33m\u001b[0m\u001b[0m\n\u001b[1;32m---> 62\u001b[1;33m     \u001b[0mCCapAdam1\u001b[0m\u001b[1;33m[\u001b[0m\u001b[0melement\u001b[0m\u001b[1;33m]\u001b[0m \u001b[1;33m=\u001b[0m \u001b[0mphotonSingleElementCapKappa0\u001b[0m\u001b[1;33m(\u001b[0m\u001b[0melement\u001b[0m\u001b[1;33m,\u001b[0m \u001b[0mm_X\u001b[0m\u001b[1;33m,\u001b[0m \u001b[0malpha\u001b[0m\u001b[1;33m)\u001b[0m \u001b[1;33m*\u001b[0m \u001b[0malpha_X\u001b[0m \u001b[1;33m*\u001b[0m \u001b[1;33m(\u001b[0m\u001b[0mepsilon\u001b[0m\u001b[1;33m)\u001b[0m\u001b[1;33m**\u001b[0m\u001b[1;36m2\u001b[0m \u001b[1;33m/\u001b[0m \u001b[1;33m(\u001b[0m\u001b[0mm_A\u001b[0m\u001b[1;33m)\u001b[0m\u001b[1;33m**\u001b[0m\u001b[1;36m4\u001b[0m\u001b[1;33m\u001b[0m\u001b[0m\n\u001b[0m\u001b[0;32m     63\u001b[0m \u001b[1;33m\u001b[0m\u001b[0m\n\u001b[0;32m     64\u001b[0m \u001b[0mprint\u001b[0m \u001b[1;33m(\u001b[0m\u001b[1;34m'Complete'\u001b[0m\u001b[1;33m)\u001b[0m\u001b[1;33m\u001b[0m\u001b[0m\n",
      "\u001b[1;32m~\\Google Drive\\Research\\DM Capture\\Code - GitHub\\MasterFunctions_Capture.ipynb\u001b[0m in \u001b[0;36mphotonSingleElementCapKappa0\u001b[1;34m(element, m_X, alpha)\u001b[0m\n",
      "\u001b[1;32m~\\Google Drive\\Research\\DM Capture\\Code - GitHub\\MasterFunctions_Capture.ipynb\u001b[0m in \u001b[0;36mphotonSumOverRKappa0\u001b[1;34m(element, m_X)\u001b[0m\n",
      "\u001b[1;32m~\\Google Drive\\Research\\DM Capture\\Code - GitHub\\MasterFunctions_Capture.ipynb\u001b[0m in \u001b[0;36mphotonIntDuDErKappa0\u001b[1;34m(element, m_X, rIndex)\u001b[0m\n",
      "\u001b[1;32m~\\Anaconda3\\lib\\site-packages\\scipy\\integrate\\quadpack.py\u001b[0m in \u001b[0;36mdblquad\u001b[1;34m(func, a, b, gfun, hfun, args, epsabs, epsrel)\u001b[0m\n\u001b[0;32m    504\u001b[0m         \u001b[1;32mreturn\u001b[0m \u001b[1;33m[\u001b[0m\u001b[0mgfun\u001b[0m\u001b[1;33m(\u001b[0m\u001b[0margs\u001b[0m\u001b[1;33m[\u001b[0m\u001b[1;36m0\u001b[0m\u001b[1;33m]\u001b[0m\u001b[1;33m)\u001b[0m\u001b[1;33m,\u001b[0m \u001b[0mhfun\u001b[0m\u001b[1;33m(\u001b[0m\u001b[0margs\u001b[0m\u001b[1;33m[\u001b[0m\u001b[1;36m0\u001b[0m\u001b[1;33m]\u001b[0m\u001b[1;33m)\u001b[0m\u001b[1;33m]\u001b[0m\u001b[1;33m\u001b[0m\u001b[0m\n\u001b[0;32m    505\u001b[0m     return nquad(func, [temp_ranges, [a, b]], args=args, \n\u001b[1;32m--> 506\u001b[1;33m             opts={\"epsabs\": epsabs, \"epsrel\": epsrel})\n\u001b[0m\u001b[0;32m    507\u001b[0m \u001b[1;33m\u001b[0m\u001b[0m\n\u001b[0;32m    508\u001b[0m \u001b[1;33m\u001b[0m\u001b[0m\n",
      "\u001b[1;32m~\\Anaconda3\\lib\\site-packages\\scipy\\integrate\\quadpack.py\u001b[0m in \u001b[0;36mnquad\u001b[1;34m(func, ranges, args, opts, full_output)\u001b[0m\n\u001b[0;32m    712\u001b[0m     \u001b[1;32melse\u001b[0m\u001b[1;33m:\u001b[0m\u001b[1;33m\u001b[0m\u001b[0m\n\u001b[0;32m    713\u001b[0m         \u001b[0mopts\u001b[0m \u001b[1;33m=\u001b[0m \u001b[1;33m[\u001b[0m\u001b[0mopt\u001b[0m \u001b[1;32mif\u001b[0m \u001b[0mcallable\u001b[0m\u001b[1;33m(\u001b[0m\u001b[0mopt\u001b[0m\u001b[1;33m)\u001b[0m \u001b[1;32melse\u001b[0m \u001b[0m_OptFunc\u001b[0m\u001b[1;33m(\u001b[0m\u001b[0mopt\u001b[0m\u001b[1;33m)\u001b[0m \u001b[1;32mfor\u001b[0m \u001b[0mopt\u001b[0m \u001b[1;32min\u001b[0m \u001b[0mopts\u001b[0m\u001b[1;33m]\u001b[0m\u001b[1;33m\u001b[0m\u001b[0m\n\u001b[1;32m--> 714\u001b[1;33m     \u001b[1;32mreturn\u001b[0m \u001b[0m_NQuad\u001b[0m\u001b[1;33m(\u001b[0m\u001b[0mfunc\u001b[0m\u001b[1;33m,\u001b[0m \u001b[0mranges\u001b[0m\u001b[1;33m,\u001b[0m \u001b[0mopts\u001b[0m\u001b[1;33m,\u001b[0m \u001b[0mfull_output\u001b[0m\u001b[1;33m)\u001b[0m\u001b[1;33m.\u001b[0m\u001b[0mintegrate\u001b[0m\u001b[1;33m(\u001b[0m\u001b[1;33m*\u001b[0m\u001b[0margs\u001b[0m\u001b[1;33m)\u001b[0m\u001b[1;33m\u001b[0m\u001b[0m\n\u001b[0m\u001b[0;32m    715\u001b[0m \u001b[1;33m\u001b[0m\u001b[0m\n\u001b[0;32m    716\u001b[0m \u001b[1;33m\u001b[0m\u001b[0m\n",
      "\u001b[1;32m~\\Anaconda3\\lib\\site-packages\\scipy\\integrate\\quadpack.py\u001b[0m in \u001b[0;36mintegrate\u001b[1;34m(self, *args, **kwargs)\u001b[0m\n\u001b[0;32m    767\u001b[0m             \u001b[0mf\u001b[0m \u001b[1;33m=\u001b[0m \u001b[0mpartial\u001b[0m\u001b[1;33m(\u001b[0m\u001b[0mself\u001b[0m\u001b[1;33m.\u001b[0m\u001b[0mintegrate\u001b[0m\u001b[1;33m,\u001b[0m \u001b[0mdepth\u001b[0m\u001b[1;33m=\u001b[0m\u001b[0mdepth\u001b[0m\u001b[1;33m+\u001b[0m\u001b[1;36m1\u001b[0m\u001b[1;33m)\u001b[0m\u001b[1;33m\u001b[0m\u001b[0m\n\u001b[0;32m    768\u001b[0m         quad_r = quad(f, low, high, args=args, full_output=self.full_output,\n\u001b[1;32m--> 769\u001b[1;33m                       **opt)\n\u001b[0m\u001b[0;32m    770\u001b[0m         \u001b[0mvalue\u001b[0m \u001b[1;33m=\u001b[0m \u001b[0mquad_r\u001b[0m\u001b[1;33m[\u001b[0m\u001b[1;36m0\u001b[0m\u001b[1;33m]\u001b[0m\u001b[1;33m\u001b[0m\u001b[0m\n\u001b[0;32m    771\u001b[0m         \u001b[0mabserr\u001b[0m \u001b[1;33m=\u001b[0m \u001b[0mquad_r\u001b[0m\u001b[1;33m[\u001b[0m\u001b[1;36m1\u001b[0m\u001b[1;33m]\u001b[0m\u001b[1;33m\u001b[0m\u001b[0m\n",
      "\u001b[1;32m~\\Anaconda3\\lib\\site-packages\\scipy\\integrate\\quadpack.py\u001b[0m in \u001b[0;36mquad\u001b[1;34m(func, a, b, args, full_output, epsabs, epsrel, limit, points, weight, wvar, wopts, maxp1, limlst)\u001b[0m\n\u001b[0;32m    321\u001b[0m     \u001b[1;32mif\u001b[0m \u001b[1;33m(\u001b[0m\u001b[0mweight\u001b[0m \u001b[1;32mis\u001b[0m \u001b[1;32mNone\u001b[0m\u001b[1;33m)\u001b[0m\u001b[1;33m:\u001b[0m\u001b[1;33m\u001b[0m\u001b[0m\n\u001b[0;32m    322\u001b[0m         retval = _quad(func, a, b, args, full_output, epsabs, epsrel, limit,\n\u001b[1;32m--> 323\u001b[1;33m                        points)\n\u001b[0m\u001b[0;32m    324\u001b[0m     \u001b[1;32melse\u001b[0m\u001b[1;33m:\u001b[0m\u001b[1;33m\u001b[0m\u001b[0m\n\u001b[0;32m    325\u001b[0m         retval = _quad_weight(func, a, b, args, full_output, epsabs, epsrel,\n",
      "\u001b[1;32m~\\Anaconda3\\lib\\site-packages\\scipy\\integrate\\quadpack.py\u001b[0m in \u001b[0;36m_quad\u001b[1;34m(func, a, b, args, full_output, epsabs, epsrel, limit, points)\u001b[0m\n\u001b[0;32m    386\u001b[0m     \u001b[1;32mif\u001b[0m \u001b[0mpoints\u001b[0m \u001b[1;32mis\u001b[0m \u001b[1;32mNone\u001b[0m\u001b[1;33m:\u001b[0m\u001b[1;33m\u001b[0m\u001b[0m\n\u001b[0;32m    387\u001b[0m         \u001b[1;32mif\u001b[0m \u001b[0minfbounds\u001b[0m \u001b[1;33m==\u001b[0m \u001b[1;36m0\u001b[0m\u001b[1;33m:\u001b[0m\u001b[1;33m\u001b[0m\u001b[0m\n\u001b[1;32m--> 388\u001b[1;33m             \u001b[1;32mreturn\u001b[0m \u001b[0m_quadpack\u001b[0m\u001b[1;33m.\u001b[0m\u001b[0m_qagse\u001b[0m\u001b[1;33m(\u001b[0m\u001b[0mfunc\u001b[0m\u001b[1;33m,\u001b[0m\u001b[0ma\u001b[0m\u001b[1;33m,\u001b[0m\u001b[0mb\u001b[0m\u001b[1;33m,\u001b[0m\u001b[0margs\u001b[0m\u001b[1;33m,\u001b[0m\u001b[0mfull_output\u001b[0m\u001b[1;33m,\u001b[0m\u001b[0mepsabs\u001b[0m\u001b[1;33m,\u001b[0m\u001b[0mepsrel\u001b[0m\u001b[1;33m,\u001b[0m\u001b[0mlimit\u001b[0m\u001b[1;33m)\u001b[0m\u001b[1;33m\u001b[0m\u001b[0m\n\u001b[0m\u001b[0;32m    389\u001b[0m         \u001b[1;32melse\u001b[0m\u001b[1;33m:\u001b[0m\u001b[1;33m\u001b[0m\u001b[0m\n\u001b[0;32m    390\u001b[0m             \u001b[1;32mreturn\u001b[0m \u001b[0m_quadpack\u001b[0m\u001b[1;33m.\u001b[0m\u001b[0m_qagie\u001b[0m\u001b[1;33m(\u001b[0m\u001b[0mfunc\u001b[0m\u001b[1;33m,\u001b[0m\u001b[0mbound\u001b[0m\u001b[1;33m,\u001b[0m\u001b[0minfbounds\u001b[0m\u001b[1;33m,\u001b[0m\u001b[0margs\u001b[0m\u001b[1;33m,\u001b[0m\u001b[0mfull_output\u001b[0m\u001b[1;33m,\u001b[0m\u001b[0mepsabs\u001b[0m\u001b[1;33m,\u001b[0m\u001b[0mepsrel\u001b[0m\u001b[1;33m,\u001b[0m\u001b[0mlimit\u001b[0m\u001b[1;33m)\u001b[0m\u001b[1;33m\u001b[0m\u001b[0m\n",
      "\u001b[1;32m~\\Anaconda3\\lib\\site-packages\\scipy\\integrate\\quadpack.py\u001b[0m in \u001b[0;36mintegrate\u001b[1;34m(self, *args, **kwargs)\u001b[0m\n\u001b[0;32m    767\u001b[0m             \u001b[0mf\u001b[0m \u001b[1;33m=\u001b[0m \u001b[0mpartial\u001b[0m\u001b[1;33m(\u001b[0m\u001b[0mself\u001b[0m\u001b[1;33m.\u001b[0m\u001b[0mintegrate\u001b[0m\u001b[1;33m,\u001b[0m \u001b[0mdepth\u001b[0m\u001b[1;33m=\u001b[0m\u001b[0mdepth\u001b[0m\u001b[1;33m+\u001b[0m\u001b[1;36m1\u001b[0m\u001b[1;33m)\u001b[0m\u001b[1;33m\u001b[0m\u001b[0m\n\u001b[0;32m    768\u001b[0m         quad_r = quad(f, low, high, args=args, full_output=self.full_output,\n\u001b[1;32m--> 769\u001b[1;33m                       **opt)\n\u001b[0m\u001b[0;32m    770\u001b[0m         \u001b[0mvalue\u001b[0m \u001b[1;33m=\u001b[0m \u001b[0mquad_r\u001b[0m\u001b[1;33m[\u001b[0m\u001b[1;36m0\u001b[0m\u001b[1;33m]\u001b[0m\u001b[1;33m\u001b[0m\u001b[0m\n\u001b[0;32m    771\u001b[0m         \u001b[0mabserr\u001b[0m \u001b[1;33m=\u001b[0m \u001b[0mquad_r\u001b[0m\u001b[1;33m[\u001b[0m\u001b[1;36m1\u001b[0m\u001b[1;33m]\u001b[0m\u001b[1;33m\u001b[0m\u001b[0m\n",
      "\u001b[1;32m~\\Anaconda3\\lib\\site-packages\\scipy\\integrate\\quadpack.py\u001b[0m in \u001b[0;36mquad\u001b[1;34m(func, a, b, args, full_output, epsabs, epsrel, limit, points, weight, wvar, wopts, maxp1, limlst)\u001b[0m\n\u001b[0;32m    321\u001b[0m     \u001b[1;32mif\u001b[0m \u001b[1;33m(\u001b[0m\u001b[0mweight\u001b[0m \u001b[1;32mis\u001b[0m \u001b[1;32mNone\u001b[0m\u001b[1;33m)\u001b[0m\u001b[1;33m:\u001b[0m\u001b[1;33m\u001b[0m\u001b[0m\n\u001b[0;32m    322\u001b[0m         retval = _quad(func, a, b, args, full_output, epsabs, epsrel, limit,\n\u001b[1;32m--> 323\u001b[1;33m                        points)\n\u001b[0m\u001b[0;32m    324\u001b[0m     \u001b[1;32melse\u001b[0m\u001b[1;33m:\u001b[0m\u001b[1;33m\u001b[0m\u001b[0m\n\u001b[0;32m    325\u001b[0m         retval = _quad_weight(func, a, b, args, full_output, epsabs, epsrel,\n",
      "\u001b[1;32m~\\Anaconda3\\lib\\site-packages\\scipy\\integrate\\quadpack.py\u001b[0m in \u001b[0;36m_quad\u001b[1;34m(func, a, b, args, full_output, epsabs, epsrel, limit, points)\u001b[0m\n\u001b[0;32m    386\u001b[0m     \u001b[1;32mif\u001b[0m \u001b[0mpoints\u001b[0m \u001b[1;32mis\u001b[0m \u001b[1;32mNone\u001b[0m\u001b[1;33m:\u001b[0m\u001b[1;33m\u001b[0m\u001b[0m\n\u001b[0;32m    387\u001b[0m         \u001b[1;32mif\u001b[0m \u001b[0minfbounds\u001b[0m \u001b[1;33m==\u001b[0m \u001b[1;36m0\u001b[0m\u001b[1;33m:\u001b[0m\u001b[1;33m\u001b[0m\u001b[0m\n\u001b[1;32m--> 388\u001b[1;33m             \u001b[1;32mreturn\u001b[0m \u001b[0m_quadpack\u001b[0m\u001b[1;33m.\u001b[0m\u001b[0m_qagse\u001b[0m\u001b[1;33m(\u001b[0m\u001b[0mfunc\u001b[0m\u001b[1;33m,\u001b[0m\u001b[0ma\u001b[0m\u001b[1;33m,\u001b[0m\u001b[0mb\u001b[0m\u001b[1;33m,\u001b[0m\u001b[0margs\u001b[0m\u001b[1;33m,\u001b[0m\u001b[0mfull_output\u001b[0m\u001b[1;33m,\u001b[0m\u001b[0mepsabs\u001b[0m\u001b[1;33m,\u001b[0m\u001b[0mepsrel\u001b[0m\u001b[1;33m,\u001b[0m\u001b[0mlimit\u001b[0m\u001b[1;33m)\u001b[0m\u001b[1;33m\u001b[0m\u001b[0m\n\u001b[0m\u001b[0;32m    389\u001b[0m         \u001b[1;32melse\u001b[0m\u001b[1;33m:\u001b[0m\u001b[1;33m\u001b[0m\u001b[0m\n\u001b[0;32m    390\u001b[0m             \u001b[1;32mreturn\u001b[0m \u001b[0m_quadpack\u001b[0m\u001b[1;33m.\u001b[0m\u001b[0m_qagie\u001b[0m\u001b[1;33m(\u001b[0m\u001b[0mfunc\u001b[0m\u001b[1;33m,\u001b[0m\u001b[0mbound\u001b[0m\u001b[1;33m,\u001b[0m\u001b[0minfbounds\u001b[0m\u001b[1;33m,\u001b[0m\u001b[0margs\u001b[0m\u001b[1;33m,\u001b[0m\u001b[0mfull_output\u001b[0m\u001b[1;33m,\u001b[0m\u001b[0mepsabs\u001b[0m\u001b[1;33m,\u001b[0m\u001b[0mepsrel\u001b[0m\u001b[1;33m,\u001b[0m\u001b[0mlimit\u001b[0m\u001b[1;33m)\u001b[0m\u001b[1;33m\u001b[0m\u001b[0m\n",
      "\u001b[1;32m~\\Google Drive\\Research\\DM Capture\\Code - GitHub\\MasterFunctions_Capture.ipynb\u001b[0m in \u001b[0;36mintegrand\u001b[1;34m(E_R, u)\u001b[0m\n",
      "\u001b[1;32m~\\Anaconda3\\lib\\site-packages\\scipy\\interpolate\\polyint.py\u001b[0m in \u001b[0;36m__call__\u001b[1;34m(self, x)\u001b[0m\n\u001b[0;32m     77\u001b[0m         \"\"\"\n\u001b[0;32m     78\u001b[0m         \u001b[0mx\u001b[0m\u001b[1;33m,\u001b[0m \u001b[0mx_shape\u001b[0m \u001b[1;33m=\u001b[0m \u001b[0mself\u001b[0m\u001b[1;33m.\u001b[0m\u001b[0m_prepare_x\u001b[0m\u001b[1;33m(\u001b[0m\u001b[0mx\u001b[0m\u001b[1;33m)\u001b[0m\u001b[1;33m\u001b[0m\u001b[0m\n\u001b[1;32m---> 79\u001b[1;33m         \u001b[0my\u001b[0m \u001b[1;33m=\u001b[0m \u001b[0mself\u001b[0m\u001b[1;33m.\u001b[0m\u001b[0m_evaluate\u001b[0m\u001b[1;33m(\u001b[0m\u001b[0mx\u001b[0m\u001b[1;33m)\u001b[0m\u001b[1;33m\u001b[0m\u001b[0m\n\u001b[0m\u001b[0;32m     80\u001b[0m         \u001b[1;32mreturn\u001b[0m \u001b[0mself\u001b[0m\u001b[1;33m.\u001b[0m\u001b[0m_finish_y\u001b[0m\u001b[1;33m(\u001b[0m\u001b[0my\u001b[0m\u001b[1;33m,\u001b[0m \u001b[0mx_shape\u001b[0m\u001b[1;33m)\u001b[0m\u001b[1;33m\u001b[0m\u001b[0m\n\u001b[0;32m     81\u001b[0m \u001b[1;33m\u001b[0m\u001b[0m\n",
      "\u001b[1;32m~\\Anaconda3\\lib\\site-packages\\scipy\\interpolate\\interpolate.py\u001b[0m in \u001b[0;36m_evaluate\u001b[1;34m(self, x_new)\u001b[0m\n\u001b[0;32m    606\u001b[0m         \u001b[1;31m#    The behavior is set by the bounds_error variable.\u001b[0m\u001b[1;33m\u001b[0m\u001b[1;33m\u001b[0m\u001b[0m\n\u001b[0;32m    607\u001b[0m         \u001b[0mx_new\u001b[0m \u001b[1;33m=\u001b[0m \u001b[0masarray\u001b[0m\u001b[1;33m(\u001b[0m\u001b[0mx_new\u001b[0m\u001b[1;33m)\u001b[0m\u001b[1;33m\u001b[0m\u001b[0m\n\u001b[1;32m--> 608\u001b[1;33m         \u001b[0my_new\u001b[0m \u001b[1;33m=\u001b[0m \u001b[0mself\u001b[0m\u001b[1;33m.\u001b[0m\u001b[0m_call\u001b[0m\u001b[1;33m(\u001b[0m\u001b[0mself\u001b[0m\u001b[1;33m,\u001b[0m \u001b[0mx_new\u001b[0m\u001b[1;33m)\u001b[0m\u001b[1;33m\u001b[0m\u001b[0m\n\u001b[0m\u001b[0;32m    609\u001b[0m         \u001b[1;32mif\u001b[0m \u001b[1;32mnot\u001b[0m \u001b[0mself\u001b[0m\u001b[1;33m.\u001b[0m\u001b[0m_extrapolate\u001b[0m\u001b[1;33m:\u001b[0m\u001b[1;33m\u001b[0m\u001b[0m\n\u001b[0;32m    610\u001b[0m             \u001b[0mbelow_bounds\u001b[0m\u001b[1;33m,\u001b[0m \u001b[0mabove_bounds\u001b[0m \u001b[1;33m=\u001b[0m \u001b[0mself\u001b[0m\u001b[1;33m.\u001b[0m\u001b[0m_check_bounds\u001b[0m\u001b[1;33m(\u001b[0m\u001b[0mx_new\u001b[0m\u001b[1;33m)\u001b[0m\u001b[1;33m\u001b[0m\u001b[0m\n",
      "\u001b[1;32m~\\Anaconda3\\lib\\site-packages\\scipy\\interpolate\\interpolate.py\u001b[0m in \u001b[0;36m_call_linear_np\u001b[1;34m(self, x_new)\u001b[0m\n\u001b[0;32m    545\u001b[0m     \u001b[1;32mdef\u001b[0m \u001b[0m_call_linear_np\u001b[0m\u001b[1;33m(\u001b[0m\u001b[0mself\u001b[0m\u001b[1;33m,\u001b[0m \u001b[0mx_new\u001b[0m\u001b[1;33m)\u001b[0m\u001b[1;33m:\u001b[0m\u001b[1;33m\u001b[0m\u001b[0m\n\u001b[0;32m    546\u001b[0m         \u001b[1;31m# Note that out-of-bounds values are taken care of in self._evaluate\u001b[0m\u001b[1;33m\u001b[0m\u001b[1;33m\u001b[0m\u001b[0m\n\u001b[1;32m--> 547\u001b[1;33m         \u001b[1;32mreturn\u001b[0m \u001b[0mnp\u001b[0m\u001b[1;33m.\u001b[0m\u001b[0minterp\u001b[0m\u001b[1;33m(\u001b[0m\u001b[0mx_new\u001b[0m\u001b[1;33m,\u001b[0m \u001b[0mself\u001b[0m\u001b[1;33m.\u001b[0m\u001b[0mx\u001b[0m\u001b[1;33m,\u001b[0m \u001b[0mself\u001b[0m\u001b[1;33m.\u001b[0m\u001b[0my\u001b[0m\u001b[1;33m)\u001b[0m\u001b[1;33m\u001b[0m\u001b[0m\n\u001b[0m\u001b[0;32m    548\u001b[0m \u001b[1;33m\u001b[0m\u001b[0m\n\u001b[0;32m    549\u001b[0m     \u001b[1;32mdef\u001b[0m \u001b[0m_call_linear\u001b[0m\u001b[1;33m(\u001b[0m\u001b[0mself\u001b[0m\u001b[1;33m,\u001b[0m \u001b[0mx_new\u001b[0m\u001b[1;33m)\u001b[0m\u001b[1;33m:\u001b[0m\u001b[1;33m\u001b[0m\u001b[0m\n",
      "\u001b[1;32m~\\Anaconda3\\lib\\site-packages\\numpy\\lib\\function_base.py\u001b[0m in \u001b[0;36minterp\u001b[1;34m(x, xp, fp, left, right, period)\u001b[0m\n\u001b[0;32m   2037\u001b[0m             \u001b[1;32mreturn\u001b[0m \u001b[0minterp_func\u001b[0m\u001b[1;33m(\u001b[0m\u001b[1;33m[\u001b[0m\u001b[0mx\u001b[0m\u001b[1;33m]\u001b[0m\u001b[1;33m,\u001b[0m \u001b[0mxp\u001b[0m\u001b[1;33m,\u001b[0m \u001b[0mfp\u001b[0m\u001b[1;33m,\u001b[0m \u001b[0mleft\u001b[0m\u001b[1;33m,\u001b[0m \u001b[0mright\u001b[0m\u001b[1;33m)\u001b[0m\u001b[1;33m.\u001b[0m\u001b[0mitem\u001b[0m\u001b[1;33m(\u001b[0m\u001b[1;33m)\u001b[0m\u001b[1;33m\u001b[0m\u001b[0m\n\u001b[0;32m   2038\u001b[0m         \u001b[1;32melse\u001b[0m\u001b[1;33m:\u001b[0m\u001b[1;33m\u001b[0m\u001b[0m\n\u001b[1;32m-> 2039\u001b[1;33m             \u001b[1;32mreturn\u001b[0m \u001b[0minterp_func\u001b[0m\u001b[1;33m(\u001b[0m\u001b[0mx\u001b[0m\u001b[1;33m,\u001b[0m \u001b[0mxp\u001b[0m\u001b[1;33m,\u001b[0m \u001b[0mfp\u001b[0m\u001b[1;33m,\u001b[0m \u001b[0mleft\u001b[0m\u001b[1;33m,\u001b[0m \u001b[0mright\u001b[0m\u001b[1;33m)\u001b[0m\u001b[1;33m\u001b[0m\u001b[0m\n\u001b[0m\u001b[0;32m   2040\u001b[0m     \u001b[1;32melse\u001b[0m\u001b[1;33m:\u001b[0m\u001b[1;33m\u001b[0m\u001b[0m\n\u001b[0;32m   2041\u001b[0m         \u001b[1;32mif\u001b[0m \u001b[0mperiod\u001b[0m \u001b[1;33m==\u001b[0m \u001b[1;36m0\u001b[0m\u001b[1;33m:\u001b[0m\u001b[1;33m\u001b[0m\u001b[0m\n",
      "\u001b[1;31mKeyboardInterrupt\u001b[0m: "
     ]
    }
   ],
   "source": [
    "# These are the values from Table 1 of ArXiV: 1509.07525v2.\n",
    "CCapPaper = {# CCapFlip[(n), alphaX = 0.035, epsilon = 10e-8, m_X = m_XTest, m_A = 1]\n",
    "    'O16' : 4.03e5,\n",
    "    'Si28': 2.24e6,\n",
    "    'Mg24': 1.05e6,\n",
    "    'Fe56': 9.43e7,\n",
    "    'Ca40': 9.06e5,\n",
    "    'P31' : 2.04e4,\n",
    "    'S32' : 2.41e5,\n",
    "    'Ni58': 7.10e6,\n",
    "    'Al27': 1.62e5,\n",
    "    'Cr52': 8.98e5 \n",
    "}\n",
    "\n",
    "CCapAdam0 = {\n",
    "    'O16' : 0,\n",
    "    'Si28': 0,\n",
    "    'Mg24': 0,\n",
    "    'Fe56': 0,\n",
    "    'Ca40': 0,\n",
    "    'P31' : 0,\n",
    "    'S32' : 0,\n",
    "    'Al27': 0,\n",
    "    'Cr52': 0,\n",
    "    'Ni58': 0\n",
    "}\n",
    "\n",
    "CCapAdam1 = {\n",
    "    'O16' : 0,\n",
    "    'Si28': 0,\n",
    "    'Mg24': 0,\n",
    "    'Fe56': 0,\n",
    "    'Ca40': 0,\n",
    "    'P31' : 0,\n",
    "    'S32' : 0,\n",
    "    'Al27': 0,\n",
    "    'Cr52': 0,\n",
    "    'Ni58': 0\n",
    "}\n",
    "\n",
    "CCapAdam2 = {\n",
    "    'O16' : 0,\n",
    "    'Si28': 0,\n",
    "    'Mg24': 0,\n",
    "    'Fe56': 0,\n",
    "    'Ca40': 0,\n",
    "    'P31' : 0,\n",
    "    'S32' : 0,\n",
    "    'Al27': 0,\n",
    "    'Cr52': 0,\n",
    "    'Ni58': 0\n",
    "}\n",
    "\n",
    "m_X = 1000.\n",
    "m_A = 1.\n",
    "epsilon = 10**-8\n",
    "alpha = 1./137\n",
    "alpha_X = 0.035\n",
    "\n",
    "for element in elementList:\n",
    "    CCapAdam0[element] = photonSingleElementCap(element, m_X, m_A, epsilon, alpha, alpha_X)\n",
    "    CCapAdam1[element] = photonSingleElementCapKappa0(element, m_X, alpha) * alpha_X * (epsilon)**2 / (m_A)**4\n",
    "    \n",
    "print ('Complete')"
   ]
  },
  {
   "cell_type": "code",
   "execution_count": null,
   "metadata": {
    "ExecuteTime": {
     "end_time": "2018-03-31T21:13:46.826010Z",
     "start_time": "2018-03-31T21:11:53.836Z"
    },
    "collapsed": true,
    "hidden": true
   },
   "outputs": [],
   "source": [
    "print ('Full Calculation')\n",
    "for element in elementList:\n",
    "    print ('Capture rate of {0}: {1}'.format(element,CCapAdam0[element]))\n",
    "\n",
    "print ()\n",
    "print ('--------------')\n",
    "print ()\n",
    "    \n",
    "print ('Kappa0 Calculation')\n",
    "for element in elementList:\n",
    "    print ('Capture rate of {0}: {1}'.format(element,CCapAdam1[element]))\n",
    "\n",
    "print ()\n",
    "print ('--------------')\n",
    "print ()\n",
    "\n",
    "print ('Error on the full calculation')\n",
    "for element in elementList:\n",
    "    print ('Error on {0}: {1}'.format(element,difference(CCapPaper[element],CCapAdam0[element])))\n",
    "    \n",
    "print ()\n",
    "print ('--------------')\n",
    "print ()\n",
    "    \n",
    "print ('Error on the kappa0 calculation')\n",
    "for element in elementList:\n",
    "    print ('Error on {0}: {1}'.format(element,difference(CCapPaper[element],CCapAdam1[element])))\n",
    "\n",
    "print ()\n",
    "print ('Complete')"
   ]
  },
  {
   "cell_type": "markdown",
   "metadata": {
    "hidden": true
   },
   "source": [
    "### Total Capture Rate: $C_{Cap}$"
   ]
  },
  {
   "cell_type": "markdown",
   "metadata": {
    "hidden": true
   },
   "source": [
    "\n",
    "Finally, we arrive at the full capture rate. \n",
    "\n",
    "\\begin{equation}\n",
    "C_{\\text{cap} } = \\sum_N C_{\\text{N} }^N\n",
    "\\end{equation}\n",
    "\n",
    "CCap gives the total capture rate for dark matter mass $m_X$ in GeV, mediator mass $m_A$ in GeV, kinetic mixing parameter $\\epsilon$, and $\\alpha_X$ as set by the thermal relic.\n",
    "\n",
    "We test the following functions:\n",
    "\n",
    "1).photonCCap\n",
    "\n",
    "2).photonCCapQuick\n",
    "\n",
    "\n",
    "for the following parameters: \n",
    "\\begin{equation}\n",
    "m_X = 1000 \\ \\text{GeV}\n",
    "\\ \\ \\ \\  \n",
    "m_A = 1.0 \\ \\text{GeV}\n",
    "\\ \\ \\ \\\n",
    "\\varepsilon = 10^{-8}\n",
    "\\ \\ \\ \\\n",
    "\\alpha = \\frac{1}{137}\n",
    "\\ \\ \\ \\\n",
    "\\alpha_X = 0.035\n",
    "\\end{equation}\n"
   ]
  },
  {
   "cell_type": "code",
   "execution_count": 9,
   "metadata": {
    "ExecuteTime": {
     "end_time": "2018-03-31T21:21:14.583055Z",
     "start_time": "2018-03-31T21:16:01.897092Z"
    },
    "hidden": true
   },
   "outputs": [
    {
     "name": "stdout",
     "output_type": "stream",
     "text": [
      "Complete\n"
     ]
    }
   ],
   "source": [
    "# m_X = 1000.\n",
    "# m_A = 1.\n",
    "# epsilon = 10**-8\n",
    "# alpha = 1./137\n",
    "# alpha_X = 0.035\n",
    "\n",
    "PaperSum = 0\n",
    "for element in CCapPaper:\n",
    "    PaperSum += CCapPaper[element]\n",
    "    \n",
    "test1 = photonCCap(m_XTest, m_ATest, epsilonTest, alphaTest, alpha_XTest)\n",
    "testkappa0 = photonKappa_0(m_XTest, alphaTest)\n",
    "test2 = photonCCapQuick(m_XTest, m_ATest, epsilonTest, alpha_XTest, testkappa0)\n",
    "\n",
    "print ('Complete')"
   ]
  },
  {
   "cell_type": "code",
   "execution_count": 10,
   "metadata": {
    "ExecuteTime": {
     "end_time": "2018-03-31T21:21:18.228718Z",
     "start_time": "2018-03-31T21:21:18.211090Z"
    },
    "hidden": true
   },
   "outputs": [
    {
     "name": "stdout",
     "output_type": "stream",
     "text": [
      "Full Calculation  : 110482916.9726064\n",
      "Kappa0 Calculation: 110486409.46485089\n",
      "Paper Capture Rate: 107320400.0\n",
      "Difference: 0.02950053731490833\n",
      "Complete\n"
     ]
    }
   ],
   "source": [
    "print ('Full Calculation  : {0}'.format(test1))\n",
    "print ('Kappa0 Calculation: {0}'.format(test2))\n",
    "print ('Paper Capture Rate: {0}'.format(PaperSum))\n",
    "\n",
    "print ('Difference: {0}'.format(difference(PaperSum, test2)))\n",
    "print ('Complete')"
   ]
  },
  {
   "cell_type": "markdown",
   "metadata": {
    "hidden": true
   },
   "source": [
    "### Kappa_0 Check"
   ]
  },
  {
   "cell_type": "markdown",
   "metadata": {
    "hidden": true
   },
   "source": [
    "We define CCapQuick as the full capture calculation using the small recoil energy approximation $\\kappa_0$.\n",
    "\n",
    "\\begin{equation}\n",
    "\\text{photonCcapQuick} = \\frac{\\varepsilon^2}{m_A^4} \\alpha_X \\kappa_0\n",
    "\\end{equation}\n",
    "\n",
    "\n",
    "We expect that by construction, photonCCapQuick = phtonKappa_0 $\\times \\alpha_X \\times \\frac{\\varepsilon^2}{m_{A'}^4}$"
   ]
  },
  {
   "cell_type": "code",
   "execution_count": 15,
   "metadata": {
    "ExecuteTime": {
     "end_time": "2018-03-31T20:56:46.857925Z",
     "start_time": "2018-03-31T20:56:46.838876Z"
    },
    "hidden": true
   },
   "outputs": [
    {
     "ename": "NameError",
     "evalue": "name 'testkappa0' is not defined",
     "output_type": "error",
     "traceback": [
      "\u001b[1;31m---------------------------------------------------------------------------\u001b[0m",
      "\u001b[1;31mNameError\u001b[0m                                 Traceback (most recent call last)",
      "\u001b[1;32m<ipython-input-15-b079a60c5c02>\u001b[0m in \u001b[0;36m<module>\u001b[1;34m()\u001b[0m\n\u001b[1;32m----> 1\u001b[1;33m \u001b[0mprint\u001b[0m \u001b[1;33m(\u001b[0m\u001b[0mtestkappa0\u001b[0m\u001b[1;33m*\u001b[0m\u001b[0malpha_XTest\u001b[0m\u001b[1;33m*\u001b[0m\u001b[0mepsilonTest\u001b[0m\u001b[1;33m**\u001b[0m\u001b[1;36m2\u001b[0m\u001b[1;33m/\u001b[0m\u001b[0mm_ATest\u001b[0m\u001b[1;33m**\u001b[0m\u001b[1;36m4\u001b[0m\u001b[1;33m)\u001b[0m\u001b[1;33m\u001b[0m\u001b[0m\n\u001b[0m\u001b[0;32m      2\u001b[0m \u001b[0mprint\u001b[0m \u001b[1;33m(\u001b[0m\u001b[0mtest2\u001b[0m\u001b[1;33m)\u001b[0m\u001b[1;33m\u001b[0m\u001b[0m\n",
      "\u001b[1;31mNameError\u001b[0m: name 'testkappa0' is not defined"
     ]
    }
   ],
   "source": [
    "print (testkappa0*alpha_XTest*epsilonTest**2/m_ATest**4)\n",
    "print (test2)\n"
   ]
  },
  {
   "cell_type": "code",
   "execution_count": null,
   "metadata": {
    "collapsed": true,
    "hidden": true
   },
   "outputs": [],
   "source": []
  },
  {
   "cell_type": "code",
   "execution_count": null,
   "metadata": {
    "collapsed": true,
    "hidden": true
   },
   "outputs": [],
   "source": []
  },
  {
   "cell_type": "code",
   "execution_count": null,
   "metadata": {
    "collapsed": true,
    "hidden": true
   },
   "outputs": [],
   "source": []
  },
  {
   "cell_type": "markdown",
   "metadata": {
    "hidden": true
   },
   "source": [
    "---------------------"
   ]
  },
  {
   "cell_type": "markdown",
   "metadata": {},
   "source": [
    "# Appendix"
   ]
  },
  {
   "cell_type": "markdown",
   "metadata": {},
   "source": [
    "## A: Python integration analysis for the capture integrand"
   ]
  },
  {
   "cell_type": "markdown",
   "metadata": {},
   "source": [
    "If we try to calculate the capture integral directly in natural units, integrating $u$ from $0$ to $v_{gal}$ and $E_R$ from $E_{min}$ to $E_{max}$, we find that the integral returns zero. The differential cross section $\\frac{d \\sigma_N}{dE_R}$ (eqn09) never vanishes unless one of the model parameters is zero, the incident DM velocity $f(u)$ is never zero for the integraion region over $u$, so the only time the integrand vanishes is at $u=0$, the lower limit of integration. Clearly, there is something more subtle that we need to explore.\n",
    "\n",
    "To simplify the problem, we choose $m_X = 1$ GeV, and calculate values of Silicon (Si28). We completely remove the integrand and begin by plotting the integration bounds $E_{min}$ and $E_{max}$ in red and blue respectively. The valid region of integration from the heaviside function in eqn (1) is thus above the red curve and below the blue curve."
   ]
  },
  {
   "cell_type": "code",
   "execution_count": 3,
   "metadata": {
    "ExecuteTime": {
     "end_time": "2018-03-31T21:39:09.846204Z",
     "start_time": "2018-03-31T21:39:09.631925Z"
    }
   },
   "outputs": [
    {
     "name": "stdout",
     "output_type": "stream",
     "text": [
      "Complete\n"
     ]
    }
   ],
   "source": [
    "#EscVelDictionary =  {  0 < u < vGal/c  |  0 < u < 0.00005 }  (for better resolution)\n",
    "               #key: { [emin] , [emax]  , [emin] , [emax]  }\n",
    "\n",
    "EscVelDictionary = { \n",
    "    'O16' : ([],[],[],[]),\n",
    "    'Si28': ([],[],[],[]),\n",
    "    'Mg24': ([],[],[],[]),\n",
    "    'Fe56': ([],[],[],[]),\n",
    "    'Ca40': ([],[],[],[]),\n",
    "    'P31' : ([],[],[],[]),\n",
    "    'S32' : ([],[],[],[]),\n",
    "    'Ni58': ([],[],[],[]),\n",
    "    'Al27': ([],[],[],[]),\n",
    "    'Cr52': ([],[],[],[]),\n",
    "}\n",
    "\n",
    "##############################\n",
    "# Change the plotting parameters\n",
    "#############################\n",
    "plotElement = 'Fe56'\n",
    "plotm_X = 1000\n",
    "plotrIndex = 490 # Escape Velocity at the surface of the earth\n",
    "\n",
    "\n",
    "#############\n",
    "# Determine Plot Region\n",
    "###############\n",
    "plotuInt = EminEmaxIntersection(plotElement, plotm_X, plotrIndex)\n",
    "plotuIntPlus = plotuInt*(1.3)\n",
    "plotE_RPlus = eMin(plotuIntPlus, plotm_X)\n",
    "\n",
    "# Original and \"Zoomed\" plot ranges\n",
    "pltrange0 = np.linspace(0,(V_gal),200)\n",
    "pltrange1 = np.linspace(0,plotuIntPlus,200)\n",
    "\n",
    "\n",
    "# Populate Plot vectors\n",
    "for element in EscVelDictionary:\n",
    "    for u in pltrange0:\n",
    "        plotEmin0 = eMin(u, plotm_X)\n",
    "        plotEmax0 = eMax(plotElement, plotm_X, plotrIndex, u)\n",
    "#         plotEmin0 = xiMin(u, plotm_X)\n",
    "#         plotEmax0 = xiMax(plotElement, plotm_X, plotrIndex, u)\n",
    "\n",
    "        EscVelDictionary[element][0].append(plotEmin0)\n",
    "        EscVelDictionary[element][1].append(plotEmax0)\n",
    "        \n",
    "for element in EscVelDictionary:\n",
    "    for u in pltrange1:\n",
    "        plotEmin1 = eMin(u, plotm_X)\n",
    "        plotEmax1 = eMax(element, plotm_X, plotrIndex, u)\n",
    "#         plotEmin1 = xiMin(u, plotm_X)\n",
    "#         plotEmax1 = xiMax(element, plotm_X, plotrIndex, u)\n",
    "\n",
    "        EscVelDictionary[element][2].append(plotEmin1)\n",
    "        EscVelDictionary[element][3].append(plotEmax1)\n",
    "        \n",
    "\n",
    "print ('Complete')"
   ]
  },
  {
   "cell_type": "markdown",
   "metadata": {},
   "source": [
    "Recalling that the valid region of integration is *above* the blue curve and *below* the orange curve, it doesn't appear that there is **any** nonzero region looking at figure 1. Therefor, there must be some region very close to the origin where these two functions yield a nonzero integrand. We investigate further by zooming into the origin, as shown in figure 2."
   ]
  },
  {
   "cell_type": "markdown",
   "metadata": {},
   "source": [
    "We can see that only for $u$ between $0$ and $\\approx \\mathcal{O}(10^{-5})$ is the $E_{max}$ actually above $E_{min}$, which means that in the integration limits as stated above, the integrand vanishes for nearly the entire region due to the Heaviside function. \n",
    "\n",
    "To make matters worse, the Python intetegrator  never chooses $u$ values between $0$ and $\\approx 0.00002$, giving the illusion that the integral is zero even though it isn't.\n",
    "\n",
    "The solution is:\n",
    "    - Solve for the intersection point of Emin and Emax, named \"uInt\"\n",
    "    - Integrate u from 0 to uInt\n",
    "    - Integrate E_R from eMin(u) to eMax(u)\n",
    "\n",
    "The values of $E_{min}$ and $E_{max}$ both depend on $u$, so the natural solution is for each $u$ value, \"zoom in\" to the region where the integrand is nonvanishing and calculate the integral in that region. This is acomplished by calculating the $u$ value at the intersection point $E_{min} = E_{max}$.\n",
    "\n",
    "Substituting $ w^2 = u^2 + v_{\\oplus}^2$ gives:\n",
    "\n",
    "$$ \\frac{1}{2}m_X u_{int}^2 = \\frac{2\\mu_N^2}{m_N}(u_{int}^2 + v_{\\oplus}^2) $$\n",
    "\n",
    "solving for the intersection point $u_{int}$ yields:\n",
    "\n",
    "$$ u_{int}^2 = \\frac{2\\mu_N^2}{m_N} \\frac{1}{ \\left( \\frac{1}{2m_X} - \\frac{2\\mu_N^2}{m_N} \\right)  } v_{\\oplus}^2 $$\n",
    "\n",
    "In the function definition, I have made the substitutions:\n",
    "$$ A = \\frac{1}{2}m_X \\ \\text{and} \\ B = 2 \\frac{\\mu_N^2}{m_N}$$\n",
    "\n",
    "yielding: \n",
    "$$ \\text{uInt} = \\sqrt{ \\frac{B}{A-B}}\\,v_{\\oplus} $$\n",
    "The actual coded function is:\n",
    "\n",
    "$$ IntDuDEr = \\int_{0}^{uInt} du \\, u f(u) \\int_{E_{min}}^{E_{Max}} dE_R \\, \\frac{d \\sigma_N}{dE_R}  $$\n",
    "\n",
    "\n",
    "where $\\Theta(\\Delta E)$ is accounted for in the limits of the $u$ integration."
   ]
  },
  {
   "cell_type": "code",
   "execution_count": 4,
   "metadata": {
    "ExecuteTime": {
     "end_time": "2018-03-31T21:39:19.969680Z",
     "start_time": "2018-03-31T21:39:17.943880Z"
    }
   },
   "outputs": [
    {
     "name": "stdout",
     "output_type": "stream",
     "text": [
      "Complete\n"
     ]
    },
    {
     "data": {
      "image/png": "[encoded data removed]",
      "text/plain": [
       "<matplotlib.figure.Figure at 0x206b9700a20>"
      ]
     },
     "metadata": {},
     "output_type": "display_data"
    },
    {
     "data": {
      "image/png": "[encoded data removed]",
      "text/plain": [
       "<matplotlib.figure.Figure at 0x206bcbb2ac8>"
      ]
     },
     "metadata": {},
     "output_type": "display_data"
    }
   ],
   "source": [
    "###############\n",
    "# Define labels, lines, and colors\n",
    "###################\n",
    "\n",
    "plt1xLabel = np.linspace(0,V_gal,5)\n",
    "plt2xLabel = np.linspace(0,plotuIntPlus,5)\n",
    "\n",
    "line0 = np.asarray(EscVelDictionary[plotElement][0])\n",
    "line1 = np.asarray(EscVelDictionary[plotElement][1])\n",
    "\n",
    "line2 = np.asarray(EscVelDictionary[plotElement][2])\n",
    "line3 = np.asarray(EscVelDictionary[plotElement][3])\n",
    "\n",
    "myRed = '#E0BEC0'\n",
    "myGreen = '#BCDDC2'\n",
    "\n",
    "\n",
    "################################\n",
    "# Plots\n",
    "################################\n",
    "\n",
    "# Plot 1\n",
    "# This produces the full plot region of the limits of integration\n",
    "fig4 = plt.figure(figsize = (7,5))\n",
    "ax4 = fig4.add_subplot(111)\n",
    "plt.ticklabel_format(style='sci', axis='both', scilimits=(min(line0),max(line0)))\n",
    "ax4.fill_between(pltrange0, line0, line1, where = line0>line1, facecolor = myRed)\n",
    "ax4.fill_between(pltrange0, line0, line1, where = line0<line1, facecolor = myGreen)\n",
    "ax4.set_xticks(plt1xLabel)\n",
    "line0plot, = plt.plot(pltrange0,line0, label = 'eMin')\n",
    "line1plot, = plt.plot(pltrange0,line1, label = 'eMax')\n",
    "plt.legend([line1plot,line0plot],[r'$E_{R,max}$', r'$E_{R,min}$'], fontsize = 13)\n",
    "plt.xlabel('Velocity: $u$', fontsize = 13)\n",
    "plt.ylabel(r'Recoil Energy: $E_R$ [GeV]', fontsize = 13)\n",
    "plt.title('$m_X$ = {0} GeV'.format(plotm_X), loc = 'right', fontsize = 14)\n",
    "plt.suptitle(r'$\\xi_R$ vs. $u$ for {0}'.format(plotElement), fontsize = 16)\n",
    "plt.grid()\n",
    "\n",
    "\n",
    "# Plot 2\n",
    "# This produces the \"zoomed-in\" version which actually contributes to the integral\n",
    "fig5 = plt.figure(figsize = (7,5))\n",
    "ax5 = fig5.add_subplot(111)\n",
    "plt.ticklabel_format(style='sci', axis='both', scilimits=(min(line2),max(line2)))\n",
    "ax5.fill_between(pltrange1, line2, line3, where=line3>line2, facecolor = myGreen)\n",
    "ax5.fill_between(pltrange1, line2, line3, where=line3<line2, facecolor = myRed)\n",
    "ax5.set_xticks(plt2xLabel)\n",
    "line2plot, = plt.plot(pltrange1, line2, label = 'eMin')\n",
    "line3plot, = plt.plot(pltrange1, line3, label = 'eMax')\n",
    "line6plot  = plt.axhline(y= eMin(plotuInt, plotm_X), xmax = plotuInt/max(pltrange1), color = 'g', linestyle = ':')\n",
    "line7plot  = plt.axvline(x=plotuInt, ymax = (eMin(plotuInt,plotm_X)/plotE_RPlus), color = 'r', linestyle = ':')\n",
    "plt.xlabel('Velocity: $u$', fontsize = 13)\n",
    "plt.ylabel(r'Recoil Energy: $E_R$ [GeV]', fontsize = 13)\n",
    "plt.legend([line3plot,line2plot,line7plot,line6plot],[r'$E_{R,max}$',r'$E_{R,min}$', r'Maximum Velocity', r'Maximum Energy'], fontsize = 13)\n",
    "plt.title('$m_X$ = {0} GeV, Zoomed'.format(plotm_X), fontsize = 14, loc = 'right')\n",
    "plt.suptitle(r'$\\xi_R$ vs. $u$ for {0}'.format(plotElement), fontsize = 16)\n",
    "plt.axis([0, plotuIntPlus, 0, plotE_RPlus])\n",
    "# plt.axis([0,max(pltrange1), 0, max(EscVelDictionary[plotElement][2])])\n",
    "plt.grid()\n",
    "\n",
    "print ('Complete')"
   ]
  },
  {
   "cell_type": "code",
   "execution_count": null,
   "metadata": {
    "collapsed": true
   },
   "outputs": [],
   "source": [
    "fileName4 = input('Filename1: ')\n",
    "fileName5 = input('Filename2: ')\n",
    "fig4.savefig(photonApproxPath(fileName4), dpi = 700)\n",
    "fig5.savefig(photonApproxPath(fileName5), dpi = 700)\n",
    "\n",
    "print ('Complete')"
   ]
  },
  {
   "cell_type": "markdown",
   "metadata": {},
   "source": [
    "### Testing the Intersection Function\n",
    "\n",
    "We calculate the intersection for an given element in the previous cell and then zoom into the region near the intersection"
   ]
  },
  {
   "cell_type": "code",
   "execution_count": 5,
   "metadata": {
    "ExecuteTime": {
     "end_time": "2018-03-31T21:39:27.632735Z",
     "start_time": "2018-03-31T21:39:26.810180Z"
    }
   },
   "outputs": [
    {
     "name": "stdout",
     "output_type": "stream",
     "text": [
      "Intersection (u, E_R) = (1.8073763652112098e-05, 1.633304662762042e-07)\n",
      "Complete\n"
     ]
    },
    {
     "data": {
      "image/png": "[encoded data removed]",
      "text/plain": [
       "<matplotlib.figure.Figure at 0x206bcf00e80>"
      ]
     },
     "metadata": {},
     "output_type": "display_data"
    }
   ],
   "source": [
    "plotXmin = plotuInt - plotuInt*(0.1)\n",
    "plotXmax = plotuInt + plotuInt*(0.1)\n",
    "\n",
    "plotYmin = eMin(plotuInt, plotm_X) - (0.1)*eMin(plotuInt, plotm_X)\n",
    "plotYmax = eMin(plotuInt, plotm_X) + (0.1)*eMin(plotuInt, plotm_X)\n",
    "\n",
    "plt6xLabel = np.linspace(plotXmin, plotXmax, 6)\n",
    "\n",
    "\n",
    "fig6 = plt.figure(figsize = (7,5))\n",
    "ax6 = fig6.add_subplot(111)\n",
    "plt.ticklabel_format(style='sci', axis='both', scilimits=(plotXmin ,plotXmax))\n",
    "ax6.set_xticks(plt6xLabel)\n",
    "line4 = np.asarray(EscVelDictionary[plotElement][2])\n",
    "line5 = np.asarray(EscVelDictionary[plotElement][3])\n",
    "ax6.fill_between(pltrange1, line4, line5, where=line5>line4, facecolor = myGreen)\n",
    "ax6.fill_between(pltrange1, line4, line5, where=line5<line4, facecolor = myRed)\n",
    "line4plot, = plt.plot(pltrange1, line4, label = 'eMin')\n",
    "line5plot, = plt.plot(pltrange1, line5, label = 'eMax')\n",
    "line6plot  = plt.axhline(y= eMin(plotuInt, plotm_X), xmax = 0.5,color = 'g', linestyle = ':')\n",
    "line7plot  = plt.axvline(x=plotuInt, ymax = 0.5, color = 'r', linestyle = ':')\n",
    "plt.xlabel('Velocity: u', fontsize = 13)\n",
    "plt.ylabel('$E_R$ $[GeV]$', fontsize = 13)\n",
    "plt.legend([line4plot,line5plot,line6plot,line7plot],\\\n",
    "           ['$E_{Min}$','$E_{Max}$','Intersection Energy','Intersection Velocity'],\\\n",
    "           loc = 'upper left')\n",
    "plt.suptitle('Intersection Sanity Check for {0}'.format(plotElement), fontsize = 16)\n",
    "plt.title('$m_X$ = {0}'.format(plotm_X), fontsize = 14, loc = 'right')\n",
    "plt.grid()\n",
    "plt.axis([plotXmin, plotXmax, plotYmin, plotYmax])\n",
    "\n",
    "print ('Intersection (u, E_R) = ({0}, {1})'.format(plotuInt, eMin(plotuInt, plotm_X)))\n",
    "print ('Complete')"
   ]
  },
  {
   "cell_type": "code",
   "execution_count": null,
   "metadata": {
    "collapsed": true
   },
   "outputs": [],
   "source": []
  },
  {
   "cell_type": "code",
   "execution_count": null,
   "metadata": {
    "collapsed": true
   },
   "outputs": [],
   "source": []
  },
  {
   "cell_type": "code",
   "execution_count": null,
   "metadata": {
    "collapsed": true
   },
   "outputs": [],
   "source": []
  }
 ],
 "metadata": {
  "kernelspec": {
   "display_name": "Python 3",
   "language": "python",
   "name": "python3"
  },
  "language_info": {
   "codemirror_mode": {
    "name": "ipython",
    "version": 3
   },
   "file_extension": ".py",
   "mimetype": "text/x-python",
   "name": "python",
   "nbconvert_exporter": "python",
   "pygments_lexer": "ipython3",
   "version": "3.6.2"
  },
  "latex_envs": {
   "LaTeX_envs_menu_present": true,
   "autocomplete": true,
   "bibliofile": "biblio.bib",
   "cite_by": "apalike",
   "current_citInitial": 1,
   "eqLabelWithNumbers": true,
   "eqNumInitial": 1,
   "hotkeys": {
    "equation": "Ctrl-E",
    "itemize": "Ctrl-I"
   },
   "labels_anchors": false,
   "latex_user_defs": false,
   "report_style_numbering": false,
   "user_envs_cfg": false
  }
 },
 "nbformat": 4,
 "nbformat_minor": 2
}
