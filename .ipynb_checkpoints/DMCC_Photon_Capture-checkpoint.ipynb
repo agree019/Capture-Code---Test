{
 "cells": [
  {
   "cell_type": "markdown",
   "metadata": {},
   "source": [
    "# Debug Notebook for Photon Model Capture"
   ]
  },
  {
   "cell_type": "markdown",
   "metadata": {},
   "source": [
    "## Initialize the Notebook"
   ]
  },
  {
   "cell_type": "markdown",
   "metadata": {},
   "source": [
    "The following cell allows external notebooks to be imported as modules."
   ]
  },
  {
   "cell_type": "code",
   "execution_count": 1,
   "metadata": {
    "ExecuteTime": {
     "end_time": "2018-03-30T20:25:15.872516Z",
     "start_time": "2018-03-30T20:25:15.038982Z"
    }
   },
   "outputs": [
    {
     "name": "stdout",
     "output_type": "stream",
     "text": [
      "Complete\n"
     ]
    }
   ],
   "source": [
    "import io, os, sys, types\n",
    "\n",
    "from IPython import get_ipython\n",
    "from nbformat import read\n",
    "from IPython.core.interactiveshell import InteractiveShell\n",
    "\n",
    "def find_notebook(fullname, path=None):\n",
    "    \"\"\"find a notebook, given its fully qualified name and an optional path\n",
    "\n",
    "    This turns \"foo.bar\" into \"foo/bar.ipynb\"\n",
    "    and tries turning \"Foo_Bar\" into \"Foo Bar\" if Foo_Bar\n",
    "    does not exist.\n",
    "    \"\"\"\n",
    "    name = fullname.rsplit('.', 1)[-1]\n",
    "    if not path:\n",
    "        path = ['']\n",
    "    for d in path:\n",
    "        nb_path = os.path.join(d, name + \".ipynb\")\n",
    "        if os.path.isfile(nb_path):\n",
    "            return nb_path\n",
    "        # let import Notebook_Name find \"Notebook Name.ipynb\"\n",
    "        nb_path = nb_path.replace(\"_\", \" \")\n",
    "        if os.path.isfile(nb_path):\n",
    "            return nb_path\n",
    "        \n",
    "class NotebookLoader(object):\n",
    "    \"\"\"Module Loader for Jupyter Notebooks\"\"\"\n",
    "    def __init__(self, path=None):\n",
    "        self.shell = InteractiveShell.instance()\n",
    "        self.path = path\n",
    "\n",
    "    def load_module(self, fullname):\n",
    "        \"\"\"import a notebook as a module\"\"\"\n",
    "        path = find_notebook(fullname, self.path)\n",
    "\n",
    "        print (\"importing Jupyter notebook from %s\" % path)\n",
    "\n",
    "        # load the notebook object\n",
    "        with io.open(path, 'r', encoding='utf-8') as f:\n",
    "            nb = read(f, 4)\n",
    "\n",
    "\n",
    "        # create the module and add it to sys.modules\n",
    "        # if name in sys.modules:\n",
    "        #    return sys.modules[name]\n",
    "        mod = types.ModuleType(fullname)\n",
    "        mod.__file__ = path\n",
    "        mod.__loader__ = self\n",
    "        mod.__dict__['get_ipython'] = get_ipython\n",
    "        sys.modules[fullname] = mod\n",
    "\n",
    "        # extra work to ensure that magics that would affect the user_ns\n",
    "        # actually affect the notebook module's ns\n",
    "        save_user_ns = self.shell.user_ns\n",
    "        self.shell.user_ns = mod.__dict__\n",
    "\n",
    "        try:\n",
    "            for cell in nb.cells:\n",
    "                if cell.cell_type == 'code':\n",
    "                    # transform the input to executable Python\n",
    "                    code = self.shell.input_transformer_manager.transform_cell(cell.source)\n",
    "                    # run the code in themodule\n",
    "                    exec(code, mod.__dict__)\n",
    "        finally:\n",
    "            self.shell.user_ns = save_user_ns\n",
    "        return mod\n",
    "\n",
    "    \n",
    "class NotebookFinder(object):\n",
    "    \"\"\"Module finder that locates Jupyter Notebooks\"\"\"\n",
    "    def __init__(self):\n",
    "        self.loaders = {}\n",
    "\n",
    "    def find_module(self, fullname, path=None):\n",
    "        nb_path = find_notebook(fullname, path)\n",
    "        if not nb_path:\n",
    "            return\n",
    "\n",
    "        key = path\n",
    "        if path:\n",
    "            # lists aren't hashable\n",
    "            key = os.path.sep.join(path)\n",
    "\n",
    "        if key not in self.loaders:\n",
    "            self.loaders[key] = NotebookLoader(path)\n",
    "        return self.loaders[key]\n",
    "\n",
    "    \n",
    "sys.meta_path.append(NotebookFinder())\n",
    "\n",
    "\n",
    "print ('Complete')"
   ]
  },
  {
   "cell_type": "markdown",
   "metadata": {
    "heading_collapsed": true
   },
   "source": [
    "### Import Notebooks"
   ]
  },
  {
   "cell_type": "markdown",
   "metadata": {
    "hidden": true
   },
   "source": [
    "This cell imports all required notebooks."
   ]
  },
  {
   "cell_type": "code",
   "execution_count": 2,
   "metadata": {
    "ExecuteTime": {
     "end_time": "2018-03-30T20:25:51.154864Z",
     "start_time": "2018-03-30T20:25:29.338002Z"
    },
    "hidden": true
   },
   "outputs": [
    {
     "name": "stdout",
     "output_type": "stream",
     "text": [
      "importing Jupyter notebook from MasterFunctions_Capture.ipynb\n",
      "importing Jupyter notebook from MasterFunctions_ModelData.ipynb\n",
      "------ MasterFunctions_ModelData Imported ------\n",
      "------ MasterFunctions_Capture Imported ------\n",
      "\n",
      "All notebooks imported\n"
     ]
    }
   ],
   "source": [
    "from MasterFunctions_Capture import *\n",
    "\n",
    "print ()\n",
    "print ('All notebooks imported')"
   ]
  },
  {
   "cell_type": "markdown",
   "metadata": {
    "heading_collapsed": true
   },
   "source": [
    "## Sanity Checks"
   ]
  },
  {
   "cell_type": "markdown",
   "metadata": {
    "hidden": true
   },
   "source": [
    "The following section provides sanity checks to ensure that python is reading in the PREM file correctly."
   ]
  },
  {
   "cell_type": "markdown",
   "metadata": {
    "heading_collapsed": true,
    "hidden": true
   },
   "source": [
    "### Core-Mantle Separator"
   ]
  },
  {
   "cell_type": "markdown",
   "metadata": {
    "hidden": true
   },
   "source": [
    "This cell determines the index at which the core-mantle separator is specified."
   ]
  },
  {
   "cell_type": "code",
   "execution_count": null,
   "metadata": {
    "ExecuteTime": {
     "end_time": "2017-09-26T18:04:50.747945Z",
     "start_time": "2017-09-26T18:04:50.727919Z"
    },
    "collapsed": true,
    "hidden": true
   },
   "outputs": [],
   "source": [
    "print ('Core-Mantle Separator radius: {0} cm'.format(RCrit))\n",
    "\n",
    "for i in range(0,len(radiusList)):\n",
    "    if radiusList[i] == RCrit: \n",
    "        print ('Core-Mantle separator index : {0}'.format(i))\n",
    "        break\n",
    "        \n",
    "print ('Complete')"
   ]
  },
  {
   "cell_type": "markdown",
   "metadata": {
    "heading_collapsed": true,
    "hidden": true
   },
   "source": [
    "### Shell Thickness Check"
   ]
  },
  {
   "cell_type": "markdown",
   "metadata": {
    "hidden": true
   },
   "source": [
    "The array \"radiusList\" stores the list of radii values from the PREM500 file in units of centimeters, not meters as the raw data has. The conversion is found in the MasterFunctions_ModelData file.\n",
    "\n",
    "A note about the zero values: \n",
    "\n",
    "Let R = radiusList\n",
    "\n",
    "radius = [ R[0], R[1], ... , R[490] ]\n",
    "\n",
    "s = [ 0, R[0], R[1], ..., r[489] ]\n",
    "\n",
    "They all have length of 491\n",
    "\n",
    "We define the shell thickness as follows:\n",
    "\n",
    "\\begin{equation}\n",
    "\\Delta R = R[i] - s[i]\n",
    "\\end{equation}\n",
    "\n",
    "Checks out with Flips notebook: 7/8/17"
   ]
  },
  {
   "cell_type": "code",
   "execution_count": null,
   "metadata": {
    "ExecuteTime": {
     "end_time": "2017-09-26T18:04:58.455251Z",
     "start_time": "2017-09-26T18:04:57.986625Z"
    },
    "collapsed": true,
    "hidden": true
   },
   "outputs": [],
   "source": [
    "xRange = range(0,len(radiusList))\n",
    "plt.plot(xRange,deltaRList,'.')\n",
    "plt.suptitle('Shell Thickness vs Radius Index')\n",
    "plt.xlabel('Radius Index')\n",
    "plt.ylabel('Shell Thickness $[cm]$')\n",
    "plt.grid()\n",
    "\n",
    "plt.axis([0,491,1.275e6,1.289e6])\n",
    "\n",
    "print ('Complete')"
   ]
  },
  {
   "cell_type": "markdown",
   "metadata": {
    "heading_collapsed": true,
    "hidden": true
   },
   "source": [
    "### Shell Density Check"
   ]
  },
  {
   "cell_type": "markdown",
   "metadata": {
    "hidden": true
   },
   "source": [
    "In this cell, we plot the density vs radius."
   ]
  },
  {
   "cell_type": "code",
   "execution_count": null,
   "metadata": {
    "ExecuteTime": {
     "end_time": "2017-09-26T18:05:01.145477Z",
     "start_time": "2017-09-26T18:05:00.889170Z"
    },
    "collapsed": true,
    "hidden": true
   },
   "outputs": [],
   "source": [
    "plt.plot(xRange,densityList,'.')\n",
    "plt.xlabel('Radius Index')\n",
    "plt.ylabel('Density $[g/cm^3]$')\n",
    "plt.suptitle('Density vs Radius Index')\n",
    "plt.grid()\n",
    "\n",
    "print ('Complete')"
   ]
  },
  {
   "cell_type": "markdown",
   "metadata": {
    "heading_collapsed": true,
    "hidden": true
   },
   "source": [
    "### Enclosed Mass Check"
   ]
  },
  {
   "cell_type": "markdown",
   "metadata": {
    "hidden": true
   },
   "source": [
    "This cell provides a double check that the enclosed mass from PREM500 matches the mass of earth.\n",
    "\n",
    "Check confirmed: 7/8/17"
   ]
  },
  {
   "cell_type": "code",
   "execution_count": null,
   "metadata": {
    "ExecuteTime": {
     "end_time": "2017-09-26T18:05:04.546366Z",
     "start_time": "2017-09-26T18:05:04.530350Z"
    },
    "collapsed": true,
    "hidden": true,
    "scrolled": false
   },
   "outputs": [],
   "source": [
    "mass = 0.\n",
    "for i in xRange:\n",
    "    mass = mass + 4. * np.pi * radiusList[i]**2 * densityList[i] * deltaRList[i]\n",
    "print ('Enclosed Mass = {0} g'.format(mass))\n",
    "print ('Complete')"
   ]
  },
  {
   "cell_type": "markdown",
   "metadata": {
    "heading_collapsed": true,
    "hidden": true
   },
   "source": [
    "### Shell Mass Check"
   ]
  },
  {
   "cell_type": "markdown",
   "metadata": {
    "hidden": true
   },
   "source": [
    "We create a vector named \"shellMassList\" which returns the mass of the shell at index \"i.\"\n",
    "\n",
    "Check confirmed: 7/8/17"
   ]
  },
  {
   "cell_type": "code",
   "execution_count": null,
   "metadata": {
    "ExecuteTime": {
     "end_time": "2017-09-26T18:05:14.865562Z",
     "start_time": "2017-09-26T18:05:14.545132Z"
    },
    "collapsed": true,
    "hidden": true,
    "scrolled": true
   },
   "outputs": [],
   "source": [
    "plt.plot(xRange,shellMassList,'.')\n",
    "plt.suptitle('Shell Mass vs. Radius Index')\n",
    "plt.xlabel('Radius Index')\n",
    "plt.ylabel('Enclosed Mass $[g]$')\n",
    "plt.grid()\n",
    "\n",
    "# print (shellMassList[0:4])\n",
    "# print (shellMassList[-4:-1])\n",
    "# print (shellMassList)\n",
    "print ('Complete')"
   ]
  },
  {
   "cell_type": "markdown",
   "metadata": {
    "heading_collapsed": true,
    "hidden": true
   },
   "source": [
    "### Enclosed Mass at Each Radius"
   ]
  },
  {
   "cell_type": "markdown",
   "metadata": {
    "hidden": true
   },
   "source": [
    "In this cell, we plot the array \"enclosedMassList,\" which stores the mass enclosed up to index \"i.\"\n",
    "\n",
    "We will later interpolate this into a function.\n",
    "\n",
    "Check confirmed: 7/8/17"
   ]
  },
  {
   "cell_type": "code",
   "execution_count": null,
   "metadata": {
    "ExecuteTime": {
     "end_time": "2017-09-26T18:05:18.463743Z",
     "start_time": "2017-09-26T18:05:18.207401Z"
    },
    "collapsed": true,
    "hidden": true,
    "scrolled": false
   },
   "outputs": [],
   "source": [
    "plt.plot(xRange,enclosedMassList)\n",
    "plt.suptitle('Enclosed Mass vs Radius Index')\n",
    "plt.xlabel('Radius Index')\n",
    "plt.ylabel('Enclosed Mass $[g]$')\n",
    "plt.grid()\n",
    "\n",
    "# print (enclosedMassList[0:4])\n",
    "# print (enclosedMassList[-4:])\n",
    "\n",
    "print ('Complete')"
   ]
  },
  {
   "cell_type": "markdown",
   "metadata": {
    "heading_collapsed": true,
    "hidden": true
   },
   "source": [
    "### Escape Velocity: $v_{\\oplus}(r)$"
   ]
  },
  {
   "cell_type": "markdown",
   "metadata": {
    "hidden": true
   },
   "source": [
    "The escape velocity in natural units is given by:\n",
    "\\begin{equation} \n",
    "V_{esc}^2 = \\frac{2G}{c^2} \\left[ \\int_{0}^{r} \\frac{M_{enc}(s)}{s^2} \\, ds + \\frac{M_{total}}{R_{earth}} \\right]\n",
    "\\end{equation}\n",
    "\n",
    "However, we are given discretized data, so we convert the integral into a discrete sum over the radius of earth:\n",
    "\\begin{equation}\n",
    "V_{esc}^2 = \\frac{2G}{c^2} \\left[ \\sum_i \\frac{M_{enc}(s)}{s^2} \\, \\Delta R + \n",
    "\\frac{M_{total}}{R_{earth}} \\right] \n",
    "\\end{equation}\n",
    "\n",
    "where $M_{enc}(s)$ is the mass enclosed at radius $s$ and $\\Delta R$ is the change in radius going from the previous radius  to the current radius $\\Delta R =$ r[i] - r[i-1].\n",
    "\n",
    "The accumulate function acts just like the \"Accumulate\" in mathematica. It adds up \"Summand\" starting at \"index\" and sums over the length of the radius index.\n",
    "\n",
    "\n",
    "Escape Velocities are stored in the list: escVel2List\n",
    "\n",
    "Note: The value from escVel2List[1] is assigned to the zero-index slot of escVel2List to work around a 'nan' escape velocity at r=0.\n",
    "\n",
    "Check confirmed with EarthChecker_v2: 7/8/17"
   ]
  },
  {
   "cell_type": "code",
   "execution_count": null,
   "metadata": {
    "ExecuteTime": {
     "end_time": "2017-09-26T18:06:41.189311Z",
     "start_time": "2017-09-26T18:06:40.924960Z"
    },
    "collapsed": true,
    "hidden": true,
    "scrolled": true
   },
   "outputs": [],
   "source": [
    "# print (escVel2List[0:4])\n",
    "# print (escVel2List[-4:])\n",
    "        \n",
    "plt.plot(radiusList, escVel2List)\n",
    "plt.xlabel('Radius $[cm]$')\n",
    "plt.ylabel('Squared Escape Velocity')\n",
    "plt.suptitle('Squared Escape Velocity vs. Radius')\n",
    "plt.grid()\n",
    "plt.show()\n",
    "\n",
    "print ('Complete')"
   ]
  },
  {
   "cell_type": "markdown",
   "metadata": {
    "heading_collapsed": true,
    "hidden": true
   },
   "source": [
    "### Number Densities"
   ]
  },
  {
   "cell_type": "markdown",
   "metadata": {
    "ExecuteTime": {
     "end_time": "2017-08-29T00:49:22.522792Z",
     "start_time": "2017-08-29T00:49:22.516774Z"
    },
    "hidden": true
   },
   "source": [
    "The number density $n_N$ for element $\"N\"$ is given by:\n",
    "\\begin{equation}\n",
    "n_N(r) = f_N(r) \\frac{\\rho_{\\oplus}(r)}{m_N}\n",
    "\\end{equation}\n",
    "where $f(N)$ is the mass fraction of element \"N\" given by Table 1, and $\\rho_{\\oplus}$ is the density of earth. We calculate the number density for each element found in the earth at each radius of earth specified by $\\text{radiusList}$ and store the result in an array named $\\text{numDensityList}$.\n",
    "\n",
    "In this cell, we plot the number densities for two elements, Iron and Silicon"
   ]
  },
  {
   "cell_type": "code",
   "execution_count": null,
   "metadata": {
    "ExecuteTime": {
     "end_time": "2017-09-26T18:06:44.867875Z",
     "start_time": "2017-09-26T18:06:44.567474Z"
    },
    "collapsed": true,
    "hidden": true,
    "scrolled": true
   },
   "outputs": [],
   "source": [
    "fig0 = plt.figure()\n",
    "ax0 = fig0.add_subplot(111)\n",
    "set1, = plt.plot(range1, numDensityList('Fe56'),'.')\n",
    "set2, = plt.plot(range1, numDensityList('Si28'),'.')\n",
    "plt.legend([set1,set2],['Iron','Silicon'])\n",
    "\n",
    "plt.suptitle('Number Densities')\n",
    "plt.xlabel('Radius Index')\n",
    "plt.ylabel(r'Number Density $[cm^{-3}]$')\n",
    "plt.grid()\n",
    "plt.show()\n",
    "\n",
    "# print (amu2GeV(atomicNumbers['Fe56']))\n",
    "# print (numDensityList('Fe56'))\n",
    "\n",
    "print ('Complete')"
   ]
  },
  {
   "cell_type": "markdown",
   "metadata": {
    "heading_collapsed": true,
    "hidden": true
   },
   "source": [
    "### Escape Velocity Interpolation Check"
   ]
  },
  {
   "cell_type": "markdown",
   "metadata": {
    "hidden": true
   },
   "source": [
    "In this cell, we check the inerpolation of the escape velocity by plotting the first 40 points of \"escVel2List\" and the resulting interpolation."
   ]
  },
  {
   "cell_type": "code",
   "execution_count": null,
   "metadata": {
    "ExecuteTime": {
     "end_time": "2017-09-26T18:07:14.567278Z",
     "start_time": "2017-09-26T18:07:14.310937Z"
    },
    "collapsed": true,
    "hidden": true
   },
   "outputs": [],
   "source": [
    "alist = range(0,40)\n",
    "tempEsc = []\n",
    "for i in alist:\n",
    "    tempEsc.append(escVel2List[i])\n",
    "    \n",
    "plt.plot(alist,tempEsc,'.',alist,escVel2Interp(radiusList[alist]),'-')\n",
    "plt.xlabel('Radius Index')\n",
    "plt.ylabel('Squared Escape Velocity')\n",
    "plt.suptitle('Escape Velocity vs Radius Index')\n",
    "plt.legend(['List Values','Interpolation'])\n",
    "plt.grid()\n",
    "print ('Complete')"
   ]
  },
  {
   "cell_type": "markdown",
   "metadata": {
    "collapsed": true,
    "hidden": true
   },
   "source": [
    "-----------"
   ]
  },
  {
   "cell_type": "markdown",
   "metadata": {
    "heading_collapsed": true
   },
   "source": [
    "# Capture Rate"
   ]
  },
  {
   "cell_type": "markdown",
   "metadata": {
    "heading_collapsed": true,
    "hidden": true
   },
   "source": [
    "### General Motivation"
   ]
  },
  {
   "cell_type": "markdown",
   "metadata": {
    "hidden": true
   },
   "source": [
    "Our final goal is to calculate:\n",
    "\n",
    "\\begin{equation}\n",
    "C_{cap} = \\sum_N C^N_{cap} = \\sum_N n_X \\, c^N_{cap,red}\n",
    "\\end{equation}\n",
    "\n",
    "Where the single-element capture rate $c^N_{cap,red}$ is the product of three integrals over the volume of earth $d^3r$, the incident DM velocity $d^3u$, and the dark matter recoil energy $E_R$ given by:. \n",
    "\n",
    "\\begin{equation}\n",
    "c^N_{cap,red} = \n",
    "\\int_{0}^{R_{\\oplus}}dr \\, 4 \\pi r^2 n_N(r) \n",
    "\\int_{0}^{V_{gal}} du \\, 4 \\pi u^2 f(u) \\frac{u^2 + v_{\\oplus}^2(r)}{u}\n",
    "\\int_{E_{min}}^{E_{max}} \\, dE_R \\frac{d\\sigma_N}{dE_R} \\Theta (\\Delta E)\n",
    "\\end{equation}\n",
    "\n",
    "where finally the differential cross section as a function of recoil energy $ \\frac{d\\sigma_N}{dE_R} $ is given by:\n",
    "\n",
    "\\begin{equation} \n",
    "\\frac{d\\sigma_N}{dE_R} \\approx \n",
    "8 \\pi \\epsilon^2 \\alpha_X \\alpha Z_N^2 \\frac{m_N}{(u^2 + v_{\\oplus})^2(2m_NE_R + m_{A}^2)^2} \\left | F_N \\right| ^2\n",
    "\\end{equation}\n",
    "\n",
    "\n",
    "We can see that in calculating the capture rate, the $m_A$ and $\\varepsilon$ dependence is carried only in the differential cross section. Further, in the small $E_R$ limit, we have shown that the differential capture rate can be written as:\n",
    "\n",
    "\\begin{align}\n",
    "\\frac{d\\sigma_N}{d\\xi} &\\approx\n",
    "8 \\pi \\alpha_X \\alpha Z_N^2 \\, \\frac{\\varepsilon^2}{m_A^4} \\frac{m_N}{(u^2 + v^2_{\\oplus})} \\left| F_N \\right|^2  \\\\\n",
    "&\\approx \\frac{d\\sigma'_N}{d\\xi_R} \\frac{\\varepsilon^2}{m_A^4}\n",
    "\\end{align}\n",
    "\n",
    "where $\\frac{d\\sigma'_N}{d\\xi_R}$ is now explicitly independent of $m_A$ and $\\varepsilon$. This leads us to construct a quantity $\\kappa_0$ which only depends on $m_X$, $\\alpha$, and $\\alpha_X$, pulling the $\\varepsilon$ and $m_A$ dependence out of the integrals.\n",
    "\n",
    "We define $\\kappa_0$ as follows:\n",
    "\\begin{equation}\n",
    "\\kappa_0(m_X, \\alpha, \\alpha_X) \\equiv \n",
    "\\int_{0}^{R_{\\oplus}}dr \\, 4 \\pi r^2 n_N(r) \n",
    "\\int_{0}^{V_{gal}/c} du \\, 4 \\pi u^2 f(u) \\frac{u^2 + v_{\\oplus}^2(r)}{u}\n",
    "\\int_{\\xi_{min}}^{\\xi_{max}} \\, dE_R \\frac{d\\sigma_N}{d\\xi} \\Theta (\\Delta \\xi)\n",
    "\\end{equation}\n",
    "\n",
    "so that the single-element capture rate can be written as:\n",
    "\\begin{equation}\n",
    "c^N_{cap,red} = \\frac{\\varepsilon^2}{m_A^4}\\kappa_0^N\n",
    "\\end{equation}\n"
   ]
  },
  {
   "cell_type": "markdown",
   "metadata": {
    "heading_collapsed": true,
    "hidden": true
   },
   "source": [
    "### A Note on Testing Functions"
   ]
  },
  {
   "cell_type": "markdown",
   "metadata": {
    "hidden": true
   },
   "source": [
    "The following sections test the full capture calculation and the small recoil energy approximation simulatneously. All functions resulting from the small recoil energy approximation end with \"Kappa0.\"\n",
    "\n",
    "For example the function \"crossSection\" is the full cross section while the function \"crossSectionkappa0\" is the cross section function used only in the calculation of $\\kappa_0$.\n",
    "\n",
    "By construction, we expect \n",
    "\n",
    "\\begin{equation}\n",
    "C_{Cap} \\equiv \\frac{\\varepsilon^2}{m_A^4} \\sum_N n_X \\kappa^N_0\n",
    "\\end{equation}"
   ]
  },
  {
   "cell_type": "markdown",
   "metadata": {
    "heading_collapsed": true,
    "hidden": true
   },
   "source": [
    "### A Note on Computational Efficiency"
   ]
  },
  {
   "cell_type": "markdown",
   "metadata": {
    "hidden": true
   },
   "source": [
    "The motivation for the following calculations is to reduce the actual computation as much as possible by multiplying by all constant factors at the end of the calculation.\n",
    "\n",
    "Factors that are pulled out of calculations will be acounted for in a running total for the length of this section under the heading:\n",
    "\n",
    "##### Factors Removed"
   ]
  },
  {
   "cell_type": "markdown",
   "metadata": {
    "hidden": true
   },
   "source": [
    "## Function Tests\n"
   ]
  },
  {
   "cell_type": "markdown",
   "metadata": {
    "hidden": true
   },
   "source": [
    "\n",
    "For the following tests, we define the following values as reference points:\n",
    "\n",
    "$m_X = 1000$ GeV\n",
    "\n",
    "$m_A = 1$ GeV\n",
    "\n",
    "$\\varepsilon = 10^{-8}$\n",
    "\n",
    "$\\alpha = \\frac{1}{137}$\n",
    "\n",
    "$\\alpha_X = \\alpha_{th} = 0.035$\n",
    "\n",
    "And where these are needed, we set:\n",
    "\n",
    "Element = \"Fe56\"\n",
    "\n",
    "$E_R = 10^{-10}$ GeV\n",
    "\n",
    "index = 100 $\\rightarrow$ r = 129849400 cm\n"
   ]
  },
  {
   "cell_type": "code",
   "execution_count": 3,
   "metadata": {
    "ExecuteTime": {
     "end_time": "2018-03-30T20:25:51.188674Z",
     "start_time": "2018-03-30T20:25:51.159406Z"
    },
    "hidden": true
   },
   "outputs": [
    {
     "name": "stdout",
     "output_type": "stream",
     "text": [
      "Complete\n"
     ]
    }
   ],
   "source": [
    "elementTest = 'Fe56'\n",
    "m_XTest = 1000.\n",
    "m_ATest = 1.\n",
    "epsilonTest = 10**-8\n",
    "alphaTest = 1./137\n",
    "alpha_XTest = 0.035\n",
    "E_RTest = 10**-9\n",
    "indexTest = 100\n",
    "\n",
    "print ('Complete')"
   ]
  },
  {
   "cell_type": "markdown",
   "metadata": {
    "heading_collapsed": true,
    "hidden": true
   },
   "source": [
    "### Helm Form Factor: $|F_N(E_R)|^2$"
   ]
  },
  {
   "cell_type": "markdown",
   "metadata": {
    "hidden": true
   },
   "source": [
    "The Helm Form Factor is given by:\n",
    "$$ \\left| F_N(E_R) \\right| ^2 = e^{[-E_R/E_N]} $$ (see eqn (10) of arXiv: 1509.07525v2)\n",
    "\n",
    "where $E_N \\equiv \\frac{0.114 }{ A_{N}^{5/3}} \\space GeV$ is the characteristic energy of a nucleus with atomic number $A_N$\n",
    "\n",
    "This factor accounts for the effective size of a target nucleus in a DM - nucleus scatter when an incoming DM particle scatters of a nucleus inside the earth."
   ]
  },
  {
   "cell_type": "code",
   "execution_count": null,
   "metadata": {
    "ExecuteTime": {
     "end_time": "2018-03-27T18:46:37.724764Z",
     "start_time": "2018-03-27T18:46:37.043627Z"
    },
    "collapsed": true,
    "hidden": true
   },
   "outputs": [],
   "source": [
    "# testElement = 'O16'\n",
    "energyRange = np.linspace(0, 5e-3, 200)\n",
    "energyVect = []\n",
    "for E in energyRange:\n",
    "    energyVect.append(formFactor2(elementTest, E))\n",
    "    \n",
    "fig = plt.figure()\n",
    "plt.plot((energyRange),(energyVect))\n",
    "plt.xlabel('Recoil Energy $[GeV]$')\n",
    "plt.ylabel(r'$\\log(F_N^2)$')\n",
    "plt.suptitle('Form Factor vs. Recoil Energy')\n",
    "plt.title('{0}'.format(elementTest), loc='right')\n",
    "plt.grid()\n",
    "              \n",
    "print ('Form Factor for {0}: {1}'.format(elementTest, formFactor2(elementTest,E_RTest)))\n",
    "    \n",
    "print ('Complete')"
   ]
  },
  {
   "cell_type": "markdown",
   "metadata": {
    "heading_collapsed": true,
    "hidden": true
   },
   "source": [
    "### Cross Section: $ \\frac{d\\sigma _N}{dE_R} $"
   ]
  },
  {
   "cell_type": "markdown",
   "metadata": {
    "hidden": true
   },
   "source": [
    "The following cell defines the cross section integrand as:\n",
    "\\begin{equation}\n",
    "\\text{photonCrossSection}  = \\frac{m_N}{(2m_N E_R + m_{A} ^2)^2} \\left| F_N \\right|^2\n",
    "\\end{equation}\n",
    "\n",
    "and the cross section used in the $\\kappa_0$ calculation as:\n",
    "\\begin{equation}\n",
    "\\text{photonCrossSectionKappa0} = \\left| F_N \\right| ^2 \n",
    "\\end{equation}\n",
    "\n",
    "where $[\\text{photonCrossSection}] = \\frac{1}{GeV^3}$ and $[\\text{photonCrossSectionKappa0} ]$ is dimensionless.\n",
    "\n",
    "##### Factors Removed (crossSection):  $8\\pi \\alpha_X \\alpha \\epsilon^2 m_N Z_N^2$\n",
    "##### Factors Removed (crossSectionKappa0): $8\\pi \\alpha_X \\alpha \\epsilon^2 \\frac{m_N m_X^3}{m_A^4} Z_N^2$"
   ]
  },
  {
   "cell_type": "code",
   "execution_count": null,
   "metadata": {
    "ExecuteTime": {
     "end_time": "2018-03-27T18:46:43.152857Z",
     "start_time": "2018-03-27T18:46:43.142377Z"
    },
    "collapsed": true,
    "hidden": true
   },
   "outputs": [],
   "source": [
    "test1 = photonCrossSection(elementTest, m_ATest, E_RTest)\n",
    "test2 = photonCrossSectionKappa0(elementTest, E_RTest)\n",
    "\n",
    "print ('Calculation  : {0}'.format(test1))\n",
    "print ('Kappa0Calc   : {0}'.format(test2))\n",
    "\n",
    "print ('Complete')"
   ]
  },
  {
   "cell_type": "markdown",
   "metadata": {
    "heading_collapsed": true,
    "hidden": true
   },
   "source": [
    "### Dark Matter Velocity Distribution"
   ]
  },
  {
   "cell_type": "markdown",
   "metadata": {
    "heading_collapsed": true,
    "hidden": true
   },
   "source": [
    "#### Asymptotic Dark Matter Velocity Distribution"
   ]
  },
  {
   "cell_type": "markdown",
   "metadata": {
    "hidden": true
   },
   "source": [
    "In the following cell we calculate the normalization constant $N_0$ for the incident dark matter velocity distribution:\n",
    "\n",
    "\\begin{equation} \n",
    "\\frac{1}{N_0} = \\int_{0}^{V_{gal}} f(u) \\ du = \\text{tempA} \n",
    "\\end{equation}\n",
    "where $u$ is a naturalized velocity and $f(u)$ is the incident DM velocity distribution which we take to be Maxwell-Boltzmann in shape:\n",
    "\n",
    "\\begin{equation}\n",
    "\\text{DMVelDist} = f(u) =  N_0 \\left[ exp \\left ( \n",
    "\\frac{v^2_{gal}-u^2}{ku^2_0}\\right) -1 \\right] ^k\n",
    "\\Theta(v_{gal} - u)\n",
    "\\end{equation}\n",
    "\n",
    "Typical values for $v_{gal}$ (km/s), $u_0$ (km/s), and $k$ respectively lie between:\n",
    "\n",
    "\\begin{equation}\n",
    "220<u_0<270 \\ \\ \\ \\ \\ \\ \\ \\ 450<v_{gal}<650 \\ \\ \\ \\ \\ \\ \\ \\ 1.5<k<3.5 \n",
    "\\end{equation}\n",
    "\n",
    "For computations, we take $u_0 = 245\\times 10^6$ cm/s, $v_{gal} = 550\\times10^6$ cm/s and $k = 2.5$\n"
   ]
  },
  {
   "cell_type": "markdown",
   "metadata": {
    "heading_collapsed": true,
    "hidden": true
   },
   "source": [
    "#### Earth-frame Dark Matter Velocity Distribution"
   ]
  },
  {
   "cell_type": "markdown",
   "metadata": {
    "hidden": true
   },
   "source": [
    "The modified distribution $ f_{\\oplus}$ is the annular and angular averaged dark matter distribution in the rest frame of Earth given by:\n",
    "\n",
    "\\begin{align}\n",
    "\\text{ModDMVelDist} &= f_{\\oplus}(u) = \\\\ \\nonumber\n",
    "&\\frac{1}{4} \\int_{-1}^{1}\\int_{-1}^{1} d\\cos\\theta \\, d\\cos\\phi \\\n",
    "   f \\left[ \\left( u^2 + (V_{\\odot} + V_{\\oplus}\\cos\\phi)^2 + 2u(V_{\\odot} + V_{\\oplus} \\cos\\phi) \\cos\\theta \\right) ^{1/2} \\right]\n",
    "  \\end{align}\n",
    "  "
   ]
  },
  {
   "cell_type": "markdown",
   "metadata": {
    "heading_collapsed": true,
    "hidden": true
   },
   "source": [
    "#### Normalization Check"
   ]
  },
  {
   "cell_type": "markdown",
   "metadata": {
    "hidden": true
   },
   "source": [
    "This cell serves to give a sanity check on the normalization of the asymptotic distribution"
   ]
  },
  {
   "cell_type": "code",
   "execution_count": 12,
   "metadata": {
    "ExecuteTime": {
     "end_time": "2018-03-30T20:47:03.643584Z",
     "start_time": "2018-03-30T20:47:03.636565Z"
    },
    "hidden": true
   },
   "outputs": [
    {
     "name": "stdout",
     "output_type": "stream",
     "text": [
      "Normalization N_0    : 4347914.767372669\n",
      "Normalization Check  : (1.0000000001088114, 6.433480284819202e-09)\n"
     ]
    }
   ],
   "source": [
    "test1 = Normalization()\n",
    "test2 = integrate.quad(NormalizationChecker,0, V_gal)\n",
    "\n",
    "print ('Normalization N_0    : {0}'.format(test1))\n",
    "print ('Normalization Check  : {0}'.format(test2))"
   ]
  },
  {
   "cell_type": "markdown",
   "metadata": {
    "heading_collapsed": true,
    "hidden": true
   },
   "source": [
    "#### Dark Matter Velocity Plots"
   ]
  },
  {
   "cell_type": "markdown",
   "metadata": {
    "hidden": true
   },
   "source": [
    "The following cell plots the galactic dark matter velocity distribution and the distribution in the earth frame."
   ]
  },
  {
   "cell_type": "code",
   "execution_count": 11,
   "metadata": {
    "ExecuteTime": {
     "end_time": "2018-03-30T20:30:14.660951Z",
     "start_time": "2018-03-30T20:30:11.990854Z"
    },
    "hidden": true
   },
   "outputs": [
    {
     "name": "stdout",
     "output_type": "stream",
     "text": [
      "Complete\n"
     ]
    },
    {
     "data": {
      "image/png": "[encoded data removed]",
      "text/plain": [
       "<matplotlib.figure.Figure at 0x16d8a178d30>"
      ]
     },
     "metadata": {},
     "output_type": "display_data"
    }
   ],
   "source": [
    "velRange = np.linspace(0, V_gal, 200)\n",
    "\n",
    "#######################\n",
    "# Populate Vectors\n",
    "#######################\n",
    "ModDMVect1 = []\n",
    "DMVect1 = []\n",
    "for vel in velRange:\n",
    "    DMVect1.append(DMVelDist(vel))\n",
    "    ModDMVect1.append(ModDMVelDist(vel))\n",
    "    \n",
    "#######################\n",
    "# Plot\n",
    "#######################\n",
    "plt1_xlabel = np.linspace(0, V_gal, 6)\n",
    "\n",
    "fig1 = plt.figure(figsize = (7,5))\n",
    "ax1 = fig1.add_subplot(111)\n",
    "ax1.set_xticks(plt1_xlabel)\n",
    "line1, = plt.plot(velRange,DMVect1)\n",
    "line2, = plt.plot(velRange,ModDMVect1)\n",
    "\n",
    "plt.xlabel(r'u [Dimensionless]', fontsize = 13)\n",
    "plt.ylabel(r'f(u) [Dimensionless]', fontsize = 13)\n",
    "plt.grid()\n",
    "plt.legend([line1, line2,],['Asymptotic Velocity Distribution', 'Angular/ Annular Average'], loc='upper right')\n",
    "plt.suptitle('Dark Matter Velocity Distributions', fontsize = 16)\n",
    "# plt.title('Full Integration Region')\n",
    "\n",
    "\n",
    "print ('Complete')"
   ]
  },
  {
   "cell_type": "markdown",
   "metadata": {
    "hidden": true
   },
   "source": [
    "The following cell saves the velocity distribution plot to the \"Photon/ApproximationPlots\" folder."
   ]
  },
  {
   "cell_type": "code",
   "execution_count": null,
   "metadata": {
    "ExecuteTime": {
     "end_time": "2018-03-27T19:37:22.190613Z",
     "start_time": "2018-03-27T19:37:19.470335Z"
    },
    "collapsed": true,
    "hidden": true
   },
   "outputs": [],
   "source": [
    "# Save the plot if you want\n",
    "filename1 = input('Plot1 Filename: ')\n",
    "\n",
    "fig1.savefig(photonApproxPath(filename1), dpi = 700)\n",
    "\n",
    "print ('Complete')"
   ]
  },
  {
   "cell_type": "markdown",
   "metadata": {
    "heading_collapsed": true,
    "hidden": true
   },
   "source": [
    "#### Modified Distribution Interpolation"
   ]
  },
  {
   "cell_type": "markdown",
   "metadata": {
    "hidden": true
   },
   "source": [
    "We interpolate the modified velocity distribution and plot a few data points to check the interpolation."
   ]
  },
  {
   "cell_type": "code",
   "execution_count": null,
   "metadata": {
    "ExecuteTime": {
     "end_time": "2018-03-27T19:37:09.762904Z",
     "start_time": "2018-03-27T19:36:59.490Z"
    },
    "collapsed": true,
    "hidden": true
   },
   "outputs": [],
   "source": [
    "DMVect2 = []\n",
    "\n",
    "for vel in velRange:\n",
    "    DMVect2.append(ModDMVelInterp(vel))\n",
    "\n",
    "fig1 = plt.figure()\n",
    "ax1 = fig1.add_subplot(111)\n",
    "points1, = plt.plot(velRange, ModDMVect1,'.')\n",
    "line1, = plt.plot(velRange,DMVect2)\n",
    "\n",
    "plt.xlabel(r'Incident Velocity')\n",
    "plt.ylabel(r\"f'(u)\")\n",
    "plt.suptitle('Modified DM Velocity Interpolation Check')\n",
    "plt.legend([points1,line1],['List Values','Interpolation'])\n",
    "plt.axis([0,2.8e-4,1.6e8,1.9e8])\n",
    "plt.grid()\n",
    "\n",
    "print ('Complete')"
   ]
  },
  {
   "cell_type": "markdown",
   "metadata": {
    "heading_collapsed": true,
    "hidden": true
   },
   "source": [
    "### Kinematics"
   ]
  },
  {
   "cell_type": "markdown",
   "metadata": {
    "hidden": true
   },
   "source": [
    "The dimensionfull recoil energy limits are:\n",
    "\\begin{equation} \n",
    "E_{Min} = \\frac{1}{2} m_X u^2 \\ \\ \\ \\ \\ \\ \\ \\ E_{Max} = 2 \\frac{\\mu^2}{m_N} (u^2 + v_{\\oplus}^2)\n",
    "\\end{equation}\n",
    "\n",
    "The dimensionless recoil energy limits used in the $\\kappa_0$ calculation are:\n",
    "\\begin{equation}\n",
    "\\xi_{Min} = \\frac{1}{2}u^2 \\ \\ \\ \\ \\ \\ \\ \\ \\xi_{max} = 2\\frac{\\mu_N^2}{m_Nm_X}(u^2+ v_{\\oplus}^2)\n",
    "\\end{equation}\n",
    "\n",
    "We expect $\\xi_{Min, Max} = \\frac{E_{Min, Max}}{m_X}$"
   ]
  },
  {
   "cell_type": "code",
   "execution_count": null,
   "metadata": {
    "ExecuteTime": {
     "end_time": "2018-03-27T18:49:24.497384Z",
     "start_time": "2018-03-27T18:49:24.477345Z"
    },
    "collapsed": true,
    "hidden": true
   },
   "outputs": [],
   "source": [
    "test1 = eMin(E_RTest, m_XTest)\n",
    "test2 = eMax(elementTest, m_XTest, indexTest, E_RTest)\n",
    "test3 = xiMin(E_RTest, m_XTest)\n",
    "test4 = xiMax(elementTest, m_XTest, indexTest, E_RTest)\n",
    "\n",
    "print ('Emin: {0}'.format(test1))\n",
    "print ('Emax: {0}'.format(test2))\n",
    "print ('Ximin: {0}'.format(test3))\n",
    "print ('Ximax: {0}'.format(test4))\n",
    "\n",
    "print ('Complete')"
   ]
  },
  {
   "cell_type": "markdown",
   "metadata": {
    "heading_collapsed": true,
    "hidden": true
   },
   "source": [
    "### Capture Integral"
   ]
  },
  {
   "cell_type": "markdown",
   "metadata": {
    "hidden": true
   },
   "source": [
    "In the following cell, we calculate the velocity and recoil energy integrals:\n",
    "\n",
    "\\begin{equation}\n",
    "\\text{IntDuDEr} = \\int_{0}^{uInt} du\\space u \\, f(u) \\int_{E_{min}}^{E_{Max}} dE_R \\space \\frac{d \\sigma_N}{dE_R} \n",
    "\\end{equation}\n",
    "\n",
    "with dimension: $[ \\text{IntDuDEr}] = \\frac{1}{GeV^3}$\n",
    "\n",
    "where \n",
    "\\begin{equation}\n",
    "u_{int}^2 = \\frac{2\\mu_N^2}{m_N} \\frac{1}{ \\left( \\frac{1}{2m_X} - \\frac{2\\mu_N^2}{m_N} \\right)  } v_{\\oplus}^2 \n",
    "\\end{equation}\n",
    "\n",
    "See Appendix A for a discussion of calculating this integral.\n",
    "\n",
    "The $\\kappa_0$ calculation uses:\n",
    "\\begin{equation}\n",
    "\\text{IntDuDErKappa0} = \\int_{0}^{uInt} du\\space u \\, f(u) \\int_{\\xi_{min}}^{\\xi_{Max}} d\\xi_{R}\n",
    "\\end{equation}\n",
    "\n",
    "##### Factors Removed (IntDuDEr):  $(4\\pi)(8\\pi \\epsilon^2 \\alpha_X \\alpha m_N Z_N^2)$\n",
    "##### Factors Removed (IntDuDErApprox): $(4\\pi)(8\\pi \\alpha_X \\alpha \\frac{\\epsilon^2}{m_A^4} m_N Z_N^2)$"
   ]
  },
  {
   "cell_type": "code",
   "execution_count": 7,
   "metadata": {
    "ExecuteTime": {
     "end_time": "2018-03-27T20:25:41.062820Z",
     "start_time": "2018-03-27T20:25:41.021672Z"
    },
    "hidden": true
   },
   "outputs": [
    {
     "name": "stdout",
     "output_type": "stream",
     "text": [
      "Calculation: 5.920184210376575e-09\n",
      "Kappa0     : 5.927700272048579e-12\n",
      "Complete\n"
     ]
    }
   ],
   "source": [
    "test1 = photonIntDuDEr(elementTest, m_XTest, m_ATest, indexTest)\n",
    "test2 = photonIntDuDErKappa0(elementTest, m_XTest, indexTest)\n",
    "\n",
    "print ('Calculation: {0}'.format(test1))\n",
    "print ('Kappa0     : {0}'.format(test2))\n",
    "\n",
    "print ('Complete')"
   ]
  },
  {
   "cell_type": "markdown",
   "metadata": {
    "collapsed": true,
    "heading_collapsed": true,
    "hidden": true
   },
   "source": [
    "### Sum Over Radii"
   ]
  },
  {
   "cell_type": "markdown",
   "metadata": {
    "hidden": true
   },
   "source": [
    "In the following cell, we calculate the \"integral\" over the radius of earth:\n",
    "\n",
    "\\begin{equation}\n",
    "\\int^{R_{earth}}_{0} dr\\space 4\\pi r^2 n_N(r) \\int_{0}^{uInt} du\\space 4\\pi u f(u) \\int_{E_{min}}^{E_{Max}} dE_R \\space \\frac{d \\sigma_N}{dE_R} \n",
    "\\end{equation}\n",
    "\n",
    "where we rename the velocity and recoil energy integrals to their respective python function $\\text{IntDuDEr}$:\n",
    "\n",
    "\\begin{equation}\n",
    "\\int^{R_{earth}}_{0} dr\\space 4\\pi r^2 n_N(r) \\space \\text{IntDuDEr}\n",
    "\\end{equation}\n",
    "\n",
    "with dimension $ \\frac{1}{\\text{GeV}^3}$\n",
    "\n",
    "However, instead of calculating this as an integral as stated, we discretize the integral and use the thin-shell approximation:\n",
    "\n",
    "\\begin{equation}\n",
    "\\frac{4}{3}\\pi (r +\\Delta r)^3 - \\frac{4}{3}\\pi r^3 = 4 \\pi r^2 \\Delta r\n",
    "\\end{equation}\n",
    "\n",
    "which yields the discrete summation:\n",
    "\n",
    "\\begin{equation}\n",
    "\\text{SumOverR} = \\sum_{i} r_i^2 n_N(r) \\Delta r_i \\ \\text{IntDuDEr}\n",
    "\\end{equation}\n",
    "\n",
    "where the variables $r_i$, $n_N(r)$, and $\\Delta r_i$ are given by:\n",
    "\n",
    "\\begin{equation} \n",
    "r_i = \\text{radiusList[i]} \n",
    "\\ \\ \\ \\ \\ \\ \\ \\ \n",
    "n_N(r) = \\text{numDensityList(element)[i]}\n",
    "\\ \\ \\ \\ \\ \\ \\ \\  \n",
    "\\Delta r_i = \\text{deltaRList[i]}\n",
    "\\end{equation}\n",
    "\n",
    "It is important to note, $i$ is a pure summation index and all physical quantites depending on i are taken from the respective lists.\n",
    " \n",
    "In the Kappa0 calculation we use:\n",
    "\\begin{equation}\n",
    "\\text{SumOverRKappa0} = \\sum_i r_i^2 n_N(r) \\Delta r_i \\ \\text{IntDuDErKappa0}\n",
    "\\end{equation}\n",
    "\n",
    "##### Removed Factors: $(4\\pi)(4\\pi)(8\\pi \\alpha_X \\alpha \\epsilon^2 m_N Z_N^2)$\n",
    "##### Removed Factors (Kappa0): $(4\\pi)(4\\pi)(8\\pi \\alpha_X \\alpha \\frac{\\epsilon^2}{m_A^4} m_N Z_N^2)$"
   ]
  },
  {
   "cell_type": "code",
   "execution_count": 4,
   "metadata": {
    "ExecuteTime": {
     "end_time": "2018-03-27T20:25:12.407237Z",
     "start_time": "2018-03-27T20:24:57.491065Z"
    },
    "hidden": true
   },
   "outputs": [
    {
     "name": "stdout",
     "output_type": "stream",
     "text": [
      "Complete\n"
     ]
    }
   ],
   "source": [
    "test1 = photonSumOverR(elementTest, m_XTest, m_ATest)\n",
    "test2 = photonSumOverRKappa0(elementTest, m_XTest)\n",
    "\n",
    "print ('Complete')"
   ]
  },
  {
   "cell_type": "code",
   "execution_count": 5,
   "metadata": {
    "ExecuteTime": {
     "end_time": "2018-03-27T20:25:14.805524Z",
     "start_time": "2018-03-27T20:25:14.798994Z"
    },
    "hidden": true
   },
   "outputs": [
    {
     "name": "stdout",
     "output_type": "stream",
     "text": [
      "Calculation: 7.647109309917228e+39\n",
      "Kappa0     : 7.655899228016357e+36\n",
      "Complete\n"
     ]
    }
   ],
   "source": [
    "print ('Calculation: {0}'.format(test1))\n",
    "print ('Kappa0     : {0}'.format(test2))\n",
    "\n",
    "print ('Complete')"
   ]
  },
  {
   "cell_type": "markdown",
   "metadata": {
    "collapsed": true,
    "heading_collapsed": true,
    "hidden": true
   },
   "source": [
    "### Single-Element Capture Rate: $C^N_{Cap}$"
   ]
  },
  {
   "cell_type": "markdown",
   "metadata": {
    "hidden": true
   },
   "source": [
    "The final step is to tack on all of the removed factors and calculate the capture rate for a single element:\n",
    "\n",
    "\\begin{align} \n",
    "\\text{singleElementCap} &= \\left[(4\\pi)(4\\pi)(8\\pi \\epsilon^2 \\alpha_X \\alpha m_N Z_N^2)\\right] n_X \\text{sumOverR} \\\\ \\nonumber\n",
    "&= \\left[2(4\\pi)^3(\\epsilon^2 \\alpha_X \\alpha m_N Z_N^2)\\right] n_X \\text{sumOverR}\n",
    "\\end{align}\n",
    "\n",
    "where $[n_X] = \\frac{1}{cm^3}$ and $[sumOverR] = \\frac{1}{GeV^2}$, so $[fullCap] = \\frac{1}{cm^3 GeV^2}$\n",
    "\n",
    "We manually multiply by the following conversions:\n",
    "$$ \\frac{cm \\cdot GeV}{5.06\\times10^{13}} =  1 \n",
    "\\ \\ \\ \\ \n",
    "\\text{and} \n",
    "\\ \\ \\ \\ \n",
    "\\frac{1.52\\times10^{24}}{GeV\\cdot s} = 1$$\n",
    "\n",
    "In the Kappa0 calculation:\n",
    "\\begin{equation}\n",
    "\\text{singleElementCapKappa0} = m_X^{-2} 8\\pi \\alpha Z_N^2 \\frac{m_N}{m_X} m_X^4 (4\\pi)^2 n_X \\text{SumOverRKappa0}\n",
    "\\end{equation}"
   ]
  },
  {
   "cell_type": "markdown",
   "metadata": {
    "hidden": true
   },
   "source": [
    "In the following cell, we test the following functions:\n",
    "\n",
    "\n",
    "1). $\\text{singleElementCap}$\n",
    "\n",
    "2). $\\text{singleElementCapKappa0}$\n",
    "\n",
    "3). $\\text{singleElementCapKappa0}\\frac{\\varepsilon^2}{m_A^4}$\n",
    "\n",
    "and we expect that $\\text{singleElementCap} =  \\text{singleElementCapKappa0}\\frac{\\varepsilon^2}{m_A^4}$"
   ]
  },
  {
   "cell_type": "code",
   "execution_count": 8,
   "metadata": {
    "ExecuteTime": {
     "end_time": "2018-03-27T20:26:08.325941Z",
     "start_time": "2018-03-27T20:25:54.608709Z"
    },
    "hidden": true
   },
   "outputs": [
    {
     "name": "stdout",
     "output_type": "stream",
     "text": [
      "Complete\n"
     ]
    }
   ],
   "source": [
    "test1 = photonSingleElementCap(elementTest, m_XTest, m_ATest, epsilonTest, alphaTest, alpha_XTest)\n",
    "test2 = photonSingleElementCapKappa0(elementTest, m_XTest, alphaTest)\n",
    "test3 = test2 * alphaTherm(m_XTest,m_ATest) * epsilonTest**2 / m_ATest**4\n",
    "\n",
    "print ('Complete')"
   ]
  },
  {
   "cell_type": "code",
   "execution_count": 9,
   "metadata": {
    "ExecuteTime": {
     "end_time": "2018-03-27T20:26:26.070218Z",
     "start_time": "2018-03-27T20:26:26.060191Z"
    },
    "hidden": true
   },
   "outputs": [
    {
     "name": "stdout",
     "output_type": "stream",
     "text": [
      "Single Element Capture         : 96935116.02002965\n",
      "Single Element Capture(Kappa0) : 95800437.41414623\n",
      "Single Element Kappa0 only     : 2.772758212394951e+25\n",
      "Difference: -0.011705547509211848\n",
      "Complete\n"
     ]
    }
   ],
   "source": [
    "print ('Single Element Capture         : {0}'.format(test1))\n",
    "print ('Single Element Capture(Kappa0) : {0}'.format(test3))\n",
    "print ('Single Element Kappa0 only     : {0}'.format(test2))\n",
    "\n",
    "print ('Difference: {0}'.format(difference(test1,test3)))\n",
    "print ('Complete')"
   ]
  },
  {
   "cell_type": "markdown",
   "metadata": {
    "hidden": true
   },
   "source": [
    "This cell tests:\n",
    "\n",
    "\n",
    "1). singleElementCap\n",
    "\n",
    "2). singleElementCapKapa0\n",
    "\n",
    "for $m_X = 1000$ GeV over the four corners of parameter space and the middle $(\\varepsilon, m_A) = (10^{-7.5}, 5.0)$\n",
    "\n",
    "We expect the $\\kappa_0$ calculation to hold for large $m_A$ and to start to diverge for small $m_A$."
   ]
  },
  {
   "cell_type": "code",
   "execution_count": 10,
   "metadata": {
    "ExecuteTime": {
     "end_time": "2018-03-27T20:27:47.870512Z",
     "start_time": "2018-03-27T20:26:36.635333Z"
    },
    "hidden": true
   },
   "outputs": [
    {
     "name": "stdout",
     "output_type": "stream",
     "text": [
      "Complete\n"
     ]
    }
   ],
   "source": [
    "alpha = 1./137\n",
    "alpha_X = 0.035\n",
    "\n",
    "mx1000 = 1000.\n",
    "\n",
    "mam2 = 0.01\n",
    "ma5 = 5.\n",
    "ma1 = 10.\n",
    "\n",
    "epsilonm10 = 10**-10\n",
    "epsilonm75 = 10**-7.5\n",
    "epsilonm5 = 10**-5\n",
    "\n",
    "a1 = photonSingleElementCap      ('Fe56', mx1000, mam2, epsilonm10, alpha, alpha_X)\n",
    "a2 = photonSingleElementCapKappa0('Fe56', mx1000,                   alpha) * alpha_X * ((epsilonm10)**2/(mam2)**4)\n",
    "\n",
    "b1 = photonSingleElementCap      ('Fe56', mx1000, mam2, epsilonm5 , alpha, alpha_X)\n",
    "b2 = photonSingleElementCapKappa0('Fe56', mx1000,                   alpha) * alpha_X * ((epsilonm5)**2/(mam2)**4)\n",
    "\n",
    "c1 = photonSingleElementCap      ('Fe56', mx1000, ma1 , epsilonm5 , alpha, alpha_X)\n",
    "c2 = photonSingleElementCapKappa0('Fe56', mx1000,                   alpha) * alpha_X * ((epsilonm5)**2/(ma1)**4)\n",
    "\n",
    "d1 = photonSingleElementCap      ('Fe56', mx1000, ma1 , epsilonm10, alpha, alpha_X)\n",
    "d2 = photonSingleElementCapKappa0('Fe56', mx1000,                   alpha) * alpha_X * ((epsilonm10)**2/(ma1)**4)\n",
    "\n",
    "e1 = photonSingleElementCap      ('Fe56', mx1000, ma5 , epsilonm75, alpha, alpha_X)\n",
    "e2 = photonSingleElementCapKappa0('Fe56', mx1000,                   alpha) * alpha_X * ((epsilonm75)**2/(ma5)**4)\n",
    "\n",
    "print ('Complete')"
   ]
  },
  {
   "cell_type": "code",
   "execution_count": 11,
   "metadata": {
    "ExecuteTime": {
     "end_time": "2018-03-27T20:27:55.919510Z",
     "start_time": "2018-03-27T20:27:55.901964Z"
    },
    "hidden": true
   },
   "outputs": [
    {
     "name": "stdout",
     "output_type": "stream",
     "text": [
      "m_A = 0.01, Epsilon = 1e-10 :\n",
      "    Full:   722582089935.9792 \n",
      "    Kappa0: 970465374338.2329\n",
      "---------------\n",
      "m_A = 0.01, Epsilon = 1e-05 :\n",
      "    Full:   7.225820899359792e+21 \n",
      "    Kappa0: 9.704653743382331e+21\n",
      "---------------\n",
      "m_A = 10.0, Epsilon = 1e-05 :\n",
      "    Full:   9693824675.572641 \n",
      "    Kappa0: 9704653743.382332\n",
      "---------------\n",
      "m_A = 10.0, Epsilon = 1e-10 :\n",
      "    Full:   0.9693824675572641 \n",
      "    Kappa0: 0.9704653743382331\n",
      "---------------\n",
      "m_A = 5.0, Epsilon = 3.162277660168379e-08 :\n",
      "    Full:   1551010.4301186088 \n",
      "    Kappa0: 1552744.5989411725\n",
      "Complete\n"
     ]
    }
   ],
   "source": [
    "print ('m_A = {0}, Epsilon = {1} :\\n    Full:   {2} \\n    Kappa0: {3}'.format(mam2,epsilonm10,a1,a2))\n",
    "print ('---------------')\n",
    "print ('m_A = {0}, Epsilon = {1} :\\n    Full:   {2} \\n    Kappa0: {3}'.format(mam2,epsilonm5,b1,b2))\n",
    "print ('---------------')\n",
    "print ('m_A = {0}, Epsilon = {1} :\\n    Full:   {2} \\n    Kappa0: {3}'.format(ma1,epsilonm5,c1,c2))\n",
    "print ('---------------')\n",
    "print ('m_A = {0}, Epsilon = {1} :\\n    Full:   {2} \\n    Kappa0: {3}'.format(ma1,epsilonm10,d1,d2))\n",
    "print ('---------------')\n",
    "print ('m_A = {0}, Epsilon = {1} :\\n    Full:   {2} \\n    Kappa0: {3}'.format(ma5,epsilonm75,e1,e2))\n",
    "\n",
    "print ('Complete')"
   ]
  },
  {
   "cell_type": "markdown",
   "metadata": {
    "hidden": true
   },
   "source": [
    "We can see that for small $m_A$, Kappa0 diverges from the full calculation, since the small recoil energy approximation requited that $2m_NE_R \\ll m_A^2$ but for low $m_A$, the approximation begins to break down."
   ]
  },
  {
   "cell_type": "markdown",
   "metadata": {
    "hidden": true
   },
   "source": [
    "In this cell, we reproduce the capture rates for the various elements in Table 1 of arXiv:1509.07525v2.\n",
    "\n",
    "To match input values, we set:\n",
    "\n",
    "$m_X = 1000$ GeV\n",
    "\n",
    "$m_A = 1$ GeV\n",
    "\n",
    "$\\varepsilon = 10^{-8}$\n",
    "\n",
    "$\\alpha = 1/137$\n",
    "\n",
    "$\\alpha_X = 0.035$\n"
   ]
  },
  {
   "cell_type": "code",
   "execution_count": 12,
   "metadata": {
    "ExecuteTime": {
     "end_time": "2018-03-27T20:30:25.383602Z",
     "start_time": "2018-03-27T20:28:04.364396Z"
    },
    "hidden": true
   },
   "outputs": [
    {
     "name": "stdout",
     "output_type": "stream",
     "text": [
      "Complete\n"
     ]
    }
   ],
   "source": [
    "# These are the values from Table 1 of ArXiV: 1509.07525v2.\n",
    "CCapPaper = {# CCapFlip[(n), alphaX = 0.035, epsilon = 10e-8, m_X = m_XTest, m_A = 1]\n",
    "    'O16' : 4.03e5,\n",
    "    'Si28': 2.24e6,\n",
    "    'Mg24': 1.05e6,\n",
    "    'Fe56': 9.43e7,\n",
    "    'Ca40': 9.06e5,\n",
    "    'P31' : 2.04e4,\n",
    "    'S32' : 2.41e5,\n",
    "    'Ni58': 7.10e6,\n",
    "    'Al27': 1.62e5,\n",
    "    'Cr52': 8.98e5 \n",
    "}\n",
    "\n",
    "CCapAdam0 = {\n",
    "    'O16' : 0,\n",
    "    'Si28': 0,\n",
    "    'Mg24': 0,\n",
    "    'Fe56': 0,\n",
    "    'Ca40': 0,\n",
    "    'P31' : 0,\n",
    "    'S32' : 0,\n",
    "    'Al27': 0,\n",
    "    'Cr52': 0,\n",
    "    'Ni58': 0\n",
    "}\n",
    "\n",
    "CCapAdam1 = {\n",
    "    'O16' : 0,\n",
    "    'Si28': 0,\n",
    "    'Mg24': 0,\n",
    "    'Fe56': 0,\n",
    "    'Ca40': 0,\n",
    "    'P31' : 0,\n",
    "    'S32' : 0,\n",
    "    'Al27': 0,\n",
    "    'Cr52': 0,\n",
    "    'Ni58': 0\n",
    "}\n",
    "\n",
    "CCapAdam2 = {\n",
    "    'O16' : 0,\n",
    "    'Si28': 0,\n",
    "    'Mg24': 0,\n",
    "    'Fe56': 0,\n",
    "    'Ca40': 0,\n",
    "    'P31' : 0,\n",
    "    'S32' : 0,\n",
    "    'Al27': 0,\n",
    "    'Cr52': 0,\n",
    "    'Ni58': 0\n",
    "}\n",
    "\n",
    "m_X = 1000.\n",
    "m_A = 1.\n",
    "epsilon = 10**-8\n",
    "alpha = 1./137\n",
    "alpha_X = 0.035\n",
    "\n",
    "for element in elementList:\n",
    "    CCapAdam0[element] = photonSingleElementCap(element, m_X, m_A, epsilon, alpha, alpha_X)\n",
    "    CCapAdam1[element] = photonSingleElementCapKappa0(element, m_X, alpha) * alpha_X * (epsilon)**2 / (m_A)**4\n",
    "    \n",
    "print ('Complete')"
   ]
  },
  {
   "cell_type": "code",
   "execution_count": 13,
   "metadata": {
    "ExecuteTime": {
     "end_time": "2018-03-27T20:30:47.956923Z",
     "start_time": "2018-03-27T20:30:47.924335Z"
    },
    "hidden": true
   },
   "outputs": [
    {
     "name": "stdout",
     "output_type": "stream",
     "text": [
      "Full Calculation\n",
      "Capture rate of O16: 428207.1168550287\n",
      "Capture rate of Mg24: 1123861.4311637017\n",
      "Capture rate of Al27: 172097.56693898616\n",
      "Capture rate of Si28: 2369728.722003662\n",
      "Capture rate of P31: 20916.12819128281\n",
      "Capture rate of S32: 247841.95005328607\n",
      "Capture rate of Ca40: 963709.850343634\n",
      "Capture rate of Cr52: 929462.8250178562\n",
      "Capture rate of Fe56: 96935116.02002965\n",
      "Capture rate of Ni58: 7291975.362009343\n",
      "\n",
      "--------------\n",
      "\n",
      "Kappa0 Calculation\n",
      "Capture rate of O16: 428221.1745941974\n",
      "Capture rate of Mg24: 1123968.6783835755\n",
      "Capture rate of Al27: 172119.97629451423\n",
      "Capture rate of Si28: 2370087.8098132988\n",
      "Capture rate of P31: 20920.74928305337\n",
      "Capture rate of S32: 247907.443690214\n",
      "Capture rate of Ca40: 964064.8809231704\n",
      "Capture rate of Cr52: 930303.0569725557\n",
      "Capture rate of Fe56: 97046537.4338233\n",
      "Capture rate of Ni58: 7301694.549023448\n",
      "\n",
      "--------------\n",
      "\n",
      "Error on the full calculation\n",
      "Error on O16: 0.06254867705962464\n",
      "Error on Mg24: 0.07034422015590637\n",
      "Error on Al27: 0.062330660117198504\n",
      "Error on Si28: 0.057914608037349116\n",
      "Error on P31: 0.025300401533471028\n",
      "Error on S32: 0.02838983424600029\n",
      "Error on Ca40: 0.06369740656030246\n",
      "Error on Cr52: 0.03503655347200022\n",
      "Error on Fe56: 0.027943966278151103\n",
      "Error on Ni58: 0.027038783381597573\n",
      "\n",
      "Complete\n"
     ]
    }
   ],
   "source": [
    "print ('Full Calculation')\n",
    "for element in elementList:\n",
    "    print ('Capture rate of {0}: {1}'.format(element,CCapAdam0[element]))\n",
    "\n",
    "print ()\n",
    "print ('--------------')\n",
    "print ()\n",
    "    \n",
    "print ('Kappa0 Calculation')\n",
    "for element in elementList:\n",
    "    print ('Capture rate of {0}: {1}'.format(element,CCapAdam1[element]))\n",
    "\n",
    "print ()\n",
    "print ('--------------')\n",
    "print ()\n",
    "\n",
    "print ('Error on the full calculation')\n",
    "for element in elementList:\n",
    "    print ('Error on {0}: {1}'.format(element,difference(CCapPaper[element],CCapAdam0[element])))\n",
    "\n",
    "print ()\n",
    "print ('Complete')"
   ]
  },
  {
   "cell_type": "markdown",
   "metadata": {
    "heading_collapsed": true,
    "hidden": true
   },
   "source": [
    "### Total Capture Rate: $C_{Cap}$"
   ]
  },
  {
   "cell_type": "markdown",
   "metadata": {
    "hidden": true
   },
   "source": [
    "\n",
    "Finally, we arrive at the full capture rate. \n",
    "\n",
    "\\begin{equation}\n",
    "C_{\\text{cap} } = \\sum_N C_{\\text{N} }^N\n",
    "\\end{equation}\n",
    "\n",
    "CCap gives the total capture rate for dark matter mass $m_X$ in GeV, mediator mass $m_A$ in GeV, kinetic mixing parameter $\\epsilon$, and $\\alpha_X$ as set by the thermal relic.\n",
    "\n",
    "We test the following functions:\n",
    "\n",
    "1).photonCCap\n",
    "\n",
    "2).photonCCapQuick\n",
    "\n",
    "\n",
    "for the following parameters: \n",
    "\\begin{equation}\n",
    "m_X = 1000 \\ \\text{GeV}\n",
    "\\ \\ \\ \\  \n",
    "m_A = 1.0 \\ \\text{GeV}\n",
    "\\ \\ \\ \\\n",
    "\\varepsilon = 10^{-8}\n",
    "\\ \\ \\ \\\n",
    "\\alpha = \\frac{1}{137}\n",
    "\\ \\ \\ \\\n",
    "\\alpha_X = 0.035\n",
    "\\end{equation}\n"
   ]
  },
  {
   "cell_type": "code",
   "execution_count": 14,
   "metadata": {
    "ExecuteTime": {
     "end_time": "2018-03-27T20:33:31.259310Z",
     "start_time": "2018-03-27T20:31:02.952541Z"
    },
    "hidden": true
   },
   "outputs": [
    {
     "name": "stdout",
     "output_type": "stream",
     "text": [
      "Complete\n"
     ]
    }
   ],
   "source": [
    "# m_X = 1000.\n",
    "# m_A = 1.\n",
    "# epsilon = 10**-8\n",
    "# alpha = 1./137\n",
    "# alpha_X = 0.035\n",
    "\n",
    "PaperSum = 0\n",
    "for element in CCapPaper:\n",
    "    PaperSum += CCapPaper[element]\n",
    "    \n",
    "test1 = photonCCap(m_XTest, m_ATest, epsilonTest, alphaTest, alpha_XTest)\n",
    "testkappa0 = photonKappa_0(m_XTest, alphaTest)\n",
    "test2 = photonCCapQuick(m_XTest, m_ATest, epsilonTest, alpha_XTest, testkappa0)\n",
    "\n",
    "print ('Complete')"
   ]
  },
  {
   "cell_type": "code",
   "execution_count": 15,
   "metadata": {
    "ExecuteTime": {
     "end_time": "2018-03-27T20:33:33.261517Z",
     "start_time": "2018-03-27T20:33:33.252994Z"
    },
    "hidden": true
   },
   "outputs": [
    {
     "name": "stdout",
     "output_type": "stream",
     "text": [
      "Full Calculation  : 110482916.97260644\n",
      "Kappa0 Calculation: 110605825.75280133\n",
      "Paper Capture Rate: 107320400.0\n",
      "Difference: 0.030613245504129027\n",
      "Complete\n"
     ]
    }
   ],
   "source": [
    "print ('Full Calculation  : {0}'.format(test1))\n",
    "print ('Kappa0 Calculation: {0}'.format(test2))\n",
    "print ('Paper Capture Rate: {0}'.format(PaperSum))\n",
    "\n",
    "print ('Difference: {0}'.format(difference(PaperSum, test2)))\n",
    "print ('Complete')"
   ]
  },
  {
   "cell_type": "markdown",
   "metadata": {
    "heading_collapsed": true,
    "hidden": true
   },
   "source": [
    "### Kappa_0 Check"
   ]
  },
  {
   "cell_type": "markdown",
   "metadata": {
    "hidden": true
   },
   "source": [
    "We define CCapQuick as the full capture calculation using the small recoil energy approximation $\\kappa_0$.\n",
    "\n",
    "\\begin{equation}\n",
    "\\text{photonCcapQuick} = \\frac{\\varepsilon^2}{m_A^4} \\alpha_X \\kappa_0\n",
    "\\end{equation}\n",
    "\n",
    "\n",
    "We expect that by construction, photonCCapQuick = phtonKappa_0 $\\times \\alpha_X \\times \\frac{\\varepsilon^2}{m_{A'}^4}$"
   ]
  },
  {
   "cell_type": "code",
   "execution_count": 16,
   "metadata": {
    "ExecuteTime": {
     "end_time": "2018-03-27T20:33:44.041587Z",
     "start_time": "2018-03-27T20:33:44.033562Z"
    },
    "hidden": true
   },
   "outputs": [
    {
     "name": "stdout",
     "output_type": "stream",
     "text": [
      "110605825.753\n",
      "110605825.753\n"
     ]
    }
   ],
   "source": [
    "print (testkappa0*alpha_XTest*epsilonTest**2/m_ATest**4)\n",
    "print (test2)"
   ]
  },
  {
   "cell_type": "code",
   "execution_count": null,
   "metadata": {
    "collapsed": true,
    "hidden": true
   },
   "outputs": [],
   "source": []
  }
 ],
 "metadata": {
  "kernelspec": {
   "display_name": "Python 3",
   "language": "python",
   "name": "python3"
  },
  "language_info": {
   "codemirror_mode": {
    "name": "ipython",
    "version": 3
   },
   "file_extension": ".py",
   "mimetype": "text/x-python",
   "name": "python",
   "nbconvert_exporter": "python",
   "pygments_lexer": "ipython3",
   "version": "3.6.2"
  },
  "latex_envs": {
   "LaTeX_envs_menu_present": true,
   "autocomplete": true,
   "bibliofile": "biblio.bib",
   "cite_by": "apalike",
   "current_citInitial": 1,
   "eqLabelWithNumbers": true,
   "eqNumInitial": 1,
   "hotkeys": {
    "equation": "Ctrl-E",
    "itemize": "Ctrl-I"
   },
   "labels_anchors": false,
   "latex_user_defs": false,
   "report_style_numbering": false,
   "user_envs_cfg": false
  }
 },
 "nbformat": 4,
 "nbformat_minor": 2
}
