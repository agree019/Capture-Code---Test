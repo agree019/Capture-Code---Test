{
 "cells": [
  {
   "cell_type": "markdown",
   "metadata": {},
   "source": [
    "# Debug Notebook\n",
    "\n",
    "This notebook serves as a debug workspace so I can keep the other notebooks clean.\n",
    "All function definitions and capture code preamble is loaded into this workbook to replicate a test space."
   ]
  },
  {
   "cell_type": "markdown",
   "metadata": {},
   "source": [
    "## Initialize"
   ]
  },
  {
   "cell_type": "code",
   "execution_count": 2,
   "metadata": {
    "collapsed": false
   },
   "outputs": [
    {
     "name": "stdout",
     "output_type": "stream",
     "text": [
      "Complete\n"
     ]
    }
   ],
   "source": [
    "import numpy as np\n",
    "import scipy as sp\n",
    "import pandas\n",
    "from scipy import interpolate\n",
    "import random\n",
    "import time\n",
    "\n",
    "import scipy.integrate as integrate\n",
    "import matplotlib.pyplot as plt\n",
    "%matplotlib inline\n",
    "\n",
    "import timeit as T\n",
    "from IPython.core.debugger import Tracer\n",
    "# write 'Tracer()()' anywhere you want to start the debugger\n",
    "\n",
    "\n",
    "print 'Complete'"
   ]
  },
  {
   "cell_type": "markdown",
   "metadata": {},
   "source": [
    "## Importing Earth Density Data (PREM500)\n",
    "The raw data from PREM500 has already been converted into MKS units, however, the table where that data came from (see [51]) gives the radius in $km$ and density in $g/cm^3$"
   ]
  },
  {
   "cell_type": "code",
   "execution_count": 3,
   "metadata": {
    "collapsed": false
   },
   "outputs": [
    {
     "name": "stdout",
     "output_type": "stream",
     "text": [
      "Complete\n"
     ]
    }
   ],
   "source": [
    "# Radius is column 1, Density is column 2\n",
    "# Radius in meters: verified by REF [51] Table 1 pg. 312\n",
    "# Density in grams/cm^3, verified by REF [51] Table 1 pg. 312\n",
    "\n",
    "# For me later on: n_N.iat[i,j] # Access the element at the 'ith' row and 'jth' column of n_N starting at (i,j) = (0,0)\n",
    "\n",
    "# This section grabs the data and converts it to MKS units\n",
    "data = pandas.read_csv('PREM500.csv', sep = ',')\n",
    "radiusTemp1 = data[[0]]  # Radius in Meters\n",
    "densityTemp1 = data[[1]] # Density in g/cm^3\n",
    "\n",
    "\n",
    "# The interpolation function doesn't like these objects, so they need to be massaged into 1-D numpy arrays\n",
    "radiusList = np.asarray(radiusTemp1).squeeze()\n",
    "densityList = np.asarray(densityTemp1).squeeze()\n",
    "\n",
    "print 'Complete'"
   ]
  },
  {
   "cell_type": "markdown",
   "metadata": {},
   "source": [
    "### Shell Thickness Check\n",
    "For my reference:\n",
    "radius = [0, r[1], r[2], ... , r[504] ]\n",
    "\n",
    "radius2 = [0, r[1], r[2], ... , r[503] ]\n",
    "\n",
    "s = [0, 0, r[1], r[2], ..., r[503] ]\n",
    "\n",
    "They all have length of 504"
   ]
  },
  {
   "cell_type": "code",
   "execution_count": 4,
   "metadata": {
    "collapsed": false
   },
   "outputs": [
    {
     "data": {
      "image/png": "[encoded data removed]",
      "text/plain": [
       "<matplotlib.figure.Figure at 0xa92c550>"
      ]
     },
     "metadata": {},
     "output_type": "display_data"
    },
    {
     "name": "stdout",
     "output_type": "stream",
     "text": [
      "Complete\n"
     ]
    }
   ],
   "source": [
    "radius2 = radiusList[0:len(radiusList)-1]\n",
    "s = [0]\n",
    "for i in radius2:\n",
    "    s.append(i)\n",
    "\n",
    "deltaRList = radiusList[0:len(radiusList)] - s[0:len(s)]\n",
    "\n",
    "xRange = range(0,len(radiusList))\n",
    "\n",
    "plt.plot(xRange,deltaRList,'.')\n",
    "plt.title('Shell Thickness vs Radius Index')\n",
    "plt.xlabel('Radius Index')\n",
    "plt.ylabel('Shell Thickness (m)')\n",
    "plt.axis([0,500,12750,12880])\n",
    "plt.show()\n",
    "\n",
    "\n",
    "print 'Complete'"
   ]
  },
  {
   "cell_type": "markdown",
   "metadata": {},
   "source": [
    "## Atomic Definitions and Conversions"
   ]
  },
  {
   "cell_type": "code",
   "execution_count": 5,
   "metadata": {
    "collapsed": false
   },
   "outputs": [
    {
     "name": "stdout",
     "output_type": "stream",
     "text": [
      "Complete\n"
     ]
    }
   ],
   "source": [
    "################################################################################\n",
    "# Conversions\n",
    "################################################################################\n",
    "\n",
    "def amu2Gev(par1):\n",
    "#     return 0.9314941 * par1 # GeV\n",
    "    return 0.938272 * par1 # Taken directly from Flip notebook\n",
    "\n",
    "def amu2g(par1):\n",
    "    return 1.66053892*10**-24 * par1 # g\n",
    "\n",
    "def GeV2s(par1):\n",
    "    return 1.52*10**24 * par1 # s^-1\n",
    "\n",
    "def s2GeV(par1):\n",
    "    return 1.52*10**24 * par1 # GeV^-1\n",
    "\n",
    "def GeV2cm(par1):\n",
    "    return 5.06*10**13 * par1 # cm^-1\n",
    "\n",
    "def cm2GeV(par1):\n",
    "    return 5.06*10**13 * par1 # GeV^-1\n",
    "\n",
    "def KeltoGeV(par1):\n",
    "    return 8.62*10**-14 * par1 # GeV\n",
    "\n",
    "def s2yr(par1):\n",
    "    return 3.16888*10**-8 * par1 # Yr\n",
    "\n",
    "def ev2Gev(par1):\n",
    "    return par1 * 10**6 # GeV\n",
    "\n",
    "def eV2kg(par1):\n",
    "    return 1.782661845* 10**-36 * par1 # kg\n",
    "\n",
    "def g2Gev(par1):\n",
    "    return 5.609588845*10**32 * par1 #GeV\n",
    "\n",
    "\n",
    "################################################################################\n",
    "# Atomic Definitions\n",
    "################################################################################\n",
    "# Access dictionary values as: dictionaryName['key']\n",
    "# Dictionaries are sorted by value as:\n",
    "    # for key, value in sorted(dicName.iteritems(), key=lambda (k,v): (v,k)):\n",
    "\n",
    "# Dictionaries must be called as:\n",
    "\n",
    "    # def testfunction(element):\n",
    "    #     return atomicNumbers[element]\n",
    "    # print testfunction('H1')\n",
    "    \n",
    "elementList = [ # These are the elements for which we have mass fraction data\n",
    "    'O16' ,\n",
    "    'Si28',\n",
    "    'Mg24',\n",
    "    'Fe56',\n",
    "    'Ca40',\n",
    "    'P31' ,\n",
    "    'Na11',\n",
    "    'S32' ,\n",
    "    'Ni58',\n",
    "    'Al27',\n",
    "    'Cr52',\n",
    "]\n",
    "\n",
    "atomicNumbers = { # This is 'A' just below eqn 10\n",
    "    'H1': 1.,\n",
    "    'He4': 4.,\n",
    "    'He3': 3.,\n",
    "    'Na11': 23.,\n",
    "    'C12': 12.,\n",
    "    'C13':13.,\n",
    "    'N14':14.,\n",
    "    'N15':15.,\n",
    "    'O16':16.,\n",
    "    'O17':17. ,\n",
    "    'O18':18.,\n",
    "    'Ne20':20.,\n",
    "    'Na23':23.,\n",
    "    'Mg24':24., # 78%\n",
    "    'Al27':27.,\n",
    "    'Si28':28.,\n",
    "    'P31':30.,\n",
    "    'S32':32.,\n",
    "    'Cl35':35., # 75%\n",
    "    'Ar40':40.,\n",
    "    'K39':39.,\n",
    "    'Ca40':40.,\n",
    "    'Sc45':45.,\n",
    "    'Ti48':48., # 74%\n",
    "    'V51':51.,\n",
    "    'Cr52':52., # 83%\n",
    "    'Mn55':55.,\n",
    "    'Fe56':56.,\n",
    "    'Co59':59.,\n",
    "    'Ni58':59., # 58%\n",
    "}\n",
    "\n",
    "nProtons = { # This is Z_N\n",
    "    'H1':1.,\n",
    "    'He3':2.,\n",
    "    'He4':2.,\n",
    "    'He3':2.,\n",
    "    'Na11': 11.,\n",
    "    'C12':6.,\n",
    "    'C13':6.,\n",
    "    'N14':7.,\n",
    "    'N15':7.,\n",
    "    'O16':8.,\n",
    "    'O17':8.,\n",
    "    'O18':8.,\n",
    "    'Ne20':10.,\n",
    "    'Na23':11.,\n",
    "    'Mg24':12., # 78%\n",
    "    'Al27':13.,\n",
    "    'Si28':14.,\n",
    "    'P31':15.,\n",
    "    'S32':16.,\n",
    "    'Cl35':17., # 75%\n",
    "    'Ar40':18.,\n",
    "    'K39':19.,\n",
    "    'Ca40':20.,\n",
    "    'Sc45':21.,\n",
    "    'Ti48':22., # 74%\n",
    "    'V51':23.,\n",
    "    'Cr52':24., # 83%\n",
    "    'Mn55':25.,\n",
    "    'Fe56':26.,\n",
    "    'Co59':27.,\n",
    "    'Ni58':28., # 58%\n",
    "}\n",
    "\n",
    "# Mass Fraction Dictionary\n",
    "coreMassFrac = {\n",
    "    'Na11': 0.0,\n",
    "    'O16' : 0.0,\n",
    "    'Mg24': 0.0,\n",
    "    'Al27': 0.0,\n",
    "    'Si28': 0.06,\n",
    "    'P31' : 0.002,\n",
    "    'S32' : 0.019,\n",
    "    'Ca40': 0.0,\n",
    "    'Cr52': 0.009,\n",
    "    'Fe56': 0.855,\n",
    "    'Ni58': 0.052,\n",
    "}\n",
    "\n",
    "mantleMassFrac = {\n",
    "    'Na11': 0.0027,\n",
    "    'O16' : 0.440,\n",
    "    'Mg24': 0.228,\n",
    "    'Al27': 0.0235,\n",
    "    'Si28': 0.210,\n",
    "    'P31' : 0.00009,\n",
    "    'S32' : 0.00025,\n",
    "    'Ca40': 0.0253,\n",
    "    'Cr52': 0.0026,\n",
    "    'Fe56': 0.0626,\n",
    "    'Ni58': 0.00196,\n",
    "}\n",
    "print 'Complete'"
   ]
  },
  {
   "cell_type": "code",
   "execution_count": 8,
   "metadata": {
    "collapsed": false
   },
   "outputs": [
    {
     "name": "stdout",
     "output_type": "stream",
     "text": [
      "Complete\n"
     ]
    }
   ],
   "source": [
    "################################################################################\n",
    "# Constants\n",
    "################################################################################\n",
    "global c\n",
    "global G\n",
    "global M_E\n",
    "global R_earth\n",
    "global V_dot\n",
    "global V_cross\n",
    "global V_gal\n",
    "global u_0\n",
    "global k\n",
    "global n_X\n",
    "global mf\n",
    "\n",
    "c = 3.0e8 # m/s\n",
    "G = 6.674e-11 # N m^2/ kg^2\n",
    "M_E = 5.972e24 # kg\n",
    "R_earth = 6371000. # m\n",
    "#r_crit = 3480000 # m\n",
    "V_dot = 220000. # m/s\n",
    "V_cross = 29800. # m/s\n",
    "V_gal = 550000. # m/s\n",
    "u_0 = 245000. # m/s\n",
    "k = 2.5\n",
    "\n",
    "print 'Complete'"
   ]
  },
  {
   "cell_type": "markdown",
   "metadata": {},
   "source": [
    "## Escape Velocity\n",
    "Escape Velocities are stored in the list escVel2List\n",
    "\n",
    "Note: The value from escVel2List[1] is assigned to the first slot of escVel2List to work around a 'nan' escape velocity at r=0"
   ]
  },
  {
   "cell_type": "code",
   "execution_count": 9,
   "metadata": {
    "collapsed": false
   },
   "outputs": [
    {
     "ename": "NameError",
     "evalue": "global name 'enclosedMassList' is not defined",
     "output_type": "error",
     "traceback": [
      "\u001b[1;31m---------------------------------------------------------------------------\u001b[0m",
      "\u001b[1;31mNameError\u001b[0m                                 Traceback (most recent call last)",
      "\u001b[1;32m<ipython-input-9-e797b826f226>\u001b[0m in \u001b[0;36m<module>\u001b[1;34m()\u001b[0m\n\u001b[0;32m     11\u001b[0m \u001b[0mescVel2List\u001b[0m \u001b[1;33m=\u001b[0m \u001b[1;33m[\u001b[0m\u001b[1;33m]\u001b[0m\u001b[1;33m\u001b[0m\u001b[0m\n\u001b[0;32m     12\u001b[0m \u001b[1;32mfor\u001b[0m \u001b[0mi\u001b[0m \u001b[1;32min\u001b[0m \u001b[0mxRange\u001b[0m\u001b[1;33m:\u001b[0m\u001b[1;33m\u001b[0m\u001b[0m\n\u001b[1;32m---> 13\u001b[1;33m     \u001b[0mescVel2List\u001b[0m\u001b[1;33m.\u001b[0m\u001b[0mappend\u001b[0m\u001b[1;33m(\u001b[0m\u001b[0maccumulate\u001b[0m\u001b[1;33m(\u001b[0m\u001b[0mi\u001b[0m\u001b[1;33m)\u001b[0m\u001b[1;33m)\u001b[0m\u001b[1;33m\u001b[0m\u001b[0m\n\u001b[0m\u001b[0;32m     14\u001b[0m \u001b[1;31m#     escVel2List.append(escVel(i))\u001b[0m\u001b[1;33m\u001b[0m\u001b[1;33m\u001b[0m\u001b[0m\n\u001b[0;32m     15\u001b[0m \u001b[1;31m# escVel2List[0] = escVel2List[1] #\u001b[0m\u001b[1;33m\u001b[0m\u001b[1;33m\u001b[0m\u001b[0m\n",
      "\u001b[1;32m<ipython-input-9-e797b826f226>\u001b[0m in \u001b[0;36maccumulate\u001b[1;34m(index)\u001b[0m\n\u001b[0;32m      1\u001b[0m \u001b[1;32mdef\u001b[0m \u001b[0maccumulate\u001b[0m\u001b[1;33m(\u001b[0m\u001b[0mindex\u001b[0m\u001b[1;33m)\u001b[0m\u001b[1;33m:\u001b[0m\u001b[1;33m\u001b[0m\u001b[0m\n\u001b[0;32m      2\u001b[0m     \u001b[0mfactor\u001b[0m \u001b[1;33m=\u001b[0m \u001b[1;36m2.\u001b[0m\u001b[1;33m*\u001b[0m\u001b[0mG\u001b[0m\u001b[1;33m/\u001b[0m\u001b[0mc\u001b[0m\u001b[1;33m**\u001b[0m\u001b[1;36m2\u001b[0m\u001b[1;33m\u001b[0m\u001b[0m\n\u001b[1;32m----> 3\u001b[1;33m     \u001b[0mconstant\u001b[0m \u001b[1;33m=\u001b[0m \u001b[0mmax\u001b[0m\u001b[1;33m(\u001b[0m\u001b[0menclosedMassList\u001b[0m\u001b[1;33m)\u001b[0m \u001b[1;33m/\u001b[0m \u001b[0mmax\u001b[0m\u001b[1;33m(\u001b[0m\u001b[0mradiusList\u001b[0m\u001b[1;33m)\u001b[0m\u001b[1;33m\u001b[0m\u001b[0m\n\u001b[0m\u001b[0;32m      4\u001b[0m \u001b[1;33m\u001b[0m\u001b[0m\n\u001b[0;32m      5\u001b[0m     \u001b[0mtempSum\u001b[0m \u001b[1;33m=\u001b[0m \u001b[1;36m0\u001b[0m\u001b[1;33m\u001b[0m\u001b[0m\n",
      "\u001b[1;31mNameError\u001b[0m: global name 'enclosedMassList' is not defined"
     ]
    }
   ],
   "source": [
    "def accumulate(index):\n",
    "    factor = 2.*G/c**2\n",
    "    constant = max(enclosedMassList) / max(radiusList)\n",
    "    \n",
    "    tempSum = 0    \n",
    "    for i in range(index,len(radiusList)-1):\n",
    "        tempSum += enclosedMassList[i] * deltaRList[i] / (radiusList[i])**2\n",
    "        \n",
    "    return factor*(tempSum + constant)\n",
    "\n",
    "escVel2List = []\n",
    "for i in xRange:\n",
    "    escVel2List.append(accumulate(i))\n",
    "#     escVel2List.append(escVel(i))\n",
    "# escVel2List[0] = escVel2List[1] # \n",
    "    \n",
    "\n",
    "plt.plot(xRange,escVel2List)\n",
    "plt.xlabel('Radius Index')\n",
    "plt.ylabel('Escape Velocity (m/s)')\n",
    "plt.title('Escape Velocity vs. Radius Index')\n",
    "plt.show()          \n",
    "    \n",
    "# plt.plot(radiusList,escVel2List,'.')\n",
    "# plt.xlabel('Radius (m)')\n",
    "# plt.ylabel('Escape Velocity (m/s)')\n",
    "# plt.title('Escape Velocity vs. Radius')\n",
    "# plt.show()\n",
    "\n",
    "\n",
    "# print escVel2List[0:4]\n",
    "print 'Complete'\n",
    "\n"
   ]
  },
  {
   "cell_type": "markdown",
   "metadata": {},
   "source": [
    "## List Interpolations\n",
    "\n",
    "At the present moment, I have the following lists:\n",
    "    - radius (radius)\n",
    "    - density (density)\n",
    "    - shell thickness (deltaR)\n",
    "    - shell mass (shellMass)\n",
    "    - enclosed mass (enclosedMass)\n",
    "    - escape velocity squared (escVel)\n",
    "    - number density of a *single* element (numDensityList)\n",
    "\n",
    "I need to interpolate the following lists into functions:\n",
    "    - density\n",
    "    - enclosed mass\n",
    "    - escape velocity squared"
   ]
  },
  {
   "cell_type": "code",
   "execution_count": null,
   "metadata": {
    "collapsed": true
   },
   "outputs": [],
   "source": [
    "# densityInterp = interpolate.interp1d(radiusList,densityList,kind='linear') #kg/m^3\n",
    "enclosedMassInterp = interpolate.interp1d(radiusList,enclosedMassList,kind='linear')\n",
    "escVel2Interp = interpolate.interp1d(radiusList,escVel2List,kind='linear')\n",
    "\n",
    "# densityInterp = interpolate.interp1d(s,densityList,kind='linear') #kg/m^3\n",
    "# enclosedMassInterp = interpolate.interp1d(s,enclosedMassList,kind='linear')\n",
    "# escVel2Interp = interpolate.interp1d(s,escVel2List,kind='linear')\n",
    "\n",
    "\n",
    "\n",
    "print 'Complete'"
   ]
  },
  {
   "cell_type": "markdown",
   "metadata": {},
   "source": [
    "## Number Densities"
   ]
  },
  {
   "cell_type": "code",
   "execution_count": null,
   "metadata": {
    "collapsed": true
   },
   "outputs": [],
   "source": [
    "range1 = range(0,len(radiusList))\n",
    "mf = 0\n",
    "\n",
    "def numDensity(element):\n",
    "    numDensityList = []\n",
    "    for i in range1:\n",
    "        if radiusList[i] < 3480000:\n",
    "            mf = coreMassFrac[element]\n",
    "        elif radiusList[i] >= 3480000:\n",
    "            mf = mantleMassFrac[element]\n",
    "        elif radiusList[i] > 3480000:\n",
    "            mf = 0\n",
    "\n",
    "        n_i = mf * densityList[i] /(amu2Gev(atomicNumbers[element])) * 1000/(100**3) # The numbers at the end turn g/cm^3 to kg/m^3\n",
    "        numDensityList.append(n_i)\n",
    "        \n",
    "    return numDensityList\n",
    "\n",
    "\n",
    "plt.plot(range1, numDensity('Cr52Prime'),'.')\n",
    "plt.title('Number Density of Cr52')\n",
    "plt.xlabel('Radius Index')\n",
    "plt.ylabel('Number Density (cm^-3)')\n",
    "plt.show()\n",
    "plt.plot(range1, numDensity('Ca40Prime'),'.')\n",
    "plt.title('Number Density of O16')\n",
    "plt.xlabel('Radius Index')\n",
    "plt.ylabel('Number Density (cm^-3)')\n",
    "plt.show()\n",
    "\n",
    "print numDensity('O16Prime')[456]\n",
    "print 'Complete'"
   ]
  },
  {
   "cell_type": "markdown",
   "metadata": {},
   "source": [
    "## Function Definitions\n",
    "\n",
    "These are the functions used to calculate the capture rate. A summary will be provided at the end of the discussion."
   ]
  },
  {
   "cell_type": "code",
   "execution_count": null,
   "metadata": {
    "collapsed": true
   },
   "outputs": [],
   "source": [
    "################################################################################\n",
    "# Function Definitions\n",
    "################################################################################\n",
    "def ModDMVelDist(u):\n",
    "    def integrand(x, y): #x = cos(theta), y = cos(phi)\n",
    "        return 0.25 * DMVelDist( ( u**2 + ((V_dot/c) + (V_cross/c) * y)**2 + 2 * u * ((V_dot/c) + (V_cross/c) * y) *x)** 0.5  )\n",
    "\n",
    "    return integrate.dblquad(integrand, -1, 1, lambda y: -1, lambda y: 1)[0]\n",
    "\n",
    "\n",
    "# u is now dimensionless in the normalizations\n",
    "def DMVelDistNormalization(u):\n",
    "    if ((V_gal/c) - u < 0):\n",
    "        temp = 0.\n",
    "        \n",
    "    elif (((V_gal/c) - (u) ) >= 0):\n",
    "        numerator = ((V_gal/c)**2 - (u)**2)\n",
    "        denominator = (k * (u_0/c)**2)\n",
    "        arg = ( numerator / denominator)    \n",
    "        temp = 4*np.pi*(u)**2 * (np.expm1(arg) ) ** k\n",
    "        \n",
    "    return temp\n",
    "\n",
    "norm1 = integrate.quad(DMVelDistNormalization,0,V_gal/c)[0]\n",
    "N_01 = 1./norm1\n",
    "\n",
    "\n",
    "def DMVelDist(u, N_0 = N_01):\n",
    "# Python doesn't play nice with 'nan*0', so I coded the heaviside function into an if-else statement\n",
    "    if ((V_gal/c - u) < 0):\n",
    "        temp = 0\n",
    "        \n",
    "    elif ((V_gal/c - u) >= 0):\n",
    "        numerator = ((V_gal/c)**2 - (u)**2)\n",
    "        denominator = (k * (u_0/c)**2)\n",
    "        arg = ( numerator / denominator)    \n",
    "        temp = N_0 * (np.expm1(arg) ) ** k\n",
    "        \n",
    "    return temp\n",
    "\n",
    "print 'Complete'"
   ]
  },
  {
   "cell_type": "code",
   "execution_count": null,
   "metadata": {
    "collapsed": true
   },
   "outputs": [],
   "source": []
  },
  {
   "cell_type": "code",
   "execution_count": null,
   "metadata": {
    "collapsed": true
   },
   "outputs": [],
   "source": []
  },
  {
   "cell_type": "code",
   "execution_count": null,
   "metadata": {
    "collapsed": true
   },
   "outputs": [],
   "source": []
  },
  {
   "cell_type": "code",
   "execution_count": null,
   "metadata": {
    "collapsed": true
   },
   "outputs": [],
   "source": []
  },
  {
   "cell_type": "code",
   "execution_count": null,
   "metadata": {
    "collapsed": true
   },
   "outputs": [],
   "source": []
  },
  {
   "cell_type": "code",
   "execution_count": null,
   "metadata": {
    "collapsed": true
   },
   "outputs": [],
   "source": []
  },
  {
   "cell_type": "code",
   "execution_count": null,
   "metadata": {
    "collapsed": true
   },
   "outputs": [],
   "source": []
  },
  {
   "cell_type": "code",
   "execution_count": null,
   "metadata": {
    "collapsed": true
   },
   "outputs": [],
   "source": []
  },
  {
   "cell_type": "code",
   "execution_count": null,
   "metadata": {
    "collapsed": true
   },
   "outputs": [],
   "source": []
  },
  {
   "cell_type": "code",
   "execution_count": null,
   "metadata": {
    "collapsed": true
   },
   "outputs": [],
   "source": []
  },
  {
   "cell_type": "code",
   "execution_count": null,
   "metadata": {
    "collapsed": true
   },
   "outputs": [],
   "source": []
  },
  {
   "cell_type": "code",
   "execution_count": null,
   "metadata": {
    "collapsed": true
   },
   "outputs": [],
   "source": []
  },
  {
   "cell_type": "code",
   "execution_count": null,
   "metadata": {
    "collapsed": true
   },
   "outputs": [],
   "source": []
  },
  {
   "cell_type": "code",
   "execution_count": null,
   "metadata": {
    "collapsed": true
   },
   "outputs": [],
   "source": []
  },
  {
   "cell_type": "code",
   "execution_count": null,
   "metadata": {
    "collapsed": true
   },
   "outputs": [],
   "source": []
  },
  {
   "cell_type": "code",
   "execution_count": null,
   "metadata": {
    "collapsed": true
   },
   "outputs": [],
   "source": []
  },
  {
   "cell_type": "code",
   "execution_count": null,
   "metadata": {
    "collapsed": true
   },
   "outputs": [],
   "source": []
  }
 ],
 "metadata": {
  "kernelspec": {
   "display_name": "Python [Root]",
   "language": "python",
   "name": "Python [Root]"
  },
  "language_info": {
   "codemirror_mode": {
    "name": "ipython",
    "version": 2
   },
   "file_extension": ".py",
   "mimetype": "text/x-python",
   "name": "python",
   "nbconvert_exporter": "python",
   "pygments_lexer": "ipython2",
   "version": "2.7.12"
  }
 },
 "nbformat": 4,
 "nbformat_minor": 0
}
