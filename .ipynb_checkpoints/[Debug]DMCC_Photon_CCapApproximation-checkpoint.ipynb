{
 "cells": [
  {
   "cell_type": "markdown",
   "metadata": {},
   "source": [
    "# CCap Approximation Notebook"
   ]
  },
  {
   "cell_type": "markdown",
   "metadata": {},
   "source": [
    "## Initialize the Notebook"
   ]
  },
  {
   "cell_type": "code",
   "execution_count": 1,
   "metadata": {
    "ExecuteTime": {
     "end_time": "2017-09-27T14:45:48.198840Z",
     "start_time": "2017-09-27T14:45:47.670843Z"
    }
   },
   "outputs": [
    {
     "name": "stdout",
     "output_type": "stream",
     "text": [
      "Complete\n"
     ]
    }
   ],
   "source": [
    "import io, os, sys, types\n",
    "\n",
    "from IPython import get_ipython\n",
    "from nbformat import read\n",
    "from IPython.core.interactiveshell import InteractiveShell\n",
    "\n",
    "def find_notebook(fullname, path=None):\n",
    "    \"\"\"find a notebook, given its fully qualified name and an optional path\n",
    "\n",
    "    This turns \"foo.bar\" into \"foo/bar.ipynb\"\n",
    "    and tries turning \"Foo_Bar\" into \"Foo Bar\" if Foo_Bar\n",
    "    does not exist.\n",
    "    \"\"\"\n",
    "    name = fullname.rsplit('.', 1)[-1]\n",
    "    if not path:\n",
    "        path = ['']\n",
    "    for d in path:\n",
    "        nb_path = os.path.join(d, name + \".ipynb\")\n",
    "        if os.path.isfile(nb_path):\n",
    "            return nb_path\n",
    "        # let import Notebook_Name find \"Notebook Name.ipynb\"\n",
    "        nb_path = nb_path.replace(\"_\", \" \")\n",
    "        if os.path.isfile(nb_path):\n",
    "            return nb_path\n",
    "        \n",
    "class NotebookLoader(object):\n",
    "    \"\"\"Module Loader for Jupyter Notebooks\"\"\"\n",
    "    def __init__(self, path=None):\n",
    "        self.shell = InteractiveShell.instance()\n",
    "        self.path = path\n",
    "\n",
    "    def load_module(self, fullname):\n",
    "        \"\"\"import a notebook as a module\"\"\"\n",
    "        path = find_notebook(fullname, self.path)\n",
    "\n",
    "        print (\"importing Jupyter notebook from %s\" % path)\n",
    "\n",
    "        # load the notebook object\n",
    "        with io.open(path, 'r', encoding='utf-8') as f:\n",
    "            nb = read(f, 4)\n",
    "\n",
    "\n",
    "        # create the module and add it to sys.modules\n",
    "        # if name in sys.modules:\n",
    "        #    return sys.modules[name]\n",
    "        mod = types.ModuleType(fullname)\n",
    "        mod.__file__ = path\n",
    "        mod.__loader__ = self\n",
    "        mod.__dict__['get_ipython'] = get_ipython\n",
    "        sys.modules[fullname] = mod\n",
    "\n",
    "        # extra work to ensure that magics that would affect the user_ns\n",
    "        # actually affect the notebook module's ns\n",
    "        save_user_ns = self.shell.user_ns\n",
    "        self.shell.user_ns = mod.__dict__\n",
    "\n",
    "        try:\n",
    "            for cell in nb.cells:\n",
    "                if cell.cell_type == 'code':\n",
    "                    # transform the input to executable Python\n",
    "                    code = self.shell.input_transformer_manager.transform_cell(cell.source)\n",
    "                    # run the code in themodule\n",
    "                    exec(code, mod.__dict__)\n",
    "        finally:\n",
    "            self.shell.user_ns = save_user_ns\n",
    "        return mod\n",
    "\n",
    "    \n",
    "class NotebookFinder(object):\n",
    "    \"\"\"Module finder that locates Jupyter Notebooks\"\"\"\n",
    "    def __init__(self):\n",
    "        self.loaders = {}\n",
    "\n",
    "    def find_module(self, fullname, path=None):\n",
    "        nb_path = find_notebook(fullname, path)\n",
    "        if not nb_path:\n",
    "            return\n",
    "\n",
    "        key = path\n",
    "        if path:\n",
    "            # lists aren't hashable\n",
    "            key = os.path.sep.join(path)\n",
    "\n",
    "        if key not in self.loaders:\n",
    "            self.loaders[key] = NotebookLoader(path)\n",
    "        return self.loaders[key]\n",
    "\n",
    "    \n",
    "sys.meta_path.append(NotebookFinder())\n",
    "\n",
    "\n",
    "print ('Complete')"
   ]
  },
  {
   "cell_type": "code",
   "execution_count": 2,
   "metadata": {
    "ExecuteTime": {
     "end_time": "2017-09-27T14:46:04.393439Z",
     "start_time": "2017-09-27T14:45:48.198840Z"
    }
   },
   "outputs": [
    {
     "name": "stdout",
     "output_type": "stream",
     "text": [
      "importing Jupyter notebook from MasterFunctions_CaptureApproximation.ipynb\n",
      "Complete\n",
      "importing Jupyter notebook from MasterFunctions_ModelData.ipynb\n",
      "------ MasterFunctions_ModelData Imported ------\n",
      "importing Jupyter notebook from MasterFunctions_Capture.ipynb\n",
      "------ MasterFunctions_Capture Loaded ------\n",
      "------ MasterFunctions_CaptureApproximation Loaded ------\n",
      "All notebooks imported\n"
     ]
    }
   ],
   "source": [
    "from MasterFunctions_CaptureApproximation import *\n",
    "\n",
    "print ('All notebooks imported')"
   ]
  },
  {
   "cell_type": "markdown",
   "metadata": {
    "collapsed": true
   },
   "source": [
    "-----------------"
   ]
  },
  {
   "cell_type": "markdown",
   "metadata": {},
   "source": [
    "# CCap Function Definitions"
   ]
  },
  {
   "cell_type": "markdown",
   "metadata": {},
   "source": [
    "## Helm Form Factor: $|F_N(E_R)|^2$"
   ]
  },
  {
   "cell_type": "markdown",
   "metadata": {},
   "source": [
    "The Helm Form Factor is given by:\n",
    "\\begin{equation}\n",
    "\\left| F_N(E_R) \\right| ^2 = e^{[-E_R/E_N]} \n",
    "\\end{equation}(see eqn (10) of arXiv: 1509.07525v2)\n",
    "\n",
    "where $E_N \\equiv \\frac{0.114 }{ A_{N}^{5/3}} \\space GeV$ is the characteristic energy of a nucleus with atomic number $A_N$\n",
    "\n",
    "This factor accounts for the effective size of a target nucleus in a DM -- nucleus when an incoming DM particle scatters of a nucleus inside the earth.\n",
    "\n",
    "To good approximation, since the recoil energy is of order $\\mathcal{O}(10^{-6})$ GeV, we take the form factor to be unity."
   ]
  },
  {
   "cell_type": "markdown",
   "metadata": {},
   "source": [
    "## Writing the Energy integral as a dimensionless quantity"
   ]
  },
  {
   "cell_type": "markdown",
   "metadata": {},
   "source": [
    "We seek to write the recoil integral as a dimensionless quantity:\n",
    "\n",
    "\\begin{align}\n",
    "\\int^{E_{max}}_{E_{min}} \\frac{d\\sigma_N}{dE_R} \\Theta(\\Delta E_R) \\ dE_R &= 8\\pi \\alpha \\alpha_X Z_N^2 \\varepsilon^2 \\int^{E_{max}}_{E_{min}} \\frac{m_N}{ (2m_N E_R + m_A^2)^2 } |F_N (E_R)|^2  \\Theta(\\Delta E_R) dE_R \\\\\n",
    "&= [Prefactors] \\int^{E_{max}}_{E_{min}} \\frac{m_N}{ (2m_N E_R + m_A^2)^2 } \\Theta(\\Delta E_R) dE_R \\nonumber \\\\\n",
    "&= [Prefactors] \\frac{1}{m_X^2} \\int^{E_{max}}_{E_{min}} \\frac{m_N/m_X}{ \\left(2\\frac{m_N}{m_X}\\frac{E_R}{m_X} + (\\frac{m_A}{m_X})^2 \\right)^2 } \\Theta(\\Delta E_R) d(\\frac{E_R}{m_X}) \\nonumber  \\\\\n",
    "&= \\frac{1}{m_X^2} \\int^{\\xi_{max}}_{\\xi_{min}} [Prefactors]\\frac{m_N/m_X}{ \\left(2\\frac{m_N}{m_X}\\xi_R + (\\frac{m_A}{m_X})^2 \\right)^2 } \\Theta(\\Delta \\xi_R) d\\xi_R \\nonumber  \\\\\n",
    "& = \\frac{1}{m_X^2} \\int^{\\xi_{max}}_{\\xi_{min}} \\frac{d\\sigma_N'}{d\\xi_R} d\\xi_R\n",
    "\\end{align}\n",
    "\n",
    "so that the dimensionless cross seciton becomes:\n",
    "\\begin{equation}\n",
    "\\frac{d \\sigma_N'}{d\\xi_R} = 8\\pi \\alpha \\alpha_X Z_N^2 \\varepsilon^2 \n",
    "\\frac{m_N/m_X}{ \\left(2\\frac{m_N}{m_X} \\xi_R + (\\frac{m_A}{m_X})^2 \\right)^2 } \\Theta(\\Delta \\xi_R) |F_N|^2 \n",
    "\\end{equation}\n",
    "\n",
    "\n",
    "In the $2\\frac{m_N}{m_X}\\xi_R << \\left(\\frac{m_A}{m_X}\\right)^2$ limit, we can approximate this as:\n",
    "\n",
    "\\begin{equation} \n",
    "\\frac{d \\sigma_N'}{d\\xi_R} = 8\\pi \\alpha \\alpha_X Z_N^2 \\varepsilon^2 \\frac{m_N}{m_X} \\left(\\frac{m_X}{m_A}\\right)^4\n",
    "\\end{equation}\n",
    "where we have set the form factor equal to unity since the characteristic energy of a nucleus $E_N$ is much larger than the recoil energy $E_R$.\n",
    "\n",
    "We can now see that \\ref{c-sec} is now completely independent of all integration variables $r$, $u$ and $\\xi_R$, so we pull the entire thing out of all the integrations.\n",
    "\n",
    "##### Factors Removed (crossSection):  $8\\pi \\epsilon^2 \\alpha_X \\alpha m_N Z_N^2$\n",
    "##### Factors Removed (crossSectionApprox): $\\frac{d\\sigma'}{d\\xi_R}$"
   ]
  },
  {
   "cell_type": "code",
   "execution_count": 5,
   "metadata": {
    "ExecuteTime": {
     "end_time": "2017-09-27T14:31:59.620669Z",
     "start_time": "2017-09-27T14:31:59.604669Z"
    }
   },
   "outputs": [
    {
     "name": "stdout",
     "output_type": "stream",
     "text": [
      "Actual: 0.9816691909580978\n",
      "Approx: 1\n",
      "Complete\n"
     ]
    }
   ],
   "source": [
    "a1 = photonCrossSection('Fe56', 1, 0.0000025)\n",
    "b1 = photonCrossSectionApprox('Fe56', 0.0000025)\n",
    "\n",
    "\n",
    "print ('Actual: {0}'.format(a1))\n",
    "print ('Approx: {0}'.format(b1))\n",
    "\n",
    "print ('Complete')"
   ]
  },
  {
   "cell_type": "markdown",
   "metadata": {},
   "source": [
    "## Incident Dark Matter Velocity Distribution (eqn17)"
   ]
  },
  {
   "cell_type": "markdown",
   "metadata": {},
   "source": [
    "In the following cell we calculate the normalization constant $N_0$ for the incident dark matter velocity distribution:\n",
    "\n",
    "\\begin{equation} \n",
    "\\frac{1}{N_0} = \\int_{0}^{V_{gal}/c} f(u) \\ du = \\text{tempA} \n",
    "\\end{equation}\n",
    "\n",
    "where $u$ is a naturalized velocity and $f(u)$ is the incident DM velocity distribution which we take to be Maxwell-Boltzmann in shape:\n",
    "\n",
    "\\begin{equation} \\text{DMVelDist} = f(u) =  N_0 \\left[ exp \\left ( \n",
    "\\frac{v^2_{gal}-u^2}{ku^2_0}\\right) -1 \\right] ^k\n",
    "\\Theta(v_{gal} - u)\n",
    "\\end{equation}\n",
    "\n",
    "Typical values for $v_{gal}$ (km/s), $u_0$ (km/s), and $k$ respectively lie between:\n",
    "\n",
    "\\begin{equation}\n",
    "220<u_0<270 \\qquad 450<v_{gal}<650 \\qquad 1.5<k<3.5 \n",
    "\\end{equation}\n",
    "\n",
    "For computations, we take $u_0 = 245\\times 10^6$ cm/s, $v_{gal} = 550\\times10^6$ cm/s and $k = 2.5$\n",
    "\n",
    "-----------------------\n",
    "However, since u_max is much smaller than v_gal, we can take a good approximation to be:\n",
    "$$\n",
    "f(u) =  N_0 \\left[ exp \\left ( \n",
    "\\frac{v^2_{gal}}{ku^2_0}\\right) -1 \\right] ^k\n",
    "\\Theta(v_{gal} - u)\n",
    "$$\n",
    "\n",
    "Normalization Check\n"
   ]
  },
  {
   "cell_type": "code",
   "execution_count": 3,
   "metadata": {
    "ExecuteTime": {
     "end_time": "2017-09-27T14:46:21.980470Z",
     "start_time": "2017-09-27T14:46:21.968474Z"
    }
   },
   "outputs": [
    {
     "name": "stdout",
     "output_type": "stream",
     "text": [
      "Full Normalization  : 4347914.767372669\n",
      "Full Test Value     : 469268105.0099762\n",
      "Approximation Value : 469268105.0099762\n",
      "Complete\n"
     ]
    }
   ],
   "source": [
    "print ('Full Normalization  : {0}'.format(Normalization()))\n",
    "print ('Full Test Value     : {0}'.format(DMVelDist(2e-5)))\n",
    "print ('Approximation Value : {0}'.format(DMVelDist(2e-5)))\n",
    "\n",
    "print ('Complete')"
   ]
  },
  {
   "cell_type": "markdown",
   "metadata": {},
   "source": [
    "## Modified Dark Matter Velocity Distribution (eqn16)"
   ]
  },
  {
   "cell_type": "markdown",
   "metadata": {},
   "source": [
    "The modified distribution $ f_{\\oplus}$ is the annular and angular averaged dark matter distribution in the rest frame of Earth given by:\n",
    "\n",
    "\\begin{align}\n",
    "\\text{ModDMVelDist} &= f_{\\oplus}(u) = \\\\\n",
    "&\\frac{1}{4} \\int_{-1}^{1}\\int_{-1}^{1} dcos\\theta \\, dcos\\phi \\space\n",
    "   f \\left[ \\left( u^2 (V_{\\odot} + V_{\\oplus}cos\\phi)^2 + 2u(V_{\\odot} + V_{\\oplus} cos\\phi) cos\\theta \\right) ^{1/2} \\right]\n",
    "  \\end{align}"
   ]
  },
  {
   "cell_type": "markdown",
   "metadata": {},
   "source": [
    "### Graphing and Interpolating the Modified DM Velocity Distribution"
   ]
  },
  {
   "cell_type": "code",
   "execution_count": 4,
   "metadata": {
    "ExecuteTime": {
     "end_time": "2017-09-11T00:10:16.587746Z",
     "start_time": "2017-09-11T00:10:13.379723Z"
    }
   },
   "outputs": [
    {
     "name": "stdout",
     "output_type": "stream",
     "text": [
      "Complete\n"
     ]
    }
   ],
   "source": [
    "velRange = np.linspace(0, V_gal, 200)\n",
    "\n",
    "ModDMVect = []\n",
    "DMVect = []\n",
    "ApproxVect = []\n",
    "IntVect = []\n",
    "for vel in velRange:\n",
    "    ModDMVect.append(ModDMVelDist(vel))\n",
    "    ApproxVect.append(ModDMVelDist(0))\n",
    "    \n",
    "print ('Complete')"
   ]
  },
  {
   "cell_type": "markdown",
   "metadata": {
    "heading_collapsed": true
   },
   "source": [
    "#### Plot the various DM Velocity distributions"
   ]
  },
  {
   "cell_type": "code",
   "execution_count": 5,
   "metadata": {
    "ExecuteTime": {
     "end_time": "2017-09-11T00:10:21.587027Z",
     "start_time": "2017-09-11T00:10:20.634532Z"
    },
    "hidden": true
   },
   "outputs": [
    {
     "name": "stdout",
     "output_type": "stream",
     "text": [
      "Complete\n"
     ]
    },
    {
     "data": {
      "image/png": "[encoded data removed]",
      "text/plain": [
       "<matplotlib.figure.Figure at 0x1ed77bceef0>"
      ]
     },
     "metadata": {},
     "output_type": "display_data"
    },
    {
     "data": {
      "image/png": "[encoded data removed]",
      "text/plain": [
       "<matplotlib.figure.Figure at 0x1ed77d85c50>"
      ]
     },
     "metadata": {},
     "output_type": "display_data"
    }
   ],
   "source": [
    "dmVelPlotRange = np.linspace(0,V_gal,6)\n",
    "\n",
    "fig0 = plt.figure(figsize = (7,5))\n",
    "ax0 = fig0.add_subplot(111)\n",
    "ax0.set_xticks(dmVelPlotRange)\n",
    "\n",
    "line1, = plt.plot(velRange,ModDMVect, label = 'Annular/Angular Average')\n",
    "line2, = plt.plot(velRange, ApproxVect, label = 'Maxwell-Boltzmann')\n",
    "\n",
    "plt.xlabel('u',fontsize = 13)\n",
    "plt.ylabel('f(u)',fontsize = 13)\n",
    "plt.legend([line1,line2],\\\n",
    "           ['Asymptotic Distribution','Approximation'],\\\n",
    "           loc = 'upper right',\\\n",
    "           fontsize = 13)\n",
    "plt.suptitle('Dark Matter Velocity Distribution and Approximation',fontsize = 14)\n",
    "plt.grid()\n",
    "\n",
    "\n",
    "\n",
    "testElement = 'Fe56'\n",
    "uInt = EminEmaxIntersectionApprox(testElement,1000.)\n",
    "uIntPlus = uInt + 2.0*uInt\n",
    "plt1_xlabel = np.linspace(0,uIntPlus,6)\n",
    "fig1 = plt.figure(figsize = (7,5))\n",
    "ax1 = fig1.add_subplot(111)\n",
    "ax1.set_xticks(plt1_xlabel)\n",
    "line1, = plt.plot(velRange,ModDMVect)\n",
    "line2, = plt.plot(velRange, ApproxVect)\n",
    "line3 = plt.axvline(x = uInt, color = 'green')\n",
    "plt.xlabel('u',fontsize = 13)\n",
    "plt.ylabel('f(u)',fontsize = 13)\n",
    "\n",
    "plt.grid()\n",
    "plt.legend([line1, line2, line3],\\\n",
    "           ['Asymptotic Distribution', 'Approximation', '$u_{max}$ for Fe56'],\\\n",
    "           loc='upper right',\\\n",
    "           fontsize = 13)\n",
    "\n",
    "plt.suptitle('Dark Matter Velocity Distribution and Approximation',fontsize = 14)\n",
    "plt.title('Zoomed Region')\n",
    "\n",
    "plt.axis([-0.000001,uIntPlus,1.8e8,2.4e8])\n",
    "\n",
    "print ('Complete')"
   ]
  },
  {
   "cell_type": "code",
   "execution_count": 89,
   "metadata": {
    "hidden": true
   },
   "outputs": [
    {
     "name": "stdout",
     "output_type": "stream",
     "text": [
      "Plot1 Filename: f_uUnzoomed\n",
      "Plot2 Filename: f_uZoomed\n",
      "Complete\n"
     ]
    }
   ],
   "source": [
    "fileName0 = input('Plot1 Filename: ')\n",
    "fileName1 = input('Plot2 Filename: ')\n",
    "fig0.savefig(approxPath(fileName0), dpi = 700)\n",
    "fig1.savefig(approxPath(fileName1), dpi = 700)\n",
    "\n",
    "print ('Complete')"
   ]
  },
  {
   "cell_type": "markdown",
   "metadata": {},
   "source": [
    "## Emin and Emax Initialization (eqn13)"
   ]
  },
  {
   "cell_type": "markdown",
   "metadata": {},
   "source": [
    "In the following cell, we initialize the Emin and Emax functions where\n",
    "\\begin{equation} \n",
    "E_{Min} = \\frac{1}{2} m_X u^2 \\qquad E_{Max} = 2 \\frac{\\mu^2}{m_N} (u^2 + v_{\\oplus}^2)\n",
    "\\end{equation}\n",
    "\n",
    "In dimensionless quantities, these look like:\n",
    "\\begin{equation}\n",
    "\\xi_{Min} = \\frac{1}{2}u^2 \\qquad \\xi_{Max} = 2 \\frac{\\mu^2}{m_Nm_X} (u^2 + v_{\\oplus}^2)\n",
    "\\end{equation}\n",
    "\n",
    "To make further progress, we must approximate the escape velocity $v_{\\oplus}$"
   ]
  },
  {
   "cell_type": "markdown",
   "metadata": {},
   "source": [
    "## Approximating the Escape Velocity"
   ]
  },
  {
   "cell_type": "markdown",
   "metadata": {},
   "source": [
    "We plot the escape velocity $v_{\\oplus}$ over the entire radius of the earth and notice that it is mostly linear. We take the escape velocity approximation value as the average of the maximum and minimum escape velocities. The true average accounting for a different escape velocity at each radius is also plotted for comparison."
   ]
  },
  {
   "cell_type": "code",
   "execution_count": 10,
   "metadata": {
    "ExecuteTime": {
     "end_time": "2017-09-11T00:13:13.041551Z",
     "start_time": "2017-09-11T00:13:13.011972Z"
    }
   },
   "outputs": [
    {
     "name": "stdout",
     "output_type": "stream",
     "text": [
      "True Escape Velocity Squared Average : 2.062559437067813e-09\n",
      "Escape Velocity Squared Approximation: 1.9458714042912083e-09\n",
      "Complete\n"
     ]
    }
   ],
   "source": [
    "escVel2Max = max(escVel2List)\n",
    "escVel2Min = min(escVel2List)\n",
    "\n",
    "counter = 0\n",
    "tempSum = 0\n",
    "for i in range(0,len(escVel2List)):\n",
    "    tempSum += (escVel2List[i])\n",
    "    counter += 1\n",
    "    \n",
    "escVel2Approx = 1/2 * (escVel2Max + escVel2Min)\n",
    "escVel2Avg = tempSum/len(escVel2List)\n",
    "\n",
    "ApproxVect = []\n",
    "AvgVect = []\n",
    "for i in range(0,len(escVel2List)):\n",
    "    ApproxVect.append(escVel2Approx)\n",
    "    AvgVect.append(escVel2Avg)\n",
    "\n",
    "print ('True Escape Velocity Squared Average : {0}'.format(escVel2Avg))\n",
    "print ('Escape Velocity Squared Approximation: {0}'.format(escVel2Approx))\n",
    "\n",
    "print ('Complete')"
   ]
  },
  {
   "cell_type": "markdown",
   "metadata": {},
   "source": [
    "## Plot the Approximation and Average Escape Velocities"
   ]
  },
  {
   "cell_type": "code",
   "execution_count": 11,
   "metadata": {
    "ExecuteTime": {
     "end_time": "2017-09-11T00:13:15.504028Z",
     "start_time": "2017-09-11T00:13:15.143568Z"
    }
   },
   "outputs": [
    {
     "data": {
      "image/png": "[encoded data removed]",
      "text/plain": [
       "<matplotlib.figure.Figure at 0x1ed782aa470>"
      ]
     },
     "metadata": {},
     "output_type": "display_data"
    }
   ],
   "source": [
    "fig2 = plt.figure(figsize = (7,5))\n",
    "ax2 = fig2.add_subplot(111)\n",
    "line1, = plt.plot(radiusList,escVel2List)\n",
    "line2, = plt.plot(radiusList,ApproxVect)\n",
    "line3, = plt.plot(radiusList,AvgVect)\n",
    "plt.legend([line1,line2,line3],['Escape Velocity','Approximation','Average'],loc='upper right', fontsize = 13)\n",
    "plt.suptitle('Escape Velocity Squared vs Radius of Earth', fontsize = 14)\n",
    "plt.xlabel('Radius $[cm]$', fontsize = 13)\n",
    "plt.ylabel('Escape Velocity Squared', fontsize = 13)\n",
    "plt.grid()\n"
   ]
  },
  {
   "cell_type": "code",
   "execution_count": 92,
   "metadata": {},
   "outputs": [
    {
     "name": "stdout",
     "output_type": "stream",
     "text": [
      "Filename: EscVel\n",
      "Complete\n"
     ]
    }
   ],
   "source": [
    "fileName2 = input('Filename: ')\n",
    "fig2.savefig(photonApproxPath(fileName2), dpi = 700)\n",
    "\n",
    "print ('Complete')"
   ]
  },
  {
   "cell_type": "markdown",
   "metadata": {},
   "source": [
    "## Calculating the Capture Integral"
   ]
  },
  {
   "cell_type": "markdown",
   "metadata": {},
   "source": [
    "In the following cell, we calculate the velocity and recoil energy integrals:\n",
    "\n",
    "\\begin{equation}\n",
    "\\text{IntDuDErApprox} = \\text{IntDuDErApprox} = \\int_{0}^{uInt} du\\space u \\, f(u) \\int_{\\xi_{min}}^{\\xi_{Max}} d\\xi_R\n",
    "\\end{equation}\n",
    "\n",
    "with dimension: $[\\text{IntDuDEr}] = \\frac{1}{GeV^3}$\n",
    "\n",
    "where\n",
    "\n",
    "\\begin{equation}\n",
    "u_{int}^2 = \\frac{2\\mu_N^2}{m_N} \\frac{1}{ \\left( \\frac{1}{2m_X} - \\frac{2\\mu_N^2}{m_N} \\right)  } v_{\\oplus}^2 \n",
    "\\end{equation}\n",
    "\n",
    "Normally, one would integrate $u$ from $0$ to $\\infty$. Python however returns zero upon integrating to infinity. This is because the kinematics encoded in $\\Theta(\\Delta E_R)$ requires that we integrate over only kinematically allowed recoil energies. This region of allowed recoil energies is so narrow and so close to the origin though, that Python never chooses a sample point within that region, and so it 'looks' as if the integral is vanishing. See Appendix A for further discussion of the calculation of this integral.\n",
    "\n",
    "##### Factors Removed (IntDuDEr):  $(4\\pi)(8\\pi \\epsilon^2 \\alpha_X \\alpha m_N Z_N^2)$\n",
    "##### Factors Removed (IntDuDErApprox): $(4\\pi)\\frac{d\\sigma_N}{d\\xi_R}$"
   ]
  },
  {
   "cell_type": "code",
   "execution_count": 11,
   "metadata": {},
   "outputs": [
    {
     "name": "stdout",
     "output_type": "stream",
     "text": [
      "Calculation  : 5.334759038699433e-09\n",
      "Approximation: 1.163090774553253e-11\n",
      "Complete\n"
     ]
    }
   ],
   "source": [
    "print ('Calculation  : {0}'.format(IntDuDEr('Fe56', 1000., 1 ,245)))\n",
    "print ('Approximation: {0}'.format(IntDuDErApprox('Fe56', 1000., 245)))\n",
    "\n",
    "print ('Complete')"
   ]
  },
  {
   "cell_type": "markdown",
   "metadata": {},
   "source": [
    "## Sum over Radii"
   ]
  },
  {
   "cell_type": "markdown",
   "metadata": {},
   "source": [
    "\n",
    "In the following cell, we calculate the \"integral\" over the radius of earth:\n",
    "\n",
    "\\begin{equation}\n",
    "\\int^{R_{earth}}_{0} dr\\space 4\\pi r^2 n_N(r) \\int_{0}^{uInt} du\\space 4\\pi u f(u) \\int_{E_{min}}^{E_{Max}} dE_R \\space \\frac{d \\sigma_N}{dE_R} \\Theta(\\Delta E) \n",
    "\\end{equation}\n",
    "\n",
    "where we rename the velocity and recoil energy integrals to their respective python function $IntDuDEr$:\n",
    "\n",
    "$$ \\int^{R_{earth}}_{0} dr\\space 4\\pi r^2 n_N(r) \\space IntDuDEr  $$\n",
    "\n",
    "with dimension $ \\frac{1}{GeV^2}$\n",
    "\n",
    "However, instead of calculating this as an integral as stated, we discretize the integral and use the thin-shell approximation:\n",
    "\n",
    "$$ \\frac{4}{3}\\pi (r +\\Delta r)^3 - \\frac{4}{3}\\pi r^3 = 4 \\pi r^2 \\Delta r$$\n",
    "\n",
    "which yields the discrete summation:\n",
    "\n",
    "$$ \\text{SumOverR} = \\Sigma_{i} r_i^2 n_N(r) \\Delta r_i \\space \\text{IntDuDEr} $$\n",
    "\n",
    "where the variables $r_i$, $n_N(r)$, and $\\Delta r_i$ are given by:\n",
    "$$ r_i = radiusList[i] \\qquad n_N(r) = numDensityList(element)[i] \\qquad \\Delta r_i = deltaRList[i] $$\n",
    "\n",
    "It is important to note, $i$ is a pure summation index and all physical quantites depending on i are taken from the respective lists.\n",
    " \n",
    "For future use:\n",
    "$$\n",
    "\\text{SumOverRApprox} = \\Sigma_i r_i^2 n_N(r) \\Delta r_i \\text{IntDuDErApprox}\n",
    "$$\n",
    "\n",
    "##### Removed Factors: $(4\\pi)(4\\pi)(8\\pi \\epsilon^2 \\alpha_X \\alpha m_N Z_N^2)$\n",
    "##### Removed Factors (Approx): $(4\\pi)(4\\pi)\\frac{d\\sigma_N'}{d\\xi_R}$"
   ]
  },
  {
   "cell_type": "markdown",
   "metadata": {},
   "source": [
    "## Determining the Critical radius that separates the core and mantle"
   ]
  },
  {
   "cell_type": "markdown",
   "metadata": {},
   "source": [
    "We take the critical radius separating the core and mantle to be $R_{Crit} = 3.48\\times10^8$ cm which corresponds to index $i = 270$"
   ]
  },
  {
   "cell_type": "code",
   "execution_count": 12,
   "metadata": {
    "ExecuteTime": {
     "end_time": "2017-09-11T00:30:54.709797Z",
     "start_time": "2017-09-11T00:30:54.704283Z"
    }
   },
   "outputs": [
    {
     "name": "stdout",
     "output_type": "stream",
     "text": [
      "348000000.0\n"
     ]
    }
   ],
   "source": [
    "print (RCrit)"
   ]
  },
  {
   "cell_type": "markdown",
   "metadata": {},
   "source": [
    "## Approximating the Number Density"
   ]
  },
  {
   "cell_type": "markdown",
   "metadata": {},
   "source": [
    "We plot the number density of Iron and see that there is a very sharp cutoff between the crust and core density where the core density is an order of magnitude larger than the mantle magnitude. To account for this, we split the radius integral into an integral over the core and over the mantle, taking the density to be the average density over these two regions regions."
   ]
  },
  {
   "cell_type": "code",
   "execution_count": 13,
   "metadata": {},
   "outputs": [
    {
     "data": {
      "image/png": "[encoded data removed]",
      "text/plain": [
       "<matplotlib.figure.Figure at 0x207a5ca4438>"
      ]
     },
     "metadata": {},
     "output_type": "display_data"
    }
   ],
   "source": [
    "plt.plot(range1, numDensityList('Fe56'),'.')\n",
    "plt.suptitle('Number Density of {0}'.format('Fe56'))\n",
    "plt.xlabel('Radius Index')\n",
    "plt.ylabel(r'Number Density $[cm^{-3}]$')\n",
    "plt.grid()\n",
    "plt.show()"
   ]
  },
  {
   "cell_type": "markdown",
   "metadata": {},
   "source": [
    "### Get Average Densities over Core and Mante\n"
   ]
  },
  {
   "cell_type": "markdown",
   "metadata": {},
   "source": [
    "We calculate the average densities over the core and mantle."
   ]
  },
  {
   "cell_type": "code",
   "execution_count": 14,
   "metadata": {},
   "outputs": [
    {
     "name": "stdout",
     "output_type": "stream",
     "text": [
      "Separating radius: 637100000\n",
      "Average Number Density of Fe56 in core:   1.152740041216824e+23\n",
      "Average Number Density of Fe56 in mantle: 3.336663525661828e+21\n",
      "Complete\n"
     ]
    }
   ],
   "source": [
    "numDenElement = 'Fe56'\n",
    "\n",
    "tempSumCore = 0\n",
    "coreCounter = 1\n",
    "tempSumMantle = 0\n",
    "mantleCounter = 1\n",
    "\n",
    "for i in range(0,len(radiusList)):\n",
    "    if (0 <= i <= 270):\n",
    "        tempSumCore += numDensityList(numDenElement)[i]\n",
    "        coreCounter += 1\n",
    "    elif(270 < i <= len(radiusList)):\n",
    "        tempSumMantle += numDensityList(numDenElement)[i]\n",
    "        mantleCounter += 1\n",
    "    \n",
    "coreAvg = tempSumCore/coreCounter\n",
    "mantleAvg = tempSumMantle/mantleCounter\n",
    "\n",
    "\n",
    "print ('Separating radius: {0}'.format(max(radiusList)))\n",
    "print ('Average Number Density of {0} in core:   {1}'.format(numDenElement,coreAvg))\n",
    "print ('Average Number Density of {0} in mantle: {1}'.format(numDenElement,mantleAvg))\n",
    "\n",
    "print ('Complete')"
   ]
  },
  {
   "cell_type": "markdown",
   "metadata": {},
   "source": [
    "### Plot Number Density Averages"
   ]
  },
  {
   "cell_type": "code",
   "execution_count": 15,
   "metadata": {},
   "outputs": [
    {
     "name": "stdout",
     "output_type": "stream",
     "text": [
      "Complete\n"
     ]
    },
    {
     "data": {
      "image/png": "[encoded data removed]",
      "text/plain": [
       "<matplotlib.figure.Figure at 0x207a5d57cc0>"
      ]
     },
     "metadata": {},
     "output_type": "display_data"
    }
   ],
   "source": [
    "coreVect = []\n",
    "mantleVect = []\n",
    "for r in range(0,len(radiusList)):\n",
    "    coreVect.append(coreAvg)\n",
    "    mantleVect.append(mantleAvg)\n",
    "\n",
    "\n",
    "fig3 = plt.figure(figsize = (7,5))\n",
    "line1, = plt.plot(radiusList,numDensityList(numDenElement),'.')\n",
    "line2, = plt.plot(radiusList,coreVect)\n",
    "line3, = plt.plot(radiusList,mantleVect)\n",
    "plt.legend([line1,line2,line3],['Original Density Distribution','Core Average','Mantle Average'],loc='upper right')\n",
    "plt.xlabel('Radius $[cm]$')\n",
    "plt.ylabel('Number Density $[cm^{-3}]$')\n",
    "plt.suptitle('Number Density vs Radius for {0}'.format(numDenElement))\n",
    "plt.grid()\n",
    "\n",
    "print ('Complete')"
   ]
  },
  {
   "cell_type": "markdown",
   "metadata": {},
   "source": [
    "#### Save Figure"
   ]
  },
  {
   "cell_type": "code",
   "execution_count": 98,
   "metadata": {},
   "outputs": [
    {
     "name": "stdout",
     "output_type": "stream",
     "text": [
      "Number Density filename: NumDensityIron\n",
      "Complete\n"
     ]
    }
   ],
   "source": [
    "fileName3 = input('Number Density filename: ')\n",
    "fig3.savefig(photonApproxPath(fileName3), dpi = 700)\n",
    "\n",
    "print ('Complete')"
   ]
  },
  {
   "cell_type": "markdown",
   "metadata": {},
   "source": [
    "## Radius Integral"
   ]
  },
  {
   "cell_type": "markdown",
   "metadata": {},
   "source": [
    "We can now calculate the earth integral assuming a full radial dependence in the number density"
   ]
  },
  {
   "cell_type": "code",
   "execution_count": 16,
   "metadata": {},
   "outputs": [
    {
     "name": "stdout",
     "output_type": "stream",
     "text": [
      "Actual       : 9.679115567439289e+39\n",
      "Approximation: 2.223882895321249e+37\n",
      "Complete\n"
     ]
    }
   ],
   "source": [
    "print ('Actual       : {0}'.format(photonSumOverR('Fe56', 1000, 1)))\n",
    "print ('Approximation: {0}'.format(photonSumOverRApprox('Fe56', 1000)))\n",
    "\n",
    "print ('Complete')"
   ]
  },
  {
   "cell_type": "markdown",
   "metadata": {},
   "source": [
    "## Single Element Capture Rate: $C^N_{cap}$"
   ]
  },
  {
   "cell_type": "markdown",
   "metadata": {},
   "source": [
    "The final step is to tack on all of the removed factors and calculate the full capture rate:\n",
    "\n",
    "\\begin{align} \n",
    "\\text{fullCap} &= \\left[(4\\pi)(4\\pi)(8\\pi \\epsilon^2 \\alpha_X \\alpha m_N Z_N^2)\\right] n_X \\text{sumOverR} \\\\\n",
    "&= \\left[2(4\\pi)^3(\\epsilon^2 \\alpha_X \\alpha m_N Z_N^2)\\right] n_X \\text{sumOverR}\n",
    "\\end{align}\n",
    "\n",
    "where $[n_X] = \\frac{1}{cm^3}$ and $[sumOverR] = \\frac{1}{GeV^2}$, so $[fullCap] = \\frac{1}{cm^3 GeV^2}$\n",
    "\n",
    "We manually multiply by the following conversions:\n",
    "$$ \\frac{cm \\cdot GeV}{5.06\\times10^{13}} =  1 \\qquad \\text{and} \\qquad \\frac{1.52\\times10^{24}}{GeV\\cdot s} = 1$$\n",
    "\n",
    "For future reference:\n",
    "$$ \\text{fullCapApprox} = n_X (4\\pi)^2 \\frac{1}{m_X^2}  \\left( 8\\pi \\alpha \\alpha_X \\epsilon^2  Z_N^2  \\frac{m_N m_X^3}{m_A^4} \\right) \\text{sumOverRApprox} $$ "
   ]
  },
  {
   "cell_type": "code",
   "execution_count": 20,
   "metadata": {
    "scrolled": true
   },
   "outputs": [
    {
     "name": "stdout",
     "output_type": "stream",
     "text": [
      "Complete\n"
     ]
    }
   ],
   "source": [
    "# CCapFlip[(n), alphaX, epsilon, m_X, m_A]\n",
    "# These are the values from ArXiV: 1509.07525v2 Flip Earth paper\n",
    "CCapFlip0 = {# CCapFlip[(n), alphaX = 0.035, epsilon = 10e-8, m_X = 1000, m_A = 1]\n",
    "    'O16': 4.03e5,\n",
    "    'Si28': 2.24e6,\n",
    "    'Mg24': 1.05e6,\n",
    "    'Fe56': 9.43e7,\n",
    "    'Ca40': 9.06e5,\n",
    "    'P31': 2.04e4,\n",
    "    'S32': 2.41e5,\n",
    "    'Ni58': 7.10e6,\n",
    "    'Al27': 1.62e5,\n",
    "    'Cr52': 8.98e5 \n",
    "}\n",
    "\n",
    "\n",
    "a1 = photonSingleElementCap      ('Fe56', 100., 1,     10**-9, 1./137, 0.035)\n",
    "a2 = photonSingleElementCapApprox('Fe56', 100., 1,     10**-9, 1./137, 0.035)\n",
    "b1 = photonSingleElementCap      ('Fe56', 1000., 0.01, 10**-8, 1./137, 0.035)\n",
    "b2 = photonSingleElementCapApprox('Fe56', 1000., 0.01, 10**-8, 1./137, 0.035)\n",
    "c1 = photonSingleElementCap      ('Fe56', 1000., 0.1,  10**-8, 1./137, 0.035)\n",
    "c2 = photonSingleElementCapApprox('Fe56', 1000., 0.1,  10**-8, 1./137, 0.035)\n",
    "d1 = photonSingleElementCap      ('Fe56', 1000., 1,    10**-8, 1./137, 0.035)\n",
    "d2 = photonSingleElementCapApprox('Fe56', 1000., 1,    10**-8, 1./137, 0.035)\n",
    "e1 = photonSingleElementCap      ('Fe56', 1000., 10,   10**-8, 1./137, 0.035)\n",
    "e2 = photonSingleElementCapApprox('Fe56', 1000., 10,   10**-8, 1./137, 0.035)\n",
    "\n",
    "\n",
    "print ('Complete')"
   ]
  },
  {
   "cell_type": "markdown",
   "metadata": {},
   "source": [
    "## Single Element Capture Sanity Checks"
   ]
  },
  {
   "cell_type": "code",
   "execution_count": 21,
   "metadata": {},
   "outputs": [
    {
     "name": "stdout",
     "output_type": "stream",
     "text": [
      "m_A = 0.1, Epsilon = e-9 :\n",
      "    Full:   230400496.86470404 \n",
      "    Approx: 534948826.2503734\n",
      "m_A = 0.01, Epsilon = e-8 :\n",
      "    Full:   9146477206882176.0 \n",
      "    Approx: 2.8190043810977264e+16\n",
      "m_A = 0.1, Epsilon = e-8 :\n",
      "    Full:   1222956766839.9175 \n",
      "    Approx: 2819004381097.7266\n",
      "m_A = 1, Epsilon = e-8 :\n",
      "    Full:   122690711.31396046 \n",
      "    Approx: 281900438.1097727\n",
      "m_A = 10, Epsilon = e-8 :\n",
      "    Full:   12269.467265195035 \n",
      "    Approx: 28190.043810977277\n",
      "Complete\n"
     ]
    }
   ],
   "source": [
    "print ('m_A = {0}, Epsilon = {1} :\\n    Full:   {2} \\n    Approx: {3}'.format(0.1,'e-9',a1,a2))\n",
    "print ('m_A = {0}, Epsilon = {1} :\\n    Full:   {2} \\n    Approx: {3}'.format(0.01,'e-8',b1,b2))\n",
    "print ('m_A = {0}, Epsilon = {1} :\\n    Full:   {2} \\n    Approx: {3}'.format(0.1,'e-8',c1,c2))\n",
    "print ('m_A = {0}, Epsilon = {1} :\\n    Full:   {2} \\n    Approx: {3}'.format(1,'e-8',d1,d2))\n",
    "print ('m_A = {0}, Epsilon = {1} :\\n    Full:   {2} \\n    Approx: {3}'.format(10,'e-8',e1,e2))\n",
    "\n",
    "print ('Complete')"
   ]
  },
  {
   "cell_type": "code",
   "execution_count": 22,
   "metadata": {},
   "outputs": [
    {
     "name": "stdout",
     "output_type": "stream",
     "text": [
      "132.182149574\n",
      "208.206571485\n",
      "130.507280186\n",
      "129.765102094\n",
      "129.757683864\n",
      "Difference Between published result and Approximation: 198.9400192044249 %\n",
      "Complete\n"
     ]
    }
   ],
   "source": [
    "print (percentDiff(a1,a2))\n",
    "print (percentDiff(b1,b2))\n",
    "print (percentDiff(c1,c2))\n",
    "print (percentDiff(d1,d2))\n",
    "print (percentDiff(e1,e2))\n",
    "print ('Difference Between published result and Approximation: {0} %'\\\n",
    "       .format(percentDiff(CCapFlip0['Fe56'],d2)))\n",
    "\n",
    "print ('Complete')"
   ]
  },
  {
   "cell_type": "code",
   "execution_count": 23,
   "metadata": {},
   "outputs": [
    {
     "name": "stdout",
     "output_type": "stream",
     "text": [
      "107320400.0\n",
      "Complete\n"
     ]
    }
   ],
   "source": [
    "FlipSum = 0\n",
    "for element in CCapFlip0:\n",
    "    FlipSum += CCapFlip0[element]\n",
    "\n",
    "print (FlipSum)\n",
    "print ('Complete')"
   ]
  },
  {
   "cell_type": "markdown",
   "metadata": {},
   "source": [
    "## Total Capture Rate:"
   ]
  },
  {
   "cell_type": "markdown",
   "metadata": {},
   "source": [
    "Finally, we arrive at the full capture rate. \n",
    "\n",
    "CCap gives the total capture rate for dark matter mass $m_X$ in GeV, mediator mass $m_A$ in GeV, kinetic mixing parameter $\\epsilon$, and $\\alpha = \\frac{1}{137}$"
   ]
  },
  {
   "cell_type": "code",
   "execution_count": 24,
   "metadata": {},
   "outputs": [
    {
     "name": "stdout",
     "output_type": "stream",
     "text": [
      "Complete\n"
     ]
    }
   ],
   "source": [
    "a1 = photonCCap      (1000., 0.01, 10**-8, 1./137, alphaTherm(1000, 0.01))\n",
    "a2 = photonCCapApprox(1000., 0.01, 10**-8, 1./137, alphaTherm(1000, 0.01))\n",
    "b1 = photonCCap      (1000., 0.1,  10**-8, 1./137, alphaTherm(1000, 0.1))\n",
    "b2 = photonCCapApprox(1000., 0.1,  10**-8, 1./137, alphaTherm(1000, 0.1))\n",
    "c1 = photonCCap      (1000., 1,    10**-8, 1./137, alphaTherm(1000, 1))\n",
    "c2 = photonCCapApprox(1000., 1,    10**-8, 1./137, alphaTherm(1000, 1))\n",
    "d1 = photonCCap      (1000., 10,   10**-8, 1./137, alphaTherm(1000, 10))\n",
    "d2 = photonCCapApprox(1000., 10,   10**-8, 1./137, alphaTherm(1000, 10))\n",
    "\n",
    "print ('Complete')"
   ]
  },
  {
   "cell_type": "markdown",
   "metadata": {},
   "source": [
    "## Total Capture Rate Sanity Checks"
   ]
  },
  {
   "cell_type": "code",
   "execution_count": 25,
   "metadata": {},
   "outputs": [
    {
     "name": "stdout",
     "output_type": "stream",
     "text": [
      "107320400.0\n",
      "Complete\n"
     ]
    }
   ],
   "source": [
    "tempSumFlip = 0\n",
    "for element in CCapFlip0:\n",
    "    tempSumFlip += CCapFlip0[element]\n",
    "    \n",
    "print (tempSumFlip)\n",
    "print ('Complete')"
   ]
  },
  {
   "cell_type": "code",
   "execution_count": 26,
   "metadata": {},
   "outputs": [
    {
     "name": "stdout",
     "output_type": "stream",
     "text": [
      "m_A = 0.01 \n",
      "    Full:   1.0399647369612558e+16 \n",
      "    Approx: 9.657711050536685e+16\n",
      "m_A = 0.1 \n",
      "    Full:   1376241486631.7102 \n",
      "    Approx: 9657711074439.52\n",
      "m_A = 1 \n",
      "    Full:   138054859.78674296 \n",
      "    Approx: 965771346.4725723\n",
      "m_A = 10 \n",
      "    Full:   13806.259589016736 \n",
      "    Approx: 96579.52520236454\n",
      "Complete\n"
     ]
    }
   ],
   "source": [
    "print ('m_A = {0} \\n    Full:   {1} \\n    Approx: {2}'.format(0.01,a1,a2))\n",
    "print ('m_A = {0} \\n    Full:   {1} \\n    Approx: {2}'.format(0.1,b1,b2))\n",
    "print ('m_A = {0} \\n    Full:   {1} \\n    Approx: {2}'.format(1,c1,c2))\n",
    "print ('m_A = {0} \\n    Full:   {1} \\n    Approx: {2}'.format(10,d1,d2))\n",
    "\n",
    "print ('Complete')"
   ]
  },
  {
   "cell_type": "code",
   "execution_count": 27,
   "metadata": {},
   "outputs": [
    {
     "name": "stdout",
     "output_type": "stream",
     "text": [
      "828.657550328\n",
      "601.74538177\n",
      "599.556211179\n",
      "599.534327742\n",
      "Complete\n"
     ]
    }
   ],
   "source": [
    "print (percentDiff(a1,a2))\n",
    "print (percentDiff(b1,b2))\n",
    "print (percentDiff(c1,c2))\n",
    "# print (percentDiff(tempSumFlip,c2))\n",
    "print (percentDiff(d1,d2))\n",
    "\n",
    "print ('Complete')"
   ]
  },
  {
   "cell_type": "markdown",
   "metadata": {
    "collapsed": true
   },
   "source": [
    "-------------"
   ]
  },
  {
   "cell_type": "markdown",
   "metadata": {
    "collapsed": true
   },
   "source": [
    "# Appendix"
   ]
  },
  {
   "cell_type": "markdown",
   "metadata": {
    "collapsed": true
   },
   "source": [
    "## A: Python Integration Analysis for the capture integrand"
   ]
  },
  {
   "cell_type": "markdown",
   "metadata": {},
   "source": [
    "If we try to calculate the capture integral directly in natural units, integrating $u$ from $0$ to $v_{gal}$ and $E_R$ from $E_{min}$ to $E_{max}$, we find that the integral returns zero. The differential cross section $\\frac{d \\sigma_N}{dE_R}$ (eqn09) never vanishes unless one of the model parameters is zero, the incident DM velocity $f(u)$ is never zero for the integraion region over $u$, so the only time the integrand vanishes is at $u=0$, the lower limit of integration. Clearly, there is something more subtle that we need to explore.\n",
    "\n",
    "To simplify the problem, we choose $m_X = 1$ GeV, and calculate values of Silicon (Si28). We completely remove the integrand and begin by plotting the integration bounds $E_{min}$ and $E_{max}$ in red and blue respectively. The valid region of integration from the heaviside function in eqn (1) is thus above the red curve and below the blue curve."
   ]
  },
  {
   "cell_type": "markdown",
   "metadata": {
    "collapsed": true
   },
   "source": [
    "## B: Calculating the Intersection Point of $E_{max}$ and $E_{min}$ in $u-E_R$ space"
   ]
  },
  {
   "cell_type": "code",
   "execution_count": 36,
   "metadata": {},
   "outputs": [
    {
     "name": "stdout",
     "output_type": "stream",
     "text": [
      "Complete\n"
     ]
    }
   ],
   "source": [
    "#EscVelDictionary =  {  0 < u < vGal/c  |  0 < u < 0.00005 }  (for better resolution)\n",
    "               #key: { [emin] , [emax]  , [emin] , [emax]  }\n",
    "\n",
    "EscVelDictionary = { \n",
    "    'O16' : ([],[],[],[]),\n",
    "    'Si28': ([],[],[],[]),\n",
    "    'Mg24': ([],[],[],[]),\n",
    "    'Fe56': ([],[],[],[]),\n",
    "    'Ca40': ([],[],[],[]),\n",
    "    'P31' : ([],[],[],[]),\n",
    "    'S32' : ([],[],[],[]),\n",
    "    'Ni58': ([],[],[],[]),\n",
    "    'Al27': ([],[],[],[]),\n",
    "    'Cr52': ([],[],[],[]),\n",
    "}\n",
    "\n",
    "plotElement = 'Fe56'\n",
    "plotm_X = 1000\n",
    "plotrIndex = 490 # Escape Velocity at the surface of the earth\n",
    "plotuInt = EminEmaxIntersection(plotElement, plotm_X, plotrIndex)\n",
    "plotuIntPlus = plotuInt*(1.1)\n",
    "plotE_RPlus = xiMin(plotuIntPlus, plotm_X)\n",
    "\n",
    "# Original and \"Zoomed\" plot ranges\n",
    "pltrange0 = np.linspace(0,(V_gal),200)\n",
    "pltrange1 = np.linspace(0,plotuIntPlus,200)\n",
    "\n",
    "\n",
    "for element in EscVelDictionary:\n",
    "    for u in pltrange0:\n",
    "#         plotEmin0 = eMin(u, plotm_X)\n",
    "#         plotEmax0 = eMax(plotElement, plotm_X, plotrIndex, u)\n",
    "        plotEmin0 = xiMin(u, plotm_X)\n",
    "        plotEmax0 = xiMax(plotElement, plotm_X, plotrIndex, u)\n",
    "\n",
    "        EscVelDictionary[element][0].append(plotEmin0)\n",
    "        EscVelDictionary[element][1].append(plotEmax0)\n",
    "        \n",
    "for element in EscVelDictionary:\n",
    "    for u in pltrange1:\n",
    "#         plotEmin1 = eMin(u, plotm_X)\n",
    "#         plotEmax1 = eMax(element, plotm_X, plotrIndex, u)\n",
    "        plotEmin1 = xiMin(u, plotm_X)\n",
    "        plotEmax1 = xiMax(element, plotm_X, plotrIndex, u)\n",
    "\n",
    "        EscVelDictionary[element][2].append(plotEmin1)\n",
    "        EscVelDictionary[element][3].append(plotEmax1)\n",
    "        \n",
    "\n",
    "print ('Complete')"
   ]
  },
  {
   "cell_type": "markdown",
   "metadata": {
    "collapsed": true
   },
   "source": [
    "Recalling that the valid region of integration is *above* the blue curve and *below* the orange curve, it doesn't appear that there is **any** nonzero region looking at figure 1. Therefor, there must be some region very close to the origin where these two functions yield a nonzero integrand. We investigate further by zooming into the origin, as shown in figure 2."
   ]
  },
  {
   "cell_type": "markdown",
   "metadata": {
    "collapsed": true
   },
   "source": [
    "We can see that only for $u$ between $0$ and $\\approx \\mathcal{O}(10^{-5})$ is the $E_{max}$ actually above $E_{min}$, which means that in the integration limits as stated above, the integrand vanishes for nearly the entire region due to the Heaviside function. \n",
    "\n",
    "To make matters worse, the Python intetegrator  never chooses $u$ values between $0$ and $\\approx 0.00002$, giving the illusion that the integral is zero even though it isn't.\n",
    "\n",
    "The solution is:\n",
    "    - Solve for the intersection point of Emin and Emax, named \"uInt\"\n",
    "    - Integrate u from 0 to uInt\n",
    "    - Integrate E_R from eMin(u) to eMax(u)\n",
    "\n",
    "The values of $E_{min}$ and $E_{max}$ both depend on $u$, so the natural solution is for each $u$ value, \"zoom in\" to the region where the integrand is nonvanishing and calculate the integral in that region. This is acomplished by calculating the $u$ value at the intersection point $E_{min} = E_{max}$.\n",
    "\n",
    "Substituting $ w^2 = u^2 + v_{\\oplus}^2$ gives:\n",
    "\n",
    "$$ \\frac{1}{2}m_X u_{int}^2 = \\frac{2\\mu_N^2}{m_N}(u_{int}^2 + v_{\\oplus}^2) $$\n",
    "\n",
    "solving for the intersection point $u_{int}$ yields:\n",
    "\n",
    "$$ u_{int}^2 = \\frac{2\\mu_N^2}{m_N} \\frac{1}{ \\left( \\frac{1}{2m_X} - \\frac{2\\mu_N^2}{m_N} \\right)  } v_{\\oplus}^2 $$\n",
    "\n",
    "In the function definition, I have made the substitutions:\n",
    "$$ A = \\frac{1}{2}m_X \\ \\text{and} \\ B = 2 \\frac{\\mu_N^2}{m_N}$$\n",
    "\n",
    "yielding: \n",
    "$$ \\text{uInt} = \\sqrt{ \\frac{B}{A-B}}\\,v_{\\oplus} $$\n",
    "The actual coded function is:\n",
    "\n",
    "$$ IntDuDEr = \\int_{0}^{uInt} du \\, u f(u) \\int_{E_{min}}^{E_{Max}} dE_R \\, \\frac{d \\sigma_N}{dE_R}  $$\n",
    "\n",
    "\n",
    "where $\\Theta(\\Delta E)$ is accounted for in the limits of the $u$ integration."
   ]
  },
  {
   "cell_type": "code",
   "execution_count": 37,
   "metadata": {},
   "outputs": [
    {
     "name": "stdout",
     "output_type": "stream",
     "text": [
      "Complete\n"
     ]
    },
    {
     "data": {
      "image/png": "[encoded data removed]",
      "text/plain": [
       "<matplotlib.figure.Figure at 0x25351505128>"
      ]
     },
     "metadata": {},
     "output_type": "display_data"
    },
    {
     "data": {
      "image/png": "[encoded data removed]",
      "text/plain": [
       "<matplotlib.figure.Figure at 0x253515f0ac8>"
      ]
     },
     "metadata": {},
     "output_type": "display_data"
    }
   ],
   "source": [
    "plt1xLabel = np.linspace(0,V_gal,5)\n",
    "plt2xLabel = np.linspace(0,plotuIntPlus,5)\n",
    "\n",
    "\n",
    "# Plot 1\n",
    "fig4 = plt.figure(figsize = (7,5))\n",
    "ax4 = fig4.add_subplot(111)\n",
    "ax4.set_xticks(plt1xLabel)\n",
    "\n",
    "line0, = plt.plot(pltrange0,EscVelDictionary[plotElement][0], label = 'eMin')\n",
    "line1, = plt.plot(pltrange0,EscVelDictionary[plotElement][1], label = 'eMax')\n",
    "plt.legend([line1,line0],[r'$\\xi_{max}$',r'$\\xi_{min}$'], fontsize = 13)\n",
    "plt.xlabel('Naturalized Velocity: $u$', fontsize = 13)\n",
    "plt.ylabel(r'$\\xi_R$', fontsize = 13)\n",
    "plt.suptitle('Recoil Energy Limits for $m_X$ = {0} $GeV$'.format(plotm_X), fontsize = 14)\n",
    "plt.title(r'$\\xi_R$ vs. $u$ for {0}'.format(plotElement), fontsize = 14)\n",
    "plt.grid()\n",
    "\n",
    "\n",
    "# Plot 2\n",
    "fig5 = plt.figure(figsize = (7,5))\n",
    "ax5 = fig5.add_subplot(111)\n",
    "ax5.set_xticks(plt2xLabel)\n",
    "line2, = plt.plot(pltrange1,EscVelDictionary[plotElement][2], label = 'eMin')\n",
    "line3, = plt.plot(pltrange1,EscVelDictionary[plotElement][3], label = 'eMax')\n",
    "plt.xlabel('Naturalized Velocity: $u$', fontsize = 13)\n",
    "plt.ylabel(r'$\\xi_R$', fontsize = 13)\n",
    "plt.legend([line3,line2],[r'$\\xi_{max}$',r'$\\xi_{min}$'], fontsize = 13)\n",
    "plt.suptitle('Recoil Energy Limits Zoomed for $m_X$ = {0} $GeV$'.format(plotm_X), fontsize = 14)\n",
    "plt.title(r'$\\xi_R$ vs. $u$ for {0}'.format(plotElement), fontsize = 14)\n",
    "plt.grid()\n",
    "\n",
    "\n",
    "print ('Complete')"
   ]
  },
  {
   "cell_type": "code",
   "execution_count": 103,
   "metadata": {},
   "outputs": [
    {
     "name": "stdout",
     "output_type": "stream",
     "text": [
      "Filename1: xi_RIron\n",
      "Filename2: xi_RIronZoom\n",
      "Complete\n"
     ]
    }
   ],
   "source": [
    "fileName4 = input('Filename1: ')\n",
    "fileName5 = input('Filename2: ')\n",
    "fig4.savefig(approxPath(fileName4), dpi = 700)\n",
    "fig5.savefig(approxPath(fileName5), dpi = 700)\n",
    "\n",
    "print ('Complete')"
   ]
  },
  {
   "cell_type": "markdown",
   "metadata": {},
   "source": [
    "### Testing the Intersection Function\n",
    "\n",
    "We calculate the intersection for an given element in the previous cell and then zoom into the region near the intersection"
   ]
  },
  {
   "cell_type": "code",
   "execution_count": 81,
   "metadata": {},
   "outputs": [
    {
     "name": "stdout",
     "output_type": "stream",
     "text": [
      "Intersection (u, E_R) = (1.806950983406735e-05, 1.6325359282172837e-10)\n",
      "Complete\n"
     ]
    },
    {
     "data": {
      "image/png": "[encoded data removed]",
      "text/plain": [
       "<matplotlib.figure.Figure at 0x2534fa51320>"
      ]
     },
     "metadata": {},
     "output_type": "display_data"
    }
   ],
   "source": [
    "plotXmin = plotuInt - plotuInt*(0.1)\n",
    "plotXmax = plotuInt + plotuInt*(0.1)\n",
    "# plotYmin = xiMin(plotXmin,plotm_X)\n",
    "# plotYmax = xiMin(plotXmax,plotm_X)\n",
    "plotYmin = xiMin(plotuInt, plotm_X) - (0.1)*xiMin(plotuInt, plotm_X)\n",
    "plotYmax = xiMin(plotuInt, plotm_X) + (0.1)*xiMin(plotuInt, plotm_X)\n",
    "\n",
    "plt6xLabel = np.linspace(plotXmin, plotXmax, 6)\n",
    "\n",
    "fig6 = plt.figure(figsize = (7,5))\n",
    "ax6 = fig6.add_subplot(111)\n",
    "ax6.set_xticks(plt6xLabel)\n",
    "\n",
    "line4, = plt.plot(pltrange1, EscVelDictionary[plotElement][2], label = 'eMin')\n",
    "line5, = plt.plot(pltrange1, EscVelDictionary[plotElement][3], label = 'eMax')\n",
    "line6  = plt.axhline(y= xiMin(plotuInt, plotm_X), xmax = 0.5,color = 'g', linestyle = ':')\n",
    "line7  = plt.axvline(x=plotuInt, ymax = 0.5, color = 'r', linestyle = ':')\n",
    "plt.xlabel('Naturalized Velocity: u')\n",
    "plt.ylabel('$E_R$ $[GeV]$')\n",
    "plt.legend([line4,line5,line6,line7],\\\n",
    "           ['$E_{Min}$','$E_{Max}$','Intersection Energy','Intersection Velocity'],\\\n",
    "           loc = 'upper left')\n",
    "plt.suptitle('Intersection Sanity Check')\n",
    "plt.title('$m_X$ = {0}, {1}'.format(plotm_X, plotElement))\n",
    "plt.grid()\n",
    "plt.axis([plotXmin, plotXmax, plotYmin, plotYmax])\n",
    "\n",
    "print ('Intersection (u, E_R) = ({0}, {1})'.format(plotuInt, xiMin(plotuInt,plotm_X)))\n",
    "print ('Complete')"
   ]
  },
  {
   "cell_type": "code",
   "execution_count": null,
   "metadata": {
    "collapsed": true
   },
   "outputs": [],
   "source": []
  }
 ],
 "metadata": {
  "kernelspec": {
   "display_name": "Python 3",
   "language": "python",
   "name": "python3"
  },
  "language_info": {
   "codemirror_mode": {
    "name": "ipython",
    "version": 3
   },
   "file_extension": ".py",
   "mimetype": "text/x-python",
   "name": "python",
   "nbconvert_exporter": "python",
   "pygments_lexer": "ipython3",
   "version": "3.6.2"
  },
  "latex_envs": {
   "LaTeX_envs_menu_present": true,
   "autocomplete": true,
   "bibliofile": "biblio.bib",
   "cite_by": "apalike",
   "current_citInitial": 1,
   "eqLabelWithNumbers": true,
   "eqNumInitial": 1,
   "hotkeys": {
    "equation": "Ctrl-E",
    "itemize": "Ctrl-I"
   },
   "labels_anchors": false,
   "latex_user_defs": false,
   "report_style_numbering": false,
   "user_envs_cfg": false
  }
 },
 "nbformat": 4,
 "nbformat_minor": 2
}
