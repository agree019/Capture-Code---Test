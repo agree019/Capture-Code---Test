{
 "cells": [
  {
   "cell_type": "code",
   "execution_count": 30,
   "metadata": {
    "collapsed": false
   },
   "outputs": [
    {
     "name": "stdout",
     "output_type": "stream",
     "text": [
      "eqn16(1) ()\n"
     ]
    }
   ],
   "source": [
    "import numpy as np\n",
    "import scipy.integrate as integrate\n",
    "\n",
    "def heaviside (arg1):\n",
    "    if (arg1 >= 0):\n",
    "         return 1\n",
    "    elif (arg1 < 0):\n",
    "        return 0\n",
    "\n",
    "def eqn17(u): # u_0 = 245 km/s, v_gal = 550 km/s, k = 2.5\n",
    "    fofu = ( (np.exp( (550**2 - u**2) / (2.5 * 245**2)) - 1)**2.5) * heaviside( 550 - u )\n",
    "    return fofu\n",
    "\n",
    "\n",
    "def eqn16(u1): # V_dot = 220 km/s, V_cross = 29.8 km/s\n",
    "    def integrand(x, y, u2, z):\n",
    "        return eqn17( ( z*(u2**2 + (220 + 29.8*y)**2 + 2*u2*(220 + 29.8*y)*x) **0.5) )\n",
    "\n",
    "    u2 = u1\n",
    "    z = 1.0\n",
    "    \n",
    "    f_cross = 1/4 * integrate.dblquad(integrand, -1, 1, lambda y: -1, lambda y: 1, args = (u2, z))\n",
    "    return f_cross\n",
    "\n",
    "print 'eqn16(1)', eqn16(1.2)"
   ]
  },
  {
   "cell_type": "code",
   "execution_count": 20,
   "metadata": {
    "collapsed": false
   },
   "outputs": [
    {
     "name": "stdout",
     "output_type": "stream",
     "text": [
      "eqna(2,1) (0.24999999999999997, 2.775557561562891e-15)\n"
     ]
    }
   ],
   "source": [
    "def eqna(alpha, beta):\n",
    "    def integrand(a,b, x, y):\n",
    "        return a*b*(x**2 + y**2)**(1/2)\n",
    "\n",
    "    a = alpha\n",
    "    b = beta\n",
    "    area = integrate.dblquad(integrand , 0, 1, lambda y: 0, lambda y: 1, args = (a,b))\n",
    "    return area\n",
    "\n",
    "print 'eqna(2,1)', eqna(2,1)"
   ]
  },
  {
   "cell_type": "code",
   "execution_count": 25,
   "metadata": {
    "collapsed": false
   },
   "outputs": [
    {
     "name": "stdout",
     "output_type": "stream",
     "text": [
      "test 92.2366063032\n"
     ]
    }
   ],
   "source": [
    "def integrand(x, y, u2, z):\n",
    "        return eqn17( ( z*(u2**2 + (220 + 29.8*y)**2 + 2*u2*(220 + 29.8*y)*x) **0.5) )\n",
    "    \n",
    "print 'test', integrand(.3,.2,.3,.4)"
   ]
  },
  {
   "cell_type": "code",
   "execution_count": null,
   "metadata": {
    "collapsed": true
   },
   "outputs": [],
   "source": []
  }
 ],
 "metadata": {
  "kernelspec": {
   "display_name": "Python 2",
   "language": "python",
   "name": "python2"
  },
  "language_info": {
   "codemirror_mode": {
    "name": "ipython",
    "version": 2
   },
   "file_extension": ".py",
   "mimetype": "text/x-python",
   "name": "python",
   "nbconvert_exporter": "python",
   "pygments_lexer": "ipython2",
   "version": "2.7.10"
  }
 },
 "nbformat": 4,
 "nbformat_minor": 1
}
