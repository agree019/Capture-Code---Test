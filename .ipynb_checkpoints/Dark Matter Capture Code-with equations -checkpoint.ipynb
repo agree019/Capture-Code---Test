{
 "cells": [
  {
   "cell_type": "markdown",
   "metadata": {},
   "source": [
    "# Dark Matter Capture\n",
    "\n",
    "by <br />\n",
    "**Adam Green** (*UC Riverside*, [agree019@ucr.edu](mailto:agree019@ucr.edu)) <br />\n",
    "**Anton Panis** (*North Hollywood HGM*, [aopanis@gmail.com](mailto:aopanis@gmail.com))<br />\n",
    "**Flip Tanedo** (*UC Riverside*, [flip.tanedo@ucr.edu](mailto:flip.tanedo@ucr.edu))<br />"
   ]
  },
  {
   "cell_type": "markdown",
   "metadata": {},
   "source": [
    "## Introduction\n",
    "\n",
    "### Brief introduction to dark matter and dark sectors\n",
    "\n",
    "*To be written by Adam and Anton* \n",
    "\n",
    "### Capture in the Earth and annihilation into dark photons\n",
    "\n",
    "We study the following process:\n",
    "1. Dark matter is captured in the Earth\n",
    "2. Dark matter annihilates into dark photons in the center of the Earth\n",
    "3. The dark photons pass through the earth and decay near the surface\n",
    "4. These dark photons may be detected using the IceCube experiment\n",
    "\n",
    "### What this code does\n",
    "\n",
    "This notebook calculates each of the following steps given a definition of a dark matter model: the mass of the dark matter $m_X$ , the dark photon interaction strength $\\alpha_X$, and the *kinetic mixing* $\\varepsilon$ that controls how much the dark photon talks to ordinary matter."
   ]
  },
  {
   "cell_type": "markdown",
   "metadata": {},
   "source": [
    "## Initialize"
   ]
  },
  {
   "cell_type": "code",
   "execution_count": 2,
   "metadata": {
    "collapsed": true
   },
   "outputs": [],
   "source": [
    "import numpy as np\n",
    "import scipy.integrate as integrate"
   ]
  },
  {
   "cell_type": "markdown",
   "metadata": {},
   "source": [
    "## Unit Conversions"
   ]
  },
  {
   "cell_type": "markdown",
   "metadata": {},
   "source": [
    "These are functions of the form *(unit_A)2(unit_B)*: the input is a number in *unit_A*, the output is a number in *unit_B*. Eventually this might be something that we put back into a separate .py file."
   ]
  },
  {
   "cell_type": "code",
   "execution_count": 6,
   "metadata": {
    "collapsed": true
   },
   "outputs": [],
   "source": [
    "def amu2Gev(par1):\n",
    "    return 0.9314941 * par1 # GeV\n",
    "\n",
    "def amu2g(par1):\n",
    "    return 1.66053892*10**-24 * par1 # grams\n",
    "\n",
    "def GeV2s(par1):\n",
    "    return 1.52*10**24 * par1 # s^-1\n",
    "\n",
    "def s2GeV(par1):\n",
    "    return 1.52*10**24 * par1 # GeV^-1\n",
    "\n",
    "def GeV2cm(par1):\n",
    "    return 5.06*10**13 * par1 # cm^-1\n",
    "\n",
    "def cm2GeV(par1):\n",
    "    return 5.06*10**13 * par1 # GeV^-1\n",
    "\n",
    "def KeltoGeV(par1):\n",
    "    return 8.62*10**-14 * par1 # GeV\n",
    "\n",
    "def s2yr(par1):\n",
    "    return 3.16888*10**-8 * par1 # Yr"
   ]
  },
  {
   "cell_type": "code",
   "execution_count": 5,
   "metadata": {
    "collapsed": false
   },
   "outputs": [
    {
     "data": {
      "text/plain": [
       "3.16888e-08"
      ]
     },
     "execution_count": 5,
     "metadata": {},
     "output_type": "execute_result"
    }
   ],
   "source": [
    "## Testing\n",
    "s2yr(1)"
   ]
  },
  {
   "cell_type": "markdown",
   "metadata": {},
   "source": [
    "## Atomic Data"
   ]
  },
  {
   "cell_type": "markdown",
   "metadata": {},
   "source": [
    "Use the package _Pandas_ to import data from `model_agss09.dat`. Eventually this might be something that we put back into a separate .py file."
   ]
  },
  {
   "cell_type": "code",
   "execution_count": 7,
   "metadata": {
    "collapsed": false
   },
   "outputs": [
    {
     "data": {
      "text/plain": [
       "\"\\nn_N = {'That huge array of values from ref[51]'}\\n\""
      ]
     },
     "execution_count": 7,
     "metadata": {},
     "output_type": "execute_result"
    }
   ],
   "source": [
    "################################################################################\n",
    "# Conversions\n",
    "################################################################################\n",
    "\n",
    "def amu2Gev(par1):\n",
    "    return 0.9314941 * par1 # GeV\n",
    "\n",
    "def amu2g(par1):\n",
    "    return 1.66053892*10**-24 * par1 # grams\n",
    "\n",
    "def GeV2s(par1):\n",
    "    return 1.52*10**24 * par1 # s^-1\n",
    "\n",
    "def s2GeV(par1):\n",
    "    return 1.52*10**24 * par1 # GeV^-1\n",
    "\n",
    "def GeV2cm(par1):\n",
    "    return 5.06*10**13 * par1 # cm^-1\n",
    "\n",
    "def cm2GeV(par1):\n",
    "    return 5.06*10**13 * par1 # GeV^-1\n",
    "\n",
    "def KeltoGeV(par1):\n",
    "    return 8.62*10**-14 * par1 # GeV\n",
    "\n",
    "def s2yr(par1):\n",
    "    return 3.16888*10**-8 * par1 # Yr\n",
    "\n",
    "\n",
    "\n",
    "################################################################################\n",
    "# Atomic Definitions\n",
    "################################################################################\n",
    "# Access dictionary values as: dictionaryName['key']\n",
    "# Dictionaries are sorted by value as:\n",
    "    # for key, value in sorted(dicName.iteritems(), key=lambda (k,v): (v,k)):\n",
    "\n",
    "# Dictionaries must be called as:\n",
    "\n",
    "    # def testfunction(element):\n",
    "    #     return atomicNumbers[element]\n",
    "    # print testfunction('H1')\n",
    "\n",
    "atomicNumbers = { # This is 'A' just below eqn 10\n",
    "    'H1': 1.,\n",
    "    'He4': 4.,\n",
    "    'He3': 3.,\n",
    "    'C12': 12.,\n",
    "    'C13':13.,\n",
    "    'N14':14.,\n",
    "    'N15':15.,\n",
    "    'O16':16.,\n",
    "    'O17':17 ,\n",
    "    'O18':18.,\n",
    "    'Ne20':20.,\n",
    "    'Na':23.,\n",
    "    'Mg24':24., # 78%\n",
    "    'Al27':27.,\n",
    "    'Si28':28.,\n",
    "    'P31':31.,\n",
    "    'S32':32.,\n",
    "    'Cl35':35., # 75%\n",
    "    'Ar40':40.,\n",
    "    'K39':39.,\n",
    "    'Ca40':40.,\n",
    "    'Sc45':45.,\n",
    "    'Ti48':48., # 74%\n",
    "    'V51':51.,\n",
    "    'Cr52':52., # 83%\n",
    "    'Mn55':55.,\n",
    "    'Fe56':56.,\n",
    "    'Co59':59.,\n",
    "    'Ni58':58. # 58%\n",
    "}\n",
    "\n",
    "isotopicMasses = { # This is m_N anywhere you see it\n",
    "    'H1': 1.007825, # 1.674E-27\n",
    "    'He4':4.0026,\n",
    "    'He3':3.0160,\n",
    "    'C12':12.,\n",
    "    'C13':13.003355,\n",
    "    'N14':14.003074,\n",
    "    'N15':15.000109,\n",
    "    'O16':15.994915,\n",
    "    'O17':16.999132 ,\n",
    "    'O18':17.99916,\n",
    "    'Ne20':19.992440,\n",
    "    'Na':22.989770,\n",
    "    'Mg24':23.985042, # 78%\n",
    "    'Al27':26.981538,\n",
    "    'Si28':27.976927,\n",
    "    'P31':30.973762,\n",
    "    'S32':31.972071,\n",
    "    'Cl35':34.99688, # 75%\n",
    "    'Ar40':39.962383,\n",
    "    'K39':38.963707,\n",
    "    'Ca40':39.962591,\n",
    "    'Sc45':44.95591,\n",
    "    'Ti48':47.947947, # 74%\n",
    "    'V51':50.943964,\n",
    "    'Cr52':51.940512, # 83%\n",
    "    'Mn55':54.938050,\n",
    "    'Fe56':55.934942,\n",
    "    'Co59':58.9332,\n",
    "    'Ni58':57.935348, # 58%\n",
    "}\n",
    "\n",
    "nProtons = { # This is Z_N\n",
    "    'H1':1,\n",
    "    'He3':2,\n",
    "    'He4':2,\n",
    "    'He3':2,\n",
    "    'C12':6,\n",
    "    'C13':6,\n",
    "    'N14':7,\n",
    "    'N15':7,\n",
    "    'O16':8,\n",
    "    'O17':8,\n",
    "    'O18':8,\n",
    "    'Ne20':10,\n",
    "    'Na':11,\n",
    "    'Mg24':12, # 78%\n",
    "    'Al27':13,\n",
    "    'Si28':14,\n",
    "    'P31':15,\n",
    "    'S32':16,\n",
    "    'Cl35':17, # 75%\n",
    "    'Ar40':18,\n",
    "    'K39':19,\n",
    "    'Ca40':20,\n",
    "    'Sc45':21,\n",
    "    'Ti48':22, # 74%\n",
    "    'V51':23,\n",
    "    'Cr52':24, # 83%\n",
    "    'Mn55':25,\n",
    "    'Fe56':26,\n",
    "    'Co59':27,\n",
    "    'Ni58':28 # 58%\n",
    "}\n",
    "\n",
    "# Mass Fraction Dictionary\n",
    "coreMassFrac = {\n",
    "    'O16' : 0.009,\n",
    "    'Mg24': 0.0,\n",
    "    'Al27': 0.0,\n",
    "    'Si28': 0.06,\n",
    "    'P31' : 0.002,\n",
    "    'S32' : 0.019,\n",
    "    'Ca40': 0.0,\n",
    "    'Cr52': 0.009,\n",
    "    'Fe56': 0.855,\n",
    "    'Ni58': 0.052    \n",
    "}\n",
    "\n",
    "mantleMassFrac = {\n",
    "    'O16' : 0.440,\n",
    "    'Mg24': 0.228,\n",
    "    'Al27': 0.0235,\n",
    "    'Si28': 0.210,\n",
    "    'P31' : 0.00009,\n",
    "    'S32' : 0.00025,\n",
    "    'Ca40': 0.0253,\n",
    "    'Cr52': 0.0026,\n",
    "    'Fe56': 0.0626,\n",
    "    'Ni58': 0.00196    \n",
    "}\n",
    "print 'Complete'"
   ]
  },
  {
   "cell_type": "markdown",
   "metadata": {},
   "source": [
    "## Model Parameters\n",
    "\n",
    "The model parameters are as follows:\n",
    "\n",
    "$m_X$: the mass of the dark matter particle, in eV\n",
    "\n",
    "$m_A$: the mass of the dark photon, in eV\n",
    "\n",
    "$\\alpha$: the fine structure constant, $\\alpha= \\frac{1}{137} = e^2/4\\pi$, measuring the strength of electromagnetism\n",
    "\n",
    "$\\alpha_X$: the dark fine structure constant, measuring how much the dark photon interacts with dark matter\n",
    "\n",
    "$\\varepsilon$: the kinetic mixing parameter.\n",
    "This encodes how much the dark photon interacts with ordinary matter."
   ]
  },
  {
   "cell_type": "code",
   "execution_count": 1,
   "metadata": {
    "collapsed": false,
    "scrolled": true
   },
   "outputs": [
    {
     "name": "stdout",
     "output_type": "stream",
     "text": [
      "Assuming the following model parameters: \n",
      "m_X = 1.000000e+12\n",
      "m_A = 1.000000e+09\n",
      "epsilon = 1.000000e-08\n",
      "alpha = 3.500000e-02\n",
      "alpha_X = 3.500000e-02\n",
      "Complete\n"
     ]
    }
   ],
   "source": [
    "################################################################################\n",
    "# Model Parameters\n",
    "################################################################################\n",
    "\n",
    "# Input by hand for now\n",
    "#print '''Input Model Parameters: m_X, m_A, epsilon, alpha, alpha_X: '''\n",
    "global m_X\n",
    "global m_A\n",
    "global epsilon\n",
    "global alpha\n",
    "global alpha_X\n",
    "\n",
    "m_X = 1.E12 # eV\n",
    "m_A = 1.E9 # eV\n",
    "epsilon = 0.00000001\n",
    "alpha = 0.035\n",
    "alpha_X = 0.035\n",
    "\n",
    "print'''Assuming the following model parameters: \n",
    "m_X = %e\n",
    "m_A = %e\n",
    "epsilon = %e\n",
    "alpha = %e\n",
    "alpha_X = %e''' % (m_X, m_A, epsilon, alpha, alpha_X)\n",
    "\n",
    "\n",
    "#m_X = float(raw_input(\"m_X = \"))\n",
    "#m_A = float(raw_input(\"m_A = \"))\n",
    "#epsilon = float(raw_input(\"epsilon = \"))\n",
    "#alpha = float(raw_input(\"alpha = \"))\n",
    "#alpha_X = float(raw_input(\"alpha_X = \"))\n",
    "\n",
    "assert m_X >= 0, 'Dark matter mass is negative'\n",
    "assert m_A >= 0, 'Dark photon mass is negative'\n",
    "assert epsilon >= 0, 'Coupling constant epsilon is negative'\n",
    "assert alpha >= 0, 'Coupling constant alpha is negative'\n",
    "assert alpha_X >= 0, 'Coupling constant alpha_X is negative'\n",
    "\n",
    "################################################################################\n",
    "# Constants\n",
    "################################################################################\n",
    "\n",
    "global G\n",
    "global M_E\n",
    "global R_earth\n",
    "global V_dot\n",
    "global V_cross\n",
    "global V_gal\n",
    "global u_0\n",
    "global k\n",
    "global n_X\n",
    "global mf\n",
    "\n",
    "G = 6.674*10**-11 # N m^2/ kg^2\n",
    "M_E = 5.972 * 10**24 # kg\n",
    "R_earth = 6371000 # m      # Changed from R_earth = 6370000 m via google search\n",
    "R_crit = 3480000 # m\n",
    "V_dot = 220000 # m/s\n",
    "V_cross = 29800 # m/s\n",
    "V_gal = 550000 # m/s\n",
    "u_0 = 245000 # m/s\n",
    "k = 2.5\n",
    "n_X = 0.3e6/m_X #GeV/m^3   # Changed from n_X = 0.3/m_X GeV/cm^3\n",
    "mf = 1.0\n",
    "\n",
    "print 'Complete'"
   ]
  },
  {
   "cell_type": "markdown",
   "metadata": {},
   "source": [
    "## Capture"
   ]
  },
  {
   "cell_type": "markdown",
   "metadata": {},
   "source": [
    "Expressions and equation numbers from `1509.07525`.\n",
    "\n",
    "Equation (9)\n",
    "$$\n",
    "\\frac{d\\sigma_N}{dE_R} \\approx\n",
    "8\\pi \\varepsilon^2 \\alpha_X \\alpha Z_N^2\n",
    "\\frac{m_N}{w^2(2m_N E_R + m_{A'}^2)^2}\n",
    "\\vert F_N \\vert^2 \\ .\n",
    "$$\n",
    "\n",
    "In this expression, $d\\sigma_N/dE_R$ is the **differential cross section** for dark matter scattering off a nucleon, $XN \\to XN$. This quantity encodes the probability that a dark matter particle, $X$, will hit a stationary nucleon, $N$, in such a way that the nucleon recoils with energy $E_R$.\n",
    "\n",
    "$Z_N$ is the number of protons in the target nucleus and $F_N$ is the **Helm form factor** which measures the extent to which $XN\\to XN$ scattering is coherent. At a microscopic level, dark photons interact with individual protons. However, at the characteristic de Broglie wavelengths associated with the scattering, the interactions with individual protons is coherent. The form factor accounts for corrections to this coherence.\n",
    "\n",
    "$w$ is the velocity of dark matter in the frame of the nucleus (lab frame). The recoil energy is $$E_R = m_{rN}^2 w^2 (1-\\cos \\theta_{CM})/m_N.$$\n",
    "\n",
    "The form factor is $$|F_N(E_R)|^2 = e^{-E_R/E_N}.$$\n",
    "\n",
    "**TO DO**: $F_N$ is a function of $E_R$, so this should be accounted for. "
   ]
  },
  {
   "cell_type": "code",
   "execution_count": 10,
   "metadata": {
    "collapsed": true
   },
   "outputs": [],
   "source": [
    "\n",
    "# Translate Z_N and m_N to dictionary values defined in the 'Atomic Definitions' section\n",
    "def eqn09(Z_N, m_N, omega, E_R, epsilon = epsilon, alpha = alpha, alpha_X = alpha_X, m_A = m_A):\n",
    "    dSigmaNdE_R = 8 * np.pi * epsilon**2 * alpha_X * alpha * Z_N**2 *\\\n",
    "    (m_N) / (omega**2 * (2*m_N * E_R + m_A**2)**2 ) * (np.abs(F_N))**2\n",
    "    return dSigmaNdE_R\n"
   ]
  },
  {
   "cell_type": "markdown",
   "metadata": {},
   "source": [
    "Equation (10)\n",
    "\n",
    "$$ F_N(E_R) = \\cdots \\alpha $$"
   ]
  },
  {
   "cell_type": "code",
   "execution_count": 4,
   "metadata": {
    "collapsed": false
   },
   "outputs": [
    {
     "name": "stdout",
     "output_type": "stream",
     "text": [
      "Carry out H1 calculation: (y/n)y\n"
     ]
    },
    {
     "ename": "NameError",
     "evalue": "name 'isotopicMasses' is not defined",
     "output_type": "error",
     "traceback": [
      "\u001b[1;31m---------------------------------------------------------------------------\u001b[0m",
      "\u001b[1;31mNameError\u001b[0m                                 Traceback (most recent call last)",
      "\u001b[1;32m<ipython-input-4-00c9656c9427>\u001b[0m in \u001b[0;36m<module>\u001b[1;34m()\u001b[0m\n\u001b[0;32m     85\u001b[0m \u001b[1;32mif\u001b[0m \u001b[1;33m(\u001b[0m\u001b[0mgo\u001b[0m \u001b[1;33m==\u001b[0m \u001b[1;34m'y'\u001b[0m\u001b[1;33m)\u001b[0m\u001b[1;33m:\u001b[0m\u001b[1;33m\u001b[0m\u001b[0m\n\u001b[0;32m     86\u001b[0m \u001b[1;33m\u001b[0m\u001b[0m\n\u001b[1;32m---> 87\u001b[1;33m     \u001b[0mm_N\u001b[0m \u001b[1;33m=\u001b[0m \u001b[0misotopicMasses\u001b[0m\u001b[1;33m[\u001b[0m\u001b[1;34m'H1'\u001b[0m\u001b[1;33m]\u001b[0m \u001b[1;31m# GENERALIZE\u001b[0m\u001b[1;33m\u001b[0m\u001b[0m\n\u001b[0m\u001b[0;32m     88\u001b[0m     \u001b[1;32mprint\u001b[0m \u001b[1;34m'm_N = '\u001b[0m\u001b[1;33m,\u001b[0m \u001b[0mm_N\u001b[0m\u001b[1;33m\u001b[0m\u001b[0m\n\u001b[0;32m     89\u001b[0m \u001b[1;33m\u001b[0m\u001b[0m\n",
      "\u001b[1;31mNameError\u001b[0m: name 'isotopicMasses' is not defined"
     ]
    }
   ],
   "source": [
    "\n",
    "def eqn10b(A_N):\n",
    "    E_N = 0.114/ (A_N)**(5/3) # 0.114 GeV\n",
    "    return E_N\n",
    "\n",
    "\n",
    "# A_N is atomic mass number\n",
    "# Translate A_N to a dictionary value of isotopicMasses['A_N']\n",
    "def eqn10(E_R, A_N):\n",
    "    E_N = 0.114/(A_N**float(5/3)) # 0.114 GeV\n",
    "    F_N = np.exp(-E_R/ E_N)\n",
    "    return F_N\n",
    "\n",
    "\n",
    "def eqn13a(m_X, omega, V_cross = V_cross):\n",
    "    E_min = 0.5 * m_X * (omega**2 - V_cross**2)\n",
    "    return E_min\n",
    "\n",
    "\n",
    "def eqn13b(mu_N, m_N, omega):\n",
    "    E_max = 2 * mu_N**2 * omega**2 / m_N\n",
    "    return E_max\n",
    "\n",
    "\n",
    "# Returns only the positive root of Equation 14\n",
    "def eqn14(u, V_cross = V_cross):\n",
    "    w = np.sqrt( u**2 + V_cross**2)\n",
    "    return w\n",
    "\n",
    "\n",
    "def eqn15():\n",
    "    return null\n",
    "\n",
    "\n",
    "def eqn16(u1):\n",
    "    V_dot = 220\n",
    "    V_cross = 29.8\n",
    "    u2 = u1\n",
    "    def integrand(x, y, u2, V_dot = V_dot, V_cross = V_cross): #x = cos(theta), y = cos(phi)\n",
    "        return eqn17( ( u2**2 + (V_dot+V_cross * y)**2 + 2 * u2 * (V_dot + V_cross*y) *x)** 0.5  )\n",
    "\n",
    "    return integrate.dblquad(integrand, -1, 1, lambda y: -1, lambda y: 1, args = (u2, V_dot, V_cross))[0]\n",
    "\n",
    "\n",
    "\n",
    "def eqn17(u, k = k, u_0 = u_0, V_gal = V_gal):\n",
    "\n",
    "# This chunk is the normalization constant\n",
    "    def normalization17(x):\n",
    "        return np.exp( ( (V_gal**2 - x**2)/(k*u_0**2)) -1) **k\n",
    "    alpha = integrate.quad(normalization17, -np.inf, np.inf)[0]\n",
    "    N_0 = 1./alpha\n",
    "\n",
    "# Here is the rest of the actul equation 17\n",
    "    fofu = N_0 * (np.exp((V_gal**2 - u**2) / (k * u_0**2)) - 1)**k * heaviside(V_gal - u)\n",
    "    return fofu\n",
    "\n",
    "\n",
    "def eqn20a(m_N, E_R, E_N, m_A = m_A):\n",
    "    return ((2 * m_N * E_R) + (m_A**2)) / (2 * m_N * E_N)\n",
    "\n",
    "\n",
    "def eqn20b(z):\n",
    "    def integrand(t):\n",
    "        return np.exp(-t) / t\n",
    "    return integrate.quad(integrand, -z, np.inf)[0]\n",
    "\n",
    "\n",
    "def eqn21(n_X, Z_N, m_N, E_N, m_A):\n",
    "\n",
    "    def integrand (r, u):\n",
    "        return r**2 * u * eqn16(u) * heaviside(10 - u)\n",
    "\n",
    "    return integrate.dblquad(integrand, 0, R_cross, lambda u: 0, lambda u: 10)\n",
    "\n",
    "\n",
    "\n",
    "\n",
    "################################################################################\n",
    "# Here is where the actual calculations start\n",
    "################################################################################\n",
    "# Consider the entire process for a single element, say H1:\n",
    "\n",
    "go = raw_input(\"Carry out H1 calculation: (y/n)\")\n",
    "if (go == 'y'):\n",
    "\n",
    "    m_N = isotopicMasses['H1'] # GENERALIZE\n",
    "    print 'm_N = ', m_N\n",
    "\n",
    "    mu_N = mu_N = (m_N * m_X)/ (m_N + m_X)\n",
    "    print 'mu_N = ', mu_N\n",
    "\n",
    "    E_N = 0.114 / atomicNumbers['H1'] #GENERALIZE\n",
    "    print 'E_N = ', E_N\n",
    "\n",
    "    print 'eqn09(1,2,3,4,5)', eqn09(1,2,3,4,5)\n",
    "    print 'eqn10(1,1)', eqn10(1,1)\n",
    "    print 'eqn14(3,4)', eqn14(3,4), \"Verified by hand\"\n",
    "    print 'eqn16(1)', eqn16(1)\n",
    "    print 'Normalization verified via Wolfram: 0.00018169338296 (double check again)'\n",
    "    print 'eqn17(1)', eqn17(1), \"Verified via Wolfram\"\n",
    "    print 'eqn20a(1,1,1)', eqn20a(1,1,1), \"Verified by hand\"\n",
    "    print 'eqn20b(-1)', eqn20b(-1), \"Verified via Wolfram\"\n",
    "\n",
    "\n",
    "else:\n",
    "    print \"Guess Not\"\n"
   ]
  },
  {
   "cell_type": "code",
   "execution_count": 2,
   "metadata": {
    "collapsed": false
   },
   "outputs": [
    {
     "data": {
      "text/plain": [
       "1.0"
      ]
     },
     "execution_count": 2,
     "metadata": {},
     "output_type": "execute_result"
    }
   ],
   "source": [
    "eqn14(1,0)"
   ]
  },
  {
   "cell_type": "code",
   "execution_count": 3,
   "metadata": {
    "collapsed": false
   },
   "outputs": [
    {
     "data": {
      "text/plain": [
       "2.0"
      ]
     },
     "execution_count": 3,
     "metadata": {},
     "output_type": "execute_result"
    }
   ],
   "source": [
    "eqn14(2,0)"
   ]
  },
  {
   "cell_type": "code",
   "execution_count": 4,
   "metadata": {
    "collapsed": false
   },
   "outputs": [
    {
     "data": {
      "text/plain": [
       "29.867038688159226"
      ]
     },
     "execution_count": 4,
     "metadata": {},
     "output_type": "execute_result"
    }
   ],
   "source": [
    "eqn14(2)"
   ]
  },
  {
   "cell_type": "code",
   "execution_count": 5,
   "metadata": {
    "collapsed": true
   },
   "outputs": [],
   "source": [
    "def test(x,y,z=2,w=3):\n",
    "    return x+y+z+w"
   ]
  },
  {
   "cell_type": "code",
   "execution_count": 10,
   "metadata": {
    "collapsed": false
   },
   "outputs": [
    {
     "data": {
      "text/plain": [
       "5"
      ]
     },
     "execution_count": 10,
     "metadata": {},
     "output_type": "execute_result"
    }
   ],
   "source": [
    "test(1,2,w=1,z=1)"
   ]
  },
  {
   "cell_type": "code",
   "execution_count": 11,
   "metadata": {
    "collapsed": false
   },
   "outputs": [
    {
     "name": "stdout",
     "output_type": "stream",
     "text": [
      "Carry out H1 calculation: (y/n)n\n",
      "Guess Not\n"
     ]
    }
   ],
   "source": [
    "go = raw_input(\"Carry out H1 calculation: (y/n)\")\n",
    "if (go == 'y'):\n",
    "\n",
    "    m_N = isotopicMasses['H1'] # GENERALIZE\n",
    "    print 'm_N = ', m_N\n",
    "\n",
    "    mu_N = mu_N = (m_N * m_X)/ (m_N + m_X)\n",
    "    print 'mu_N = ', mu_N\n",
    "\n",
    "    E_N = 0.114 / atomicNumbers['H1'] #GENERALIZE\n",
    "    print 'E_N = ', E_N\n",
    "\n",
    "    print 'eqn09(1,2,3,4,5)', eqn09(1,2,3,4,5)\n",
    "    print 'eqn10(1,1)', eqn10(1,1)\n",
    "    print 'eqn14(3,4)', eqn14(3,4), \"Verified by hand\"\n",
    "    print 'eqn16(1)', eqn16(1)\n",
    "    print 'Normalization verified via Wolfram: 0.00018169338296 (double check again)'\n",
    "    print 'eqn17(1)', eqn17(1), \"Verified via Wolfram\"\n",
    "    print 'eqn20a(1,1,1)', eqn20a(1,1,1), \"Verified by hand\"\n",
    "    print 'eqn20b(-1)', eqn20b(-1), \"Verified via Wolfram\"\n",
    "\n",
    "\n",
    "else:\n",
    "    print \"Guess Not\"\n",
    "\n"
   ]
  },
  {
   "cell_type": "code",
   "execution_count": null,
   "metadata": {
    "collapsed": true
   },
   "outputs": [],
   "source": []
  }
 ],
 "metadata": {
  "anaconda-cloud": {},
  "kernelspec": {
   "display_name": "Python [Root]",
   "language": "python",
   "name": "Python [Root]"
  },
  "language_info": {
   "codemirror_mode": {
    "name": "ipython",
    "version": 2
   },
   "file_extension": ".py",
   "mimetype": "text/x-python",
   "name": "python",
   "nbconvert_exporter": "python",
   "pygments_lexer": "ipython2",
   "version": "2.7.12"
  }
 },
 "nbformat": 4,
 "nbformat_minor": 1
}
