{
 "cells": [
  {
   "cell_type": "markdown",
   "metadata": {},
   "source": [
    "# MasterFunctions - Signal Rates\n",
    "\n",
    "This notebook contains all function definitions required to generate the signal plots for IceCube"
   ]
  },
  {
   "cell_type": "code",
   "execution_count": 1,
   "metadata": {
    "ExecuteTime": {
     "end_time": "2017-09-12T13:58:52.242769Z",
     "start_time": "2017-09-12T13:58:51.725797Z"
    },
    "collapsed": true
   },
   "outputs": [],
   "source": [
    "import io, os, sys, types\n",
    "\n",
    "from IPython import get_ipython\n",
    "from nbformat import read\n",
    "from IPython.core.interactiveshell import InteractiveShell\n",
    "\n",
    "def find_notebook(fullname, path=None):\n",
    "    \"\"\"find a notebook, given its fully qualified name and an optional path\n",
    "\n",
    "    This turns \"foo.bar\" into \"foo/bar.ipynb\"\n",
    "    and tries turning \"Foo_Bar\" into \"Foo Bar\" if Foo_Bar\n",
    "    does not exist.\n",
    "    \"\"\"\n",
    "    name = fullname.rsplit('.', 1)[-1]\n",
    "    if not path:\n",
    "        path = ['']\n",
    "    for d in path:\n",
    "        nb_path = os.path.join(d, name + \".ipynb\")\n",
    "        if os.path.isfile(nb_path):\n",
    "            return nb_path\n",
    "        # let import Notebook_Name find \"Notebook Name.ipynb\"\n",
    "        nb_path = nb_path.replace(\"_\", \" \")\n",
    "        if os.path.isfile(nb_path):\n",
    "            return nb_path\n",
    "        \n",
    "class NotebookLoader(object):\n",
    "    \"\"\"Module Loader for Jupyter Notebooks\"\"\"\n",
    "    def __init__(self, path=None):\n",
    "        self.shell = InteractiveShell.instance()\n",
    "        self.path = path\n",
    "\n",
    "    def load_module(self, fullname):\n",
    "        \"\"\"import a notebook as a module\"\"\"\n",
    "        path = find_notebook(fullname, self.path)\n",
    "\n",
    "        print (\"importing Jupyter notebook from %s\" % path)\n",
    "\n",
    "        # load the notebook object\n",
    "        with io.open(path, 'r', encoding='utf-8') as f:\n",
    "            nb = read(f, 4)\n",
    "\n",
    "\n",
    "        # create the module and add it to sys.modules\n",
    "        # if name in sys.modules:\n",
    "        #    return sys.modules[name]\n",
    "        mod = types.ModuleType(fullname)\n",
    "        mod.__file__ = path\n",
    "        mod.__loader__ = self\n",
    "        mod.__dict__['get_ipython'] = get_ipython\n",
    "        sys.modules[fullname] = mod\n",
    "\n",
    "        # extra work to ensure that magics that would affect the user_ns\n",
    "        # actually affect the notebook module's ns\n",
    "        save_user_ns = self.shell.user_ns\n",
    "        self.shell.user_ns = mod.__dict__\n",
    "\n",
    "        try:\n",
    "            for cell in nb.cells:\n",
    "                if cell.cell_type == 'code':\n",
    "                    # transform the input to executable Python\n",
    "                    code = self.shell.input_transformer_manager.transform_cell(cell.source)\n",
    "                    # run the code in themodule\n",
    "                    exec(code, mod.__dict__)\n",
    "        finally:\n",
    "            self.shell.user_ns = save_user_ns\n",
    "        return mod\n",
    "\n",
    "    \n",
    "class NotebookFinder(object):\n",
    "    \"\"\"Module finder that locates Jupyter Notebooks\"\"\"\n",
    "    def __init__(self):\n",
    "        self.loaders = {}\n",
    "\n",
    "    def find_module(self, fullname, path=None):\n",
    "        nb_path = find_notebook(fullname, path)\n",
    "        if not nb_path:\n",
    "            return\n",
    "\n",
    "        key = path\n",
    "        if path:\n",
    "            # lists aren't hashable\n",
    "            key = os.path.sep.join(path)\n",
    "\n",
    "        if key not in self.loaders:\n",
    "            self.loaders[key] = NotebookLoader(path)\n",
    "        return self.loaders[key]\n",
    "    \n",
    "sys.meta_path.append(NotebookFinder())\n",
    "\n",
    "# print ('Complete')"
   ]
  },
  {
   "cell_type": "code",
   "execution_count": 2,
   "metadata": {
    "ExecuteTime": {
     "end_time": "2017-09-12T13:59:14.818353Z",
     "start_time": "2017-09-12T13:58:54.320257Z"
    }
   },
   "outputs": [
    {
     "name": "stdout",
     "output_type": "stream",
     "text": [
      "importing Jupyter notebook from MasterFunctions_Capture.ipynb\n",
      "importing Jupyter notebook from MasterFunctions_ModelData.ipynb\n",
      "------ MasterFunctions_ModelData Imported ------\n",
      "------ MasterFunctions_Capture Loaded ------\n",
      "importing Jupyter notebook from MasterFunctions_Annihilation.ipynb\n",
      "------ MasterFunctions_Annihilation Loaded ------\n"
     ]
    }
   ],
   "source": [
    "from MasterFunctions_Capture import *\n",
    "from MasterFunctions_Annihilation import *\n",
    "\n",
    "# print ('Notebooks Imported')"
   ]
  },
  {
   "cell_type": "markdown",
   "metadata": {},
   "source": [
    "------------------"
   ]
  },
  {
   "cell_type": "markdown",
   "metadata": {},
   "source": [
    "# Signal Rate Functions"
   ]
  },
  {
   "cell_type": "markdown",
   "metadata": {},
   "source": [
    "## Equilibrium Timescale"
   ]
  },
  {
   "cell_type": "code",
   "execution_count": 3,
   "metadata": {
    "ExecuteTime": {
     "end_time": "2017-09-12T14:06:12.616668Z",
     "start_time": "2017-09-12T14:06:12.604655Z"
    },
    "collapsed": true
   },
   "outputs": [],
   "source": [
    "def tau(CCap,CAnn): # CCap and CAnn are both in sec^-1\n",
    "    function = 1./(np.sqrt(CCap*CAnn))\n",
    "    \n",
    "    return function"
   ]
  },
  {
   "cell_type": "markdown",
   "metadata": {},
   "source": [
    "## Gamma Annihilation"
   ]
  },
  {
   "cell_type": "code",
   "execution_count": 55,
   "metadata": {
    "ExecuteTime": {
     "end_time": "2017-09-12T14:43:07.053553Z",
     "start_time": "2017-09-12T14:43:07.040518Z"
    },
    "collapsed": true
   },
   "outputs": [],
   "source": [
    "def gammaAnn(Ccap, Cann):\n",
    "    Tau = tau(Ccap, Cann)\n",
    "    EQRatio = tauCross/Tau\n",
    "    function = (0.5) * Ccap * ((np.tanh(EQRatio))**2)\n",
    "    \n",
    "    return function"
   ]
  },
  {
   "cell_type": "markdown",
   "metadata": {},
   "source": [
    "## Decay Width\n",
    "\n",
    "I don't think I actually call these anywhere in my code"
   ]
  },
  {
   "cell_type": "code",
   "execution_count": 56,
   "metadata": {
    "ExecuteTime": {
     "end_time": "2017-09-12T14:43:07.732846Z",
     "start_time": "2017-09-12T14:43:07.710788Z"
    },
    "collapsed": true
   },
   "outputs": [],
   "source": [
    "def decayWidth1(mA, mf, epsilon, alpha):\n",
    "    Nc = 1\n",
    "    qf = 1\n",
    "    function = Nc * epsilon**2 * qf * alpha * (mA**2 + 2*mf**2) * \\\n",
    "        np.sqrt(1-(4*mf**2/mA**2)) *(1/(3*mA))\n",
    "    return function\n",
    "\n",
    "def decayWidth2(mA, epsilon, alpha):\n",
    "    function= alpha*epsilon**2*mA/3\n",
    "    return function\n",
    "\n",
    "# def decayWidthJordan(mA, mf, epsilon, alpha):\n",
    "#     Nc = 1\n",
    "#     qf = 1\n",
    "#     function = Nc * epsilon**2 * qf * alpha * (mA**2 + 2*mf**2) * \\\n",
    "#         np.sqrt(1-(4*mf**2/mA**2)) *(1/(3*mA))\n",
    "#     return function\n",
    "\n",
    "# print (decayWidth1(1, 0.01, 10**-8, 1./137))\n",
    "# print (decayWidth2(1,10**-8,1./137))"
   ]
  },
  {
   "cell_type": "markdown",
   "metadata": {},
   "source": [
    "## Decay Length (Eqn 3 Sun Paper)"
   ]
  },
  {
   "cell_type": "code",
   "execution_count": 57,
   "metadata": {
    "ExecuteTime": {
     "end_time": "2017-09-12T14:43:08.086244Z",
     "start_time": "2017-09-12T14:43:08.041123Z"
    },
    "collapsed": true
   },
   "outputs": [],
   "source": [
    "######################################\n",
    "# This is EQN 3 in the Sun paper\n",
    "######################################\n",
    "\n",
    "# def decayLength1(m_X, m_A, epsilon, BR): # Returns cm\n",
    "#     RDot = 7e10 # cm, radius of sun\n",
    "#     function = RDot * BR * (1.1e-9/epsilon)**2 * (m_X/m_A) * (1./1000) * (0.1/m_A)\n",
    "#     return function\n",
    "\n",
    "######################################\n",
    "# This is EQN 4 in the Earth paper\n",
    "######################################\n",
    "def decayLength(m_X, m_A, epsilon, BR):\n",
    "    '''\n",
    "    decayLength(m_X, m_A, epsilon, BR) returns the length of travel in cm, since the radius of\n",
    "    the Earth, RCross is given in cm.\n",
    "    '''\n",
    "    function = RCross * BR * (3.6e-9/epsilon)**2 * (m_X/m_A) * (1./1000) * (1./m_A)\n",
    "    return function\n"
   ]
  },
  {
   "cell_type": "markdown",
   "metadata": {},
   "source": [
    "## Deacay Parameter $\\varepsilon$ (Eqn 31)"
   ]
  },
  {
   "cell_type": "code",
   "execution_count": 58,
   "metadata": {
    "ExecuteTime": {
     "end_time": "2017-09-12T14:43:08.330617Z",
     "start_time": "2017-09-12T14:43:08.319086Z"
    }
   },
   "outputs": [
    {
     "name": "stdout",
     "output_type": "stream",
     "text": [
      "3492979199999.9995\n",
      "2.86233340363e-08\n"
     ]
    }
   ],
   "source": [
    "def epsilonDecay(decayLength, effectiveDepth = 10**5): # Effective depth = 1 km\n",
    "    '''\n",
    "    epsilonDecay(decayLength, effectiveDepth = 10**5) For this function, the effectiveDepth parameter\n",
    "    is set to the default value for the IceCube Neutrino Observatory of 1 km.\n",
    "    '''\n",
    "    arg1 = RCross\n",
    "    arg2 = RCross + effectiveDepth\n",
    "    \n",
    "    function = np.exp(-arg1/decayLength) - np.exp(-arg2/decayLength)\n",
    "    return function\n"
   ]
  },
  {
   "cell_type": "markdown",
   "metadata": {},
   "source": [
    "## IceCube Signal Rates"
   ]
  },
  {
   "cell_type": "code",
   "execution_count": 59,
   "metadata": {
    "ExecuteTime": {
     "end_time": "2017-09-12T14:43:14.039415Z",
     "start_time": "2017-09-12T14:43:14.028388Z"
    },
    "collapsed": true
   },
   "outputs": [],
   "source": [
    "# Live time T must be in Seconds\n",
    "def iceCubeSignal(gammaAnn, epsilonDecay, T, Aeff = 10**10):\n",
    "    function = 2 * gammaAnn * (Aeff/ (4*np.pi*RCross**2) ) * epsilonDecay * T\n",
    "    return function\n"
   ]
  },
  {
   "cell_type": "markdown",
   "metadata": {
    "ExecuteTime": {
     "end_time": "2017-09-11T18:45:32.814604Z",
     "start_time": "2017-09-11T18:45:32.812098Z"
    },
    "collapsed": true
   },
   "source": [
    "## Sanity Check"
   ]
  },
  {
   "cell_type": "code",
   "execution_count": 6,
   "metadata": {
    "ExecuteTime": {
     "end_time": "2017-09-11T22:46:47.900651Z",
     "start_time": "2017-09-11T22:46:47.891125Z"
    }
   },
   "outputs": [
    {
     "name": "stdout",
     "output_type": "stream",
     "text": [
      "673800000.0\n",
      "315360000.0\n",
      "Complete\n"
     ]
    }
   ],
   "source": [
    "# m_X = 1000.\n",
    "# m_A = 0.5\n",
    "# epsilon = 10**-8\n",
    "# alpha = 1./137\n",
    "# alpha_X = alphaTherm(m_X, m_A)\n",
    "\n",
    "# BR = 1\n",
    "# LiveTime = yr2s(10)\n",
    "\n",
    "# print (RCross)\n",
    "# print (LiveTime)\n",
    "# print ('Complete')"
   ]
  },
  {
   "cell_type": "code",
   "execution_count": 13,
   "metadata": {
    "ExecuteTime": {
     "end_time": "2017-09-11T22:50:42.174384Z",
     "start_time": "2017-09-11T22:50:42.165865Z"
    }
   },
   "outputs": [
    {
     "name": "stdout",
     "output_type": "stream",
     "text": [
      "Complete\n"
     ]
    }
   ],
   "source": [
    "# kappa = kappa_0(m_X, alpha)\n",
    "# Capture = CCapQuick(m_X, m_A, epsilon, alpha_X, kappa)\n",
    "\n",
    "# Sommerfeld = thermAvgSommerfeld(m_X, m_A, alpha_X)\n",
    "# Annihilation = CAnnCalc(m_X, m_A, alpha_X, Sommerfeld) \n",
    "\n",
    "# # Tau = tau(Capture, Annihilation)\n",
    "\n",
    "# # EQRatio = tauCross/Tau\n",
    "\n",
    "# print ('Complete')"
   ]
  },
  {
   "cell_type": "code",
   "execution_count": 21,
   "metadata": {
    "ExecuteTime": {
     "end_time": "2017-09-11T22:50:57.928853Z",
     "start_time": "2017-09-11T22:50:57.919326Z"
    }
   },
   "outputs": [
    {
     "name": "stdout",
     "output_type": "stream",
     "text": [
      "873484806.864\n"
     ]
    }
   ],
   "source": [
    "# GammaAnn = gammaAnn(Capture, Annihilation)\n",
    "# print (GammaAnn)\n",
    "# # DecayLength = decayLength2(m_X, m_A, epsilon, BR)\n",
    "# # DecayLength = decayLengthJordan(m_X, m_A, epsilon, BR)\n",
    "\n",
    "# # EpsilonDecay = epsilonDecay(DecayLength)\n",
    "# # Signal = iceCubeSignal(GammaAnn, EpsilonDecay, LiveTime)"
   ]
  },
  {
   "cell_type": "code",
   "execution_count": 23,
   "metadata": {
    "ExecuteTime": {
     "end_time": "2017-09-11T22:57:42.517985Z",
     "start_time": "2017-09-11T22:57:42.508456Z"
    }
   },
   "outputs": [
    {
     "name": "stdout",
     "output_type": "stream",
     "text": [
      "-0.0\n"
     ]
    },
    {
     "name": "stderr",
     "output_type": "stream",
     "text": [
      "C:\\Users\\Adam Green\\Anaconda3\\lib\\site-packages\\ipykernel_launcher.py:3: RuntimeWarning: divide by zero encountered in log\n",
      "  This is separate from the ipykernel package so we can avoid doing imports until\n"
     ]
    }
   ],
   "source": [
    "# D = 10**5\n",
    "\n",
    "# print (.1/function)"
   ]
  },
  {
   "cell_type": "code",
   "execution_count": 84,
   "metadata": {
    "ExecuteTime": {
     "end_time": "2017-09-11T19:44:49.825305Z",
     "start_time": "2017-09-11T19:44:49.812274Z"
    }
   },
   "outputs": [
    {
     "name": "stdout",
     "output_type": "stream",
     "text": [
      "Capture      : 109185621.33035141\n",
      "Annihilation : 1.6600111103365965e-46\n",
      "Tau          : 8.706969213329477e+16\n",
      "EQ Ratio     : 52.34107727822834\n",
      "GammaAnn     : 19922.528902253896\n",
      "Decay Length : 11100000000.0\n",
      "Epsilon Decay: 8.478367084507887e-06\n",
      "Signal       : 0.1867331429333801\n"
     ]
    }
   ],
   "source": [
    "# print ('Capture      : {0}'.format(Capture))\n",
    "# print ('Annihilation : {0}'.format(Annihilation))\n",
    "# print ('Tau          : {0}'.format(Tau))\n",
    "# print ('EQ Ratio     : {0}'.format(EQRatio))\n",
    "# print ('GammaAnn     : {0}'.format(GammaAnn))\n",
    "# print ('Decay Length : {0}'.format(DecayLength))\n",
    "# print ('Epsilon Decay: {0}'.format(EpsilonDecay))\n",
    "# print ('Signal       : {0}'.format(Signal))"
   ]
  },
  {
   "cell_type": "markdown",
   "metadata": {},
   "source": [
    "## Sanity Checks\n",
    "\n",
    "For the following parameters:\n",
    "\n",
    "- $m_X = 1000$ GeV\n",
    "\n",
    "- $m_A = 1.0$ GeV\n",
    "\n",
    "- $\\varepsilon = 10^{-8}$\n",
    "\n",
    "we know for certain:\n",
    "- $C_{Cap} \\sim 1.09185621\\times 10^8$\n",
    "\n",
    "- $C_{Ann} \\sim 1.66001111034\\times 10^{-46}$ (with Sommerfeld)\n",
    "\n",
    "- $\\frac{\\tau}{\\tau_{\\oplus}} \\mathcal{O}(10^1 - 10^2)$\n",
    "\n",
    "- $N_{sig} \\sim \\mathcal{O}(10^2 - 10^3)$\n",
    "\n"
   ]
  },
  {
   "cell_type": "code",
   "execution_count": 75,
   "metadata": {
    "ExecuteTime": {
     "end_time": "2017-09-11T19:29:36.502808Z",
     "start_time": "2017-09-11T19:28:27.326577Z"
    },
    "collapsed": true
   },
   "outputs": [],
   "source": [
    "# testm_X = 1000.\n",
    "# testm_A = 1.0\n",
    "# testEpsilon = 10**-8\n",
    "# alpha_X = alphaTherm(testm_X, testm_A)\n",
    "# LiveTime = yr2s(10)\n",
    "# BranchingRatio = 1\n",
    "\n",
    "# # # Capture Functions\n",
    "# Kappa0 = kappa_0(testm_X, 1./137)\n",
    "# Capture = CCapQuick(testm_X, testm_A, testEpsilon, alpha_X, Kappa0)\n",
    "\n",
    "# # # Annihilation Functions\n",
    "# Sommerfeld = thermAvgSommerfeld(testm_X, testm_A, alpha_X)\n",
    "# Annihilation = CAnn(testm_X, testm_A, alpha_X, Sommerfeld)\n",
    "\n",
    "# # # Equilibrium Time\n",
    "# EQTime = tau(Capture, Annihilation)\n",
    "# EQRatio = EQTime/tauCross\n",
    "\n",
    "# # # Signal Rates\n",
    "# GammaAnn = gammaAnnCalc(Capture, Annihilation)\n",
    "# # DecayLength = decayLength2(testm_X, testm_A, testEpsilon, BranchingRatio)\n",
    "# DecayLength = decayLengthJordan(testm_X, testm_A, testEpsilon, BranchingRatio)\n",
    "# EpsilonDecay = epsilonDecay(DecayLength)\n",
    "# Signal = iceCubeSignal(GammaAnn, EpsilonDecay, LiveTime)\n",
    "\n",
    "\n",
    "# print ('Complete')"
   ]
  },
  {
   "cell_type": "code",
   "execution_count": 77,
   "metadata": {
    "ExecuteTime": {
     "end_time": "2017-09-11T19:34:28.040939Z",
     "start_time": "2017-09-11T19:34:28.025900Z"
    }
   },
   "outputs": [
    {
     "name": "stdout",
     "output_type": "stream",
     "text": [
      "Capture       : 109185621.33035141\n",
      "Annihilation  : 1.6600111103365965e-46\n",
      "Tau:          : 7.42782695870794e+18\n",
      "EQ Ratio      : 52.34107727822834\n",
      "GammaAnn      : 19922.528902253896\n",
      "DecayLength   : 11100000000.0\n",
      "RCross        : 673800000.0\n",
      "Epsilon Decay : 8.478367084507887e-06\n",
      "Signal        : 0.1867331429333801\n"
     ]
    }
   ],
   "source": [
    "# print ('Capture       : {0}'.format(Capture))\n",
    "# print ('Annihilation  : {0}'.format(Annihilation))\n",
    "# print ('Tau:          : {0}'.format(EQTime))\n",
    "# print ('EQ Ratio      : {0}'.format(EQRatio))\n",
    "# print ('GammaAnn      : {0}'.format(GammaAnn))\n",
    "# print ('DecayLength   : {0}'.format(DecayLength))\n",
    "# print ('RCross        : {0}'.format(RCross))\n",
    "# print ('Epsilon Decay : {0}'.format(EpsilonDecay))\n",
    "# print ('Signal        : {0}'.format(Signal))\n",
    "\n",
    "# print ('Complete')"
   ]
  },
  {
   "cell_type": "code",
   "execution_count": null,
   "metadata": {
    "collapsed": true
   },
   "outputs": [],
   "source": []
  },
  {
   "cell_type": "code",
   "execution_count": null,
   "metadata": {
    "collapsed": true
   },
   "outputs": [],
   "source": [
    "print ('------ MasterFunctions_SignalRates Imported ------')"
   ]
  }
 ],
 "metadata": {
  "kernelspec": {
   "display_name": "Python 3",
   "language": "python",
   "name": "python3"
  },
  "language_info": {
   "codemirror_mode": {
    "name": "ipython",
    "version": 3
   },
   "file_extension": ".py",
   "mimetype": "text/x-python",
   "name": "python",
   "nbconvert_exporter": "python",
   "pygments_lexer": "ipython3",
   "version": "3.6.2"
  },
  "latex_envs": {
   "LaTeX_envs_menu_present": true,
   "autocomplete": true,
   "bibliofile": "biblio.bib",
   "cite_by": "apalike",
   "current_citInitial": 1,
   "eqLabelWithNumbers": true,
   "eqNumInitial": 1,
   "hotkeys": {
    "equation": "Ctrl-E",
    "itemize": "Ctrl-I"
   },
   "labels_anchors": false,
   "latex_user_defs": false,
   "report_style_numbering": false,
   "user_envs_cfg": false
  }
 },
 "nbformat": 4,
 "nbformat_minor": 2
}
