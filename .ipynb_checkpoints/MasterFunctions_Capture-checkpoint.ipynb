{
 "cells": [
  {
   "cell_type": "markdown",
   "metadata": {},
   "source": [
    "# Master Functions - Capture Rate Definitions"
   ]
  },
  {
   "cell_type": "markdown",
   "metadata": {
    "heading_collapsed": true
   },
   "source": [
    "## Initialize the Notebook\n",
    "\n",
    "The following cell allows external notebooks to be imported as modules."
   ]
  },
  {
   "cell_type": "code",
   "execution_count": 1,
   "metadata": {
    "ExecuteTime": {
     "end_time": "2017-09-11T16:45:20.637874Z",
     "start_time": "2017-09-11T16:45:20.077383Z"
    },
    "collapsed": true,
    "hidden": true
   },
   "outputs": [],
   "source": [
    "import io, os, sys, types\n",
    "\n",
    "from IPython import get_ipython\n",
    "from nbformat import read\n",
    "from IPython.core.interactiveshell import InteractiveShell\n",
    "\n",
    "def find_notebook(fullname, path=None):\n",
    "    \"\"\"find a notebook, given its fully qualified name and an optional path\n",
    "\n",
    "    This turns \"foo.bar\" into \"foo/bar.ipynb\"\n",
    "    and tries turning \"Foo_Bar\" into \"Foo Bar\" if Foo_Bar\n",
    "    does not exist.\n",
    "    \"\"\"\n",
    "    name = fullname.rsplit('.', 1)[-1]\n",
    "    if not path:\n",
    "        path = ['']\n",
    "    for d in path:\n",
    "        nb_path = os.path.join(d, name + \".ipynb\")\n",
    "        if os.path.isfile(nb_path):\n",
    "            return nb_path\n",
    "        # let import Notebook_Name find \"Notebook Name.ipynb\"\n",
    "        nb_path = nb_path.replace(\"_\", \" \")\n",
    "        if os.path.isfile(nb_path):\n",
    "            return nb_path\n",
    "        \n",
    "class NotebookLoader(object):\n",
    "    \"\"\"Module Loader for Jupyter Notebooks\"\"\"\n",
    "    def __init__(self, path=None):\n",
    "        self.shell = InteractiveShell.instance()\n",
    "        self.path = path\n",
    "\n",
    "    def load_module(self, fullname):\n",
    "        \"\"\"import a notebook as a module\"\"\"\n",
    "        path = find_notebook(fullname, self.path)\n",
    "\n",
    "        print (\"importing Jupyter notebook from %s\" % path)\n",
    "\n",
    "        # load the notebook object\n",
    "        with io.open(path, 'r', encoding='utf-8') as f:\n",
    "            nb = read(f, 4)\n",
    "\n",
    "\n",
    "        # create the module and add it to sys.modules\n",
    "        # if name in sys.modules:\n",
    "        #    return sys.modules[name]\n",
    "        mod = types.ModuleType(fullname)\n",
    "        mod.__file__ = path\n",
    "        mod.__loader__ = self\n",
    "        mod.__dict__['get_ipython'] = get_ipython\n",
    "        sys.modules[fullname] = mod\n",
    "\n",
    "        # extra work to ensure that magics that would affect the user_ns\n",
    "        # actually affect the notebook module's ns\n",
    "        save_user_ns = self.shell.user_ns\n",
    "        self.shell.user_ns = mod.__dict__\n",
    "\n",
    "        try:\n",
    "            for cell in nb.cells:\n",
    "                if cell.cell_type == 'code':\n",
    "                    # transform the input to executable Python\n",
    "                    code = self.shell.input_transformer_manager.transform_cell(cell.source)\n",
    "                    # run the code in themodule\n",
    "                    exec(code, mod.__dict__)\n",
    "        finally:\n",
    "            self.shell.user_ns = save_user_ns\n",
    "        return mod\n",
    "\n",
    "    \n",
    "class NotebookFinder(object):\n",
    "    \"\"\"Module finder that locates Jupyter Notebooks\"\"\"\n",
    "    def __init__(self):\n",
    "        self.loaders = {}\n",
    "\n",
    "    def find_module(self, fullname, path=None):\n",
    "        nb_path = find_notebook(fullname, path)\n",
    "        if not nb_path:\n",
    "            return\n",
    "\n",
    "        key = path\n",
    "        if path:\n",
    "            # lists aren't hashable\n",
    "            key = os.path.sep.join(path)\n",
    "\n",
    "        if key not in self.loaders:\n",
    "            self.loaders[key] = NotebookLoader(path)\n",
    "        return self.loaders[key]\n",
    "    \n",
    "sys.meta_path.append(NotebookFinder())\n",
    "\n",
    "\n",
    "# print ('Complete')"
   ]
  },
  {
   "cell_type": "markdown",
   "metadata": {
    "hidden": true
   },
   "source": [
    "### Import Notebooks\n",
    "This cell imports all required notebooks."
   ]
  },
  {
   "cell_type": "code",
   "execution_count": 2,
   "metadata": {
    "ExecuteTime": {
     "end_time": "2017-09-11T16:45:29.526122Z",
     "start_time": "2017-09-11T16:45:21.379040Z"
    },
    "hidden": true
   },
   "outputs": [
    {
     "name": "stdout",
     "output_type": "stream",
     "text": [
      "importing Jupyter notebook from MasterFunctions_ModelData.ipynb\n",
      "------ MasterFunctions_ModelData Imported ------\n"
     ]
    }
   ],
   "source": [
    "from MasterFunctions_ModelData import *\n",
    "\n",
    "# print ('Complete')"
   ]
  },
  {
   "cell_type": "markdown",
   "metadata": {
    "hidden": true
   },
   "source": [
    "-------------"
   ]
  },
  {
   "cell_type": "markdown",
   "metadata": {},
   "source": [
    "# Capture Rate Functions"
   ]
  },
  {
   "cell_type": "markdown",
   "metadata": {
    "heading_collapsed": true
   },
   "source": [
    "## Form Factor"
   ]
  },
  {
   "cell_type": "code",
   "execution_count": 3,
   "metadata": {
    "ExecuteTime": {
     "end_time": "2017-09-11T16:45:29.540160Z",
     "start_time": "2017-09-11T16:45:29.528128Z"
    },
    "collapsed": true,
    "hidden": true
   },
   "outputs": [],
   "source": [
    "def formFactor2(element, E):\n",
    "    E_N = 0.114/((atomicNumbers[element])**(5./3))\n",
    "    FN2 = np.exp(-E/E_N)\n",
    "    return FN2\n"
   ]
  },
  {
   "cell_type": "markdown",
   "metadata": {
    "heading_collapsed": true
   },
   "source": [
    "## Cross Section"
   ]
  },
  {
   "cell_type": "markdown",
   "metadata": {
    "heading_collapsed": true,
    "hidden": true
   },
   "source": [
    "### Photon Cross Section"
   ]
  },
  {
   "cell_type": "code",
   "execution_count": 4,
   "metadata": {
    "ExecuteTime": {
     "end_time": "2017-09-11T16:45:29.613856Z",
     "start_time": "2017-09-11T16:45:29.545173Z"
    },
    "collapsed": true,
    "hidden": true
   },
   "outputs": [],
   "source": [
    "def photonCrossSection(element, m_A, E_R): # returns 1/GeV^3\n",
    "    m_N = amu2GeV(atomicNumbers[element])\n",
    "    FN2 = formFactor2(element, E_R)\n",
    "    function = ( FN2 ) / ((2 * m_N * E_R + m_A**2)**2)\n",
    "    return function\n",
    "\n",
    "def photonCrossSectionKappa0(element, xi): # Dimensionless\n",
    "    FN2 = 1\n",
    "    function = FN2\n",
    "    return function\n"
   ]
  },
  {
   "cell_type": "markdown",
   "metadata": {
    "heading_collapsed": true,
    "hidden": true
   },
   "source": [
    "### Higgs Cross Section"
   ]
  },
  {
   "cell_type": "code",
   "execution_count": null,
   "metadata": {
    "collapsed": true,
    "hidden": true
   },
   "outputs": [],
   "source": [
    "def higgsCrossSection(element, m_phi, E_R): # returns 1/GeV^3\n",
    "    m_N = amu2GeV(atomicNumbers[element])\n",
    "    FN2 = formFactor2(element, E_R)\n",
    "    function = ( FN2 ) / ((2 * m_N * E_R + m_phi**2)**2)\n",
    "    return function\n",
    "\n",
    "def higgsCrossSectionKappa0(element, xi): # Dimensionless\n",
    "    FN2 = 1\n",
    "    function = FN2\n",
    "    return function  "
   ]
  },
  {
   "cell_type": "markdown",
   "metadata": {
    "heading_collapsed": true
   },
   "source": [
    "## Dark Matter Velocity Distributions"
   ]
  },
  {
   "cell_type": "markdown",
   "metadata": {
    "heading_collapsed": true,
    "hidden": true
   },
   "source": [
    "### Asymptotic Distribution and Normalization"
   ]
  },
  {
   "cell_type": "code",
   "execution_count": 5,
   "metadata": {
    "ExecuteTime": {
     "end_time": "2017-09-11T16:45:29.764757Z",
     "start_time": "2017-09-11T16:45:29.618371Z"
    },
    "collapsed": true,
    "hidden": true
   },
   "outputs": [],
   "source": [
    "def Normalization(): \n",
    "    def function(u):\n",
    "    # The if-else structure accounts for the Heaviside function\n",
    "        if ((V_gal) - u < 0):\n",
    "            integrand = 0.\n",
    "\n",
    "        elif ( ((V_gal) - (u)) >= 0):\n",
    "            numerator = ((V_gal)**2 - (u)**2)\n",
    "            denominator = (k * (u_0)**2)\n",
    "            arg = ( numerator / denominator)\n",
    "            integrand = 4*np.pi* u**2 * (np.expm1(arg))** k\n",
    "        return integrand\n",
    "\n",
    "    tempA = integrate.quad(function, 0, V_gal)[0]\n",
    "    N_0 = 1./tempA\n",
    "    return N_0\n",
    "N_1 = Normalization()\n",
    "\n",
    "\n",
    "def NormalizationChecker(u, N_0 = N_1):\n",
    "    '''\n",
    "    NormalizationChecker(u,N_0 = Normalization()) exists only to check that the normalization N_0 of\n",
    "    DMVelDist\n",
    "    '''\n",
    "    if ((V_gal - u) < 0):\n",
    "        integrand = 0\n",
    "        \n",
    "    elif ((V_gal - u) >= 0):\n",
    "        numerator = ( (V_gal)**2 - (u)**2)\n",
    "        denominator = (k * (u_0)**2)\n",
    "        arg = ( numerator / denominator)\n",
    "        integrand = N_0 * 4*np.pi*u**2* (np.expm1(arg)) ** k\n",
    "    return integrand\n",
    "        \n",
    "\n",
    "def DMVelDist(u, N_0 = N_1): \n",
    "# The if-else structure accounts for the Heaviside function\n",
    "# N_0 is the normalization \n",
    "    if ((V_gal - u) < 0):\n",
    "        integrand = 0\n",
    "        \n",
    "    elif ((V_gal - u) >= 0):\n",
    "        numerator = ( (V_gal)**2 - (u)**2)\n",
    "        denominator = (k * (u_0)**2)\n",
    "        arg = ( numerator / denominator)\n",
    "        integrand = N_0 * (np.expm1(arg)) ** k\n",
    "\n",
    "    return integrand\n"
   ]
  },
  {
   "cell_type": "markdown",
   "metadata": {
    "heading_collapsed": true,
    "hidden": true
   },
   "source": [
    "### Angular and Annular Averaged Velocity Distribution"
   ]
  },
  {
   "cell_type": "code",
   "execution_count": 6,
   "metadata": {
    "ExecuteTime": {
     "end_time": "2017-09-11T16:45:29.867029Z",
     "start_time": "2017-09-11T16:45:29.768768Z"
    },
    "collapsed": true,
    "hidden": true
   },
   "outputs": [],
   "source": [
    "def ModDMVelDist(u):\n",
    "    def integrand(x,y): #x = cos(theta), y = cos(phi)\n",
    "        return 0.25 * DMVelDist( ( u**2 + ((V_dot) + (V_cross) * y)**2 \\\n",
    "                                  + 2 * u * ((V_dot) + (V_cross) * y) *x)** 0.5  )\n",
    "\n",
    "    return integrate.dblquad(integrand, -1, 1, lambda y: -1, lambda y: 1)[0]\n"
   ]
  },
  {
   "cell_type": "markdown",
   "metadata": {
    "heading_collapsed": true,
    "hidden": true
   },
   "source": [
    "### Interpolating Velocity Distributions"
   ]
  },
  {
   "cell_type": "code",
   "execution_count": 7,
   "metadata": {
    "ExecuteTime": {
     "end_time": "2017-09-11T16:45:43.897852Z",
     "start_time": "2017-09-11T16:45:29.874048Z"
    },
    "collapsed": true,
    "hidden": true
   },
   "outputs": [],
   "source": [
    "# We use 1000 points to create our interpolation of the velocity distributions\n",
    "velRange = np.linspace(0, V_gal, 1000)\n",
    "\n",
    "ModDMVect = []\n",
    "DMVect = []\n",
    "test1Vect = []\n",
    "for vel in velRange:\n",
    "    DMVect.append(DMVelDist(vel))\n",
    "    ModDMVect.append(ModDMVelDist(vel))\n",
    "\n",
    "DMVelInterp = interpolate.interp1d(velRange, DMVect, kind = 'linear')\n",
    "ModDMVelInterp = interpolate.interp1d(velRange, ModDMVect, kind='linear')"
   ]
  },
  {
   "cell_type": "markdown",
   "metadata": {
    "heading_collapsed": true
   },
   "source": [
    "## Recoil Energy Limits of Integration"
   ]
  },
  {
   "cell_type": "code",
   "execution_count": 8,
   "metadata": {
    "ExecuteTime": {
     "end_time": "2017-09-11T16:45:43.958012Z",
     "start_time": "2017-09-11T16:45:43.900860Z"
    },
    "collapsed": true,
    "hidden": true
   },
   "outputs": [],
   "source": [
    "def eMin(u, m_X):\n",
    "    function = (0.5) * m_X * u**2\n",
    "#     assert (function >=0), '(u, m_X): (%e,%e) result in a negative eMin' % (u, m_X)\n",
    "    return function\n",
    "\n",
    "def eMax(element, m_X, rIndex, u):\n",
    "    m_N = amu2GeV(atomicNumbers[element])\n",
    "    mu = m_N*m_X / (m_N + m_X)\n",
    "    vCross = np.sqrt(escVel2List[rIndex])\n",
    "    function = 2 * mu**2 * (u**2 + vCross**2) / m_N\n",
    "#     assert (function >= 0), '(element, m_X, rIndex, u): (%s, %e, %i, %e) result in negative eMax' %(element, m_X, rIndex, u)\n",
    "    return function\n",
    "\n",
    "\n",
    "def xiMin(u, m_X):\n",
    "    '''\n",
    "    This is the dimensionless minimum energy used in calculating Kappa0\n",
    "    '''\n",
    "    function = 0.5 * u**2\n",
    "    return function\n",
    "\n",
    "def xiMax(element, m_X, rIndex, u):\n",
    "    '''\n",
    "    This is the dimensionless maximum energy used in calculating Kappa0\n",
    "    '''\n",
    "    m_N = amu2GeV(atomicNumbers[element])\n",
    "    mu = m_N * m_X / (m_N + m_X)\n",
    "    vCross = np.sqrt(escVel2List[rIndex])\n",
    "    function = 2 * mu**2 * (u**2 + vCross**2) / (m_N*m_X)\n",
    "    return function\n"
   ]
  },
  {
   "cell_type": "markdown",
   "metadata": {
    "heading_collapsed": true
   },
   "source": [
    "## Emin Emax intersection"
   ]
  },
  {
   "cell_type": "code",
   "execution_count": 9,
   "metadata": {
    "ExecuteTime": {
     "end_time": "2017-09-11T16:45:44.028232Z",
     "start_time": "2017-09-11T16:45:43.962022Z"
    },
    "collapsed": true,
    "hidden": true
   },
   "outputs": [],
   "source": [
    "def EminEmaxIntersection(element, m_X, rIndex):\n",
    "    '''\n",
    "    EminEmaxIntersection(element, m_X, rIndex) returns the velocity uInt when E_Min = E_Max.\n",
    "    This is useful to get around a computation error when performing the integration over dark \n",
    "    matter velocities.\n",
    "    Integrate from 0 to uInt instead of 0 to infinity. \n",
    "    '''\n",
    "    m_N = amu2GeV(atomicNumbers[element])\n",
    "    mu = (m_N*m_X)/(m_N+m_X)\n",
    "\n",
    "    sqrtvCross2 = np.sqrt(escVel2List[rIndex])\n",
    "    # Calculate the intersection uInt of eMin and eMax given a specific rIndex\n",
    "    A = m_X/2. \n",
    "    B = 2. * mu**2 / m_N\n",
    "    uInt = np.sqrt( ( B ) / (A-B) ) * sqrtvCross2\n",
    "    \n",
    "    return uInt\n"
   ]
  },
  {
   "cell_type": "markdown",
   "metadata": {
    "heading_collapsed": true
   },
   "source": [
    "## Capture Integral"
   ]
  },
  {
   "cell_type": "markdown",
   "metadata": {
    "heading_collapsed": true,
    "hidden": true
   },
   "source": [
    "### Photon Calculation Capture Integral"
   ]
  },
  {
   "cell_type": "code",
   "execution_count": 10,
   "metadata": {
    "ExecuteTime": {
     "end_time": "2017-09-11T16:45:44.063793Z",
     "start_time": "2017-09-11T16:45:44.034214Z"
    },
    "collapsed": true,
    "hidden": true
   },
   "outputs": [],
   "source": [
    "def photonIntDuDEr(element, m_X, m_A, rIndex):\n",
    "    \n",
    "    def integrand(E,u):\n",
    "        fu = ModDMVelInterp(u)\n",
    "        integrand = photonCrossSection(element, m_A, E) * u * fu\n",
    "\n",
    "        return integrand\n",
    "    \n",
    "    # Calculate the intersection uInt of eMin and eMax given a specific rIndex\n",
    "    uInt = EminEmaxIntersection(element, m_X, rIndex)\n",
    "    \n",
    "    uLow = 0\n",
    "    uHigh = uInt\n",
    "    eLow = lambda u: eMin(u, m_X)\n",
    "    eHigh = lambda u: eMax(element, m_X, rIndex, u)\n",
    "    integral = integrate.dblquad(integrand, uLow, uHigh, eLow, eHigh)[0]\n",
    "    return integral\n"
   ]
  },
  {
   "cell_type": "markdown",
   "metadata": {
    "heading_collapsed": true,
    "hidden": true
   },
   "source": [
    "### Photon Kappa0 Caculation"
   ]
  },
  {
   "cell_type": "code",
   "execution_count": 11,
   "metadata": {
    "ExecuteTime": {
     "end_time": "2017-09-11T16:45:44.127462Z",
     "start_time": "2017-09-11T16:45:44.073319Z"
    },
    "collapsed": true,
    "hidden": true
   },
   "outputs": [],
   "source": [
    "def photonIntDuDErKappa0(element, m_X, rIndex):\n",
    "    \n",
    "    def integrand(xi,u):\n",
    "        fu = ModDMVelInterp(u)\n",
    "        integrand = photonCrossSectionKappa0(element, xi) * u * fu\n",
    "        return integrand\n",
    "    \n",
    "    uInt = EminEmaxIntersection(element, m_X, rIndex)\n",
    "    \n",
    "    uLow = 0\n",
    "    uHigh = uInt\n",
    "    xiLow = lambda u: xiMin(u, m_X)\n",
    "    xiHigh = lambda u: xiMax(element, m_X, rIndex, u)\n",
    "    integral = integrate.dblquad(integrand, uLow, uHigh, xiLow, xiHigh)[0]\n",
    "    return integral\n"
   ]
  },
  {
   "cell_type": "markdown",
   "metadata": {
    "heading_collapsed": true,
    "hidden": true
   },
   "source": [
    "### Higgs Calculation Capture Integral"
   ]
  },
  {
   "cell_type": "code",
   "execution_count": null,
   "metadata": {
    "collapsed": true,
    "hidden": true
   },
   "outputs": [],
   "source": [
    "def higgsIntDuDEr(element, m_X, m_phi, rIndex):\n",
    "    \n",
    "    def integrand(E,u):\n",
    "        fu = ModDMVelInterp(u)\n",
    "        integrand = higgsCrossSection(element, m_phi, E) * u * fu\n",
    "\n",
    "        return integrand\n",
    "    \n",
    "    # Calculate the intersection uInt of eMin and eMax given a specific rIndex\n",
    "    uInt = EminEmaxIntersection(element, m_X, rIndex)\n",
    "    \n",
    "    uLow = 0\n",
    "    uHigh = uInt\n",
    "    eLow = lambda u: eMin(u, m_X)\n",
    "    eHigh = lambda u: eMax(element, m_X, rIndex, u)\n",
    "    integral = integrate.dblquad(integrand, uLow, uHigh, eLow, eHigh)[0]\n",
    "    return integral"
   ]
  },
  {
   "cell_type": "markdown",
   "metadata": {
    "heading_collapsed": true,
    "hidden": true
   },
   "source": [
    "### (TO DO) Higgs Calculation Kappa0 Calculation"
   ]
  },
  {
   "cell_type": "code",
   "execution_count": null,
   "metadata": {
    "collapsed": true,
    "hidden": true
   },
   "outputs": [],
   "source": [
    "def higgsIntDuDErKappa0(element, m_X, rIndex):\n",
    "    \n",
    "    def integrand(xi,u):\n",
    "        fu = ModDMVelInterp(u)\n",
    "        integrand = higgsCrossSectionKappa0(element, xi) * u * fu\n",
    "        return integrand\n",
    "    \n",
    "    uInt = EminEmaxIntersection(element, m_X, rIndex)\n",
    "    \n",
    "    uLow = 0\n",
    "    uHigh = uInt\n",
    "#     uHigh = V_gal\n",
    "    xiLow = lambda u: XiMin(u, m_X)\n",
    "    xiHigh = lambda u: XiMax(element, m_X, rIndex, u)\n",
    "    integral = integrate.dblquad(integrand, uLow, uHigh, xiLow, xiHigh)[0]\n",
    "    return integral\n"
   ]
  },
  {
   "cell_type": "markdown",
   "metadata": {
    "heading_collapsed": true
   },
   "source": [
    "## Sum Over Radii"
   ]
  },
  {
   "cell_type": "markdown",
   "metadata": {
    "heading_collapsed": true,
    "hidden": true
   },
   "source": [
    "### Photon Calculation Sum"
   ]
  },
  {
   "cell_type": "code",
   "execution_count": 12,
   "metadata": {
    "ExecuteTime": {
     "end_time": "2017-09-11T16:45:44.155537Z",
     "start_time": "2017-09-11T16:45:44.129969Z"
    },
    "collapsed": true,
    "hidden": true
   },
   "outputs": [],
   "source": [
    "def photonSumOverR(element, m_X, m_A):\n",
    "    tempSum = 0\n",
    "    \n",
    "    for i in range(0, len(radiusList)):\n",
    "        r = radiusList[i]\n",
    "        deltaR = deltaRList[i]\n",
    "        n_N = numDensityList(element)[i]\n",
    "        summand = n_N * r**2 * photonIntDuDEr(element, m_X, m_A, i) * deltaR\n",
    "        tempSum += summand\n",
    "    return tempSum\n"
   ]
  },
  {
   "cell_type": "markdown",
   "metadata": {
    "heading_collapsed": true,
    "hidden": true
   },
   "source": [
    "### Photon Kappa0 Sum"
   ]
  },
  {
   "cell_type": "code",
   "execution_count": 13,
   "metadata": {
    "ExecuteTime": {
     "end_time": "2017-09-11T16:45:44.197650Z",
     "start_time": "2017-09-11T16:45:44.159047Z"
    },
    "collapsed": true,
    "hidden": true
   },
   "outputs": [],
   "source": [
    "def photonSumOverRKappa0(element, m_X):\n",
    "    tempSum = 0\n",
    "    \n",
    "    for i in range(0,len(radiusList)):\n",
    "        r = radiusList[i]\n",
    "        deltaR = deltaRList[i]\n",
    "        n_N = numDensityList(element)[i]\n",
    "        summand = n_N * r**2 * photonIntDuDErKappa0(element, m_X, i) * deltaR\n",
    "        tempSum += summand\n",
    "    return tempSum\n"
   ]
  },
  {
   "cell_type": "markdown",
   "metadata": {
    "heading_collapsed": true,
    "hidden": true
   },
   "source": [
    "### (TO DO) Higgs Sum Over Radius"
   ]
  },
  {
   "cell_type": "code",
   "execution_count": null,
   "metadata": {
    "collapsed": true,
    "hidden": true
   },
   "outputs": [],
   "source": [
    "def higgsSumOverR(element, m_X, m_phi):\n",
    "    tempSum = 0\n",
    "    \n",
    "    for i in range(0, len(radiusList)):\n",
    "        r = radiusList[i]\n",
    "        deltaR = deltaRList[i]\n",
    "        n_N = numDensityList(element)[i]\n",
    "        summand = n_N * r**2 * higgsIntDuDEr(element, m_X, m_phi, i) * deltaR\n",
    "        tempSum += summand\n",
    "    return tempSum"
   ]
  },
  {
   "cell_type": "markdown",
   "metadata": {
    "heading_collapsed": true,
    "hidden": true
   },
   "source": [
    "### (TO DO) Higgs Kappa0 Sum"
   ]
  },
  {
   "cell_type": "code",
   "execution_count": null,
   "metadata": {
    "collapsed": true,
    "hidden": true
   },
   "outputs": [],
   "source": [
    "def higgsSumOverRKappa0(element, m_X):\n",
    "    tempSum = 0\n",
    "    \n",
    "    for i in range(0,len(radiusList)):\n",
    "        r = radiusList[i]\n",
    "        deltaR = deltaRList[i]\n",
    "        n_N = numDensityList(element)[i]\n",
    "        summand = n_N * r**2 * higgsIntDuDErKappa0(element, m_X, i) * deltaR\n",
    "        tempSum += summand\n",
    "    return tempSum\n"
   ]
  },
  {
   "cell_type": "markdown",
   "metadata": {},
   "source": [
    "## Capture for one element"
   ]
  },
  {
   "cell_type": "markdown",
   "metadata": {},
   "source": [
    "### Photon Single-Element Capture Calcuation"
   ]
  },
  {
   "cell_type": "code",
   "execution_count": 14,
   "metadata": {
    "ExecuteTime": {
     "end_time": "2017-09-11T16:45:44.229233Z",
     "start_time": "2017-09-11T16:45:44.204168Z"
    },
    "collapsed": true
   },
   "outputs": [],
   "source": [
    "def photonSingleElementCap(element, m_X, m_phi, epsilon, alpha, alpha_X):\n",
    "    Z_N = nProtons[element]\n",
    "    m_N = amu2GeV(atomicNumbers[element])\n",
    "    n_X = 0.3/m_X # GeV/cm^3\n",
    "\n",
    "    conversion = (5.06e13)**-3 * (1.52e24) # cm^-3 GeV^-2 -> s^-1\n",
    "    crossSectionFactors = 2 * (4*np.pi)**3 * epsilon**2 * alpha_X * alpha * Z_N**2 * m_N\n",
    "    function = n_X * conversion* crossSectionFactors * photonSumOverR(element, m_X, m_phi)\n",
    "    return function\n"
   ]
  },
  {
   "cell_type": "markdown",
   "metadata": {},
   "source": [
    "### Photon Single-Element Capture Kappa Calculation"
   ]
  },
  {
   "cell_type": "code",
   "execution_count": 15,
   "metadata": {
    "ExecuteTime": {
     "end_time": "2017-09-11T16:45:44.260817Z",
     "start_time": "2017-09-11T16:45:44.234247Z"
    },
    "collapsed": true
   },
   "outputs": [],
   "source": [
    "def photonSingleElementCapKappa0(element, m_X, alpha):\n",
    "    Z_N = nProtons[element]\n",
    "    m_N = amu2GeV(atomicNumbers[element])\n",
    "    n_X = 0.3/m_X # GeV/cm^3\n",
    "    \n",
    "    conversion = (5.06e13)**-3 * (1.52e24) # cm^-3 GeV^-2 -> s^-1\n",
    "    crossSectionFactors = 8 * np.pi * alpha * Z_N**2 * (m_N/m_X) * (m_X)**2\n",
    "#     crossSectionFactors = 8 * np.pi * alpha * Z_N**2 * m_N \n",
    "\n",
    "    prefactor = (4*np.pi)**2 * crossSectionFactors \n",
    "\n",
    "    function = n_X * conversion * prefactor * photonSumOverRKappa0(element, m_X)\n",
    "    return function\n"
   ]
  },
  {
   "cell_type": "markdown",
   "metadata": {},
   "source": [
    "### (LOOK HERE) Higgs Single-Element Capture Calculation\n",
    "The prefactors might be off, double check"
   ]
  },
  {
   "cell_type": "code",
   "execution_count": null,
   "metadata": {
    "collapsed": true
   },
   "outputs": [],
   "source": [
    "def higgsSingleElementCap(element, m_X, m_phi, alpha, alpha_X):\n",
    "    Z_N = nProtons[element]\n",
    "    m_N = amu2GeV(atomicNumbers[element])\n",
    "    n_X = 0.3/m_X # GeV/cm^3\n",
    "\n",
    "    conversion = (5.06e13)**-3 * (1.52e24) # cm^-3 GeV^-2 -> s^-1\n",
    "    crossSectionFactors = 2 * np.pi * alpha * alpha_X * m_N\n",
    "    return n_X * conversion* crossSectionFactors * higgsSumOverR(element, m_X, m_phi)\n"
   ]
  },
  {
   "cell_type": "markdown",
   "metadata": {},
   "source": [
    "### (LOOK  HERE) Higgs Single-Element Capture Kappa0 Calculation"
   ]
  },
  {
   "cell_type": "code",
   "execution_count": null,
   "metadata": {
    "collapsed": true
   },
   "outputs": [],
   "source": [
    "def higgsSingleElementCapKappa0(element, m_X, alpha):\n",
    "    Z_N = nProtons[element]\n",
    "    m_N = amu2GeV(atomicNumbers[element])\n",
    "    n_X = 0.3/m_X # GeV/cm^3\n",
    "\n",
    "    conversion = (5.06e13)**-3 * (1.52e24) # cm^-3 GeV^-2 -> s^-1\n",
    "    crossSectionFactors = 2 * np.pi * alpha * (m_N/m_X) * (m_X)**-2\n",
    "#     crossSectionFactors = m_X**-2 * 8 * np.pi * alpha * Z_N**2 * (m_N/m_X) * (m_X)**4\n",
    "\n",
    "    prefactor = (4 * np.pi)**2 * crossSectionFactors \n",
    "\n",
    "    function = n_X * conversion * prefactor * higgsSumOverRKappa0(element, m_X)\n",
    "    return function"
   ]
  },
  {
   "cell_type": "markdown",
   "metadata": {},
   "source": [
    "## Total Capture Rate"
   ]
  },
  {
   "cell_type": "markdown",
   "metadata": {},
   "source": [
    "### Photon Full Calculation"
   ]
  },
  {
   "cell_type": "code",
   "execution_count": 16,
   "metadata": {
    "ExecuteTime": {
     "end_time": "2017-09-11T16:48:28.292817Z",
     "start_time": "2017-09-11T16:48:28.281787Z"
    },
    "collapsed": true
   },
   "outputs": [],
   "source": [
    "def photonCCap(m_X, m_A, epsilon, alpha, alpha_X):\n",
    "    totalCap = 0\n",
    "    for element in elementList:\n",
    "        totalCap += photonSingleElementCap(element, m_X, m_A, epsilon, alpha, alpha_X)\n",
    "        \n",
    "    return totalCap\n"
   ]
  },
  {
   "cell_type": "markdown",
   "metadata": {},
   "source": [
    "### Photon Kappa0 Calculation "
   ]
  },
  {
   "cell_type": "code",
   "execution_count": 17,
   "metadata": {
    "ExecuteTime": {
     "end_time": "2017-09-11T16:48:28.981617Z",
     "start_time": "2017-09-11T16:48:28.971591Z"
    },
    "collapsed": true
   },
   "outputs": [],
   "source": [
    "def photonKappa_0(m_X, alpha):    \n",
    "    tempSum = 0\n",
    "    for element in elementList:\n",
    "        function = photonSingleElementCapKappa0(element, m_X, alpha)\n",
    "        tempSum += function\n",
    "    \n",
    "    return tempSum\n"
   ]
  },
  {
   "cell_type": "markdown",
   "metadata": {
    "heading_collapsed": true
   },
   "source": [
    "### Higgs Full Capture "
   ]
  },
  {
   "cell_type": "code",
   "execution_count": null,
   "metadata": {
    "collapsed": true,
    "hidden": true
   },
   "outputs": [],
   "source": [
    "def higgsCCap(m_X, m_phi, alpha, alpha_X):\n",
    "    totalCap = 0\n",
    "    for element in elementList:\n",
    "        totalCap += higgsSingleElementCap(element, m_X, m_phi, alpha, alpha_X)\n",
    "        \n",
    "    return totalCap"
   ]
  },
  {
   "cell_type": "markdown",
   "metadata": {},
   "source": [
    "### Higgs Kappa0 Calculation"
   ]
  },
  {
   "cell_type": "code",
   "execution_count": null,
   "metadata": {
    "collapsed": true
   },
   "outputs": [],
   "source": [
    "def higgsKappa_0(m_X, alpha):    \n",
    "    tempSum = 0\n",
    "    for element in elementList:\n",
    "        function = higgsSingleElementCapKappa0(element, m_X, alpha)\n",
    "        tempSum += function\n",
    "    \n",
    "    return tempSum\n"
   ]
  },
  {
   "cell_type": "markdown",
   "metadata": {},
   "source": [
    "## Quick Capture Calculation"
   ]
  },
  {
   "cell_type": "markdown",
   "metadata": {},
   "source": [
    "### Dark Photon Quick Capture Calculation"
   ]
  },
  {
   "cell_type": "code",
   "execution_count": 18,
   "metadata": {
    "ExecuteTime": {
     "end_time": "2017-09-11T16:48:36.458874Z",
     "start_time": "2017-09-11T16:48:36.450386Z"
    },
    "collapsed": true
   },
   "outputs": [],
   "source": [
    "def photonCCapQuick(m_X, m_A, epsilon, alpha_X, kappa0):\n",
    "    '''\n",
    "    CCapQuick(m_X, m_A, epsilon, alpha_X, kappa0): provides a quick way to calculate the capture rate\n",
    "    when only epsilon and m_A are changing. All the m_X dependence, which is assumed to be fixed, is \n",
    "    in kappa0.\n",
    "    '''\n",
    "    function = epsilon**2 * alpha_X * kappa0 / m_A**4\n",
    "    return function"
   ]
  },
  {
   "cell_type": "markdown",
   "metadata": {},
   "source": [
    "### Higgs Quick Capture Calculation"
   ]
  },
  {
   "cell_type": "code",
   "execution_count": null,
   "metadata": {
    "collapsed": true
   },
   "outputs": [],
   "source": [
    "def higgsCCapQuick(m_X, m_phi, alpha_X, kappa0):\n",
    "    function = alpha_X * kappa0 / m_phi**4"
   ]
  },
  {
   "cell_type": "code",
   "execution_count": 26,
   "metadata": {
    "ExecuteTime": {
     "end_time": "2017-09-06T19:44:11.505437Z",
     "start_time": "2017-09-06T19:44:11.481372Z"
    }
   },
   "outputs": [
    {
     "name": "stdout",
     "output_type": "stream",
     "text": [
      "------ MasterFunctions_Capture Loaded ------\n"
     ]
    }
   ],
   "source": [
    "print ('------ MasterFunctions_Capture Imported ------')"
   ]
  }
 ],
 "metadata": {
  "kernelspec": {
   "display_name": "Python 3",
   "language": "python",
   "name": "python3"
  },
  "language_info": {
   "codemirror_mode": {
    "name": "ipython",
    "version": 3
   },
   "file_extension": ".py",
   "mimetype": "text/x-python",
   "name": "python",
   "nbconvert_exporter": "python",
   "pygments_lexer": "ipython3",
   "version": "3.6.2"
  },
  "latex_envs": {
   "LaTeX_envs_menu_present": true,
   "autocomplete": true,
   "bibliofile": "biblio.bib",
   "cite_by": "apalike",
   "current_citInitial": 1,
   "eqLabelWithNumbers": true,
   "eqNumInitial": 1,
   "hotkeys": {
    "equation": "Ctrl-E",
    "itemize": "Ctrl-I"
   },
   "labels_anchors": false,
   "latex_user_defs": false,
   "report_style_numbering": false,
   "user_envs_cfg": false
  }
 },
 "nbformat": 4,
 "nbformat_minor": 2
}
