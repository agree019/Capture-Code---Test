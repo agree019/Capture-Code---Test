{
 "cells": [
  {
   "cell_type": "markdown",
   "metadata": {},
   "source": [
    "# Dark Photon Sommerfeld Notebook"
   ]
  },
  {
   "cell_type": "markdown",
   "metadata": {},
   "source": [
    "This notebook creates an external file which stores an arbitrary amount of Sommerfeld calculations to be later interpolated."
   ]
  },
  {
   "cell_type": "markdown",
   "metadata": {},
   "source": [
    "## Initialize Notebook"
   ]
  },
  {
   "cell_type": "code",
   "execution_count": 1,
   "metadata": {
    "ExecuteTime": {
     "end_time": "2018-03-28T16:59:46.719764Z",
     "start_time": "2018-03-28T16:59:46.018387Z"
    }
   },
   "outputs": [
    {
     "name": "stdout",
     "output_type": "stream",
     "text": [
      "Complete\n"
     ]
    }
   ],
   "source": [
    "import io, os, sys, types\n",
    "\n",
    "from IPython import get_ipython\n",
    "from nbformat import read\n",
    "from IPython.core.interactiveshell import InteractiveShell\n",
    "\n",
    "def find_notebook(fullname, path=None):\n",
    "    \"\"\"find a notebook, given its fully qualified name and an optional path\n",
    "\n",
    "    This turns \"foo.bar\" into \"foo/bar.ipynb\"\n",
    "    and tries turning \"Foo_Bar\" into \"Foo Bar\" if Foo_Bar\n",
    "    does not exist.\n",
    "    \"\"\"\n",
    "    name = fullname.rsplit('.', 1)[-1]\n",
    "    if not path:\n",
    "        path = ['']\n",
    "    for d in path:\n",
    "        nb_path = os.path.join(d, name + \".ipynb\")\n",
    "        if os.path.isfile(nb_path):\n",
    "            return nb_path\n",
    "        # let import Notebook_Name find \"Notebook Name.ipynb\"\n",
    "        nb_path = nb_path.replace(\"_\", \" \")\n",
    "        if os.path.isfile(nb_path):\n",
    "            return nb_path\n",
    "        \n",
    "class NotebookLoader(object):\n",
    "    \"\"\"Module Loader for Jupyter Notebooks\"\"\"\n",
    "    def __init__(self, path=None):\n",
    "        self.shell = InteractiveShell.instance()\n",
    "        self.path = path\n",
    "\n",
    "    def load_module(self, fullname):\n",
    "        \"\"\"import a notebook as a module\"\"\"\n",
    "        path = find_notebook(fullname, self.path)\n",
    "\n",
    "        print (\"importing Jupyter notebook from %s\" % path)\n",
    "\n",
    "        # load the notebook object\n",
    "        with io.open(path, 'r', encoding='utf-8') as f:\n",
    "            nb = read(f, 4)\n",
    "\n",
    "\n",
    "        # create the module and add it to sys.modules\n",
    "        # if name in sys.modules:\n",
    "        #    return sys.modules[name]\n",
    "        mod = types.ModuleType(fullname)\n",
    "        mod.__file__ = path\n",
    "        mod.__loader__ = self\n",
    "        mod.__dict__['get_ipython'] = get_ipython\n",
    "        sys.modules[fullname] = mod\n",
    "\n",
    "        # extra work to ensure that magics that would affect the user_ns\n",
    "        # actually affect the notebook module's ns\n",
    "        save_user_ns = self.shell.user_ns\n",
    "        self.shell.user_ns = mod.__dict__\n",
    "\n",
    "        try:\n",
    "            for cell in nb.cells:\n",
    "                if cell.cell_type == 'code':\n",
    "                    # transform the input to executable Python\n",
    "                    code = self.shell.input_transformer_manager.transform_cell(cell.source)\n",
    "                    # run the code in themodule\n",
    "                    exec(code, mod.__dict__)\n",
    "        finally:\n",
    "            self.shell.user_ns = save_user_ns\n",
    "        return mod\n",
    "\n",
    "    \n",
    "class NotebookFinder(object):\n",
    "    \"\"\"Module finder that locates Jupyter Notebooks\"\"\"\n",
    "    def __init__(self):\n",
    "        self.loaders = {}\n",
    "\n",
    "    def find_module(self, fullname, path=None):\n",
    "        nb_path = find_notebook(fullname, path)\n",
    "        if not nb_path:\n",
    "            return\n",
    "\n",
    "        key = path\n",
    "        if path:\n",
    "            # lists aren't hashable\n",
    "            key = os.path.sep.join(path)\n",
    "\n",
    "        if key not in self.loaders:\n",
    "            self.loaders[key] = NotebookLoader(path)\n",
    "        return self.loaders[key]\n",
    "\n",
    "    \n",
    "sys.meta_path.append(NotebookFinder())\n",
    "\n",
    "\n",
    "print ('Complete')"
   ]
  },
  {
   "cell_type": "code",
   "execution_count": 2,
   "metadata": {
    "ExecuteTime": {
     "end_time": "2018-03-28T17:00:09.371480Z",
     "start_time": "2018-03-28T16:59:46.906260Z"
    }
   },
   "outputs": [
    {
     "name": "stdout",
     "output_type": "stream",
     "text": [
      "importing Jupyter notebook from MasterFunctions_Annihilation.ipynb\n",
      "importing Jupyter notebook from MasterFunctions_ModelData.ipynb\n",
      "------ MasterFunctions_ModelData Imported ------\n",
      "------ MasterFunctions_Annihilation Loaded ------\n",
      "importing Jupyter notebook from MasterFunctions_Capture.ipynb\n",
      "------ MasterFunctions_Capture Imported ------\n",
      "importing Jupyter notebook from MasterFunctions_Graphing.ipynb\n",
      "------ MasterFunctions_Graphing Loaded ------\n",
      "\n",
      "All notebooks imported\n"
     ]
    }
   ],
   "source": [
    "from MasterFunctions_Annihilation import *\n",
    "from MasterFunctions_Capture import photonKappa_0\n",
    "from MasterFunctions_Graphing import *\n",
    "\n",
    "print ()\n",
    "print ('All notebooks imported')"
   ]
  },
  {
   "cell_type": "markdown",
   "metadata": {},
   "source": [
    "# Create External Sommerfeld csv File"
   ]
  },
  {
   "cell_type": "markdown",
   "metadata": {},
   "source": [
    "This noteook serves to create an external file which contains an arbitrary number of $m_A$ and $\\langle S_s \\rangle$ points to be interpolated later.\n",
    "\n",
    "The external file has the following column headers:\n",
    "\n",
    "    Counter, mX[GeV], mA[GeV], ThermAvgSommerfeld, Kappa0[GeV5]\n",
    "\n",
    "- Counter serves as an index to loop through\n",
    "- m_X is specified by the user shortly after the file is created \n",
    "- m_A is a list of numbers ranging from $0.01$ GeV to $10$ GeV with arbitrary spacing and density. Since these will each correspond to a $\\langle S_s \\rangle(m_A)$ to be interpolated later, it is suggested to use logarithmic spacing with a high density $(N\\geq2500)$\n",
    "- ThermAvgSommerfeld is the corresponding $\\langle S_s \\rangle(m_A)$ point\n",
    "\n"
   ]
  },
  {
   "cell_type": "markdown",
   "metadata": {},
   "source": [
    "## Recipie\n",
    "\n",
    "The final output of this notebook is a graph of $\\langle S_s \\rangle$ versus $m_A$ for $0.01$ GeV $\\leq m_A \\leq 10$ GeV. We produce this graph with the following recipie:\n",
    "\n",
    "1). Define the point density of mediator values $m_A$ as a DataFrame object\n",
    "\n",
    "2). Write that DataFrame to an external .csv file\n",
    "\n",
    "3). Define the dark matter mass $m_X$\n",
    "\n",
    "4). \n"
   ]
  },
  {
   "cell_type": "markdown",
   "metadata": {},
   "source": [
    "## Initialize Paramter Arrays"
   ]
  },
  {
   "cell_type": "code",
   "execution_count": 11,
   "metadata": {
    "ExecuteTime": {
     "end_time": "2018-03-28T17:09:41.921074Z",
     "start_time": "2018-03-28T17:09:41.850980Z"
    }
   },
   "outputs": [
    {
     "name": "stdout",
     "output_type": "stream",
     "text": [
      "Complete\n"
     ]
    }
   ],
   "source": [
    "num = 2500\n",
    "\n",
    "mALogRange = np.logspace(-2, 1, num, base = 10)\n",
    "mAArray = []\n",
    "\n",
    "counter = 0\n",
    "for mATemp in mALogRange:\n",
    "                 #( Counter, m_X[GeV], m_A[Gev], ThermAvgSommerfeld, Kappa0[GeV5])\n",
    "    mAArray.append([counter, ' '     , mATemp  , 'None'            , ' '])\n",
    "    counter += 1\n",
    "\n",
    "print ('Complete')"
   ]
  },
  {
   "cell_type": "markdown",
   "metadata": {},
   "source": [
    "## Create and Write the DataFrame to a .csv"
   ]
  },
  {
   "cell_type": "markdown",
   "metadata": {},
   "source": [
    "Filenames must follow the convention:\n",
    "\n",
    "    <#><Unit>Sommerfeld.csv\n",
    "\n",
    "including the \".csv\" extension.\n",
    "\n",
    "For example, if $m_X = 100$ GeV,\n",
    "\n",
    "    100GeVSommerfeld.csv"
   ]
  },
  {
   "cell_type": "code",
   "execution_count": 12,
   "metadata": {
    "ExecuteTime": {
     "end_time": "2018-03-28T17:09:47.153353Z",
     "start_time": "2018-03-28T17:09:43.195289Z"
    }
   },
   "outputs": [
    {
     "name": "stdout",
     "output_type": "stream",
     "text": [
      "Sommerfeld Filename: 10TeVSommerfeld.csv\n",
      "Complete\n"
     ]
    }
   ],
   "source": [
    "masterSommerfeldDataFrame = \\\n",
    "    pd.DataFrame(mAArray,\\\n",
    "                 columns = \\\n",
    "                 ['Counter','mX[GeV]', 'mA[GeV]', 'ThermAvgSommerfeld', 'Kappa0[GeV5]'])\n",
    "\n",
    "SommerFile = input('Sommerfeld Filename: ')\n",
    "writeFile = photonSommerfeldPath(SommerFile)\n",
    "\n",
    "masterSommerfeldDataFrame.to_csv(writeFile,index=False)\n",
    "print ('Complete')"
   ]
  },
  {
   "cell_type": "markdown",
   "metadata": {},
   "source": [
    "## Define $m_X$ Value"
   ]
  },
  {
   "cell_type": "markdown",
   "metadata": {},
   "source": [
    "In this cell, the user inputs a specific dark matter mass to a given Sommerfeld file.\n",
    "\n",
    "The units of the mediator must be in GeV."
   ]
  },
  {
   "cell_type": "code",
   "execution_count": 13,
   "metadata": {
    "ExecuteTime": {
     "end_time": "2018-03-28T17:09:59.231821Z",
     "start_time": "2018-03-28T17:09:48.710398Z"
    }
   },
   "outputs": [
    {
     "name": "stdout",
     "output_type": "stream",
     "text": [
      "File Name: 10TeVSommerfeld.csv\n",
      "m_X [GeV]: 10000\n",
      "Complete\n"
     ]
    }
   ],
   "source": [
    "SommerFile = input('File Name: ')\n",
    "writeFile = photonSommerfeldPath(SommerFile)\n",
    "\n",
    "dataFrame = pd.read_csv(writeFile , sep = ',')\n",
    "\n",
    "m_XValue = float(input('m_X [GeV]: '))\n",
    "kappa0Value = 'None'\n",
    "\n",
    "dataFrame.set_value(0, 'mX[GeV]', m_XValue)\n",
    "dataFrame.set_value(0, 'Kappa0[GeV5]', kappa0Value)\n",
    "\n",
    "dataFrame.to_csv(writeFile, index=False)\n",
    "\n",
    "print ('Complete')"
   ]
  },
  {
   "cell_type": "markdown",
   "metadata": {},
   "source": [
    "## Sanity Check"
   ]
  },
  {
   "cell_type": "markdown",
   "metadata": {},
   "source": [
    "This cell is to verify that there are 5 columns:\n",
    "\n",
    "    Counter, mX[GeV], mA[GeV], ThermAvgSommerfeld, Kappa0\n",
    "   \n",
    "1). Counter should contain integers starting at 0\n",
    "\n",
    "2). m_X should have the appended value of mX from the previous cell. This should also match the filename\n",
    "\n",
    "3). mA should take the values defined by the \"Initialize Parameter Array\" cell and match the length of the Counter column\n",
    "\n",
    "4). ThermAvgSommerfeld, at this point, should be the same length as mA with every entry \"None\"\n",
    "\n",
    "5). Kappa0 should have a single entry reading \"None\"\n"
   ]
  },
  {
   "cell_type": "code",
   "execution_count": 14,
   "metadata": {
    "ExecuteTime": {
     "end_time": "2018-03-28T17:10:06.416586Z",
     "start_time": "2018-03-28T17:10:05.100589Z"
    }
   },
   "outputs": [
    {
     "name": "stdout",
     "output_type": "stream",
     "text": [
      "Sommerfeld File: 10TeVSommerfeld.csv\n",
      "      Counter  mX[GeV]    mA[GeV] ThermAvgSommerfeld Kappa0[GeV5]\n",
      "0           0  10000.0   0.010000               None         None\n",
      "1           1            0.010028               None             \n",
      "2           2            0.010055               None             \n",
      "3           3            0.010083               None             \n",
      "4           4            0.010111               None             \n",
      "5           5            0.010139               None             \n",
      "6           6            0.010167               None             \n",
      "7           7            0.010195               None             \n",
      "8           8            0.010224               None             \n",
      "9           9            0.010252               None             \n",
      "10         10            0.010280               None             \n",
      "11         11            0.010309               None             \n",
      "12         12            0.010337               None             \n",
      "13         13            0.010366               None             \n",
      "14         14            0.010395               None             \n",
      "15         15            0.010423               None             \n",
      "16         16            0.010452               None             \n",
      "17         17            0.010481               None             \n",
      "18         18            0.010510               None             \n",
      "19         19            0.010539               None             \n",
      "20         20            0.010568               None             \n",
      "21         21            0.010598               None             \n",
      "22         22            0.010627               None             \n",
      "23         23            0.010656               None             \n",
      "24         24            0.010686               None             \n",
      "25         25            0.010715               None             \n",
      "26         26            0.010745               None             \n",
      "27         27            0.010775               None             \n",
      "28         28            0.010805               None             \n",
      "29         29            0.010835               None             \n",
      "...       ...      ...        ...                ...          ...\n",
      "2470     2470            9.229668               None             \n",
      "2471     2471            9.255216               None             \n",
      "2472     2472            9.280835               None             \n",
      "2473     2473            9.306524               None             \n",
      "2474     2474            9.332285               None             \n",
      "2475     2475            9.358117               None             \n",
      "2476     2476            9.384021               None             \n",
      "2477     2477            9.409996               None             \n",
      "2478     2478            9.436043               None             \n",
      "2479     2479            9.462162               None             \n",
      "2480     2480            9.488354               None             \n",
      "2481     2481            9.514618               None             \n",
      "2482     2482            9.540955               None             \n",
      "2483     2483            9.567364               None             \n",
      "2484     2484            9.593847               None             \n",
      "2485     2485            9.620403               None             \n",
      "2486     2486            9.647033               None             \n",
      "2487     2487            9.673736               None             \n",
      "2488     2488            9.700513               None             \n",
      "2489     2489            9.727365               None             \n",
      "2490     2490            9.754290               None             \n",
      "2491     2491            9.781291               None             \n",
      "2492     2492            9.808365               None             \n",
      "2493     2493            9.835515               None             \n",
      "2494     2494            9.862740               None             \n",
      "2495     2495            9.890041               None             \n",
      "2496     2496            9.917417               None             \n",
      "2497     2497            9.944868               None             \n",
      "2498     2498            9.972396               None             \n",
      "2499     2499           10.000000               None             \n",
      "\n",
      "[2500 rows x 5 columns]\n",
      "Complete\n"
     ]
    }
   ],
   "source": [
    "filename = input('Sommerfeld File: ')\n",
    "writeFile = photonSommerfeldPath(filename) \n",
    "\n",
    "dataFrame = pd.read_csv(writeFile,sep = ',')\n",
    "\n",
    "print (dataFrame)\n",
    "\n",
    "print ('Complete')"
   ]
  },
  {
   "cell_type": "markdown",
   "metadata": {},
   "source": [
    "### Calculate File Values\n",
    "In this cell, we:\n",
    "\n",
    "1). Determine the correct display units for the dark matter mass\n",
    "\n",
    "2). Calculate Kappa0\n",
    "\n",
    "2). Calculates the Sommerfeld enhancement $\\langle S_s \\rangle$ given each $m_A$ by looping down the list of $m_A$ values \n",
    "\n",
    "After each itteration of calculations, the datafile is updated and overwritten, but there is a manual overwrite in the next cell just for good measure"
   ]
  },
  {
   "cell_type": "code",
   "execution_count": 15,
   "metadata": {
    "ExecuteTime": {
     "end_time": "2018-03-28T17:15:11.560555Z",
     "start_time": "2018-03-28T17:10:09.599032Z"
    }
   },
   "outputs": [
    {
     "name": "stdout",
     "output_type": "stream",
     "text": [
      "Sommerfeld Filename: 10TeVSommerfeld.csv\n",
      "Calculating Kappa0...\n",
      "Kappa0 value calculated and set\n",
      "-------------------\n",
      "Starting Sommerfeld Calculations...\n",
      "Index: 0 recorded\n",
      "Index: 20 recorded\n",
      "Index: 40 recorded\n",
      "Index: 60 recorded\n",
      "Index: 80 recorded\n",
      "Index: 100 recorded\n",
      "Index: 120 recorded\n",
      "Index: 140 recorded\n",
      "Index: 160 recorded\n",
      "Index: 180 recorded\n",
      "Index: 200 recorded\n",
      "Index: 220 recorded\n",
      "Index: 240 recorded\n",
      "Index: 260 recorded\n",
      "Index: 280 recorded\n",
      "Index: 300 recorded\n",
      "Index: 320 recorded\n",
      "Index: 340 recorded\n",
      "Index: 360 recorded\n",
      "Index: 380 recorded\n",
      "Index: 400 recorded\n",
      "Index: 420 recorded\n",
      "Index: 440 recorded\n",
      "Index: 460 recorded\n",
      "Index: 480 recorded\n",
      "Index: 500 recorded\n",
      "Index: 520 recorded\n",
      "Index: 540 recorded\n",
      "Index: 560 recorded\n",
      "Index: 580 recorded\n",
      "Index: 600 recorded\n",
      "Index: 620 recorded\n",
      "Index: 640 recorded\n",
      "Index: 660 recorded\n",
      "Index: 680 recorded\n",
      "Index: 700 recorded\n",
      "Index: 720 recorded\n",
      "Index: 740 recorded\n",
      "Index: 760 recorded\n",
      "Index: 780 recorded\n",
      "Index: 800 recorded\n",
      "Index: 820 recorded\n",
      "Index: 840 recorded\n",
      "Index: 860 recorded\n",
      "Index: 880 recorded\n",
      "Index: 900 recorded\n",
      "Index: 920 recorded\n",
      "Index: 940 recorded\n",
      "Index: 960 recorded\n",
      "Index: 980 recorded\n",
      "Index: 1000 recorded\n",
      "Index: 1020 recorded\n",
      "Index: 1040 recorded\n",
      "Index: 1060 recorded\n",
      "Index: 1080 recorded\n",
      "Index: 1100 recorded\n",
      "Index: 1120 recorded\n",
      "Index: 1140 recorded\n",
      "Index: 1160 recorded\n",
      "Index: 1180 recorded\n",
      "Index: 1200 recorded\n",
      "Index: 1220 recorded\n",
      "Index: 1240 recorded\n",
      "Index: 1260 recorded\n",
      "Index: 1280 recorded\n",
      "Index: 1300 recorded\n",
      "Index: 1320 recorded\n",
      "Index: 1340 recorded\n",
      "Index: 1360 recorded\n",
      "Index: 1380 recorded\n",
      "Index: 1400 recorded\n",
      "Index: 1420 recorded\n",
      "Index: 1440 recorded\n",
      "Index: 1460 recorded\n",
      "Index: 1480 recorded\n",
      "Index: 1500 recorded\n",
      "Index: 1520 recorded\n",
      "Index: 1540 recorded\n",
      "Index: 1560 recorded\n",
      "Index: 1580 recorded\n",
      "Index: 1600 recorded\n",
      "Index: 1620 recorded\n",
      "Index: 1640 recorded\n",
      "Index: 1660 recorded\n",
      "Index: 1680 recorded\n",
      "Index: 1700 recorded\n",
      "Index: 1720 recorded\n",
      "Index: 1740 recorded\n",
      "Index: 1760 recorded\n",
      "Index: 1780 recorded\n",
      "Index: 1800 recorded\n",
      "Index: 1820 recorded\n",
      "Index: 1840 recorded\n",
      "Index: 1860 recorded\n",
      "Index: 1880 recorded\n",
      "Index: 1900 recorded\n",
      "Index: 1920 recorded\n",
      "Index: 1940 recorded\n",
      "Index: 1960 recorded\n",
      "Index: 1980 recorded\n",
      "Index: 2000 recorded\n",
      "Index: 2020 recorded\n",
      "Index: 2040 recorded\n",
      "Index: 2060 recorded\n",
      "Index: 2080 recorded\n",
      "Index: 2100 recorded\n",
      "Index: 2120 recorded\n",
      "Index: 2140 recorded\n",
      "Index: 2160 recorded\n",
      "Index: 2180 recorded\n",
      "Index: 2200 recorded\n",
      "Index: 2220 recorded\n",
      "Index: 2240 recorded\n",
      "Index: 2260 recorded\n",
      "Index: 2280 recorded\n",
      "Index: 2300 recorded\n",
      "Index: 2320 recorded\n",
      "Index: 2340 recorded\n",
      "Index: 2360 recorded\n",
      "Index: 2380 recorded\n",
      "Index: 2400 recorded\n",
      "Index: 2420 recorded\n",
      "Index: 2440 recorded\n",
      "Index: 2460 recorded\n",
      "Index: 2480 recorded\n",
      "-------------------\n",
      "All Calculations Complete\n",
      "Complete\n"
     ]
    }
   ],
   "source": [
    "sommerFile = input('Sommerfeld Filename: ')\n",
    "writeFile = photonSommerfeldPath(sommerFile)\n",
    "\n",
    "dataIn = pd.read_csv(writeFile,sep = ',')\n",
    "\n",
    "# Define the loop range\n",
    "looprange = len(dataIn['Counter'])\n",
    "\n",
    "# Read in m_X value\n",
    "Filem_X = float(dataIn.loc[0,'mX[GeV]'])\n",
    "    \n",
    "##################################\n",
    "# Calculate Kappa0\n",
    "##################################\n",
    "testKappa0 = dataIn.loc[0,'Kappa0[GeV5]']\n",
    "\n",
    "if (testKappa0 == 'None'):\n",
    "    print ('Calculating Kappa0...')\n",
    "    \n",
    "    kappa0Value = float(photonKappa_0(Filem_X, 1./137))\n",
    "    \n",
    "    dataIn.set_value(0, 'Kappa0', kappa0Value)\n",
    "    dataIn.to_csv(writeFile, index=False)\n",
    "    print('Kappa0 value calculated and set')\n",
    "    \n",
    "elif (testKappa0 != 'None'):\n",
    "    print ('Kappa0 value already calculated')\n",
    "\n",
    "\n",
    "dataIn.set_value(0, 'Kappa0[GeV5]', kappa0Value)\n",
    "dataIn.to_csv(writeFile, index=False)    \n",
    "    \n",
    "##################################\n",
    "# Calculate the Sommerfeld enhancements\n",
    "##################################\n",
    "\n",
    "finishedCounter = 0\n",
    "print ('-------------------')\n",
    "print ('Starting Sommerfeld Calculations...')\n",
    "for index in range(0,looprange):\n",
    "    ##################################\n",
    "    # Initialize Parameters\n",
    "    m_AValue = dataIn.loc[index,'mA[GeV]']\n",
    "    testSomm = dataIn.loc[index,'ThermAvgSommerfeld']\n",
    "    \n",
    "    if (testSomm == 'None'):    \n",
    "        alpha_X = alphaTherm(Filem_X, m_AValue)\n",
    "        thermAvgSomm = thermAvgSommerfeld(Filem_X, m_AValue, alpha_X)\n",
    "\n",
    "        dataIn.set_value(index,'ThermAvgSommerfeld', thermAvgSomm)\n",
    "        dataIn.to_csv(writeFile, sep=',', index=False)   \n",
    "        \n",
    "        finishedCounter +=1\n",
    "        if (index%20 == 0):\n",
    "            print ('Index: {0} recorded'.format(index))\n",
    "        \n",
    "    elif(testSomm != 'None'):\n",
    "        finishedCounter +=1\n",
    "        \n",
    "    if (finishedCounter == looprange):\n",
    "        print ('-------------------')\n",
    "        print ('All Calculations Complete')\n",
    "        \n",
    "    \n",
    "dataIn.to_csv(writeFile, index=False)\n",
    "print ('Complete')"
   ]
  },
  {
   "cell_type": "markdown",
   "metadata": {},
   "source": [
    "### Manual Overwrite"
   ]
  },
  {
   "cell_type": "code",
   "execution_count": 16,
   "metadata": {
    "ExecuteTime": {
     "end_time": "2018-03-28T17:15:14.913664Z",
     "start_time": "2018-03-28T17:15:14.864388Z"
    }
   },
   "outputs": [
    {
     "name": "stdout",
     "output_type": "stream",
     "text": [
      "Complete\n"
     ]
    }
   ],
   "source": [
    "dataIn.to_csv(writeFile, index=False)\n",
    "\n",
    "print ('Complete')"
   ]
  },
  {
   "cell_type": "markdown",
   "metadata": {},
   "source": [
    "# Plot Sommerfeld Data"
   ]
  },
  {
   "cell_type": "markdown",
   "metadata": {},
   "source": [
    "The following section takes in a completed Sommerfeld file and plots the Sommerfeld enhancement versus mediator mass."
   ]
  },
  {
   "cell_type": "markdown",
   "metadata": {},
   "source": [
    "## Read in Sommerfeld Data"
   ]
  },
  {
   "cell_type": "markdown",
   "metadata": {},
   "source": [
    "In the following cell, the user inputs a completed Sommereld data file to be graphed."
   ]
  },
  {
   "cell_type": "code",
   "execution_count": 17,
   "metadata": {
    "ExecuteTime": {
     "end_time": "2018-03-28T17:15:18.353375Z",
     "start_time": "2018-03-28T17:15:17.732225Z"
    }
   },
   "outputs": [
    {
     "name": "stdout",
     "output_type": "stream",
     "text": [
      "Sommerfeld Data: 10TeVSommerfeld.csv\n",
      "Complete\n"
     ]
    }
   ],
   "source": [
    "sommerFile = input('Sommerfeld Data: ')\n",
    "readFile = photonSommerfeldPath(sommerFile)\n",
    "\n",
    "dataIn = pd.read_csv(readFile, sep = ',')\n",
    "\n",
    "print ('Complete')"
   ]
  },
  {
   "cell_type": "markdown",
   "metadata": {},
   "source": [
    "## Plot Sommerfeld Data"
   ]
  },
  {
   "cell_type": "markdown",
   "metadata": {},
   "source": [
    "This cell:\n",
    "\n",
    "1). Extracts the 'mA' and 'ThermAvgSommerfeld' columns from the specified file\n",
    "\n",
    "2). Plots ThermAvgSommerfeld vs. mA\n",
    "\n",
    "If the Sommerfeld file isn't fully calculated, Python will throw an error. If the Sommerfeld file isn't complete, run the \"Calculate File Values\" cell again on the file in question."
   ]
  },
  {
   "cell_type": "code",
   "execution_count": 18,
   "metadata": {
    "ExecuteTime": {
     "end_time": "2018-03-28T17:15:20.498586Z",
     "start_time": "2018-03-28T17:15:19.833310Z"
    }
   },
   "outputs": [
    {
     "name": "stdout",
     "output_type": "stream",
     "text": [
      "Complete\n"
     ]
    },
    {
     "data": {
      "image/png": "[encoded data removed]",
      "text/plain": [
       "<matplotlib.figure.Figure at 0x243cda22e80>"
      ]
     },
     "metadata": {},
     "output_type": "display_data"
    }
   ],
   "source": [
    "#####################\n",
    "# Extract Plot Data\n",
    "#####################\n",
    "mAList = dataIn['mA[GeV]']\n",
    "SommerfeldList = dataIn['ThermAvgSommerfeld']\n",
    "Filem_X = float(dataIn.loc[0,'mX[GeV]'])\n",
    "\n",
    "##################################\n",
    "# Determine the diplay Units of m_X \n",
    "##################################\n",
    "m_XUnit = 'None'\n",
    "if (Filem_X < 1000):\n",
    "    m_XDisplay = Filem_X\n",
    "    m_XUnit = 'GeV'\n",
    "\n",
    "if (Filem_X >= 1000):\n",
    "    m_XDisplay = Filem_X*10**-3\n",
    "    m_XUnit = 'TeV'\n",
    "\n",
    "#####################\n",
    "# Plot\n",
    "#####################\n",
    "fig = plt.figure(figsize = (6,6))\n",
    "Plot = plt.plot(np.log10(mAList),np.log10(SommerfeldList))\n",
    "plt.ylabel(r'$\\log( \\langle S_s \\rangle )$')\n",
    "plt.xlabel(r'$\\log( m_A )$')\n",
    "plt.suptitle('Sommerfeld Enhancement vs. $m_A$',fontsize = '14')\n",
    "plt.title(r'$m_X = {0}$ {1}'.format(m_XDisplay, m_XUnit),loc = 'right', fontsize = '14')\n",
    "plt.grid()\n",
    "\n",
    "print ('Complete')"
   ]
  },
  {
   "cell_type": "code",
   "execution_count": null,
   "metadata": {
    "collapsed": true
   },
   "outputs": [],
   "source": []
  },
  {
   "cell_type": "code",
   "execution_count": null,
   "metadata": {
    "collapsed": true
   },
   "outputs": [],
   "source": []
  },
  {
   "cell_type": "markdown",
   "metadata": {
    "ExecuteTime": {
     "end_time": "2018-03-27T23:33:43.114179Z",
     "start_time": "2018-03-27T23:33:43.111171Z"
    }
   },
   "source": [
    "# Junk"
   ]
  },
  {
   "cell_type": "code",
   "execution_count": null,
   "metadata": {
    "ExecuteTime": {
     "end_time": "2018-03-28T00:13:32.372957Z",
     "start_time": "2018-03-28T00:13:32.299260Z"
    },
    "collapsed": true
   },
   "outputs": [],
   "source": [
    "rawData = pd.read_csv(photonSignalDataPath('testSignal.csv'))\n",
    "Filem_X = float(rawData.loc[0,'mX[GeV]'])\n",
    "\n",
    "#Pull out min / max values\n",
    "xMin = min(rawData['mA[GeV]'])\n",
    "xMax = max(rawData['mA[GeV]'])\n",
    "yMin = min(rawData['Epsilon'])\n",
    "yMax = max(rawData['Epsilon'])\n",
    "\n",
    "\n",
    "# Define the dimension of the grid. \n",
    "# For an n x n grid, this will pull out the number \"n\"\n",
    "gridDim = int(rawData.loc[0,'Resolution'])\n",
    "\n",
    "\n",
    "\n",
    "#########################################\n",
    "# Create the n x n grid\n",
    "#########################################\n",
    "# Logarithmic Spacing\n",
    "xLogRange = np.logspace(xMin, xMax, gridDim, base = 10)\n",
    "yLogRange = np.logspace(yMin, yMax, gridDim, base = 10)\n",
    "\n",
    "xLinRange = np.linspace(xMin, xMax, gridDim)\n",
    "yLinRange = np.linspace(yMin, yMax, gridDim)\n",
    "\n",
    "#########################################\n",
    "# Read in and reshape the Contour data\n",
    "#########################################\n",
    "# This reads in contour data as a single column,\n",
    "#     but we reshape it to a 2D, n x n array to fit the grid\n",
    "\n",
    "z = [rawData['IceCubeSignal']]\n",
    "SignalData = np.reshape(z, (len(xLinRange), len(yLinRange)))\n",
    "\n",
    "print ('Complete')"
   ]
  },
  {
   "cell_type": "code",
   "execution_count": null,
   "metadata": {
    "ExecuteTime": {
     "end_time": "2018-03-28T01:00:03.852723Z",
     "start_time": "2018-03-28T01:00:03.447647Z"
    },
    "collapsed": true
   },
   "outputs": [],
   "source": [
    "from matplotlib import ticker\n",
    "\n",
    "\n",
    "##############################\n",
    "# Set the correct units for m_X\n",
    "###############################\n",
    "m_XUnit = 'None'\n",
    "if (Filem_X < 1000):\n",
    "    m_XDisplay = Filem_X\n",
    "    m_XUnit = 'GeV'\n",
    "\n",
    "if (Filem_X >= 1000):\n",
    "    m_XDisplay = Filem_X * 10**-3\n",
    "    m_XUnit = 'TeV'\n",
    "    \n",
    "    \n",
    "###############################\n",
    "# Define X,Y tickmarks\n",
    "###############################\n",
    "# xTicks = np.linspace(xMin, xMax, 10)\n",
    "# yTicks = np.linspace(yMin, yMax, 10)\n",
    "# xTicks = np.logspace((xMin), (xMax), 7, base = 10)\n",
    "# yTicks = np.logspace(np.log10(yMin),np.log10(yMax),7, base = 10)\n",
    "    \n",
    "###############################\n",
    "# Actual Plotting Stuff\n",
    "###############################\n",
    "# fig0 = plt.figure(figsize = (8,6))\n",
    "fig0, ax0 = plt.subplots(figsize = (8,6))\n",
    "# fig0, ax0 = plt.add_subplot(111)\n",
    "# ax0.set_xticks(xTicks)\n",
    "# ax0.set_yticks(yTicks)\n",
    "\n",
    "CP = ax0.contour(np.log10(xLogRange), np.log10(yLogRange), \\\n",
    "                 np.log10(SignalData.transpose()),\\\n",
    "                 levels=[0,1,2,3],\\\n",
    "#                  locator=ticker.LogLocator()\n",
    "                )\n",
    "xloc, xlabel = xticks()\n",
    "# plt.clabel(CP, inline=1, fontsize=20., fmt=ticker.LogFormatterMathtext())\n",
    "\n",
    "plt.xlabel(r'$m_A$ $[GeV]$', fontsize = 13)\n",
    "plt.ylabel(r'$\\varepsilon$', fontsize = 13)\n",
    "plt.suptitle('IceCube Events', fontsize = 14)\n",
    "plt.title(r'$m_X$ = {0} {1}'.format(m_XDisplay, m_XUnit), loc = 'right', fontsize = 13)\n",
    "# plt.axis([xMin,xMax,yMin,yMax])\n",
    "# plt.clabel(CP, inline=1, fontsize=12)\n",
    "# plt.colorbar()\n",
    "plt.grid()"
   ]
  },
  {
   "cell_type": "code",
   "execution_count": null,
   "metadata": {
    "collapsed": true
   },
   "outputs": [],
   "source": []
  }
 ],
 "metadata": {
  "kernelspec": {
   "display_name": "Python 3",
   "language": "python",
   "name": "python3"
  },
  "language_info": {
   "codemirror_mode": {
    "name": "ipython",
    "version": 3
   },
   "file_extension": ".py",
   "mimetype": "text/x-python",
   "name": "python",
   "nbconvert_exporter": "python",
   "pygments_lexer": "ipython3",
   "version": "3.6.2"
  },
  "latex_envs": {
   "LaTeX_envs_menu_present": true,
   "autocomplete": true,
   "bibliofile": "biblio.bib",
   "cite_by": "apalike",
   "current_citInitial": 1,
   "eqLabelWithNumbers": true,
   "eqNumInitial": 1,
   "hotkeys": {
    "equation": "Ctrl-E",
    "itemize": "Ctrl-I"
   },
   "labels_anchors": false,
   "latex_user_defs": false,
   "report_style_numbering": false,
   "user_envs_cfg": false
  }
 },
 "nbformat": 4,
 "nbformat_minor": 2
}
