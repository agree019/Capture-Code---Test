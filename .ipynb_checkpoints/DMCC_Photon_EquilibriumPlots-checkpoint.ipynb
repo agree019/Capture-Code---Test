{
 "cells": [
  {
   "cell_type": "markdown",
   "metadata": {},
   "source": [
    "# Dark Photon Equilibrium Time Plots"
   ]
  },
  {
   "cell_type": "markdown",
   "metadata": {},
   "source": [
    "This notebook is used to generate the contours of equilibrium time"
   ]
  },
  {
   "cell_type": "markdown",
   "metadata": {},
   "source": [
    "## Initialize the Notebook"
   ]
  },
  {
   "cell_type": "code",
   "execution_count": 1,
   "metadata": {
    "ExecuteTime": {
     "end_time": "2018-03-27T20:50:30.975057Z",
     "start_time": "2018-03-27T20:50:30.524239Z"
    }
   },
   "outputs": [
    {
     "name": "stdout",
     "output_type": "stream",
     "text": [
      "Complete\n"
     ]
    }
   ],
   "source": [
    "import io, os, sys, types\n",
    "\n",
    "from IPython import get_ipython\n",
    "from nbformat import read\n",
    "from IPython.core.interactiveshell import InteractiveShell\n",
    "\n",
    "def find_notebook(fullname, path=None):\n",
    "    \"\"\"find a notebook, given its fully qualified name and an optional path\n",
    "\n",
    "    This turns \"foo.bar\" into \"foo/bar.ipynb\"\n",
    "    and tries turning \"Foo_Bar\" into \"Foo Bar\" if Foo_Bar\n",
    "    does not exist.\n",
    "    \"\"\"\n",
    "    name = fullname.rsplit('.', 1)[-1]\n",
    "    if not path:\n",
    "        path = ['']\n",
    "    for d in path:\n",
    "        nb_path = os.path.join(d, name + \".ipynb\")\n",
    "        if os.path.isfile(nb_path):\n",
    "            return nb_path\n",
    "        # let import Notebook_Name find \"Notebook Name.ipynb\"\n",
    "        nb_path = nb_path.replace(\"_\", \" \")\n",
    "        if os.path.isfile(nb_path):\n",
    "            return nb_path\n",
    "        \n",
    "class NotebookLoader(object):\n",
    "    \"\"\"Module Loader for Jupyter Notebooks\"\"\"\n",
    "    def __init__(self, path=None):\n",
    "        self.shell = InteractiveShell.instance()\n",
    "        self.path = path\n",
    "\n",
    "    def load_module(self, fullname):\n",
    "        \"\"\"import a notebook as a module\"\"\"\n",
    "        path = find_notebook(fullname, self.path)\n",
    "\n",
    "        print (\"importing Jupyter notebook from %s\" % path)\n",
    "\n",
    "        # load the notebook object\n",
    "        with io.open(path, 'r', encoding='utf-8') as f:\n",
    "            nb = read(f, 4)\n",
    "\n",
    "\n",
    "        # create the module and add it to sys.modules\n",
    "        # if name in sys.modules:\n",
    "        #    return sys.modules[name]\n",
    "        mod = types.ModuleType(fullname)\n",
    "        mod.__file__ = path\n",
    "        mod.__loader__ = self\n",
    "        mod.__dict__['get_ipython'] = get_ipython\n",
    "        sys.modules[fullname] = mod\n",
    "\n",
    "        # extra work to ensure that magics that would affect the user_ns\n",
    "        # actually affect the notebook module's ns\n",
    "        save_user_ns = self.shell.user_ns\n",
    "        self.shell.user_ns = mod.__dict__\n",
    "\n",
    "        try:\n",
    "            for cell in nb.cells:\n",
    "                if cell.cell_type == 'code':\n",
    "                    # transform the input to executable Python\n",
    "                    code = self.shell.input_transformer_manager.transform_cell(cell.source)\n",
    "                    # run the code in themodule\n",
    "                    exec(code, mod.__dict__)\n",
    "        finally:\n",
    "            self.shell.user_ns = save_user_ns\n",
    "        return mod\n",
    "\n",
    "    \n",
    "class NotebookFinder(object):\n",
    "    \"\"\"Module finder that locates Jupyter Notebooks\"\"\"\n",
    "    def __init__(self):\n",
    "        self.loaders = {}\n",
    "\n",
    "    def find_module(self, fullname, path=None):\n",
    "        nb_path = find_notebook(fullname, path)\n",
    "        if not nb_path:\n",
    "            return\n",
    "\n",
    "        key = path\n",
    "        if path:\n",
    "            # lists aren't hashable\n",
    "            key = os.path.sep.join(path)\n",
    "\n",
    "        if key not in self.loaders:\n",
    "            self.loaders[key] = NotebookLoader(path)\n",
    "            \n",
    "        return self.loaders[key]\n",
    "    \n",
    "sys.meta_path.append(NotebookFinder())\n",
    "\n",
    "print ('Complete')"
   ]
  },
  {
   "cell_type": "code",
   "execution_count": 2,
   "metadata": {
    "ExecuteTime": {
     "end_time": "2018-03-27T20:50:45.699706Z",
     "start_time": "2018-03-27T20:50:31.613684Z"
    }
   },
   "outputs": [
    {
     "name": "stdout",
     "output_type": "stream",
     "text": [
      "importing Jupyter notebook from MasterFunctions_Capture.ipynb\n",
      "importing Jupyter notebook from MasterFunctions_ModelData.ipynb\n",
      "------ MasterFunctions_ModelData Imported ------\n",
      "------ MasterFunctions_Capture Imported ------\n",
      "importing Jupyter notebook from MasterFunctions_Annihilation.ipynb\n",
      "------ MasterFunctions_Annihilation Loaded ------\n",
      "importing Jupyter notebook from MasterFunctions_Graphing.ipynb\n",
      "------ MasterFunctions_Graphing Loaded ------\n",
      "importing Jupyter notebook from MasterFunctions_EquilibriumTime.ipynb\n",
      "------ MasterFunctions_EquilibriumTime Imported ------\n",
      "\n",
      "All notebooks imported\n"
     ]
    }
   ],
   "source": [
    "from MasterFunctions_Capture import *\n",
    "from MasterFunctions_Annihilation import *\n",
    "from MasterFunctions_Graphing import *\n",
    "from MasterFunctions_EquilibriumTime import *\n",
    "\n",
    "print ()\n",
    "print ('All notebooks imported')"
   ]
  },
  {
   "cell_type": "markdown",
   "metadata": {},
   "source": [
    "# Generating the Equilibrium Plots"
   ]
  },
  {
   "cell_type": "markdown",
   "metadata": {},
   "source": [
    "## Motivation"
   ]
  },
  {
   "cell_type": "markdown",
   "metadata": {},
   "source": [
    "The most notable consequence of the small energy approximation results in the simple $m_A$ and $\\varepsilon$ dependence of the capture rate. Exploiting this dependence, we can now write the capture rate as:\n",
    "\n",
    "\\begin{equation}\n",
    "C_{cap} = \\frac{\\varepsilon^2}{m_A^4} \\kappa_0 \n",
    "\\end{equation}\n",
    "\n",
    "where $\\kappa_0$ now only depends on $m_X$, $\\alpha_X$, and $\\alpha$. Thus, the equilibrium time as a function of mediator mass and kinetic mixing parameter has a simple analytic form. The equilibrium time can be inverted to give epsilon as a function of mediator mass and contour line, drastically reducing computation time by allowing python to handle this as a one dimensional function instead of a two dimensional function.\n",
    "\n",
    "\\begin{equation}\n",
    "\\log(\\varepsilon) = 2\\log(m_A) -\\frac{1}{2}\\log(\\alpha_X \\ \\kappa_0 \\ \\langle S_s \\rangle \\ C_\\text{ann,0}) - \\log(\\mathrm{L} \\ \\tau_{\\oplus})\n",
    "\\end{equation}\n",
    "\n",
    "This has been written into the function: EpsilonFuncMA"
   ]
  },
  {
   "cell_type": "markdown",
   "metadata": {},
   "source": [
    "## The Recipie"
   ]
  },
  {
   "cell_type": "markdown",
   "metadata": {},
   "source": [
    "The basic recipie is:\n",
    "\n",
    "1). Read in a Sommerfeld file\n",
    "\n",
    "2). Interpolate the sommerfeld data\n",
    "\n",
    "3). Populate the plot Arrays\n",
    "\n",
    "4). Plot"
   ]
  },
  {
   "cell_type": "markdown",
   "metadata": {},
   "source": [
    "## Read In Sommerfeld Data and Interpolate"
   ]
  },
  {
   "cell_type": "markdown",
   "metadata": {},
   "source": [
    "The following cell reads in an external Sommerfeld file and interpolates the discrete set of $\\langle S_s (m_A) \\rangle$ into a continuous function. This interpolated function is what will be called during the calculation of the equilibrium time instead of calling the Sommerfeld function explicitly. We also determine the correct units of $m_X$ to display once plotted."
   ]
  },
  {
   "cell_type": "code",
   "execution_count": 3,
   "metadata": {
    "ExecuteTime": {
     "end_time": "2018-03-27T20:50:55.579670Z",
     "start_time": "2018-03-27T20:50:48.872087Z"
    }
   },
   "outputs": [
    {
     "name": "stdout",
     "output_type": "stream",
     "text": [
      "Sommerfeld Data File: testSommerfeld.csv\n",
      "Input m_X: 100.0 GeV\n",
      "Compete\n"
     ]
    }
   ],
   "source": [
    "sommerfeldFile = input('Sommerfeld Data File: ')\n",
    "\n",
    "assert sommerfeldFile != ''\n",
    "\n",
    "readFile = photonSommerfeldPath(sommerfeldFile)\n",
    "\n",
    "dataIn = pd.read_csv(readFile, sep = ',')\n",
    "\n",
    "Filem_X = float(dataIn.loc[0]['mX[GeV]'])\n",
    "FileKappa0 = float(dataIn.loc[0]['Kappa0'])\n",
    "\n",
    "###############################\n",
    "# Set the correct units for m_X\n",
    "###############################\n",
    "m_XUnit = 'None'\n",
    "\n",
    "if (Filem_X < 1000):\n",
    "    m_XDisplay = Filem_X\n",
    "    m_XUnit = 'GeV'\n",
    "\n",
    "if (Filem_X >= 1000):\n",
    "    m_XDisplay = Filem_X*10**-3\n",
    "    m_XUnit = 'TeV'\n",
    "    \n",
    "\n",
    "# Double Check to make sure the file name matches the read-in value\n",
    "print ('Input m_X: {0} GeV'.format(Filem_X))\n",
    "\n",
    "\n",
    "###############################\n",
    "# Interpolate Sommerfeld and alpha_X\n",
    "###############################\n",
    "maList = dataIn['mA[GeV]']\n",
    "sommerfeldList = dataIn['ThermAvgSommerfeld']\n",
    "SommerfeldInterp = interpolate.interp1d(maList, sommerfeldList)\n",
    "\n",
    "\n",
    "print ('Compete')"
   ]
  },
  {
   "cell_type": "markdown",
   "metadata": {},
   "source": [
    "## Populate Plot Arrays"
   ]
  },
  {
   "cell_type": "markdown",
   "metadata": {},
   "source": [
    "The following cell populates the $\\varepsilon(m_A)$ arrays over the range $0.01$ GeV $\\leq m_A \\leq 10$ GeV using 500 data points.\n",
    "\n",
    "Enter 5 unique contour levels. Note that the contour lines you enter \"$\\mathrm{L}$\" correspond to a contour level of $\\frac{\\tau}{\\tau_{\\oplus}} = 10^\\mathrm{L}$.\n",
    "\n",
    "These values are stored as the keys to \"$\\texttt{contourDictionary}$.\" By default, the values of this dictionary are an array composed of two sub-arrays. The first sub-array will store the contour lines without Sommerfeld and the second sub-array will store the contour lines with Sommerfeld."
   ]
  },
  {
   "cell_type": "code",
   "execution_count": 4,
   "metadata": {
    "ExecuteTime": {
     "end_time": "2018-03-27T20:51:03.245199Z",
     "start_time": "2018-03-27T20:50:56.882616Z"
    }
   },
   "outputs": [
    {
     "name": "stdout",
     "output_type": "stream",
     "text": [
      "Enter 5 countour lines in ascending or descending order: \n",
      "Contour Level 1: -4\n",
      "Contour Level 2: -2\n",
      "Contour Level 3: 0\n",
      "Contour Level 4: 2\n",
      "Contour Level 5: 4\n",
      "Complete\n"
     ]
    }
   ],
   "source": [
    "print ('Enter 5 countour lines in ascending or descending order: ')\n",
    "\n",
    "#contourDictionary = {key: value}\n",
    "# \"key\" is the actual contour level\n",
    "# \"value\" is an array of plot values: [[],[]] \n",
    "# The first one is with sommerfeld off, the second array with sommerfeld on.\n",
    "         \n",
    "contourDictionary={}\n",
    "\n",
    "for i in range(1,6):\n",
    "    key = (input('Contour Level {0}: '.format(i)))\n",
    "    type(float(key)) != type(float(0)) # This line ensures that the values entered are numeric\n",
    "    contourDictionary.update({'{0}'.format(key): [[],[]] } )\n",
    "    \n",
    "print ('Complete')"
   ]
  },
  {
   "cell_type": "markdown",
   "metadata": {
    "ExecuteTime": {
     "end_time": "2018-03-27T16:40:56.634659Z",
     "start_time": "2018-03-27T16:40:56.631623Z"
    }
   },
   "source": [
    "## Populate dictionary values"
   ]
  },
  {
   "cell_type": "markdown",
   "metadata": {},
   "source": [
    "The following cell populates $\\texttt{contourDictionary}$ with the contour values."
   ]
  },
  {
   "cell_type": "code",
   "execution_count": 5,
   "metadata": {
    "ExecuteTime": {
     "end_time": "2018-03-27T20:51:09.201456Z",
     "start_time": "2018-03-27T20:51:08.961820Z"
    }
   },
   "outputs": [
    {
     "name": "stdout",
     "output_type": "stream",
     "text": [
      "Complete\n"
     ]
    }
   ],
   "source": [
    "for key in contourDictionary:\n",
    "    contourDictionary[key] = [[],[]]\n",
    "\n",
    "##################\n",
    "# Initialize the x-axis\n",
    "# 0.01 GeV < m_A < 10 GeV\n",
    "##################\n",
    "maRange = np.logspace(-2, 1, 500, base = 10)\n",
    "\n",
    "##################\n",
    "# Populate contourDictionary with plot values\n",
    "##################\n",
    "maArray = []\n",
    "\n",
    "for maTemp in maRange:\n",
    "    maArray.append(maTemp)\n",
    "\n",
    "for key in contourDictionary:\n",
    "    contourline = float(key)\n",
    "    \n",
    "    for mATemp in maRange:\n",
    "        Alpha_X    = alphaTherm(Filem_X, mATemp)\n",
    "        SigmaVTree = photonSigmaVtree(Filem_X, mATemp, Alpha_X)\n",
    "        Sommerfeld = SommerfeldInterp(mATemp)\n",
    "        CannNoSomm = CAnnCalc(Filem_X, mATemp, SigmaVTree)\n",
    "    \n",
    "        EpsilonNoSomm = EpsilonFuncMA(mATemp, Alpha_X, CannNoSomm, 1, FileKappa0, contourline)\n",
    "        EpsilonSomm   = EpsilonFuncMA(mATemp, Alpha_X, CannNoSomm, Sommerfeld, FileKappa0, contourline)\n",
    "    \n",
    "        contourDictionary[key][0].append(EpsilonNoSomm)\n",
    "        contourDictionary[key][1].append(EpsilonSomm)\n",
    "\n",
    "\n",
    "print ('Complete')"
   ]
  },
  {
   "cell_type": "markdown",
   "metadata": {},
   "source": [
    "## Single Plot"
   ]
  },
  {
   "cell_type": "markdown",
   "metadata": {},
   "source": [
    "The following cell produces a single plot of the equilibrium time. You may choose to turn the Sommerfeld enhancement \"on\" or \"off\" by following the prompt."
   ]
  },
  {
   "cell_type": "code",
   "execution_count": 6,
   "metadata": {
    "ExecuteTime": {
     "end_time": "2018-03-27T20:51:11.895331Z",
     "start_time": "2018-03-27T20:51:10.486878Z"
    },
    "scrolled": true
   },
   "outputs": [
    {
     "name": "stdout",
     "output_type": "stream",
     "text": [
      "Sommerfeld on? No:0 Yes:1 1\n",
      "Complete\n"
     ]
    },
    {
     "data": {
      "image/png": "[encoded data removed]",
      "text/plain": [
       "<matplotlib.figure.Figure at 0x1f6a3319cf8>"
      ]
     },
     "metadata": {},
     "output_type": "display_data"
    }
   ],
   "source": [
    "fig1 = plt.figure(figsize = (6,6))\n",
    "\n",
    "sommParam = int(input('Sommerfeld on? No:0 Yes:1 '))\n",
    "assert ((sommParam == 0) or (sommParam == 1)), 'Invalid Input, must be 0 or 1.'\n",
    "\n",
    "\n",
    "####################\n",
    "# This uses a custom color scheme defined in Masterfunctions_Graphing\n",
    "####################\n",
    "colors = colorScheme1\n",
    "mpl.rcParams['axes.prop_cycle'] = colors\n",
    "\n",
    "####################\n",
    "# Produce the contour lines\n",
    "####################\n",
    "testFill = False\n",
    "for key in contourDictionary:\n",
    "    \n",
    "    if (float(key) == 0):\n",
    "        testFill = True\n",
    "    assert (len(maRange) == len(contourDictionary[key][sommParam])), 'ContourDictionary is probably not populated'\n",
    "    plt.plot(np.log10(maRange), (contourDictionary[key][sommParam]), label = r'10^{0}'.format(key))\n",
    "    \n",
    "####################  \n",
    "# Fill the valid search region  \n",
    "####################\n",
    "if (testFill == True):\n",
    "    xs = np.log10(maArray)\n",
    "    y1 = contourDictionary['0'][sommParam]\n",
    "    plt.fill_between(xs, y1, -5, color = '#E6FDFF')\n",
    "\n",
    "\n",
    "\n",
    "    \n",
    "plt.legend(loc = 'lower right', fontsize = '11')\n",
    "plt.xlabel(r'$\\log(m_A)$ $[GeV]$', fontsize = '13')\n",
    "plt.ylabel(r'$\\log(\\varepsilon)$', fontsize = '13')\n",
    "\n",
    "plt.title(r'$m_X = {0}$ {1}'.format(m_XDisplay, m_XUnit),\\\n",
    "          fontsize = '16',\\\n",
    "          loc = 'right')\n",
    "\n",
    "plt.title(r'$\\tau/\\tau_{\\oplus}$ Contours',\\\n",
    "          fontsize = '16',\\\n",
    "          loc = 'left')\n",
    "plt.axis([np.log10(min(maRange)),np.log10(max(maRange)),-10,-5])\n",
    "plt.grid()\n",
    "\n",
    "print ('Complete')"
   ]
  },
  {
   "cell_type": "markdown",
   "metadata": {},
   "source": [
    "### Save Figure"
   ]
  },
  {
   "cell_type": "code",
   "execution_count": null,
   "metadata": {
    "ExecuteTime": {
     "end_time": "2018-03-27T17:23:16.080856Z",
     "start_time": "2018-03-27T17:23:06.502418Z"
    },
    "collapsed": true
   },
   "outputs": [],
   "source": [
    "filename = input('Figure Name: ')\n",
    "fig1.savefig(photonContourPath(filename), dpi = 700)\n",
    "\n",
    "print ('Complege')"
   ]
  },
  {
   "cell_type": "markdown",
   "metadata": {
    "collapsed": true
   },
   "source": [
    "## Side-by-side Comparison"
   ]
  },
  {
   "cell_type": "code",
   "execution_count": 7,
   "metadata": {
    "ExecuteTime": {
     "end_time": "2018-03-27T20:51:25.087645Z",
     "start_time": "2018-03-27T20:51:24.318440Z"
    }
   },
   "outputs": [
    {
     "name": "stdout",
     "output_type": "stream",
     "text": [
      "Complete\n"
     ]
    },
    {
     "data": {
      "image/png": "[encoded data removed]",
      "text/plain": [
       "<matplotlib.figure.Figure at 0x1f6a6781d68>"
      ]
     },
     "metadata": {},
     "output_type": "display_data"
    }
   ],
   "source": [
    "colors = colorScheme1\n",
    "\n",
    "###############################\n",
    "# Initialize Figure\n",
    "###############################\n",
    "fig2 = plt.figure(figsize = (14,6))\n",
    "mpl.rcParams['axes.prop_cycle'] = colors\n",
    "\n",
    "###############################\n",
    "# No Sommerfeld Plot\n",
    "###############################\n",
    "ax1 = fig2.add_subplot(121)\n",
    "ax1.set_aspect(0.6)\n",
    "\n",
    "\n",
    "# Contour Lines\n",
    "testFill1 = False\n",
    "for key in contourDictionary:\n",
    "    if (float(key) == 0):\n",
    "        testFill1 = True\n",
    "    plt.plot(np.log10(maRange), (contourDictionary[key][0]), label = r'10^{0}'.format(key))\n",
    "\n",
    "\n",
    "if (testFill1 == True):\n",
    "    xs = np.log10(maArray)\n",
    "    y1 = contourDictionary['0'][0]\n",
    "    plt.fill_between(xs, y1, -5, color = '#E6FDFF')\n",
    "\n",
    "    \n",
    "plt.legend(loc = 'lower right', fontsize = '11')\n",
    "plt.xlabel(r'$\\log(m_A)$ $[GeV]$', fontsize = '13')\n",
    "plt.ylabel(r'$\\log(\\varepsilon)$', fontsize = '13')\n",
    "\n",
    "plt.title(r'$m_X = {0}$ {1}'.format(m_XDisplay, m_XUnit),\\\n",
    "          fontsize = '16',\\\n",
    "          loc = 'right')\n",
    "\n",
    "plt.title(r'$\\tau/\\tau_{\\oplus}$ Contours',\\\n",
    "          fontsize = '16',\\\n",
    "          loc = 'left')\n",
    "plt.axis([np.log10(min(maRange)),np.log10(max(maRange)),-10,-5])\n",
    "plt.grid()\n",
    " \n",
    "\n",
    "\n",
    "###############################\n",
    "# Sommerfeld Plot\n",
    "###############################\n",
    "ax2 = fig2.add_subplot(122)\n",
    "ax2.set_aspect(0.6)\n",
    "\n",
    "# Contour Lines\n",
    "testFill2 = False\n",
    "for key in contourDictionary:\n",
    "    if (float(key) == 0):\n",
    "        testFill2 = True\n",
    "    plt.plot(np.log10(maRange), (contourDictionary[key][1]), label = r'10^{0}'.format(key))\n",
    "\n",
    "\n",
    "if (testFill2 == True):\n",
    "    xs = np.log10(maArray)\n",
    "    y1 = contourDictionary['0'][1]\n",
    "    plt.fill_between(xs, y1, -5, color = '#E6FDFF')\n",
    "    \n",
    "    \n",
    "# Define plot properties\n",
    "plt.legend(loc = 'lower right', fontsize = '11')\n",
    "plt.xlabel(r'$\\log(m_A)$ $[GeV]$',fontsize = '13')\n",
    "plt.ylabel(r'$\\log(\\varepsilon)$',fontsize = '13')\n",
    "\n",
    "plt.title(r'$m_X = {0}$ {1}'.format(m_XDisplay, m_XUnit),\\\n",
    "          fontsize = '16',\\\n",
    "          loc = 'right')\n",
    "\n",
    "plt.title(r'$\\tau/\\tau_{\\oplus}$ Contours',\\\n",
    "          fontsize = '16',\\\n",
    "          loc = 'left')\n",
    "plt.axis([np.log10(min(maRange)),np.log10(max(maRange)),-10,-5])\n",
    "plt.grid()\n",
    "    \n",
    "\n",
    "print ('Complete')"
   ]
  },
  {
   "cell_type": "markdown",
   "metadata": {},
   "source": [
    "### Save Figure"
   ]
  },
  {
   "cell_type": "code",
   "execution_count": null,
   "metadata": {
    "ExecuteTime": {
     "end_time": "2018-03-27T17:23:39.922547Z",
     "start_time": "2018-03-27T17:23:32.235941Z"
    },
    "collapsed": true
   },
   "outputs": [],
   "source": [
    "filename = input('Figure Name: ')\n",
    "fig2.savefig(photonContourPath(filename), dpi = 700)\n",
    "\n",
    "print ('Complete')"
   ]
  }
 ],
 "metadata": {
  "anaconda-cloud": {},
  "kernelspec": {
   "display_name": "Python 3",
   "language": "python",
   "name": "python3"
  },
  "language_info": {
   "codemirror_mode": {
    "name": "ipython",
    "version": 3
   },
   "file_extension": ".py",
   "mimetype": "text/x-python",
   "name": "python",
   "nbconvert_exporter": "python",
   "pygments_lexer": "ipython3",
   "version": "3.6.2"
  },
  "latex_envs": {
   "LaTeX_envs_menu_present": true,
   "autocomplete": true,
   "bibliofile": "biblio.bib",
   "cite_by": "apalike",
   "current_citInitial": 1,
   "eqLabelWithNumbers": true,
   "eqNumInitial": 1,
   "hotkeys": {
    "equation": "Ctrl-E",
    "itemize": "Ctrl-I"
   },
   "labels_anchors": false,
   "latex_user_defs": false,
   "report_style_numbering": false,
   "user_envs_cfg": false
  }
 },
 "nbformat": 4,
 "nbformat_minor": 1
}
