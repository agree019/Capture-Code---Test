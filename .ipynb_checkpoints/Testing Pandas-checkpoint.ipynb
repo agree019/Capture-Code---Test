{
 "cells": [
  {
   "cell_type": "markdown",
   "metadata": {},
   "source": [
    "# Testing Pandas\n",
    "Flip (18 Nov)"
   ]
  },
  {
   "cell_type": "code",
   "execution_count": 2,
   "metadata": {
    "collapsed": true
   },
   "outputs": [],
   "source": [
    "import pandas"
   ]
  },
  {
   "cell_type": "markdown",
   "metadata": {},
   "source": [
    "Ok. So I took model_agss09.dat and modified it a bit to make it easier for Pandas to handle. I did two things:\n",
    "\n",
    "1. I removed all of the header information\n",
    "2. I replaced all the double-spaces with single spaces. \n",
    "3. Removed extra data at the bottom\n",
    "\n",
    "The second point lets use define a single space as a column separator."
   ]
  },
  {
   "cell_type": "code",
   "execution_count": 35,
   "metadata": {
    "collapsed": false
   },
   "outputs": [
    {
     "data": {
      "text/html": [
       "<div style=\"max-height:1000px;max-width:1500px;overflow:auto;\">\n",
       "<table border=\"1\" class=\"dataframe\">\n",
       "  <thead>\n",
       "    <tr style=\"text-align: right;\">\n",
       "      <th></th>\n",
       "      <th>0</th>\n",
       "      <th>1</th>\n",
       "      <th>2</th>\n",
       "      <th>3</th>\n",
       "      <th>4</th>\n",
       "      <th>5</th>\n",
       "      <th>6</th>\n",
       "      <th>7</th>\n",
       "      <th>8</th>\n",
       "      <th>9</th>\n",
       "      <th>...</th>\n",
       "      <th>26</th>\n",
       "      <th>27</th>\n",
       "      <th>28</th>\n",
       "      <th>29</th>\n",
       "      <th>30</th>\n",
       "      <th>31</th>\n",
       "      <th>32</th>\n",
       "      <th>33</th>\n",
       "      <th>34</th>\n",
       "      <th>35</th>\n",
       "    </tr>\n",
       "  </thead>\n",
       "  <tbody>\n",
       "    <tr>\n",
       "      <th>0</th>\n",
       "      <td>0.000000</td>\n",
       "      <td>0.0015</td>\n",
       "      <td>15490000</td>\n",
       "      <td>150.5</td>\n",
       "      <td>2.334000e+17</td>\n",
       "      <td>0.00000</td>\n",
       "      <td>0.36209</td>\n",
       "      <td>0.62194</td>\n",
       "      <td>0.000009</td>\n",
       "      <td>0.000008</td>\n",
       "      <td>...</td>\n",
       "      <td>0.000067</td>\n",
       "      <td>4.293000e-08</td>\n",
       "      <td>0.000003</td>\n",
       "      <td>0</td>\n",
       "      <td>0.000019</td>\n",
       "      <td>0.000014</td>\n",
       "      <td>0.001339</td>\n",
       "      <td>0.000004</td>\n",
       "      <td>0.000079</td>\n",
       "      <td>NaN</td>\n",
       "    </tr>\n",
       "    <tr>\n",
       "      <th>1</th>\n",
       "      <td>0.000001</td>\n",
       "      <td>0.0020</td>\n",
       "      <td>15490000</td>\n",
       "      <td>150.5</td>\n",
       "      <td>2.333000e+17</td>\n",
       "      <td>0.00001</td>\n",
       "      <td>0.36213</td>\n",
       "      <td>0.62189</td>\n",
       "      <td>0.000009</td>\n",
       "      <td>0.000008</td>\n",
       "      <td>...</td>\n",
       "      <td>0.000067</td>\n",
       "      <td>4.296000e-08</td>\n",
       "      <td>0.000003</td>\n",
       "      <td>0</td>\n",
       "      <td>0.000019</td>\n",
       "      <td>0.000014</td>\n",
       "      <td>0.001340</td>\n",
       "      <td>0.000004</td>\n",
       "      <td>0.000079</td>\n",
       "      <td>NaN</td>\n",
       "    </tr>\n",
       "    <tr>\n",
       "      <th>2</th>\n",
       "      <td>0.000002</td>\n",
       "      <td>0.0025</td>\n",
       "      <td>15490000</td>\n",
       "      <td>150.5</td>\n",
       "      <td>2.333000e+17</td>\n",
       "      <td>0.00001</td>\n",
       "      <td>0.36219</td>\n",
       "      <td>0.62183</td>\n",
       "      <td>0.000009</td>\n",
       "      <td>0.000008</td>\n",
       "      <td>...</td>\n",
       "      <td>0.000067</td>\n",
       "      <td>4.298000e-08</td>\n",
       "      <td>0.000003</td>\n",
       "      <td>0</td>\n",
       "      <td>0.000019</td>\n",
       "      <td>0.000014</td>\n",
       "      <td>0.001341</td>\n",
       "      <td>0.000004</td>\n",
       "      <td>0.000079</td>\n",
       "      <td>NaN</td>\n",
       "    </tr>\n",
       "    <tr>\n",
       "      <th>3</th>\n",
       "      <td>0.000003</td>\n",
       "      <td>0.0030</td>\n",
       "      <td>15490000</td>\n",
       "      <td>150.4</td>\n",
       "      <td>2.333000e+17</td>\n",
       "      <td>0.00002</td>\n",
       "      <td>0.36226</td>\n",
       "      <td>0.62175</td>\n",
       "      <td>0.000009</td>\n",
       "      <td>0.000008</td>\n",
       "      <td>...</td>\n",
       "      <td>0.000067</td>\n",
       "      <td>4.298000e-08</td>\n",
       "      <td>0.000003</td>\n",
       "      <td>0</td>\n",
       "      <td>0.000019</td>\n",
       "      <td>0.000014</td>\n",
       "      <td>0.001341</td>\n",
       "      <td>0.000004</td>\n",
       "      <td>0.000079</td>\n",
       "      <td>NaN</td>\n",
       "    </tr>\n",
       "    <tr>\n",
       "      <th>4</th>\n",
       "      <td>0.000005</td>\n",
       "      <td>0.0035</td>\n",
       "      <td>15490000</td>\n",
       "      <td>150.4</td>\n",
       "      <td>2.332000e+17</td>\n",
       "      <td>0.00004</td>\n",
       "      <td>0.36236</td>\n",
       "      <td>0.62165</td>\n",
       "      <td>0.000009</td>\n",
       "      <td>0.000008</td>\n",
       "      <td>...</td>\n",
       "      <td>0.000067</td>\n",
       "      <td>4.299000e-08</td>\n",
       "      <td>0.000003</td>\n",
       "      <td>0</td>\n",
       "      <td>0.000019</td>\n",
       "      <td>0.000014</td>\n",
       "      <td>0.001341</td>\n",
       "      <td>0.000004</td>\n",
       "      <td>0.000079</td>\n",
       "      <td>NaN</td>\n",
       "    </tr>\n",
       "  </tbody>\n",
       "</table>\n",
       "<p>5 rows × 36 columns</p>\n",
       "</div>"
      ],
      "text/plain": [
       "         0       1         2      3             4        5        6        7   \\\n",
       "0  0.000000  0.0015  15490000  150.5  2.334000e+17  0.00000  0.36209  0.62194   \n",
       "1  0.000001  0.0020  15490000  150.5  2.333000e+17  0.00001  0.36213  0.62189   \n",
       "2  0.000002  0.0025  15490000  150.5  2.333000e+17  0.00001  0.36219  0.62183   \n",
       "3  0.000003  0.0030  15490000  150.4  2.333000e+17  0.00002  0.36226  0.62175   \n",
       "4  0.000005  0.0035  15490000  150.4  2.332000e+17  0.00004  0.36236  0.62165   \n",
       "\n",
       "         8         9  ...        26            27        28  29        30  \\\n",
       "0  0.000009  0.000008 ...  0.000067  4.293000e-08  0.000003   0  0.000019   \n",
       "1  0.000009  0.000008 ...  0.000067  4.296000e-08  0.000003   0  0.000019   \n",
       "2  0.000009  0.000008 ...  0.000067  4.298000e-08  0.000003   0  0.000019   \n",
       "3  0.000009  0.000008 ...  0.000067  4.298000e-08  0.000003   0  0.000019   \n",
       "4  0.000009  0.000008 ...  0.000067  4.299000e-08  0.000003   0  0.000019   \n",
       "\n",
       "         31        32        33        34  35  \n",
       "0  0.000014  0.001339  0.000004  0.000079 NaN  \n",
       "1  0.000014  0.001340  0.000004  0.000079 NaN  \n",
       "2  0.000014  0.001341  0.000004  0.000079 NaN  \n",
       "3  0.000014  0.001341  0.000004  0.000079 NaN  \n",
       "4  0.000014  0.001341  0.000004  0.000079 NaN  \n",
       "\n",
       "[5 rows x 36 columns]"
      ]
     },
     "execution_count": 35,
     "metadata": {},
     "output_type": "execute_result"
    }
   ],
   "source": [
    "data=pandas.read_csv('model_agss09_trim2.dat', sep=\" \", header = None)\n",
    "data[0:5]"
   ]
  },
  {
   "cell_type": "markdown",
   "metadata": {
    "collapsed": true
   },
   "source": [
    "## Further Exploration"
   ]
  },
  {
   "cell_type": "markdown",
   "metadata": {},
   "source": [
    "Let's grab the first row's data:"
   ]
  },
  {
   "cell_type": "code",
   "execution_count": 42,
   "metadata": {
    "collapsed": false
   },
   "outputs": [
    {
     "data": {
      "text/html": [
       "<div style=\"max-height:1000px;max-width:1500px;overflow:auto;\">\n",
       "<table border=\"1\" class=\"dataframe\">\n",
       "  <thead>\n",
       "    <tr style=\"text-align: right;\">\n",
       "      <th></th>\n",
       "      <th>0</th>\n",
       "    </tr>\n",
       "  </thead>\n",
       "  <tbody>\n",
       "    <tr>\n",
       "      <th>0</th>\n",
       "      <td>0.000000</td>\n",
       "    </tr>\n",
       "    <tr>\n",
       "      <th>1</th>\n",
       "      <td>0.000001</td>\n",
       "    </tr>\n",
       "    <tr>\n",
       "      <th>2</th>\n",
       "      <td>0.000002</td>\n",
       "    </tr>\n",
       "    <tr>\n",
       "      <th>3</th>\n",
       "      <td>0.000003</td>\n",
       "    </tr>\n",
       "    <tr>\n",
       "      <th>4</th>\n",
       "      <td>0.000005</td>\n",
       "    </tr>\n",
       "  </tbody>\n",
       "</table>\n",
       "</div>"
      ],
      "text/plain": [
       "          0\n",
       "0  0.000000\n",
       "1  0.000001\n",
       "2  0.000002\n",
       "3  0.000003\n",
       "4  0.000005"
      ]
     },
     "execution_count": 42,
     "metadata": {},
     "output_type": "execute_result"
    }
   ],
   "source": [
    "firstcol=data[[0]]\n",
    "firstcol[0:5]"
   ]
  },
  {
   "cell_type": "markdown",
   "metadata": {},
   "source": [
    "Let's try something fancy and plot some of these."
   ]
  },
  {
   "cell_type": "code",
   "execution_count": 43,
   "metadata": {
    "collapsed": false
   },
   "outputs": [],
   "source": [
    "%matplotlib inline\n",
    "import matplotlib.pyplot as plt"
   ]
  },
  {
   "cell_type": "markdown",
   "metadata": {},
   "source": [
    "Demonstration of how matplotlib.pyplot.plt works. (I coulnd't figure out how to use pandas' dataframe.)"
   ]
  },
  {
   "cell_type": "code",
   "execution_count": 38,
   "metadata": {
    "collapsed": false
   },
   "outputs": [
    {
     "data": {
      "text/plain": [
       "[<matplotlib.lines.Line2D at 0x1124a9190>]"
      ]
     },
     "execution_count": 38,
     "metadata": {},
     "output_type": "execute_result"
    },
    {
     "data": {
      "image/png": "[encoded data removed]",
      "text/plain": [
       "<matplotlib.figure.Figure at 0x11289dcd0>"
      ]
     },
     "metadata": {},
     "output_type": "display_data"
    }
   ],
   "source": [
    "plt.plot([1,2,3,4])"
   ]
  },
  {
   "cell_type": "markdown",
   "metadata": {},
   "source": [
    "Now let's do the same thing to plot the mass fraction of the Earth as a function of radius."
   ]
  },
  {
   "cell_type": "code",
   "execution_count": 40,
   "metadata": {
    "collapsed": false
   },
   "outputs": [
    {
     "data": {
      "text/plain": [
       "[<matplotlib.lines.Line2D at 0x112f49c10>]"
      ]
     },
     "execution_count": 40,
     "metadata": {},
     "output_type": "execute_result"
    },
    {
     "data": {
      "image/png": "[encoded data removed]",
      "text/plain": [
       "<matplotlib.figure.Figure at 0x11289d490>"
      ]
     },
     "metadata": {},
     "output_type": "display_data"
    }
   ],
   "source": [
    "plt.plot(firstrow.as_matrix())"
   ]
  },
  {
   "cell_type": "code",
   "execution_count": null,
   "metadata": {
    "collapsed": true
   },
   "outputs": [],
   "source": []
  }
 ],
 "metadata": {
  "kernelspec": {
   "display_name": "Python 2",
   "language": "python",
   "name": "python2"
  },
  "language_info": {
   "codemirror_mode": {
    "name": "ipython",
    "version": 2
   },
   "file_extension": ".py",
   "mimetype": "text/x-python",
   "name": "python",
   "nbconvert_exporter": "python",
   "pygments_lexer": "ipython2",
   "version": "2.7.10"
  }
 },
 "nbformat": 4,
 "nbformat_minor": 1
}
