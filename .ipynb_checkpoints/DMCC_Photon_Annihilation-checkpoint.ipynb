{
 "cells": [
  {
   "cell_type": "markdown",
   "metadata": {},
   "source": [
    "# Annihilation Notebook"
   ]
  },
  {
   "cell_type": "markdown",
   "metadata": {
    "heading_collapsed": true
   },
   "source": [
    "## Initialize the Notebook"
   ]
  },
  {
   "cell_type": "markdown",
   "metadata": {
    "hidden": true
   },
   "source": [
    "The following cell allows external notebooks to be imported as modules."
   ]
  },
  {
   "cell_type": "code",
   "execution_count": 1,
   "metadata": {
    "ExecuteTime": {
     "end_time": "2017-09-26T15:18:46.261552Z",
     "start_time": "2017-09-26T15:18:45.737663Z"
    },
    "hidden": true
   },
   "outputs": [
    {
     "name": "stdout",
     "output_type": "stream",
     "text": [
      "Complete\n"
     ]
    }
   ],
   "source": [
    "import io, os, sys, types\n",
    "\n",
    "from IPython import get_ipython\n",
    "from nbformat import read\n",
    "from IPython.core.interactiveshell import InteractiveShell\n",
    "\n",
    "def find_notebook(fullname, path=None):\n",
    "    \"\"\"find a notebook, given its fully qualified name and an optional path\n",
    "\n",
    "    This turns \"foo.bar\" into \"foo/bar.ipynb\"\n",
    "    and tries turning \"Foo_Bar\" into \"Foo Bar\" if Foo_Bar\n",
    "    does not exist.\n",
    "    \"\"\"\n",
    "    name = fullname.rsplit('.', 1)[-1]\n",
    "    if not path:\n",
    "        path = ['']\n",
    "    for d in path:\n",
    "        nb_path = os.path.join(d, name + \".ipynb\")\n",
    "        if os.path.isfile(nb_path):\n",
    "            return nb_path\n",
    "        # let import Notebook_Name find \"Notebook Name.ipynb\"\n",
    "        nb_path = nb_path.replace(\"_\", \" \")\n",
    "        if os.path.isfile(nb_path):\n",
    "            return nb_path\n",
    "        \n",
    "class NotebookLoader(object):\n",
    "    \"\"\"Module Loader for Jupyter Notebooks\"\"\"\n",
    "    def __init__(self, path=None):\n",
    "        self.shell = InteractiveShell.instance()\n",
    "        self.path = path\n",
    "\n",
    "    def load_module(self, fullname):\n",
    "        \"\"\"import a notebook as a module\"\"\"\n",
    "        path = find_notebook(fullname, self.path)\n",
    "\n",
    "        print (\"importing Jupyter notebook from %s\" % path)\n",
    "\n",
    "        # load the notebook object\n",
    "        with io.open(path, 'r', encoding='utf-8') as f:\n",
    "            nb = read(f, 4)\n",
    "\n",
    "\n",
    "        # create the module and add it to sys.modules\n",
    "        # if name in sys.modules:\n",
    "        #    return sys.modules[name]\n",
    "        mod = types.ModuleType(fullname)\n",
    "        mod.__file__ = path\n",
    "        mod.__loader__ = self\n",
    "        mod.__dict__['get_ipython'] = get_ipython\n",
    "        sys.modules[fullname] = mod\n",
    "\n",
    "        # extra work to ensure that magics that would affect the user_ns\n",
    "        # actually affect the notebook module's ns\n",
    "        save_user_ns = self.shell.user_ns\n",
    "        self.shell.user_ns = mod.__dict__\n",
    "\n",
    "        try:\n",
    "            for cell in nb.cells:\n",
    "                if cell.cell_type == 'code':\n",
    "                    # transform the input to executable Python\n",
    "                    code = self.shell.input_transformer_manager.transform_cell(cell.source)\n",
    "                    # run the code in themodule\n",
    "                    exec(code, mod.__dict__)\n",
    "        finally:\n",
    "            self.shell.user_ns = save_user_ns\n",
    "        return mod\n",
    "\n",
    "    \n",
    "class NotebookFinder(object):\n",
    "    \"\"\"Module finder that locates Jupyter Notebooks\"\"\"\n",
    "    def __init__(self):\n",
    "        self.loaders = {}\n",
    "\n",
    "    def find_module(self, fullname, path=None):\n",
    "        nb_path = find_notebook(fullname, path)\n",
    "        if not nb_path:\n",
    "            return\n",
    "\n",
    "        key = path\n",
    "        if path:\n",
    "            # lists aren't hashable\n",
    "            key = os.path.sep.join(path)\n",
    "\n",
    "        if key not in self.loaders:\n",
    "            self.loaders[key] = NotebookLoader(path)\n",
    "        return self.loaders[key]\n",
    "\n",
    "    \n",
    "sys.meta_path.append(NotebookFinder())\n",
    "\n",
    "\n",
    "print ('Complete')"
   ]
  },
  {
   "cell_type": "markdown",
   "metadata": {
    "hidden": true
   },
   "source": [
    "### Import Notebooks\n",
    "This cell imports all required notebooks."
   ]
  },
  {
   "cell_type": "code",
   "execution_count": 2,
   "metadata": {
    "ExecuteTime": {
     "end_time": "2017-09-26T15:18:48.028751Z",
     "start_time": "2017-09-26T15:18:46.263589Z"
    },
    "hidden": true
   },
   "outputs": [
    {
     "name": "stdout",
     "output_type": "stream",
     "text": [
      "importing Jupyter notebook from MasterFunctions_Annihilation.ipynb\n",
      "importing Jupyter notebook from MasterFunctions_ModelData.ipynb\n",
      "0.034551447117\n",
      "------ MasterFunctions_ModelData Imported ------\n",
      "------ MasterFunctions_Annihilation Loaded ------\n",
      "All Notebooks Imported\n"
     ]
    }
   ],
   "source": [
    "# from MasterFunctions_Capture import *\n",
    "from MasterFunctions_Annihilation import *\n",
    "from MasterFunctions_Graphing import *\n",
    "\n",
    "print ('All Notebooks Imported')"
   ]
  },
  {
   "cell_type": "markdown",
   "metadata": {
    "collapsed": true,
    "hidden": true
   },
   "source": [
    "----------"
   ]
  },
  {
   "cell_type": "markdown",
   "metadata": {},
   "source": [
    "# Annihilation Rate"
   ]
  },
  {
   "cell_type": "markdown",
   "metadata": {
    "collapsed": true
   },
   "source": [
    "## Annihilation Rate: $C_{ann}$"
   ]
  },
  {
   "cell_type": "markdown",
   "metadata": {},
   "source": [
    "From Equation 22, $C_{ann}$ is given by:\n",
    "\n",
    "\\begin{equation}\n",
    "C_{ann} = \\langle \\sigma_{ann}v \\rangle \\left[ \\frac{G_Nm_X\\rho_{\\oplus}}{3T_{\\oplus}} \\right]^{3/2}\n",
    "\\end{equation}\n",
    "\n",
    "with $\\rho_{\\oplus} \\approx 13 \\frac{g}{cm^3}$ and $T_{\\oplus} \\approx 5700K$\n"
   ]
  },
  {
   "cell_type": "markdown",
   "metadata": {
    "collapsed": true
   },
   "source": [
    "## Thermally Averaged Cross Section: $\\langle \\sigma_{ann}v \\rangle$"
   ]
  },
  {
   "cell_type": "markdown",
   "metadata": {},
   "source": [
    "here, we define the thermally averaged cross section:\n",
    "\n",
    "\\begin{equation}\n",
    "\\langle \\sigma_{ann}v \\rangle = (\\sigma_{ann}v)_{tree} \\langle S_S \\rangle \n",
    "\\end{equation}\n",
    "\n",
    "where:\n",
    "\n",
    "\\begin{equation}\n",
    "(\\sigma_{ann}v)_{tree} = \\frac{\\pi \\alpha_X^2 [1-m_{A'}^2/m_X^2]^{3/2} }{m_X^2 [1-m_{A'}^2/(2m_X^2)]^2} \\end{equation}\n",
    "\n"
   ]
  },
  {
   "cell_type": "markdown",
   "metadata": {},
   "source": [
    "## Sommerfeld Enhancement"
   ]
  },
  {
   "cell_type": "markdown",
   "metadata": {},
   "source": [
    "We note that the Sommerfeld Enhencement $\\langle S_s \\rangle$ may be calculated explicitly independent of the rest of the Annihilation rate, so we calculate:\n",
    "\\begin{equation}\n",
    "C_{Ann} = \\langle S_s \\rangle C_{Ann, 0}\n",
    "\\end{equation}\n",
    "where $C_{Ann, 0}$ is the annihilation rate without the sommerfeld enhancement. Writing the annihilation rate like this allows us to calculate the Sommerfeld enhancement to arbitrary precision without calculating the entire annihilation rate and then multiply it on when needed.\n",
    "\n",
    "\n",
    "We see that $\\tau \\propto \\sqrt{1/\\langle S_s \\rangle}$, so the larger the enhancement, the shorter the equilibium timescale."
   ]
  },
  {
   "cell_type": "markdown",
   "metadata": {},
   "source": [
    "The Sommerfeld enhancement is given by:\n",
    "\n",
    "\\begin{equation}\n",
    "S_S = \\frac{\\pi}{a} \\frac{\\sinh(2\\pi ac)}{\\cosh(2\\pi ac) - \\cos(2\\pi \\sqrt{c-(ac)^2}) }\n",
    "\\end{equation}\n",
    "\n",
    "with its thermal average:\n",
    "\n",
    "\\begin{equation}\n",
    "\\langle S_S \\rangle = \\int \\frac{d^3 v}{(2\\pi v_0^2)^{3/2}} \\ e^{-\\frac{1}{2}v^2/v_0^2} \\ S_S \n",
    "\\end{equation}\n",
    "\n",
    "where $ a= \\frac{v}{2\\alpha_X} $, $c=6\\alpha_X \\frac{m_X}{\\pi^2m_{A'}}$, and $v_0 = \\sqrt{2T_{\\oplus}m_X} $\n",
    "\n"
   ]
  },
  {
   "cell_type": "markdown",
   "metadata": {},
   "source": [
    "## Python Definitions"
   ]
  },
  {
   "cell_type": "markdown",
   "metadata": {},
   "source": [
    "The Python function \n",
    "\\begin{equation}\n",
    "\\small\\text{thermAvgSommerfeld(m_X, m_A, alpha_X)} = \\langle S_s \\rangle\n",
    "\\end{equation}\n",
    "encodes the thermally averaged Sommerfeld enhancement.\n",
    "\n",
    "The function\n",
    "\\begin{equation}\n",
    "\\small\\text{CAnn(m_X, m_A, alpha_X, thermAvgSomm = 1)} = \\langle S_s \\rangle C_{Ann, 0}\n",
    "\\end{equation}\n",
    "encodes the annihilation rate with the Sommerfeld ehnancement as an explicit value passed into the function. Note that in the function definition, the Sommmerfeld is set to \"off\" by default.\n",
    "\n",
    "Annihilation Rate Checks with Flip, error less than 1%. Verified on 7/4/17"
   ]
  },
  {
   "cell_type": "markdown",
   "metadata": {},
   "source": [
    "### Plot the Thermal Average sommerfeld, and annihilation rates with sommerfeld on and off"
   ]
  },
  {
   "cell_type": "markdown",
   "metadata": {},
   "source": [
    "The following cell initlizes vectors which store:\n",
    "\n",
    "1). $\\langle S_s \\rangle$ calculations\n",
    "\n",
    "2). $C_{Ann}$ calculations including Sommerfeld enhancements\n",
    "\n",
    "3). $C_{Ann}$ calculations not including Sommerfeld enhancements\n",
    "\n",
    "\n",
    "We use a dark matter mass of $1000$ GeV and calculate the Sommerfeld and resulting Annihilation rates for mediator masses between $0.01 - 10$ GeV."
   ]
  },
  {
   "cell_type": "markdown",
   "metadata": {},
   "source": [
    "#### Initialize Parameters"
   ]
  },
  {
   "cell_type": "markdown",
   "metadata": {},
   "source": [
    "In this cell, we define the following values:\n",
    "\n",
    "1). $m_X$\n",
    "\n",
    "2). $m_{A, min}$\n",
    "\n",
    "3). $m_{A, max}$\n",
    "\n",
    "4). $\\text{Num} $\n",
    "\n",
    "where $m_X$ is the dark matter mass, $m_{A, min}$ and $m_{A, max}$ define the lower and upper value of the mediator mass which span a range between:\n",
    "\n",
    "\\begin{equation}\n",
    " 10^{m_{A, min}} - 10^{m_{A, max}},\n",
    "\\end{equation}\n",
    "\n",
    "and $\\text{Num} $ defines the number of data points."
   ]
  },
  {
   "cell_type": "code",
   "execution_count": 13,
   "metadata": {
    "ExecuteTime": {
     "end_time": "2017-09-26T15:35:38.846202Z",
     "start_time": "2017-09-26T15:35:38.838192Z"
    }
   },
   "outputs": [
    {
     "name": "stdout",
     "output_type": "stream",
     "text": [
      "Complete\n"
     ]
    }
   ],
   "source": [
    "m_XTest = 1000.\n",
    "maLow = -2 # 10^-2\n",
    "maHigh = 1 #10^1\n",
    "Num = 500\n",
    "\n",
    "print ('Complete')"
   ]
  },
  {
   "cell_type": "markdown",
   "metadata": {},
   "source": [
    "#### Generate Sommerfeld Vectors"
   ]
  },
  {
   "cell_type": "markdown",
   "metadata": {},
   "source": [
    "This cell initializes and populates three vectors of length $\\text{Num}$ which store:\n",
    "\n",
    "1). SommVect - $\\langle S_s \\rangle$\n",
    "\n",
    "2). CAnnSommVect - $C_{Ann, 0}$\n",
    "\n",
    "3). CAnnNoSommVect - $C_{Ann}$\n",
    "\n",
    "which store data given by their names."
   ]
  },
  {
   "cell_type": "code",
   "execution_count": 10,
   "metadata": {
    "ExecuteTime": {
     "end_time": "2017-09-26T15:19:47.609850Z",
     "start_time": "2017-09-26T15:19:46.701942Z"
    }
   },
   "outputs": [
    {
     "name": "stdout",
     "output_type": "stream",
     "text": [
      "Complete\n"
     ]
    }
   ],
   "source": [
    "maRange = np.logspace(maLow, maHigh, Num, base = 10)\n",
    "SommVect       = []\n",
    "CAnnSommVect   = []\n",
    "CAnnNoSommVect = []\n",
    "\n",
    "for ma in maRange:\n",
    "    alpha_XTest = alphaTherm(m_XTest, ma)\n",
    "    Somm        = thermAvgSommerfeld(m_XTest, ma, alpha_XTest)\n",
    "    AnnSomm     = CAnnCalc(m_XTest, ma, alpha_XTest, Somm)\n",
    "    AnnNoSomm   = CAnnCalc(m_XTest, ma, alpha_XTest)\n",
    "    \n",
    "    SommVect.append(Somm)\n",
    "    CAnnNoSommVect.append(AnnNoSomm)\n",
    "    CAnnSommVect.append(AnnSomm)\n",
    "\n",
    "print ('Complete')"
   ]
  },
  {
   "cell_type": "markdown",
   "metadata": {},
   "source": [
    "#### Plot the Sommerfeld Enhancement\n",
    "\n",
    "The following cell plots the Sommerfeld vector \"SommVect\" populated in the previous cell."
   ]
  },
  {
   "cell_type": "code",
   "execution_count": 11,
   "metadata": {
    "ExecuteTime": {
     "end_time": "2017-09-26T15:19:50.941834Z",
     "start_time": "2017-09-26T15:19:50.043939Z"
    }
   },
   "outputs": [
    {
     "name": "stdout",
     "output_type": "stream",
     "text": [
      "Complete\n"
     ]
    },
    {
     "data": {
      "image/png": "[encoded data removed]",
      "text/plain": [
       "<matplotlib.figure.Figure at 0x1d1ddc300f0>"
      ]
     },
     "metadata": {},
     "output_type": "display_data"
    }
   ],
   "source": [
    "fig0 = plt.figure(figsize = (7,5))\n",
    "line1, = plt.plot(np.log10(maRange),np.log10(SommVect))\n",
    "# line1, = plt.plot(np.log10(maRange),np.log10(SommonlyVect))\n",
    "plt.xlabel(r'$\\log(m_A)$ $[GeV]$',fontsize = 12)\n",
    "plt.ylabel(r'$\\langle S_s \\rangle$', fontsize = 12)\n",
    "plt.suptitle('Sommerfeld vs $m_A$', fontsize = 16)\n",
    "plt.title('$m_X$ = {0} GeV'.format(m_XTest),loc = 'right', fontsize = 14)\n",
    "plt.legend([line1], ['Sommerfeld Enhancement'], fontsize = 12)\n",
    "plt.grid()\n",
    "\n",
    "print ('Complete')"
   ]
  },
  {
   "cell_type": "markdown",
   "metadata": {},
   "source": [
    "#### Plot Annihilation Rate"
   ]
  },
  {
   "cell_type": "markdown",
   "metadata": {},
   "source": [
    "The following cell plots the Annihilation rate $C_{Ann}$ versus mediator mass with and without Sommerfeld enhancements for comparison. "
   ]
  },
  {
   "cell_type": "code",
   "execution_count": 12,
   "metadata": {
    "ExecuteTime": {
     "end_time": "2017-09-26T15:35:13.032279Z",
     "start_time": "2017-09-26T15:35:12.471532Z"
    },
    "scrolled": true
   },
   "outputs": [
    {
     "name": "stdout",
     "output_type": "stream",
     "text": [
      "Complete\n"
     ]
    },
    {
     "data": {
      "image/png": "[encoded data removed]",
      "text/plain": [
       "<matplotlib.figure.Figure at 0x1d1ddbb8a20>"
      ]
     },
     "metadata": {},
     "output_type": "display_data"
    }
   ],
   "source": [
    "fig1 = plt.figure(figsize = (7,5))\n",
    "line2, = plt.plot(np.log10(maRange),np.log10(CAnnNoSommVect))\n",
    "line3, = plt.plot(np.log10(maRange),np.log10(CAnnSommVect))\n",
    "plt.xlabel(r'$\\log(m_A)$ $[GeV]$',fontsize = 12)\n",
    "plt.ylabel(r'$\\log(C_{Ann})$ $[sec^{-1}]$', fontsize = 12)\n",
    "plt.suptitle('Annihilation Rate vs $m_A$', fontsize = 16)\n",
    "plt.title('$m_X$ = {0} GeV'.format(m_XTest),loc = 'right', fontsize = 14)\n",
    "plt.legend([line2,line3],\\\n",
    "           ['Sommerfeld off', 'Sommerfeld on'], fontsize = 12)\n",
    "plt.grid()\n",
    "\n",
    "print ('Complete')"
   ]
  },
  {
   "cell_type": "code",
   "execution_count": null,
   "metadata": {
    "collapsed": true
   },
   "outputs": [],
   "source": []
  }
 ],
 "metadata": {
  "anaconda-cloud": {},
  "kernelspec": {
   "display_name": "Python 3",
   "language": "python",
   "name": "python3"
  },
  "language_info": {
   "codemirror_mode": {
    "name": "ipython",
    "version": 3
   },
   "file_extension": ".py",
   "mimetype": "text/x-python",
   "name": "python",
   "nbconvert_exporter": "python",
   "pygments_lexer": "ipython3",
   "version": "3.6.2"
  },
  "latex_envs": {
   "LaTeX_envs_menu_present": true,
   "autocomplete": true,
   "bibliofile": "biblio.bib",
   "cite_by": "apalike",
   "current_citInitial": 1,
   "eqLabelWithNumbers": true,
   "eqNumInitial": 1,
   "hotkeys": {
    "equation": "Ctrl-E",
    "itemize": "Ctrl-I"
   },
   "labels_anchors": false,
   "latex_user_defs": false,
   "report_style_numbering": false,
   "user_envs_cfg": false
  }
 },
 "nbformat": 4,
 "nbformat_minor": 1
}
