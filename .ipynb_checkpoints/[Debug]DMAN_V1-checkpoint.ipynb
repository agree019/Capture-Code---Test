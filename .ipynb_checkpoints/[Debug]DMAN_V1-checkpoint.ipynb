{
 "cells": [
  {
   "cell_type": "markdown",
   "metadata": {},
   "source": [
    "# Annihilation Rate Debug Notebook"
   ]
  },
  {
   "cell_type": "code",
   "execution_count": null,
   "metadata": {
    "collapsed": true
   },
   "outputs": [],
   "source": []
  },
  {
   "cell_type": "code",
   "execution_count": null,
   "metadata": {
    "collapsed": true
   },
   "outputs": [],
   "source": []
  },
  {
   "cell_type": "code",
   "execution_count": 2,
   "metadata": {
    "collapsed": false
   },
   "outputs": [
    {
     "name": "stdout",
     "output_type": "stream",
     "text": [
      "Complete\n"
     ]
    }
   ],
   "source": [
    "import numpy as np\n",
    "import scipy as sp\n",
    "import pandas\n",
    "from scipy import interpolate\n",
    "import time\n",
    "\n",
    "import scipy.integrate as integrate\n",
    "import matplotlib.pyplot as plt\n",
    "%matplotlib inline\n",
    "\n",
    "import timeit as T\n",
    "\n",
    "\n",
    "print 'Complete'"
   ]
  },
  {
   "cell_type": "markdown",
   "metadata": {},
   "source": [
    "## Importing Earth Density Data (PREM500)\n",
    "The raw data from PREM500 has been converted into MKS units, however, the table where that data came from [51] gives the radius in $km$ and density in $kg/cm^3$"
   ]
  },
  {
   "cell_type": "code",
   "execution_count": 3,
   "metadata": {
    "collapsed": false
   },
   "outputs": [
    {
     "name": "stdout",
     "output_type": "stream",
     "text": [
      "Complete\n"
     ]
    }
   ],
   "source": [
    "# Radius is column 1, Density is column 2\n",
    "# Radius in meters: verified by REF [51] Table 1 pg. 312\n",
    "# Density in Kg/m^3, verified by REF [51] Table 1 pg. 312\n",
    "\n",
    "# This section grabs the data and converts it to MKS units\n",
    "data = pandas.read_csv('PREM500.csv', sep = ',')\n",
    "radiusTemp1 = data[[0]]  # Radius in Meters\n",
    "densityTemp1 = data[[1]] # Density in kg/m^3\n",
    "\n",
    "\n",
    "# The interpolation function doesn't like these objects, so they need to be massaged into 1-D numpy arrays\n",
    "radiusListBadUnits = np.asarray(radiusTemp1).squeeze()\n",
    "densityListBadUnits = np.asarray(densityTemp1).squeeze()\n",
    "\n",
    "print 'Complete'"
   ]
  },
  {
   "cell_type": "markdown",
   "metadata": {},
   "source": [
    "### A Note on Units:\n",
    "The variable radiusListBadUnits has units of Meters\n",
    "\n",
    "The variable densityListBadUnits has units of kg/m^3\n",
    "\n",
    "The following cell converts the length of both to cm."
   ]
  },
  {
   "cell_type": "code",
   "execution_count": 4,
   "metadata": {
    "collapsed": false
   },
   "outputs": [
    {
     "name": "stdout",
     "output_type": "stream",
     "text": [
      "Complete\n"
     ]
    }
   ],
   "source": [
    "radiusList = radiusListBadUnits * 100\n",
    "densityList = densityListBadUnits * (100)**-3 * 1000\n",
    "\n",
    "print 'Complete'"
   ]
  },
  {
   "cell_type": "markdown",
   "metadata": {},
   "source": [
    "## Conversions and Atomic Definitions\n",
    "\n",
    "In the following cell, we initialize usefull unit conversions and dictionaries storing various atomic information."
   ]
  },
  {
   "cell_type": "code",
   "execution_count": 5,
   "metadata": {
    "collapsed": false
   },
   "outputs": [
    {
     "name": "stdout",
     "output_type": "stream",
     "text": [
      "Complete\n"
     ]
    }
   ],
   "source": [
    "################################################################################\n",
    "# Conversions\n",
    "################################################################################\n",
    "\n",
    "def amu2Gev(par1):\n",
    "#     return 0.9314941 * par1 # GeV\n",
    "    return 0.938272 * par1 # Taken directly from Flip notebook\n",
    "\n",
    "def amu2g(par1):\n",
    "    return 1.66053892*10**-24 * par1 # g\n",
    "\n",
    "def GeV2s(par1):\n",
    "    return 1.52*10**24 * par1 # s^-1\n",
    "\n",
    "def s2GeV(par1):\n",
    "    return 1.52*10**24 * par1 # GeV^-1\n",
    "\n",
    "def GeV2cm(par1):\n",
    "    return 5.06*10**13 * par1 # cm^-1\n",
    "\n",
    "def cm2GeV(par1):\n",
    "    return 5.06*10**13 * par1 # GeV^-1\n",
    "\n",
    "def KeltoGeV(par1):\n",
    "    return 8.62*10**-14 * par1 # GeV\n",
    "\n",
    "def s2yr(par1):\n",
    "    return 3.16888*10**-8 * par1 # Yr\n",
    "\n",
    "def ev2Gev(par1):\n",
    "    return par1 * 10**6 # GeV\n",
    "\n",
    "def eV2kg(par1):\n",
    "    return 1.782661845* 10**-36 * par1 # kg\n",
    "\n",
    "def g2Gev(par1):\n",
    "    return 5.609588845*10**32 * par1 #GeV\n",
    "\n",
    "\n",
    "################################################################################\n",
    "# Atomic Dictionary Definitions\n",
    "################################################################################\n",
    "\n",
    "elementList = [\n",
    "    'O16' ,\n",
    "    'Si28',\n",
    "    'Mg24',\n",
    "    'Fe56',\n",
    "    'Ca40',\n",
    "    'P31' ,\n",
    "#     'Na11',\n",
    "    'S32' ,\n",
    "    'Ni58',\n",
    "    'Al27',\n",
    "    'Cr52',\n",
    "]\n",
    "\n",
    "atomicNumbers = {\n",
    "    'H1': 1.,\n",
    "    'He4': 4.,\n",
    "    'He3': 3.,\n",
    "    'Na11': 23.,\n",
    "    'C12': 12.,\n",
    "    'C13':13.,\n",
    "    'N14':14.,\n",
    "    'N15':15.,\n",
    "    'O16':16.,\n",
    "    'O17':17. ,\n",
    "    'O18':18.,\n",
    "    'Ne20':20.,\n",
    "    'Na23':23.,\n",
    "    'Mg24':24., # 78%\n",
    "    'Al27':27.,\n",
    "    'Si28':28.,\n",
    "    'P31':30.,\n",
    "    'S32':32.,\n",
    "    'Cl35':35., # 75%\n",
    "    'Ar40':40.,\n",
    "    'K39':39.,\n",
    "    'Ca40':40.,\n",
    "    'Sc45':45.,\n",
    "    'Ti48':48., # 74%\n",
    "    'V51':51.,\n",
    "    'Cr52':52., # 83%\n",
    "    'Mn55':55.,\n",
    "    'Fe56':56.,\n",
    "    'Co59':59.,\n",
    "    'Ni58':59., # 58%\n",
    "}\n",
    "\n",
    "nProtons = { # This is Z_N\n",
    "    'H1':1.,\n",
    "    'He3':2.,\n",
    "    'He4':2.,\n",
    "    'He3':2.,\n",
    "    'Na11': 11.,\n",
    "    'C12':6.,\n",
    "    'C13':6.,\n",
    "    'N14':7.,\n",
    "    'N15':7.,\n",
    "    'O16':8.,\n",
    "    'O17':8.,\n",
    "    'O18':8.,\n",
    "    'Ne20':10.,\n",
    "    'Na23':11.,\n",
    "    'Mg24':12., # 78%\n",
    "    'Al27':13.,\n",
    "    'Si28':14.,\n",
    "    'P31':15.,\n",
    "    'S32':16.,\n",
    "    'Cl35':17., # 75%\n",
    "    'Ar40':18.,\n",
    "    'K39':19.,\n",
    "    'Ca40':20.,\n",
    "    'Sc45':21.,\n",
    "    'Ti48':22., # 74%\n",
    "    'V51':23.,\n",
    "    'Cr52':24., # 83%\n",
    "    'Mn55':25.,\n",
    "    'Fe56':26.,\n",
    "    'Co59':27.,\n",
    "    'Ni58':28., # 58%\n",
    "}\n",
    "\n",
    "# Mass Fraction Dictionary\n",
    "coreMassFrac = {\n",
    "    'Na11': 0.0,\n",
    "    'O16' : 0.0,\n",
    "    'Mg24': 0.0,\n",
    "    'Al27': 0.0,\n",
    "    'Si28': 0.06,\n",
    "    'P31' : 0.002,\n",
    "    'S32' : 0.019,\n",
    "    'Ca40': 0.0,\n",
    "    'Cr52': 0.009,\n",
    "    'Fe56': 0.855,\n",
    "    'Ni58': 0.052,\n",
    "}\n",
    "\n",
    "mantleMassFrac = {\n",
    "    'Na11': 0.0027,\n",
    "    'O16' : 0.440,\n",
    "    'Mg24': 0.228,\n",
    "    'Al27': 0.0235,\n",
    "    'Si28': 0.210,\n",
    "    'P31' : 0.00009,\n",
    "    'S32' : 0.00025,\n",
    "    'Ca40': 0.0253,\n",
    "    'Cr52': 0.0026,\n",
    "    'Fe56': 0.0626,\n",
    "    'Ni58': 0.00196,\n",
    "}\n",
    "print 'Complete'"
   ]
  },
  {
   "cell_type": "markdown",
   "metadata": {},
   "source": [
    "## Model Parameters and Constants\n",
    "\n",
    "In this cell, we initialize all model parameters as global variables."
   ]
  },
  {
   "cell_type": "code",
   "execution_count": 6,
   "metadata": {
    "collapsed": false
   },
   "outputs": [
    {
     "name": "stdout",
     "output_type": "stream",
     "text": [
      "Complete\n"
     ]
    }
   ],
   "source": [
    "################################################################################\n",
    "# Constants\n",
    "################################################################################\n",
    "global c\n",
    "global G\n",
    "global M_E\n",
    "global R_earth\n",
    "global V_dot\n",
    "global V_cross\n",
    "global V_gal\n",
    "global u_0\n",
    "global k\n",
    "global n_X\n",
    "global mf\n",
    "\n",
    "c = 3.0*10**10 # cm/s\n",
    "G = 6.674e-11 * 100**3 *(1000)**-1 # cm^3/g s \n",
    "# M_E = 5.972e27 # g\n",
    "# R_earth = 6.37e6 # m\n",
    "V_dot = 220.0*10**5 # cm/s\n",
    "V_cross = 298.0*10**5 # cm/s\n",
    "V_gal = 550.0*10**5 # cm/s\n",
    "u_0 = 245.0*10**5 # cm/s\n",
    "k = 2.5\n",
    "\n",
    "print 'Complete'"
   ]
  },
  {
   "cell_type": "markdown",
   "metadata": {},
   "source": [
    "## Annihilation Rate\n",
    "\n",
    "Recall the solution to the differential equation:\n",
    "$$ \\frac{dN_X}{dt} = C_{cap} - N_X^2 C_{ann} $$\n",
    "is given by:\n",
    "$$ \\Gamma_{ann} = \\frac{1}{2} C_{cap}\\tanh^2\\frac{\\tau_{\\oplus}}{\\tau} = \\frac{1}{2}C_{ann}N_X^2$$\n",
    "\n",
    "So we need an expression for $C_{ann}$"
   ]
  },
  {
   "cell_type": "markdown",
   "metadata": {},
   "source": [
    "### Annihilation Rate: $C_{ann}$\n",
    "From Equation 22, $C_{ann}$ is given by:\n",
    "$$ C_{ann} = \\langle \\sigma_{ann}v \\rangle \\left[ \\frac{G_Nm_X\\rho_{\\oplus}}{3T_{\\oplus}} \\right] $$\n",
    "\n",
    "with $\\rho_{\\oplus} \\approx 13 \\frac{g}{cm^3}$ and $T_{\\oplus} \\approx 5700K$\n",
    "\n",
    "Further explanation...."
   ]
  },
  {
   "cell_type": "markdown",
   "metadata": {},
   "source": [
    "### Thermally Averaged Cross Section: $\\langle \\sigma_{ann}v \\rangle$\n",
    "\n",
    "$$ \\langle \\sigma_{ann}v \\rangle = (\\sigma_{ann}v)_{tree} \\langle S_S \\rangle $$\n",
    "\n",
    "where:\n",
    "\n",
    "$$ (\\sigma_{ann}v)_{tree} = \\frac{\\pi \\alpha_X^2 [1-m_{A'}^2/m_X^2]^{3/2} }{m_X^2 [1-m_{A'}^2/(2m_X^2)]^2} $$\n",
    "\n",
    "and the Sommerfeld enhancement $S_S$ is given by:\n",
    "$$ S_S = \\frac{\\pi}{a} \\frac{\\sinh(2\\pi ac)}{\\cosh(2\\pi ac) - \\cos(2\\pi \\sqrt{c-(ac)^2}) } $$\n",
    "\n",
    "where $ a= \\frac{v}{2\\alpha_X} $ and $c=6\\alpha_X \\frac{m_X}{\\pi^2m_{A'}}$"
   ]
  },
  {
   "cell_type": "code",
   "execution_count": 7,
   "metadata": {
    "collapsed": false
   },
   "outputs": [
    {
     "name": "stdout",
     "output_type": "stream",
     "text": [
      "Complete\n"
     ]
    }
   ],
   "source": [
    "rhoCross = 13. # g/cm^3\n",
    "Tcross = 5700 # K\n",
    "\n",
    "def treeCrossSectionV(m_X , m_A, alpha_X):\n",
    "    function = np.pi*alpha_X**2 * (1- (m_A/m_X)**2 )**(3/2) / (m_X**2 *(1- 0.5*(m_A/m_X)**2))\n",
    "    return function\n",
    "\n",
    "def sommerfeld(v, m_X, m_A, alpha_X):\n",
    "    a = v/(2*alpha_X)\n",
    "    c = 6*alpha_X*m_X/(np.pi**2*m_A)\n",
    "\n",
    "    function = np.pi/a * np.sinh(2*np.pi*a*c) / \\\n",
    "        (np.cosh(2*np.pi*a*c) - np.cos(2*np.pi*np.sqrt(c-(a*c)**2) ) ) \n",
    "    return function\n",
    "    \n",
    "def thermAvgSommerfeld(m_X, m_A, alpha_X):\n",
    "    v0 = np.sqrt(2*Tcross/m_X)\n",
    "    def integrand(v):\n",
    "        function = np.exp(-0.5*(v/v0)**2) * sommerfeld(v, m_X, m_A, alpha_X)\n",
    "#         function = sommerfeld(v, m_X, m_A, alpha_X)\n",
    "#         print '(v,function) = (%e,%e)' % (v,function)\n",
    "        return function\n",
    "    lowV = 0\n",
    "    highV = V_gal/c\n",
    "    integralNoConstants = integrate.quad(integrand,lowV,highV)\n",
    "    fullIntegral = integralNoConstants * 1/(2*np.pi*v0**2)**(1.5)\n",
    "    return fullIntegral\n",
    "               \n",
    "def thermAvgCrossSectionV(m_X, m_A, alpha_X):\n",
    "    function = treeCrossSectionV(m_X , m_A, alpha_X) * thermAvgSommerfeld(m_X , m_A, alpha_X)\n",
    "    return function\n",
    "\n",
    "    \n",
    "# print treeCrossSectionV(1000,1,0.035)\n",
    "# print sommerfeld(0.0000002,1000,1,0.0035)\n",
    "# print thermAvgSommerfeld(1000,1,0.0035)    \n",
    "# print thermAvgCrossSectionV(1000,1,0.0035)    \n",
    "    \n",
    "print 'Complete'"
   ]
  },
  {
   "cell_type": "code",
   "execution_count": null,
   "metadata": {
    "collapsed": true
   },
   "outputs": [],
   "source": [
    "### Equilibrium Timescale: "
   ]
  },
  {
   "cell_type": "code",
   "execution_count": null,
   "metadata": {
    "collapsed": true
   },
   "outputs": [],
   "source": [
    "tauCross = 4.5e6 # yr\n"
   ]
  },
  {
   "cell_type": "markdown",
   "metadata": {
    "collapsed": true
   },
   "source": [
    "## Attempt at Fig. 2\n",
    "\n",
    "This was coppied from: http://stackoverflow.com/questions/20186344/ipynb-import-another-ipynb-file\n",
    "\n",
    "Ideally I want to use this, but this requires pip, which isn't working: \n",
    "https://github.com/grst/nbimporter"
   ]
  },
  {
   "cell_type": "code",
   "execution_count": 8,
   "metadata": {
    "collapsed": false
   },
   "outputs": [
    {
     "name": "stdout",
     "output_type": "stream",
     "text": [
      "Complete\n"
     ]
    }
   ],
   "source": [
    "import os\n",
    "import sys\n",
    "module_path = os.path.abspath(os.path.join('..'))\n",
    "if module_path not in sys.path:\n",
    "    sys.path.append(module_path)\n",
    "    \n",
    "print 'Complete'"
   ]
  },
  {
   "cell_type": "code",
   "execution_count": null,
   "metadata": {
    "collapsed": true
   },
   "outputs": [],
   "source": []
  },
  {
   "cell_type": "code",
   "execution_count": 17,
   "metadata": {
    "collapsed": false
   },
   "outputs": [
    {
     "name": "stdout",
     "output_type": "stream",
     "text": [
      "Complete\n"
     ]
    },
    {
     "data": {
      "image/png": "[encoded data removed]",
      "text/plain": [
       "<matplotlib.figure.Figure at 0xa732b00>"
      ]
     },
     "metadata": {},
     "output_type": "display_data"
    }
   ],
   "source": [
    "xList = np.linspace(0,49)\n",
    "yList = np.linspace(0,49)\n",
    "X,Y = np.meshgrid(xList,yList)\n",
    "Z = np.sqrt(X**2+Y**2)\n",
    "\n",
    "plt.figure()\n",
    "cp=plt.contour(X,Y,Z)\n",
    "\n",
    "print 'Complete'"
   ]
  },
  {
   "cell_type": "code",
   "execution_count": null,
   "metadata": {
    "collapsed": true
   },
   "outputs": [],
   "source": []
  }
 ],
 "metadata": {
  "anaconda-cloud": {},
  "kernelspec": {
   "display_name": "Python [Root]",
   "language": "python",
   "name": "Python [Root]"
  },
  "language_info": {
   "codemirror_mode": {
    "name": "ipython",
    "version": 2
   },
   "file_extension": ".py",
   "mimetype": "text/x-python",
   "name": "python",
   "nbconvert_exporter": "python",
   "pygments_lexer": "ipython2",
   "version": "2.7.12"
  }
 },
 "nbformat": 4,
 "nbformat_minor": 0
}
