{
 "cells": [
  {
   "cell_type": "markdown",
   "metadata": {},
   "source": [
    "# MasterFunctions - Capture Rate Approximation Definitions"
   ]
  },
  {
   "cell_type": "markdown",
   "metadata": {},
   "source": [
    "## Initialize the Notebook\n",
    "\n",
    "The following cell allows external notebooks to be imported as modules."
   ]
  },
  {
   "cell_type": "code",
   "execution_count": null,
   "metadata": {
    "ExecuteTime": {
     "end_time": "2018-03-25T21:46:35.076629Z",
     "start_time": "2018-03-25T21:46:34.678574Z"
    },
    "collapsed": true
   },
   "outputs": [],
   "source": [
    "import io, os, sys, types\n",
    "\n",
    "from IPython import get_ipython\n",
    "from nbformat import read\n",
    "from IPython.core.interactiveshell import InteractiveShell\n",
    "\n",
    "def find_notebook(fullname, path=None):\n",
    "    \"\"\"find a notebook, given its fully qualified name and an optional path\n",
    "\n",
    "    This turns \"foo.bar\" into \"foo/bar.ipynb\"\n",
    "    and tries turning \"Foo_Bar\" into \"Foo Bar\" if Foo_Bar\n",
    "    does not exist.\n",
    "    \"\"\"\n",
    "    name = fullname.rsplit('.', 1)[-1]\n",
    "    if not path:\n",
    "        path = ['']\n",
    "    for d in path:\n",
    "        nb_path = os.path.join(d, name + \".ipynb\")\n",
    "        if os.path.isfile(nb_path):\n",
    "            return nb_path\n",
    "        # let import Notebook_Name find \"Notebook Name.ipynb\"\n",
    "        nb_path = nb_path.replace(\"_\", \" \")\n",
    "        if os.path.isfile(nb_path):\n",
    "            return nb_path\n",
    "        \n",
    "class NotebookLoader(object):\n",
    "    \"\"\"Module Loader for Jupyter Notebooks\"\"\"\n",
    "    def __init__(self, path=None):\n",
    "        self.shell = InteractiveShell.instance()\n",
    "        self.path = path\n",
    "\n",
    "    def load_module(self, fullname):\n",
    "        \"\"\"import a notebook as a module\"\"\"\n",
    "        path = find_notebook(fullname, self.path)\n",
    "\n",
    "        print (\"importing Jupyter notebook from %s\" % path)\n",
    "\n",
    "        # load the notebook object\n",
    "        with io.open(path, 'r', encoding='utf-8') as f:\n",
    "            nb = read(f, 4)\n",
    "\n",
    "\n",
    "        # create the module and add it to sys.modules\n",
    "        # if name in sys.modules:\n",
    "        #    return sys.modules[name]\n",
    "        mod = types.ModuleType(fullname)\n",
    "        mod.__file__ = path\n",
    "        mod.__loader__ = self\n",
    "        mod.__dict__['get_ipython'] = get_ipython\n",
    "        sys.modules[fullname] = mod\n",
    "\n",
    "        # extra work to ensure that magics that would affect the user_ns\n",
    "        # actually affect the notebook module's ns\n",
    "        save_user_ns = self.shell.user_ns\n",
    "        self.shell.user_ns = mod.__dict__\n",
    "\n",
    "        try:\n",
    "            for cell in nb.cells:\n",
    "                if cell.cell_type == 'code':\n",
    "                    # transform the input to executable Python\n",
    "                    code = self.shell.input_transformer_manager.transform_cell(cell.source)\n",
    "                    # run the code in themodule\n",
    "                    exec(code, mod.__dict__)\n",
    "        finally:\n",
    "            self.shell.user_ns = save_user_ns\n",
    "        return mod\n",
    "\n",
    "    \n",
    "class NotebookFinder(object):\n",
    "    \"\"\"Module finder that locates Jupyter Notebooks\"\"\"\n",
    "    def __init__(self):\n",
    "        self.loaders = {}\n",
    "\n",
    "    def find_module(self, fullname, path=None):\n",
    "        nb_path = find_notebook(fullname, path)\n",
    "        if not nb_path:\n",
    "            return\n",
    "\n",
    "        key = path\n",
    "        if path:\n",
    "            # lists aren't hashable\n",
    "            key = os.path.sep.join(path)\n",
    "\n",
    "        if key not in self.loaders:\n",
    "            self.loaders[key] = NotebookLoader(path)\n",
    "        return self.loaders[key]\n",
    "    \n",
    "sys.meta_path.append(NotebookFinder())"
   ]
  },
  {
   "cell_type": "markdown",
   "metadata": {},
   "source": [
    "### Import Notebooks\n",
    "This cell imports all required notebooks."
   ]
  },
  {
   "cell_type": "code",
   "execution_count": null,
   "metadata": {
    "ExecuteTime": {
     "end_time": "2018-03-25T21:46:49.291554Z",
     "start_time": "2018-03-25T21:46:38.386568Z"
    }
   },
   "outputs": [],
   "source": [
    "from MasterFunctions_ModelData import *\n",
    "from MasterFunctions_Capture import *\n",
    "\n",
    "# print ('Notebooks Loaded')"
   ]
  },
  {
   "cell_type": "markdown",
   "metadata": {},
   "source": [
    "## Approximation Cross Section"
   ]
  },
  {
   "cell_type": "code",
   "execution_count": null,
   "metadata": {
    "collapsed": true
   },
   "outputs": [],
   "source": [
    "def photonCrossSectionApprox(element, xi): \n",
    "    function = 1\n",
    "    return function"
   ]
  },
  {
   "cell_type": "markdown",
   "metadata": {},
   "source": [
    "## Approximation Intersection Velocity"
   ]
  },
  {
   "cell_type": "code",
   "execution_count": null,
   "metadata": {
    "collapsed": true
   },
   "outputs": [],
   "source": [
    "def photonEminEmaxIntersectionApprox(element, m_X):\n",
    "    mn = amu2GeV(atomicNumbers[element])\n",
    "    mu = (mn*m_X)/(mn+m_X)\n",
    "\n",
    "    sqrtvCross2 = np.sqrt(1.95e-9)\n",
    "    A = 1/2. * m_X\n",
    "    B = 2. * mu**2 / mn\n",
    "    uInt = np.sqrt( ( B ) / (A-B) ) * sqrtvCross2\n",
    "    \n",
    "    return uInt"
   ]
  },
  {
   "cell_type": "markdown",
   "metadata": {},
   "source": [
    "## Dark Matter Approximation"
   ]
  },
  {
   "cell_type": "markdown",
   "metadata": {
    "collapsed": true
   },
   "source": [
    "The approimation depends on the fact that u is much much smaller than vgal so we can basically just ignore it\n",
    "\n",
    "There isn't actually a real approximation, we just take u to be 0\n",
    "\n",
    "Still need to code one in to make the code happy"
   ]
  },
  {
   "cell_type": "code",
   "execution_count": null,
   "metadata": {
    "collapsed": true
   },
   "outputs": [],
   "source": [
    "# def Normalization():\n",
    "#     def function(u):\n",
    "#     # The if-else structure accounts for the Heaviside function\n",
    "#         if ((V_gal) - u < 0):\n",
    "#             integrand = 0.\n",
    "\n",
    "#         elif ( ((V_gal) - (u)) >= 0):\n",
    "#             numerator = ((V_gal)**2 - (u)**2)\n",
    "#             denominator = (k * (u_0)**2)\n",
    "#             arg = ( numerator / denominator)    \n",
    "#             integrand = 4*np.pi*(u)**2 * (np.expm1(arg))** k\n",
    "# #             integrand =  (np.expm1(arg))**k\n",
    "#         return integrand\n",
    "\n",
    "#     tempA = integrate.quad(function, 0, V_gal)[0]\n",
    "#     N_0 = 1./tempA\n",
    "#     return N_0\n",
    "\n",
    "# def DMVelDistApprox(u, N_0 = Normalization()): \n",
    "#     numerator = ( (V_gal)**2)\n",
    "#     denominator = (k * (u_0)**2)\n",
    "#     arg = ( numerator / denominator)\n",
    "#     integrand = N_0 * (np.expm1(arg)) ** k\n",
    "# #     integrand = N_0 * 4*np.pi*(u)**2 * (np.expm1(arg))** k\n",
    "\n",
    "\n",
    "#     return integrand\n",
    "\n",
    "# # print ('Complete')"
   ]
  },
  {
   "cell_type": "markdown",
   "metadata": {},
   "source": [
    "## Interpolating the Approximation"
   ]
  },
  {
   "cell_type": "code",
   "execution_count": null,
   "metadata": {
    "collapsed": true
   },
   "outputs": [],
   "source": [
    "# velRange = np.linspace(0, V_gal, 200)\n",
    "\n",
    "# DMVectApprox = []\n",
    "\n",
    "# for vel in velRange:\n",
    "#     DMVectApprox.append(DMVelDistApprox(vel))\n",
    "\n",
    "# DMVelApproxInterp = interpolate.interp1d(velRange, DMVectApprox, kind='linear')\n",
    "\n",
    "# # print ('Complete')"
   ]
  },
  {
   "cell_type": "markdown",
   "metadata": {},
   "source": [
    "### DuDER approximaiton Integral\n",
    "The approximate Maxwell-Boltzmann Distribution starts to produce noticable differences here"
   ]
  },
  {
   "cell_type": "code",
   "execution_count": null,
   "metadata": {
    "collapsed": true
   },
   "outputs": [],
   "source": [
    "def photonIntDuDErApprox(element, m_X, rIndex):\n",
    "    \n",
    "    def integrand(xi,u):\n",
    "#         fu = DMVelApproxInterp(u)\n",
    "        fu = ModDMVelInterp(0)\n",
    "        integrand = photonCrossSectionApprox(element, xi) * u * fu\n",
    "        return integrand\n",
    "    \n",
    "    uInt = photonEminEmaxIntersectionApprox(element, m_X)\n",
    "    \n",
    "    uLow = 0\n",
    "    uHigh = uInt\n",
    "    \n",
    "    xiLow = lambda u: XiMin(u, m_X)\n",
    "    xiHigh = lambda u: XiMax(element, m_X, rIndex, u)\n",
    "    integral = integrate.dblquad(integrand, uLow, uHigh, xiLow, xiHigh)[0]\n",
    "    return integral\n",
    "\n",
    "# print ('Complete')"
   ]
  },
  {
   "cell_type": "markdown",
   "metadata": {},
   "source": [
    "### Approximation Sum"
   ]
  },
  {
   "cell_type": "code",
   "execution_count": null,
   "metadata": {
    "collapsed": true
   },
   "outputs": [],
   "source": [
    "def photonSumOverRApprox(element, m_X):\n",
    "    tempSum = 0\n",
    "    for i in range(0,len(radiusList)):\n",
    "        if (0 <= i <= 270):\n",
    "            r = radiusList[i]\n",
    "            deltaR = deltaRList[i]\n",
    "#             n_N = numDensityList(element)[i]\n",
    "            n_N = 1.152740041216824e+23 # Average Core Density for Iron\n",
    "            summand = n_N * r**2 * photonIntDuDErApprox(element, m_X, i) * deltaR\n",
    "            tempSum += summand\n",
    "        \n",
    "        elif (0 <= i <= len(radiusList)):\n",
    "            r = radiusList[i]\n",
    "            deltaR = deltaRList[i]\n",
    "#             n_N = numDensityList(element)[i]\n",
    "            n_N = 3.336663525661828e+21 # Average Mantle Density for Iron\n",
    "            summand = n_N * r**2 * photonIntDuDErApprox(element, m_X, i) * deltaR\n",
    "            tempSum += summand\n",
    "\n",
    "    return tempSum\n",
    "\n",
    "# print ('Complete')"
   ]
  },
  {
   "cell_type": "markdown",
   "metadata": {},
   "source": [
    "### Full Capture Approximation"
   ]
  },
  {
   "cell_type": "code",
   "execution_count": null,
   "metadata": {
    "collapsed": true
   },
   "outputs": [],
   "source": [
    "def photonSingleElementCapApprox(element, m_X, m_A, epsilon, alpha, alpha_X):\n",
    "    Z_N = nProtons[element]\n",
    "    n_X = 0.3/m_X\n",
    "    m_N = amu2GeV(atomicNumbers[element])\n",
    "    \n",
    "    conversion = (5.06e13)**-3 * (1.52e24) # (1/cm^3 -> GeV^3)(GeV -> Sec^-1) \n",
    "    # Only change is multiplied by m_A**-4 here instead of earlier\n",
    "#     dsigma_dxi = m_X**-2 * 8 * np.pi * alpha * alpha_X * Z_N**2 * epsilon**2 * (m_N/m_X) * (m_X/m_A**4)\n",
    "#     dsigma_dxi = 8 * np.pi * alpha * alpha_X * Z_N**2 * epsilon**2 * (m_N/m_X) * m_A**-4\n",
    "    dsigma_dxi = 8 * np.pi * alpha * alpha_X * Z_N**2 * epsilon**2 * (m_N * m_X**3) * m_A**-4\n",
    "\n",
    "    prefactor = (4*np.pi)**2 * m_X**-2 * dsigma_dxi * conversion\n",
    "    \n",
    "    function =  n_X * prefactor * photonSumOverRApprox(element, m_X)\n",
    "    return function\n",
    "\n",
    "# print ('Complete')"
   ]
  },
  {
   "cell_type": "markdown",
   "metadata": {},
   "source": [
    "### Approximation Calculation"
   ]
  },
  {
   "cell_type": "code",
   "execution_count": null,
   "metadata": {
    "collapsed": true
   },
   "outputs": [],
   "source": [
    "def photonCCapApprox(m_X, m_A, epsilon, alpha, alpha_X):\n",
    "#     alpha_X = alphaTherm(m_X, m_A)\n",
    "    totalCap = 0\n",
    "    for element in elementList:\n",
    "        totalCap += photonSingleElementCapApprox(element, m_X, m_A, epsilon, alpha, alpha_X)\n",
    "    return totalCap\n",
    "\n",
    "# print ('Complete')"
   ]
  },
  {
   "cell_type": "code",
   "execution_count": null,
   "metadata": {
    "collapsed": true
   },
   "outputs": [],
   "source": []
  },
  {
   "cell_type": "code",
   "execution_count": null,
   "metadata": {
    "collapsed": true
   },
   "outputs": [],
   "source": [
    "print ('------ MasterFunctions_CaptureApproximation Loaded ------')"
   ]
  }
 ],
 "metadata": {
  "kernelspec": {
   "display_name": "Python 3",
   "language": "python",
   "name": "python3"
  },
  "language_info": {
   "codemirror_mode": {
    "name": "ipython",
    "version": 3
   },
   "file_extension": ".py",
   "mimetype": "text/x-python",
   "name": "python",
   "nbconvert_exporter": "python",
   "pygments_lexer": "ipython3",
   "version": "3.6.2"
  },
  "latex_envs": {
   "LaTeX_envs_menu_present": true,
   "autocomplete": true,
   "bibliofile": "biblio.bib",
   "cite_by": "apalike",
   "current_citInitial": 1,
   "eqLabelWithNumbers": true,
   "eqNumInitial": 1,
   "hotkeys": {
    "equation": "Ctrl-E",
    "itemize": "Ctrl-I"
   },
   "labels_anchors": false,
   "latex_user_defs": false,
   "report_style_numbering": false,
   "user_envs_cfg": false
  }
 },
 "nbformat": 4,
 "nbformat_minor": 2
}
