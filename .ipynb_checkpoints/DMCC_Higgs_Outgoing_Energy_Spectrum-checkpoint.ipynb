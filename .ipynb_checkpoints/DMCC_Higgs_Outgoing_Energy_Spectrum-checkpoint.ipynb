{
 "cells": [
  {
   "cell_type": "markdown",
   "metadata": {},
   "source": [
    "# 2 $\\rightarrow$ 4 Annihilation: Outgoing Energy Spectrum"
   ]
  },
  {
   "cell_type": "markdown",
   "metadata": {},
   "source": [
    "This notebook\n",
    "\n",
    "1). Converts the energies in a .lhe file to a .csv\n",
    "\n",
    "2). Plots a histogram of those energies from the .csv\n",
    "\n",
    "3). Generates a probability density function from the histogram of outgoing energies\n",
    "\n"
   ]
  },
  {
   "cell_type": "code",
   "execution_count": 1,
   "metadata": {
    "ExecuteTime": {
     "end_time": "2018-01-11T19:02:53.117315Z",
     "start_time": "2018-01-11T19:02:41.543733Z"
    }
   },
   "outputs": [
    {
     "name": "stdout",
     "output_type": "stream",
     "text": [
      "Complete\n"
     ]
    }
   ],
   "source": [
    "import numpy as np\n",
    "\n",
    "import pandas as pd\n",
    "import matplotlib.pyplot as plt\n",
    "from scipy import interpolate\n",
    "import scipy.integrate as integrate\n",
    "\n",
    "print ('Complete')"
   ]
  },
  {
   "cell_type": "code",
   "execution_count": 2,
   "metadata": {
    "ExecuteTime": {
     "end_time": "2018-01-11T19:02:53.140892Z",
     "start_time": "2018-01-11T19:02:53.119319Z"
    }
   },
   "outputs": [
    {
     "name": "stdout",
     "output_type": "stream",
     "text": [
      "Complete\n"
     ]
    }
   ],
   "source": [
    "def eventFilePath(fileName):\n",
    "    return 'DarkHiggsCapture/LHEEventFiles/' + fileName\n",
    "\n",
    "def CSVFilePath(fileName):\n",
    "    return 'DarkHiggsCapture/CSVEventFiles/' + fileName\n",
    "\n",
    "print ('Complete')"
   ]
  },
  {
   "cell_type": "markdown",
   "metadata": {},
   "source": [
    "## LHE file to CSV Conversion"
   ]
  },
  {
   "cell_type": "markdown",
   "metadata": {},
   "source": [
    "This cell reads in a MadGraph .lhe file and converts the outgoing energies to a .csv. \n",
    "\n",
    "To make the following cells work properly, in the .lhe file, YOU must:\n",
    "\n",
    "    1). Strip off (delete) all header material \n",
    "    \n",
    "    2). Remove the [return] before and after the first and last <event> tags\n",
    "    \n",
    "As a final check, your .lhe file should look like:\n",
    "\n",
    "    <LesHouchesEvents version=\"3.0\">\n",
    "        <event>\n",
    "            ...\n",
    "        </event>\n",
    "    </LesHouchesEvents>"
   ]
  },
  {
   "cell_type": "code",
   "execution_count": 4,
   "metadata": {
    "ExecuteTime": {
     "end_time": "2018-01-11T00:04:39.515968Z",
     "start_time": "2018-01-11T00:04:30.957687Z"
    },
    "code_folding": []
   },
   "outputs": [
    {
     "name": "stdout",
     "output_type": "stream",
     "text": [
      "Lhe File: ii\n"
     ]
    },
    {
     "ename": "FileNotFoundError",
     "evalue": "[Errno 2] No such file or directory: 'LHEEventFiles/ii'",
     "output_type": "error",
     "traceback": [
      "\u001b[1;31m---------------------------------------------------------------------------\u001b[0m",
      "\u001b[1;31mFileNotFoundError\u001b[0m                         Traceback (most recent call last)",
      "\u001b[1;32m<ipython-input-4-880bbb75130c>\u001b[0m in \u001b[0;36m<module>\u001b[1;34m()\u001b[0m\n\u001b[0;32m      1\u001b[0m \u001b[0mname\u001b[0m \u001b[1;33m=\u001b[0m \u001b[0minput\u001b[0m\u001b[1;33m(\u001b[0m\u001b[1;34m'Lhe File: '\u001b[0m\u001b[1;33m)\u001b[0m\u001b[1;33m\u001b[0m\u001b[0m\n\u001b[1;32m----> 2\u001b[1;33m \u001b[0mlhefile\u001b[0m \u001b[1;33m=\u001b[0m \u001b[0mopen\u001b[0m\u001b[1;33m(\u001b[0m\u001b[0meventFilePath\u001b[0m\u001b[1;33m(\u001b[0m\u001b[0mname\u001b[0m\u001b[1;33m)\u001b[0m\u001b[1;33m)\u001b[0m\u001b[1;33m\u001b[0m\u001b[0m\n\u001b[0m\u001b[0;32m      3\u001b[0m \u001b[1;33m\u001b[0m\u001b[0m\n\u001b[0;32m      4\u001b[0m \u001b[1;31m############################\u001b[0m\u001b[1;33m\u001b[0m\u001b[1;33m\u001b[0m\u001b[0m\n\u001b[0;32m      5\u001b[0m \u001b[1;31m###### Usefull Things ######\u001b[0m\u001b[1;33m\u001b[0m\u001b[1;33m\u001b[0m\u001b[0m\n",
      "\u001b[1;31mFileNotFoundError\u001b[0m: [Errno 2] No such file or directory: 'LHEEventFiles/ii'"
     ]
    }
   ],
   "source": [
    "name = input('Lhe File: ')\n",
    "lhefile = open(eventFilePath(name))\n",
    "\n",
    "############################\n",
    "###### Usefull Things ######\n",
    "# file.read()\n",
    "# file.readline()\n",
    "############################\n",
    "\n",
    "dictionary = {}\n",
    "counterArray = []\n",
    "energyArrayRaw = []\n",
    "counter = 0\n",
    "for line in lhefile: # loops through all lines\n",
    "#     print (line.split()) # Prints line\n",
    "#     print (line.split()[0])  # Prints first element of line vector separated by whitespace\n",
    "#     print (line.split()[0][0]) # Prints first element of first vector\n",
    "#     if (line.split()[0] == '-15'):\n",
    "#         print (line.split())\n",
    "#     elif (line.split()[0] == '15'):\n",
    "#         print (line.split())\n",
    "\n",
    "\n",
    "    if (line.split()[0] == '25'):\n",
    "        counter += 1\n",
    "        value = float(line.split()[9])\n",
    "        \n",
    "        dictionary.update({'{0}'.format(counter):'{0}'.format(value)})\n",
    "        counterArray.append(counter)\n",
    "        energyArrayRaw.append(value)\n",
    "\n",
    "#############################\n",
    "# Write to Data Frame\n",
    "# dataFrame = pd.DataFrame(data = dictionary.values(), columns = dictionary.keys())\n",
    "# dataFrame = pd.DataFrame(data=dictionary, index = dictionary.keys())\n",
    "#############################\n",
    "dataFrame = pd.DataFrame(energyArrayRaw, columns = ['Energy'])\n",
    "csvFileName = input('CSV File Name: ')\n",
    "dataFrame.to_csv(CSVFilePath(csvFileName), index = False)\n",
    "\n",
    "print ('Complete')"
   ]
  },
  {
   "cell_type": "markdown",
   "metadata": {},
   "source": [
    "## Plot Outgiong Energy Distribution"
   ]
  },
  {
   "cell_type": "markdown",
   "metadata": {},
   "source": [
    "This cell reads in a csv file and creates a histogram of the data\n",
    "\n",
    "The variable \"nBins\" determines the quality of the PDF interpolation from the histogram. A higher number of bins yields a more accurate interpolation."
   ]
  },
  {
   "cell_type": "code",
   "execution_count": 22,
   "metadata": {
    "ExecuteTime": {
     "end_time": "2018-01-11T19:26:44.417204Z",
     "start_time": "2018-01-11T19:26:40.436490Z"
    }
   },
   "outputs": [
    {
     "name": "stdout",
     "output_type": "stream",
     "text": [
      "Input CSV File: 3000GeV.csv\n"
     ]
    },
    {
     "data": {
      "image/png": "[encoded data removed]",
      "text/plain": [
       "<matplotlib.figure.Figure at 0x214e52c7c18>"
      ]
     },
     "metadata": {},
     "output_type": "display_data"
    },
    {
     "name": "stdout",
     "output_type": "stream",
     "text": [
      "Complete\n"
     ]
    }
   ],
   "source": [
    "fileIn = input('Input CSV File: ')\n",
    "dataIn = pd.read_csv(CSVFilePath(fileIn),sep = ',')\n",
    "energyArrayRaw = dataIn['Energy']\n",
    "\n",
    "\n",
    "nPoints = len(energyArrayRaw)\n",
    "nBins = 300\n",
    "binWidth = (max(energyArrayRaw)-min(energyArrayRaw))/nBins\n",
    "\n",
    "plt.figure(figsize=(6,5))\n",
    "normedenergyArray = np.array([])\n",
    "\n",
    "#############\n",
    "# This one JUST plots the histogram\n",
    "# plt.hist(energyArrayRaw, bins = nBins, normed = True)\n",
    "\n",
    "###################\n",
    "# This one actually pulls out the NORMED bins which can be interpolated into a PDF\n",
    "normedEnergyArray = plt.hist(energyArrayRaw, bins = nBins, normed = True)[0]\n",
    "plt.suptitle('Histogram of outgoing 2 to 4 Annihilation Energies', fontsize = '14')\n",
    "# plt.title('Bin Width = {0} GeV'.format(round(binWidth,3)), loc = 'right', fontsize = '12')\n",
    "plt.title('nPoints = {0}, nBins = {1}, BinWidth = {2} GeV'.format(nPoints,nBins, round(binWidth,3)),loc = 'left', fontsize = '12')\n",
    "plt.xlabel('Energy [GeV]')\n",
    "plt.ylabel('Number')\n",
    "plt.show()\n",
    "\n",
    "print ('Complete')"
   ]
  },
  {
   "cell_type": "markdown",
   "metadata": {
    "collapsed": true
   },
   "source": [
    "## Generate Probability Density Function from Histogram\n",
    "\n",
    "The simple approach is to extract the left or right bound of each bin and use that as your x-values for the interpolation. However, neither bound will work, because we end up interpolating over the ENTIRE array of energy values, and we will always lose one value depending if we pick the left/right bound of each bin. \n",
    "\n",
    "The solution is to divide up the total interpolation range into evenly spaced intervals, independent of the histogram bin widths."
   ]
  },
  {
   "cell_type": "code",
   "execution_count": 23,
   "metadata": {
    "ExecuteTime": {
     "end_time": "2018-01-11T19:27:51.124690Z",
     "start_time": "2018-01-11T19:27:46.964596Z"
    }
   },
   "outputs": [
    {
     "name": "stdout",
     "output_type": "stream",
     "text": [
      "Input CSV File: 3000GeV.csv\n",
      "Interpolation Integration: (1.0018969521603711, 0.005874552766909513)\n"
     ]
    },
    {
     "name": "stderr",
     "output_type": "stream",
     "text": [
      "C:\\Users\\Adam Green\\Anaconda3\\lib\\site-packages\\scipy\\integrate\\quadpack.py:364: IntegrationWarning: The maximum number of subdivisions (50) has been achieved.\n",
      "  If increasing the limit yields no improvement it is advised to analyze \n",
      "  the integrand in order to determine the difficulties.  If the position of a \n",
      "  local difficulty can be determined (singularity, discontinuity) one will \n",
      "  probably gain from splitting up the interval and calling the integrator \n",
      "  on the subranges.  Perhaps a special-purpose integrator should be used.\n",
      "  warnings.warn(msg, IntegrationWarning)\n"
     ]
    },
    {
     "data": {
      "image/png": "[encoded data removed]",
      "text/plain": [
       "<matplotlib.figure.Figure at 0x214e583e9e8>"
      ]
     },
     "metadata": {},
     "output_type": "display_data"
    },
    {
     "name": "stdout",
     "output_type": "stream",
     "text": [
      "Complete\n"
     ]
    }
   ],
   "source": [
    "# Read in an .csv file\n",
    "fileIn = input('Input CSV File: ')\n",
    "dataIn = pd.read_csv(CSVFilePath(fileIn),sep = ',')\n",
    "energyArrayRaw = dataIn['Energy']\n",
    "\n",
    "# We do it this way because we NEED to include BOTH endpoints of the energy to interpolate over\n",
    "# This is the x-list we will interpolate over\n",
    "interpEnergyArray = np.linspace(min(energyArrayRaw), max(energyArrayRaw), nBins)\n",
    "\n",
    "# Interpolation\n",
    "energyPDF = interpolate.interp1d(interpEnergyArray,normedEnergyArray, kind = 'linear')\n",
    "\n",
    "# Interpolation Test\n",
    "# Since this is a Probability Density Function, it should integrate to 1\n",
    "testValue = integrate.quad(energyPDF, min(energyArrayRaw), max(energyArrayRaw))\n",
    "print ('Interpolation Integration: {0}'. format(testValue))\n",
    "\n",
    "# Plot of the Interpolation\n",
    "# Increasing the last argument of pltRange beyond nBins yields no improvement in the plot,\n",
    "#     you are adding data where there isn't any\n",
    "pltRange = np.linspace(min(energyArrayRaw),max(energyArrayRaw), nBins)\n",
    "\n",
    "plt.plot(pltRange, energyPDF(pltRange))\n",
    "plt.suptitle('Interpolation of Recoil Energy')\n",
    "plt.title('Best-case Interpolation')\n",
    "plt.show()\n",
    "\n",
    "print ('Complete')"
   ]
  },
  {
   "cell_type": "markdown",
   "metadata": {
    "collapsed": true
   },
   "source": [
    "## Sanity Checks\n",
    "\n",
    "In this cell, we check the average Energy of the PDF by computing it two ways:\n",
    "\n",
    "1). Integrating the PDF\n",
    "\n",
    "\\begin{equation}\n",
    "    \\langle E \\rangle = \\int_{Energy} PDF(E) \\ E \\ dE\n",
    "\\end{equation}\n",
    "\n",
    "2). Using the arithmetic average of energies from the .lhe file\n",
    "\n",
    "\\begin{equation}\n",
    "    \\langle E \\rangle =\\frac{\\sum_{i}^N E_i}{N}\n",
    "\\end{equation}"
   ]
  },
  {
   "cell_type": "code",
   "execution_count": 24,
   "metadata": {
    "ExecuteTime": {
     "end_time": "2018-01-11T19:28:08.392318Z",
     "start_time": "2018-01-11T19:28:04.324337Z"
    }
   },
   "outputs": [
    {
     "name": "stdout",
     "output_type": "stream",
     "text": [
      "Input CSV File: 3000GeV.csv\n"
     ]
    },
    {
     "name": "stderr",
     "output_type": "stream",
     "text": [
      "C:\\Users\\Adam Green\\Anaconda3\\lib\\site-packages\\scipy\\integrate\\quadpack.py:364: IntegrationWarning: The maximum number of subdivisions (50) has been achieved.\n",
      "  If increasing the limit yields no improvement it is advised to analyze \n",
      "  the integrand in order to determine the difficulties.  If the position of a \n",
      "  local difficulty can be determined (singularity, discontinuity) one will \n",
      "  probably gain from splitting up the interval and calling the integrator \n",
      "  on the subranges.  Perhaps a special-purpose integrator should be used.\n",
      "  warnings.warn(msg, IntegrationWarning)\n"
     ]
    },
    {
     "name": "stdout",
     "output_type": "stream",
     "text": [
      "Method 1: (1501.9158128721751, 7.664886295626502)\n",
      "Method 2: 1500.0000000001073\n"
     ]
    }
   ],
   "source": [
    "# Read in an energy .csv\n",
    "fileIn = input('Input CSV File: ')\n",
    "dataIn = pd.read_csv(CSVFilePath(fileIn),sep = ',')\n",
    "energyArrayRaw = dataIn['Energy']\n",
    "\n",
    "def avgIntegrand(E):\n",
    "    return energyPDF(E) * E\n",
    "\n",
    "lowE  = min(energyArrayRaw)\n",
    "highE = max(energyArrayRaw)\n",
    "avg1 = integrate.quad(avgIntegrand, lowE, highE)\n",
    "\n",
    "\n",
    "def arithAvg(data):\n",
    "    runSum = 0\n",
    "    for i in range(0,len(data)):\n",
    "        runSum += data[i]\n",
    "        \n",
    "    return runSum / len(data)\n",
    "\n",
    "avg2 = arithAvg(energyArrayRaw)\n",
    "\n",
    "print ('Method 1: {0}'.format(avg1))\n",
    "print ('Method 2: {0}'.format(avg2))"
   ]
  },
  {
   "cell_type": "code",
   "execution_count": null,
   "metadata": {
    "collapsed": true
   },
   "outputs": [],
   "source": []
  }
 ],
 "metadata": {
  "kernelspec": {
   "display_name": "Python 3",
   "language": "python",
   "name": "python3"
  },
  "language_info": {
   "codemirror_mode": {
    "name": "ipython",
    "version": 3
   },
   "file_extension": ".py",
   "mimetype": "text/x-python",
   "name": "python",
   "nbconvert_exporter": "python",
   "pygments_lexer": "ipython3",
   "version": "3.6.2"
  },
  "latex_envs": {
   "LaTeX_envs_menu_present": true,
   "autocomplete": false,
   "bibliofile": "biblio.bib",
   "cite_by": "apalike",
   "current_citInitial": 1,
   "eqLabelWithNumbers": true,
   "eqNumInitial": 1,
   "hotkeys": {
    "equation": "Ctrl-E",
    "itemize": "Ctrl-I"
   },
   "labels_anchors": false,
   "latex_user_defs": false,
   "report_style_numbering": false,
   "user_envs_cfg": false
  }
 },
 "nbformat": 4,
 "nbformat_minor": 2
}
