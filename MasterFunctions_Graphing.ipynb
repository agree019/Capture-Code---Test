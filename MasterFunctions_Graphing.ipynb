{
 "cells": [
  {
   "cell_type": "markdown",
   "metadata": {},
   "source": [
    "# MasterFunctions_Graphing"
   ]
  },
  {
   "cell_type": "code",
   "execution_count": null,
   "metadata": {
    "collapsed": true
   },
   "outputs": [],
   "source": [
    "from MasterFunctions_ModelData import *\n",
    "import matplotlib as mpl"
   ]
  },
  {
   "cell_type": "markdown",
   "metadata": {},
   "source": [
    "## Plotting Definitions"
   ]
  },
  {
   "cell_type": "markdown",
   "metadata": {},
   "source": [
    "### Color Dictionaries and color cycler"
   ]
  },
  {
   "cell_type": "code",
   "execution_count": null,
   "metadata": {
    "collapsed": true
   },
   "outputs": [],
   "source": [
    "####################################\n",
    "# Color Schemes for contour plots\n",
    "#####################################\n",
    "\n",
    "# colorDictionary1 = {\n",
    "#     'color1': '#c7c47e',\n",
    "#     'color2': '#94ab72',\n",
    "#     'color3': '#428583',\n",
    "#     'color4': '#40379f',\n",
    "#     'color5': '#3d0b7e'\n",
    "# }\n",
    "\n",
    "# colorDictionary2 = {\n",
    "#     'color1': '#f69393',\n",
    "#     'color2': '#c67393',\n",
    "#     'color3': '#965393',\n",
    "#     'color4': '#663393',\n",
    "#     'color5': '#361393'\n",
    "# }\n",
    "\n",
    "# colorDictionary3 = {\n",
    "#     'color1': '#f4365c',\n",
    "#     'color2': '#f4bd39',\n",
    "#     'color3': '#aeee64',\n",
    "#     'color4': '#91e7cb',\n",
    "#     'color5': '#937fd4'\n",
    "# }\n",
    "\n",
    "####################################\n",
    "# Color cycler for color schemes\n",
    "####################################\n",
    "colorScheme1 = mpl.cycler(color=['#c7c47e','#94ab72','#428583','#40379f','#3d0b7e']) \n",
    "colorScheme2 = mpl.cycler(color=['#f69393','#c67393','#965393','#663393','#361393'])  \n",
    "colorScheme3 = mpl.cycler(color=['#f4365c','#f4bd39','#aeee64','#91e7cb','#937fd4'])\n"
   ]
  },
  {
   "cell_type": "code",
   "execution_count": null,
   "metadata": {
    "collapsed": true
   },
   "outputs": [],
   "source": [
    "print ('------ MasterFunctions_Graphing Loaded ------')"
   ]
  }
 ],
 "metadata": {
  "kernelspec": {
   "display_name": "Python 3",
   "language": "python",
   "name": "python3"
  },
  "language_info": {
   "codemirror_mode": {
    "name": "ipython",
    "version": 3
   },
   "file_extension": ".py",
   "mimetype": "text/x-python",
   "name": "python",
   "nbconvert_exporter": "python",
   "pygments_lexer": "ipython3",
   "version": "3.6.2"
  },
  "latex_envs": {
   "LaTeX_envs_menu_present": true,
   "autocomplete": false,
   "bibliofile": "biblio.bib",
   "cite_by": "apalike",
   "current_citInitial": 1,
   "eqLabelWithNumbers": true,
   "eqNumInitial": 1,
   "hotkeys": {
    "equation": "Ctrl-E",
    "itemize": "Ctrl-I"
   },
   "labels_anchors": false,
   "latex_user_defs": false,
   "report_style_numbering": false,
   "user_envs_cfg": false
  }
 },
 "nbformat": 4,
 "nbformat_minor": 2
}
