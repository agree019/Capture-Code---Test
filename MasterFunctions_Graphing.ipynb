{
 "cells": [
  {
   "cell_type": "markdown",
   "metadata": {},
   "source": [
    "# MasterFunctions_Graphing"
   ]
  },
  {
   "cell_type": "code",
   "execution_count": null,
   "metadata": {
    "collapsed": true
   },
   "outputs": [],
   "source": [
    "from MasterFunctions_ModelData import *\n",
    "import matplotlib as mpl"
   ]
  },
  {
   "cell_type": "markdown",
   "metadata": {
    "heading_collapsed": true
   },
   "source": [
    "## Plotting Definitions"
   ]
  },
  {
   "cell_type": "markdown",
   "metadata": {
    "heading_collapsed": true,
    "hidden": true
   },
   "source": [
    "### Color Dictionaries and color cycler"
   ]
  },
  {
   "cell_type": "code",
   "execution_count": null,
   "metadata": {
    "collapsed": true,
    "hidden": true
   },
   "outputs": [],
   "source": [
    "####################################\n",
    "# Color Schemes for contour plots\n",
    "#####################################\n",
    "\n",
    "colorDictionary1 = {\n",
    "    '-4': '#c7c47e',\n",
    "    '-2': '#94ab72',\n",
    "    '0': '#428583',\n",
    "    '2': '#40379f',\n",
    "    '4': '#3d0b7e'\n",
    "}\n",
    "\n",
    "colorDictionary2 = {\n",
    "    '-4': '#f69393',\n",
    "    '-2': '#c67393',\n",
    "    '0': '#965393',\n",
    "    '2': '#663393',\n",
    "    '4': '#361393'\n",
    "}\n",
    "\n",
    "colorDictionary3 = {\n",
    "    '-4': '#f4365c',\n",
    "    '-2': '#f4bd39',\n",
    "    '0': '#aeee64',\n",
    "    '2': '#91e7cb',\n",
    "    '4': '#937fd4'\n",
    "}\n",
    "\n",
    "####################################\n",
    "# Color cycler for color schemes\n",
    "####################################\n",
    "colorScheme1 = mpl.cycler(color=['#c7c47e','#94ab72','#428583','#40379f','#3d0b7e']) \n",
    "colorScheme2 = mpl.cycler(color=['#f69393','#c67393','#965393','#663393','#361393'])  \n",
    "colorScheme3 = mpl.cycler(color=['#f4365c','#f4bd39','#aeee64','#91e7cb','#937fd4'])\n"
   ]
  },
  {
   "cell_type": "markdown",
   "metadata": {
    "heading_collapsed": true,
    "hidden": true
   },
   "source": [
    "### Aspect Ratio Adjustment"
   ]
  },
  {
   "cell_type": "code",
   "execution_count": 62,
   "metadata": {
    "collapsed": true,
    "hidden": true
   },
   "outputs": [],
   "source": [
    "####################################\n",
    "# Force-Adjust the aspect ratio of plots\n",
    "####################################\n",
    "\n",
    "# Kludge for adjusting the aspect ratio of plots\n",
    "def adjustFigAspect(fig,aspect=1):\n",
    "    '''\n",
    "    Adjust the subplot parameters so that the figure has the correct\n",
    "    aspect ratio.\n",
    "    '''\n",
    "    xsize,ysize = fig.get_size_inches()\n",
    "    minsize = min(xsize,ysize)\n",
    "    xlim = .4*minsize/xsize\n",
    "    ylim = .4*minsize/ysize\n",
    "    if aspect < 1:\n",
    "        xlim *= aspect\n",
    "    else:\n",
    "        ylim /= aspect\n",
    "    fig.subplots_adjust(left=.5-xlim,\n",
    "                        right=.5+xlim,\n",
    "                        bottom=.5-ylim,\n",
    "                        top=.5+ylim)\n"
   ]
  },
  {
   "cell_type": "code",
   "execution_count": null,
   "metadata": {
    "collapsed": true,
    "hidden": true
   },
   "outputs": [],
   "source": [
    "print ('------ MasterFunctions_Graphing Loaded ------')"
   ]
  }
 ],
 "metadata": {
  "kernelspec": {
   "display_name": "Python 3",
   "language": "python",
   "name": "python3"
  },
  "language_info": {
   "codemirror_mode": {
    "name": "ipython",
    "version": 3
   },
   "file_extension": ".py",
   "mimetype": "text/x-python",
   "name": "python",
   "nbconvert_exporter": "python",
   "pygments_lexer": "ipython3",
   "version": "3.6.2"
  },
  "latex_envs": {
   "LaTeX_envs_menu_present": true,
   "autocomplete": false,
   "bibliofile": "biblio.bib",
   "cite_by": "apalike",
   "current_citInitial": 1,
   "eqLabelWithNumbers": true,
   "eqNumInitial": 1,
   "hotkeys": {
    "equation": "Ctrl-E",
    "itemize": "Ctrl-I"
   },
   "labels_anchors": false,
   "latex_user_defs": false,
   "report_style_numbering": false,
   "user_envs_cfg": false
  }
 },
 "nbformat": 4,
 "nbformat_minor": 2
}
